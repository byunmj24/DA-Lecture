{
  "nbformat": 4,
  "nbformat_minor": 0,
  "metadata": {
    "colab": {
      "name": "20211122.numpy_실습.ipynb",
      "provenance": []
    },
    "kernelspec": {
      "name": "python3",
      "display_name": "Python 3"
    },
    "language_info": {
      "name": "python"
    }
  },
  "cells": [
    {
      "cell_type": "code",
      "metadata": {
        "colab": {
          "base_uri": "https://localhost:8080/"
        },
        "id": "Ki06zbzGBowo",
        "outputId": "a9c84887-a54d-4cbf-d41d-2274fe6c7e5b"
      },
      "source": [
        "!pip install numpy"
      ],
      "execution_count": null,
      "outputs": [
        {
          "output_type": "stream",
          "name": "stdout",
          "text": [
            "Requirement already satisfied: numpy in /usr/local/lib/python3.7/dist-packages (1.19.5)\n"
          ]
        }
      ]
    },
    {
      "cell_type": "code",
      "metadata": {
        "id": "ekwV4HOcCIq5"
      },
      "source": [
        "import numpy as np"
      ],
      "execution_count": null,
      "outputs": []
    },
    {
      "cell_type": "code",
      "metadata": {
        "colab": {
          "base_uri": "https://localhost:8080/"
        },
        "id": "f0h5D8FlCJpL",
        "outputId": "381a5922-99f3-425a-d5d7-3a71fdefbbd8"
      },
      "source": [
        "print(\"hello\")"
      ],
      "execution_count": null,
      "outputs": [
        {
          "output_type": "stream",
          "name": "stdout",
          "text": [
            "hello\n"
          ]
        }
      ]
    },
    {
      "cell_type": "code",
      "metadata": {
        "colab": {
          "base_uri": "https://localhost:8080/"
        },
        "id": "A0lw7qDhCYKC",
        "outputId": "d68593d3-31ab-40ed-bc96-a5b6bcfbe4dc"
      },
      "source": [
        "!ls -al"
      ],
      "execution_count": null,
      "outputs": [
        {
          "output_type": "stream",
          "name": "stdout",
          "text": [
            "total 16\n",
            "drwxr-xr-x 1 root root 4096 Nov 18 14:36 .\n",
            "drwxr-xr-x 1 root root 4096 Nov 22 05:03 ..\n",
            "drwxr-xr-x 4 root root 4096 Nov 18 14:35 .config\n",
            "drwxr-xr-x 1 root root 4096 Nov 18 14:36 sample_data\n"
          ]
        }
      ]
    },
    {
      "cell_type": "code",
      "metadata": {
        "colab": {
          "base_uri": "https://localhost:8080/"
        },
        "id": "APwaduFqCm8_",
        "outputId": "28ad146a-3918-4ae7-d1c1-abbc19dc50ae"
      },
      "source": [
        "!pip install pandas"
      ],
      "execution_count": null,
      "outputs": [
        {
          "output_type": "stream",
          "name": "stdout",
          "text": [
            "Requirement already satisfied: pandas in /usr/local/lib/python3.7/dist-packages (1.1.5)\n",
            "Requirement already satisfied: python-dateutil>=2.7.3 in /usr/local/lib/python3.7/dist-packages (from pandas) (2.8.2)\n",
            "Requirement already satisfied: numpy>=1.15.4 in /usr/local/lib/python3.7/dist-packages (from pandas) (1.19.5)\n",
            "Requirement already satisfied: pytz>=2017.2 in /usr/local/lib/python3.7/dist-packages (from pandas) (2018.9)\n",
            "Requirement already satisfied: six>=1.5 in /usr/local/lib/python3.7/dist-packages (from python-dateutil>=2.7.3->pandas) (1.15.0)\n"
          ]
        }
      ]
    },
    {
      "cell_type": "code",
      "metadata": {
        "id": "nXwUoHlNDOjo"
      },
      "source": [
        "import numpy as np"
      ],
      "execution_count": null,
      "outputs": []
    },
    {
      "cell_type": "code",
      "metadata": {
        "colab": {
          "base_uri": "https://localhost:8080/"
        },
        "id": "3AXg1AknDWtN",
        "outputId": "83057ded-e79c-406f-fd2d-6188477be3ca"
      },
      "source": [
        "l = [1,2,3,4,5]\n",
        "print(l)"
      ],
      "execution_count": null,
      "outputs": [
        {
          "output_type": "stream",
          "name": "stdout",
          "text": [
            "[1, 2, 3, 4, 5]\n"
          ]
        }
      ]
    },
    {
      "cell_type": "code",
      "metadata": {
        "colab": {
          "base_uri": "https://localhost:8080/"
        },
        "id": "XLDyAPg7DtvM",
        "outputId": "53a0246a-3504-40ad-b3b3-698e728f9e8f"
      },
      "source": [
        "print(len(l))"
      ],
      "execution_count": null,
      "outputs": [
        {
          "output_type": "stream",
          "name": "stdout",
          "text": [
            "5\n"
          ]
        }
      ]
    },
    {
      "cell_type": "code",
      "metadata": {
        "colab": {
          "base_uri": "https://localhost:8080/"
        },
        "id": "k8SKZazsD6l6",
        "outputId": "e3f1b57e-f723-46f3-9aea-948a826ce592"
      },
      "source": [
        "print(l[2])"
      ],
      "execution_count": null,
      "outputs": [
        {
          "output_type": "stream",
          "name": "stdout",
          "text": [
            "3\n"
          ]
        }
      ]
    },
    {
      "cell_type": "code",
      "metadata": {
        "id": "Y7ym6GIzEFMt"
      },
      "source": [
        "l2 = [[0,1],\n",
        "      [2,3],\n",
        "      [4,5]]"
      ],
      "execution_count": null,
      "outputs": []
    },
    {
      "cell_type": "code",
      "metadata": {
        "colab": {
          "base_uri": "https://localhost:8080/"
        },
        "id": "hMvAhf8JENEu",
        "outputId": "6b77c595-0182-4e46-97d4-2ed7fe56f976"
      },
      "source": [
        "print(l2[1])"
      ],
      "execution_count": null,
      "outputs": [
        {
          "output_type": "stream",
          "name": "stdout",
          "text": [
            "[2, 3]\n"
          ]
        }
      ]
    },
    {
      "cell_type": "code",
      "metadata": {
        "colab": {
          "base_uri": "https://localhost:8080/"
        },
        "id": "B-iRCo2yE19m",
        "outputId": "5d6ab651-c79a-44fb-ad18-95716628cf19"
      },
      "source": [
        "print(l2[1][1])"
      ],
      "execution_count": null,
      "outputs": [
        {
          "output_type": "stream",
          "name": "stdout",
          "text": [
            "3\n"
          ]
        }
      ]
    },
    {
      "cell_type": "code",
      "metadata": {
        "colab": {
          "base_uri": "https://localhost:8080/"
        },
        "id": "5OdU8kAdFC3X",
        "outputId": "2eb34ab4-7322-4ebe-933b-7e572bcfa274"
      },
      "source": [
        "n = np.array(l)\n",
        "print(n)"
      ],
      "execution_count": null,
      "outputs": [
        {
          "output_type": "stream",
          "name": "stdout",
          "text": [
            "[1 2 3 4 5]\n"
          ]
        }
      ]
    },
    {
      "cell_type": "code",
      "metadata": {
        "colab": {
          "base_uri": "https://localhost:8080/"
        },
        "id": "jRmYV-fiFTkI",
        "outputId": "573f2bbf-6d0a-4e57-8062-d0eb36316c1c"
      },
      "source": [
        "n = np.array([1,2,3,4,5])\n",
        "print(n)"
      ],
      "execution_count": null,
      "outputs": [
        {
          "output_type": "stream",
          "name": "stdout",
          "text": [
            "[1 2 3 4 5]\n"
          ]
        }
      ]
    },
    {
      "cell_type": "code",
      "metadata": {
        "colab": {
          "base_uri": "https://localhost:8080/"
        },
        "id": "2HXhpL1bFtrt",
        "outputId": "232f548f-811a-42aa-e0a6-26234ac1ef73"
      },
      "source": [
        "print(n[2])"
      ],
      "execution_count": null,
      "outputs": [
        {
          "output_type": "stream",
          "name": "stdout",
          "text": [
            "3\n"
          ]
        }
      ]
    },
    {
      "cell_type": "code",
      "metadata": {
        "colab": {
          "base_uri": "https://localhost:8080/"
        },
        "id": "yjw8fTQXF1eh",
        "outputId": "9965b03f-bd65-4aff-8f37-fa50ea1ce9a4"
      },
      "source": [
        "n2 = np.array(l2)\n",
        "print(n2[1])\n",
        "print(n2[1][1])"
      ],
      "execution_count": null,
      "outputs": [
        {
          "output_type": "stream",
          "name": "stdout",
          "text": [
            "[2 3]\n",
            "3\n"
          ]
        }
      ]
    },
    {
      "cell_type": "code",
      "metadata": {
        "colab": {
          "base_uri": "https://localhost:8080/"
        },
        "id": "RTHDCxvXGOxA",
        "outputId": "f7e361aa-6202-4c47-c846-cb8d30862312"
      },
      "source": [
        "print(n2[1,1])"
      ],
      "execution_count": null,
      "outputs": [
        {
          "output_type": "stream",
          "name": "stdout",
          "text": [
            "3\n"
          ]
        }
      ]
    },
    {
      "cell_type": "code",
      "metadata": {
        "colab": {
          "base_uri": "https://localhost:8080/"
        },
        "id": "zapjcxYPGX-b",
        "outputId": "b59fd842-c8fa-4fbd-adb3-c1e32868592e"
      },
      "source": [
        "a = np.arange(12)\n",
        "print(a)"
      ],
      "execution_count": null,
      "outputs": [
        {
          "output_type": "stream",
          "name": "stdout",
          "text": [
            "[ 0  1  2  3  4  5  6  7  8  9 10 11]\n"
          ]
        }
      ]
    },
    {
      "cell_type": "code",
      "metadata": {
        "colab": {
          "base_uri": "https://localhost:8080/"
        },
        "id": "4FWZeFNXGmmO",
        "outputId": "ed4e8570-8037-481f-dae1-5c296c238ca8"
      },
      "source": [
        "print(a[5])"
      ],
      "execution_count": null,
      "outputs": [
        {
          "output_type": "stream",
          "name": "stdout",
          "text": [
            "5\n"
          ]
        }
      ]
    },
    {
      "cell_type": "code",
      "metadata": {
        "colab": {
          "base_uri": "https://localhost:8080/"
        },
        "id": "U7xck7zHG_U2",
        "outputId": "d55d014a-c8a7-4c7a-fbda-f33775aa5d5e"
      },
      "source": [
        "print(a[3:7])"
      ],
      "execution_count": null,
      "outputs": [
        {
          "output_type": "stream",
          "name": "stdout",
          "text": [
            "[3 4 5 6]\n"
          ]
        }
      ]
    },
    {
      "cell_type": "code",
      "metadata": {
        "colab": {
          "base_uri": "https://localhost:8080/"
        },
        "id": "43QDiJGBHNIh",
        "outputId": "58b8b140-7dc6-4615-8e5c-5d1077d50e99"
      },
      "source": [
        "print(a[:7])"
      ],
      "execution_count": null,
      "outputs": [
        {
          "output_type": "stream",
          "name": "stdout",
          "text": [
            "[0 1 2 3 4 5 6]\n"
          ]
        }
      ]
    },
    {
      "cell_type": "code",
      "metadata": {
        "colab": {
          "base_uri": "https://localhost:8080/"
        },
        "id": "NSLOmCDYH--x",
        "outputId": "00abbba6-9634-4485-a080-3a975c5ccad1"
      },
      "source": [
        "print(a[3:])"
      ],
      "execution_count": null,
      "outputs": [
        {
          "output_type": "stream",
          "name": "stdout",
          "text": [
            "[ 3  4  5  6  7  8  9 10 11]\n"
          ]
        }
      ]
    },
    {
      "cell_type": "code",
      "metadata": {
        "colab": {
          "base_uri": "https://localhost:8080/"
        },
        "id": "4MWt4AkPH-7v",
        "outputId": "85e1beb3-3c42-46c6-d847-5a346939f37b"
      },
      "source": [
        "print(a[:])"
      ],
      "execution_count": null,
      "outputs": [
        {
          "output_type": "stream",
          "name": "stdout",
          "text": [
            "[ 0  1  2  3  4  5  6  7  8  9 10 11]\n"
          ]
        }
      ]
    },
    {
      "cell_type": "code",
      "metadata": {
        "id": "o61LnwVsIMjg"
      },
      "source": [
        "a[start:end:step]"
      ],
      "execution_count": null,
      "outputs": []
    },
    {
      "cell_type": "code",
      "metadata": {
        "colab": {
          "base_uri": "https://localhost:8080/"
        },
        "id": "2FP7ee5RIPRp",
        "outputId": "595fce9b-4b54-4a99-e26a-02ad8518a79a"
      },
      "source": [
        "print(a[3:9:2])"
      ],
      "execution_count": null,
      "outputs": [
        {
          "output_type": "stream",
          "name": "stdout",
          "text": [
            "[3 5 7]\n"
          ]
        }
      ]
    },
    {
      "cell_type": "code",
      "metadata": {
        "colab": {
          "base_uri": "https://localhost:8080/"
        },
        "id": "E42KIlhWIRvQ",
        "outputId": "bfb5867f-c197-4b21-bb44-75dbbd911c7b"
      },
      "source": [
        "print(a[3:8:3])"
      ],
      "execution_count": null,
      "outputs": [
        {
          "output_type": "stream",
          "name": "stdout",
          "text": [
            "[3 6]\n"
          ]
        }
      ]
    },
    {
      "cell_type": "markdown",
      "metadata": {
        "id": "G8l7TC5eI6Ow"
      },
      "source": [
        "```\n",
        "print(a[3:8])\n",
        "[3,4,5,6,7]\n",
        "\n",
        "\n",
        "[7,6,5,4,3]\n",
        "```"
      ]
    },
    {
      "cell_type": "code",
      "metadata": {
        "colab": {
          "base_uri": "https://localhost:8080/"
        },
        "id": "RIE2KJx6IgEJ",
        "outputId": "f43a89c1-21b3-485c-9476-65f0ce6f5413"
      },
      "source": [
        "print(a[7:2:-1])"
      ],
      "execution_count": null,
      "outputs": [
        {
          "output_type": "stream",
          "name": "stdout",
          "text": [
            "[7 6 5 4 3]\n"
          ]
        }
      ]
    },
    {
      "cell_type": "code",
      "metadata": {
        "colab": {
          "base_uri": "https://localhost:8080/"
        },
        "id": "4awzFNBNI-oO",
        "outputId": "951e5ad3-6062-4f59-819c-909277bb0874"
      },
      "source": [
        "print(a[::-1])"
      ],
      "execution_count": null,
      "outputs": [
        {
          "output_type": "stream",
          "name": "stdout",
          "text": [
            "[11 10  9  8  7  6  5  4  3  2  1  0]\n"
          ]
        }
      ]
    },
    {
      "cell_type": "code",
      "metadata": {
        "id": "buYZJJuZJrZH"
      },
      "source": [
        ""
      ],
      "execution_count": null,
      "outputs": []
    },
    {
      "cell_type": "markdown",
      "metadata": {
        "id": "Y_Hu7cI1KKMv"
      },
      "source": [
        "```\n",
        "[0,2,4,6,8,10]\n",
        "[11,9,7,5,3,1]\n",
        "[1,3,5,7,9,11]\n",
        "[10,8,6,4,2,0]\n",
        "```"
      ]
    },
    {
      "cell_type": "code",
      "metadata": {
        "colab": {
          "base_uri": "https://localhost:8080/"
        },
        "id": "u_W9_MMdKMVB",
        "outputId": "bcd9f3fd-4cc8-4bc1-a14d-ece0c5fe8004"
      },
      "source": [
        "print(a[::2])"
      ],
      "execution_count": null,
      "outputs": [
        {
          "output_type": "stream",
          "name": "stdout",
          "text": [
            "[ 0  2  4  6  8 10]\n"
          ]
        }
      ]
    },
    {
      "cell_type": "code",
      "metadata": {
        "colab": {
          "base_uri": "https://localhost:8080/"
        },
        "id": "CzHKCvoCKQyo",
        "outputId": "ff7abfaf-1087-495c-f7f7-d69291951af4"
      },
      "source": [
        "print(a[::-2])"
      ],
      "execution_count": null,
      "outputs": [
        {
          "output_type": "stream",
          "name": "stdout",
          "text": [
            "[11  9  7  5  3  1]\n"
          ]
        }
      ]
    },
    {
      "cell_type": "code",
      "metadata": {
        "colab": {
          "base_uri": "https://localhost:8080/"
        },
        "id": "MHDRr4biKUKb",
        "outputId": "b6404ef7-3f32-4d86-94bd-86644026c363"
      },
      "source": [
        "print(a[1::2])"
      ],
      "execution_count": null,
      "outputs": [
        {
          "output_type": "stream",
          "name": "stdout",
          "text": [
            "[ 1  3  5  7  9 11]\n"
          ]
        }
      ]
    },
    {
      "cell_type": "code",
      "metadata": {
        "colab": {
          "base_uri": "https://localhost:8080/"
        },
        "id": "rBKbh5wnKY2G",
        "outputId": "25171b9d-6fc6-4ced-9567-e4bc6f47a357"
      },
      "source": [
        "print(a[10::-2])"
      ],
      "execution_count": null,
      "outputs": [
        {
          "output_type": "stream",
          "name": "stdout",
          "text": [
            "[10  8  6  4  2  0]\n"
          ]
        }
      ]
    },
    {
      "cell_type": "code",
      "metadata": {
        "colab": {
          "base_uri": "https://localhost:8080/"
        },
        "id": "r6N3PCVaKdC4",
        "outputId": "b4cf5c31-af88-483f-e278-f03671150716"
      },
      "source": [
        "a = np.arange(12).reshape(    (3,4)     )\n",
        "print(a)"
      ],
      "execution_count": null,
      "outputs": [
        {
          "output_type": "stream",
          "name": "stdout",
          "text": [
            "[[ 0  1  2  3]\n",
            " [ 4  5  6  7]\n",
            " [ 8  9 10 11]]\n"
          ]
        }
      ]
    },
    {
      "cell_type": "code",
      "metadata": {
        "colab": {
          "base_uri": "https://localhost:8080/"
        },
        "id": "tpAbshshKnzM",
        "outputId": "2287d3af-2a14-4778-9f96-13edfcf2a223"
      },
      "source": [
        "print(a.shape)"
      ],
      "execution_count": null,
      "outputs": [
        {
          "output_type": "stream",
          "name": "stdout",
          "text": [
            "(3, 4)\n"
          ]
        }
      ]
    },
    {
      "cell_type": "code",
      "metadata": {
        "colab": {
          "base_uri": "https://localhost:8080/"
        },
        "id": "JfjJsRjiKr19",
        "outputId": "f4378a37-6871-469b-c384-3cadf52f242e"
      },
      "source": [
        "print(type(a.shape))"
      ],
      "execution_count": null,
      "outputs": [
        {
          "output_type": "stream",
          "name": "stdout",
          "text": [
            "<class 'tuple'>\n"
          ]
        }
      ]
    },
    {
      "cell_type": "code",
      "metadata": {
        "colab": {
          "base_uri": "https://localhost:8080/"
        },
        "id": "jpRhPy7tPPSf",
        "outputId": "9ef36863-4daa-4a64-9384-6c87775f03b6"
      },
      "source": [
        "t = (0,1,2,3)\n",
        "print(len(t))\n",
        "print(t[2])"
      ],
      "execution_count": null,
      "outputs": [
        {
          "output_type": "stream",
          "name": "stdout",
          "text": [
            "4\n",
            "2\n"
          ]
        }
      ]
    },
    {
      "cell_type": "code",
      "metadata": {
        "colab": {
          "base_uri": "https://localhost:8080/"
        },
        "id": "CMO5GgQyPXQd",
        "outputId": "f7d952e2-06b3-4610-a45c-8f2b1c64ec4d"
      },
      "source": [
        "a = np.arange(12)\n",
        "print(a.shape)"
      ],
      "execution_count": null,
      "outputs": [
        {
          "output_type": "stream",
          "name": "stdout",
          "text": [
            "(12,)\n"
          ]
        }
      ]
    },
    {
      "cell_type": "code",
      "metadata": {
        "colab": {
          "base_uri": "https://localhost:8080/"
        },
        "id": "PCxb_PE4PsZy",
        "outputId": "2a0b6912-427f-4504-c0b3-887462cf8730"
      },
      "source": [
        "a = np.arange(12).reshape((3,4))\n",
        "print(a.shape)"
      ],
      "execution_count": null,
      "outputs": [
        {
          "output_type": "stream",
          "name": "stdout",
          "text": [
            "(3, 4)\n"
          ]
        }
      ]
    },
    {
      "cell_type": "markdown",
      "metadata": {
        "id": "YvO45NczP7Lc"
      },
      "source": [
        ""
      ]
    },
    {
      "cell_type": "markdown",
      "metadata": {
        "id": "SS1M7ADvPz3I"
      },
      "source": [
        "```\n",
        "(5,4,3)\n",
        "(5,4)\n",
        "(5,)\n",
        "\n",
        "```"
      ]
    },
    {
      "cell_type": "code",
      "metadata": {
        "colab": {
          "base_uri": "https://localhost:8080/"
        },
        "id": "36MiOgxJP--H",
        "outputId": "7069c776-2340-4d6f-eee9-e80b89590ce5"
      },
      "source": [
        "a = np.arange(24).reshape((2,3,4))\n",
        "print(a.shape)"
      ],
      "execution_count": null,
      "outputs": [
        {
          "output_type": "stream",
          "name": "stdout",
          "text": [
            "(2, 3, 4)\n"
          ]
        }
      ]
    },
    {
      "cell_type": "code",
      "metadata": {
        "colab": {
          "base_uri": "https://localhost:8080/"
        },
        "id": "7cY4uuOKQB1m",
        "outputId": "ae0b2eb4-472d-4a7d-f2de-7da37d20de36"
      },
      "source": [
        "print(a)"
      ],
      "execution_count": null,
      "outputs": [
        {
          "output_type": "stream",
          "name": "stdout",
          "text": [
            "[[[ 0  1  2  3]\n",
            "  [ 4  5  6  7]\n",
            "  [ 8  9 10 11]]\n",
            "\n",
            " [[12 13 14 15]\n",
            "  [16 17 18 19]\n",
            "  [20 21 22 23]]]\n"
          ]
        }
      ]
    },
    {
      "cell_type": "code",
      "metadata": {
        "colab": {
          "base_uri": "https://localhost:8080/"
        },
        "id": "STZnMwrNQvAI",
        "outputId": "85ca95b8-e895-407c-aac0-91193ab8b457"
      },
      "source": [
        "a = np.arange(24).reshape((3,2,4))\n",
        "print(a.shape)\n",
        "print(a)"
      ],
      "execution_count": null,
      "outputs": [
        {
          "output_type": "stream",
          "name": "stdout",
          "text": [
            "(3, 2, 4)\n",
            "[[[ 0  1  2  3]\n",
            "  [ 4  5  6  7]]\n",
            "\n",
            " [[ 8  9 10 11]\n",
            "  [12 13 14 15]]\n",
            "\n",
            " [[16 17 18 19]\n",
            "  [20 21 22 23]]]\n"
          ]
        }
      ]
    },
    {
      "cell_type": "code",
      "metadata": {
        "colab": {
          "base_uri": "https://localhost:8080/"
        },
        "id": "r7n2gBR2Rbmb",
        "outputId": "750ef55f-9f14-402f-c533-46d800b97ccc"
      },
      "source": [
        "a = np.arange(96).reshape((-1,2,4))\n",
        "print(a.shape)\n",
        "print(a)"
      ],
      "execution_count": null,
      "outputs": [
        {
          "output_type": "stream",
          "name": "stdout",
          "text": [
            "(12, 2, 4)\n",
            "[[[ 0  1  2  3]\n",
            "  [ 4  5  6  7]]\n",
            "\n",
            " [[ 8  9 10 11]\n",
            "  [12 13 14 15]]\n",
            "\n",
            " [[16 17 18 19]\n",
            "  [20 21 22 23]]\n",
            "\n",
            " [[24 25 26 27]\n",
            "  [28 29 30 31]]\n",
            "\n",
            " [[32 33 34 35]\n",
            "  [36 37 38 39]]\n",
            "\n",
            " [[40 41 42 43]\n",
            "  [44 45 46 47]]\n",
            "\n",
            " [[48 49 50 51]\n",
            "  [52 53 54 55]]\n",
            "\n",
            " [[56 57 58 59]\n",
            "  [60 61 62 63]]\n",
            "\n",
            " [[64 65 66 67]\n",
            "  [68 69 70 71]]\n",
            "\n",
            " [[72 73 74 75]\n",
            "  [76 77 78 79]]\n",
            "\n",
            " [[80 81 82 83]\n",
            "  [84 85 86 87]]\n",
            "\n",
            " [[88 89 90 91]\n",
            "  [92 93 94 95]]]\n"
          ]
        }
      ]
    },
    {
      "cell_type": "code",
      "metadata": {
        "colab": {
          "base_uri": "https://localhost:8080/"
        },
        "id": "HVn8n1kKRsLN",
        "outputId": "6d544f5b-62ed-410b-ad66-e4fa12cd0449"
      },
      "source": [
        "a = np.zeros((3,4))\n",
        "print(a)"
      ],
      "execution_count": null,
      "outputs": [
        {
          "output_type": "stream",
          "name": "stdout",
          "text": [
            "[[0. 0. 0. 0.]\n",
            " [0. 0. 0. 0.]\n",
            " [0. 0. 0. 0.]]\n"
          ]
        }
      ]
    },
    {
      "cell_type": "code",
      "metadata": {
        "colab": {
          "base_uri": "https://localhost:8080/"
        },
        "id": "0yoDmAONSVJw",
        "outputId": "0a144caf-ef1a-4c27-8a3c-0f60e8d7e7a2"
      },
      "source": [
        "a = np.ones((3,4))\n",
        "print(a)"
      ],
      "execution_count": null,
      "outputs": [
        {
          "output_type": "stream",
          "name": "stdout",
          "text": [
            "[[1. 1. 1. 1.]\n",
            " [1. 1. 1. 1.]\n",
            " [1. 1. 1. 1.]]\n"
          ]
        }
      ]
    },
    {
      "cell_type": "code",
      "metadata": {
        "colab": {
          "base_uri": "https://localhost:8080/"
        },
        "id": "OnLMojCKSeWP",
        "outputId": "b0476a53-8e5f-44bb-ed8e-f3686be674a6"
      },
      "source": [
        "a = np.arange(12).reshape((3,4))\n",
        "\n",
        "b = np.ones_like(a)\n",
        "print(b)"
      ],
      "execution_count": null,
      "outputs": [
        {
          "output_type": "stream",
          "name": "stdout",
          "text": [
            "[[1 1 1 1]\n",
            " [1 1 1 1]\n",
            " [1 1 1 1]]\n"
          ]
        }
      ]
    },
    {
      "cell_type": "code",
      "metadata": {
        "colab": {
          "base_uri": "https://localhost:8080/"
        },
        "id": "7KHWwOpYSxad",
        "outputId": "2f455b5a-28e2-4e4e-fdbe-58f3350a76b1"
      },
      "source": [
        "a = np.arange(12).reshape((3,4))\n",
        "\n",
        "b = np.zeros_like(a)\n",
        "print(b)"
      ],
      "execution_count": null,
      "outputs": [
        {
          "output_type": "stream",
          "name": "stdout",
          "text": [
            "[[0 0 0 0]\n",
            " [0 0 0 0]\n",
            " [0 0 0 0]]\n"
          ]
        }
      ]
    },
    {
      "cell_type": "code",
      "metadata": {
        "colab": {
          "base_uri": "https://localhost:8080/"
        },
        "id": "f28LlKutTGVx",
        "outputId": "a86446ae-c18a-4e26-8313-c6c6bd23eac5"
      },
      "source": [
        "a = np.ones((3,4))\n",
        "a = a*2\n",
        "\n",
        "print(a)"
      ],
      "execution_count": null,
      "outputs": [
        {
          "output_type": "stream",
          "name": "stdout",
          "text": [
            "[[2. 2. 2. 2.]\n",
            " [2. 2. 2. 2.]\n",
            " [2. 2. 2. 2.]]\n"
          ]
        }
      ]
    },
    {
      "cell_type": "code",
      "metadata": {
        "colab": {
          "base_uri": "https://localhost:8080/"
        },
        "id": "Mh05mJNFTQVF",
        "outputId": "67a1aced-4b24-49b8-f5bd-00a14e825d4e"
      },
      "source": [
        "a = np.arange(12)\n",
        "print(a)\n",
        "\n",
        "m = np.mean(a)\n",
        "print(m)\n",
        "\n",
        "sd = np.std(a)\n",
        "print(sd)"
      ],
      "execution_count": null,
      "outputs": [
        {
          "output_type": "stream",
          "name": "stdout",
          "text": [
            "[ 0  1  2  3  4  5  6  7  8  9 10 11]\n",
            "5.5\n",
            "3.452052529534663\n"
          ]
        }
      ]
    },
    {
      "cell_type": "code",
      "metadata": {
        "colab": {
          "base_uri": "https://localhost:8080/"
        },
        "id": "3IlNGgFXTmnH",
        "outputId": "abb99333-d0b3-4006-bbaa-7d3cd742c08a"
      },
      "source": [
        "a = (a-m) / sd\n",
        "print(a)"
      ],
      "execution_count": null,
      "outputs": [
        {
          "output_type": "stream",
          "name": "stdout",
          "text": [
            "[-1.59325501 -1.30357228 -1.01388955 -0.72420682 -0.43452409 -0.14484136\n",
            "  0.14484136  0.43452409  0.72420682  1.01388955  1.30357228  1.59325501]\n"
          ]
        }
      ]
    },
    {
      "cell_type": "code",
      "metadata": {
        "colab": {
          "base_uri": "https://localhost:8080/"
        },
        "id": "pfBZtF8_U-KN",
        "outputId": "e11a0b04-ebcd-49f4-d8e6-065c25caf2c8"
      },
      "source": [
        "a = np.arange(4)\n",
        "\n",
        "print(a)"
      ],
      "execution_count": null,
      "outputs": [
        {
          "output_type": "stream",
          "name": "stdout",
          "text": [
            "[0 1 2 3]\n"
          ]
        }
      ]
    },
    {
      "cell_type": "code",
      "metadata": {
        "colab": {
          "base_uri": "https://localhost:8080/"
        },
        "id": "qKQeGPdaVN5H",
        "outputId": "11544b27-da71-4641-870b-9eb80a22a5ff"
      },
      "source": [
        "m = np.min(a)\n",
        "M = np.max(a)\n",
        "\n",
        "b = (a-m) / (M-m)\n",
        "print(b)"
      ],
      "execution_count": null,
      "outputs": [
        {
          "output_type": "stream",
          "name": "stdout",
          "text": [
            "[0.         0.33333333 0.66666667 1.        ]\n"
          ]
        }
      ]
    },
    {
      "cell_type": "code",
      "metadata": {
        "colab": {
          "base_uri": "https://localhost:8080/"
        },
        "id": "zAnHhHb7Wcyp",
        "outputId": "60617df9-c673-4dce-c390-36e85b13f36f"
      },
      "source": [
        "a = np.arange(4) + 2\n",
        "\n",
        "print(a)\n",
        "\n",
        "m = np.min(a)\n",
        "M = np.max(a)\n",
        "\n",
        "b = (a-m) / (M-m)\n",
        "print(b)"
      ],
      "execution_count": null,
      "outputs": [
        {
          "output_type": "stream",
          "name": "stdout",
          "text": [
            "[2 3 4 5]\n",
            "[0.         0.33333333 0.66666667 1.        ]\n"
          ]
        }
      ]
    },
    {
      "cell_type": "code",
      "metadata": {
        "colab": {
          "base_uri": "https://localhost:8080/"
        },
        "id": "Tq_2eGUMWtRE",
        "outputId": "f058e450-c6a6-4986-fc1e-1395b1e860c4"
      },
      "source": [
        "a = np.eye(5)\n",
        "print(a)"
      ],
      "execution_count": null,
      "outputs": [
        {
          "output_type": "stream",
          "name": "stdout",
          "text": [
            "[[1. 0. 0. 0. 0.]\n",
            " [0. 1. 0. 0. 0.]\n",
            " [0. 0. 1. 0. 0.]\n",
            " [0. 0. 0. 1. 0.]\n",
            " [0. 0. 0. 0. 1.]]\n"
          ]
        }
      ]
    },
    {
      "cell_type": "code",
      "metadata": {
        "colab": {
          "base_uri": "https://localhost:8080/"
        },
        "id": "_afHd_kQXXQ9",
        "outputId": "f202a801-3ace-48d0-a41a-58485823dc21"
      },
      "source": [
        "a = np.random.rand(10)\n",
        "\n",
        "print(a)"
      ],
      "execution_count": null,
      "outputs": [
        {
          "output_type": "stream",
          "name": "stdout",
          "text": [
            "[0.77224477 0.19871568 0.00552212 0.81546143 0.70685734 0.72900717\n",
            " 0.77127035 0.07404465 0.35846573 0.11586906]\n"
          ]
        }
      ]
    },
    {
      "cell_type": "code",
      "metadata": {
        "colab": {
          "base_uri": "https://localhost:8080/"
        },
        "id": "u5JjFwxhXfwm",
        "outputId": "ff1e8bc5-e99d-42f6-8809-6e8cbbaa0508"
      },
      "source": [
        "a = np.random.randint(1,7, size=10)\n",
        "print(a)"
      ],
      "execution_count": null,
      "outputs": [
        {
          "output_type": "stream",
          "name": "stdout",
          "text": [
            "[1 4 2 1 6 5 3 4 6 3]\n"
          ]
        }
      ]
    },
    {
      "cell_type": "code",
      "metadata": {
        "colab": {
          "base_uri": "https://localhost:8080/"
        },
        "id": "LsoRrJxTYMwS",
        "outputId": "30eb40be-101a-40b5-b8e0-91dde7c4be11"
      },
      "source": [
        "a = np.random.randint(7, size=10)\n",
        "print(a)"
      ],
      "execution_count": null,
      "outputs": [
        {
          "output_type": "stream",
          "name": "stdout",
          "text": [
            "[2 0 2 4 6 5 2 0 4 1]\n"
          ]
        }
      ]
    },
    {
      "cell_type": "code",
      "metadata": {
        "colab": {
          "base_uri": "https://localhost:8080/",
          "height": 265
        },
        "id": "odvR5pD9YW5I",
        "outputId": "8be06cb0-042c-4a03-a4ba-e792f026b073"
      },
      "source": [
        "a = np.random.rand(10000)\n",
        "\n",
        "import matplotlib.pyplot as plt\n",
        "\n",
        "plt.hist(a, bins=1000)\n",
        "plt.show()"
      ],
      "execution_count": null,
      "outputs": [
        {
          "output_type": "display_data",
          "data": {
            "image/png": "[encoded data removed]",
            "text/plain": [
              "<Figure size 432x288 with 1 Axes>"
            ]
          },
          "metadata": {
            "needs_background": "light"
          }
        }
      ]
    },
    {
      "cell_type": "code",
      "metadata": {
        "colab": {
          "base_uri": "https://localhost:8080/",
          "height": 337
        },
        "id": "OngyuIJYYuV4",
        "outputId": "9311d1d7-540a-4a75-f8a2-fcbd23c461fa"
      },
      "source": [
        "a = np.random.randn(10000)\n",
        "\n",
        "import matplotlib.pyplot as plt\n",
        "\n",
        "plt.hist(a, bins=1000)\n",
        "plt.show()\n",
        "\n",
        "print(np.max(a))\n",
        "print(np.min(a))\n",
        "print(np.mean(a))\n",
        "print(np.std(a))"
      ],
      "execution_count": null,
      "outputs": [
        {
          "output_type": "display_data",
          "data": {
            "image/png": "[encoded data removed]",
            "text/plain": [
              "<Figure size 432x288 with 1 Axes>"
            ]
          },
          "metadata": {
            "needs_background": "light"
          }
        },
        {
          "output_type": "stream",
          "name": "stdout",
          "text": [
            "3.938502977082583\n",
            "-3.59274683100687\n",
            "0.0020121647938976506\n",
            "1.0089172825867416\n"
          ]
        }
      ]
    },
    {
      "cell_type": "code",
      "metadata": {
        "colab": {
          "base_uri": "https://localhost:8080/"
        },
        "id": "2IhSNF6CZV4-",
        "outputId": "5653a79c-c2d6-455d-bd8b-3051c14235cd"
      },
      "source": [
        "a = np.arange(12)\n",
        "print(a)\n",
        "\n",
        "a[::2] = -1\n",
        "print(a)"
      ],
      "execution_count": null,
      "outputs": [
        {
          "output_type": "stream",
          "name": "stdout",
          "text": [
            "[ 0  1  2  3  4  5  6  7  8  9 10 11]\n",
            "[-1  1 -1  3 -1  5 -1  7 -1  9 -1 11]\n"
          ]
        }
      ]
    },
    {
      "cell_type": "code",
      "metadata": {
        "colab": {
          "base_uri": "https://localhost:8080/"
        },
        "id": "0tQccoujiPlP",
        "outputId": "68f16172-0828-4beb-ea82-1de83c86cbb4"
      },
      "source": [
        "a = np.arange(12)\n",
        "print(a)\n",
        "\n",
        "a[1::2] = -1\n",
        "print(a)"
      ],
      "execution_count": null,
      "outputs": [
        {
          "output_type": "stream",
          "name": "stdout",
          "text": [
            "[ 0  1  2  3  4  5  6  7  8  9 10 11]\n",
            "[ 0 -1  2 -1  4 -1  6 -1  8 -1 10 -1]\n"
          ]
        }
      ]
    },
    {
      "cell_type": "code",
      "metadata": {
        "colab": {
          "base_uri": "https://localhost:8080/"
        },
        "id": "tSR-GMFsiVkl",
        "outputId": "bfaabe8b-b24d-46e1-e621-2e81bc3cdfaf"
      },
      "source": [
        "a = np.arange(24).reshape(4,6)\n",
        "print(a)\n",
        "print(a[2,3])\n",
        "print(a[:,1:3])"
      ],
      "execution_count": null,
      "outputs": [
        {
          "output_type": "stream",
          "name": "stdout",
          "text": [
            "[[ 0  1  2  3  4  5]\n",
            " [ 6  7  8  9 10 11]\n",
            " [12 13 14 15 16 17]\n",
            " [18 19 20 21 22 23]]\n",
            "15\n",
            "[[ 1  2]\n",
            " [ 7  8]\n",
            " [13 14]\n",
            " [19 20]]\n"
          ]
        }
      ]
    },
    {
      "cell_type": "markdown",
      "metadata": {
        "id": "TqCNGozUkAkX"
      },
      "source": [
        "```\n",
        "7  8  9  10 11\n",
        "13 14 15 16 17\n",
        "```"
      ]
    },
    {
      "cell_type": "code",
      "metadata": {
        "colab": {
          "base_uri": "https://localhost:8080/"
        },
        "id": "_oU8vR0hjYVD",
        "outputId": "2b74292a-bf88-4248-8daa-cc7f7fc90d87"
      },
      "source": [
        "a = np.arange(24).reshape(4,6)\n",
        "print(a)\n",
        "print(a[1:3,1:])"
      ],
      "execution_count": null,
      "outputs": [
        {
          "output_type": "stream",
          "name": "stdout",
          "text": [
            "[[ 0  1  2  3  4  5]\n",
            " [ 6  7  8  9 10 11]\n",
            " [12 13 14 15 16 17]\n",
            " [18 19 20 21 22 23]]\n",
            "[[ 7  8  9 10 11]\n",
            " [13 14 15 16 17]]\n"
          ]
        }
      ]
    },
    {
      "cell_type": "markdown",
      "metadata": {
        "id": "8f3EkF7ykvXP"
      },
      "source": [
        "```\n",
        "7  8  9  10 \n",
        "13 14 15 16\n",
        "```"
      ]
    },
    {
      "cell_type": "code",
      "metadata": {
        "colab": {
          "base_uri": "https://localhost:8080/"
        },
        "id": "cHsQ_AtAkvB_",
        "outputId": "bd4d1cad-8b68-4eec-8a62-3b506e1726d4"
      },
      "source": [
        "a = np.arange(24).reshape(4,6)\n",
        "print(a)\n",
        "print(a[1:3,1:5])"
      ],
      "execution_count": null,
      "outputs": [
        {
          "output_type": "stream",
          "name": "stdout",
          "text": [
            "[[ 0  1  2  3  4  5]\n",
            " [ 6  7  8  9 10 11]\n",
            " [12 13 14 15 16 17]\n",
            " [18 19 20 21 22 23]]\n",
            "[[ 7  8  9 10]\n",
            " [13 14 15 16]]\n"
          ]
        }
      ]
    },
    {
      "cell_type": "markdown",
      "metadata": {
        "id": "vwswtEj4lEbX"
      },
      "source": [
        "```\n",
        "1 1 1 1 1\n",
        "1 0 0 0 1\n",
        "1 0 0 0 1\n",
        "1 1 1 1 1\n",
        "```"
      ]
    },
    {
      "cell_type": "code",
      "metadata": {
        "colab": {
          "base_uri": "https://localhost:8080/"
        },
        "id": "2nIDVvfClC34",
        "outputId": "8f4ddc53-6f11-4edc-b68c-d945b15f4bfd"
      },
      "source": [
        "a = np.ones((4,5))\n",
        "a[1:3,1:4] = 0\n",
        "print(a)"
      ],
      "execution_count": null,
      "outputs": [
        {
          "output_type": "stream",
          "name": "stdout",
          "text": [
            "[[1. 1. 1. 1. 1.]\n",
            " [1. 0. 0. 0. 1.]\n",
            " [1. 0. 0. 0. 1.]\n",
            " [1. 1. 1. 1. 1.]]\n"
          ]
        }
      ]
    },
    {
      "cell_type": "markdown",
      "metadata": {
        "id": "JhDeZdtnmJJf"
      },
      "source": [
        "```\n",
        "1 1 1 1 1 1 1\n",
        "1 0 1 0 1 0 1\n",
        "1 0 1 0 1 0 1\n",
        "1 1 1 1 1 1 1\n",
        "```"
      ]
    },
    {
      "cell_type": "code",
      "metadata": {
        "colab": {
          "base_uri": "https://localhost:8080/"
        },
        "id": "BoXO6ne6l6NB",
        "outputId": "4a3f26d8-0a97-4270-9699-924ff98315b9"
      },
      "source": [
        "a = np.ones((4,7))\n",
        "a[1:3,1:6:2] = 0\n",
        "print(a)"
      ],
      "execution_count": null,
      "outputs": [
        {
          "output_type": "stream",
          "name": "stdout",
          "text": [
            "[[1. 1. 1. 1. 1. 1. 1.]\n",
            " [1. 0. 1. 0. 1. 0. 1.]\n",
            " [1. 0. 1. 0. 1. 0. 1.]\n",
            " [1. 1. 1. 1. 1. 1. 1.]]\n"
          ]
        }
      ]
    },
    {
      "cell_type": "code",
      "metadata": {
        "colab": {
          "base_uri": "https://localhost:8080/"
        },
        "id": "u9vtE7nWl4zQ",
        "outputId": "678bbd03-365c-450b-87c8-bce68180b2b7"
      },
      "source": [
        "a = np.arange(12).reshape((3,4))\n",
        "b = np.arange(12).reshape((3,4)) *2\n",
        "\n",
        "print(a)\n",
        "print(b)\n",
        "\n",
        "print(a+b)\n",
        "print(a-b)\n",
        "print(a*b)\n",
        "print(a/b)"
      ],
      "execution_count": null,
      "outputs": [
        {
          "output_type": "stream",
          "name": "stdout",
          "text": [
            "[[ 0  1  2  3]\n",
            " [ 4  5  6  7]\n",
            " [ 8  9 10 11]]\n",
            "[[ 0  2  4  6]\n",
            " [ 8 10 12 14]\n",
            " [16 18 20 22]]\n",
            "[[ 0  3  6  9]\n",
            " [12 15 18 21]\n",
            " [24 27 30 33]]\n",
            "[[  0  -1  -2  -3]\n",
            " [ -4  -5  -6  -7]\n",
            " [ -8  -9 -10 -11]]\n",
            "[[  0   2   8  18]\n",
            " [ 32  50  72  98]\n",
            " [128 162 200 242]]\n",
            "[[nan 0.5 0.5 0.5]\n",
            " [0.5 0.5 0.5 0.5]\n",
            " [0.5 0.5 0.5 0.5]]\n"
          ]
        },
        {
          "output_type": "stream",
          "name": "stderr",
          "text": [
            "/usr/local/lib/python3.7/dist-packages/ipykernel_launcher.py:10: RuntimeWarning: invalid value encountered in true_divide\n",
            "  # Remove the CWD from sys.path while we load stuff.\n"
          ]
        }
      ]
    },
    {
      "cell_type": "code",
      "metadata": {
        "colab": {
          "base_uri": "https://localhost:8080/"
        },
        "id": "IT6J5uaglwEc",
        "outputId": "d4a86d68-66dc-4455-d8f3-cbf91a82bbdd"
      },
      "source": [
        "a = np.arange(12).reshape((3,4))\n",
        "b = np.arange(3).reshape((3,1)) * 2 + 1\n",
        "\n",
        "print(a)\n",
        "print(b)\n",
        "\n",
        "print(a+b)\n",
        "print(a-b)\n",
        "print(a*b)\n",
        "print(a/b)"
      ],
      "execution_count": null,
      "outputs": [
        {
          "output_type": "stream",
          "name": "stdout",
          "text": [
            "[[ 0  1  2  3]\n",
            " [ 4  5  6  7]\n",
            " [ 8  9 10 11]]\n",
            "[[1]\n",
            " [3]\n",
            " [5]]\n",
            "[[ 1  2  3  4]\n",
            " [ 7  8  9 10]\n",
            " [13 14 15 16]]\n",
            "[[-1  0  1  2]\n",
            " [ 1  2  3  4]\n",
            " [ 3  4  5  6]]\n",
            "[[ 0  1  2  3]\n",
            " [12 15 18 21]\n",
            " [40 45 50 55]]\n",
            "[[0.         1.         2.         3.        ]\n",
            " [1.33333333 1.66666667 2.         2.33333333]\n",
            " [1.6        1.8        2.         2.2       ]]\n"
          ]
        }
      ]
    },
    {
      "cell_type": "code",
      "metadata": {
        "colab": {
          "base_uri": "https://localhost:8080/"
        },
        "id": "emNlz2Sjr0Dv",
        "outputId": "9025283c-4632-418b-d786-6dfd0d7e8094"
      },
      "source": [
        "a = np.arange(12).reshape((3,4))\n",
        "b = np.arange(4).reshape((1,4)) * 2 + 1\n",
        "\n",
        "print(a)\n",
        "print(b)\n",
        "\n",
        "print(a+b)\n",
        "print(a-b)\n",
        "print(a*b)\n",
        "print(a/b)"
      ],
      "execution_count": null,
      "outputs": [
        {
          "output_type": "stream",
          "name": "stdout",
          "text": [
            "[[ 0  1  2  3]\n",
            " [ 4  5  6  7]\n",
            " [ 8  9 10 11]]\n",
            "[[1 3 5 7]]\n",
            "[[ 1  4  7 10]\n",
            " [ 5  8 11 14]\n",
            " [ 9 12 15 18]]\n",
            "[[-1 -2 -3 -4]\n",
            " [ 3  2  1  0]\n",
            " [ 7  6  5  4]]\n",
            "[[ 0  3 10 21]\n",
            " [ 4 15 30 49]\n",
            " [ 8 27 50 77]]\n",
            "[[0.         0.33333333 0.4        0.42857143]\n",
            " [4.         1.66666667 1.2        1.        ]\n",
            " [8.         3.         2.         1.57142857]]\n"
          ]
        }
      ]
    },
    {
      "cell_type": "code",
      "metadata": {
        "colab": {
          "base_uri": "https://localhost:8080/"
        },
        "id": "b73SW0b0sjrm",
        "outputId": "6b91d6d5-92f2-427e-d930-f43a923be8a3"
      },
      "source": [
        "a = np.arange(6).reshape((2,3))\n",
        "b = np.arange(12).reshape((3,4))\n",
        "print(a)\n",
        "print(b)\n",
        "print(np.matmul(a,b))"
      ],
      "execution_count": null,
      "outputs": [
        {
          "output_type": "stream",
          "name": "stdout",
          "text": [
            "[[0 1 2]\n",
            " [3 4 5]]\n",
            "[[ 0  1  2  3]\n",
            " [ 4  5  6  7]\n",
            " [ 8  9 10 11]]\n",
            "[[20 23 26 29]\n",
            " [56 68 80 92]]\n"
          ]
        }
      ]
    },
    {
      "cell_type": "code",
      "metadata": {
        "colab": {
          "base_uri": "https://localhost:8080/"
        },
        "id": "Rvl-m_Wyt4wb",
        "outputId": "5ea7d350-b1d2-4de8-e8d8-d879bb728561"
      },
      "source": [
        "a = np.arange(12).reshape((3,4))\n",
        "print(a)\n",
        "print(a%2)\n",
        "print(a%2==0)\n",
        "a[a%2==0] = 0\n",
        "print(a)"
      ],
      "execution_count": null,
      "outputs": [
        {
          "output_type": "stream",
          "name": "stdout",
          "text": [
            "[[ 0  1  2  3]\n",
            " [ 4  5  6  7]\n",
            " [ 8  9 10 11]]\n",
            "[[0 1 0 1]\n",
            " [0 1 0 1]\n",
            " [0 1 0 1]]\n",
            "[[ True False  True False]\n",
            " [ True False  True False]\n",
            " [ True False  True False]]\n",
            "[[ 0  1  0  3]\n",
            " [ 0  5  0  7]\n",
            " [ 0  9  0 11]]\n"
          ]
        }
      ]
    },
    {
      "cell_type": "code",
      "metadata": {
        "colab": {
          "base_uri": "https://localhost:8080/"
        },
        "id": "9Hi5a34qtJMk",
        "outputId": "b51e130e-e37c-40b1-a544-34ff523aed6b"
      },
      "source": [
        "for i in range(10):\n",
        "  print(i, i%4)"
      ],
      "execution_count": null,
      "outputs": [
        {
          "output_type": "stream",
          "name": "stdout",
          "text": [
            "0 0\n",
            "1 1\n",
            "2 2\n",
            "3 3\n",
            "4 0\n",
            "5 1\n",
            "6 2\n",
            "7 3\n",
            "8 0\n",
            "9 1\n"
          ]
        }
      ]
    },
    {
      "cell_type": "code",
      "metadata": {
        "colab": {
          "base_uri": "https://localhost:8080/"
        },
        "id": "hVWdijZMuCJZ",
        "outputId": "00c94346-4604-494d-8d8b-d65e35d7a6dd"
      },
      "source": [
        "print(1==2)\n",
        "print(1==1)\n",
        "print(1+2)"
      ],
      "execution_count": null,
      "outputs": [
        {
          "output_type": "stream",
          "name": "stdout",
          "text": [
            "False\n",
            "True\n",
            "3\n"
          ]
        }
      ]
    },
    {
      "cell_type": "code",
      "metadata": {
        "colab": {
          "base_uri": "https://localhost:8080/"
        },
        "id": "uhDvgeS5u8IN",
        "outputId": "0c98b5d3-ed77-40b3-ff3a-3b1a4cd13470"
      },
      "source": [
        "a = np.arange(12).reshape((3,4))\n",
        "print(a)\n",
        "a[a%2==0] = 0\n",
        "print(a)\n",
        "print(np.sum(a))"
      ],
      "execution_count": null,
      "outputs": [
        {
          "output_type": "stream",
          "name": "stdout",
          "text": [
            "[[ 0  1  2  3]\n",
            " [ 4  5  6  7]\n",
            " [ 8  9 10 11]]\n",
            "[[ 0  1  0  3]\n",
            " [ 0  5  0  7]\n",
            " [ 0  9  0 11]]\n",
            "36\n"
          ]
        }
      ]
    },
    {
      "cell_type": "code",
      "metadata": {
        "colab": {
          "base_uri": "https://localhost:8080/"
        },
        "id": "IjCrJPlPvjNz",
        "outputId": "566d7c9d-6b98-49e1-fdca-61b527559231"
      },
      "source": [
        "a = np.arange(12).reshape((3,4))\n",
        "print(a)\n",
        "a[a%2!=0] = 0\n",
        "print(a)\n",
        "print(np.sum(a))"
      ],
      "execution_count": null,
      "outputs": [
        {
          "output_type": "stream",
          "name": "stdout",
          "text": [
            "[[ 0  1  2  3]\n",
            " [ 4  5  6  7]\n",
            " [ 8  9 10 11]]\n",
            "[[ 0  0  2  0]\n",
            " [ 4  0  6  0]\n",
            " [ 8  0 10  0]]\n",
            "30\n"
          ]
        }
      ]
    },
    {
      "cell_type": "code",
      "metadata": {
        "colab": {
          "base_uri": "https://localhost:8080/"
        },
        "id": "gbDipQIxvgqm",
        "outputId": "ad7199df-fe5c-4bef-b8b8-c9ae2b3638b4"
      },
      "source": [
        "a = np.arange(12).reshape((3,4))\n",
        "print(a)\n",
        "a[a>=10] = 0\n",
        "print(a)\n",
        "print(np.sum(a))"
      ],
      "execution_count": null,
      "outputs": [
        {
          "output_type": "stream",
          "name": "stdout",
          "text": [
            "[[ 0  1  2  3]\n",
            " [ 4  5  6  7]\n",
            " [ 8  9 10 11]]\n",
            "[[0 1 2 3]\n",
            " [4 5 6 7]\n",
            " [8 9 0 0]]\n",
            "45\n"
          ]
        }
      ]
    },
    {
      "cell_type": "code",
      "metadata": {
        "colab": {
          "base_uri": "https://localhost:8080/"
        },
        "id": "deFJ2fQDw6ND",
        "outputId": "ce778236-5960-4dc9-8748-9b47b71447e4"
      },
      "source": [
        "print(True & True)\n",
        "print(True & False)"
      ],
      "execution_count": null,
      "outputs": [
        {
          "output_type": "stream",
          "name": "stdout",
          "text": [
            "True\n",
            "False\n"
          ]
        }
      ]
    },
    {
      "cell_type": "code",
      "metadata": {
        "colab": {
          "base_uri": "https://localhost:8080/"
        },
        "id": "87qEbrScxMyU",
        "outputId": "4ef930c3-d67d-4c82-8384-62ae8382be08"
      },
      "source": [
        "a = np.arange(12).reshape((3,4))\n",
        "print(a)\n",
        "mask = a%2==0\n",
        "\n",
        "print(mask)\n",
        "print(a*mask)\n",
        "print(np.sum(a*mask))"
      ],
      "execution_count": null,
      "outputs": [
        {
          "output_type": "stream",
          "name": "stdout",
          "text": [
            "[[ 0  1  2  3]\n",
            " [ 4  5  6  7]\n",
            " [ 8  9 10 11]]\n",
            "[[ True False  True False]\n",
            " [ True False  True False]\n",
            " [ True False  True False]]\n",
            "[[ 0  0  2  0]\n",
            " [ 4  0  6  0]\n",
            " [ 8  0 10  0]]\n",
            "30\n"
          ]
        }
      ]
    },
    {
      "cell_type": "code",
      "metadata": {
        "id": "PxPgoHP4zpyA"
      },
      "source": [
        "a = np.arange(12).reshape((3,4))\n",
        "print(np.sum(a*(a%2==0)))"
      ],
      "execution_count": null,
      "outputs": []
    },
    {
      "cell_type": "code",
      "metadata": {
        "colab": {
          "base_uri": "https://localhost:8080/"
        },
        "id": "ufs9DE4uxe_P",
        "outputId": "93b2a438-96a7-403f-b497-35fa0d24573f"
      },
      "source": [
        "l = [ 0, 1, 2, 3, 4, 5, 6 ]\n",
        "\n",
        "sum = 0\n",
        "for i in l:\n",
        "  if i%2==0:\n",
        "    sum += i\n",
        "print(sum)"
      ],
      "execution_count": null,
      "outputs": [
        {
          "output_type": "stream",
          "name": "stdout",
          "text": [
            "12\n"
          ]
        }
      ]
    },
    {
      "cell_type": "code",
      "metadata": {
        "colab": {
          "base_uri": "https://localhost:8080/"
        },
        "id": "xW0lfNtryLcr",
        "outputId": "04aea850-ba17-4972-93e2-5a4b19ac165c"
      },
      "source": [
        "l = [ 0, 1, 2, 3, 4, 5, 6 ]\n",
        "np_l = np.array(l)\n",
        "mask = np_l%2==0\n",
        "sum = np.sum(np_l*mask)\n",
        "print(sum)"
      ],
      "execution_count": null,
      "outputs": [
        {
          "output_type": "stream",
          "name": "stdout",
          "text": [
            "12\n"
          ]
        }
      ]
    },
    {
      "cell_type": "code",
      "metadata": {
        "colab": {
          "base_uri": "https://localhost:8080/"
        },
        "id": "wYQ68Me6ygLF",
        "outputId": "c3a21091-5eda-4120-a30c-d85ea90a8ccc"
      },
      "source": [
        "a = np.arange(12).reshape((3,4))\n",
        "print(a)\n",
        "mask = a%2!=0\n",
        "\n",
        "print(mask)\n",
        "print(a*mask)\n",
        "print(np.sum(a*mask))"
      ],
      "execution_count": null,
      "outputs": [
        {
          "output_type": "stream",
          "name": "stdout",
          "text": [
            "[[ 0  1  2  3]\n",
            " [ 4  5  6  7]\n",
            " [ 8  9 10 11]]\n",
            "[[False  True False  True]\n",
            " [False  True False  True]\n",
            " [False  True False  True]]\n",
            "[[ 0  1  0  3]\n",
            " [ 0  5  0  7]\n",
            " [ 0  9  0 11]]\n",
            "36\n"
          ]
        }
      ]
    },
    {
      "cell_type": "code",
      "metadata": {
        "colab": {
          "base_uri": "https://localhost:8080/"
        },
        "id": "qNgNVMX00k39",
        "outputId": "c3423c40-2b05-44da-902d-14dc2cc8510b"
      },
      "source": [
        "a = np.arange(12).reshape((3,4))\n",
        "print(a)\n",
        "mask = a<10\n",
        "\n",
        "print(mask)\n",
        "print(a*mask)\n",
        "print(np.sum(a*mask))"
      ],
      "execution_count": null,
      "outputs": [
        {
          "output_type": "stream",
          "name": "stdout",
          "text": [
            "[[ 0  1  2  3]\n",
            " [ 4  5  6  7]\n",
            " [ 8  9 10 11]]\n",
            "[[ True  True  True  True]\n",
            " [ True  True  True  True]\n",
            " [ True  True False False]]\n",
            "[[0 1 2 3]\n",
            " [4 5 6 7]\n",
            " [8 9 0 0]]\n",
            "45\n"
          ]
        }
      ]
    },
    {
      "cell_type": "code",
      "metadata": {
        "colab": {
          "base_uri": "https://localhost:8080/"
        },
        "id": "kXRBO9jr0n9c",
        "outputId": "4b979d40-482e-4765-d2c2-1880cbdefdba"
      },
      "source": [
        "a = np.arange(12).reshape((3,4))\n",
        "print(a)\n",
        "mask = (a>5) & (a%2==0)\n",
        "\n",
        "print(mask)\n",
        "print(a*mask)\n",
        "print(np.sum(a*mask))"
      ],
      "execution_count": null,
      "outputs": [
        {
          "output_type": "stream",
          "name": "stdout",
          "text": [
            "[[ 0  1  2  3]\n",
            " [ 4  5  6  7]\n",
            " [ 8  9 10 11]]\n",
            "[[False False False False]\n",
            " [False False  True False]\n",
            " [ True False  True False]]\n",
            "[[ 0  0  0  0]\n",
            " [ 0  0  6  0]\n",
            " [ 8  0 10  0]]\n",
            "24\n"
          ]
        }
      ]
    },
    {
      "cell_type": "code",
      "metadata": {
        "id": "FLyEBsGv0uk0"
      },
      "source": [
        ""
      ],
      "execution_count": null,
      "outputs": []
    }
  ]
}