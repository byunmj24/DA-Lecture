{
  "nbformat": 4,
  "nbformat_minor": 0,
  "metadata": {
    "colab": {
      "name": "iris_dnn_with_category_index_note_전체처리.ipynb",
      "provenance": [],
      "collapsed_sections": []
    },
    "kernelspec": {
      "name": "python3",
      "display_name": "Python 3"
    }
  },
  "cells": [
    {
      "cell_type": "markdown",
      "metadata": {
        "id": "_gNpH7C6sv7Z"
      },
      "source": [
        "# loss categorical_crossentropy\n",
        "\n",
        "2가지 crossentropy 사용 방법\n",
        "- categorical_crossentropy\n",
        "- sparse_categorical_crossentropy\n",
        "\n",
        "## categorical_crossentropy\n",
        "y의 값이 one hot encoding인 경우\n",
        "```\n",
        "1,0,0\n",
        "0,1,0\n",
        "0,0,1\n",
        "```\n",
        "\n",
        "출력 레이어 설정\n",
        "```\n",
        "model.add(Dense(3, activation=\"softmax\")) # 출력 레이어\n",
        "```\n",
        "\n",
        "loss 설정\n",
        "```\n",
        "model.compile(..., loss='categorical_crossentropy')\n",
        "```\n",
        "\n",
        "\n",
        "## sparse_categorical_crossentropy\n",
        "y의 값이 one hot encoding인 경우\n",
        "```\n",
        "0\n",
        "1\n",
        "2\n",
        "```\n",
        "\n",
        "출력 레이어 설정\n",
        "```\n",
        "model.add(Dense(3, activation=\"softmax\")) # 출력 레이어. 1이 아니라 클래스 수 3\n",
        "```\n",
        "\n",
        "loss 설정\n",
        "```\n",
        "model.compile(..., loss='sparse_categorical_crossentropy')\n",
        "```\n",
        "\n",
        "\n",
        "\n"
      ]
    },
    {
      "cell_type": "markdown",
      "metadata": {
        "id": "5TzdGBkEtoXy"
      },
      "source": [
        "# iris_dnn with category index\n",
        "\n",
        "아래의 코드는 dnn_iris_and_optimizer.ipynb의 코드를 기반으로 한다.\n"
      ]
    },
    {
      "cell_type": "code",
      "metadata": {
        "id": "8QWhBiz9rICw"
      },
      "source": [
        "import numpy as np\n",
        "import pandas as pd\n",
        "import matplotlib.pyplot as plt\n",
        "import seaborn as sns\n",
        "\n",
        "import tensorflow as tf\n",
        "\n",
        "from tensorflow import keras\n",
        "from tensorflow.keras import optimizers\n",
        "from tensorflow.keras.layers import Dense"
      ],
      "execution_count": 1,
      "outputs": []
    },
    {
      "cell_type": "code",
      "metadata": {
        "id": "jowO-zmzrObJ"
      },
      "source": [
        "# !wget https://raw.githubusercontent.com/dhrim/MDC_2021/master/material/deep_learning/iris_with_category_index.csv\n",
        "  "
      ],
      "execution_count": 2,
      "outputs": []
    },
    {
      "cell_type": "markdown",
      "metadata": {
        "id": "yQw8aR5eCq9W"
      },
      "source": [
        "# 실습용 데이터 받기"
      ]
    },
    {
      "cell_type": "code",
      "metadata": {
        "colab": {
          "base_uri": "https://localhost:8080/"
        },
        "id": "vUcV_SF0CjOG",
        "outputId": "5358acf2-0f26-4f7a-bf16-d3aead23d63f"
      },
      "source": [
        "!wget https://raw.githubusercontent.com/dhrim/MDC_2021/master/material/library/flawed_iris.csv"
      ],
      "execution_count": 3,
      "outputs": [
        {
          "output_type": "stream",
          "name": "stdout",
          "text": [
            "--2021-11-26 08:39:20--  https://raw.githubusercontent.com/dhrim/MDC_2021/master/material/library/flawed_iris.csv\n",
            "Resolving raw.githubusercontent.com (raw.githubusercontent.com)... 185.199.111.133, 185.199.110.133, 185.199.109.133, ...\n",
            "Connecting to raw.githubusercontent.com (raw.githubusercontent.com)|185.199.111.133|:443... connected.\n",
            "HTTP request sent, awaiting response... 200 OK\n",
            "Length: 2782 (2.7K) [text/plain]\n",
            "Saving to: ‘flawed_iris.csv.10’\n",
            "\n",
            "\rflawed_iris.csv.10    0%[                    ]       0  --.-KB/s               \rflawed_iris.csv.10  100%[===================>]   2.72K  --.-KB/s    in 0s      \n",
            "\n",
            "2021-11-26 08:39:20 (22.2 MB/s) - ‘flawed_iris.csv.10’ saved [2782/2782]\n",
            "\n"
          ]
        }
      ]
    },
    {
      "cell_type": "code",
      "metadata": {
        "id": "95dRpZwmrirs",
        "colab": {
          "base_uri": "https://localhost:8080/",
          "height": 206
        },
        "outputId": "7adbfa12-394e-45b7-8fee-2185f1ac65ac"
      },
      "source": [
        "iris = pd.read_csv(\"flawed_iris.csv\")\n",
        "iris.head()"
      ],
      "execution_count": 4,
      "outputs": [
        {
          "output_type": "execute_result",
          "data": {
            "text/html": [
              "<div>\n",
              "<style scoped>\n",
              "    .dataframe tbody tr th:only-of-type {\n",
              "        vertical-align: middle;\n",
              "    }\n",
              "\n",
              "    .dataframe tbody tr th {\n",
              "        vertical-align: top;\n",
              "    }\n",
              "\n",
              "    .dataframe thead th {\n",
              "        text-align: right;\n",
              "    }\n",
              "</style>\n",
              "<table border=\"1\" class=\"dataframe\">\n",
              "  <thead>\n",
              "    <tr style=\"text-align: right;\">\n",
              "      <th></th>\n",
              "      <th>septal_length</th>\n",
              "      <th>septal_width</th>\n",
              "      <th>petal_length</th>\n",
              "      <th>petal_width</th>\n",
              "      <th>color</th>\n",
              "      <th>class</th>\n",
              "    </tr>\n",
              "  </thead>\n",
              "  <tbody>\n",
              "    <tr>\n",
              "      <th>0</th>\n",
              "      <td>6.4</td>\n",
              "      <td>2.8</td>\n",
              "      <td>5.6</td>\n",
              "      <td>2.2</td>\n",
              "      <td>light</td>\n",
              "      <td>2.0</td>\n",
              "    </tr>\n",
              "    <tr>\n",
              "      <th>1</th>\n",
              "      <td>5.0</td>\n",
              "      <td>2.3</td>\n",
              "      <td>3.3</td>\n",
              "      <td>1.0</td>\n",
              "      <td>medium</td>\n",
              "      <td>1.0</td>\n",
              "    </tr>\n",
              "    <tr>\n",
              "      <th>2</th>\n",
              "      <td>4.9</td>\n",
              "      <td>2.5</td>\n",
              "      <td>4.5</td>\n",
              "      <td>1.7</td>\n",
              "      <td>medium</td>\n",
              "      <td>2.0</td>\n",
              "    </tr>\n",
              "    <tr>\n",
              "      <th>3</th>\n",
              "      <td>4.9</td>\n",
              "      <td>3.1</td>\n",
              "      <td>1.5</td>\n",
              "      <td>0.1</td>\n",
              "      <td>dark</td>\n",
              "      <td>0.0</td>\n",
              "    </tr>\n",
              "    <tr>\n",
              "      <th>4</th>\n",
              "      <td>5.7</td>\n",
              "      <td>3.8</td>\n",
              "      <td>1.7</td>\n",
              "      <td>0.3</td>\n",
              "      <td>dark</td>\n",
              "      <td>0.0</td>\n",
              "    </tr>\n",
              "  </tbody>\n",
              "</table>\n",
              "</div>"
            ],
            "text/plain": [
              "   septal_length septal_width  petal_length  petal_width   color  class\n",
              "0            6.4          2.8           5.6          2.2   light    2.0\n",
              "1            5.0          2.3           3.3          1.0  medium    1.0\n",
              "2            4.9          2.5           4.5          1.7  medium    2.0\n",
              "3            4.9          3.1           1.5          0.1    dark    0.0\n",
              "4            5.7          3.8           1.7          0.3    dark    0.0"
            ]
          },
          "metadata": {},
          "execution_count": 4
        }
      ]
    },
    {
      "cell_type": "code",
      "metadata": {
        "colab": {
          "base_uri": "https://localhost:8080/"
        },
        "id": "g5A60ioADOse",
        "outputId": "17a15dda-284d-4956-b9f3-b4b3d7115e56"
      },
      "source": [
        "iris.info()"
      ],
      "execution_count": 5,
      "outputs": [
        {
          "output_type": "stream",
          "name": "stdout",
          "text": [
            "<class 'pandas.core.frame.DataFrame'>\n",
            "RangeIndex: 120 entries, 0 to 119\n",
            "Data columns (total 6 columns):\n",
            " #   Column         Non-Null Count  Dtype  \n",
            "---  ------         --------------  -----  \n",
            " 0   septal_length  117 non-null    float64\n",
            " 1   septal_width   118 non-null    object \n",
            " 2   petal_length   117 non-null    float64\n",
            " 3   petal_width    118 non-null    float64\n",
            " 4   color          117 non-null    object \n",
            " 5   class          119 non-null    float64\n",
            "dtypes: float64(4), object(2)\n",
            "memory usage: 5.8+ KB\n"
          ]
        }
      ]
    },
    {
      "cell_type": "code",
      "metadata": {
        "colab": {
          "base_uri": "https://localhost:8080/",
          "height": 266
        },
        "id": "1pBS8n0NUCyL",
        "outputId": "543181f0-4560-4740-c843-6e265b75b54f"
      },
      "source": [
        "sns.boxplot(data = iris)\n",
        "plt.show()"
      ],
      "execution_count": 6,
      "outputs": [
        {
          "output_type": "display_data",
          "data": {
            "image/png": "[encoded data removed]",
            "text/plain": [
              "<Figure size 432x288 with 1 Axes>"
            ]
          },
          "metadata": {
            "needs_background": "light"
          }
        }
      ]
    },
    {
      "cell_type": "markdown",
      "metadata": {
        "id": "VJ-4KVywDn7E"
      },
      "source": [
        "### 전처리"
      ]
    },
    {
      "cell_type": "code",
      "metadata": {
        "colab": {
          "base_uri": "https://localhost:8080/"
        },
        "id": "8zUXIdVzDSRd",
        "outputId": "3e1c2b6d-2112-4a4a-d62f-bd0461c11c89"
      },
      "source": [
        "# color 컬럼 제거\n",
        "iris.drop(columns='color', inplace=True)\n",
        "iris.info()"
      ],
      "execution_count": 7,
      "outputs": [
        {
          "output_type": "stream",
          "name": "stdout",
          "text": [
            "<class 'pandas.core.frame.DataFrame'>\n",
            "RangeIndex: 120 entries, 0 to 119\n",
            "Data columns (total 5 columns):\n",
            " #   Column         Non-Null Count  Dtype  \n",
            "---  ------         --------------  -----  \n",
            " 0   septal_length  117 non-null    float64\n",
            " 1   septal_width   118 non-null    object \n",
            " 2   petal_length   117 non-null    float64\n",
            " 3   petal_width    118 non-null    float64\n",
            " 4   class          119 non-null    float64\n",
            "dtypes: float64(4), object(1)\n",
            "memory usage: 4.8+ KB\n"
          ]
        }
      ]
    },
    {
      "cell_type": "code",
      "metadata": {
        "colab": {
          "base_uri": "https://localhost:8080/"
        },
        "id": "K4VeOdUYDmoE",
        "outputId": "cad40ac7-7d63-4d33-b62f-8a927dff491b"
      },
      "source": [
        "# 2..3 인 문자 2.3 으로치환\n",
        "iris.loc[iris.septal_width == '2..3', 'septal_width'] = '2.3'\n",
        "# septal_width 타입 변환\n",
        "iris.septal_width = iris.septal_width.astype(float)\n",
        "iris.info()"
      ],
      "execution_count": 8,
      "outputs": [
        {
          "output_type": "stream",
          "name": "stdout",
          "text": [
            "<class 'pandas.core.frame.DataFrame'>\n",
            "RangeIndex: 120 entries, 0 to 119\n",
            "Data columns (total 5 columns):\n",
            " #   Column         Non-Null Count  Dtype  \n",
            "---  ------         --------------  -----  \n",
            " 0   septal_length  117 non-null    float64\n",
            " 1   septal_width   118 non-null    float64\n",
            " 2   petal_length   117 non-null    float64\n",
            " 3   petal_width    118 non-null    float64\n",
            " 4   class          119 non-null    float64\n",
            "dtypes: float64(5)\n",
            "memory usage: 4.8 KB\n"
          ]
        }
      ]
    },
    {
      "cell_type": "code",
      "metadata": {
        "colab": {
          "base_uri": "https://localhost:8080/",
          "height": 300
        },
        "id": "AsGbgmYcFWyj",
        "outputId": "bd03cbf1-8ff9-4792-a795-2983b49e3d6a"
      },
      "source": [
        "iris.describe()"
      ],
      "execution_count": 9,
      "outputs": [
        {
          "output_type": "execute_result",
          "data": {
            "text/html": [
              "<div>\n",
              "<style scoped>\n",
              "    .dataframe tbody tr th:only-of-type {\n",
              "        vertical-align: middle;\n",
              "    }\n",
              "\n",
              "    .dataframe tbody tr th {\n",
              "        vertical-align: top;\n",
              "    }\n",
              "\n",
              "    .dataframe thead th {\n",
              "        text-align: right;\n",
              "    }\n",
              "</style>\n",
              "<table border=\"1\" class=\"dataframe\">\n",
              "  <thead>\n",
              "    <tr style=\"text-align: right;\">\n",
              "      <th></th>\n",
              "      <th>septal_length</th>\n",
              "      <th>septal_width</th>\n",
              "      <th>petal_length</th>\n",
              "      <th>petal_width</th>\n",
              "      <th>class</th>\n",
              "    </tr>\n",
              "  </thead>\n",
              "  <tbody>\n",
              "    <tr>\n",
              "      <th>count</th>\n",
              "      <td>117.000000</td>\n",
              "      <td>118.000000</td>\n",
              "      <td>117.000000</td>\n",
              "      <td>118.000000</td>\n",
              "      <td>119.000000</td>\n",
              "    </tr>\n",
              "    <tr>\n",
              "      <th>mean</th>\n",
              "      <td>5.809402</td>\n",
              "      <td>3.238983</td>\n",
              "      <td>3.523077</td>\n",
              "      <td>1.683051</td>\n",
              "      <td>0.957983</td>\n",
              "    </tr>\n",
              "    <tr>\n",
              "      <th>std</th>\n",
              "      <td>1.597735</td>\n",
              "      <td>1.762576</td>\n",
              "      <td>2.102682</td>\n",
              "      <td>3.172567</td>\n",
              "      <td>0.817136</td>\n",
              "    </tr>\n",
              "    <tr>\n",
              "      <th>min</th>\n",
              "      <td>-5.800000</td>\n",
              "      <td>-3.000000</td>\n",
              "      <td>-6.100000</td>\n",
              "      <td>-1.000000</td>\n",
              "      <td>0.000000</td>\n",
              "    </tr>\n",
              "    <tr>\n",
              "      <th>25%</th>\n",
              "      <td>5.000000</td>\n",
              "      <td>2.800000</td>\n",
              "      <td>1.500000</td>\n",
              "      <td>0.300000</td>\n",
              "      <td>0.000000</td>\n",
              "    </tr>\n",
              "    <tr>\n",
              "      <th>50%</th>\n",
              "      <td>5.800000</td>\n",
              "      <td>3.000000</td>\n",
              "      <td>4.200000</td>\n",
              "      <td>1.350000</td>\n",
              "      <td>1.000000</td>\n",
              "    </tr>\n",
              "    <tr>\n",
              "      <th>75%</th>\n",
              "      <td>6.400000</td>\n",
              "      <td>3.400000</td>\n",
              "      <td>5.100000</td>\n",
              "      <td>1.900000</td>\n",
              "      <td>2.000000</td>\n",
              "    </tr>\n",
              "    <tr>\n",
              "      <th>max</th>\n",
              "      <td>14.500000</td>\n",
              "      <td>16.000000</td>\n",
              "      <td>6.900000</td>\n",
              "      <td>23.300000</td>\n",
              "      <td>2.000000</td>\n",
              "    </tr>\n",
              "  </tbody>\n",
              "</table>\n",
              "</div>"
            ],
            "text/plain": [
              "       septal_length  septal_width  petal_length  petal_width       class\n",
              "count     117.000000    118.000000    117.000000   118.000000  119.000000\n",
              "mean        5.809402      3.238983      3.523077     1.683051    0.957983\n",
              "std         1.597735      1.762576      2.102682     3.172567    0.817136\n",
              "min        -5.800000     -3.000000     -6.100000    -1.000000    0.000000\n",
              "25%         5.000000      2.800000      1.500000     0.300000    0.000000\n",
              "50%         5.800000      3.000000      4.200000     1.350000    1.000000\n",
              "75%         6.400000      3.400000      5.100000     1.900000    2.000000\n",
              "max        14.500000     16.000000      6.900000    23.300000    2.000000"
            ]
          },
          "metadata": {},
          "execution_count": 9
        }
      ]
    },
    {
      "cell_type": "code",
      "metadata": {
        "colab": {
          "base_uri": "https://localhost:8080/",
          "height": 300
        },
        "id": "XXunU-nxGFMc",
        "outputId": "39cf7a89-e24c-4524-f646-6e4231ae9f72"
      },
      "source": [
        "# - 값 처리\n",
        "iris = iris.abs()\n",
        "iris.describe()"
      ],
      "execution_count": 10,
      "outputs": [
        {
          "output_type": "execute_result",
          "data": {
            "text/html": [
              "<div>\n",
              "<style scoped>\n",
              "    .dataframe tbody tr th:only-of-type {\n",
              "        vertical-align: middle;\n",
              "    }\n",
              "\n",
              "    .dataframe tbody tr th {\n",
              "        vertical-align: top;\n",
              "    }\n",
              "\n",
              "    .dataframe thead th {\n",
              "        text-align: right;\n",
              "    }\n",
              "</style>\n",
              "<table border=\"1\" class=\"dataframe\">\n",
              "  <thead>\n",
              "    <tr style=\"text-align: right;\">\n",
              "      <th></th>\n",
              "      <th>septal_length</th>\n",
              "      <th>septal_width</th>\n",
              "      <th>petal_length</th>\n",
              "      <th>petal_width</th>\n",
              "      <th>class</th>\n",
              "    </tr>\n",
              "  </thead>\n",
              "  <tbody>\n",
              "    <tr>\n",
              "      <th>count</th>\n",
              "      <td>117.000000</td>\n",
              "      <td>118.000000</td>\n",
              "      <td>117.000000</td>\n",
              "      <td>118.00000</td>\n",
              "      <td>119.000000</td>\n",
              "    </tr>\n",
              "    <tr>\n",
              "      <th>mean</th>\n",
              "      <td>5.908547</td>\n",
              "      <td>3.289831</td>\n",
              "      <td>3.673504</td>\n",
              "      <td>1.70000</td>\n",
              "      <td>0.957983</td>\n",
              "    </tr>\n",
              "    <tr>\n",
              "      <th>std</th>\n",
              "      <td>1.175143</td>\n",
              "      <td>1.664891</td>\n",
              "      <td>1.824658</td>\n",
              "      <td>3.16344</td>\n",
              "      <td>0.817136</td>\n",
              "    </tr>\n",
              "    <tr>\n",
              "      <th>min</th>\n",
              "      <td>4.400000</td>\n",
              "      <td>2.200000</td>\n",
              "      <td>1.000000</td>\n",
              "      <td>0.10000</td>\n",
              "      <td>0.000000</td>\n",
              "    </tr>\n",
              "    <tr>\n",
              "      <th>25%</th>\n",
              "      <td>5.100000</td>\n",
              "      <td>2.800000</td>\n",
              "      <td>1.500000</td>\n",
              "      <td>0.30000</td>\n",
              "      <td>0.000000</td>\n",
              "    </tr>\n",
              "    <tr>\n",
              "      <th>50%</th>\n",
              "      <td>5.800000</td>\n",
              "      <td>3.000000</td>\n",
              "      <td>4.400000</td>\n",
              "      <td>1.35000</td>\n",
              "      <td>1.000000</td>\n",
              "    </tr>\n",
              "    <tr>\n",
              "      <th>75%</th>\n",
              "      <td>6.400000</td>\n",
              "      <td>3.400000</td>\n",
              "      <td>5.100000</td>\n",
              "      <td>1.90000</td>\n",
              "      <td>2.000000</td>\n",
              "    </tr>\n",
              "    <tr>\n",
              "      <th>max</th>\n",
              "      <td>14.500000</td>\n",
              "      <td>16.000000</td>\n",
              "      <td>6.900000</td>\n",
              "      <td>23.30000</td>\n",
              "      <td>2.000000</td>\n",
              "    </tr>\n",
              "  </tbody>\n",
              "</table>\n",
              "</div>"
            ],
            "text/plain": [
              "       septal_length  septal_width  petal_length  petal_width       class\n",
              "count     117.000000    118.000000    117.000000    118.00000  119.000000\n",
              "mean        5.908547      3.289831      3.673504      1.70000    0.957983\n",
              "std         1.175143      1.664891      1.824658      3.16344    0.817136\n",
              "min         4.400000      2.200000      1.000000      0.10000    0.000000\n",
              "25%         5.100000      2.800000      1.500000      0.30000    0.000000\n",
              "50%         5.800000      3.000000      4.400000      1.35000    1.000000\n",
              "75%         6.400000      3.400000      5.100000      1.90000    2.000000\n",
              "max        14.500000     16.000000      6.900000     23.30000    2.000000"
            ]
          },
          "metadata": {},
          "execution_count": 10
        }
      ]
    },
    {
      "cell_type": "code",
      "metadata": {
        "colab": {
          "base_uri": "https://localhost:8080/"
        },
        "id": "rEdVhdSbGYZU",
        "outputId": "881aaae6-d4c8-48cd-fc65-c3a623a54c1a"
      },
      "source": [
        "# 결측치 제거 - 평균 대입\n",
        "iris = iris.fillna(iris.mean())\n",
        "iris.info()"
      ],
      "execution_count": 11,
      "outputs": [
        {
          "output_type": "stream",
          "name": "stdout",
          "text": [
            "<class 'pandas.core.frame.DataFrame'>\n",
            "RangeIndex: 120 entries, 0 to 119\n",
            "Data columns (total 5 columns):\n",
            " #   Column         Non-Null Count  Dtype  \n",
            "---  ------         --------------  -----  \n",
            " 0   septal_length  120 non-null    float64\n",
            " 1   septal_width   120 non-null    float64\n",
            " 2   petal_length   120 non-null    float64\n",
            " 3   petal_width    120 non-null    float64\n",
            " 4   class          120 non-null    float64\n",
            "dtypes: float64(5)\n",
            "memory usage: 4.8 KB\n"
          ]
        }
      ]
    },
    {
      "cell_type": "code",
      "metadata": {
        "id": "LXURR_RFG5Oa"
      },
      "source": [
        "import seaborn as sns"
      ],
      "execution_count": 12,
      "outputs": []
    },
    {
      "cell_type": "code",
      "metadata": {
        "colab": {
          "base_uri": "https://localhost:8080/",
          "height": 266
        },
        "id": "KbuNe9j_HDvV",
        "outputId": "515010b3-3123-4c5b-9b3a-737060ee7718"
      },
      "source": [
        "sns.boxplot(data = iris)\n",
        "plt.show()"
      ],
      "execution_count": 13,
      "outputs": [
        {
          "output_type": "display_data",
          "data": {
            "image/png": "[encoded data removed]",
            "text/plain": [
              "<Figure size 432x288 with 1 Axes>"
            ]
          },
          "metadata": {
            "needs_background": "light"
          }
        }
      ]
    },
    {
      "cell_type": "code",
      "metadata": {
        "id": "DtGqaOjqHPe9"
      },
      "source": [
        "# # 이상치 idx 추출\n",
        "# outlier_idx = iris.loc[iris.petal_width >= 10, 'petal_width'].index\n",
        "\n",
        "# # 이상치 중에서 가장 작은 값\n",
        "# outlier_min = iris.loc[iris.petal_width >= 10, 'petal_width'].min()\n",
        "\n",
        "# # 정상 범위 가장 큰 값\n",
        "# normal_max = iris.loc[iris.petal_width < 10, 'petal_width'].max()\n",
        "# # 이상치 치환\n",
        "# iris.loc[iris.petal_width >= 10, 'petal_width'] = normal_max"
      ],
      "execution_count": 14,
      "outputs": []
    },
    {
      "cell_type": "code",
      "metadata": {
        "id": "inL9ylNhHgRq"
      },
      "source": [
        "# iris.loc[iris.septal_length < 10, 'septal_length'].max()"
      ],
      "execution_count": 15,
      "outputs": []
    },
    {
      "cell_type": "code",
      "metadata": {
        "colab": {
          "base_uri": "https://localhost:8080/"
        },
        "id": "a0IV6pGGN4jo",
        "outputId": "de55b4b4-37d1-436b-85dd-6515cde1690b"
      },
      "source": [
        "iris.describe()['septal_length']['25%']"
      ],
      "execution_count": 16,
      "outputs": [
        {
          "output_type": "execute_result",
          "data": {
            "text/plain": [
              "5.1"
            ]
          },
          "metadata": {},
          "execution_count": 16
        }
      ]
    },
    {
      "cell_type": "code",
      "metadata": {
        "id": "lJC2jWvNJIQF"
      },
      "source": [
        "# 이상치 처리 메서드 만들기\n",
        "def outlier_del(list):\n",
        "    for i in list:\n",
        "        Q1 = iris.describe()[i]['25%']\n",
        "        Q3 = iris.describe()[i]['75%']\n",
        "        IQR = Q3 - Q1\n",
        "        top_value = Q3 + (1.5*IQR)\n",
        "        outlier_min = iris.loc[iris[i] >= top_value, i].min()\n",
        "        normal_max = iris.loc[iris[i] < outlier_min, i].max()\n",
        "        iris.loc[iris[i] >= top_value, i] = normal_max\n",
        "    sns.boxplot(data = iris)\n",
        "    plt.show()\n",
        "    iris.info()"
      ],
      "execution_count": 17,
      "outputs": []
    },
    {
      "cell_type": "code",
      "metadata": {
        "colab": {
          "base_uri": "https://localhost:8080/",
          "height": 486
        },
        "id": "9F9ZkiZZLKYc",
        "outputId": "7065c836-8d2f-4b9f-e2f8-835dbd9deeed"
      },
      "source": [
        "list_col = ['septal_length', 'septal_width', 'petal_width']\n",
        "outlier_del(list_col)"
      ],
      "execution_count": 18,
      "outputs": [
        {
          "output_type": "display_data",
          "data": {
            "image/png": "[encoded data removed]",
            "text/plain": [
              "<Figure size 432x288 with 1 Axes>"
            ]
          },
          "metadata": {
            "needs_background": "light"
          }
        },
        {
          "output_type": "stream",
          "name": "stdout",
          "text": [
            "<class 'pandas.core.frame.DataFrame'>\n",
            "RangeIndex: 120 entries, 0 to 119\n",
            "Data columns (total 5 columns):\n",
            " #   Column         Non-Null Count  Dtype  \n",
            "---  ------         --------------  -----  \n",
            " 0   septal_length  120 non-null    float64\n",
            " 1   septal_width   120 non-null    float64\n",
            " 2   petal_length   120 non-null    float64\n",
            " 3   petal_width    120 non-null    float64\n",
            " 4   class          120 non-null    float64\n",
            "dtypes: float64(5)\n",
            "memory usage: 4.8 KB\n"
          ]
        }
      ]
    },
    {
      "cell_type": "code",
      "metadata": {
        "colab": {
          "base_uri": "https://localhost:8080/"
        },
        "id": "toKvoYvSJmTj",
        "outputId": "586513cb-57aa-46dc-a80f-59b3cdb34a8b"
      },
      "source": [
        "# class 타입 변환\n",
        "iris['class'] = iris['class'].astype(int)\n",
        "iris.info()"
      ],
      "execution_count": 19,
      "outputs": [
        {
          "output_type": "stream",
          "name": "stdout",
          "text": [
            "<class 'pandas.core.frame.DataFrame'>\n",
            "RangeIndex: 120 entries, 0 to 119\n",
            "Data columns (total 5 columns):\n",
            " #   Column         Non-Null Count  Dtype  \n",
            "---  ------         --------------  -----  \n",
            " 0   septal_length  120 non-null    float64\n",
            " 1   septal_width   120 non-null    float64\n",
            " 2   petal_length   120 non-null    float64\n",
            " 3   petal_width    120 non-null    float64\n",
            " 4   class          120 non-null    int64  \n",
            "dtypes: float64(4), int64(1)\n",
            "memory usage: 4.8 KB\n"
          ]
        }
      ]
    },
    {
      "cell_type": "markdown",
      "metadata": {
        "id": "nfXyVlJMWA06"
      },
      "source": [
        "# Normalization"
      ]
    },
    {
      "cell_type": "code",
      "metadata": {
        "id": "ZxywMk5RWDyw"
      },
      "source": [
        "iris = (iris - iris.min()) / (iris.max() - iris.min())"
      ],
      "execution_count": 20,
      "outputs": []
    },
    {
      "cell_type": "code",
      "metadata": {
        "id": "8Wgk_bY7WEdI"
      },
      "source": [
        "iris.info()"
      ],
      "execution_count": 21,
      "outputs": []
    },
    {
      "cell_type": "markdown",
      "metadata": {
        "id": "VoeG4KFLDlFF"
      },
      "source": [
        "### ML 단계"
      ]
    },
    {
      "cell_type": "code",
      "metadata": {
        "id": "P5OBkri2ssI2",
        "colab": {
          "base_uri": "https://localhost:8080/"
        },
        "outputId": "3ed54150-cc14-4bb0-ec1e-e640c3be7b2a"
      },
      "source": [
        "data = iris.to_numpy()\n",
        "print(data.shape)\n",
        "print(data[:5])"
      ],
      "execution_count": 22,
      "outputs": [
        {
          "output_type": "stream",
          "name": "stdout",
          "text": [
            "(120, 5)\n",
            "[[6.4 2.8 5.6 2.2 2. ]\n",
            " [5.  2.3 3.3 1.  1. ]\n",
            " [4.9 2.5 4.5 1.7 2. ]\n",
            " [4.9 3.1 1.5 0.1 0. ]\n",
            " [5.7 3.8 1.7 0.3 0. ]]\n"
          ]
        }
      ]
    },
    {
      "cell_type": "code",
      "metadata": {
        "id": "64VZ6W65sg5H",
        "colab": {
          "base_uri": "https://localhost:8080/"
        },
        "outputId": "e9cddfeb-e7be-4e65-c771-69a96805edbe"
      },
      "source": [
        "x = data[:,:4]\n",
        "y = data[:,4:]\n",
        "\n",
        "split_index = 100\n",
        "\n",
        "train_x, test_x = x[:split_index], x[split_index:]\n",
        "train_y, test_y = y[:split_index], y[split_index:]\n",
        "\n",
        "print(train_x.shape)\n",
        "print(train_y.shape)\n",
        "print(test_x.shape)\n",
        "print(test_y.shape)"
      ],
      "execution_count": 23,
      "outputs": [
        {
          "output_type": "stream",
          "name": "stdout",
          "text": [
            "(100, 4)\n",
            "(100, 1)\n",
            "(20, 4)\n",
            "(20, 1)\n"
          ]
        }
      ]
    },
    {
      "cell_type": "code",
      "metadata": {
        "id": "0SwCtBLbtCgt",
        "colab": {
          "base_uri": "https://localhost:8080/"
        },
        "outputId": "e641a8d1-bbf6-494e-ef30-f065de73965e"
      },
      "source": [
        "model = keras.Sequential()\n",
        "model.add(Dense(10, activation='relu', input_shape=(4,)))\n",
        "model.add(Dense(10, activation='relu'))\n",
        "model.add(Dense(3, activation=\"softmax\")) # 1이 아니고 클래스 수 3이다\n",
        "\n",
        "# model.compile(optimizer=\"SGD\", loss=\"categorical_crossentropy\", metrics=[\"accuracy\"])\n",
        "model.compile(optimizer=\"SGD\", loss=\"sparse_categorical_crossentropy\", metrics=[\"accuracy\"])\n",
        "model.summary()\n",
        "\n",
        "model.fit(train_x, train_y, epochs=1000, verbose=0, batch_size=20)\n",
        "\n",
        "loss, acc = model.evaluate(test_x, test_y)\n",
        "print(\"loss=\", loss)\n",
        "print(\"acc=\", acc)\n",
        "              \n"
      ],
      "execution_count": 24,
      "outputs": [
        {
          "output_type": "stream",
          "name": "stdout",
          "text": [
            "Model: \"sequential\"\n",
            "_________________________________________________________________\n",
            " Layer (type)                Output Shape              Param #   \n",
            "=================================================================\n",
            " dense (Dense)               (None, 10)                50        \n",
            "                                                                 \n",
            " dense_1 (Dense)             (None, 10)                110       \n",
            "                                                                 \n",
            " dense_2 (Dense)             (None, 3)                 33        \n",
            "                                                                 \n",
            "=================================================================\n",
            "Total params: 193\n",
            "Trainable params: 193\n",
            "Non-trainable params: 0\n",
            "_________________________________________________________________\n",
            "1/1 [==============================] - 0s 154ms/step - loss: 0.0676 - accuracy: 1.0000\n",
            "loss= 0.06759004294872284\n",
            "acc= 1.0\n"
          ]
        }
      ]
    },
    {
      "cell_type": "code",
      "metadata": {
        "id": "UbanwtJYuU3z",
        "colab": {
          "base_uri": "https://localhost:8080/"
        },
        "outputId": "76fafec5-7e13-4c97-cdcc-e4f202023095"
      },
      "source": [
        "y_ = model.predict(test_x)\n",
        "print(y_)\n",
        "print(np.argmax(y_, axis=1))"
      ],
      "execution_count": 25,
      "outputs": [
        {
          "output_type": "stream",
          "name": "stdout",
          "text": [
            "[[9.9912006e-01 8.7980978e-04 7.2468623e-08]\n",
            " [2.6200926e-03 9.6896720e-01 2.8412662e-02]\n",
            " [8.7026817e-01 1.2925687e-01 4.7495859e-04]\n",
            " [2.0392369e-04 9.5708925e-01 4.2706870e-02]\n",
            " [9.9869674e-01 1.3031940e-03 1.1993168e-07]\n",
            " [9.9959344e-01 4.0656439e-04 1.6365421e-08]\n",
            " [9.9962687e-01 3.7308325e-04 1.2221196e-08]\n",
            " [9.9643540e-01 3.5634867e-03 1.0263992e-06]\n",
            " [2.0403930e-03 9.8005116e-01 1.7908501e-02]\n",
            " [9.9817836e-01 1.8213622e-03 2.1807570e-07]\n",
            " [3.8730494e-07 4.5425877e-01 5.4574084e-01]\n",
            " [9.3348659e-05 9.1741794e-01 8.2488671e-02]\n",
            " [9.9865985e-01 1.3400804e-03 1.2669717e-07]\n",
            " [2.6657286e-11 3.2452289e-02 9.6754777e-01]\n",
            " [9.9837613e-01 1.6237336e-03 1.7803417e-07]\n",
            " [6.7799092e-06 7.1896601e-01 2.8102717e-01]\n",
            " [2.2788325e-03 9.8436141e-01 1.3359676e-02]\n",
            " [9.9788159e-01 2.1179758e-03 3.9426135e-07]\n",
            " [9.9909174e-01 9.0808584e-04 7.7059674e-08]\n",
            " [8.6556718e-04 9.6805900e-01 3.1075515e-02]]\n",
            "[0 1 0 1 0 0 0 0 1 0 2 1 0 2 0 1 1 0 0 1]\n"
          ]
        }
      ]
    },
    {
      "cell_type": "markdown",
      "metadata": {
        "id": "YxolUCqGW_JI"
      },
      "source": [
        "# 데이터 준비"
      ]
    },
    {
      "cell_type": "code",
      "metadata": {
        "colab": {
          "base_uri": "https://localhost:8080/"
        },
        "id": "kgWtnhoQYX3Z",
        "outputId": "40bffc37-d281-4696-f6fa-36b00c3a7e3f"
      },
      "source": [
        "iris.info()"
      ],
      "execution_count": 26,
      "outputs": [
        {
          "output_type": "stream",
          "name": "stdout",
          "text": [
            "<class 'pandas.core.frame.DataFrame'>\n",
            "RangeIndex: 120 entries, 0 to 119\n",
            "Data columns (total 5 columns):\n",
            " #   Column         Non-Null Count  Dtype  \n",
            "---  ------         --------------  -----  \n",
            " 0   septal_length  120 non-null    float64\n",
            " 1   septal_width   120 non-null    float64\n",
            " 2   petal_length   120 non-null    float64\n",
            " 3   petal_width    120 non-null    float64\n",
            " 4   class          120 non-null    int64  \n",
            "dtypes: float64(4), int64(1)\n",
            "memory usage: 4.8 KB\n"
          ]
        }
      ]
    },
    {
      "cell_type": "code",
      "metadata": {
        "colab": {
          "base_uri": "https://localhost:8080/"
        },
        "id": "na3NmNOCXA-n",
        "outputId": "b3c3b054-1eb8-445a-b4e9-981bf01e8c6d"
      },
      "source": [
        "iris.columns"
      ],
      "execution_count": 27,
      "outputs": [
        {
          "output_type": "execute_result",
          "data": {
            "text/plain": [
              "Index(['septal_length', 'septal_width', 'petal_length', 'petal_width',\n",
              "       'class'],\n",
              "      dtype='object')"
            ]
          },
          "metadata": {},
          "execution_count": 27
        }
      ]
    },
    {
      "cell_type": "code",
      "metadata": {
        "id": "mK5-HNB_XC-m"
      },
      "source": [
        "data_x = iris.loc[:, ['septal_length', 'septal_width', 'petal_length', 'petal_width']]\n",
        "data_y = iris.loc[:, 'class' ]"
      ],
      "execution_count": 28,
      "outputs": []
    },
    {
      "cell_type": "code",
      "metadata": {
        "colab": {
          "base_uri": "https://localhost:8080/",
          "height": 206
        },
        "id": "U7DlipAtXIy3",
        "outputId": "5707b59f-97e3-458c-db6d-7fbaf4987a84"
      },
      "source": [
        "data_x.head()"
      ],
      "execution_count": 29,
      "outputs": [
        {
          "output_type": "execute_result",
          "data": {
            "text/html": [
              "<div>\n",
              "<style scoped>\n",
              "    .dataframe tbody tr th:only-of-type {\n",
              "        vertical-align: middle;\n",
              "    }\n",
              "\n",
              "    .dataframe tbody tr th {\n",
              "        vertical-align: top;\n",
              "    }\n",
              "\n",
              "    .dataframe thead th {\n",
              "        text-align: right;\n",
              "    }\n",
              "</style>\n",
              "<table border=\"1\" class=\"dataframe\">\n",
              "  <thead>\n",
              "    <tr style=\"text-align: right;\">\n",
              "      <th></th>\n",
              "      <th>septal_length</th>\n",
              "      <th>septal_width</th>\n",
              "      <th>petal_length</th>\n",
              "      <th>petal_width</th>\n",
              "    </tr>\n",
              "  </thead>\n",
              "  <tbody>\n",
              "    <tr>\n",
              "      <th>0</th>\n",
              "      <td>6.4</td>\n",
              "      <td>2.8</td>\n",
              "      <td>5.6</td>\n",
              "      <td>2.2</td>\n",
              "    </tr>\n",
              "    <tr>\n",
              "      <th>1</th>\n",
              "      <td>5.0</td>\n",
              "      <td>2.3</td>\n",
              "      <td>3.3</td>\n",
              "      <td>1.0</td>\n",
              "    </tr>\n",
              "    <tr>\n",
              "      <th>2</th>\n",
              "      <td>4.9</td>\n",
              "      <td>2.5</td>\n",
              "      <td>4.5</td>\n",
              "      <td>1.7</td>\n",
              "    </tr>\n",
              "    <tr>\n",
              "      <th>3</th>\n",
              "      <td>4.9</td>\n",
              "      <td>3.1</td>\n",
              "      <td>1.5</td>\n",
              "      <td>0.1</td>\n",
              "    </tr>\n",
              "    <tr>\n",
              "      <th>4</th>\n",
              "      <td>5.7</td>\n",
              "      <td>3.8</td>\n",
              "      <td>1.7</td>\n",
              "      <td>0.3</td>\n",
              "    </tr>\n",
              "  </tbody>\n",
              "</table>\n",
              "</div>"
            ],
            "text/plain": [
              "   septal_length  septal_width  petal_length  petal_width\n",
              "0            6.4           2.8           5.6          2.2\n",
              "1            5.0           2.3           3.3          1.0\n",
              "2            4.9           2.5           4.5          1.7\n",
              "3            4.9           3.1           1.5          0.1\n",
              "4            5.7           3.8           1.7          0.3"
            ]
          },
          "metadata": {},
          "execution_count": 29
        }
      ]
    },
    {
      "cell_type": "code",
      "metadata": {
        "colab": {
          "base_uri": "https://localhost:8080/"
        },
        "id": "rBHjC9fhXFm2",
        "outputId": "4a4cdd66-6ac7-4cd8-d046-d89e0aae2e64"
      },
      "source": [
        "data_y.head()"
      ],
      "execution_count": 30,
      "outputs": [
        {
          "output_type": "execute_result",
          "data": {
            "text/plain": [
              "0    2\n",
              "1    1\n",
              "2    2\n",
              "3    0\n",
              "4    0\n",
              "Name: class, dtype: int64"
            ]
          },
          "metadata": {},
          "execution_count": 30
        }
      ]
    },
    {
      "cell_type": "code",
      "metadata": {
        "id": "KGFqGyLVXKMg"
      },
      "source": [
        "from sklearn.model_selection import train_test_split\n",
        "\n",
        "train_x, test_x, train_y, test_y = train_test_split(data_x, data_y, test_size=0.33, random_state=321)"
      ],
      "execution_count": 31,
      "outputs": []
    },
    {
      "cell_type": "code",
      "metadata": {
        "colab": {
          "base_uri": "https://localhost:8080/",
          "height": 424
        },
        "id": "YKxBDsgCXLcY",
        "outputId": "44cdf704-c5a0-4052-8150-6865432b0ea9"
      },
      "source": [
        "train_x"
      ],
      "execution_count": 32,
      "outputs": [
        {
          "output_type": "execute_result",
          "data": {
            "text/html": [
              "<div>\n",
              "<style scoped>\n",
              "    .dataframe tbody tr th:only-of-type {\n",
              "        vertical-align: middle;\n",
              "    }\n",
              "\n",
              "    .dataframe tbody tr th {\n",
              "        vertical-align: top;\n",
              "    }\n",
              "\n",
              "    .dataframe thead th {\n",
              "        text-align: right;\n",
              "    }\n",
              "</style>\n",
              "<table border=\"1\" class=\"dataframe\">\n",
              "  <thead>\n",
              "    <tr style=\"text-align: right;\">\n",
              "      <th></th>\n",
              "      <th>septal_length</th>\n",
              "      <th>septal_width</th>\n",
              "      <th>petal_length</th>\n",
              "      <th>petal_width</th>\n",
              "    </tr>\n",
              "  </thead>\n",
              "  <tbody>\n",
              "    <tr>\n",
              "      <th>25</th>\n",
              "      <td>5.2</td>\n",
              "      <td>3.5</td>\n",
              "      <td>1.500000</td>\n",
              "      <td>0.2</td>\n",
              "    </tr>\n",
              "    <tr>\n",
              "      <th>80</th>\n",
              "      <td>5.4</td>\n",
              "      <td>3.7</td>\n",
              "      <td>1.500000</td>\n",
              "      <td>0.2</td>\n",
              "    </tr>\n",
              "    <tr>\n",
              "      <th>104</th>\n",
              "      <td>5.0</td>\n",
              "      <td>3.4</td>\n",
              "      <td>1.600000</td>\n",
              "      <td>0.4</td>\n",
              "    </tr>\n",
              "    <tr>\n",
              "      <th>28</th>\n",
              "      <td>5.4</td>\n",
              "      <td>3.0</td>\n",
              "      <td>4.500000</td>\n",
              "      <td>1.5</td>\n",
              "    </tr>\n",
              "    <tr>\n",
              "      <th>60</th>\n",
              "      <td>5.6</td>\n",
              "      <td>2.5</td>\n",
              "      <td>3.900000</td>\n",
              "      <td>1.1</td>\n",
              "    </tr>\n",
              "    <tr>\n",
              "      <th>...</th>\n",
              "      <td>...</td>\n",
              "      <td>...</td>\n",
              "      <td>...</td>\n",
              "      <td>...</td>\n",
              "    </tr>\n",
              "    <tr>\n",
              "      <th>72</th>\n",
              "      <td>5.5</td>\n",
              "      <td>3.5</td>\n",
              "      <td>1.300000</td>\n",
              "      <td>0.2</td>\n",
              "    </tr>\n",
              "    <tr>\n",
              "      <th>41</th>\n",
              "      <td>5.8</td>\n",
              "      <td>2.7</td>\n",
              "      <td>5.100000</td>\n",
              "      <td>1.9</td>\n",
              "    </tr>\n",
              "    <tr>\n",
              "      <th>31</th>\n",
              "      <td>5.1</td>\n",
              "      <td>2.5</td>\n",
              "      <td>3.000000</td>\n",
              "      <td>1.1</td>\n",
              "    </tr>\n",
              "    <tr>\n",
              "      <th>26</th>\n",
              "      <td>5.8</td>\n",
              "      <td>2.6</td>\n",
              "      <td>4.000000</td>\n",
              "      <td>1.2</td>\n",
              "    </tr>\n",
              "    <tr>\n",
              "      <th>116</th>\n",
              "      <td>5.7</td>\n",
              "      <td>3.0</td>\n",
              "      <td>3.673504</td>\n",
              "      <td>1.2</td>\n",
              "    </tr>\n",
              "  </tbody>\n",
              "</table>\n",
              "<p>80 rows × 4 columns</p>\n",
              "</div>"
            ],
            "text/plain": [
              "     septal_length  septal_width  petal_length  petal_width\n",
              "25             5.2           3.5      1.500000          0.2\n",
              "80             5.4           3.7      1.500000          0.2\n",
              "104            5.0           3.4      1.600000          0.4\n",
              "28             5.4           3.0      4.500000          1.5\n",
              "60             5.6           2.5      3.900000          1.1\n",
              "..             ...           ...           ...          ...\n",
              "72             5.5           3.5      1.300000          0.2\n",
              "41             5.8           2.7      5.100000          1.9\n",
              "31             5.1           2.5      3.000000          1.1\n",
              "26             5.8           2.6      4.000000          1.2\n",
              "116            5.7           3.0      3.673504          1.2\n",
              "\n",
              "[80 rows x 4 columns]"
            ]
          },
          "metadata": {},
          "execution_count": 32
        }
      ]
    },
    {
      "cell_type": "code",
      "metadata": {
        "colab": {
          "base_uri": "https://localhost:8080/"
        },
        "id": "IOZBjeheXMXA",
        "outputId": "328c5def-34e6-4b11-fd03-6b0ddffcb143"
      },
      "source": [
        "train_y"
      ],
      "execution_count": 33,
      "outputs": [
        {
          "output_type": "execute_result",
          "data": {
            "text/plain": [
              "25     0\n",
              "80     0\n",
              "104    0\n",
              "28     1\n",
              "60     1\n",
              "      ..\n",
              "72     0\n",
              "41     2\n",
              "31     1\n",
              "26     1\n",
              "116    1\n",
              "Name: class, Length: 80, dtype: int64"
            ]
          },
          "metadata": {},
          "execution_count": 33
        }
      ]
    },
    {
      "cell_type": "code",
      "metadata": {
        "colab": {
          "base_uri": "https://localhost:8080/"
        },
        "id": "db5W5E-zXOPu",
        "outputId": "00b37e11-1063-4665-d4cd-678597a7b5f1"
      },
      "source": [
        "test_y"
      ],
      "execution_count": 34,
      "outputs": [
        {
          "output_type": "execute_result",
          "data": {
            "text/plain": [
              "46     0\n",
              "81     1\n",
              "32     1\n",
              "69     0\n",
              "6      0\n",
              "99     0\n",
              "8      1\n",
              "114    0\n",
              "78     1\n",
              "22     0\n",
              "58     2\n",
              "45     2\n",
              "103    1\n",
              "66     0\n",
              "56     2\n",
              "65     2\n",
              "36     2\n",
              "67     2\n",
              "53     0\n",
              "76     1\n",
              "21     1\n",
              "57     2\n",
              "100    0\n",
              "111    1\n",
              "15     1\n",
              "113    2\n",
              "94     2\n",
              "71     1\n",
              "105    0\n",
              "20     1\n",
              "23     2\n",
              "35     2\n",
              "44     0\n",
              "107    0\n",
              "92     0\n",
              "42     2\n",
              "68     2\n",
              "77     1\n",
              "74     2\n",
              "51     1\n",
              "Name: class, dtype: int64"
            ]
          },
          "metadata": {},
          "execution_count": 34
        }
      ]
    },
    {
      "cell_type": "code",
      "metadata": {
        "colab": {
          "base_uri": "https://localhost:8080/",
          "height": 1000
        },
        "id": "wpVtLdHsXPWH",
        "outputId": "0005f8b1-9ab1-4b68-941e-a1285e0106ae"
      },
      "source": [
        "test_x"
      ],
      "execution_count": 35,
      "outputs": [
        {
          "output_type": "execute_result",
          "data": {
            "text/html": [
              "<div>\n",
              "<style scoped>\n",
              "    .dataframe tbody tr th:only-of-type {\n",
              "        vertical-align: middle;\n",
              "    }\n",
              "\n",
              "    .dataframe tbody tr th {\n",
              "        vertical-align: top;\n",
              "    }\n",
              "\n",
              "    .dataframe thead th {\n",
              "        text-align: right;\n",
              "    }\n",
              "</style>\n",
              "<table border=\"1\" class=\"dataframe\">\n",
              "  <thead>\n",
              "    <tr style=\"text-align: right;\">\n",
              "      <th></th>\n",
              "      <th>septal_length</th>\n",
              "      <th>septal_width</th>\n",
              "      <th>petal_length</th>\n",
              "      <th>petal_width</th>\n",
              "    </tr>\n",
              "  </thead>\n",
              "  <tbody>\n",
              "    <tr>\n",
              "      <th>46</th>\n",
              "      <td>4.8</td>\n",
              "      <td>3.400000</td>\n",
              "      <td>1.6</td>\n",
              "      <td>0.2</td>\n",
              "    </tr>\n",
              "    <tr>\n",
              "      <th>81</th>\n",
              "      <td>6.1</td>\n",
              "      <td>2.900000</td>\n",
              "      <td>4.7</td>\n",
              "      <td>2.5</td>\n",
              "    </tr>\n",
              "    <tr>\n",
              "      <th>32</th>\n",
              "      <td>6.4</td>\n",
              "      <td>3.200000</td>\n",
              "      <td>4.5</td>\n",
              "      <td>1.5</td>\n",
              "    </tr>\n",
              "    <tr>\n",
              "      <th>69</th>\n",
              "      <td>5.0</td>\n",
              "      <td>3.400000</td>\n",
              "      <td>1.5</td>\n",
              "      <td>0.2</td>\n",
              "    </tr>\n",
              "    <tr>\n",
              "      <th>6</th>\n",
              "      <td>5.4</td>\n",
              "      <td>3.400000</td>\n",
              "      <td>1.5</td>\n",
              "      <td>0.4</td>\n",
              "    </tr>\n",
              "    <tr>\n",
              "      <th>99</th>\n",
              "      <td>5.1</td>\n",
              "      <td>3.800000</td>\n",
              "      <td>1.6</td>\n",
              "      <td>0.2</td>\n",
              "    </tr>\n",
              "    <tr>\n",
              "      <th>8</th>\n",
              "      <td>6.7</td>\n",
              "      <td>3.100000</td>\n",
              "      <td>4.4</td>\n",
              "      <td>1.4</td>\n",
              "    </tr>\n",
              "    <tr>\n",
              "      <th>114</th>\n",
              "      <td>5.0</td>\n",
              "      <td>3.500000</td>\n",
              "      <td>1.6</td>\n",
              "      <td>0.6</td>\n",
              "    </tr>\n",
              "    <tr>\n",
              "      <th>78</th>\n",
              "      <td>6.0</td>\n",
              "      <td>2.900000</td>\n",
              "      <td>4.5</td>\n",
              "      <td>1.5</td>\n",
              "    </tr>\n",
              "    <tr>\n",
              "      <th>22</th>\n",
              "      <td>5.4</td>\n",
              "      <td>3.900000</td>\n",
              "      <td>1.3</td>\n",
              "      <td>0.4</td>\n",
              "    </tr>\n",
              "    <tr>\n",
              "      <th>58</th>\n",
              "      <td>6.2</td>\n",
              "      <td>3.400000</td>\n",
              "      <td>5.4</td>\n",
              "      <td>2.3</td>\n",
              "    </tr>\n",
              "    <tr>\n",
              "      <th>45</th>\n",
              "      <td>6.0</td>\n",
              "      <td>2.200000</td>\n",
              "      <td>5.0</td>\n",
              "      <td>1.5</td>\n",
              "    </tr>\n",
              "    <tr>\n",
              "      <th>103</th>\n",
              "      <td>5.8</td>\n",
              "      <td>2.700000</td>\n",
              "      <td>4.1</td>\n",
              "      <td>1.0</td>\n",
              "    </tr>\n",
              "    <tr>\n",
              "      <th>66</th>\n",
              "      <td>4.4</td>\n",
              "      <td>3.000000</td>\n",
              "      <td>1.3</td>\n",
              "      <td>0.2</td>\n",
              "    </tr>\n",
              "    <tr>\n",
              "      <th>56</th>\n",
              "      <td>7.4</td>\n",
              "      <td>2.800000</td>\n",
              "      <td>6.1</td>\n",
              "      <td>1.9</td>\n",
              "    </tr>\n",
              "    <tr>\n",
              "      <th>65</th>\n",
              "      <td>7.3</td>\n",
              "      <td>2.900000</td>\n",
              "      <td>6.3</td>\n",
              "      <td>1.8</td>\n",
              "    </tr>\n",
              "    <tr>\n",
              "      <th>36</th>\n",
              "      <td>6.5</td>\n",
              "      <td>3.200000</td>\n",
              "      <td>5.1</td>\n",
              "      <td>2.0</td>\n",
              "    </tr>\n",
              "    <tr>\n",
              "      <th>67</th>\n",
              "      <td>7.2</td>\n",
              "      <td>3.600000</td>\n",
              "      <td>6.1</td>\n",
              "      <td>2.5</td>\n",
              "    </tr>\n",
              "    <tr>\n",
              "      <th>53</th>\n",
              "      <td>5.0</td>\n",
              "      <td>3.200000</td>\n",
              "      <td>1.2</td>\n",
              "      <td>0.2</td>\n",
              "    </tr>\n",
              "    <tr>\n",
              "      <th>76</th>\n",
              "      <td>5.5</td>\n",
              "      <td>3.289831</td>\n",
              "      <td>3.8</td>\n",
              "      <td>1.1</td>\n",
              "    </tr>\n",
              "    <tr>\n",
              "      <th>21</th>\n",
              "      <td>6.4</td>\n",
              "      <td>2.800000</td>\n",
              "      <td>5.6</td>\n",
              "      <td>2.0</td>\n",
              "    </tr>\n",
              "    <tr>\n",
              "      <th>57</th>\n",
              "      <td>5.8</td>\n",
              "      <td>2.700000</td>\n",
              "      <td>5.1</td>\n",
              "      <td>1.9</td>\n",
              "    </tr>\n",
              "    <tr>\n",
              "      <th>100</th>\n",
              "      <td>4.9</td>\n",
              "      <td>3.000000</td>\n",
              "      <td>1.4</td>\n",
              "      <td>0.2</td>\n",
              "    </tr>\n",
              "    <tr>\n",
              "      <th>111</th>\n",
              "      <td>5.7</td>\n",
              "      <td>2.800000</td>\n",
              "      <td>4.1</td>\n",
              "      <td>1.3</td>\n",
              "    </tr>\n",
              "    <tr>\n",
              "      <th>15</th>\n",
              "      <td>6.3</td>\n",
              "      <td>3.300000</td>\n",
              "      <td>4.7</td>\n",
              "      <td>1.6</td>\n",
              "    </tr>\n",
              "    <tr>\n",
              "      <th>113</th>\n",
              "      <td>6.3</td>\n",
              "      <td>3.300000</td>\n",
              "      <td>6.0</td>\n",
              "      <td>2.5</td>\n",
              "    </tr>\n",
              "    <tr>\n",
              "      <th>94</th>\n",
              "      <td>6.5</td>\n",
              "      <td>3.000000</td>\n",
              "      <td>5.8</td>\n",
              "      <td>2.2</td>\n",
              "    </tr>\n",
              "    <tr>\n",
              "      <th>71</th>\n",
              "      <td>6.6</td>\n",
              "      <td>2.900000</td>\n",
              "      <td>4.6</td>\n",
              "      <td>1.3</td>\n",
              "    </tr>\n",
              "    <tr>\n",
              "      <th>105</th>\n",
              "      <td>5.2</td>\n",
              "      <td>3.400000</td>\n",
              "      <td>1.4</td>\n",
              "      <td>0.2</td>\n",
              "    </tr>\n",
              "    <tr>\n",
              "      <th>20</th>\n",
              "      <td>6.7</td>\n",
              "      <td>3.300000</td>\n",
              "      <td>5.7</td>\n",
              "      <td>2.0</td>\n",
              "    </tr>\n",
              "    <tr>\n",
              "      <th>23</th>\n",
              "      <td>6.1</td>\n",
              "      <td>2.600000</td>\n",
              "      <td>5.6</td>\n",
              "      <td>1.4</td>\n",
              "    </tr>\n",
              "    <tr>\n",
              "      <th>35</th>\n",
              "      <td>6.9</td>\n",
              "      <td>3.200000</td>\n",
              "      <td>5.7</td>\n",
              "      <td>2.3</td>\n",
              "    </tr>\n",
              "    <tr>\n",
              "      <th>44</th>\n",
              "      <td>4.7</td>\n",
              "      <td>3.200000</td>\n",
              "      <td>1.6</td>\n",
              "      <td>0.2</td>\n",
              "    </tr>\n",
              "    <tr>\n",
              "      <th>107</th>\n",
              "      <td>5.0</td>\n",
              "      <td>3.600000</td>\n",
              "      <td>1.4</td>\n",
              "      <td>1.7</td>\n",
              "    </tr>\n",
              "    <tr>\n",
              "      <th>92</th>\n",
              "      <td>5.1</td>\n",
              "      <td>3.500000</td>\n",
              "      <td>1.4</td>\n",
              "      <td>0.3</td>\n",
              "    </tr>\n",
              "    <tr>\n",
              "      <th>42</th>\n",
              "      <td>6.7</td>\n",
              "      <td>3.000000</td>\n",
              "      <td>5.2</td>\n",
              "      <td>2.3</td>\n",
              "    </tr>\n",
              "    <tr>\n",
              "      <th>68</th>\n",
              "      <td>6.5</td>\n",
              "      <td>3.000000</td>\n",
              "      <td>5.5</td>\n",
              "      <td>1.8</td>\n",
              "    </tr>\n",
              "    <tr>\n",
              "      <th>77</th>\n",
              "      <td>5.7</td>\n",
              "      <td>2.900000</td>\n",
              "      <td>4.2</td>\n",
              "      <td>1.3</td>\n",
              "    </tr>\n",
              "    <tr>\n",
              "      <th>74</th>\n",
              "      <td>6.1</td>\n",
              "      <td>4.000000</td>\n",
              "      <td>4.9</td>\n",
              "      <td>1.8</td>\n",
              "    </tr>\n",
              "    <tr>\n",
              "      <th>51</th>\n",
              "      <td>6.6</td>\n",
              "      <td>3.000000</td>\n",
              "      <td>4.4</td>\n",
              "      <td>1.4</td>\n",
              "    </tr>\n",
              "  </tbody>\n",
              "</table>\n",
              "</div>"
            ],
            "text/plain": [
              "     septal_length  septal_width  petal_length  petal_width\n",
              "46             4.8      3.400000           1.6          0.2\n",
              "81             6.1      2.900000           4.7          2.5\n",
              "32             6.4      3.200000           4.5          1.5\n",
              "69             5.0      3.400000           1.5          0.2\n",
              "6              5.4      3.400000           1.5          0.4\n",
              "99             5.1      3.800000           1.6          0.2\n",
              "8              6.7      3.100000           4.4          1.4\n",
              "114            5.0      3.500000           1.6          0.6\n",
              "78             6.0      2.900000           4.5          1.5\n",
              "22             5.4      3.900000           1.3          0.4\n",
              "58             6.2      3.400000           5.4          2.3\n",
              "45             6.0      2.200000           5.0          1.5\n",
              "103            5.8      2.700000           4.1          1.0\n",
              "66             4.4      3.000000           1.3          0.2\n",
              "56             7.4      2.800000           6.1          1.9\n",
              "65             7.3      2.900000           6.3          1.8\n",
              "36             6.5      3.200000           5.1          2.0\n",
              "67             7.2      3.600000           6.1          2.5\n",
              "53             5.0      3.200000           1.2          0.2\n",
              "76             5.5      3.289831           3.8          1.1\n",
              "21             6.4      2.800000           5.6          2.0\n",
              "57             5.8      2.700000           5.1          1.9\n",
              "100            4.9      3.000000           1.4          0.2\n",
              "111            5.7      2.800000           4.1          1.3\n",
              "15             6.3      3.300000           4.7          1.6\n",
              "113            6.3      3.300000           6.0          2.5\n",
              "94             6.5      3.000000           5.8          2.2\n",
              "71             6.6      2.900000           4.6          1.3\n",
              "105            5.2      3.400000           1.4          0.2\n",
              "20             6.7      3.300000           5.7          2.0\n",
              "23             6.1      2.600000           5.6          1.4\n",
              "35             6.9      3.200000           5.7          2.3\n",
              "44             4.7      3.200000           1.6          0.2\n",
              "107            5.0      3.600000           1.4          1.7\n",
              "92             5.1      3.500000           1.4          0.3\n",
              "42             6.7      3.000000           5.2          2.3\n",
              "68             6.5      3.000000           5.5          1.8\n",
              "77             5.7      2.900000           4.2          1.3\n",
              "74             6.1      4.000000           4.9          1.8\n",
              "51             6.6      3.000000           4.4          1.4"
            ]
          },
          "metadata": {},
          "execution_count": 35
        }
      ]
    },
    {
      "cell_type": "markdown",
      "metadata": {
        "id": "5CyFXhlrubUQ"
      },
      "source": [
        "# 학습과 예측 실행"
      ]
    },
    {
      "cell_type": "code",
      "metadata": {
        "id": "TnvRbQerWyEf"
      },
      "source": [
        "from sklearn.linear_model import LogisticRegression #Logistic(Regression)Classifier\n",
        "from sklearn.tree import DecisionTreeClassifier #Decision Tree\n",
        "from sklearn.svm import SVC #Support Vector Machine\n",
        "from sklearn.naive_bayes import GaussianNB #Naive Bayesian\n",
        "from sklearn.neighbors import KNeighborsClassifier #K Nearest Neighbor\n",
        "from sklearn.ensemble import RandomForestClassifier #Random Forest\n",
        "from sklearn.ensemble import GradientBoostingClassifier #Gradient Boosing\n",
        "from sklearn.neural_network import MLPClassifier #Neural Network\n",
        "\n"
      ],
      "execution_count": 36,
      "outputs": []
    },
    {
      "cell_type": "code",
      "metadata": {
        "id": "4gdON4FuWzmg"
      },
      "source": [
        "#logistic (Regression) Classifier, Decision tree, support vector machine, naive bayesian, K Nearest Neighbor, Random Forest, Gradient Boosing, Neural Network\n",
        "models = []\n",
        "models.append((\"LR\", LogisticRegression()))\n",
        "models.append((\"DT\", DecisionTreeClassifier()))\n",
        "models.append((\"SVM\", SVC()))\n",
        "models.append((\"NB\", GaussianNB()))\n",
        "models.append((\"KNN\", KNeighborsClassifier()))\n",
        "models.append((\"RF\", RandomForestClassifier()))\n",
        "models.append((\"GB\", GradientBoostingClassifier()))\n",
        "models.append((\"ANN\", MLPClassifier()))"
      ],
      "execution_count": 37,
      "outputs": []
    },
    {
      "cell_type": "code",
      "metadata": {
        "colab": {
          "base_uri": "https://localhost:8080/"
        },
        "id": "nil8NgnFW0rI",
        "outputId": "599fbd0f-dd18-4964-f084-b32e7445bb8e"
      },
      "source": [
        "from sklearn.metrics import accuracy_score\n",
        "\n",
        "for name, model in models:\n",
        "    model.fit(train_x, train_y.values.ravel())\n",
        "    predicted_y = model.predict(test_x)\n",
        "    print(name, \"'s Accuracy is \", accuracy_score(test_y, predicted_y))"
      ],
      "execution_count": 38,
      "outputs": [
        {
          "output_type": "stream",
          "name": "stdout",
          "text": [
            "LR 's Accuracy is  0.9\n",
            "DT 's Accuracy is  0.9\n",
            "SVM 's Accuracy is  0.9\n",
            "NB 's Accuracy is  0.875\n",
            "KNN 's Accuracy is  0.925\n",
            "RF 's Accuracy is  0.875\n",
            "GB 's Accuracy is  0.875\n",
            "ANN 's Accuracy is  0.9\n"
          ]
        },
        {
          "output_type": "stream",
          "name": "stderr",
          "text": [
            "/usr/local/lib/python3.7/dist-packages/sklearn/neural_network/_multilayer_perceptron.py:696: ConvergenceWarning: Stochastic Optimizer: Maximum iterations (200) reached and the optimization hasn't converged yet.\n",
            "  ConvergenceWarning,\n"
          ]
        }
      ]
    },
    {
      "cell_type": "code",
      "metadata": {
        "id": "VCY-Jq1SXSQ_"
      },
      "source": [
        ""
      ],
      "execution_count": 38,
      "outputs": []
    }
  ]
}