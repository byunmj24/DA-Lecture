{
  "nbformat": 4,
  "nbformat_minor": 0,
  "metadata": {
    "colab": {
      "name": "20211123_numpy_note.ipynb",
      "provenance": [],
      "collapsed_sections": []
    },
    "kernelspec": {
      "name": "python3",
      "display_name": "Python 3"
    },
    "language_info": {
      "name": "python"
    }
  },
  "cells": [
    {
      "cell_type": "code",
      "metadata": {
        "colab": {
          "base_uri": "https://localhost:8080/"
        },
        "id": "e67K9e5eL_wD",
        "outputId": "34285d70-6e43-41c2-dd12-d6bb008c0241"
      },
      "source": [
        "!pip install numpy"
      ],
      "execution_count": null,
      "outputs": [
        {
          "output_type": "stream",
          "name": "stdout",
          "text": [
            "Requirement already satisfied: numpy in /usr/local/lib/python3.7/dist-packages (1.19.5)\n"
          ]
        }
      ]
    },
    {
      "cell_type": "code",
      "metadata": {
        "id": "2QguyU5RMBhM"
      },
      "source": [
        "import numpy as np"
      ],
      "execution_count": null,
      "outputs": []
    },
    {
      "cell_type": "code",
      "metadata": {
        "colab": {
          "base_uri": "https://localhost:8080/"
        },
        "id": "NG9sQkjYMH2M",
        "outputId": "e77698ee-a7e8-420e-e5a3-ca4a807a0434"
      },
      "source": [
        "a = np.arange(12)\n",
        "print(a)"
      ],
      "execution_count": null,
      "outputs": [
        {
          "output_type": "stream",
          "name": "stdout",
          "text": [
            "[ 0  1  2  3  4  5  6  7  8  9 10 11]\n"
          ]
        }
      ]
    },
    {
      "cell_type": "code",
      "metadata": {
        "colab": {
          "base_uri": "https://localhost:8080/"
        },
        "id": "0CaLDqnJMP6k",
        "outputId": "4dd0733b-2f88-4af1-8583-17f4765a1376"
      },
      "source": [
        "print(a[11])"
      ],
      "execution_count": null,
      "outputs": [
        {
          "output_type": "stream",
          "name": "stdout",
          "text": [
            "11\n"
          ]
        }
      ]
    },
    {
      "cell_type": "code",
      "metadata": {
        "colab": {
          "base_uri": "https://localhost:8080/"
        },
        "id": "xtluxFrIMY8r",
        "outputId": "e45e0512-5995-455a-a0b7-7afc354dbf3f"
      },
      "source": [
        "print(a[len(a)-1])"
      ],
      "execution_count": null,
      "outputs": [
        {
          "output_type": "stream",
          "name": "stdout",
          "text": [
            "11\n"
          ]
        }
      ]
    },
    {
      "cell_type": "code",
      "metadata": {
        "colab": {
          "base_uri": "https://localhost:8080/"
        },
        "id": "vdIhC0W0MizM",
        "outputId": "a46f8ee2-6ce2-4fa3-bfc8-429e79800806"
      },
      "source": [
        "print(a[-1])"
      ],
      "execution_count": null,
      "outputs": [
        {
          "output_type": "stream",
          "name": "stdout",
          "text": [
            "11\n"
          ]
        }
      ]
    },
    {
      "cell_type": "code",
      "metadata": {
        "colab": {
          "base_uri": "https://localhost:8080/"
        },
        "id": "DL0yXeA8MkaC",
        "outputId": "73a03ff2-23ec-4b8c-d31c-62a5ebcda274"
      },
      "source": [
        "print(a[-2])"
      ],
      "execution_count": null,
      "outputs": [
        {
          "output_type": "stream",
          "name": "stdout",
          "text": [
            "10\n"
          ]
        }
      ]
    },
    {
      "cell_type": "code",
      "metadata": {
        "colab": {
          "base_uri": "https://localhost:8080/"
        },
        "id": "3HEmWlR6Mlcj",
        "outputId": "074d8efc-1e72-4e54-d9ac-f7eef5801183"
      },
      "source": [
        "print(a[10:])\n",
        "\n",
        "print(a[-2:])"
      ],
      "execution_count": null,
      "outputs": [
        {
          "output_type": "stream",
          "name": "stdout",
          "text": [
            "[10 11]\n",
            "[10 11]\n"
          ]
        }
      ]
    },
    {
      "cell_type": "code",
      "metadata": {
        "colab": {
          "base_uri": "https://localhost:8080/"
        },
        "id": "u-1l1-3uM89r",
        "outputId": "6c08ce48-91b3-4fc1-a8ee-0965c03e157c"
      },
      "source": [
        "# 뒤에서 4개 숫자 합\n",
        "print(a)\n",
        "print(a[-4:])\n",
        "print(np.sum(a[-4:]))\n"
      ],
      "execution_count": null,
      "outputs": [
        {
          "output_type": "stream",
          "name": "stdout",
          "text": [
            "[ 0  1  2  3  4  5  6  7  8  9 10 11]\n",
            "[ 8  9 10 11]\n",
            "38\n"
          ]
        }
      ]
    },
    {
      "cell_type": "code",
      "metadata": {
        "colab": {
          "base_uri": "https://localhost:8080/"
        },
        "id": "J5FANd95NCe7",
        "outputId": "841b77ce-19ae-4c54-f695-2bf72e8737f8"
      },
      "source": [
        "# Boolean 타입과의 연산 True = 1 / False = 0\n",
        "print(5*1)\n",
        "print(5*True)\n",
        "print(5*False)"
      ],
      "execution_count": null,
      "outputs": [
        {
          "output_type": "stream",
          "name": "stdout",
          "text": [
            "5\n",
            "5\n",
            "0\n"
          ]
        }
      ]
    },
    {
      "cell_type": "code",
      "metadata": {
        "colab": {
          "base_uri": "https://localhost:8080/"
        },
        "id": "IGI6IZ4hNg-M",
        "outputId": "0998c7b4-cd71-4ebe-dc2d-1da081b93d92"
      },
      "source": [
        "a = np.array([0, 1, 2, 3, 4, 5])\n",
        "# b = np.array([0, 0, 0, 1, 1, 1])\n",
        "b = np.array([False, False, False, True, True, True])\n",
        "print(a*b)"
      ],
      "execution_count": null,
      "outputs": [
        {
          "output_type": "stream",
          "name": "stdout",
          "text": [
            "[0 0 0 3 4 5]\n"
          ]
        }
      ]
    },
    {
      "cell_type": "code",
      "metadata": {
        "colab": {
          "base_uri": "https://localhost:8080/"
        },
        "id": "6h7q7SOaNteU",
        "outputId": "9e0a901b-3d66-43c7-d1ff-7eefea9c6195"
      },
      "source": [
        "a = np.arange(12)\n",
        "\n",
        "mask = a%2 == 0\n",
        "print(a)\n",
        "print(mask)"
      ],
      "execution_count": null,
      "outputs": [
        {
          "output_type": "stream",
          "name": "stdout",
          "text": [
            "[ 0  1  2  3  4  5  6  7  8  9 10 11]\n",
            "[ True False  True False  True False  True False  True False  True False]\n"
          ]
        }
      ]
    },
    {
      "cell_type": "code",
      "metadata": {
        "colab": {
          "base_uri": "https://localhost:8080/"
        },
        "id": "6y6oEXBhOxv3",
        "outputId": "6513f3a1-ead3-4f19-8053-e09cb7f53fd6"
      },
      "source": [
        "a = np.arange(25).reshape((5,5))\n",
        "mask = np.array([[1,1,1,1,1],\n",
        "                 [1,0,0,0,1],\n",
        "                 [1,0,0,0,1],\n",
        "                 [1,0,0,0,1],\n",
        "                 [1,1,1,1,1]])\n",
        "print(a)\n",
        "print(mask)\n",
        "print(a*mask)\n",
        "print(np.sum(a*mask))"
      ],
      "execution_count": null,
      "outputs": [
        {
          "output_type": "stream",
          "name": "stdout",
          "text": [
            "[[ 0  1  2  3  4]\n",
            " [ 5  6  7  8  9]\n",
            " [10 11 12 13 14]\n",
            " [15 16 17 18 19]\n",
            " [20 21 22 23 24]]\n",
            "[[1 1 1 1 1]\n",
            " [1 0 0 0 1]\n",
            " [1 0 0 0 1]\n",
            " [1 0 0 0 1]\n",
            " [1 1 1 1 1]]\n",
            "[[ 0  1  2  3  4]\n",
            " [ 5  0  0  0  9]\n",
            " [10  0  0  0 14]\n",
            " [15  0  0  0 19]\n",
            " [20 21 22 23 24]]\n",
            "192\n"
          ]
        }
      ]
    },
    {
      "cell_type": "code",
      "metadata": {
        "colab": {
          "base_uri": "https://localhost:8080/"
        },
        "id": "8bsNKHAvPqWk",
        "outputId": "9a2ba340-ca71-469c-92a8-323b9c6e2189"
      },
      "source": [
        "a = np.arange(25).reshape((5,5))\n",
        "# 테두리가 1인 행렬 만들기\n",
        "mask = np.ones_like(a)\n",
        "mask[1:-1,1:-1] = 0\n",
        "\n",
        "print(a)\n",
        "print(mask)\n",
        "print(a*mask)\n",
        "print(np.sum(a*mask))"
      ],
      "execution_count": null,
      "outputs": [
        {
          "output_type": "stream",
          "name": "stdout",
          "text": [
            "[[ 0  1  2  3  4]\n",
            " [ 5  6  7  8  9]\n",
            " [10 11 12 13 14]\n",
            " [15 16 17 18 19]\n",
            " [20 21 22 23 24]]\n",
            "[[1 1 1 1 1]\n",
            " [1 0 0 0 1]\n",
            " [1 0 0 0 1]\n",
            " [1 0 0 0 1]\n",
            " [1 1 1 1 1]]\n",
            "[[ 0  1  2  3  4]\n",
            " [ 5  0  0  0  9]\n",
            " [10  0  0  0 14]\n",
            " [15  0  0  0 19]\n",
            " [20 21 22 23 24]]\n",
            "192\n"
          ]
        }
      ]
    },
    {
      "cell_type": "code",
      "metadata": {
        "id": "7-0vXT5vQX5c",
        "colab": {
          "base_uri": "https://localhost:8080/"
        },
        "outputId": "6494773e-0149-4aa7-9a30-d0fe81d7836a"
      },
      "source": [
        "# a 행렬의 대각선의 평균\n",
        "a = np.arange(25).reshape((5,5))\n",
        "mask = np.eye(5)\n",
        "cnt_mask = np.sum(mask)\n",
        "\n",
        "#print(a)\n",
        "#print(mask)\n",
        "print(a*mask)\n",
        "print(sum_mask)\n",
        "\n",
        "print(np.sum(a*mask)/sum_mask)"
      ],
      "execution_count": null,
      "outputs": [
        {
          "output_type": "stream",
          "name": "stdout",
          "text": [
            "[[ 0.  0.  0.  0.  0.]\n",
            " [ 0.  6.  0.  0.  0.]\n",
            " [ 0.  0. 12.  0.  0.]\n",
            " [ 0.  0.  0. 18.  0.]\n",
            " [ 0.  0.  0.  0. 24.]]\n",
            "5.0\n",
            "12.0\n"
          ]
        }
      ]
    },
    {
      "cell_type": "markdown",
      "metadata": {
        "id": "iL-vyWCnUUYF"
      },
      "source": [
        "```\n",
        "Numpy 의 데이터를 추가하거나 삭제하는 것은 추천하지 않음...\n",
        "굳이 해야한다면 새로 만들어서 쌓는것을 활용\n",
        "메모리 활용 구조 상...중간에 데이터가 들어가면 연산이 느리다\n",
        "```"
      ]
    },
    {
      "cell_type": "code",
      "metadata": {
        "colab": {
          "base_uri": "https://localhost:8080/"
        },
        "id": "AELV_T8gWLoM",
        "outputId": "d0a52fa9-d849-4683-f33d-174e3eb043b9"
      },
      "source": [
        "# 파이썬 리스트에서 삽입\n",
        "a = [0, 1, 2, 3, 4]\n",
        "print(a)\n",
        "a.insert(3, 99)\n",
        "print(a)"
      ],
      "execution_count": null,
      "outputs": [
        {
          "output_type": "stream",
          "name": "stdout",
          "text": [
            "[0, 1, 2, 3, 4]\n",
            "[0, 1, 2, 99, 3, 4]\n"
          ]
        }
      ]
    },
    {
      "cell_type": "markdown",
      "metadata": {
        "id": "6xx124mVW07F"
      },
      "source": [
        "### Numpy 차원 확장 - Expand_dim"
      ]
    },
    {
      "cell_type": "code",
      "metadata": {
        "colab": {
          "base_uri": "https://localhost:8080/"
        },
        "id": "PGBPn7bHXXaV",
        "outputId": "e543a194-576d-480e-e1ef-6b4247879203"
      },
      "source": [
        "a = np.arange(4)\n",
        "print(a)\n",
        "print(a.shape)"
      ],
      "execution_count": null,
      "outputs": [
        {
          "output_type": "stream",
          "name": "stdout",
          "text": [
            "[0 1 2 3]\n",
            "(4,)\n"
          ]
        }
      ]
    },
    {
      "cell_type": "code",
      "metadata": {
        "colab": {
          "base_uri": "https://localhost:8080/"
        },
        "id": "eU_WaKLuXa5W",
        "outputId": "b6950300-1981-48a8-9751-c9872ed2944a"
      },
      "source": [
        "a = a.reshape(4,1)\n",
        "print(a)\n",
        "print(a.shape)\n",
        "a = a.reshape(1,4)\n",
        "print(a)\n",
        "print(a.shape)\n",
        "a = a.reshape(2,2)\n",
        "print(a)\n",
        "print(a.shape)"
      ],
      "execution_count": null,
      "outputs": [
        {
          "output_type": "stream",
          "name": "stdout",
          "text": [
            "[[0]\n",
            " [1]\n",
            " [2]\n",
            " [3]]\n",
            "(4, 1)\n",
            "[[0 1 2 3]]\n",
            "(1, 4)\n",
            "[[0 1]\n",
            " [2 3]]\n",
            "(2, 2)\n"
          ]
        }
      ]
    },
    {
      "cell_type": "code",
      "metadata": {
        "colab": {
          "base_uri": "https://localhost:8080/"
        },
        "id": "WFTpdaohYVOm",
        "outputId": "f346fc25-ff70-42f8-fa51-e4a965bf1410"
      },
      "source": [
        "a = np.arange(12).reshape(3,4)\n",
        "print(a)\n",
        "print(a.shape)\n",
        "\n",
        "a1 = np.expand_dims(a, axis = 1)\n",
        "print(a1)\n",
        "print(a1.shape)\n",
        "\n",
        "a2 = np.expand_dims(a, axis = -1)\n",
        "print(a2)\n",
        "print(a2.shape)"
      ],
      "execution_count": null,
      "outputs": [
        {
          "output_type": "stream",
          "name": "stdout",
          "text": [
            "[[ 0  1  2  3]\n",
            " [ 4  5  6  7]\n",
            " [ 8  9 10 11]]\n",
            "(3, 4)\n",
            "[[[ 0  1  2  3]]\n",
            "\n",
            " [[ 4  5  6  7]]\n",
            "\n",
            " [[ 8  9 10 11]]]\n",
            "(3, 1, 4)\n",
            "[[[ 0]\n",
            "  [ 1]\n",
            "  [ 2]\n",
            "  [ 3]]\n",
            "\n",
            " [[ 4]\n",
            "  [ 5]\n",
            "  [ 6]\n",
            "  [ 7]]\n",
            "\n",
            " [[ 8]\n",
            "  [ 9]\n",
            "  [10]\n",
            "  [11]]]\n",
            "(3, 4, 1)\n"
          ]
        }
      ]
    },
    {
      "cell_type": "code",
      "metadata": {
        "colab": {
          "base_uri": "https://localhost:8080/"
        },
        "id": "bTw4q5hOZI3N",
        "outputId": "ffb34980-c46f-4227-a3cd-5de68eb7a56d"
      },
      "source": [
        "# 차원 확장 연습\n",
        "a = np.arange(6).reshape(2,3)\n",
        "\n",
        "a1 = np.expand_dims(a, axis=0)\n",
        "print(a1)\n",
        "print(a1.shape)\n",
        "\n",
        "a2 = np.expand_dims(a, axis=1)\n",
        "print(a2)\n",
        "print(a2.shape)\n",
        "\n",
        "a3 = np.expand_dims(a, axis=2)   # axis = -1\n",
        "print(a3)\n",
        "print(a3.shape)"
      ],
      "execution_count": null,
      "outputs": [
        {
          "output_type": "stream",
          "name": "stdout",
          "text": [
            "[[[0 1 2]\n",
            "  [3 4 5]]]\n",
            "(1, 2, 3)\n",
            "[[[0 1 2]]\n",
            "\n",
            " [[3 4 5]]]\n",
            "(2, 1, 3)\n",
            "[[[0]\n",
            "  [1]\n",
            "  [2]]\n",
            "\n",
            " [[3]\n",
            "  [4]\n",
            "  [5]]]\n",
            "(2, 3, 1)\n"
          ]
        }
      ]
    },
    {
      "cell_type": "markdown",
      "metadata": {
        "id": "vXpwxwyaaPHH"
      },
      "source": [
        "### 차원 축소 - Squeeze"
      ]
    },
    {
      "cell_type": "code",
      "metadata": {
        "colab": {
          "base_uri": "https://localhost:8080/"
        },
        "id": "JqgkyxJGb7Bn",
        "outputId": "79be0a0c-1abc-4790-c70f-c6ac90f539f6"
      },
      "source": [
        "a = np.arange(12).reshape((1, 3, 4))\n",
        "print(a)\n",
        "print(a.shape)\n",
        "\n",
        "a = np.squeeze(a)\n",
        "print(a)\n",
        "print(a.shape)"
      ],
      "execution_count": null,
      "outputs": [
        {
          "output_type": "stream",
          "name": "stdout",
          "text": [
            "[[[ 0  1  2  3]\n",
            "  [ 4  5  6  7]\n",
            "  [ 8  9 10 11]]]\n",
            "(1, 3, 4)\n",
            "[[ 0  1  2  3]\n",
            " [ 4  5  6  7]\n",
            " [ 8  9 10 11]]\n",
            "(3, 4)\n"
          ]
        }
      ]
    },
    {
      "cell_type": "code",
      "metadata": {
        "colab": {
          "base_uri": "https://localhost:8080/"
        },
        "id": "9UjjGKYNcDof",
        "outputId": "70c42950-7717-477f-c0d2-927d96a04437"
      },
      "source": [
        "# default : 필요없는 1이 있는 차원을 다 없앤다.\n",
        "a = np.arange(12).reshape((1, 3, 1, 4))\n",
        "print(a)\n",
        "print(a.shape)\n",
        "\n",
        "a = np.squeeze(a)\n",
        "print(a)\n",
        "print(a.shape)"
      ],
      "execution_count": null,
      "outputs": [
        {
          "output_type": "stream",
          "name": "stdout",
          "text": [
            "[[[[ 0  1  2  3]]\n",
            "\n",
            "  [[ 4  5  6  7]]\n",
            "\n",
            "  [[ 8  9 10 11]]]]\n",
            "(1, 3, 1, 4)\n",
            "[[ 0  1  2  3]\n",
            " [ 4  5  6  7]\n",
            " [ 8  9 10 11]]\n",
            "(3, 4)\n"
          ]
        }
      ]
    },
    {
      "cell_type": "code",
      "metadata": {
        "colab": {
          "base_uri": "https://localhost:8080/"
        },
        "id": "0TiZOA3pe14Q",
        "outputId": "c8667928-3803-4a4b-a013-b66e20c01d5c"
      },
      "source": [
        "# 축 지정으로 차원 축소\n",
        "a = np.arange(12).reshape((1, 3, 1, 4))\n",
        "a = np.squeeze(a, axis=0)\n",
        "print(a.shape)"
      ],
      "execution_count": null,
      "outputs": [
        {
          "output_type": "stream",
          "name": "stdout",
          "text": [
            "(3, 1, 4)\n"
          ]
        }
      ]
    },
    {
      "cell_type": "code",
      "metadata": {
        "colab": {
          "base_uri": "https://localhost:8080/"
        },
        "id": "rjlqYTuydcjV",
        "outputId": "da76948c-6364-4651-bc8b-9e4419375edc"
      },
      "source": [
        "a = np.arange(12)\n",
        "\n",
        "# a = a.reshape((3, 4))\n",
        "a = a.reshape((3, -1))\n",
        "print(a)"
      ],
      "execution_count": null,
      "outputs": [
        {
          "output_type": "stream",
          "name": "stdout",
          "text": [
            "[[ 0  1  2  3]\n",
            " [ 4  5  6  7]\n",
            " [ 8  9 10 11]]\n"
          ]
        }
      ]
    },
    {
      "cell_type": "code",
      "metadata": {
        "colab": {
          "base_uri": "https://localhost:8080/"
        },
        "id": "IvDLIVt-dvcX",
        "outputId": "e689e11f-385c-4151-f6c0-c874cc30b20e"
      },
      "source": [
        "a = np.arange(12).reshape(3, 4)\n",
        "print(a)\n",
        "\n",
        "# 전치 행렬 - Transform\n",
        "print(a.T)"
      ],
      "execution_count": null,
      "outputs": [
        {
          "output_type": "stream",
          "name": "stdout",
          "text": [
            "[[ 0  1  2  3]\n",
            " [ 4  5  6  7]\n",
            " [ 8  9 10 11]]\n",
            "[[ 0  4  8]\n",
            " [ 1  5  9]\n",
            " [ 2  6 10]\n",
            " [ 3  7 11]]\n"
          ]
        }
      ]
    },
    {
      "cell_type": "markdown",
      "metadata": {
        "id": "2Nowk_r5eTI4"
      },
      "source": [
        "### 축 연산"
      ]
    },
    {
      "cell_type": "code",
      "metadata": {
        "colab": {
          "base_uri": "https://localhost:8080/"
        },
        "id": "N06L0F2-faQO",
        "outputId": "996cee89-29aa-40e6-f387-4264af92709c"
      },
      "source": [
        "# 축 단위로 연산하기\n",
        "a = np.arange(300).reshape((100, 3))\n",
        "print(a)\n",
        "# 합치면 축 하나가 사라진다. axis 에는 없애고자 하는 축 번호를 넣는다고 생각하면 쉽다.\n",
        "s = np.sum(a, axis=0)\n",
        "print(s)\n",
        "print(s.shape)"
      ],
      "execution_count": null,
      "outputs": [
        {
          "output_type": "stream",
          "name": "stdout",
          "text": [
            "[[  0   1   2]\n",
            " [  3   4   5]\n",
            " [  6   7   8]\n",
            " [  9  10  11]\n",
            " [ 12  13  14]\n",
            " [ 15  16  17]\n",
            " [ 18  19  20]\n",
            " [ 21  22  23]\n",
            " [ 24  25  26]\n",
            " [ 27  28  29]\n",
            " [ 30  31  32]\n",
            " [ 33  34  35]\n",
            " [ 36  37  38]\n",
            " [ 39  40  41]\n",
            " [ 42  43  44]\n",
            " [ 45  46  47]\n",
            " [ 48  49  50]\n",
            " [ 51  52  53]\n",
            " [ 54  55  56]\n",
            " [ 57  58  59]\n",
            " [ 60  61  62]\n",
            " [ 63  64  65]\n",
            " [ 66  67  68]\n",
            " [ 69  70  71]\n",
            " [ 72  73  74]\n",
            " [ 75  76  77]\n",
            " [ 78  79  80]\n",
            " [ 81  82  83]\n",
            " [ 84  85  86]\n",
            " [ 87  88  89]\n",
            " [ 90  91  92]\n",
            " [ 93  94  95]\n",
            " [ 96  97  98]\n",
            " [ 99 100 101]\n",
            " [102 103 104]\n",
            " [105 106 107]\n",
            " [108 109 110]\n",
            " [111 112 113]\n",
            " [114 115 116]\n",
            " [117 118 119]\n",
            " [120 121 122]\n",
            " [123 124 125]\n",
            " [126 127 128]\n",
            " [129 130 131]\n",
            " [132 133 134]\n",
            " [135 136 137]\n",
            " [138 139 140]\n",
            " [141 142 143]\n",
            " [144 145 146]\n",
            " [147 148 149]\n",
            " [150 151 152]\n",
            " [153 154 155]\n",
            " [156 157 158]\n",
            " [159 160 161]\n",
            " [162 163 164]\n",
            " [165 166 167]\n",
            " [168 169 170]\n",
            " [171 172 173]\n",
            " [174 175 176]\n",
            " [177 178 179]\n",
            " [180 181 182]\n",
            " [183 184 185]\n",
            " [186 187 188]\n",
            " [189 190 191]\n",
            " [192 193 194]\n",
            " [195 196 197]\n",
            " [198 199 200]\n",
            " [201 202 203]\n",
            " [204 205 206]\n",
            " [207 208 209]\n",
            " [210 211 212]\n",
            " [213 214 215]\n",
            " [216 217 218]\n",
            " [219 220 221]\n",
            " [222 223 224]\n",
            " [225 226 227]\n",
            " [228 229 230]\n",
            " [231 232 233]\n",
            " [234 235 236]\n",
            " [237 238 239]\n",
            " [240 241 242]\n",
            " [243 244 245]\n",
            " [246 247 248]\n",
            " [249 250 251]\n",
            " [252 253 254]\n",
            " [255 256 257]\n",
            " [258 259 260]\n",
            " [261 262 263]\n",
            " [264 265 266]\n",
            " [267 268 269]\n",
            " [270 271 272]\n",
            " [273 274 275]\n",
            " [276 277 278]\n",
            " [279 280 281]\n",
            " [282 283 284]\n",
            " [285 286 287]\n",
            " [288 289 290]\n",
            " [291 292 293]\n",
            " [294 295 296]\n",
            " [297 298 299]]\n",
            "[14850 14950 15050]\n",
            "(3,)\n"
          ]
        }
      ]
    },
    {
      "cell_type": "code",
      "metadata": {
        "colab": {
          "base_uri": "https://localhost:8080/"
        },
        "id": "UoDEk94ifef9",
        "outputId": "4e74e330-3de2-4816-8549-1cf320dd5a01"
      },
      "source": [
        "# 축 단위로 연산하기\n",
        "a = np.arange(15).reshape((5, 3))\n",
        "print(a)\n",
        "\n",
        "# 합치면 축 하나가 사라진다. axis 에는 없애고자 하는 축 번호를 넣는다고 생각하면 쉽다.\n",
        "s = np.sum(a, axis=0)\n",
        "print(s)\n",
        "print(s.shape)\n",
        "\n",
        "\n",
        "s = np.sum(a, axis=1)\n",
        "print(s)\n",
        "print(s.shape)"
      ],
      "execution_count": null,
      "outputs": [
        {
          "output_type": "stream",
          "name": "stdout",
          "text": [
            "[[ 0  1  2]\n",
            " [ 3  4  5]\n",
            " [ 6  7  8]\n",
            " [ 9 10 11]\n",
            " [12 13 14]]\n",
            "[30 35 40]\n",
            "(3,)\n",
            "[ 3 12 21 30 39]\n",
            "(5,)\n"
          ]
        }
      ]
    },
    {
      "cell_type": "code",
      "metadata": {
        "colab": {
          "base_uri": "https://localhost:8080/"
        },
        "id": "nLEVjvcTh1tF",
        "outputId": "2a8ae87a-bfe9-4834-e3bf-2997ec8642bf"
      },
      "source": [
        "# 축 단위로 연산하기\n",
        "a = np.arange(15).reshape((5, 3))\n",
        "print(a)\n",
        "\n",
        "# 합치면 축 하나가 사라진다. axis 에는 없애고자 하는 축 번호를 넣는다고 생각하면 쉽다.\n",
        "s = np.mean(a, axis=0)\n",
        "print(s)\n",
        "print(s.shape)\n",
        "\n",
        "\n",
        "s = np.mean(a, axis=1)\n",
        "print(s)\n",
        "print(s.shape)"
      ],
      "execution_count": null,
      "outputs": [
        {
          "output_type": "stream",
          "name": "stdout",
          "text": [
            "[[ 0  1  2]\n",
            " [ 3  4  5]\n",
            " [ 6  7  8]\n",
            " [ 9 10 11]\n",
            " [12 13 14]]\n",
            "[6. 7. 8.]\n",
            "(3,)\n",
            "[ 1.  4.  7. 10. 13.]\n",
            "(5,)\n"
          ]
        }
      ]
    },
    {
      "cell_type": "code",
      "metadata": {
        "colab": {
          "base_uri": "https://localhost:8080/"
        },
        "id": "-ZwMbZXSi-RY",
        "outputId": "c84d2e2c-7b63-443b-8a75-a261d440f05d"
      },
      "source": [
        "a = np.arange(60).reshape(3,4,5)\n",
        "\n",
        "# (3, 4)\n",
        "s = np.sum(a, axis = 2)\n",
        "print(s.shape)\n",
        "\n",
        "# (4, 5)\n",
        "s = np.sum(a, axis = 0)\n",
        "print(s.shape)\n",
        "\n",
        "# (3, 5)\n",
        "s = np.sum(a, axis = 1)\n",
        "print(s.shape)"
      ],
      "execution_count": null,
      "outputs": [
        {
          "output_type": "stream",
          "name": "stdout",
          "text": [
            "(3, 4)\n",
            "(4, 5)\n",
            "(3, 5)\n"
          ]
        }
      ]
    },
    {
      "cell_type": "code",
      "metadata": {
        "colab": {
          "base_uri": "https://localhost:8080/"
        },
        "id": "Av5IAPK2kjKu",
        "outputId": "9b334341-7300-4a0b-a6d0-ad03a7295466"
      },
      "source": [
        "# 데이터 생성\n",
        "a = np.array([[170, 65],\n",
        "             [165, 75],\n",
        "             [171, 70],\n",
        "             [155, 50],\n",
        "             [165, 55]])\n",
        "\n",
        "# 키와 몸무게의 평균\n",
        "print(np.mean(a, axis = 0))\n",
        "\n",
        "# 가장 큰 키와, 가장 큰 몸무게 출력\n",
        "print(np.max(a, axis = 0))\n",
        "\n",
        "# 가장 큰 키의 idx\n",
        "print(np.argmax(a, axis = 0))"
      ],
      "execution_count": null,
      "outputs": [
        {
          "output_type": "stream",
          "name": "stdout",
          "text": [
            "[165.2  63. ]\n",
            "[171  75]\n",
            "[2 1]\n"
          ]
        }
      ]
    },
    {
      "cell_type": "code",
      "metadata": {
        "colab": {
          "base_uri": "https://localhost:8080/"
        },
        "id": "Pmm8gQsVlc9l",
        "outputId": "08caab71-6111-4113-9f97-a14d30f8c511"
      },
      "source": [
        "a = np.array([1, 3, 5, 2, 4])\n",
        "print(np.max(a))\n",
        "# 최대값을 가진 인덱스 출력\n",
        "print(np.argmax(a))"
      ],
      "execution_count": null,
      "outputs": [
        {
          "output_type": "stream",
          "name": "stdout",
          "text": [
            "5\n",
            "2\n"
          ]
        }
      ]
    },
    {
      "cell_type": "code",
      "metadata": {
        "colab": {
          "base_uri": "https://localhost:8080/"
        },
        "id": "DranqAaomq2a",
        "outputId": "d0cfed97-3f8a-4965-c84f-55c36ddd0017"
      },
      "source": [
        "# axis 여러개 연산\n",
        "a = np.arange(12).reshape(3, 2, 2)\n",
        "print(a)\n",
        "print(np.sum(a, axis = (1, 2)))"
      ],
      "execution_count": null,
      "outputs": [
        {
          "output_type": "stream",
          "name": "stdout",
          "text": [
            "[[[ 0  1]\n",
            "  [ 2  3]]\n",
            "\n",
            " [[ 4  5]\n",
            "  [ 6  7]]\n",
            "\n",
            " [[ 8  9]\n",
            "  [10 11]]]\n",
            "[ 6 22 38]\n"
          ]
        }
      ]
    },
    {
      "cell_type": "code",
      "metadata": {
        "colab": {
          "base_uri": "https://localhost:8080/"
        },
        "id": "UljyZ_TH-uiy",
        "outputId": "27376f6d-415f-4fa3-fb71-8fc23b03febf"
      },
      "source": [
        "# a = np.random.randint(12, size = 12).reshape((3, 4))\n",
        "# 딥러닝 - 분류에서 출력값 최대인 것 뽑기\n",
        "a = np.random.rand(12).reshape((4, 3))\n",
        "print(a)\n",
        "print(np.argmax(a, axis = 1))"
      ],
      "execution_count": null,
      "outputs": [
        {
          "output_type": "stream",
          "name": "stdout",
          "text": [
            "[[0.40018258 0.06936384 0.8007233 ]\n",
            " [0.56886213 0.14921921 0.55411777]\n",
            " [0.26411814 0.01837613 0.08399395]\n",
            " [0.70567038 0.03654132 0.29763488]]\n",
            "[2 0 0 0]\n"
          ]
        }
      ]
    },
    {
      "cell_type": "code",
      "metadata": {
        "colab": {
          "base_uri": "https://localhost:8080/"
        },
        "id": "uKPWMaAR-Uur",
        "outputId": "298bec45-7ea3-4997-e806-b26eb607e3ec"
      },
      "source": [
        "a = np.array([3, 7, 5, 1, 8, 6, 4])\n",
        "print(np.sort(a))\n",
        "print(np.argsort(a))"
      ],
      "execution_count": null,
      "outputs": [
        {
          "output_type": "stream",
          "name": "stdout",
          "text": [
            "[1 3 4 5 6 7 8]\n",
            "[3 0 6 2 5 1 4]\n"
          ]
        }
      ]
    },
    {
      "cell_type": "code",
      "metadata": {
        "colab": {
          "base_uri": "https://localhost:8080/"
        },
        "id": "YjsRZY25_tS5",
        "outputId": "ba6eeb7e-ff49-4935-e031-e46ce8d3d263"
      },
      "source": [
        "a = np.arange(6).reshape(2, 3)\n",
        "#      arange(start, end, step)\n",
        "b = np.arange(6, 12).reshape(2, 3)\n",
        "print(a)\n",
        "print(b)\n",
        "print(np.vstack([a, b]))\n",
        "print(np.hstack([a, b]))\n",
        "# a라는 array와 b라는 array를 같이 담을 수 있는 c라는 array를 새로 만들어서 채우는 개념\n",
        "# a, b array는 그대로이므로 행을 추가한 개념은 아니다.\n",
        "c = np.vstack([a, b])\n",
        "print(a)\n",
        "print(b)"
      ],
      "execution_count": null,
      "outputs": [
        {
          "output_type": "stream",
          "name": "stdout",
          "text": [
            "[[0 1 2]\n",
            " [3 4 5]]\n",
            "[[ 6  7  8]\n",
            " [ 9 10 11]]\n",
            "[[ 0  1  2]\n",
            " [ 3  4  5]\n",
            " [ 6  7  8]\n",
            " [ 9 10 11]]\n",
            "[[ 0  1  2  6  7  8]\n",
            " [ 3  4  5  9 10 11]]\n",
            "[[0 1 2]\n",
            " [3 4 5]]\n",
            "[[ 6  7  8]\n",
            " [ 9 10 11]]\n"
          ]
        }
      ]
    },
    {
      "cell_type": "code",
      "metadata": {
        "id": "gQBXpPcFAHoK"
      },
      "source": [
        "a = np.arange(12).reshape(3, 4)\n",
        "np.savetxt(\"my_data.csv\", a, delimiter=\",\")"
      ],
      "execution_count": null,
      "outputs": []
    },
    {
      "cell_type": "code",
      "metadata": {
        "colab": {
          "base_uri": "https://localhost:8080/"
        },
        "id": "BvZL2p3fDeob",
        "outputId": "a35ca984-98ff-4b5b-f3a3-b23f4f26c7ad"
      },
      "source": [
        "b = np.loadtxt('my_data.csv', delimiter=\",\")\n",
        "print(b)"
      ],
      "execution_count": null,
      "outputs": [
        {
          "output_type": "stream",
          "name": "stdout",
          "text": [
            "[[ 0.  1.  2.  3.]\n",
            " [ 4.  5.  6.  7.]\n",
            " [ 8.  9. 10. 11.]]\n"
          ]
        }
      ]
    },
    {
      "cell_type": "code",
      "metadata": {
        "colab": {
          "base_uri": "https://localhost:8080/"
        },
        "id": "bASTmDp5BrOW",
        "outputId": "3bdff592-46e0-4389-aa13-bbbb392b56a1"
      },
      "source": [
        "# narray 데이터 타입 확인\n",
        "print(b.dtype)"
      ],
      "execution_count": null,
      "outputs": [
        {
          "output_type": "stream",
          "name": "stdout",
          "text": [
            "float64\n"
          ]
        }
      ]
    },
    {
      "cell_type": "code",
      "metadata": {
        "colab": {
          "base_uri": "https://localhost:8080/"
        },
        "id": "07LiRWFrCIkr",
        "outputId": "ab681bf8-03e0-4f4c-fc58-db2d6c15d7f3"
      },
      "source": [
        "# 숫자 타입 변경\n",
        "print(b.astype(np.int))"
      ],
      "execution_count": null,
      "outputs": [
        {
          "output_type": "stream",
          "name": "stdout",
          "text": [
            "[[ 0  1  2  3]\n",
            " [ 4  5  6  7]\n",
            " [ 8  9 10 11]]\n"
          ]
        }
      ]
    },
    {
      "cell_type": "code",
      "metadata": {
        "colab": {
          "base_uri": "https://localhost:8080/"
        },
        "id": "REHotK-8EYtr",
        "outputId": "e308a4dd-3fc2-4316-eb16-926322632e2e"
      },
      "source": [
        "a = np.arange(6)\n",
        "print(a)\n",
        "print(a.astype(np.float))"
      ],
      "execution_count": null,
      "outputs": [
        {
          "output_type": "stream",
          "name": "stdout",
          "text": [
            "[0 1 2 3 4 5]\n",
            "[0. 1. 2. 3. 4. 5.]\n"
          ]
        }
      ]
    },
    {
      "cell_type": "code",
      "metadata": {
        "colab": {
          "base_uri": "https://localhost:8080/"
        },
        "id": "7tBsaVo3EkGQ",
        "outputId": "e0cb133d-9aff-406e-b6d5-218b9da3db64"
      },
      "source": [
        "names = np.array(['tom', 'jerry', 'brute', '철수', '영희'])\n",
        "print(names)\n",
        "heights = np.array([170, 177, 165, 155, 175])\n",
        "print(heights)\n",
        "\n",
        "# quiz. 키를 작은 순에서 높은 순으로 sort\n",
        "print(np.sort(heights))\n",
        "\n",
        "# quiz. 정렬된 키의 index 를 출력\n",
        "print(np.argsort(heights))\n",
        "\n",
        "# quiz. 키 순서대로 이름 출력 - 인덱스에 넘파이 array를 주면 먹힌다.\n",
        "height_ordered_index = np.argsort(heights)\n",
        "print(names[height_ordered_index])"
      ],
      "execution_count": 124,
      "outputs": [
        {
          "output_type": "stream",
          "name": "stdout",
          "text": [
            "['tom' 'jerry' 'brute' '철수' '영희']\n",
            "[170 177 165 155 175]\n",
            "[155 165 170 175 177]\n",
            "[3 2 0 4 1]\n",
            "['철수' 'brute' 'tom' '영희' 'jerry']\n"
          ]
        }
      ]
    },
    {
      "cell_type": "code",
      "metadata": {
        "id": "KzeX3WkuFa1D",
        "colab": {
          "base_uri": "https://localhost:8080/"
        },
        "outputId": "b0a41e6e-a8de-494e-f48d-5f555564268e"
      },
      "source": [
        "names = np.array(['tom', 'jerry', 'brute', '철수', '영희'])\n",
        "heights = np.array([170, 177, 165, 155, 175])\n",
        "\n",
        "print(names[np.argsort(heights)])"
      ],
      "execution_count": 125,
      "outputs": [
        {
          "output_type": "stream",
          "name": "stdout",
          "text": [
            "['철수' 'brute' 'tom' '영희' 'jerry']\n"
          ]
        }
      ]
    },
    {
      "cell_type": "code",
      "metadata": {
        "colab": {
          "base_uri": "https://localhost:8080/"
        },
        "id": "xZmUg3ujHHHR",
        "outputId": "55395a92-b5ec-483d-afd1-9ad9aa4187b0"
      },
      "source": [
        "i = np.array([0, 3, 4, 1, 2, 3, 4, 1, 2, 3, 4, 1, 2])\n",
        "print(names[i])"
      ],
      "execution_count": 126,
      "outputs": [
        {
          "output_type": "stream",
          "name": "stdout",
          "text": [
            "['tom' '철수' '영희' 'jerry' 'brute' '철수' '영희' 'jerry' 'brute' '철수' '영희'\n",
            " 'jerry' 'brute']\n"
          ]
        }
      ]
    },
    {
      "cell_type": "code",
      "metadata": {
        "colab": {
          "base_uri": "https://localhost:8080/"
        },
        "id": "Kc1XIJD8L9DV",
        "outputId": "083fba30-7c5d-45d2-d64a-21a57ae2d3b4"
      },
      "source": [
        "category_indexes = np.array([0, 3, 4, 1, 2, 3, 4, 1, 2, 3, 4, 1, 2])\n",
        "e = np.eye(5)\n",
        "one_hot_encoded = e[category_indexes]\n",
        "predicted = np.argmax(one_hot_encoded, axis = 1)\n",
        "print(predicted)"
      ],
      "execution_count": 131,
      "outputs": [
        {
          "output_type": "stream",
          "name": "stdout",
          "text": [
            "[0 3 4 1 2 3 4 1 2 3 4 1 2]\n"
          ]
        }
      ]
    },
    {
      "cell_type": "code",
      "metadata": {
        "id": "P4cdgoZjMCa7"
      },
      "source": [
        ""
      ],
      "execution_count": null,
      "outputs": []
    }
  ]
}