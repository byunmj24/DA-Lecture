{
  "nbformat": 4,
  "nbformat_minor": 0,
  "metadata": {
    "colab": {
      "name": "20211124_pandas_note.ipynb",
      "private_outputs": true,
      "provenance": [],
      "collapsed_sections": []
    },
    "kernelspec": {
      "name": "python3",
      "display_name": "Python 3"
    },
    "language_info": {
      "name": "python"
    }
  },
  "cells": [
    {
      "cell_type": "markdown",
      "metadata": {
        "id": "kiZWlk31RJ8f"
      },
      "source": [
        "```\n",
        "다음 파일을 다운로드\n",
        "https://github.com/dhrim/MDC_2021/blob/master/material/deep_learning/data/wine.csv\n",
        "\n",
        "- quality 컬럼의 최대값, 최소값을 출력\n",
        "- density 컬럼을 %로 변경한 컬럼 density_percent를 생성. 소수점 1자리만 남기고.\n",
        "- fixed acidity 컬럼의 상위 10%, 하위 10% 값을 출력\n",
        "- 새로운 컬럼 grade를 추가. fixed acidity 상위 10% 이상은 1, 하위 10% 이하는 3, 중간은 2의 값으로.\n",
        "```"
      ]
    },
    {
      "cell_type": "code",
      "metadata": {
        "id": "mPV4yfHLRLOc"
      },
      "source": [
        "import pandas as pd\n",
        "import numpy as np"
      ],
      "execution_count": null,
      "outputs": []
    },
    {
      "cell_type": "code",
      "metadata": {
        "id": "k6NLvCRkRNYJ"
      },
      "source": [
        "# 리눅스 파일 삭제 명령어\n",
        "!rm -rf wine*"
      ],
      "execution_count": null,
      "outputs": []
    },
    {
      "cell_type": "code",
      "metadata": {
        "id": "upDD2PapT2f2"
      },
      "source": [
        "# !wget https://github.com/dhrim/MDC_2021/blob/master/material/deep_learning/data/wine.csv   - html 파일\n",
        "! wget https://raw.githubusercontent.com/dhrim/MDC_2021/master/material/deep_learning/data/wine.csv   # 데이터 다운로드 페이지"
      ],
      "execution_count": null,
      "outputs": []
    },
    {
      "cell_type": "code",
      "metadata": {
        "id": "1yifGp6fRR8T"
      },
      "source": [
        "ls"
      ],
      "execution_count": null,
      "outputs": []
    },
    {
      "cell_type": "code",
      "metadata": {
        "id": "k_CGb8jiUE5t"
      },
      "source": [
        "!head wine.csv"
      ],
      "execution_count": null,
      "outputs": []
    },
    {
      "cell_type": "code",
      "metadata": {
        "id": "GxjOdh01RTWb"
      },
      "source": [
        "wine_df = pd.read_csv('wine.csv')"
      ],
      "execution_count": null,
      "outputs": []
    },
    {
      "cell_type": "code",
      "metadata": {
        "id": "Fj_i6hiDRYGz"
      },
      "source": [
        "wine_df.head()"
      ],
      "execution_count": null,
      "outputs": []
    },
    {
      "cell_type": "code",
      "metadata": {
        "id": "pcSqCgdTTy28"
      },
      "source": [
        "# quality 컬럼의 최대값, 최소값을 출력\n",
        "print('max :',np.max(wine_df['quality']))\n",
        "print('min :',np.min(wine_df['quality']))"
      ],
      "execution_count": null,
      "outputs": []
    },
    {
      "cell_type": "code",
      "metadata": {
        "id": "zvosPIn7VKIU"
      },
      "source": [
        "# density 컬럼을 %로 변경한 컬럼 density_percent를 생성. 소수점 1자리만 남기고.\n",
        "wine_df['density_percent'] = round(wine_df['density'] * 100, 1)\n",
        "wine_df"
      ],
      "execution_count": null,
      "outputs": []
    },
    {
      "cell_type": "code",
      "metadata": {
        "id": "2pSqjNKrV34i"
      },
      "source": [
        "# fixed acidity 컬럼의 상위 10%, 하위 10% 값을 출력\n",
        "len_df = len(df['fixed acidity'])\n",
        "print(len_df)\n",
        "ten_percent_idx = int(len_df*0.1)\n",
        "print(ten_percent_idx)"
      ],
      "execution_count": null,
      "outputs": []
    },
    {
      "cell_type": "code",
      "metadata": {
        "id": "ov417Fx8WNxx"
      },
      "source": [
        "# Series 로 뽑기\n",
        "# df.sort_values('정렬 기준 컬럼', 옵션) 도 가능\n",
        "top_10 = wine_df['fixed acidity'].sort_values(ascending = False).iloc[ten_percent_idx]\n",
        "print(top_10)\n",
        "\n",
        "bottom_10 = wine_df['fixed acidity'].sort_values().iloc[ten_percent_idx]\n",
        "print(bottom_10)"
      ],
      "execution_count": null,
      "outputs": []
    },
    {
      "cell_type": "code",
      "metadata": {
        "id": "AY-zl4S5XEGM"
      },
      "source": [
        "# 새로운 컬럼 grade를 추가. fixed acidity 상위 10% 이상은 1, 하위 10% 이하는 3, 중간은 2의 값으로.\n",
        "wine_df['grade'] = wine_df['fixed acidity']"
      ],
      "execution_count": null,
      "outputs": []
    },
    {
      "cell_type": "code",
      "metadata": {
        "id": "N_NVZl_3ZpTN"
      },
      "source": [
        "# fixed acidity 컬럼의 상위 10%, 하위 10% 값을 출력\n",
        "upper_index = int(5497*0.1)\n",
        "lower_index = int(5497*0.9)\n",
        "print(upper_index, lower_index)\n",
        "upper_value = wine_df['fixed acidity'].sort_values().iloc[upper_index]\n",
        "lower_value = wine_df['fixed acidity'].sort_values().iloc[lower_index]\n",
        "print(lower_value, upper_value)"
      ],
      "execution_count": null,
      "outputs": []
    },
    {
      "cell_type": "code",
      "metadata": {
        "id": "uypQRU-ibXSF"
      },
      "source": [
        "print(wine_df['fixed acidity'].sort_values())\n",
        "print(wine_df['fixed acidity'].sort_values()[2])"
      ],
      "execution_count": null,
      "outputs": []
    },
    {
      "cell_type": "code",
      "metadata": {
        "id": "H6QHwdv-Z7RN"
      },
      "source": [
        "def get_grade(value):\n",
        "    if value >= upper_value : return 1\n",
        "    elif value < lower_value : return 3\n",
        "    else: return 2\n",
        "\n",
        "wine_df['grade'] = wine_df[['fixed acidity']].applymap(get_grade)"
      ],
      "execution_count": null,
      "outputs": []
    },
    {
      "cell_type": "code",
      "metadata": {
        "id": "hVHtqGMtatj9"
      },
      "source": [
        "wine_df.head()"
      ],
      "execution_count": null,
      "outputs": []
    },
    {
      "cell_type": "code",
      "metadata": {
        "id": "82oeocaBa5k1"
      },
      "source": [
        "df = pd.DataFrame(\n",
        "    {'AAA' : [4, 5, 6, 7],\n",
        "     'BBB' : [10, 20, 30, 40],\n",
        "     'CCC' : [100, 50, -30, -50]}\n",
        ")\n",
        "\n",
        "# 'AAA' 컬럼이 짝수 인 것의 인덱스 출력\n",
        "print(df.AAA[df['AAA']%2 == 0].index)\n",
        "print(df[df['AAA']%2 == 0].index)\n",
        "print(df.loc[df['AAA']%2 == 0].index)"
      ],
      "execution_count": null,
      "outputs": []
    },
    {
      "cell_type": "code",
      "metadata": {
        "id": "JOO2P4Qtfs_L"
      },
      "source": [
        "df = pd.DataFrame(\n",
        "    {'AAA' : [4, 5, 6, 7],\n",
        "     'BBB' : [10, 20, 30, 40],\n",
        "     'CCC' : [100, 50, -30, -50]}\n",
        ")\n",
        "\n",
        "# 'AAA' 컬럼이 짝수인 항목만 삭제\n",
        "target_idx = df.loc[df['AAA']%2 == 0].index\n",
        "df.drop(target_idx, inplace=True)\n",
        "df"
      ],
      "execution_count": null,
      "outputs": []
    },
    {
      "cell_type": "code",
      "metadata": {
        "id": "QdmcA9vygQJN"
      },
      "source": [
        "df = pd.DataFrame(\n",
        "    {'AAA' : ['철수', '영희', 'tom', ''],\n",
        "     'BBB' : [10, 20, 30, 40],\n",
        "     'CCC' : [100, 50, -30, -50]}\n",
        ")\n",
        "\n",
        "# 'AAA' 가 비어있는 행 삭제\n",
        "# df.drop(df.loc[df['AAA'].str.len() == 0].index, inplace=True)   --> Series 데이터길이\n",
        "df.drop(df.loc[df['AAA'] == ''].index, inplace=True)\n",
        "print(df)"
      ],
      "execution_count": null,
      "outputs": []
    },
    {
      "cell_type": "code",
      "metadata": {
        "id": "DJYJ-pMehsp2"
      },
      "source": [
        "df = pd.DataFrame(\n",
        "    {'AAA' : [4, 5, 6, 7],\n",
        "     'BBB' : [10, 35, 30, 25],\n",
        "     'CCC' : [100, 50, -30, -50]}\n",
        ")\n",
        "\n",
        "df.sort_values(by='BBB', inplace=True)\n",
        "print(df)"
      ],
      "execution_count": null,
      "outputs": []
    },
    {
      "cell_type": "code",
      "metadata": {
        "id": "dd-zTiFQixCb"
      },
      "source": [
        "df = pd.DataFrame(\n",
        "    {'AAA' : [4, 5, 6, 7],\n",
        "     'BBB' : [10, 30, 30, 25],\n",
        "     'CCC' : [100, 50, -30, -50]}\n",
        ")\n",
        "\n",
        "# 정렬 기준 컬럼 여러개 부여\n",
        "df.sort_values(by=['BBB', 'CCC'], inplace=True)\n",
        "print(df)"
      ],
      "execution_count": null,
      "outputs": []
    },
    {
      "cell_type": "code",
      "metadata": {
        "id": "dpqOzkkIj132"
      },
      "source": [
        "df = pd.DataFrame(\n",
        "    {'AAA' : [4, 5, 6, 7],\n",
        "     'BBB' : [10, 35, 30, 25],\n",
        "     'CCC' : [100, 50, -30, -50]}\n",
        ")\n",
        "\n",
        "# 'CCC\"의 절대값 출력\n",
        "print(df['CCC'].abs())\n",
        "print(df.CCC.abs())\n",
        "print(df.CCC.abs().sort_values())\n",
        "print(df.CCC.abs().sort_values().index)\n",
        "print(df.loc[[2, 1, 3, 0]])"
      ],
      "execution_count": null,
      "outputs": []
    },
    {
      "cell_type": "code",
      "metadata": {
        "id": "j5YjRBTXkuBe"
      },
      "source": [
        "# 10하고 'CCC' 컬럼과의 거리 차이 출력\n",
        "\n",
        "# 10과의 거리\n",
        "print(df.CCC - 10)\n",
        "\n",
        "# 10과의 거리(절대값)\n",
        "print((df.CCC - 10).abs())\n",
        "\n",
        "# 10과의 거리순 정렬\n",
        "print((df.CCC - 10).abs().sort_values())\n",
        "\n",
        "# 10과의 거리순 정렬의 인덱스\n",
        "print((df.CCC - 10).abs().sort_values().index)\n",
        "\n",
        "# 10과의 거리순 정렬 인덱스, 출력\n",
        "print(df.loc[(df.CCC - 10).abs().sort_values().index])\n",
        "print(df.loc[(df.CCC - 10).abs().argsort()])"
      ],
      "execution_count": null,
      "outputs": []
    },
    {
      "cell_type": "code",
      "metadata": {
        "id": "k6MSwvzGmDz_"
      },
      "source": [
        "a = np.array([1, 3, 5, 2, 4])\n",
        "\n",
        "print(np.argmax(a))\n",
        "\n",
        "# 정렬된 결과의 인덱스 출력\n",
        "print(np.argsort(a))"
      ],
      "execution_count": null,
      "outputs": []
    },
    {
      "cell_type": "code",
      "metadata": {
        "id": "njwX9yYZnah3"
      },
      "source": [
        "df = pd.DataFrame(\n",
        "    {'Num' : [0, 1, 2, 3, 4, 5, 6, 7, 8, 9],\n",
        "     'Name' : ['A', 'A', 'B', 'B', 'C', 'C', 'A', 'A', 'B', 'B']}\n",
        ")\n",
        "print(df)"
      ],
      "execution_count": null,
      "outputs": []
    },
    {
      "cell_type": "markdown",
      "metadata": {
        "id": "YBsqUF__pAuN"
      },
      "source": [
        "## 필수 데이터 처리\n",
        "- 결측치 처리\n",
        "- 이상치 처리\n",
        "- 카테고리 데이터 인코딩\n",
        "- normalization 표준화"
      ]
    },
    {
      "cell_type": "markdown",
      "metadata": {
        "id": "MrjeYhhusvnw"
      },
      "source": [
        "# 카테고리(범주형) 데이터 처리"
      ]
    },
    {
      "cell_type": "code",
      "metadata": {
        "id": "bVauyHkJoSW3"
      },
      "source": [
        "# 카테고리성 데이터 처리 \n",
        "df = pd.DataFrame(\n",
        "    {'Num' : [0, 1, 2, 3, 4, 5, 6, 7, 8, 9],\n",
        "     'Name' : ['A', 'A', 'B', 'B', 'C', 'C', 'A', 'A', 'B', 'B']}\n",
        ")\n",
        "print(df)\n",
        "\n",
        "# astype('category') 사용 - 나오는 순서대로 0, 1, 2 ... 부여\n",
        "df['NameCategory'] = df['Name'].astype('category').cat.codes\n",
        "# df['Name'] = df['Name'].astype('category').cat.codes\n",
        "print(df)"
      ],
      "execution_count": null,
      "outputs": []
    },
    {
      "cell_type": "code",
      "metadata": {
        "id": "mUmYVYD6pVY-"
      },
      "source": [
        "# 카테고리성 데이터 처리 \n",
        "df = pd.DataFrame(\n",
        "    {'Num' : [0, 1, 2, 3, 4, 5, 6, 7, 8, 9],\n",
        "     'Name' : ['A', 'A', 'B', 'B', 'C', 'C', 'A', 'A', 'B', 'B']}\n",
        ")\n",
        "print(df)\n",
        "\n",
        "# 카테고리명 직접 입력\n",
        "categoriesList = ['C', 'A', 'B']\n",
        "df['NameCategory'] = pd.Categorical(df['Name'], categories = categoriesList, ordered = True).codes\n",
        "print(df)"
      ],
      "execution_count": null,
      "outputs": []
    },
    {
      "cell_type": "code",
      "metadata": {
        "id": "R9geZya2qqyA"
      },
      "source": [
        "# 카테고리성 데이터 처리 \n",
        "df = pd.DataFrame(\n",
        "    {'Num' : [0, 1, 2, 3, 4, 5, 6, 7, 8, 9],\n",
        "     'Name' : ['A', 'A', 'B', 'B', 'C', 'C', 'A', 'A', 'B', 'B']}\n",
        ")\n",
        "\n",
        "category_map = {'B' : 0, 'C' : 1, 'A' : 2, 'D' : 3}\n",
        "df['NameCategory'] = df['Name'].map(category_map)\n",
        "print(df)"
      ],
      "execution_count": null,
      "outputs": []
    },
    {
      "cell_type": "markdown",
      "metadata": {
        "id": "x78h_hQMsr99"
      },
      "source": [
        "# 결측치 존재여부 확인"
      ]
    },
    {
      "cell_type": "code",
      "metadata": {
        "id": "1A_bLUkesKvo"
      },
      "source": [
        "df = pd.DataFrame([[np.nan, 2, np.nan, 0],\n",
        "                   [3, 4, np.nan, 1],\n",
        "                   [np.nan, np.nan, np.nan, 5],\n",
        "                   [np.nan, 3, np.nan, 4]],\n",
        "                  columns=list('ABCD'))\n",
        "\n",
        "print(df)\n",
        "print()\n",
        "\n",
        "# null이 있는지 확인 - NaN 인 곳을 True로\n",
        "print(\"df.isnull()\")\n",
        "print(df.isnull())\n",
        "print()\n",
        "\n",
        "# 결측치가 하나라도 있는지\n",
        "print(\"df.isnull().any()\")\n",
        "print(df.isnull().any())\n",
        "print()\n",
        "\n",
        "# 전체에서 결측치가 하나라도 있는지\n",
        "print(\"df.isnull().any().any()\")\n",
        "print(df.isnull().any().any())"
      ],
      "execution_count": null,
      "outputs": []
    },
    {
      "cell_type": "code",
      "metadata": {
        "id": "Oz_32lJ7tjko"
      },
      "source": [
        "df = pd.DataFrame([[np.nan, 2, np.nan, 0, 1],\n",
        "                   [3, 4, np.nan, 1, 2],\n",
        "                   [np.nan, np.nan, np.nan, 5, 3],\n",
        "                   [np.nan, 3, np.nan, 4, 4]],\n",
        "                  columns=list('ABCDE'))\n",
        "print(df)\n",
        "print()\n",
        "\n",
        "# 결측치 갯수 확인 - 'True는 1, False는 0' 임을 이용\n",
        "print('df.isnull().sum()')\n",
        "print(df.isnull().sum())\n",
        "print()\n",
        "\n",
        "# 데이터프레임 전체에 대해서 갯수 확인\n",
        "print('df.isnull().sum().sum()')\n",
        "print(df.isnull().sum().sum())\n",
        "print()\n",
        "\n",
        "# 결측치가 있는 컬럼의 갯수\n",
        "print('df.isnull().any().sum()')\n",
        "print(df.isnull().any().sum())\n",
        "print()"
      ],
      "execution_count": null,
      "outputs": []
    },
    {
      "cell_type": "code",
      "metadata": {
        "id": "GIgdgHZ1u3YB"
      },
      "source": [
        "# 데이터의 갯수\n",
        "print(len(df))"
      ],
      "execution_count": null,
      "outputs": []
    },
    {
      "cell_type": "code",
      "metadata": {
        "id": "tYM_YwRzvv01"
      },
      "source": [
        "# 컬럼별 결측치 비율\n",
        "print(df.isnull().sum())\n",
        "print(df.isnull().sum()/len(df))"
      ],
      "execution_count": null,
      "outputs": []
    },
    {
      "cell_type": "code",
      "metadata": {
        "id": "-jFbGTi2v-nX"
      },
      "source": [
        ""
      ],
      "execution_count": null,
      "outputs": []
    }
  ]
}