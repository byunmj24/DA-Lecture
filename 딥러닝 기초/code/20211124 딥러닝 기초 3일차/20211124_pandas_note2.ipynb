{
  "nbformat": 4,
  "nbformat_minor": 0,
  "metadata": {
    "colab": {
      "name": "20211124_pandas_note2.ipynb",
      "private_outputs": true,
      "provenance": [],
      "collapsed_sections": []
    },
    "kernelspec": {
      "name": "python3",
      "display_name": "Python 3"
    },
    "language_info": {
      "name": "python"
    }
  },
  "cells": [
    {
      "cell_type": "code",
      "metadata": {
        "id": "6wtzyKUoHdFw"
      },
      "source": [
        "!wget https://raw.githubusercontent.com/dhrim/MDC_2021/master/material/deep_learning/data/titanic.csv"
      ],
      "execution_count": null,
      "outputs": []
    },
    {
      "cell_type": "code",
      "metadata": {
        "id": "nvt0XLdtIfy8"
      },
      "source": [
        "!head titanic.csv"
      ],
      "execution_count": null,
      "outputs": []
    },
    {
      "cell_type": "code",
      "metadata": {
        "id": "BniTxRCCHevL"
      },
      "source": [
        "import pandas as pd\n",
        "import numpy as np"
      ],
      "execution_count": null,
      "outputs": []
    },
    {
      "cell_type": "code",
      "metadata": {
        "id": "S5qQU7npHkCP"
      },
      "source": [
        "df = pd.read_csv('titanic.csv')\n",
        "df.head()"
      ],
      "execution_count": null,
      "outputs": []
    },
    {
      "cell_type": "code",
      "metadata": {
        "id": "2WRr1c4fIlRz"
      },
      "source": [
        "df.info()"
      ],
      "execution_count": null,
      "outputs": []
    },
    {
      "cell_type": "code",
      "metadata": {
        "id": "hM9wChqCHpUW"
      },
      "source": [
        "# 결측치 확인\n",
        "\n",
        "# 컬럼별 결측치\n",
        "print('df.isnull()')\n",
        "print(df.isnull())\n",
        "print()\n",
        "print('df.isnull().any()')\n",
        "print(df.isnull().any())\n",
        "print()\n",
        "print('df.isnull().sum()')\n",
        "print(df.isnull().sum())"
      ],
      "execution_count": null,
      "outputs": []
    },
    {
      "cell_type": "code",
      "metadata": {
        "id": "0vNCO894Hvus"
      },
      "source": [
        "data_count = len(df)\n",
        "print(df.isnull().sum()/data_count)"
      ],
      "execution_count": null,
      "outputs": []
    },
    {
      "cell_type": "markdown",
      "metadata": {
        "id": "MGGCQm9xH7fM"
      },
      "source": [
        "## 결측치 핸들링"
      ]
    },
    {
      "cell_type": "markdown",
      "metadata": {
        "id": "MeXXy4VVJGpk"
      },
      "source": [
        "### 결측치 제거하기"
      ]
    },
    {
      "cell_type": "code",
      "metadata": {
        "id": "QXAxXbhyJCq-"
      },
      "source": [
        "# 'Embarked' 결측치 제거\n",
        "df.drop(df.loc[df['Embarked'].isnull()].index, inplace=True)"
      ],
      "execution_count": null,
      "outputs": []
    },
    {
      "cell_type": "code",
      "metadata": {
        "id": "JdfJBBRsJFPW"
      },
      "source": [
        "df.info()\n",
        "print(df.isnull().sum())"
      ],
      "execution_count": null,
      "outputs": []
    },
    {
      "cell_type": "code",
      "metadata": {
        "id": "6goy_RtoJxuE"
      },
      "source": [
        "# 'Age' 결측치 제거\n",
        "df.drop(df.loc[df['Age'].isnull()].index, inplace=True)\n",
        "\n",
        "# 'Cabin' 결측치 제거\n",
        "df.drop(df.loc[df['Cabin'].isnull()].index, inplace=True)\n",
        "\n",
        "df.info()\n",
        "print(df.isnull().sum())"
      ],
      "execution_count": null,
      "outputs": []
    },
    {
      "cell_type": "code",
      "metadata": {
        "id": "qdfNX7NAKp60"
      },
      "source": [
        "# 'Cabin' 결측치 제거\n",
        "df.drop(df.loc[df['Cabin'].isnull()].index, inplace=True)"
      ],
      "execution_count": null,
      "outputs": []
    },
    {
      "cell_type": "code",
      "metadata": {
        "id": "4JaACZEnKxo7"
      },
      "source": [
        "df = pd.read_csv('titanic.csv')\n",
        "print(df.info())\n",
        "print(df.isnull().any().any())\n",
        "print() \n",
        "# 컬럼에 관계없이 null값 버림\n",
        "df.dropna(inplace=True)\n",
        "print(df.info())\n",
        "print(df.isnull().any().any())"
      ],
      "execution_count": null,
      "outputs": []
    },
    {
      "cell_type": "code",
      "metadata": {
        "id": "6jbolhGFK0xM"
      },
      "source": [
        "df = pd.read_csv('titanic.csv')\n",
        "\n",
        "print(df.info())\n",
        "print(df.isnull().any().any())\n",
        "print()\n",
        "\n",
        "# 컬럼을 삭제하여 null값 false로 바꾸기\n",
        "df.drop(columns=['Age', 'Cabin', 'Embarked'], inplace=True)\n",
        "print(df.info())\n",
        "print(df.isnull().any().any())"
      ],
      "execution_count": null,
      "outputs": []
    },
    {
      "cell_type": "code",
      "metadata": {
        "id": "JYJM3aZCML9U"
      },
      "source": [
        "df = pd.read_csv('titanic.csv')\n",
        "df.isnull().any()"
      ],
      "execution_count": null,
      "outputs": []
    },
    {
      "cell_type": "markdown",
      "metadata": {
        "id": "-wN5hs6FNDNj"
      },
      "source": [
        "### 결측치 채우기"
      ]
    },
    {
      "cell_type": "code",
      "metadata": {
        "id": "wkbXkGAnMz7k"
      },
      "source": [
        "df = pd.read_csv('titanic.csv')\n",
        "# 결측치 채우기\n",
        "df.loc[df['Age'].isnull(), 'Age'] = 0\n",
        "\n",
        "df.isnull().sum()"
      ],
      "execution_count": null,
      "outputs": []
    },
    {
      "cell_type": "code",
      "metadata": {
        "id": "-O9g9WIoNQ79"
      },
      "source": [
        "df = pd.read_csv('titanic.csv')\n",
        "\n",
        "age_mean = df.loc[df['Age'].notnull()].Age.mean\n",
        "df.loc[df['Age'].isnull(), 'Age'] = age_mean\n",
        "df.isnull().sum()"
      ],
      "execution_count": null,
      "outputs": []
    },
    {
      "cell_type": "markdown",
      "metadata": {
        "id": "QA6apV86OdX0"
      },
      "source": [
        "```\n",
        "Age : 평균으로 대체\n",
        "Cabin : 컬럼 버리기\n",
        "Embarked : 데이터 버리기\n",
        "```"
      ]
    },
    {
      "cell_type": "code",
      "metadata": {
        "id": "PK9SNQi0PM_z"
      },
      "source": [
        "df = pd.read_csv('titanic.csv')\n",
        "\n",
        "# Age 처리\n",
        "age_mean = df.loc[df['Age'].notnull()].Age.mean()\n",
        "df.loc[df['Age'].isnull(), 'Age'] = age_mean\n",
        "df.isnull().sum()\n",
        "\n",
        "# Cabin 처리\n",
        "df.drop(columns='Cabin', inplace=True)\n",
        "df.isnull().sum()\n",
        "\n",
        "# Embarked 처리\n",
        "df.drop(df.loc[df['Embarked'].isnull()].index, inplace=True)\n",
        "df.isnull().sum()\n",
        "\n",
        "print(\"age mean = \", df.Age.mean())\n",
        "print('len(df) = ', len(df))\n",
        "print(df.isnull().any().any())"
      ],
      "execution_count": null,
      "outputs": []
    },
    {
      "cell_type": "code",
      "metadata": {
        "id": "qInaq4IOQ4FL"
      },
      "source": [
        "df = pd.read_csv('titanic.csv')\n",
        "\n",
        "# fillna 활용하여 결측치 채우기\n",
        "age_mean = df.loc[df.Age.notnull()].Age.mean()\n",
        "\n",
        "default_value = {'Age':age_mean, 'Cabin':'UNKNOWN', 'Embarked':'N'}\n",
        "df.fillna(default_value, inplace=True)\n",
        "print(df.isnull().sum())"
      ],
      "execution_count": null,
      "outputs": []
    },
    {
      "cell_type": "markdown",
      "metadata": {
        "id": "35U-kjdKU0F-"
      },
      "source": [
        "### 앞의 값으로 채우기"
      ]
    },
    {
      "cell_type": "code",
      "metadata": {
        "id": "jj2q1bBUWY0_"
      },
      "source": [
        "df = pd.DataFrame([[np.nan, 2, np.nan, 0],\n",
        "                   [3, 4, np.nan, 1],\n",
        "                   [np.nan, np.nan, np.nan, 5],\n",
        "                   [np.nan, 3, np.nan, 4]],\n",
        "                  columns=list('ABCD'))\n",
        "\n",
        "print(df)"
      ],
      "execution_count": null,
      "outputs": []
    },
    {
      "cell_type": "code",
      "metadata": {
        "id": "gKfnMYVgWcaF"
      },
      "source": [
        "# 앞의 값으로 채우기\n",
        "df.fillna(method='ffill', inplace=True)\n",
        "print(df)"
      ],
      "execution_count": null,
      "outputs": []
    },
    {
      "cell_type": "markdown",
      "metadata": {
        "id": "XdCGdXUFWzn8"
      },
      "source": [
        "### 뒤의 값으로 채우기"
      ]
    },
    {
      "cell_type": "code",
      "metadata": {
        "id": "rwqSYeOYWjju"
      },
      "source": [
        "# 뒤의 값으로 채우기\n",
        "df.fillna(method='bfill', inplace=True)\n",
        "print(df)"
      ],
      "execution_count": null,
      "outputs": []
    },
    {
      "cell_type": "markdown",
      "metadata": {
        "id": "u9t-K0JvX5QG"
      },
      "source": [
        "# 정규화"
      ]
    },
    {
      "cell_type": "markdown",
      "metadata": {
        "id": "Dd1Z28ZAX_fZ"
      },
      "source": [
        "## Normalization\n",
        "- 최소값은 0 , 최대값은 1로 만들어주는 것"
      ]
    },
    {
      "cell_type": "code",
      "metadata": {
        "id": "rOiUOvAHYDPh"
      },
      "source": [
        "df = pd.read_csv('titanic.csv')\n",
        "age_mean = df.loc[df.Age.notnull()].Age.mean()\n",
        "\n",
        "default_value = {'Age':age_mean, 'Cabin':'UNKNOWN', 'Embarked':'N'}\n",
        "df.fillna(default_value, inplace=True)\n",
        "print(df.isnull().sum())"
      ],
      "execution_count": null,
      "outputs": []
    },
    {
      "cell_type": "code",
      "metadata": {
        "id": "TlnGNkvsYIMn"
      },
      "source": [
        "df.head()"
      ],
      "execution_count": null,
      "outputs": []
    },
    {
      "cell_type": "code",
      "metadata": {
        "id": "lmJuvyTcYJNf"
      },
      "source": [
        "print(df['Age'].max())\n",
        "print(df['Age'].min())"
      ],
      "execution_count": null,
      "outputs": []
    },
    {
      "cell_type": "markdown",
      "metadata": {
        "id": "nUdieamRYaS-"
      },
      "source": [
        "### 히스토 그램 그려서 확인"
      ]
    },
    {
      "cell_type": "code",
      "metadata": {
        "id": "t0RJiFyEYPiG"
      },
      "source": [
        "df['Age'].hist();"
      ],
      "execution_count": null,
      "outputs": []
    },
    {
      "cell_type": "markdown",
      "metadata": {
        "id": "RWY1uPFYZGYm"
      },
      "source": [
        "### normalization 적용"
      ]
    },
    {
      "cell_type": "code",
      "metadata": {
        "id": "M7FZf0PpYYXG"
      },
      "source": [
        "max = df['Age'].max()\n",
        "min = df['Age'].min()\n",
        "\n",
        "df['AgeNormalization'] = (df['Age'] - min) / (max - min)"
      ],
      "execution_count": null,
      "outputs": []
    },
    {
      "cell_type": "code",
      "metadata": {
        "id": "owIWAzBIYxv9"
      },
      "source": [
        "df['AgeNormalization'].hist();"
      ],
      "execution_count": null,
      "outputs": []
    },
    {
      "cell_type": "markdown",
      "metadata": {
        "id": "8vNrfKfGY3GG"
      },
      "source": [
        "## Standardization\n",
        "- 정규화"
      ]
    },
    {
      "cell_type": "markdown",
      "metadata": {
        "id": "ZBcSBLuqZhxu"
      },
      "source": [
        "### Standardization 적용"
      ]
    },
    {
      "cell_type": "code",
      "metadata": {
        "id": "YLOu0EKNZSQ4"
      },
      "source": [
        "mean = df['Age'].mean()\n",
        "std = df['Age'].std()\n",
        "\n",
        "df['AgeStandardization'] = (df['Age'] - mean) / std"
      ],
      "execution_count": null,
      "outputs": []
    },
    {
      "cell_type": "code",
      "metadata": {
        "id": "QEm0OjPbZcD9"
      },
      "source": [
        "df['AgeStandardization'].hist();"
      ],
      "execution_count": null,
      "outputs": []
    },
    {
      "cell_type": "markdown",
      "metadata": {
        "id": "dnAQw1RYa1i7"
      },
      "source": [
        "# 처리된 데이터 Numpy에 담기"
      ]
    },
    {
      "cell_type": "code",
      "metadata": {
        "id": "ttHpoXPxZf7u"
      },
      "source": [
        "df = pd.DataFrame(\n",
        "    {'Num' : [0, 1, 2, 3, 4, 5, 6, 7, 8, 9],\n",
        "     'Name' : ['A', 'A', 'B', 'B', 'C', 'C', 'A', 'A', 'B', 'B']}\n",
        ")\n",
        "#print(df)\n",
        "\n",
        "df['NameCategory'] = df['Name'].astype('category').cat.codes\n",
        "print(df)"
      ],
      "execution_count": null,
      "outputs": []
    },
    {
      "cell_type": "markdown",
      "metadata": {
        "id": "BeqMiWk4a5xm"
      },
      "source": [
        "### Name 컬럼 삭제"
      ]
    },
    {
      "cell_type": "code",
      "metadata": {
        "id": "8Q_PYsevazyW"
      },
      "source": [
        "df.drop(columns='Name', inplace=True)\n",
        "print(df)"
      ],
      "execution_count": null,
      "outputs": []
    },
    {
      "cell_type": "markdown",
      "metadata": {
        "id": "CzysWuaGbXwf"
      },
      "source": [
        "Numpy array로 만들기"
      ]
    },
    {
      "cell_type": "code",
      "metadata": {
        "id": "67yFmpfHbCLm"
      },
      "source": [
        "a = df.to_numpy()\n",
        "print(a)"
      ],
      "execution_count": null,
      "outputs": []
    },
    {
      "cell_type": "markdown",
      "metadata": {
        "id": "_m6A_u3VbfwV"
      },
      "source": [
        "### csv로 내보내기"
      ]
    },
    {
      "cell_type": "code",
      "metadata": {
        "id": "j9dPdgMHbaR3"
      },
      "source": [
        "df.to_csv('my_data.csv', index=False)"
      ],
      "execution_count": null,
      "outputs": []
    },
    {
      "cell_type": "code",
      "metadata": {
        "id": "t_xC4k1sbfb2"
      },
      "source": [
        "!head my_data.csv"
      ],
      "execution_count": null,
      "outputs": []
    },
    {
      "cell_type": "markdown",
      "metadata": {
        "id": "E4kflizxd0nP"
      },
      "source": [
        "### csv 읽기"
      ]
    },
    {
      "cell_type": "code",
      "metadata": {
        "id": "CgdCwRinboV2"
      },
      "source": [
        "new_df = pd.read_csv('my_data.csv')\n",
        "new_df.head()"
      ],
      "execution_count": null,
      "outputs": []
    },
    {
      "cell_type": "code",
      "metadata": {
        "id": "YMc6NWhjb_Dn"
      },
      "source": [
        "!wget https://github.com/bharathirajatut/sample-excel-dataset/raw/master/airline.xls"
      ],
      "execution_count": null,
      "outputs": []
    },
    {
      "cell_type": "markdown",
      "metadata": {
        "id": "Ze4J80awd3t_"
      },
      "source": [
        "### Excel 피일 읽기"
      ]
    },
    {
      "cell_type": "code",
      "metadata": {
        "id": "u-EFEMsdcxlO"
      },
      "source": [
        "df = pd.read_excel('airline.xls')\n",
        "df.head()"
      ],
      "execution_count": null,
      "outputs": []
    },
    {
      "cell_type": "markdown",
      "metadata": {
        "id": "wEi3pw6Cd6kn"
      },
      "source": [
        "### Excel 파일로 export"
      ]
    },
    {
      "cell_type": "code",
      "metadata": {
        "id": "11YfyLkqdTT_"
      },
      "source": [
        "df.to_excel('my_excel_data.xlsx')"
      ],
      "execution_count": null,
      "outputs": []
    },
    {
      "cell_type": "markdown",
      "metadata": {
        "id": "c4fEXA7HiI7m"
      },
      "source": [
        "# 퀴즈 타임"
      ]
    },
    {
      "cell_type": "code",
      "metadata": {
        "id": "fuOliuvAiL4h"
      },
      "source": [
        "df = pd.read_csv(\"titanic.csv\")\n",
        "print(df.head())\n",
        "print(df.info())"
      ],
      "execution_count": null,
      "outputs": []
    },
    {
      "cell_type": "code",
      "metadata": {
        "id": "WS3QZFmTiMyZ"
      },
      "source": [
        "!head titanic.csv"
      ],
      "execution_count": null,
      "outputs": []
    },
    {
      "cell_type": "markdown",
      "metadata": {
        "id": "CazzPm9xiNvw"
      },
      "source": [
        "```\n",
        "passenger Id : 컬럼 삭제\n",
        "Name : 컬럼 삭제\n",
        "Sex : Sex_로 인코딩. male:0, female:1\n",
        "Age : 평균으로 결측치 처리. 0~1 normalization\n",
        "SibSp : 컬럼 삭제\n",
        "Parch : 컬럼 삭제\n",
        "Ticket : 컬럼 삭제\n",
        "Fare : 150 넘는 값은 150으로 치환, standardization\n",
        "Cabin : 컬럼 삭제 \n",
        "Embarked : 결측치 데이터 삭제. Embarked_Encoded로 인코딩, C : 0, S : 1, Q : 2\n",
        "```"
      ]
    },
    {
      "cell_type": "markdown",
      "metadata": {
        "id": "CrthY_KejlgF"
      },
      "source": [
        "### 컬럼 삭제"
      ]
    },
    {
      "cell_type": "code",
      "metadata": {
        "id": "7GFjQ-DLiRcB"
      },
      "source": [
        "df.drop(columns=['PassengerId', 'Name', 'SibSp', 'Parch', 'Ticket', 'Cabin'], inplace=True)"
      ],
      "execution_count": null,
      "outputs": []
    },
    {
      "cell_type": "markdown",
      "metadata": {
        "id": "zal_iOlljn8n"
      },
      "source": [
        "### Sex : Sex_로 인코딩. male:0, female:1"
      ]
    },
    {
      "cell_type": "code",
      "metadata": {
        "id": "yCst9xtSjCHp"
      },
      "source": [
        "df['Sex']"
      ],
      "execution_count": null,
      "outputs": []
    },
    {
      "cell_type": "code",
      "metadata": {
        "id": "mBboqlD1iy1X"
      },
      "source": [
        "def encode_sex(value):\n",
        "    if value == 'male' : return 0\n",
        "    else : return 1"
      ],
      "execution_count": null,
      "outputs": []
    },
    {
      "cell_type": "code",
      "metadata": {
        "id": "5WVKZeh_jKp_"
      },
      "source": [
        "df['Sex_'] = df['Sex'].map(encode_sex)\n",
        "df"
      ],
      "execution_count": null,
      "outputs": []
    },
    {
      "cell_type": "markdown",
      "metadata": {
        "id": "NJ1R88B6jV3g"
      },
      "source": [
        "### Age : 평균으로 결측치 처리. 0~1 normalization"
      ]
    },
    {
      "cell_type": "code",
      "metadata": {
        "id": "vmf_-_EUjt3Q"
      },
      "source": [
        "# Age 평균\n",
        "age_mean = df.loc[df['Age'].notnull()]['Age'].mean()"
      ],
      "execution_count": null,
      "outputs": []
    },
    {
      "cell_type": "code",
      "metadata": {
        "id": "1buwzYI7j1p3"
      },
      "source": [
        "df['Age'].fillna(age_mean, inplace=True)\n",
        "df"
      ],
      "execution_count": null,
      "outputs": []
    },
    {
      "cell_type": "code",
      "metadata": {
        "id": "mpanFVXOkebf"
      },
      "source": [
        "# normalization\n",
        "max_age = df['Age'].max()\n",
        "min_age = df['Age'].min()"
      ],
      "execution_count": null,
      "outputs": []
    },
    {
      "cell_type": "code",
      "metadata": {
        "id": "6EAqy0iIk4ro"
      },
      "source": [
        "df['AgeNorm'] = (df['Age'] - min_age) / (max_age - min_age)\n",
        "df"
      ],
      "execution_count": null,
      "outputs": []
    },
    {
      "cell_type": "markdown",
      "metadata": {
        "id": "BhXfmvyXlOTn"
      },
      "source": [
        "### Fare : standardization"
      ]
    },
    {
      "cell_type": "code",
      "metadata": {
        "id": "-ZSOR8d6lGDs"
      },
      "source": [
        "mean = df['Fare'].mean()\n",
        "std = df['Fare'].std()"
      ],
      "execution_count": null,
      "outputs": []
    },
    {
      "cell_type": "code",
      "metadata": {
        "id": "dW-kNdEinCTK"
      },
      "source": [
        "# 150 이상은 150으로 치환\n",
        "df.loc[df['Fare'] >= 150, 'Fare'] = 150\n",
        "df['Fare'].max()"
      ],
      "execution_count": null,
      "outputs": []
    },
    {
      "cell_type": "code",
      "metadata": {
        "id": "r0vl3bQ-lUdm"
      },
      "source": [
        "df['FareStd'] = (df['Fare'] - mean) / std\n",
        "df"
      ],
      "execution_count": null,
      "outputs": []
    },
    {
      "cell_type": "markdown",
      "metadata": {
        "id": "DWXLqx34llW4"
      },
      "source": [
        "### Embarked : 결측치 데이터 삭제. Embarked_Encoded로 인코딩, C : 0, S : 1 + Q : 2"
      ]
    },
    {
      "cell_type": "code",
      "metadata": {
        "id": "DvM6GcaclcOw"
      },
      "source": [
        "df.drop(df.loc[df['Embarked'].isnull()].index, inplace=True)\n",
        "df.info()"
      ],
      "execution_count": null,
      "outputs": []
    },
    {
      "cell_type": "code",
      "metadata": {
        "id": "oqqff6Yomhp4"
      },
      "source": [
        "df['Embarked']"
      ],
      "execution_count": null,
      "outputs": []
    },
    {
      "cell_type": "code",
      "metadata": {
        "id": "57EkkTOPlxUo"
      },
      "source": [
        "def Embarked_Encoded(value):\n",
        "    if value == 'C' : return 0\n",
        "    elif value == 'S' : return 1\n",
        "    else: return 2\n",
        "    \n",
        "df['Embarked_Encoded'] = df['Embarked'].map(Embarked_Encoded)\n",
        "df"
      ],
      "execution_count": null,
      "outputs": []
    },
    {
      "cell_type": "code",
      "metadata": {
        "id": "0UnrfWAyl25n"
      },
      "source": [
        "df.hist(figsize=(30,30), xlabelsize=20, ylabelsize=20);"
      ],
      "execution_count": null,
      "outputs": []
    },
    {
      "cell_type": "markdown",
      "metadata": {
        "id": "l-DmQ6E0nXX4"
      },
      "source": [
        "## 퀴즈 풀이"
      ]
    },
    {
      "cell_type": "code",
      "metadata": {
        "id": "g57ybWK4wTno"
      },
      "source": [
        "df = pd.read_csv('titanic.csv')"
      ],
      "execution_count": null,
      "outputs": []
    },
    {
      "cell_type": "code",
      "metadata": {
        "id": "qyi-NRG4wVeZ"
      },
      "source": [
        "df['Embarked'].hist()"
      ],
      "execution_count": null,
      "outputs": []
    },
    {
      "cell_type": "code",
      "metadata": {
        "id": "vGPcCe_MwYzr"
      },
      "source": [
        "df.Embarked.unique()"
      ],
      "execution_count": null,
      "outputs": []
    },
    {
      "cell_type": "code",
      "metadata": {
        "id": "SMQCKth_rGMc"
      },
      "source": [
        "df = pd.read_csv('titanic.csv')\n",
        "\n",
        "# 컬럼 삭제\n",
        "df.drop(columns=['PassengerId', 'Name', 'SibSp', 'Parch', 'Ticket', 'Cabin'], inplace=True)\n",
        "\n",
        "# Sex Category\n",
        "sex_category_map = {'male':0, 'female':1}\n",
        "df['Sex_Code'] = df['Sex'].map(category_map)\n",
        "\n",
        "# Age 결측치 처리\n",
        "age_mean = df.loc[df.Age.notnull()].Age.mean()\n",
        "df.loc[df.Age.isnull(), 'Age'] = age_mean\n",
        "\n",
        "# Age 컬럼 Normalization\n",
        "df['Age_Normalized'] = (df.Age - df.Age.min()) / (df.Age.max() - df.Age.min())\n",
        "\n",
        "# Embarked 결측치 삭제\n",
        "df.dropna(inplace=True)\n",
        "\n",
        "# Embarkde Category\n",
        "embarked_category_map = {'C':0, 'S':1, 'Q':2}\n",
        "df['Embarked_Code'] = df['Embarked'].map(embarked_category_map)\n",
        "\n",
        "# Fare 컬럼 150 넘는 값 150으로 처리\n",
        "FARE_MAX = 150\n",
        "df['Fare_Limited'] = df.Fare\n",
        "df.loc[df.Fare_Limited > FARE_MAX, 'Fare_Limited'] = FARE_MAX\n",
        "# print(df.Fare_Limited.max())\n",
        "\n",
        "# Fare_Limited 컬럼 Standardization\n",
        "df.Fare_Limited = (df.Fare_Limited - df.Fare_Limited.mean()) / df.Fare_Limited.std()\n",
        "\n",
        "# 원 컬럼 삭제\n",
        "df.drop(columns=['Sex', 'Age', 'Fare', 'Embarked'], inplace=True)\n",
        "\n",
        "df.head()"
      ],
      "execution_count": null,
      "outputs": []
    },
    {
      "cell_type": "code",
      "metadata": {
        "id": "cdNXHHhPrbBJ"
      },
      "source": [
        ""
      ],
      "execution_count": null,
      "outputs": []
    }
  ]
}