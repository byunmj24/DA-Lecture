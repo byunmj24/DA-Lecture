{
 "cells": [
  {
   "cell_type": "code",
   "execution_count": 1,
   "id": "067069a2",
   "metadata": {},
   "outputs": [
    {
     "data": {
      "text/html": [
       "<style>.container { width: 100% !important; }</style>"
      ],
      "text/plain": [
       "<IPython.core.display.HTML object>"
      ]
     },
     "metadata": {},
     "output_type": "display_data"
    }
   ],
   "source": [
    "# 쥬피터노트북 셀 스타일 조절 \n",
    "from IPython.core.display import display, HTML\n",
    "display(HTML(\"<style>.container { width: 100% !important; }</style>\"))"
   ]
  },
  {
   "cell_type": "code",
   "execution_count": 4,
   "id": "57b0c3e3",
   "metadata": {},
   "outputs": [],
   "source": [
    "import warnings\n",
    "warnings.filterwarnings(action=\"ignore\")"
   ]
  },
  {
   "cell_type": "code",
   "execution_count": 5,
   "id": "c9a5aaf4",
   "metadata": {},
   "outputs": [],
   "source": [
    "import requests\n",
    "import os\n",
    "from bs4 import BeautifulSoup\n",
    "import pandas as pd\n",
    "import numpy as np"
   ]
  },
  {
   "cell_type": "markdown",
   "id": "fc028bf1",
   "metadata": {},
   "source": [
    "### Yes24"
   ]
  },
  {
   "cell_type": "code",
   "execution_count": 7,
   "id": "8f9294e6",
   "metadata": {},
   "outputs": [],
   "source": [
    "# response 객체 => html 페이지\n",
    "# html => Beautiful 객체화 \n",
    "\n",
    "url = 'http://www.yes24.com/Main/default.aspx'\n",
    "res = requests.get(url)\n",
    "html_str = res.text\n",
    "\n",
    "soup = BeautifulSoup(html_str, 'html.parser')\n",
    "# soup"
   ]
  },
  {
   "cell_type": "code",
   "execution_count": 8,
   "id": "93fda55a",
   "metadata": {},
   "outputs": [
    {
     "data": {
      "text/plain": [
       "10"
      ]
     },
     "execution_count": 8,
     "metadata": {},
     "output_type": "execute_result"
    }
   ],
   "source": [
    "li_list = soup.select('.tp02')\n",
    "len(li_list)"
   ]
  },
  {
   "cell_type": "code",
   "execution_count": 9,
   "id": "81383e00",
   "metadata": {},
   "outputs": [
    {
     "data": {
      "text/plain": [
       "<li class=\"tp02\">\n",
       "<strong class=\"icon rnk_1\">1위</strong>\n",
       "<em class=\"rnk_chg chg_even\">0</em>\n",
       "<span class=\"rnk_img\"><img alt=\"거꾸로 읽는 세계사\" border=\"0\" src=\"http://image.yes24.com/Goods/104409067/S\" width=\"40\"/></span>\n",
       "<span class=\"rnk_info\">\n",
       "<strong>거꾸로 읽는 세계사</strong>\n",
       "<em>유시민 저</em>\n",
       "</span>\n",
       "<a class=\"rnk_lnk\" href=\"/Product/Goods/104409067\" onclick=\"setWcode('010_006');\" target=\"_self\" title=\"거꾸로 읽는 세계사 유시민 저 돌베개\">'거꾸로 읽는 세계사' 상품상세로 이동</a>\n",
       "</li>"
      ]
     },
     "execution_count": 9,
     "metadata": {},
     "output_type": "execute_result"
    }
   ],
   "source": [
    "li_list[0]"
   ]
  },
  {
   "cell_type": "code",
   "execution_count": 13,
   "id": "d3e91763",
   "metadata": {},
   "outputs": [],
   "source": [
    "# 2차원 리스트 저장\n",
    "base_url = 'http://www.yes24.com'\n",
    "temp_list = []\n",
    "for row in li_list:\n",
    "    rank = row.select_one('strong').text\n",
    "    title = row.select('strong')[1].text\n",
    "    writer = row.select('em')[1].text\n",
    "    link = base_url +  row.select_one('a')['href']\n",
    "    temp_list.append([rank, title, writer, link])"
   ]
  },
  {
   "cell_type": "code",
   "execution_count": 14,
   "id": "48d2067c",
   "metadata": {},
   "outputs": [
    {
     "data": {
      "text/plain": [
       "[['1위', '거꾸로 읽는 세계사', '유시민 저', 'http://www.yes24.com/Product/Goods/104409067'],\n",
       " ['2위',\n",
       "  '트렌드 코리아 2022',\n",
       "  '김난도,전미영 등저',\n",
       "  'http://www.yes24.com/Product/Goods/103737985'],\n",
       " ['3위',\n",
       "  '주술회전 17권 + 2022 캘린더 세트',\n",
       "  '아쿠타미 게게 글그림/이정운 역',\n",
       "  'http://www.yes24.com/Product/Goods/105031367'],\n",
       " ['4위',\n",
       "  '이상한 과자 가게 전천당 12',\n",
       "  '히로시마 레이코 글/쟈쟈 그림/김정화 역',\n",
       "  'http://www.yes24.com/Product/Goods/104985558'],\n",
       " ['5위', '그냥 하지 말라', '송길영 저', 'http://www.yes24.com/Product/Goods/103841300'],\n",
       " ['6위',\n",
       "  'NFT 레볼루션',\n",
       "  '성소라,롤프 회퍼,스콧 맥러플린 저',\n",
       "  'http://www.yes24.com/Product/Goods/103417076'],\n",
       " ['7위', '주식투자 절대 원칙', '박영옥 저', 'http://www.yes24.com/Product/Goods/104431794'],\n",
       " ['8위',\n",
       "  '달러구트 꿈 백화점 2',\n",
       "  '이미예 저',\n",
       "  'http://www.yes24.com/Product/Goods/102789938'],\n",
       " ['9위', '웰씽킹', '켈리 최 저 ', 'http://www.yes24.com/Product/Goods/104866527'],\n",
       " ['10위',\n",
       "  '주술회전 17 일반판 ',\n",
       "  '아쿠타미 게게 글그림/이정운 역',\n",
       "  'http://www.yes24.com/Product/Goods/105031390']]"
      ]
     },
     "execution_count": 14,
     "metadata": {},
     "output_type": "execute_result"
    }
   ],
   "source": [
    "temp_list"
   ]
  },
  {
   "cell_type": "code",
   "execution_count": 15,
   "id": "8e1cbb78",
   "metadata": {},
   "outputs": [
    {
     "data": {
      "text/html": [
       "<div>\n",
       "<style scoped>\n",
       "    .dataframe tbody tr th:only-of-type {\n",
       "        vertical-align: middle;\n",
       "    }\n",
       "\n",
       "    .dataframe tbody tr th {\n",
       "        vertical-align: top;\n",
       "    }\n",
       "\n",
       "    .dataframe thead th {\n",
       "        text-align: right;\n",
       "    }\n",
       "</style>\n",
       "<table border=\"1\" class=\"dataframe\">\n",
       "  <thead>\n",
       "    <tr style=\"text-align: right;\">\n",
       "      <th></th>\n",
       "      <th>rank</th>\n",
       "      <th>title</th>\n",
       "      <th>writer</th>\n",
       "      <th>link</th>\n",
       "    </tr>\n",
       "  </thead>\n",
       "  <tbody>\n",
       "    <tr>\n",
       "      <th>0</th>\n",
       "      <td>1위</td>\n",
       "      <td>거꾸로 읽는 세계사</td>\n",
       "      <td>유시민 저</td>\n",
       "      <td>http://www.yes24.com/Product/Goods/104409067</td>\n",
       "    </tr>\n",
       "    <tr>\n",
       "      <th>1</th>\n",
       "      <td>2위</td>\n",
       "      <td>트렌드 코리아 2022</td>\n",
       "      <td>김난도,전미영 등저</td>\n",
       "      <td>http://www.yes24.com/Product/Goods/103737985</td>\n",
       "    </tr>\n",
       "    <tr>\n",
       "      <th>2</th>\n",
       "      <td>3위</td>\n",
       "      <td>주술회전 17권 + 2022 캘린더 세트</td>\n",
       "      <td>아쿠타미 게게 글그림/이정운 역</td>\n",
       "      <td>http://www.yes24.com/Product/Goods/105031367</td>\n",
       "    </tr>\n",
       "    <tr>\n",
       "      <th>3</th>\n",
       "      <td>4위</td>\n",
       "      <td>이상한 과자 가게 전천당 12</td>\n",
       "      <td>히로시마 레이코 글/쟈쟈 그림/김정화 역</td>\n",
       "      <td>http://www.yes24.com/Product/Goods/104985558</td>\n",
       "    </tr>\n",
       "    <tr>\n",
       "      <th>4</th>\n",
       "      <td>5위</td>\n",
       "      <td>그냥 하지 말라</td>\n",
       "      <td>송길영 저</td>\n",
       "      <td>http://www.yes24.com/Product/Goods/103841300</td>\n",
       "    </tr>\n",
       "    <tr>\n",
       "      <th>5</th>\n",
       "      <td>6위</td>\n",
       "      <td>NFT 레볼루션</td>\n",
       "      <td>성소라,롤프 회퍼,스콧 맥러플린 저</td>\n",
       "      <td>http://www.yes24.com/Product/Goods/103417076</td>\n",
       "    </tr>\n",
       "    <tr>\n",
       "      <th>6</th>\n",
       "      <td>7위</td>\n",
       "      <td>주식투자 절대 원칙</td>\n",
       "      <td>박영옥 저</td>\n",
       "      <td>http://www.yes24.com/Product/Goods/104431794</td>\n",
       "    </tr>\n",
       "    <tr>\n",
       "      <th>7</th>\n",
       "      <td>8위</td>\n",
       "      <td>달러구트 꿈 백화점 2</td>\n",
       "      <td>이미예 저</td>\n",
       "      <td>http://www.yes24.com/Product/Goods/102789938</td>\n",
       "    </tr>\n",
       "    <tr>\n",
       "      <th>8</th>\n",
       "      <td>9위</td>\n",
       "      <td>웰씽킹</td>\n",
       "      <td>켈리 최 저</td>\n",
       "      <td>http://www.yes24.com/Product/Goods/104866527</td>\n",
       "    </tr>\n",
       "    <tr>\n",
       "      <th>9</th>\n",
       "      <td>10위</td>\n",
       "      <td>주술회전 17 일반판</td>\n",
       "      <td>아쿠타미 게게 글그림/이정운 역</td>\n",
       "      <td>http://www.yes24.com/Product/Goods/105031390</td>\n",
       "    </tr>\n",
       "  </tbody>\n",
       "</table>\n",
       "</div>"
      ],
      "text/plain": [
       "  rank                   title                  writer  \\\n",
       "0   1위              거꾸로 읽는 세계사                   유시민 저   \n",
       "1   2위            트렌드 코리아 2022              김난도,전미영 등저   \n",
       "2   3위  주술회전 17권 + 2022 캘린더 세트       아쿠타미 게게 글그림/이정운 역   \n",
       "3   4위        이상한 과자 가게 전천당 12  히로시마 레이코 글/쟈쟈 그림/김정화 역   \n",
       "4   5위                그냥 하지 말라                   송길영 저   \n",
       "5   6위                NFT 레볼루션     성소라,롤프 회퍼,스콧 맥러플린 저   \n",
       "6   7위              주식투자 절대 원칙                   박영옥 저   \n",
       "7   8위            달러구트 꿈 백화점 2                   이미예 저   \n",
       "8   9위                     웰씽킹                 켈리 최 저    \n",
       "9  10위            주술회전 17 일반판        아쿠타미 게게 글그림/이정운 역   \n",
       "\n",
       "                                           link  \n",
       "0  http://www.yes24.com/Product/Goods/104409067  \n",
       "1  http://www.yes24.com/Product/Goods/103737985  \n",
       "2  http://www.yes24.com/Product/Goods/105031367  \n",
       "3  http://www.yes24.com/Product/Goods/104985558  \n",
       "4  http://www.yes24.com/Product/Goods/103841300  \n",
       "5  http://www.yes24.com/Product/Goods/103417076  \n",
       "6  http://www.yes24.com/Product/Goods/104431794  \n",
       "7  http://www.yes24.com/Product/Goods/102789938  \n",
       "8  http://www.yes24.com/Product/Goods/104866527  \n",
       "9  http://www.yes24.com/Product/Goods/105031390  "
      ]
     },
     "execution_count": 15,
     "metadata": {},
     "output_type": "execute_result"
    }
   ],
   "source": [
    "df_yes24 = pd.DataFrame(temp_list, columns=['rank', 'title', 'writer', 'link'])\n",
    "df_yes24"
   ]
  },
  {
   "cell_type": "code",
   "execution_count": 16,
   "id": "84fb45b2",
   "metadata": {},
   "outputs": [],
   "source": [
    "# csv 파일로 저장\n",
    "df_yes24.to_csv('output2/yest24.csv', index=False)"
   ]
  },
  {
   "cell_type": "code",
   "execution_count": 17,
   "id": "f574ef07",
   "metadata": {},
   "outputs": [
    {
     "name": "stdout",
     "output_type": "stream",
     "text": [
      " C 드라이브의 볼륨에는 이름이 없습니다.\n",
      " 볼륨 일련 번호: F424-1196\n",
      "\n",
      " C:\\Users\\User\\Desktop\\Code\\20211118 Python Lib 4일차\\output2 디렉터리\n",
      "\n",
      "2021-11-18  오후 05:06    <DIR>          .\n",
      "2021-11-18  오후 05:06    <DIR>          ..\n",
      "2021-11-18  오후 04:33             1,308 alexa.csv\n",
      "2021-11-18  오후 02:58            15,241 google.html\n",
      "2021-11-18  오후 05:06             1,092 yest24.csv\n",
      "               3개 파일              17,641 바이트\n",
      "               2개 디렉터리  434,967,429,120 바이트 남음\n"
     ]
    }
   ],
   "source": [
    "ls output2"
   ]
  },
  {
   "cell_type": "code",
   "execution_count": null,
   "id": "2e4b215e",
   "metadata": {},
   "outputs": [],
   "source": [
    "<li class=\"tp02\">\n",
    "                  <strong class=\"icon rnk_1\">1위</strong>\n",
    "                  <em class=\"rnk_chg chg_even\">0</em> \n",
    "                  <span class=\"rnk_img\"><img src=\"http://image.yes24.com/Goods/104409067/S\" width=\"40\" border=\"0\" alt=\"거꾸로 읽는 세계사\"></span>\n",
    "                  <span class=\"rnk_info\">\n",
    "                    <strong>거꾸로 읽는 세계사</strong> \n",
    "                    <em>유시민 저</em> \n",
    "                  </span>\n",
    "                  <a class=\"rnk_lnk\" href=\"/Product/Goods/104409067\" target=\"_self\" onclick=\"setWcode('010_006');\" title=\"거꾸로 읽는 세계사 유시민 저 돌베개\">'거꾸로 읽는 세계사' 상품상세로 이동</a> \n",
    "                </li>"
   ]
  }
 ],
 "metadata": {
  "kernelspec": {
   "display_name": "Python 3",
   "language": "python",
   "name": "python3"
  },
  "language_info": {
   "codemirror_mode": {
    "name": "ipython",
    "version": 3
   },
   "file_extension": ".py",
   "mimetype": "text/x-python",
   "name": "python",
   "nbconvert_exporter": "python",
   "pygments_lexer": "ipython3",
   "version": "3.8.8"
  }
 },
 "nbformat": 4,
 "nbformat_minor": 5
}
