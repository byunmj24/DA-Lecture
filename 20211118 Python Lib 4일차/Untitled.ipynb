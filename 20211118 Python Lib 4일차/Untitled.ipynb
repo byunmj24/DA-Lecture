{
 "cells": [
  {
   "cell_type": "code",
   "execution_count": 21,
   "id": "bb8141e6",
   "metadata": {},
   "outputs": [],
   "source": [
    "import requests\n",
    "import json\n",
    "import pandas as pd"
   ]
  },
  {
   "cell_type": "code",
   "execution_count": 97,
   "id": "ce3813b8",
   "metadata": {},
   "outputs": [],
   "source": [
    "response = requests.get(\"http://www.recycling-info.or.kr/sds/JsonApi.do?PID=NTN003&YEAR=2004&USRID=byunmj24&KEY=WGG4577JA8ZCGDJ52RLB0GNTH5Z5WEASTS3I8TJU1156D\")"
   ]
  },
  {
   "cell_type": "code",
   "execution_count": 98,
   "id": "7f9ce46f",
   "metadata": {},
   "outputs": [
    {
     "data": {
      "text/plain": [
       "<Response [200]>"
      ]
     },
     "execution_count": 98,
     "metadata": {},
     "output_type": "execute_result"
    }
   ],
   "source": [
    "response"
   ]
  },
  {
   "cell_type": "code",
   "execution_count": 99,
   "id": "d171bf0e",
   "metadata": {},
   "outputs": [],
   "source": [
    "json_2003 = response.text"
   ]
  },
  {
   "cell_type": "code",
   "execution_count": 100,
   "id": "e37f4569",
   "metadata": {},
   "outputs": [],
   "source": [
    "with open('output2/2003.json', 'w', encoding='utf-8') as f:\n",
    "    f.write(json_2003)"
   ]
  },
  {
   "cell_type": "code",
   "execution_count": 101,
   "id": "1982b452",
   "metadata": {},
   "outputs": [],
   "source": [
    "#df = pd.read_json('output2/2003.json')"
   ]
  },
  {
   "cell_type": "code",
   "execution_count": 102,
   "id": "116b3f41",
   "metadata": {},
   "outputs": [],
   "source": [
    "with open('output2/2003.json', encoding='utf-8') as json_data:\n",
    "    data = json.load(json_data)"
   ]
  },
  {
   "cell_type": "code",
   "execution_count": 103,
   "id": "eb345211",
   "metadata": {},
   "outputs": [
    {
     "data": {
      "text/plain": [
       "{'data': [{'PRIMARYVAL': 'NODATA'},\n",
       "  {'DSTRCT_PPR_KIND_QTY': 'NUMBER',\n",
       "   'DSTRCT_RSDL_KIND_QTY': 'NUMBER',\n",
       "   'COMB_FOOD_VEGET': 'NUMBER',\n",
       "   'DSTRCT_ETC_KIND_QTY': 'NUMBER',\n",
       "   'DSTRCT_ELEPDT_KIND_QTY': 'NUMBER',\n",
       "   'COMB_PLAS_KIND': 'NUMBER',\n",
       "   'NCMB_SUM': 'NUMBER',\n",
       "   'SPEC_SUM': 'NUMBER',\n",
       "   'DSTRCT_FMDRSNS_KIND_QTY': 'NUMBER',\n",
       "   'DAO_X': 'Y',\n",
       "   'TOT_SUM': 'NUMBER',\n",
       "   'DSTRCT_FARM_KIND_QTY': 'NUMBER',\n",
       "   'ORD': 'VARCHAR2',\n",
       "   'NCMB_SAND_KIND': 'NUMBER',\n",
       "   'INPUT_YYYY': 'VARCHAR2',\n",
       "   'DSTRCT_FURN_KIND_QTY': 'NUMBER',\n",
       "   'ETC_KIND': 'NUMBER',\n",
       "   'FOOD_SUM': 'NUMBER',\n",
       "   'DSTRCT_F_LIGHT_QTY': 'NUMBER',\n",
       "   'COMB_SUM': 'NUMBER',\n",
       "   'DSTRCT_SUM': 'NUMBER',\n",
       "   'CTS_JIDT_NM': 'VARCHAR2',\n",
       "   'DSTRCT_WTC_OIL_KIND_QTY': 'NUMBER',\n",
       "   'COMB_RUBBER_KIND': 'NUMBER',\n",
       "   'DSTRCT_LUBRICANT_QTY': 'NUMBER',\n",
       "   'DSTRCT_BATTERY_KIND_QTY': 'NUMBER',\n",
       "   'DSTRCT_CLOTHES_KIND_QTY': 'NUMBER',\n",
       "   'COMB_ETC_ETC_KIND': 'NUMBER',\n",
       "   'DSTRCT_SYNRSNS_KIND_QTY': 'NUMBER',\n",
       "   'COMB_WOOD_KIND': 'NUMBER',\n",
       "   'DSTRCT_S_IRON_KIND_QTY': 'NUMBER',\n",
       "   'COMB_PPR_KIND': 'NUMBER',\n",
       "   'DSTRCT_PLAS_KIND_QTY': 'NUMBER',\n",
       "   'NCMB_MET_KIND': 'NUMBER',\n",
       "   'DSTRCT_CAN_KIND_QTY': 'NUMBER',\n",
       "   'DATA_TM_NM': 'VARCHAR2',\n",
       "   'NCMB_ETC_KIND': 'NUMBER',\n",
       "   'DSTRCT_GLSS_KIND_QTY': 'NUMBER',\n",
       "   'NCMB_GLSS_KIND': 'NUMBER',\n",
       "   'DSTRCT_TIRE_KIND_QTY': 'NUMBER',\n",
       "   'CITY_JIDT_NM': 'VARCHAR2'}],\n",
       " 'dataHeader': [{'CITY_JIDT_NM': '구분_시도',\n",
       "   'CTS_JIDT_NM': '구분_시군구',\n",
       "   'DATA_TM_NM': '발생량및처리현황',\n",
       "   'TOT_SUM': '총계',\n",
       "   'SPEC_SUM': '종량제에 의한 혼합배출_소계',\n",
       "   'COMB_SUM': '종량제에 의한 혼합배출_가연성_소계',\n",
       "   'COMB_FOOD_VEGET': '종량제에 의한 혼합배출_가연성_음식물채소류',\n",
       "   'COMB_PPR_KIND': '종량제에 의한 혼합배출_가연성_종이류',\n",
       "   'COMB_WOOD_KIND': '종량제에 의한 혼합배출_가연성_나무류',\n",
       "   'COMB_RUBBER_KIND': '종량제에 의한 혼합배출_가연성_고무피혁류',\n",
       "   'COMB_PLAS_KIND': '종량제에 의한 혼합배출_가연성_플라스틱류',\n",
       "   'COMB_ETC_ETC_KIND': '종량제에 의한 혼합배출_가연성_기타',\n",
       "   'NCMB_SUM': '종량제에 의한 혼합배출_불연성_소계',\n",
       "   'NCMB_GLSS_KIND': '종량제에 의한 혼합배출_불연성_유리류',\n",
       "   'NCMB_MET_KIND': '종량제에 의한 혼합배출_불연성_금속류',\n",
       "   'NCMB_SAND_KIND': '종량제에 의한 혼합배출_불연성_토사류',\n",
       "   'NCMB_ETC_KIND': '종량제에 의한 혼합배출_불연성_기타',\n",
       "   'ETC_KIND': '재활용가능자원 분리배출_기타(배출불명 등)',\n",
       "   'DSTRCT_SUM': '재활용가능자원 분리배출_소계',\n",
       "   'DSTRCT_PPR_KIND_QTY': '재활용가능자원 분리배출_종이류',\n",
       "   'DSTRCT_GLSS_KIND_QTY': '재활용가능자원 분리배출_유리병류',\n",
       "   'DSTRCT_CAN_KIND_QTY': '재활용가능자원 분리배출_캔류',\n",
       "   'DSTRCT_SYNRSNS_KIND_QTY': '재활용가능자원 분리배출_합성수지류',\n",
       "   'DSTRCT_PLAS_KIND_QTY': '재활용가능자원 분리배출_플라스틱류',\n",
       "   'DSTRCT_FMDRSNS_KIND_QTY': '재활용가능자원 분리배출_발포수지류',\n",
       "   'DSTRCT_ELEPDT_KIND_QTY': '재활용가능자원 분리배출_전자제품',\n",
       "   'DSTRCT_BATTERY_KIND_QTY': '재활용가능자원 분리배출_전지류',\n",
       "   'DSTRCT_TIRE_KIND_QTY': '재활용가능자원 분리배출_타이어',\n",
       "   'DSTRCT_LUBRICANT_QTY': '재활용가능자원 분리배출_윤활유',\n",
       "   'DSTRCT_F_LIGHT_QTY': '재활용가능자원 분리배출_형광등',\n",
       "   'DSTRCT_S_IRON_KIND_QTY': '재활용가능자원 분리배출_고철류',\n",
       "   'DSTRCT_CLOTHES_KIND_QTY': '재활용가능자원 분리배출_의류',\n",
       "   'DSTRCT_FARM_KIND_QTY': '재활용가능자원 분리배출_영농폐기물',\n",
       "   'DSTRCT_FURN_KIND_QTY': '재활용가능자원 분리배출_가구류',\n",
       "   'DSTRCT_WTC_OIL_KIND_QTY': '재활용가능자원 분리배출_폐식용유',\n",
       "   'DSTRCT_ETC_KIND_QTY': '재활용가능자원 분리배출_기타',\n",
       "   'FOOD_SUM': '음식물류 배출(분리배출 지역일 경우)'}],\n",
       " 'result': [{'ERR_CODE': 'E099',\n",
       "   'RESULT': '해당 조건과 일치하는 데이터가 없습니다.',\n",
       "   'callId': 'API00000000000046996',\n",
       "   'YEAR': '2004',\n",
       "   'PID': 'NTN003',\n",
       "   'API_GBN': 'NTN',\n",
       "   'TITLE': '2가(가정생활폐기물발생및처리)',\n",
       "   'DUNIT': '(단위:톤/일)',\n",
       "   'MEMO': None}],\n",
       " 'searchOption': [{'CODE': 'NTN001',\n",
       "   'CODE_NM': '1가(생활폐기물 관리구역)',\n",
       "   'SORT_ORDR': 1},\n",
       "  {'CODE': 'NTN002', 'CODE_NM': '1나(사업장폐기물배출업소)', 'SORT_ORDR': 2},\n",
       "  {'CODE': 'NTN003', 'CODE_NM': '2가(가정생활폐기물발생및처리)', 'SORT_ORDR': 3},\n",
       "  {'CODE': 'NTN004', 'CODE_NM': '2나(사업장생활폐기물발생및처리)', 'SORT_ORDR': 4},\n",
       "  {'CODE': 'NTN005', 'CODE_NM': '2다(업종별 사업장배출시설계폐기물)', 'SORT_ORDR': 5},\n",
       "  {'CODE': 'NTN006', 'CODE_NM': '2라(건설폐기물발생및처리)', 'SORT_ORDR': 6},\n",
       "  {'CODE': 'NTN007', 'CODE_NM': '3가(가정생활폐기물처리주체별 처리)', 'SORT_ORDR': 7},\n",
       "  {'CODE': 'NTN008', 'CODE_NM': '3나(사업장생활폐기물처리주체별처리)', 'SORT_ORDR': 8},\n",
       "  {'CODE': 'NTN009', 'CODE_NM': '3다(사업장배출시설계폐기물처리주체별처리)', 'SORT_ORDR': 9},\n",
       "  {'CODE': 'NTN010', 'CODE_NM': '3라(건설폐기물처리주체별 처리)', 'SORT_ORDR': 10},\n",
       "  {'CODE': 'NTN011', 'CODE_NM': '4가(생활폐기물관리인원및장비현황)', 'SORT_ORDR': 11},\n",
       "  {'CODE': 'NTN012', 'CODE_NM': '4나(생활폐기물수집운반차량)', 'SORT_ORDR': 12},\n",
       "  {'CODE': 'NTN013', 'CODE_NM': '5가(폐기물매립시설-지방자치단체)', 'SORT_ORDR': 13},\n",
       "  {'CODE': 'NTN014', 'CODE_NM': '5나(폐기물매립시설-자가처리업체)', 'SORT_ORDR': 14},\n",
       "  {'CODE': 'NTN015', 'CODE_NM': '6가(폐기물소각시설-지방자치단체)', 'SORT_ORDR': 15},\n",
       "  {'CODE': 'NTN016', 'CODE_NM': '6나(폐기물소각시설-자가처리업체(생활))', 'SORT_ORDR': 16},\n",
       "  {'CODE': 'NTN017', 'CODE_NM': '6다(폐기물소각시설-자가처리업체(사업장))', 'SORT_ORDR': 17},\n",
       "  {'CODE': 'NTN018', 'CODE_NM': '7가(기타시설설치-지방자치단체)', 'SORT_ORDR': 18},\n",
       "  {'CODE': 'NTN019', 'CODE_NM': '7나(기타시설설치-자가처리업체)', 'SORT_ORDR': 19},\n",
       "  {'CODE': 'NTN022', 'CODE_NM': '8다(폐기물처리업-중간처분업체)', 'SORT_ORDR': 22},\n",
       "  {'CODE': 'NTN023', 'CODE_NM': '8라(폐기물처리업-최종처분업체)', 'SORT_ORDR': 23},\n",
       "  {'CODE': 'NTN024', 'CODE_NM': '8마(폐기물처리업-중간재활용업체)', 'SORT_ORDR': 24},\n",
       "  {'CODE': 'NTN025', 'CODE_NM': '8바(폐기물처리업-최종재활용업체)', 'SORT_ORDR': 25},\n",
       "  {'CODE': 'NTN026', 'CODE_NM': '8사(폐기물처리업-종합재활용업체)', 'SORT_ORDR': 26},\n",
       "  {'CODE': 'NTN027', 'CODE_NM': '8아(폐기물처리업-중간처리업체(건설))', 'SORT_ORDR': 27},\n",
       "  {'CODE': 'NTN028', 'CODE_NM': '9가(생활폐기물관리예산)', 'SORT_ORDR': 28},\n",
       "  {'CODE': 'NTN029', 'CODE_NM': '9나(생활폐기물관리예산 집행내역)', 'SORT_ORDR': 29},\n",
       "  {'CODE': 'NTN031', 'CODE_NM': '10가(순환자원 인정 현황-사용용도별 사용현황)', 'SORT_ORDR': 30},\n",
       "  {'CODE': 'NTN032', 'CODE_NM': '10나(순환자원 인정 현황-종류별 사용현황)', 'SORT_ORDR': 31},\n",
       "  {'CODE': 'NTN033', 'CODE_NM': '10다(순환자원 인정 현황-업체현황)', 'SORT_ORDR': 32},\n",
       "  {'CODE': 'NTN030', 'CODE_NM': '부록(산업단지별 사업장배출시설계폐기물)', 'SORT_ORDR': 33}]}"
      ]
     },
     "execution_count": 103,
     "metadata": {},
     "output_type": "execute_result"
    }
   ],
   "source": [
    "data"
   ]
  },
  {
   "cell_type": "code",
   "execution_count": null,
   "id": "4460be74",
   "metadata": {},
   "outputs": [],
   "source": []
  }
 ],
 "metadata": {
  "kernelspec": {
   "display_name": "Python 3",
   "language": "python",
   "name": "python3"
  },
  "language_info": {
   "codemirror_mode": {
    "name": "ipython",
    "version": 3
   },
   "file_extension": ".py",
   "mimetype": "text/x-python",
   "name": "python",
   "nbconvert_exporter": "python",
   "pygments_lexer": "ipython3",
   "version": "3.8.8"
  }
 },
 "nbformat": 4,
 "nbformat_minor": 5
}
