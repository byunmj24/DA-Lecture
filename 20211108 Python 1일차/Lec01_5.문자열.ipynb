{
 "cells": [
  {
   "cell_type": "code",
   "execution_count": 1,
   "id": "fb5307dd",
   "metadata": {},
   "outputs": [
    {
     "data": {
      "text/plain": [
       "('Snap', 'Snap')"
      ]
     },
     "execution_count": 1,
     "metadata": {},
     "output_type": "execute_result"
    }
   ],
   "source": [
    "\"Snap\", 'Snap'"
   ]
  },
  {
   "cell_type": "code",
   "execution_count": 2,
   "id": "f2205776",
   "metadata": {},
   "outputs": [
    {
     "data": {
      "text/plain": [
       "'\"Hi\", bye'"
      ]
     },
     "execution_count": 2,
     "metadata": {},
     "output_type": "execute_result"
    }
   ],
   "source": [
    "'\"Hi\", bye'"
   ]
  },
  {
   "cell_type": "code",
   "execution_count": 10,
   "id": "073e9d91",
   "metadata": {},
   "outputs": [],
   "source": [
    "sing = \"\"\"\n",
    "Yesterday\n",
    "    All my troubles seemed so far away\n",
    "Now it looks as though they're here to stay\n",
    "Oh, I believ in yesterday\n",
    "\"\"\""
   ]
  },
  {
   "cell_type": "code",
   "execution_count": 11,
   "id": "ec093cdc",
   "metadata": {},
   "outputs": [
    {
     "data": {
      "text/plain": [
       "\"\\nYesterday\\n    All my troubles seemed so far away\\nNow it looks as though they're here to stay\\nOh, I believ in yesterday\\n\""
      ]
     },
     "execution_count": 11,
     "metadata": {},
     "output_type": "execute_result"
    }
   ],
   "source": [
    "sing"
   ]
  },
  {
   "cell_type": "code",
   "execution_count": 12,
   "id": "787ca999",
   "metadata": {},
   "outputs": [
    {
     "name": "stdout",
     "output_type": "stream",
     "text": [
      "\n",
      "Yesterday\n",
      "    All my troubles seemed so far away\n",
      "Now it looks as though they're here to stay\n",
      "Oh, I believ in yesterday\n",
      "\n"
     ]
    }
   ],
   "source": [
    "print(sing)"
   ]
  },
  {
   "cell_type": "code",
   "execution_count": 25,
   "id": "b80c971b",
   "metadata": {},
   "outputs": [
    {
     "data": {
      "text/plain": [
       "'Type a \\\\n to get a new '"
      ]
     },
     "execution_count": 25,
     "metadata": {},
     "output_type": "execute_result"
    }
   ],
   "source": [
    "info = r'Type a \\n to get a new '\n",
    "info"
   ]
  },
  {
   "cell_type": "code",
   "execution_count": 26,
   "id": "a0b3e258",
   "metadata": {},
   "outputs": [
    {
     "name": "stdout",
     "output_type": "stream",
     "text": [
      "Type a \\n to get a new \n"
     ]
    }
   ],
   "source": [
    "print(info)"
   ]
  },
  {
   "cell_type": "code",
   "execution_count": 28,
   "id": "686c43c9",
   "metadata": {},
   "outputs": [
    {
     "data": {
      "text/plain": [
       "'그립다 말을 할까'"
      ]
     },
     "execution_count": 28,
     "metadata": {},
     "output_type": "execute_result"
    }
   ],
   "source": [
    "'그립다 ' + '말을 할까'"
   ]
  },
  {
   "cell_type": "code",
   "execution_count": 29,
   "id": "81562e84",
   "metadata": {},
   "outputs": [
    {
     "data": {
      "text/plain": [
       "'그립다 말을 할까'"
      ]
     },
     "execution_count": 29,
     "metadata": {},
     "output_type": "execute_result"
    }
   ],
   "source": [
    "'그립다 ''말을 할까'"
   ]
  },
  {
   "cell_type": "code",
   "execution_count": 30,
   "id": "3dd2052b",
   "metadata": {},
   "outputs": [
    {
     "data": {
      "text/plain": [
       "'===================='"
      ]
     },
     "execution_count": 30,
     "metadata": {},
     "output_type": "execute_result"
    }
   ],
   "source": [
    "'=' * 20"
   ]
  },
  {
   "cell_type": "code",
   "execution_count": 35,
   "id": "007acdde",
   "metadata": {},
   "outputs": [
    {
     "data": {
      "text/plain": [
       "'--------------------'"
      ]
     },
     "execution_count": 35,
     "metadata": {},
     "output_type": "execute_result"
    }
   ],
   "source": [
    "20 * '-'"
   ]
  },
  {
   "cell_type": "code",
   "execution_count": 38,
   "id": "0422fad5",
   "metadata": {},
   "outputs": [],
   "source": [
    "letters = 'abcdefghijklmnopqrstuvwxyz'"
   ]
  },
  {
   "cell_type": "code",
   "execution_count": 43,
   "id": "4316e4fc",
   "metadata": {},
   "outputs": [
    {
     "data": {
      "text/plain": [
       "('a', 'z', 'y')"
      ]
     },
     "execution_count": 43,
     "metadata": {},
     "output_type": "execute_result"
    }
   ],
   "source": [
    "letters[0], letters[-1], letters[-2]"
   ]
  },
  {
   "cell_type": "code",
   "execution_count": 46,
   "id": "86b46fb7",
   "metadata": {},
   "outputs": [
    {
     "data": {
      "text/plain": [
       "'efghijklmnopqrstuvwxyz'"
      ]
     },
     "execution_count": 46,
     "metadata": {},
     "output_type": "execute_result"
    }
   ],
   "source": [
    "letters[4:]"
   ]
  },
  {
   "cell_type": "code",
   "execution_count": 53,
   "id": "2037647d",
   "metadata": {},
   "outputs": [
    {
     "data": {
      "text/plain": [
       "('acegikmoqsuwy', 'acegikmoqsuwy', 'acegikmoqsuwy')"
      ]
     },
     "execution_count": 53,
     "metadata": {},
     "output_type": "execute_result"
    }
   ],
   "source": [
    "letters[::2],letters[0::2], letters[0:-1:2]"
   ]
  },
  {
   "cell_type": "code",
   "execution_count": 59,
   "id": "f4acd4a5",
   "metadata": {},
   "outputs": [
    {
     "data": {
      "text/plain": [
       "('zyxwvutsrqponmlkjihgfedcba', 'zyxwvutsrqponmlkjihgfedcb')"
      ]
     },
     "execution_count": 59,
     "metadata": {},
     "output_type": "execute_result"
    }
   ],
   "source": [
    "letters[::-1], letters[-1:0:-1]"
   ]
  },
  {
   "cell_type": "code",
   "execution_count": 60,
   "id": "f72475b2",
   "metadata": {},
   "outputs": [
    {
     "data": {
      "text/plain": [
       "26"
      ]
     },
     "execution_count": 60,
     "metadata": {},
     "output_type": "execute_result"
    }
   ],
   "source": [
    "len(letters)"
   ]
  },
  {
   "cell_type": "code",
   "execution_count": 69,
   "id": "d375ae3b",
   "metadata": {},
   "outputs": [],
   "source": [
    "tasks = 'get gloves, get mask, give cat vitamins, call ambulance'"
   ]
  },
  {
   "cell_type": "code",
   "execution_count": 74,
   "id": "023991d3",
   "metadata": {},
   "outputs": [
    {
     "data": {
      "text/plain": [
       "['get',\n",
       " 'gloves,',\n",
       " 'get',\n",
       " 'mask,',\n",
       " 'give',\n",
       " 'cat',\n",
       " 'vitamins,',\n",
       " 'call',\n",
       " 'ambulance']"
      ]
     },
     "execution_count": 74,
     "metadata": {},
     "output_type": "execute_result"
    }
   ],
   "source": [
    "tasks.split()"
   ]
  },
  {
   "cell_type": "code",
   "execution_count": 88,
   "id": "a069f64e",
   "metadata": {},
   "outputs": [],
   "source": [
    "result = tasks.split(',')"
   ]
  },
  {
   "cell_type": "code",
   "execution_count": 93,
   "id": "b7bc3264",
   "metadata": {},
   "outputs": [
    {
     "data": {
      "text/plain": [
       "['get gloves', ' get mask', ' give cat vitamins', ' call ambulance']"
      ]
     },
     "execution_count": 93,
     "metadata": {},
     "output_type": "execute_result"
    }
   ],
   "source": [
    "result"
   ]
  },
  {
   "cell_type": "code",
   "execution_count": 89,
   "id": "a9adc01b",
   "metadata": {},
   "outputs": [
    {
     "data": {
      "text/plain": [
       "'get gloves'"
      ]
     },
     "execution_count": 89,
     "metadata": {},
     "output_type": "execute_result"
    }
   ],
   "source": [
    "result[0].strip()"
   ]
  },
  {
   "cell_type": "code",
   "execution_count": 90,
   "id": "9b341720",
   "metadata": {},
   "outputs": [],
   "source": [
    "result_strip = [x.strip() for x in tasks.split(',')]"
   ]
  },
  {
   "cell_type": "code",
   "execution_count": 91,
   "id": "162ec283",
   "metadata": {},
   "outputs": [
    {
     "data": {
      "text/plain": [
       "['get gloves', 'get mask', 'give cat vitamins', 'call ambulance']"
      ]
     },
     "execution_count": 91,
     "metadata": {},
     "output_type": "execute_result"
    }
   ],
   "source": [
    "result_strip"
   ]
  },
  {
   "cell_type": "code",
   "execution_count": 99,
   "id": "18e96509",
   "metadata": {},
   "outputs": [
    {
     "data": {
      "text/plain": [
       "'sevolg'"
      ]
     },
     "execution_count": 99,
     "metadata": {},
     "output_type": "execute_result"
    }
   ],
   "source": [
    "result[0][4:][::-1]"
   ]
  },
  {
   "cell_type": "code",
   "execution_count": 100,
   "id": "72328ba5",
   "metadata": {},
   "outputs": [],
   "source": [
    "fruit = ['apple', 'banana', 'mango', 'grape', 'orange', 'pineapple', 'dragon fruit']"
   ]
  },
  {
   "cell_type": "code",
   "execution_count": 102,
   "id": "0220d2af",
   "metadata": {},
   "outputs": [
    {
     "data": {
      "text/plain": [
       "'apple:banana:mango:grape:orange:pineapple:dragon fruit'"
      ]
     },
     "execution_count": 102,
     "metadata": {},
     "output_type": "execute_result"
    }
   ],
   "source": [
    "':'.join(fruit) # join은 split 과 반대의 개념"
   ]
  },
  {
   "cell_type": "code",
   "execution_count": 103,
   "id": "62e942f3",
   "metadata": {},
   "outputs": [
    {
     "data": {
      "text/plain": [
       "['apple', 'banana', 'mango', 'grape', 'orange', 'pineapple', 'dragon fruit']"
      ]
     },
     "execution_count": 103,
     "metadata": {},
     "output_type": "execute_result"
    }
   ],
   "source": [
    "':'.join(fruit).split(':')"
   ]
  },
  {
   "cell_type": "code",
   "execution_count": 104,
   "id": "84461193",
   "metadata": {},
   "outputs": [],
   "source": [
    "fruit_s = ' '.join(fruit)"
   ]
  },
  {
   "cell_type": "code",
   "execution_count": 105,
   "id": "a6252b87",
   "metadata": {},
   "outputs": [
    {
     "data": {
      "text/plain": [
       "'apple banana mango grape orange pineapple dragon fruit'"
      ]
     },
     "execution_count": 105,
     "metadata": {},
     "output_type": "execute_result"
    }
   ],
   "source": [
    "fruit_s"
   ]
  },
  {
   "cell_type": "code",
   "execution_count": 107,
   "id": "73b22a83",
   "metadata": {},
   "outputs": [
    {
     "data": {
      "text/plain": [
       "'apple potato mango grape orange pineapple dragon fruit'"
      ]
     },
     "execution_count": 107,
     "metadata": {},
     "output_type": "execute_result"
    }
   ],
   "source": [
    "fruit_s.replace('banana', 'potato')"
   ]
  },
  {
   "cell_type": "code",
   "execution_count": 108,
   "id": "6d5f3a33",
   "metadata": {},
   "outputs": [],
   "source": [
    "world = \"     earth  \" "
   ]
  },
  {
   "cell_type": "code",
   "execution_count": 109,
   "id": "1537a865",
   "metadata": {},
   "outputs": [
    {
     "data": {
      "text/plain": [
       "('earth', 'earth  ', '     earth')"
      ]
     },
     "execution_count": 109,
     "metadata": {},
     "output_type": "execute_result"
    }
   ],
   "source": [
    "world.strip(), world.lstrip(), world.rstrip()"
   ]
  },
  {
   "cell_type": "code",
   "execution_count": 110,
   "id": "645e7d65",
   "metadata": {},
   "outputs": [
    {
     "data": {
      "text/plain": [
       "'apple banana'"
      ]
     },
     "execution_count": 110,
     "metadata": {},
     "output_type": "execute_result"
    }
   ],
   "source": [
    "fruit_s[:12]"
   ]
  },
  {
   "cell_type": "code",
   "execution_count": 112,
   "id": "a941e7e9",
   "metadata": {},
   "outputs": [
    {
     "data": {
      "text/plain": [
       "(True, False)"
      ]
     },
     "execution_count": 112,
     "metadata": {},
     "output_type": "execute_result"
    }
   ],
   "source": [
    "fruit_s.startswith('apple'), fruit_s.endswith('dragon')"
   ]
  },
  {
   "cell_type": "code",
   "execution_count": 113,
   "id": "cc1c88c8",
   "metadata": {},
   "outputs": [
    {
     "data": {
      "text/plain": [
       "6"
      ]
     },
     "execution_count": 113,
     "metadata": {},
     "output_type": "execute_result"
    }
   ],
   "source": [
    "fruit_s.find('banana')"
   ]
  },
  {
   "cell_type": "code",
   "execution_count": null,
   "id": "62536402",
   "metadata": {},
   "outputs": [],
   "source": []
  }
 ],
 "metadata": {
  "kernelspec": {
   "display_name": "Python 3",
   "language": "python",
   "name": "python3"
  },
  "language_info": {
   "codemirror_mode": {
    "name": "ipython",
    "version": 3
   },
   "file_extension": ".py",
   "mimetype": "text/x-python",
   "name": "python",
   "nbconvert_exporter": "python",
   "pygments_lexer": "ipython3",
   "version": "3.8.8"
  }
 },
 "nbformat": 4,
 "nbformat_minor": 5
}
