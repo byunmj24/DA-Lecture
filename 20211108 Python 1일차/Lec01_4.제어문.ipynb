{
 "cells": [
  {
   "cell_type": "markdown",
   "id": "73a6ba54",
   "metadata": {},
   "source": [
    "### if elif els"
   ]
  },
  {
   "cell_type": "code",
   "execution_count": 5,
   "id": "339e2a66",
   "metadata": {},
   "outputs": [
    {
     "name": "stdout",
     "output_type": "stream",
     "text": [
      "Woe!\n",
      "if문 탈출\n"
     ]
    }
   ],
   "source": [
    "if True :\n",
    "    print('Woe!')\n",
    "else :\n",
    "    print('Wee')\n",
    "\n",
    "print('if문 탈출')"
   ]
  },
  {
   "cell_type": "markdown",
   "id": "d1d14c1b",
   "metadata": {},
   "source": [
    "### 조건식\n",
    "==, !=, <, <=, >, >=, and, or, not"
   ]
  },
  {
   "cell_type": "code",
   "execution_count": 6,
   "id": "26eada41",
   "metadata": {},
   "outputs": [
    {
     "data": {
      "text/plain": [
       "(False, True, False, False)"
      ]
     },
     "execution_count": 6,
     "metadata": {},
     "output_type": "execute_result"
    }
   ],
   "source": [
    "x = 7\n",
    "x == 5, x== 7, x < 5, x > 10"
   ]
  },
  {
   "cell_type": "code",
   "execution_count": 7,
   "id": "e49367bf",
   "metadata": {},
   "outputs": [
    {
     "data": {
      "text/plain": [
       "True"
      ]
     },
     "execution_count": 7,
     "metadata": {},
     "output_type": "execute_result"
    }
   ],
   "source": [
    "5 < x and x < 10"
   ]
  },
  {
   "cell_type": "code",
   "execution_count": 9,
   "id": "b1f27b09",
   "metadata": {},
   "outputs": [
    {
     "data": {
      "text/plain": [
       "True"
      ]
     },
     "execution_count": 9,
     "metadata": {},
     "output_type": "execute_result"
    }
   ],
   "source": [
    "(5 < x) and (x < 10)"
   ]
  },
  {
   "cell_type": "code",
   "execution_count": 13,
   "id": "1941e5ae",
   "metadata": {},
   "outputs": [
    {
     "data": {
      "text/plain": [
       "(False, False, False, False, False, False)"
      ]
     },
     "execution_count": 13,
     "metadata": {},
     "output_type": "execute_result"
    }
   ],
   "source": [
    "bool(None), bool(0), bool(''), bool([]), bool({}), bool(())"
   ]
  },
  {
   "cell_type": "code",
   "execution_count": 20,
   "id": "29e7b824",
   "metadata": {},
   "outputs": [
    {
     "data": {
      "text/plain": [
       "(True, True, True)"
      ]
     },
     "execution_count": 20,
     "metadata": {},
     "output_type": "execute_result"
    }
   ],
   "source": [
    "bool([0]), bool({0}), bool((0, 0))"
   ]
  },
  {
   "cell_type": "markdown",
   "id": "1f020c03",
   "metadata": {},
   "source": [
    "### Membership Operator in"
   ]
  },
  {
   "cell_type": "code",
   "execution_count": 22,
   "id": "c51da53f",
   "metadata": {},
   "outputs": [
    {
     "data": {
      "text/plain": [
       "(True, 2, \"I'm happy\")"
      ]
     },
     "execution_count": 22,
     "metadata": {},
     "output_type": "execute_result"
    }
   ],
   "source": [
    "'a' in 'aeiou', 1+1, \"I'm \" + \"happy\""
   ]
  },
  {
   "cell_type": "code",
   "execution_count": 30,
   "id": "70ab1e5c",
   "metadata": {},
   "outputs": [],
   "source": [
    "def isA(a) :\n",
    "    if a in 'aeiou' :\n",
    "        print(a, 'is a vowel')\n",
    "    else :\n",
    "        print(a, 'is not a vowel')"
   ]
  },
  {
   "cell_type": "code",
   "execution_count": 31,
   "id": "2da68699",
   "metadata": {},
   "outputs": [
    {
     "name": "stdout",
     "output_type": "stream",
     "text": [
      "b is not a vowel\n",
      "a is a vowel\n"
     ]
    }
   ],
   "source": [
    "isA('b')\n",
    "isA('a')"
   ]
  },
  {
   "cell_type": "code",
   "execution_count": 32,
   "id": "121d2bed",
   "metadata": {},
   "outputs": [
    {
     "data": {
      "text/plain": [
       "(['a', 'e', 'i', 'o', 'u'],\n",
       " {'a', 'e', 'i', 'o', 'u'},\n",
       " ('a', 'e', 'i', 'o', 'u'))"
      ]
     },
     "execution_count": 32,
     "metadata": {},
     "output_type": "execute_result"
    }
   ],
   "source": [
    "# [] {} ()\n",
    "list('aeiou'), set('aeiou'), tuple('aeiou')"
   ]
  },
  {
   "cell_type": "code",
   "execution_count": 39,
   "id": "0588f979",
   "metadata": {},
   "outputs": [
    {
     "data": {
      "text/plain": [
       "True"
      ]
     },
     "execution_count": 39,
     "metadata": {},
     "output_type": "execute_result"
    }
   ],
   "source": [
    "'a' in ['a', 'e', 'i', 'o', 'u'] # List"
   ]
  },
  {
   "cell_type": "code",
   "execution_count": 38,
   "id": "fb699bc6",
   "metadata": {},
   "outputs": [
    {
     "data": {
      "text/plain": [
       "True"
      ]
     },
     "execution_count": 38,
     "metadata": {},
     "output_type": "execute_result"
    }
   ],
   "source": [
    "'a' in {'a', 'e', 'i', 'o', 'u'} # Set"
   ]
  },
  {
   "cell_type": "code",
   "execution_count": 37,
   "id": "493409b8",
   "metadata": {},
   "outputs": [
    {
     "data": {
      "text/plain": [
       "True"
      ]
     },
     "execution_count": 37,
     "metadata": {},
     "output_type": "execute_result"
    }
   ],
   "source": [
    "'a' in ('a', 'e', 'i', 'o', 'u') # Tuple"
   ]
  },
  {
   "cell_type": "code",
   "execution_count": null,
   "id": "78e9aea6",
   "metadata": {},
   "outputs": [],
   "source": []
  }
 ],
 "metadata": {
  "kernelspec": {
   "display_name": "Python 3",
   "language": "python",
   "name": "python3"
  },
  "language_info": {
   "codemirror_mode": {
    "name": "ipython",
    "version": 3
   },
   "file_extension": ".py",
   "mimetype": "text/x-python",
   "name": "python",
   "nbconvert_exporter": "python",
   "pygments_lexer": "ipython3",
   "version": "3.8.8"
  }
 },
 "nbformat": 4,
 "nbformat_minor": 5
}
