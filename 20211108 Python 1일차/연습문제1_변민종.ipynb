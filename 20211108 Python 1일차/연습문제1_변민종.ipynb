{
 "cells": [
  {
   "cell_type": "code",
   "execution_count": 1,
   "id": "4679124e",
   "metadata": {},
   "outputs": [],
   "source": [
    "import numpy as np\n",
    "import pandas as pd"
   ]
  },
  {
   "cell_type": "markdown",
   "id": "8a744f82",
   "metadata": {},
   "source": [
    "## 2.13 연습문제"
   ]
  },
  {
   "cell_type": "markdown",
   "id": "a5bdb6e5",
   "metadata": {},
   "source": [
    "### 2.1"
   ]
  },
  {
   "cell_type": "code",
   "execution_count": 144,
   "id": "d6d9af04",
   "metadata": {},
   "outputs": [
    {
     "name": "stdout",
     "output_type": "stream",
     "text": [
      "99\n"
     ]
    }
   ],
   "source": [
    "prince = 99\n",
    "print(prince)"
   ]
  },
  {
   "cell_type": "markdown",
   "id": "837da04a",
   "metadata": {},
   "source": [
    "### 2.2"
   ]
  },
  {
   "cell_type": "code",
   "execution_count": 145,
   "id": "3732a0e2",
   "metadata": {},
   "outputs": [
    {
     "data": {
      "text/plain": [
       "int"
      ]
     },
     "execution_count": 145,
     "metadata": {},
     "output_type": "execute_result"
    }
   ],
   "source": [
    "type(5)"
   ]
  },
  {
   "cell_type": "markdown",
   "id": "1127a5b5",
   "metadata": {},
   "source": [
    "### 2.3"
   ]
  },
  {
   "cell_type": "code",
   "execution_count": 146,
   "id": "5769a2a3",
   "metadata": {},
   "outputs": [
    {
     "data": {
      "text/plain": [
       "float"
      ]
     },
     "execution_count": 146,
     "metadata": {},
     "output_type": "execute_result"
    }
   ],
   "source": [
    "type(2.0)"
   ]
  },
  {
   "cell_type": "markdown",
   "id": "87e57150",
   "metadata": {},
   "source": [
    "### 2.4"
   ]
  },
  {
   "cell_type": "code",
   "execution_count": 147,
   "id": "0fdde2b3",
   "metadata": {
    "scrolled": true
   },
   "outputs": [
    {
     "data": {
      "text/plain": [
       "float"
      ]
     },
     "execution_count": 147,
     "metadata": {},
     "output_type": "execute_result"
    }
   ],
   "source": [
    "type(5+2.0)"
   ]
  },
  {
   "cell_type": "markdown",
   "id": "1c4de836",
   "metadata": {},
   "source": [
    "## 3.6 연습문제"
   ]
  },
  {
   "cell_type": "markdown",
   "id": "64e180f2",
   "metadata": {},
   "source": [
    "### 3.1"
   ]
  },
  {
   "cell_type": "code",
   "execution_count": 149,
   "id": "6c4193b8",
   "metadata": {},
   "outputs": [
    {
     "data": {
      "text/plain": [
       "3600"
      ]
     },
     "execution_count": 149,
     "metadata": {},
     "output_type": "execute_result"
    }
   ],
   "source": [
    "60 * 60"
   ]
  },
  {
   "cell_type": "markdown",
   "id": "6d340e48",
   "metadata": {},
   "source": [
    "### 3.2"
   ]
  },
  {
   "cell_type": "code",
   "execution_count": 150,
   "id": "f77e39ba",
   "metadata": {},
   "outputs": [],
   "source": [
    "seconds_per_hour = 60 * 60"
   ]
  },
  {
   "cell_type": "markdown",
   "id": "12761ec8",
   "metadata": {},
   "source": [
    "### 3.3"
   ]
  },
  {
   "cell_type": "code",
   "execution_count": 151,
   "id": "49745870",
   "metadata": {},
   "outputs": [
    {
     "data": {
      "text/plain": [
       "86400"
      ]
     },
     "execution_count": 151,
     "metadata": {},
     "output_type": "execute_result"
    }
   ],
   "source": [
    "seconds_per_hour * 24"
   ]
  },
  {
   "cell_type": "markdown",
   "id": "2edb7856",
   "metadata": {},
   "source": [
    "### 3.4"
   ]
  },
  {
   "cell_type": "code",
   "execution_count": 152,
   "id": "924ca527",
   "metadata": {},
   "outputs": [],
   "source": [
    "seconds_per_day = seconds_per_hour * 24"
   ]
  },
  {
   "cell_type": "markdown",
   "id": "f4da5870",
   "metadata": {},
   "source": [
    "### 3.5"
   ]
  },
  {
   "cell_type": "code",
   "execution_count": 153,
   "id": "393aa9f0",
   "metadata": {},
   "outputs": [
    {
     "data": {
      "text/plain": [
       "24.0"
      ]
     },
     "execution_count": 153,
     "metadata": {},
     "output_type": "execute_result"
    }
   ],
   "source": [
    "seconds_per_day / seconds_per_hour"
   ]
  },
  {
   "cell_type": "markdown",
   "id": "1fe8ed1c",
   "metadata": {},
   "source": [
    "### 3.6"
   ]
  },
  {
   "cell_type": "code",
   "execution_count": 154,
   "id": "6e28206d",
   "metadata": {
    "scrolled": true
   },
   "outputs": [
    {
     "data": {
      "text/plain": [
       "24"
      ]
     },
     "execution_count": 154,
     "metadata": {},
     "output_type": "execute_result"
    }
   ],
   "source": [
    "seconds_per_day // seconds_per_hour"
   ]
  },
  {
   "cell_type": "markdown",
   "id": "f2cd331b",
   "metadata": {},
   "source": [
    "## 4.8 연습문제"
   ]
  },
  {
   "cell_type": "markdown",
   "id": "feee8ed4",
   "metadata": {},
   "source": [
    "### 4.1"
   ]
  },
  {
   "cell_type": "code",
   "execution_count": 155,
   "id": "1c23e533",
   "metadata": {},
   "outputs": [
    {
     "name": "stdout",
     "output_type": "stream",
     "text": [
      "5 1\n"
     ]
    }
   ],
   "source": [
    "secret = np.random.choice([1,2,3,4,5,6,7,8,9,10])\n",
    "guess = np.random.choice([1,2,3,4,5,6,7,8,9,10])\n",
    "print(secret,guess)"
   ]
  },
  {
   "cell_type": "code",
   "execution_count": 156,
   "id": "86c8210c",
   "metadata": {},
   "outputs": [
    {
     "name": "stdout",
     "output_type": "stream",
     "text": [
      "too low\n"
     ]
    }
   ],
   "source": [
    "if guess < secret:\n",
    "    print('too low')\n",
    "elif guess > secret:\n",
    "    print('too high')\n",
    "else:\n",
    "    print('just right')"
   ]
  },
  {
   "cell_type": "markdown",
   "id": "84fc9623",
   "metadata": {},
   "source": [
    "### 4.2"
   ]
  },
  {
   "cell_type": "code",
   "execution_count": 163,
   "id": "844fca53",
   "metadata": {},
   "outputs": [
    {
     "data": {
      "text/plain": [
       "(False, True)"
      ]
     },
     "execution_count": 163,
     "metadata": {},
     "output_type": "execute_result"
    }
   ],
   "source": [
    "small = np.random.choice([True, False])\n",
    "green = np.random.choice([True, False])\n",
    "small, green"
   ]
  },
  {
   "cell_type": "code",
   "execution_count": 164,
   "id": "d97e69aa",
   "metadata": {},
   "outputs": [
    {
     "name": "stdout",
     "output_type": "stream",
     "text": [
      "That is \"Watermelon\"\n"
     ]
    }
   ],
   "source": [
    "if small == True and green == False:\n",
    "    print('That is \"Cherry\"')\n",
    "elif small == True and green == True:\n",
    "    print('That is \"Pea\"')\n",
    "elif small == False and green == True:\n",
    "    print('That is \"Watermelon\"')\n",
    "else:\n",
    "    print('That is \"Pumpkin\"')"
   ]
  },
  {
   "cell_type": "markdown",
   "id": "81811a13",
   "metadata": {},
   "source": [
    "## 5.19 연습문제"
   ]
  },
  {
   "cell_type": "markdown",
   "id": "032ba2c9",
   "metadata": {},
   "source": [
    "### 5.1"
   ]
  },
  {
   "cell_type": "code",
   "execution_count": 167,
   "id": "d1db80bb",
   "metadata": {},
   "outputs": [],
   "source": [
    "song = \"\"\"When an eel grabs your arm,\n",
    "And it causes great harm,\n",
    "That's - a moray!\"\"\""
   ]
  },
  {
   "cell_type": "code",
   "execution_count": 188,
   "id": "0fd8bf28",
   "metadata": {},
   "outputs": [
    {
     "name": "stdout",
     "output_type": "stream",
     "text": [
      "When an eel grabs your arm,\n",
      "And it causes great harm,\n",
      "That's - a moray!\n"
     ]
    }
   ],
   "source": [
    "print(song)"
   ]
  },
  {
   "cell_type": "code",
   "execution_count": 200,
   "id": "5aaa498c",
   "metadata": {},
   "outputs": [],
   "source": [
    "string = song.split()"
   ]
  },
  {
   "cell_type": "code",
   "execution_count": 201,
   "id": "b8d99a11",
   "metadata": {},
   "outputs": [
    {
     "data": {
      "text/plain": [
       "['When',\n",
       " 'an',\n",
       " 'eel',\n",
       " 'grabs',\n",
       " 'your',\n",
       " 'arm,',\n",
       " 'And',\n",
       " 'it',\n",
       " 'causes',\n",
       " 'great',\n",
       " 'harm,',\n",
       " \"That's\",\n",
       " '-',\n",
       " 'a',\n",
       " 'moray!']"
      ]
     },
     "execution_count": 201,
     "metadata": {},
     "output_type": "execute_result"
    }
   ],
   "source": [
    "string"
   ]
  },
  {
   "cell_type": "code",
   "execution_count": 202,
   "id": "cd03f0b8",
   "metadata": {},
   "outputs": [
    {
     "name": "stdout",
     "output_type": "stream",
     "text": [
      "['When', 'an', 'eel', 'grabs', 'your', 'arm,', 'And', 'it', 'causes', 'great', 'harm,', \"That's\", '-', 'a', 'MORAY!']\n"
     ]
    }
   ],
   "source": [
    "list = []\n",
    "for word in string:\n",
    "    if word[0] == 'm':\n",
    "        up_word = word.upper()\n",
    "        list.append(up_word)\n",
    "    else:\n",
    "        list.append(word)\n",
    "        \n",
    "print(list)"
   ]
  },
  {
   "cell_type": "code",
   "execution_count": 205,
   "id": "e63437a7",
   "metadata": {},
   "outputs": [
    {
     "name": "stdout",
     "output_type": "stream",
     "text": [
      "When an eel grabs your arm, And it causes great harm, That's - a MORAY!\n"
     ]
    }
   ],
   "source": [
    "string_replace = ' '.join(list)\n",
    "print(string_replace)"
   ]
  },
  {
   "cell_type": "markdown",
   "id": "22983248",
   "metadata": {},
   "source": [
    "### 5.2"
   ]
  },
  {
   "cell_type": "code",
   "execution_count": 209,
   "id": "c2f812fb",
   "metadata": {},
   "outputs": [
    {
     "name": "stdout",
     "output_type": "stream",
     "text": [
      "questions = [\n",
      "\"We don't serve strings around here. Are you a string?\",\n",
      "\"What is said on Father's Day in the forest?\",\n",
      "\"What makes the sound 'Sis! Boom! Bah!'?\"\n",
      "]\n"
     ]
    }
   ],
   "source": [
    "question = '''questions = [\n",
    "\"We don't serve strings around here. Are you a string?\",\n",
    "\"What is said on Father's Day in the forest?\",\n",
    "\"What makes the sound 'Sis! Boom! Bah!'?\"\n",
    "]'''\n",
    "print(question)"
   ]
  },
  {
   "cell_type": "code",
   "execution_count": 211,
   "id": "2d1f868c",
   "metadata": {},
   "outputs": [
    {
     "name": "stdout",
     "output_type": "stream",
     "text": [
      " answers = [\n",
      "\"An exploding sheep.\",\n",
      "\"No, I'm a frayed knot.\",\n",
      "\"'Pop!' goes the weasel.\"\n",
      "]\n"
     ]
    }
   ],
   "source": [
    "answers = ''' answers = [\n",
    "\"An exploding sheep.\",\n",
    "\"No, I'm a frayed knot.\",\n",
    "\"'Pop!' goes the weasel.\"\n",
    "]'''\n",
    "print(answers)"
   ]
  },
  {
   "cell_type": "markdown",
   "id": "5c346716",
   "metadata": {},
   "source": [
    "### 5.3"
   ]
  },
  {
   "cell_type": "code",
   "execution_count": 224,
   "id": "0a65b563",
   "metadata": {},
   "outputs": [],
   "source": [
    "string = '''\n",
    "My kitty cat likes %s,\n",
    "My kitty cat likes %s,\n",
    "My kitty cat fell on his %s And now thinks he's a %s.\n",
    "'''"
   ]
  },
  {
   "cell_type": "code",
   "execution_count": 225,
   "id": "ecf01a33",
   "metadata": {},
   "outputs": [],
   "source": [
    "word = ('roast beef', 'ham', 'head', 'clam')"
   ]
  },
  {
   "cell_type": "code",
   "execution_count": 226,
   "id": "fb0fcd41",
   "metadata": {},
   "outputs": [
    {
     "name": "stdout",
     "output_type": "stream",
     "text": [
      "\n",
      "My kitty cat likes roast beef,\n",
      "My kitty cat likes ham,\n",
      "My kitty cat fell on his head And now thinks he's a clam.\n",
      "\n"
     ]
    }
   ],
   "source": [
    "print(string % word)"
   ]
  }
 ],
 "metadata": {
  "kernelspec": {
   "display_name": "Python 3",
   "language": "python",
   "name": "python3"
  },
  "language_info": {
   "codemirror_mode": {
    "name": "ipython",
    "version": 3
   },
   "file_extension": ".py",
   "mimetype": "text/x-python",
   "name": "python",
   "nbconvert_exporter": "python",
   "pygments_lexer": "ipython3",
   "version": "3.8.8"
  }
 },
 "nbformat": 4,
 "nbformat_minor": 5
}
