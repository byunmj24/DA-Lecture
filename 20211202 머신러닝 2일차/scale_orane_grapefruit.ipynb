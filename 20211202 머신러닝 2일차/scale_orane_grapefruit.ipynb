{
 "cells": [
  {
   "cell_type": "code",
   "execution_count": 1,
   "id": "8c22f00d",
   "metadata": {},
   "outputs": [],
   "source": [
    "import pandas as pd\n",
    "import numpy as np\n",
    "import matplotlib.pyplot as plt\n",
    "import seaborn as sns\n",
    "from sklearn.neighbors import KNeighborsClassifier"
   ]
  },
  {
   "cell_type": "code",
   "execution_count": 2,
   "id": "fe40d29b",
   "metadata": {},
   "outputs": [],
   "source": [
    "import warnings\n",
    "warnings.filterwarnings(action='ignore')"
   ]
  },
  {
   "cell_type": "code",
   "execution_count": 4,
   "id": "fcd7ab3e",
   "metadata": {},
   "outputs": [],
   "source": [
    "df = pd.read_csv('../20211201 머신러닝 1일차/citrus.csv')"
   ]
  },
  {
   "cell_type": "code",
   "execution_count": 5,
   "id": "793fbb3f",
   "metadata": {},
   "outputs": [
    {
     "data": {
      "text/html": [
       "<div>\n",
       "<style scoped>\n",
       "    .dataframe tbody tr th:only-of-type {\n",
       "        vertical-align: middle;\n",
       "    }\n",
       "\n",
       "    .dataframe tbody tr th {\n",
       "        vertical-align: top;\n",
       "    }\n",
       "\n",
       "    .dataframe thead th {\n",
       "        text-align: right;\n",
       "    }\n",
       "</style>\n",
       "<table border=\"1\" class=\"dataframe\">\n",
       "  <thead>\n",
       "    <tr style=\"text-align: right;\">\n",
       "      <th></th>\n",
       "      <th>name</th>\n",
       "      <th>diameter</th>\n",
       "      <th>weight</th>\n",
       "      <th>red</th>\n",
       "      <th>green</th>\n",
       "      <th>blue</th>\n",
       "    </tr>\n",
       "  </thead>\n",
       "  <tbody>\n",
       "    <tr>\n",
       "      <th>0</th>\n",
       "      <td>orange</td>\n",
       "      <td>2.96</td>\n",
       "      <td>86.76</td>\n",
       "      <td>172</td>\n",
       "      <td>85</td>\n",
       "      <td>2</td>\n",
       "    </tr>\n",
       "    <tr>\n",
       "      <th>1</th>\n",
       "      <td>orange</td>\n",
       "      <td>3.91</td>\n",
       "      <td>88.05</td>\n",
       "      <td>166</td>\n",
       "      <td>78</td>\n",
       "      <td>3</td>\n",
       "    </tr>\n",
       "    <tr>\n",
       "      <th>2</th>\n",
       "      <td>orange</td>\n",
       "      <td>4.42</td>\n",
       "      <td>95.17</td>\n",
       "      <td>156</td>\n",
       "      <td>81</td>\n",
       "      <td>2</td>\n",
       "    </tr>\n",
       "    <tr>\n",
       "      <th>3</th>\n",
       "      <td>orange</td>\n",
       "      <td>4.47</td>\n",
       "      <td>95.60</td>\n",
       "      <td>163</td>\n",
       "      <td>81</td>\n",
       "      <td>4</td>\n",
       "    </tr>\n",
       "    <tr>\n",
       "      <th>4</th>\n",
       "      <td>orange</td>\n",
       "      <td>4.48</td>\n",
       "      <td>95.76</td>\n",
       "      <td>161</td>\n",
       "      <td>72</td>\n",
       "      <td>9</td>\n",
       "    </tr>\n",
       "    <tr>\n",
       "      <th>...</th>\n",
       "      <td>...</td>\n",
       "      <td>...</td>\n",
       "      <td>...</td>\n",
       "      <td>...</td>\n",
       "      <td>...</td>\n",
       "      <td>...</td>\n",
       "    </tr>\n",
       "    <tr>\n",
       "      <th>9995</th>\n",
       "      <td>grapefruit</td>\n",
       "      <td>15.35</td>\n",
       "      <td>253.89</td>\n",
       "      <td>149</td>\n",
       "      <td>77</td>\n",
       "      <td>20</td>\n",
       "    </tr>\n",
       "    <tr>\n",
       "      <th>9996</th>\n",
       "      <td>grapefruit</td>\n",
       "      <td>15.41</td>\n",
       "      <td>254.67</td>\n",
       "      <td>148</td>\n",
       "      <td>68</td>\n",
       "      <td>7</td>\n",
       "    </tr>\n",
       "    <tr>\n",
       "      <th>9997</th>\n",
       "      <td>grapefruit</td>\n",
       "      <td>15.59</td>\n",
       "      <td>256.50</td>\n",
       "      <td>168</td>\n",
       "      <td>82</td>\n",
       "      <td>20</td>\n",
       "    </tr>\n",
       "    <tr>\n",
       "      <th>9998</th>\n",
       "      <td>grapefruit</td>\n",
       "      <td>15.92</td>\n",
       "      <td>260.14</td>\n",
       "      <td>142</td>\n",
       "      <td>72</td>\n",
       "      <td>11</td>\n",
       "    </tr>\n",
       "    <tr>\n",
       "      <th>9999</th>\n",
       "      <td>grapefruit</td>\n",
       "      <td>16.45</td>\n",
       "      <td>261.51</td>\n",
       "      <td>152</td>\n",
       "      <td>74</td>\n",
       "      <td>2</td>\n",
       "    </tr>\n",
       "  </tbody>\n",
       "</table>\n",
       "<p>10000 rows × 6 columns</p>\n",
       "</div>"
      ],
      "text/plain": [
       "            name  diameter  weight  red  green  blue\n",
       "0         orange      2.96   86.76  172     85     2\n",
       "1         orange      3.91   88.05  166     78     3\n",
       "2         orange      4.42   95.17  156     81     2\n",
       "3         orange      4.47   95.60  163     81     4\n",
       "4         orange      4.48   95.76  161     72     9\n",
       "...          ...       ...     ...  ...    ...   ...\n",
       "9995  grapefruit     15.35  253.89  149     77    20\n",
       "9996  grapefruit     15.41  254.67  148     68     7\n",
       "9997  grapefruit     15.59  256.50  168     82    20\n",
       "9998  grapefruit     15.92  260.14  142     72    11\n",
       "9999  grapefruit     16.45  261.51  152     74     2\n",
       "\n",
       "[10000 rows x 6 columns]"
      ]
     },
     "execution_count": 5,
     "metadata": {},
     "output_type": "execute_result"
    }
   ],
   "source": [
    "df"
   ]
  },
  {
   "cell_type": "markdown",
   "id": "dbce584c",
   "metadata": {},
   "source": [
    "### 직경, 무게 데이터 추출"
   ]
  },
  {
   "cell_type": "code",
   "execution_count": 6,
   "id": "23dd1c55",
   "metadata": {},
   "outputs": [],
   "source": [
    "diameter = df['diameter']\n",
    "weight = df['weight']"
   ]
  },
  {
   "cell_type": "markdown",
   "id": "5973dd2c",
   "metadata": {},
   "source": [
    "### target 데이터 추출"
   ]
  },
  {
   "cell_type": "code",
   "execution_count": 20,
   "id": "f3d08fdc",
   "metadata": {},
   "outputs": [],
   "source": [
    "target = df['name']"
   ]
  },
  {
   "cell_type": "markdown",
   "id": "a1d474d2",
   "metadata": {},
   "source": [
    "### 직경, 무게 데이터 array"
   ]
  },
  {
   "cell_type": "code",
   "execution_count": 10,
   "id": "ca641e28",
   "metadata": {},
   "outputs": [],
   "source": [
    "diameter_arr = np.array(diameter)\n",
    "weight_arr = np.array(weight)"
   ]
  },
  {
   "cell_type": "code",
   "execution_count": 12,
   "id": "935ac8b6",
   "metadata": {},
   "outputs": [],
   "source": [
    "arr = np.column_stack([diameter_arr, weight_arr])"
   ]
  },
  {
   "cell_type": "markdown",
   "id": "295cc0a8",
   "metadata": {},
   "source": [
    "### target 데이터 toarray"
   ]
  },
  {
   "cell_type": "code",
   "execution_count": 21,
   "id": "2d6f66e8",
   "metadata": {},
   "outputs": [],
   "source": [
    "target_arr = np.array(target)"
   ]
  },
  {
   "cell_type": "markdown",
   "id": "53c86867",
   "metadata": {},
   "source": [
    "### 인덱스 셔플"
   ]
  },
  {
   "cell_type": "code",
   "execution_count": 22,
   "id": "063f0729",
   "metadata": {},
   "outputs": [],
   "source": [
    "index = np.arange(len(arr))\n",
    "np.random.seed(24)\n",
    "np.random.shuffle(index)"
   ]
  },
  {
   "cell_type": "code",
   "execution_count": 44,
   "id": "7cbf3a3f",
   "metadata": {},
   "outputs": [
    {
     "data": {
      "text/plain": [
       "array([5821, 2516, 4282, ..., 3473, 8535,  899])"
      ]
     },
     "execution_count": 44,
     "metadata": {},
     "output_type": "execute_result"
    }
   ],
   "source": [
    "index"
   ]
  },
  {
   "cell_type": "markdown",
   "id": "2a2d452c",
   "metadata": {},
   "source": [
    "### train, test 데이터 나누기"
   ]
  },
  {
   "cell_type": "code",
   "execution_count": 24,
   "id": "aea484dd",
   "metadata": {},
   "outputs": [],
   "source": [
    "train_input = arr[index[:9000]]\n",
    "test_input = arr[index[9000:]]\n",
    "\n",
    "train_target = target_arr[index[:9000]]\n",
    "test_target = target_arr[index[9000:]]"
   ]
  },
  {
   "cell_type": "markdown",
   "id": "62efa7c2",
   "metadata": {},
   "source": [
    "### KNN 모델 만들기"
   ]
  },
  {
   "cell_type": "code",
   "execution_count": 25,
   "id": "da35267d",
   "metadata": {},
   "outputs": [],
   "source": [
    "kn = KNeighborsClassifier()"
   ]
  },
  {
   "cell_type": "code",
   "execution_count": 26,
   "id": "90dd0f1d",
   "metadata": {},
   "outputs": [
    {
     "data": {
      "text/plain": [
       "KNeighborsClassifier()"
      ]
     },
     "execution_count": 26,
     "metadata": {},
     "output_type": "execute_result"
    }
   ],
   "source": [
    "kn.fit(train_input, train_target)"
   ]
  },
  {
   "cell_type": "code",
   "execution_count": 27,
   "id": "1f2afdeb",
   "metadata": {},
   "outputs": [
    {
     "data": {
      "text/plain": [
       "0.969"
      ]
     },
     "execution_count": 27,
     "metadata": {},
     "output_type": "execute_result"
    }
   ],
   "source": [
    "kn.score(test_input, test_target)"
   ]
  },
  {
   "cell_type": "code",
   "execution_count": 29,
   "id": "45225446",
   "metadata": {},
   "outputs": [
    {
     "data": {
      "text/plain": [
       "array(['orange', 'grapefruit', 'orange', 'grapefruit', 'orange', 'orange',\n",
       "       'grapefruit', 'grapefruit', 'grapefruit', 'grapefruit', 'orange',\n",
       "       'grapefruit', 'orange', 'grapefruit', 'grapefruit', 'orange',\n",
       "       'grapefruit', 'grapefruit', 'orange', 'grapefruit', 'grapefruit',\n",
       "       'orange', 'orange', 'grapefruit', 'grapefruit', 'orange',\n",
       "       'grapefruit', 'orange', 'orange', 'grapefruit', 'grapefruit',\n",
       "       'grapefruit', 'grapefruit', 'grapefruit', 'orange', 'orange',\n",
       "       'orange', 'orange', 'orange', 'grapefruit', 'grapefruit', 'orange',\n",
       "       'orange', 'orange', 'grapefruit', 'grapefruit', 'orange',\n",
       "       'grapefruit', 'grapefruit', 'grapefruit', 'grapefruit',\n",
       "       'grapefruit', 'orange', 'grapefruit', 'grapefruit', 'orange',\n",
       "       'orange', 'grapefruit', 'grapefruit', 'orange', 'grapefruit',\n",
       "       'grapefruit', 'grapefruit', 'orange', 'grapefruit', 'grapefruit',\n",
       "       'orange', 'orange', 'grapefruit', 'grapefruit', 'orange', 'orange',\n",
       "       'orange', 'grapefruit', 'grapefruit', 'grapefruit', 'grapefruit',\n",
       "       'grapefruit', 'grapefruit', 'orange', 'grapefruit', 'orange',\n",
       "       'grapefruit', 'orange', 'grapefruit', 'grapefruit', 'orange',\n",
       "       'grapefruit', 'grapefruit', 'grapefruit', 'grapefruit', 'orange',\n",
       "       'grapefruit', 'orange', 'grapefruit', 'orange', 'grapefruit',\n",
       "       'grapefruit', 'grapefruit', 'grapefruit', 'grapefruit',\n",
       "       'grapefruit', 'grapefruit', 'grapefruit', 'grapefruit',\n",
       "       'grapefruit', 'orange', 'grapefruit', 'orange', 'grapefruit',\n",
       "       'orange', 'orange', 'orange', 'grapefruit', 'orange', 'grapefruit',\n",
       "       'orange', 'grapefruit', 'grapefruit', 'orange', 'grapefruit',\n",
       "       'orange', 'orange', 'grapefruit', 'grapefruit', 'grapefruit',\n",
       "       'grapefruit', 'orange', 'grapefruit', 'orange', 'orange', 'orange',\n",
       "       'orange', 'grapefruit', 'grapefruit', 'orange', 'grapefruit',\n",
       "       'orange', 'orange', 'orange', 'grapefruit', 'orange', 'grapefruit',\n",
       "       'orange', 'grapefruit', 'grapefruit', 'grapefruit', 'orange',\n",
       "       'grapefruit', 'orange', 'grapefruit', 'grapefruit', 'grapefruit',\n",
       "       'orange', 'grapefruit', 'grapefruit', 'orange', 'grapefruit',\n",
       "       'orange', 'orange', 'grapefruit', 'grapefruit', 'orange', 'orange',\n",
       "       'grapefruit', 'orange', 'grapefruit', 'orange', 'orange', 'orange',\n",
       "       'grapefruit', 'grapefruit', 'grapefruit', 'grapefruit', 'orange',\n",
       "       'orange', 'orange', 'grapefruit', 'grapefruit', 'grapefruit',\n",
       "       'orange', 'orange', 'grapefruit', 'grapefruit', 'orange', 'orange',\n",
       "       'grapefruit', 'grapefruit', 'orange', 'grapefruit', 'orange',\n",
       "       'grapefruit', 'orange', 'grapefruit', 'grapefruit', 'grapefruit',\n",
       "       'grapefruit', 'orange', 'grapefruit', 'grapefruit', 'orange',\n",
       "       'grapefruit', 'orange', 'orange', 'orange', 'grapefruit', 'orange',\n",
       "       'orange', 'grapefruit', 'orange', 'grapefruit', 'grapefruit',\n",
       "       'grapefruit', 'orange', 'orange', 'grapefruit', 'grapefruit',\n",
       "       'orange', 'grapefruit', 'orange', 'orange', 'orange', 'orange',\n",
       "       'grapefruit', 'grapefruit', 'grapefruit', 'grapefruit',\n",
       "       'grapefruit', 'orange', 'grapefruit', 'orange', 'grapefruit',\n",
       "       'orange', 'grapefruit', 'orange', 'orange', 'grapefruit', 'orange',\n",
       "       'grapefruit', 'grapefruit', 'grapefruit', 'orange', 'orange',\n",
       "       'orange', 'orange', 'orange', 'orange', 'orange', 'grapefruit',\n",
       "       'grapefruit', 'orange', 'orange', 'orange', 'grapefruit',\n",
       "       'grapefruit', 'orange', 'grapefruit', 'grapefruit', 'grapefruit',\n",
       "       'orange', 'orange', 'orange', 'grapefruit', 'grapefruit',\n",
       "       'grapefruit', 'grapefruit', 'grapefruit', 'orange', 'orange',\n",
       "       'orange', 'orange', 'grapefruit', 'orange', 'orange', 'grapefruit',\n",
       "       'orange', 'grapefruit', 'orange', 'orange', 'grapefruit',\n",
       "       'grapefruit', 'orange', 'orange', 'grapefruit', 'grapefruit',\n",
       "       'orange', 'orange', 'grapefruit', 'grapefruit', 'grapefruit',\n",
       "       'grapefruit', 'grapefruit', 'grapefruit', 'grapefruit',\n",
       "       'grapefruit', 'orange', 'grapefruit', 'orange', 'orange', 'orange',\n",
       "       'grapefruit', 'grapefruit', 'grapefruit', 'grapefruit',\n",
       "       'grapefruit', 'orange', 'grapefruit', 'grapefruit', 'grapefruit',\n",
       "       'grapefruit', 'orange', 'grapefruit', 'orange', 'orange',\n",
       "       'grapefruit', 'orange', 'grapefruit', 'grapefruit', 'orange',\n",
       "       'orange', 'grapefruit', 'orange', 'orange', 'grapefruit',\n",
       "       'grapefruit', 'orange', 'grapefruit', 'grapefruit', 'grapefruit',\n",
       "       'orange', 'grapefruit', 'orange', 'grapefruit', 'orange',\n",
       "       'grapefruit', 'grapefruit', 'orange', 'orange', 'grapefruit',\n",
       "       'orange', 'grapefruit', 'grapefruit', 'grapefruit', 'orange',\n",
       "       'grapefruit', 'orange', 'orange', 'orange', 'grapefruit',\n",
       "       'grapefruit', 'grapefruit', 'orange', 'orange', 'grapefruit',\n",
       "       'orange', 'orange', 'orange', 'grapefruit', 'grapefruit',\n",
       "       'grapefruit', 'grapefruit', 'orange', 'orange', 'grapefruit',\n",
       "       'orange', 'orange', 'grapefruit', 'grapefruit', 'orange',\n",
       "       'grapefruit', 'orange', 'orange', 'orange', 'orange', 'grapefruit',\n",
       "       'grapefruit', 'orange', 'orange', 'orange', 'grapefruit',\n",
       "       'grapefruit', 'grapefruit', 'grapefruit', 'orange', 'grapefruit',\n",
       "       'grapefruit', 'grapefruit', 'orange', 'grapefruit', 'orange',\n",
       "       'grapefruit', 'grapefruit', 'orange', 'grapefruit', 'orange',\n",
       "       'grapefruit', 'orange', 'grapefruit', 'grapefruit', 'orange',\n",
       "       'grapefruit', 'grapefruit', 'orange', 'orange', 'orange', 'orange',\n",
       "       'orange', 'orange', 'orange', 'orange', 'grapefruit', 'grapefruit',\n",
       "       'orange', 'orange', 'orange', 'orange', 'grapefruit', 'grapefruit',\n",
       "       'grapefruit', 'orange', 'grapefruit', 'orange', 'grapefruit',\n",
       "       'orange', 'orange', 'orange', 'orange', 'orange', 'orange',\n",
       "       'orange', 'grapefruit', 'grapefruit', 'orange', 'orange', 'orange',\n",
       "       'orange', 'orange', 'grapefruit', 'grapefruit', 'grapefruit',\n",
       "       'grapefruit', 'orange', 'orange', 'grapefruit', 'grapefruit',\n",
       "       'grapefruit', 'grapefruit', 'grapefruit', 'grapefruit',\n",
       "       'grapefruit', 'grapefruit', 'grapefruit', 'grapefruit', 'orange',\n",
       "       'orange', 'orange', 'orange', 'grapefruit', 'orange', 'orange',\n",
       "       'grapefruit', 'grapefruit', 'grapefruit', 'orange', 'grapefruit',\n",
       "       'grapefruit', 'grapefruit', 'orange', 'grapefruit', 'grapefruit',\n",
       "       'grapefruit', 'orange', 'grapefruit', 'orange', 'grapefruit',\n",
       "       'grapefruit', 'orange', 'orange', 'grapefruit', 'orange', 'orange',\n",
       "       'grapefruit', 'orange', 'orange', 'grapefruit', 'grapefruit',\n",
       "       'grapefruit', 'grapefruit', 'grapefruit', 'grapefruit',\n",
       "       'grapefruit', 'grapefruit', 'grapefruit', 'grapefruit',\n",
       "       'grapefruit', 'orange', 'orange', 'orange', 'grapefruit',\n",
       "       'grapefruit', 'orange', 'grapefruit', 'grapefruit', 'orange',\n",
       "       'orange', 'grapefruit', 'orange', 'grapefruit', 'grapefruit',\n",
       "       'grapefruit', 'orange', 'orange', 'orange', 'grapefruit',\n",
       "       'grapefruit', 'orange', 'grapefruit', 'orange', 'grapefruit',\n",
       "       'grapefruit', 'grapefruit', 'grapefruit', 'orange', 'orange',\n",
       "       'orange', 'orange', 'orange', 'orange', 'orange', 'orange',\n",
       "       'orange', 'orange', 'grapefruit', 'grapefruit', 'grapefruit',\n",
       "       'grapefruit', 'grapefruit', 'grapefruit', 'orange', 'orange',\n",
       "       'orange', 'orange', 'grapefruit', 'orange', 'grapefruit',\n",
       "       'grapefruit', 'orange', 'orange', 'grapefruit', 'orange', 'orange',\n",
       "       'orange', 'orange', 'grapefruit', 'grapefruit', 'grapefruit',\n",
       "       'orange', 'grapefruit', 'grapefruit', 'orange', 'orange', 'orange',\n",
       "       'orange', 'orange', 'grapefruit', 'orange', 'grapefruit', 'orange',\n",
       "       'orange', 'orange', 'grapefruit', 'grapefruit', 'grapefruit',\n",
       "       'grapefruit', 'orange', 'grapefruit', 'orange', 'orange', 'orange',\n",
       "       'grapefruit', 'orange', 'orange', 'orange', 'grapefruit',\n",
       "       'grapefruit', 'grapefruit', 'orange', 'grapefruit', 'orange',\n",
       "       'orange', 'grapefruit', 'orange', 'grapefruit', 'grapefruit',\n",
       "       'grapefruit', 'grapefruit', 'grapefruit', 'orange', 'orange',\n",
       "       'orange', 'orange', 'orange', 'grapefruit', 'orange', 'grapefruit',\n",
       "       'grapefruit', 'grapefruit', 'grapefruit', 'grapefruit', 'orange',\n",
       "       'orange', 'orange', 'grapefruit', 'grapefruit', 'orange', 'orange',\n",
       "       'orange', 'orange', 'orange', 'orange', 'orange', 'orange',\n",
       "       'orange', 'orange', 'orange', 'orange', 'grapefruit', 'orange',\n",
       "       'grapefruit', 'orange', 'grapefruit', 'orange', 'grapefruit',\n",
       "       'orange', 'grapefruit', 'grapefruit', 'orange', 'grapefruit',\n",
       "       'grapefruit', 'grapefruit', 'orange', 'grapefruit', 'grapefruit',\n",
       "       'grapefruit', 'grapefruit', 'grapefruit', 'orange', 'orange',\n",
       "       'grapefruit', 'grapefruit', 'grapefruit', 'grapefruit', 'orange',\n",
       "       'grapefruit', 'grapefruit', 'orange', 'grapefruit', 'grapefruit',\n",
       "       'orange', 'orange', 'orange', 'orange', 'orange', 'grapefruit',\n",
       "       'orange', 'orange', 'grapefruit', 'orange', 'orange', 'grapefruit',\n",
       "       'orange', 'grapefruit', 'grapefruit', 'orange', 'orange',\n",
       "       'grapefruit', 'orange', 'orange', 'grapefruit', 'orange',\n",
       "       'grapefruit', 'grapefruit', 'grapefruit', 'grapefruit',\n",
       "       'grapefruit', 'grapefruit', 'orange', 'orange', 'orange',\n",
       "       'grapefruit', 'grapefruit', 'orange', 'orange', 'grapefruit',\n",
       "       'orange', 'grapefruit', 'grapefruit', 'grapefruit', 'grapefruit',\n",
       "       'orange', 'orange', 'orange', 'orange', 'orange', 'orange',\n",
       "       'grapefruit', 'grapefruit', 'grapefruit', 'grapefruit', 'orange',\n",
       "       'grapefruit', 'orange', 'grapefruit', 'grapefruit', 'orange',\n",
       "       'grapefruit', 'grapefruit', 'grapefruit', 'orange', 'grapefruit',\n",
       "       'orange', 'grapefruit', 'orange', 'grapefruit', 'grapefruit',\n",
       "       'grapefruit', 'grapefruit', 'grapefruit', 'grapefruit',\n",
       "       'grapefruit', 'orange', 'grapefruit', 'orange', 'orange',\n",
       "       'grapefruit', 'grapefruit', 'grapefruit', 'grapefruit', 'orange',\n",
       "       'grapefruit', 'orange', 'grapefruit', 'orange', 'grapefruit',\n",
       "       'orange', 'grapefruit', 'grapefruit', 'grapefruit', 'grapefruit',\n",
       "       'orange', 'orange', 'orange', 'orange', 'orange', 'orange',\n",
       "       'orange', 'orange', 'grapefruit', 'orange', 'orange', 'grapefruit',\n",
       "       'orange', 'grapefruit', 'orange', 'grapefruit', 'orange', 'orange',\n",
       "       'orange', 'grapefruit', 'orange', 'grapefruit', 'orange', 'orange',\n",
       "       'grapefruit', 'grapefruit', 'grapefruit', 'grapefruit',\n",
       "       'grapefruit', 'orange', 'grapefruit', 'grapefruit', 'orange',\n",
       "       'orange', 'grapefruit', 'grapefruit', 'orange', 'orange',\n",
       "       'grapefruit', 'orange', 'orange', 'orange', 'grapefruit', 'orange',\n",
       "       'orange', 'orange', 'grapefruit', 'orange', 'orange', 'orange',\n",
       "       'grapefruit', 'grapefruit', 'grapefruit', 'grapefruit',\n",
       "       'grapefruit', 'grapefruit', 'orange', 'orange', 'orange', 'orange',\n",
       "       'orange', 'orange', 'grapefruit', 'grapefruit', 'orange', 'orange',\n",
       "       'grapefruit', 'grapefruit', 'orange', 'orange', 'grapefruit',\n",
       "       'orange', 'orange', 'orange', 'orange', 'grapefruit', 'orange',\n",
       "       'orange', 'grapefruit', 'grapefruit', 'grapefruit', 'grapefruit',\n",
       "       'orange', 'orange', 'grapefruit', 'grapefruit', 'grapefruit',\n",
       "       'grapefruit', 'orange', 'grapefruit', 'orange', 'grapefruit',\n",
       "       'orange', 'orange', 'orange', 'grapefruit', 'grapefruit',\n",
       "       'grapefruit', 'grapefruit', 'orange', 'orange', 'grapefruit',\n",
       "       'grapefruit', 'orange', 'orange', 'grapefruit', 'orange',\n",
       "       'grapefruit', 'grapefruit', 'grapefruit', 'orange', 'orange',\n",
       "       'orange', 'orange', 'orange', 'orange', 'grapefruit', 'grapefruit',\n",
       "       'grapefruit', 'grapefruit', 'grapefruit', 'orange', 'orange',\n",
       "       'orange', 'grapefruit', 'grapefruit', 'grapefruit', 'grapefruit',\n",
       "       'orange', 'grapefruit', 'orange', 'orange', 'grapefruit',\n",
       "       'grapefruit', 'grapefruit', 'grapefruit', 'grapefruit',\n",
       "       'grapefruit', 'grapefruit', 'grapefruit', 'orange', 'orange',\n",
       "       'grapefruit', 'orange', 'orange', 'grapefruit', 'orange', 'orange',\n",
       "       'grapefruit', 'orange', 'orange', 'grapefruit', 'orange',\n",
       "       'grapefruit', 'grapefruit', 'orange', 'grapefruit', 'orange',\n",
       "       'grapefruit', 'orange', 'grapefruit', 'grapefruit', 'orange',\n",
       "       'grapefruit', 'grapefruit', 'grapefruit', 'grapefruit', 'orange',\n",
       "       'orange', 'grapefruit', 'grapefruit', 'grapefruit', 'grapefruit',\n",
       "       'grapefruit', 'grapefruit', 'orange', 'grapefruit', 'grapefruit',\n",
       "       'orange', 'orange', 'orange', 'grapefruit', 'orange', 'grapefruit',\n",
       "       'orange', 'grapefruit', 'orange', 'grapefruit', 'grapefruit',\n",
       "       'grapefruit', 'grapefruit', 'grapefruit', 'orange', 'grapefruit',\n",
       "       'grapefruit', 'orange', 'grapefruit', 'grapefruit', 'grapefruit',\n",
       "       'grapefruit', 'grapefruit', 'orange', 'orange', 'orange', 'orange',\n",
       "       'orange', 'orange', 'orange', 'grapefruit', 'orange', 'grapefruit',\n",
       "       'grapefruit', 'grapefruit', 'orange', 'grapefruit', 'orange',\n",
       "       'orange', 'orange', 'grapefruit', 'grapefruit', 'orange', 'orange',\n",
       "       'grapefruit', 'orange', 'orange', 'grapefruit', 'grapefruit',\n",
       "       'grapefruit', 'grapefruit', 'grapefruit', 'grapefruit', 'orange',\n",
       "       'orange', 'orange', 'grapefruit', 'grapefruit', 'orange',\n",
       "       'grapefruit', 'orange', 'grapefruit', 'orange', 'orange',\n",
       "       'grapefruit', 'orange', 'grapefruit', 'grapefruit', 'grapefruit',\n",
       "       'grapefruit', 'orange', 'grapefruit', 'orange'], dtype=object)"
      ]
     },
     "execution_count": 29,
     "metadata": {},
     "output_type": "execute_result"
    }
   ],
   "source": [
    "kn.predict(test_input)"
   ]
  },
  {
   "cell_type": "code",
   "execution_count": 30,
   "id": "16a9693b",
   "metadata": {},
   "outputs": [
    {
     "data": {
      "text/plain": [
       "array(['orange', 'grapefruit', 'orange', 'grapefruit', 'grapefruit',\n",
       "       'orange', 'grapefruit', 'grapefruit', 'grapefruit', 'grapefruit',\n",
       "       'orange', 'grapefruit', 'orange', 'grapefruit', 'grapefruit',\n",
       "       'orange', 'grapefruit', 'grapefruit', 'orange', 'grapefruit',\n",
       "       'grapefruit', 'orange', 'orange', 'grapefruit', 'grapefruit',\n",
       "       'orange', 'grapefruit', 'grapefruit', 'orange', 'grapefruit',\n",
       "       'grapefruit', 'grapefruit', 'grapefruit', 'grapefruit', 'orange',\n",
       "       'orange', 'orange', 'orange', 'orange', 'grapefruit', 'grapefruit',\n",
       "       'orange', 'orange', 'orange', 'grapefruit', 'grapefruit', 'orange',\n",
       "       'grapefruit', 'grapefruit', 'grapefruit', 'grapefruit',\n",
       "       'grapefruit', 'orange', 'grapefruit', 'grapefruit', 'orange',\n",
       "       'orange', 'grapefruit', 'grapefruit', 'orange', 'grapefruit',\n",
       "       'grapefruit', 'grapefruit', 'orange', 'grapefruit', 'grapefruit',\n",
       "       'orange', 'orange', 'grapefruit', 'grapefruit', 'orange', 'orange',\n",
       "       'orange', 'grapefruit', 'grapefruit', 'grapefruit', 'grapefruit',\n",
       "       'grapefruit', 'grapefruit', 'orange', 'grapefruit', 'orange',\n",
       "       'grapefruit', 'orange', 'grapefruit', 'grapefruit', 'orange',\n",
       "       'grapefruit', 'grapefruit', 'grapefruit', 'grapefruit', 'orange',\n",
       "       'grapefruit', 'orange', 'grapefruit', 'orange', 'grapefruit',\n",
       "       'grapefruit', 'grapefruit', 'grapefruit', 'grapefruit',\n",
       "       'grapefruit', 'grapefruit', 'grapefruit', 'grapefruit',\n",
       "       'grapefruit', 'orange', 'grapefruit', 'orange', 'grapefruit',\n",
       "       'orange', 'orange', 'orange', 'grapefruit', 'orange', 'grapefruit',\n",
       "       'orange', 'grapefruit', 'orange', 'orange', 'grapefruit', 'orange',\n",
       "       'orange', 'grapefruit', 'grapefruit', 'grapefruit', 'grapefruit',\n",
       "       'orange', 'grapefruit', 'orange', 'orange', 'orange', 'orange',\n",
       "       'grapefruit', 'grapefruit', 'orange', 'grapefruit', 'orange',\n",
       "       'orange', 'orange', 'grapefruit', 'orange', 'grapefruit', 'orange',\n",
       "       'grapefruit', 'grapefruit', 'grapefruit', 'orange', 'grapefruit',\n",
       "       'orange', 'grapefruit', 'grapefruit', 'grapefruit', 'orange',\n",
       "       'grapefruit', 'grapefruit', 'orange', 'orange', 'orange', 'orange',\n",
       "       'grapefruit', 'grapefruit', 'orange', 'orange', 'grapefruit',\n",
       "       'orange', 'grapefruit', 'orange', 'orange', 'orange', 'grapefruit',\n",
       "       'orange', 'orange', 'grapefruit', 'orange', 'orange', 'orange',\n",
       "       'grapefruit', 'grapefruit', 'grapefruit', 'orange', 'grapefruit',\n",
       "       'grapefruit', 'grapefruit', 'orange', 'orange', 'grapefruit',\n",
       "       'grapefruit', 'orange', 'grapefruit', 'orange', 'grapefruit',\n",
       "       'orange', 'grapefruit', 'grapefruit', 'grapefruit', 'grapefruit',\n",
       "       'orange', 'grapefruit', 'grapefruit', 'grapefruit', 'grapefruit',\n",
       "       'orange', 'orange', 'orange', 'grapefruit', 'orange', 'orange',\n",
       "       'grapefruit', 'orange', 'grapefruit', 'grapefruit', 'grapefruit',\n",
       "       'orange', 'orange', 'orange', 'grapefruit', 'orange', 'grapefruit',\n",
       "       'orange', 'orange', 'orange', 'orange', 'grapefruit', 'grapefruit',\n",
       "       'grapefruit', 'grapefruit', 'grapefruit', 'orange', 'grapefruit',\n",
       "       'orange', 'grapefruit', 'orange', 'grapefruit', 'orange', 'orange',\n",
       "       'grapefruit', 'orange', 'grapefruit', 'grapefruit', 'grapefruit',\n",
       "       'orange', 'orange', 'orange', 'orange', 'orange', 'orange',\n",
       "       'orange', 'grapefruit', 'grapefruit', 'orange', 'orange', 'orange',\n",
       "       'grapefruit', 'grapefruit', 'orange', 'grapefruit', 'grapefruit',\n",
       "       'grapefruit', 'orange', 'grapefruit', 'orange', 'orange',\n",
       "       'grapefruit', 'grapefruit', 'grapefruit', 'grapefruit', 'orange',\n",
       "       'orange', 'orange', 'orange', 'grapefruit', 'orange', 'orange',\n",
       "       'grapefruit', 'orange', 'grapefruit', 'orange', 'orange',\n",
       "       'grapefruit', 'grapefruit', 'orange', 'grapefruit', 'grapefruit',\n",
       "       'grapefruit', 'orange', 'orange', 'grapefruit', 'grapefruit',\n",
       "       'grapefruit', 'grapefruit', 'grapefruit', 'grapefruit',\n",
       "       'grapefruit', 'grapefruit', 'orange', 'grapefruit', 'orange',\n",
       "       'orange', 'orange', 'orange', 'grapefruit', 'grapefruit',\n",
       "       'grapefruit', 'grapefruit', 'orange', 'orange', 'grapefruit',\n",
       "       'grapefruit', 'grapefruit', 'orange', 'grapefruit', 'orange',\n",
       "       'orange', 'grapefruit', 'orange', 'grapefruit', 'grapefruit',\n",
       "       'orange', 'orange', 'grapefruit', 'orange', 'orange', 'orange',\n",
       "       'grapefruit', 'orange', 'grapefruit', 'grapefruit', 'grapefruit',\n",
       "       'orange', 'grapefruit', 'orange', 'grapefruit', 'orange',\n",
       "       'grapefruit', 'grapefruit', 'orange', 'orange', 'grapefruit',\n",
       "       'orange', 'grapefruit', 'grapefruit', 'grapefruit', 'orange',\n",
       "       'grapefruit', 'orange', 'orange', 'orange', 'grapefruit',\n",
       "       'grapefruit', 'grapefruit', 'orange', 'orange', 'grapefruit',\n",
       "       'orange', 'orange', 'orange', 'grapefruit', 'grapefruit',\n",
       "       'grapefruit', 'grapefruit', 'orange', 'grapefruit', 'grapefruit',\n",
       "       'orange', 'orange', 'grapefruit', 'grapefruit', 'orange',\n",
       "       'grapefruit', 'orange', 'orange', 'orange', 'orange', 'grapefruit',\n",
       "       'grapefruit', 'orange', 'orange', 'orange', 'grapefruit',\n",
       "       'grapefruit', 'grapefruit', 'grapefruit', 'orange', 'grapefruit',\n",
       "       'grapefruit', 'grapefruit', 'orange', 'grapefruit', 'orange',\n",
       "       'orange', 'grapefruit', 'orange', 'grapefruit', 'orange',\n",
       "       'grapefruit', 'orange', 'grapefruit', 'grapefruit', 'orange',\n",
       "       'grapefruit', 'grapefruit', 'orange', 'orange', 'orange', 'orange',\n",
       "       'orange', 'orange', 'orange', 'orange', 'grapefruit', 'orange',\n",
       "       'orange', 'orange', 'orange', 'orange', 'grapefruit', 'grapefruit',\n",
       "       'grapefruit', 'orange', 'grapefruit', 'orange', 'grapefruit',\n",
       "       'orange', 'orange', 'orange', 'orange', 'orange', 'orange',\n",
       "       'orange', 'grapefruit', 'grapefruit', 'orange', 'orange', 'orange',\n",
       "       'orange', 'orange', 'grapefruit', 'grapefruit', 'grapefruit',\n",
       "       'orange', 'orange', 'orange', 'grapefruit', 'grapefruit',\n",
       "       'grapefruit', 'grapefruit', 'grapefruit', 'grapefruit',\n",
       "       'grapefruit', 'grapefruit', 'grapefruit', 'grapefruit', 'orange',\n",
       "       'orange', 'orange', 'orange', 'grapefruit', 'orange', 'orange',\n",
       "       'grapefruit', 'grapefruit', 'grapefruit', 'orange', 'grapefruit',\n",
       "       'grapefruit', 'grapefruit', 'orange', 'grapefruit', 'grapefruit',\n",
       "       'grapefruit', 'orange', 'grapefruit', 'orange', 'grapefruit',\n",
       "       'grapefruit', 'orange', 'orange', 'grapefruit', 'orange', 'orange',\n",
       "       'orange', 'orange', 'orange', 'grapefruit', 'grapefruit',\n",
       "       'grapefruit', 'grapefruit', 'orange', 'grapefruit', 'grapefruit',\n",
       "       'grapefruit', 'grapefruit', 'grapefruit', 'grapefruit', 'orange',\n",
       "       'orange', 'orange', 'grapefruit', 'grapefruit', 'orange',\n",
       "       'grapefruit', 'grapefruit', 'orange', 'orange', 'grapefruit',\n",
       "       'orange', 'grapefruit', 'grapefruit', 'grapefruit', 'orange',\n",
       "       'orange', 'orange', 'grapefruit', 'grapefruit', 'orange',\n",
       "       'grapefruit', 'orange', 'grapefruit', 'grapefruit', 'grapefruit',\n",
       "       'grapefruit', 'orange', 'orange', 'orange', 'orange', 'orange',\n",
       "       'orange', 'orange', 'orange', 'orange', 'orange', 'grapefruit',\n",
       "       'grapefruit', 'grapefruit', 'grapefruit', 'grapefruit',\n",
       "       'grapefruit', 'orange', 'orange', 'orange', 'orange', 'grapefruit',\n",
       "       'orange', 'grapefruit', 'grapefruit', 'orange', 'orange',\n",
       "       'grapefruit', 'orange', 'orange', 'orange', 'orange', 'grapefruit',\n",
       "       'grapefruit', 'grapefruit', 'orange', 'grapefruit', 'grapefruit',\n",
       "       'orange', 'orange', 'orange', 'orange', 'orange', 'grapefruit',\n",
       "       'orange', 'grapefruit', 'orange', 'orange', 'orange', 'grapefruit',\n",
       "       'grapefruit', 'grapefruit', 'grapefruit', 'orange', 'grapefruit',\n",
       "       'orange', 'orange', 'orange', 'grapefruit', 'orange', 'orange',\n",
       "       'orange', 'grapefruit', 'grapefruit', 'grapefruit', 'orange',\n",
       "       'grapefruit', 'orange', 'orange', 'grapefruit', 'orange',\n",
       "       'grapefruit', 'grapefruit', 'grapefruit', 'grapefruit',\n",
       "       'grapefruit', 'orange', 'orange', 'orange', 'orange', 'orange',\n",
       "       'grapefruit', 'orange', 'grapefruit', 'grapefruit', 'grapefruit',\n",
       "       'grapefruit', 'grapefruit', 'orange', 'orange', 'orange',\n",
       "       'grapefruit', 'grapefruit', 'orange', 'orange', 'orange', 'orange',\n",
       "       'orange', 'orange', 'orange', 'orange', 'orange', 'orange',\n",
       "       'orange', 'orange', 'grapefruit', 'orange', 'grapefruit', 'orange',\n",
       "       'grapefruit', 'orange', 'grapefruit', 'orange', 'grapefruit',\n",
       "       'grapefruit', 'orange', 'grapefruit', 'grapefruit', 'grapefruit',\n",
       "       'orange', 'grapefruit', 'grapefruit', 'grapefruit', 'grapefruit',\n",
       "       'grapefruit', 'orange', 'orange', 'grapefruit', 'grapefruit',\n",
       "       'grapefruit', 'grapefruit', 'orange', 'grapefruit', 'grapefruit',\n",
       "       'orange', 'orange', 'grapefruit', 'orange', 'orange', 'orange',\n",
       "       'orange', 'orange', 'grapefruit', 'orange', 'orange', 'grapefruit',\n",
       "       'orange', 'orange', 'grapefruit', 'orange', 'grapefruit',\n",
       "       'grapefruit', 'orange', 'orange', 'grapefruit', 'orange', 'orange',\n",
       "       'orange', 'orange', 'grapefruit', 'grapefruit', 'grapefruit',\n",
       "       'grapefruit', 'grapefruit', 'grapefruit', 'orange', 'orange',\n",
       "       'orange', 'grapefruit', 'grapefruit', 'orange', 'orange',\n",
       "       'grapefruit', 'orange', 'grapefruit', 'grapefruit', 'grapefruit',\n",
       "       'grapefruit', 'orange', 'orange', 'grapefruit', 'orange', 'orange',\n",
       "       'orange', 'grapefruit', 'grapefruit', 'grapefruit', 'grapefruit',\n",
       "       'orange', 'grapefruit', 'orange', 'grapefruit', 'grapefruit',\n",
       "       'orange', 'grapefruit', 'grapefruit', 'grapefruit', 'orange',\n",
       "       'grapefruit', 'orange', 'grapefruit', 'orange', 'grapefruit',\n",
       "       'grapefruit', 'grapefruit', 'grapefruit', 'grapefruit',\n",
       "       'grapefruit', 'grapefruit', 'orange', 'grapefruit', 'orange',\n",
       "       'orange', 'grapefruit', 'grapefruit', 'grapefruit', 'grapefruit',\n",
       "       'orange', 'grapefruit', 'orange', 'grapefruit', 'orange',\n",
       "       'grapefruit', 'orange', 'grapefruit', 'grapefruit', 'grapefruit',\n",
       "       'grapefruit', 'orange', 'grapefruit', 'orange', 'orange', 'orange',\n",
       "       'grapefruit', 'orange', 'orange', 'orange', 'orange', 'orange',\n",
       "       'grapefruit', 'orange', 'grapefruit', 'orange', 'grapefruit',\n",
       "       'orange', 'orange', 'orange', 'grapefruit', 'orange', 'grapefruit',\n",
       "       'orange', 'orange', 'grapefruit', 'grapefruit', 'grapefruit',\n",
       "       'grapefruit', 'grapefruit', 'orange', 'grapefruit', 'grapefruit',\n",
       "       'orange', 'orange', 'grapefruit', 'grapefruit', 'orange', 'orange',\n",
       "       'grapefruit', 'orange', 'orange', 'orange', 'grapefruit', 'orange',\n",
       "       'orange', 'orange', 'grapefruit', 'orange', 'orange', 'orange',\n",
       "       'grapefruit', 'grapefruit', 'grapefruit', 'grapefruit',\n",
       "       'grapefruit', 'grapefruit', 'orange', 'orange', 'orange', 'orange',\n",
       "       'orange', 'orange', 'grapefruit', 'grapefruit', 'orange', 'orange',\n",
       "       'grapefruit', 'grapefruit', 'orange', 'orange', 'grapefruit',\n",
       "       'orange', 'orange', 'orange', 'orange', 'orange', 'orange',\n",
       "       'orange', 'grapefruit', 'grapefruit', 'grapefruit', 'grapefruit',\n",
       "       'orange', 'orange', 'grapefruit', 'grapefruit', 'grapefruit',\n",
       "       'grapefruit', 'orange', 'grapefruit', 'orange', 'grapefruit',\n",
       "       'orange', 'orange', 'orange', 'grapefruit', 'grapefruit',\n",
       "       'grapefruit', 'grapefruit', 'orange', 'orange', 'grapefruit',\n",
       "       'grapefruit', 'orange', 'orange', 'grapefruit', 'orange',\n",
       "       'grapefruit', 'grapefruit', 'grapefruit', 'orange', 'orange',\n",
       "       'orange', 'orange', 'orange', 'orange', 'grapefruit', 'grapefruit',\n",
       "       'grapefruit', 'grapefruit', 'grapefruit', 'orange', 'orange',\n",
       "       'orange', 'grapefruit', 'grapefruit', 'grapefruit', 'grapefruit',\n",
       "       'orange', 'grapefruit', 'orange', 'grapefruit', 'grapefruit',\n",
       "       'grapefruit', 'grapefruit', 'grapefruit', 'grapefruit',\n",
       "       'grapefruit', 'grapefruit', 'grapefruit', 'orange', 'orange',\n",
       "       'grapefruit', 'orange', 'orange', 'grapefruit', 'orange', 'orange',\n",
       "       'grapefruit', 'orange', 'orange', 'grapefruit', 'orange',\n",
       "       'grapefruit', 'grapefruit', 'orange', 'grapefruit', 'orange',\n",
       "       'grapefruit', 'orange', 'grapefruit', 'grapefruit', 'orange',\n",
       "       'grapefruit', 'grapefruit', 'grapefruit', 'grapefruit', 'orange',\n",
       "       'grapefruit', 'grapefruit', 'grapefruit', 'grapefruit',\n",
       "       'grapefruit', 'grapefruit', 'grapefruit', 'orange', 'grapefruit',\n",
       "       'grapefruit', 'orange', 'orange', 'orange', 'grapefruit', 'orange',\n",
       "       'grapefruit', 'orange', 'grapefruit', 'orange', 'grapefruit',\n",
       "       'grapefruit', 'grapefruit', 'grapefruit', 'grapefruit', 'orange',\n",
       "       'grapefruit', 'grapefruit', 'orange', 'grapefruit', 'grapefruit',\n",
       "       'grapefruit', 'grapefruit', 'grapefruit', 'orange', 'orange',\n",
       "       'orange', 'orange', 'orange', 'orange', 'orange', 'grapefruit',\n",
       "       'orange', 'grapefruit', 'grapefruit', 'orange', 'orange',\n",
       "       'grapefruit', 'orange', 'orange', 'orange', 'grapefruit',\n",
       "       'grapefruit', 'orange', 'orange', 'grapefruit', 'orange', 'orange',\n",
       "       'grapefruit', 'grapefruit', 'grapefruit', 'grapefruit',\n",
       "       'grapefruit', 'grapefruit', 'orange', 'orange', 'orange',\n",
       "       'grapefruit', 'grapefruit', 'orange', 'grapefruit', 'orange',\n",
       "       'grapefruit', 'orange', 'orange', 'grapefruit', 'orange',\n",
       "       'grapefruit', 'grapefruit', 'grapefruit', 'grapefruit', 'orange',\n",
       "       'grapefruit', 'orange'], dtype=object)"
      ]
     },
     "execution_count": 30,
     "metadata": {},
     "output_type": "execute_result"
    }
   ],
   "source": [
    "test_target"
   ]
  },
  {
   "cell_type": "code",
   "execution_count": 49,
   "id": "eb121551",
   "metadata": {},
   "outputs": [
    {
     "data": {
      "image/png": "[encoded data removed]",
      "text/plain": [
       "<Figure size 432x288 with 1 Axes>"
      ]
     },
     "metadata": {
      "needs_background": "light"
     },
     "output_type": "display_data"
    }
   ],
   "source": [
    "plt.scatter(train_input[:,0], train_input[:,1])\n",
    "# plt.scatter(test_input_scaled[:,0], test_input_scaled[:,1])\n",
    "plt.xlabel('length')\n",
    "plt.ylabel('weight')\n",
    "plt.show()"
   ]
  },
  {
   "cell_type": "markdown",
   "id": "010655a3",
   "metadata": {},
   "source": [
    "## Scale 변환"
   ]
  },
  {
   "cell_type": "code",
   "execution_count": 35,
   "id": "ad53ed36",
   "metadata": {},
   "outputs": [],
   "source": [
    "mean = np.mean(train_input, axis=0)\n",
    "std = np.std(train_input, axis=0)"
   ]
  },
  {
   "cell_type": "code",
   "execution_count": 36,
   "id": "a3843ec2",
   "metadata": {},
   "outputs": [],
   "source": [
    "train_scaled = (train_input - mean) / std"
   ]
  },
  {
   "cell_type": "code",
   "execution_count": 37,
   "id": "2c5aeea3",
   "metadata": {},
   "outputs": [],
   "source": [
    "test_input_scaled = (test_input - mean) / std"
   ]
  },
  {
   "cell_type": "code",
   "execution_count": 38,
   "id": "f5a060ad",
   "metadata": {},
   "outputs": [],
   "source": [
    "kn = KNeighborsClassifier()"
   ]
  },
  {
   "cell_type": "code",
   "execution_count": 40,
   "id": "4a6c131c",
   "metadata": {},
   "outputs": [
    {
     "data": {
      "text/plain": [
       "KNeighborsClassifier()"
      ]
     },
     "execution_count": 40,
     "metadata": {},
     "output_type": "execute_result"
    }
   ],
   "source": [
    "kn.fit(train_scaled, train_target)"
   ]
  },
  {
   "cell_type": "code",
   "execution_count": 41,
   "id": "ed10ed76",
   "metadata": {},
   "outputs": [
    {
     "data": {
      "text/plain": [
       "0.996"
      ]
     },
     "execution_count": 41,
     "metadata": {},
     "output_type": "execute_result"
    }
   ],
   "source": [
    "kn.score(test_input_scaled, test_target)"
   ]
  },
  {
   "cell_type": "code",
   "execution_count": 47,
   "id": "9c3b992a",
   "metadata": {},
   "outputs": [
    {
     "data": {
      "image/png": "[encoded data removed]",
      "text/plain": [
       "<Figure size 432x288 with 1 Axes>"
      ]
     },
     "metadata": {
      "needs_background": "light"
     },
     "output_type": "display_data"
    }
   ],
   "source": [
    "plt.scatter(train_scaled[:,0], train_scaled[:,1])\n",
    "# plt.scatter(test_input_scaled[:,0], test_input_scaled[:,1])\n",
    "plt.xlabel('scaled length')\n",
    "plt.ylabel('scaled weight')\n",
    "plt.show()"
   ]
  },
  {
   "cell_type": "code",
   "execution_count": null,
   "id": "be1044bb",
   "metadata": {},
   "outputs": [],
   "source": []
  }
 ],
 "metadata": {
  "kernelspec": {
   "display_name": "Python 3 (ipykernel)",
   "language": "python",
   "name": "python3"
  },
  "language_info": {
   "codemirror_mode": {
    "name": "ipython",
    "version": 3
   },
   "file_extension": ".py",
   "mimetype": "text/x-python",
   "name": "python",
   "nbconvert_exporter": "python",
   "pygments_lexer": "ipython3",
   "version": "3.9.7"
  }
 },
 "nbformat": 4,
 "nbformat_minor": 5
}
