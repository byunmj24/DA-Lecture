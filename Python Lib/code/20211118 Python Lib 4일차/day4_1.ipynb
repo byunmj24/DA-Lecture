{
 "cells": [
  {
   "cell_type": "code",
   "execution_count": 2,
   "id": "56123e1f",
   "metadata": {},
   "outputs": [
    {
     "data": {
      "text/html": [
       "<style>.container { font-weight: bold !important; }</style>"
      ],
      "text/plain": [
       "<IPython.core.display.HTML object>"
      ]
     },
     "metadata": {},
     "output_type": "display_data"
    },
    {
     "data": {
      "text/html": [
       "<style>.container { width: 100% !important; }</style>"
      ],
      "text/plain": [
       "<IPython.core.display.HTML object>"
      ]
     },
     "metadata": {},
     "output_type": "display_data"
    }
   ],
   "source": [
    "# 쥬피터노트북 셀 스타일 조절 \n",
    "from IPython.core.display import display, HTML\n",
    "display(HTML(\"<style>.container { font-weight: bold !important; }</style>\"))\n",
    "display(HTML(\"<style>.container { width: 100% !important; }</style>\"))\n",
    "\n",
    "import warnings\n",
    "warnings.filterwarnings(action='ignore')"
   ]
  },
  {
   "cell_type": "markdown",
   "id": "0fcb6930",
   "metadata": {},
   "source": [
    "# 웹수집 방법\n",
    "\n",
    "- 웹스크랩핑 : requests, urllib, bs4, selenium (html, css 지식 필요)\n",
    "- 공공데이타 포털 제공 => csv, excel\n",
    "- API 서비스 => 네이버, 카카오, 통계청, 공공데이타포털 (xml, json 지식 필요)\n",
    "- 판다스 금융라이브러리 (주식, 비트코인, 환율, 원자재....)"
   ]
  },
  {
   "cell_type": "markdown",
   "id": "afc43539",
   "metadata": {},
   "source": [
    "# 웹데이타 수집 과정\n",
    "\n",
    "- 웹에 필요한 URL 요청 (관련 모듈 => requests, urllib)\n",
    "- response 객체 => html 페이지\n",
    "- 파싱(bs4, selenium)\n",
    "- 리스트, 딕셔너리, 판다스의 데이타프레임 형태로 저장\n",
    "- csv 파일로 저장하거나 데이타베이스에 저장"
   ]
  },
  {
   "cell_type": "markdown",
   "id": "a0145b41",
   "metadata": {},
   "source": [
    "### requests 모듈을 이용하여 특정 url 주소의 페이지 저장하기 \n",
    "\n",
    "- !pip install requests"
   ]
  },
  {
   "cell_type": "code",
   "execution_count": 4,
   "id": "64ac7fba",
   "metadata": {},
   "outputs": [],
   "source": [
    "# pip list"
   ]
  },
  {
   "cell_type": "code",
   "execution_count": 1,
   "id": "cdda3e19",
   "metadata": {},
   "outputs": [],
   "source": [
    "import requests\n",
    "import os\n",
    "from bs4 import BeautifulSoup\n",
    "import pandas as pd \n",
    "import numpy as np"
   ]
  },
  {
   "cell_type": "code",
   "execution_count": 8,
   "id": "851892af",
   "metadata": {},
   "outputs": [
    {
     "name": "stdout",
     "output_type": "stream",
     "text": [
      "{'Date': 'Thu, 18 Nov 2021 06:00:36 GMT', 'Expires': '-1', 'Cache-Control': 'private, max-age=0', 'Content-Type': 'text/html; charset=ISO-8859-1', 'P3P': 'CP=\"This is not a P3P policy! See g.co/p3phelp for more info.\"', 'Content-Encoding': 'gzip', 'Server': 'gws', 'Content-Length': '6500', 'X-XSS-Protection': '0', 'X-Frame-Options': 'SAMEORIGIN', 'Set-Cookie': '1P_JAR=2021-11-18-06; expires=Sat, 18-Dec-2021 06:00:36 GMT; path=/; domain=.google.com; Secure, NID=511=uQovDvpBpj8YPVSD6kytnwdyi5gvX2fouyQKM4tl9LxDDKVyouXxZp8nXWyzWEYdHBCebvA8jVBkymNWi0uvc8ete187hQ3f0lRIYn0W9Gi3KnLNA_6skArkwhWNfi2iMhyfK9EvsXNYcPCo-MvjR1oOe2VbQCWUNq8on2DZPDk; expires=Fri, 20-May-2022 06:00:36 GMT; path=/; domain=.google.com; HttpOnly'}\n",
      "res = <Response [200]>\n",
      "==================================================\n"
     ]
    },
    {
     "data": {
      "text/plain": [
       "'<!doctype html><html itemscope=\"\" itemtype=\"http://schema.org/WebPage\" lang=\"ko\"><head><meta content=\"text/html; charset=UTF-8\" http-equiv=\"Content-Type\"><meta content=\"/images/branding/googleg/1x/googleg_standard_color_128dp.png\" itemprop=\"image\"><title>Google</title><script nonce=\"I/eChlDKhZm4n49yrikmYQ==\">(function(){window.google={kEI:\\'BOyVYaPdJMy3mAWQuJ2ACw\\',kEXPI:\\'0,202372,1100104,60,56873,6059,206,2415,2389,2316,383,246,5,1354,4012,1238,1122516,1197702,699,328866,51224,16114,28684,17572,4858,1362,9291,3025,17583,4020,978,13228,3847,4192,6430,14763,7059,919,2855,3819,1279,2212,241,289,149,1103,840,6297,109,4011,2023,2297,6344,8326,3227,2845,7,12354,5096,16320,908,2,3555,13142,3,576,6459,149,12289,1686,4,1253,275,2304,6462,577,4683,2015,18375,2658,6701,655,31,13628,1592,714,2131,13406,3380,5824,2533,4094,3138,6,908,3,3541,1,11943,4581,283,912,5992,15331,2,3110,2,3036,10986,1931,3911,1678,743,5853,9320,134,1009,1160,1266,5434,2379,2720,8595,684,4890,4127,2,6,7719,4568,2577,3128,282,268,1110,2925,2,1,3,2594,91,3775,2,7583,545,3753,1037,438,6188,4673,780,195,2578,69,4678,2,1298,1156,17,268,1257,870,504,1265,3,2,20,3,2,121,19,1624,901,222,262,904,454,291,203,115,3,425,667,1091,189,4,45,31,369,110,2,2,1,2259,67,682,532,2231,783,588,35,503,3110,166,141,404,148,715,1258,401,179,2,102,28,466,205,156,4,82,4,1072,212,2,1919,16,1637,6,2,1,2,4,3,1,7,3,1,2,3,1,2,5,1,3,3,2,2,3,2,2084,255,745,126,6,2,325,24,2,787,49,681,212,181,597,16,1061,2,1521,5526280,3892,446,449,58,1802509,4193853,210,2800486,882,444,1,2,80,1,1796,1,9,2553,1,889,795,2,561,1,4265,1,1,2,1331,4142,2609,155,17,13,72,139,4,2,20,2,169,13,19,46,5,39,96,548,29,2,2,1,2,1,2,2,7,4,1,2,2,2,2,2,2,353,513,186,1,1,158,3,2,2,2,2,2,4,2,3,3,269,551,782,49,24,8,5,5,20,22,49,9,2,2,16,9,1,2,5,3,2,2,23953154,4041352,338,3,2414,1491,9,1434,158,1358,289,6615,290,1204\\',kBL:\\'AGJa\\'};google.sn=\\'webhp\\';google.kHL=\\'ko\\';})();(function(){\\nvar f=this||self;var h,k=[];function l(a){for(var b;a&&(!a.getAttribute||!(b=a.getAttribute(\"eid\")));)a=a.parentNode;return b||h}function m(a){for(var b=null;a&&(!a.getAttribute||!(b=a.getAttribute(\"leid\")));)a=a.parentNode;return b}\\nfunction n(a,b,c,d,g){var e=\"\";c||-1!==b.search(\"&ei=\")||(e=\"&ei=\"+l(d),-1===b.search(\"&lei=\")&&(d=m(d))&&(e+=\"&lei=\"+d));d=\"\";!c&&f._cshid&&-1===b.search(\"&cshid=\")&&\"slh\"!==a&&(d=\"&cshid=\"+f._cshid);c=c||\"/\"+(g||\"gen_204\")+\"?atyp=i&ct=\"+a+\"&cad=\"+b+e+\"&zx=\"+Date.now()+d;/^http:/i.test(c)&&\"https:\"===window.location.protocol&&(google.ml&&google.ml(Error(\"a\"),!1,{src:c,glmm:1}),c=\"\");return c};h=google.kEI;google.getEI=l;google.getLEI=m;google.ml=function(){return null};google.log=function(a,b,c,d,g){if(c=n(a,b,c,d,g)){a=new Image;var e=k.length;k[e]=a;a.onerror=a.onload=a.onabort=function(){delete k[e]};a.src=c}};google.logUrl=n;}).call(this);(function(){\\ngoogle.y={};google.sy=[];google.x=function(a,b){if(a)var c=a.id;else{do c=Math.random();while(google.y[c])}google.y[c]=[a,b];return!1};google.sx=function(a){google.sy.push(a)};google.lm=[];google.plm=function(a){google.lm.push.apply(google.lm,a)};google.lq=[];google.load=function(a,b,c){google.lq.push([[a],b,c])};google.loadAll=function(a,b){google.lq.push([a,b])};google.bx=!1;google.lx=function(){};}).call(this);google.f={};(function(){\\ndocument.documentElement.addEventListener(\"submit\",function(b){var a;if(a=b.target){var c=a.getAttribute(\"data-submitfalse\");a=\"1\"===c||\"q\"===c&&!a.elements.q.value?!0:!1}else a=!1;a&&(b.preventDefault(),b.stopPropagation())},!0);document.documentElement.addEventListener(\"click\",function(b){var a;a:{for(a=b.target;a&&a!==document.documentElement;a=a.parentElement)if(\"A\"===a.tagName){a=\"1\"===a.getAttribute(\"data-nohref\");break a}a=!1}a&&b.preventDefault()},!0);}).call(this);</script><style>#gbar,#guser{font-size:13px;padding-top:1px !important;}#gbar{height:22px}#guser{padding-bottom:7px !important;text-align:right}.gbh,.gbd{border-top:1px solid #c9d7f1;font-size:1px}.gbh{height:0;position:absolute;top:24px;width:100%}@media all{.gb1{height:22px;margin-right:.5em;vertical-align:top}#gbar{float:left}}a.gb1,a.gb4{text-decoration:underline !important}a.gb1,a.gb4{color:#00c !important}.gbi .gb4{color:#dd8e27 !important}.gbf .gb4{color:#900 !important}\\n</style><style>body,td,a,p,.h{font-family:&#44404;&#47548;,&#46027;&#50880;,arial,sans-serif}.ko{font-size:9pt}body{margin:0;overflow-y:scroll}#gog{padding:3px 8px 0}td{line-height:.8em}.gac_m td{line-height:17px}form{margin-bottom:20px}.h{color:#1558d6}em{font-weight:bold;font-style:normal}.lst{height:25px;width:496px}.gsfi,.lst{font:18px arial,sans-serif}.gsfs{font:17px arial,sans-serif}.ds{display:inline-box;display:inline-block;margin:3px 0 4px;margin-left:4px}input{font-family:inherit}body{background:#fff;color:#000}a{color:#4b11a8;text-decoration:none}a:hover,a:active{text-decoration:underline}.fl a{color:#1558d6}a:visited{color:#4b11a8}.sblc{padding-top:5px}.sblc a{display:block;margin:2px 0;margin-left:13px;font-size:11px}.lsbb{background:#f8f9fa;border:solid 1px;border-color:#dadce0 #70757a #70757a #dadce0;height:30px}.lsbb{display:block}#WqQANb a{display:inline-block;margin:0 12px}.lsb{background:url(/images/nav_logo229.png) 0 -261px repeat-x;border:none;color:#000;cursor:pointer;height:30px;margin:0;outline:0;font:15px arial,sans-serif;vertical-align:top}.lsb:active{background:#dadce0}.lst:focus{outline:none}.tiah{width:458px}</style><script nonce=\"I/eChlDKhZm4n49yrikmYQ==\">(function(){window.google.erd={sp:\\'hp\\',jsr:0,bv:1478,de:true};\\nvar f=this||self;var g,h,k=null!==(g=f.mei)&&void 0!==g?g:1,l=null!==(h=f.sdo)&&void 0!==h?h:!0,n=0,p,q=google.erd,t=q.jsr;google.ml=function(a,b,e,m,d){d=void 0===d?2:d;b&&(p=a&&a.message);if(google.dl)return google.dl(a,d,e),null;if(0>t){window.console&&console.error(a,e);if(-2===t)throw a;b=!1}else b=!a||!a.message||\"Error loading script\"===a.message||n>=k&&!m?!1:!0;if(!b)return null;n++;e=e||{};b=encodeURIComponent;var c=\"/gen_204?atyp=i&ei=\"+b(google.kEI);google.kEXPI&&(c+=\"&jexpid=\"+b(google.kEXPI));c+=\"&srcpg=\"+b(google.sn)+\"&jsr=\"+b(q.jsr)+\"&bver=\"+b(q.bv)+(\"&jsel=\"+d);for(var r in e)c+=\"&\",c+=b(r),c+=\"=\",c+=\\nb(e[r]);c=c+\"&emsg=\"+b(a.name+\": \"+a.message);c=c+\"&jsst=\"+b(a.stack||\"N/A\");12288<=c.length&&(c=c.substr(0,12288));a=c;m||google.log(0,\"\",a);return a};window.onerror=function(a,b,e,m,d){p!==a&&(a=d instanceof Error?d:Error(a),google.ml(a,!1,void 0,!1,\"SyntaxError\"===a.name||\"SyntaxError\"===a.message.substring(0,11)?2:0));p=null;l&&n>=k&&(window.onerror=null)};})();</script></head><body bgcolor=\"#fff\"><script nonce=\"I/eChlDKhZm4n49yrikmYQ==\">(function(){var src=\\'/images/nav_logo229.png\\';var iesg=false;document.body.onload = function(){window.n && window.n();if (document.images){new Image().src=src;}\\nif (!iesg){document.f&&document.f.q.focus();document.gbqf&&document.gbqf.q.focus();}\\n}\\n})();</script><div id=\"mngb\"><div id=gbar><nobr><b class=gb1>&#44160;&#49353;</b> <a class=gb1 href=\"http://www.google.co.kr/imghp?hl=ko&tab=wi\">&#51060;&#48120;&#51648;</a> <a class=gb1 href=\"http://maps.google.co.kr/maps?hl=ko&tab=wl\">&#51648;&#46020;</a> <a class=gb1 href=\"https://play.google.com/?hl=ko&tab=w8\">Play</a> <a class=gb1 href=\"http://www.youtube.com/?gl=KR&tab=w1\">YouTube</a> <a class=gb1 href=\"https://news.google.com/?tab=wn\">&#45684;&#49828;</a> <a class=gb1 href=\"https://mail.google.com/mail/?tab=wm\">Gmail</a> <a class=gb1 href=\"https://drive.google.com/?tab=wo\">&#46300;&#46972;&#51060;&#48652;</a> <a class=gb1 style=\"text-decoration:none\" href=\"https://www.google.co.kr/intl/ko/about/products?tab=wh\"><u>&#45908;&#48372;&#44592;</u> &raquo;</a></nobr></div><div id=guser width=100%><nobr><span id=gbn class=gbi></span><span id=gbf class=gbf></span><span id=gbe></span><a href=\"http://www.google.co.kr/history/optout?hl=ko\" class=gb4>&#50937; &#44592;&#47197;</a> | <a  href=\"/preferences?hl=ko\" class=gb4>&#49444;&#51221;</a> | <a target=_top id=gb_70 href=\"https://accounts.google.com/ServiceLogin?hl=ko&passive=true&continue=http://www.google.com/&ec=GAZAAQ\" class=gb4>&#47196;&#44536;&#51064;</a></nobr></div><div class=gbh style=left:0></div><div class=gbh style=right:0></div></div><center><br clear=\"all\" id=\"lgpd\"><div id=\"lga\"><img alt=\"Google\" height=\"92\" src=\"/images/branding/googlelogo/1x/googlelogo_white_background_color_272x92dp.png\" style=\"padding:28px 0 14px\" width=\"272\" id=\"hplogo\"><br><br></div><form action=\"/search\" name=\"f\"><table cellpadding=\"0\" cellspacing=\"0\"><tr valign=\"top\"><td width=\"25%\">&nbsp;</td><td align=\"center\" nowrap=\"\"><input name=\"ie\" value=\"ISO-8859-1\" type=\"hidden\"><input value=\"ko\" name=\"hl\" type=\"hidden\"><input name=\"source\" type=\"hidden\" value=\"hp\"><input name=\"biw\" type=\"hidden\"><input name=\"bih\" type=\"hidden\"><div class=\"ds\" style=\"height:32px;margin:4px 0\"><div style=\"position:relative;zoom:1\"><input class=\"lst tiah\" style=\"margin:0;padding:5px 8px 0 6px;vertical-align:top;color:#000;padding-right:38px\" autocomplete=\"off\" value=\"\" title=\"Google &#44160;&#49353;\" maxlength=\"2048\" name=\"q\" size=\"57\"><img src=\"/textinputassistant/tia.png\" style=\"position:absolute;cursor:pointer;right:5px;top:4px;z-index:300\" data-script-url=\"/textinputassistant/11/ko_tia.js\" id=\"tsuid1\" alt=\"\" height=\"23\" width=\"27\"><script nonce=\"I/eChlDKhZm4n49yrikmYQ==\">(function(){var id=\\'tsuid1\\';document.getElementById(id).onclick = function(){var s = document.createElement(\\'script\\');s.src = this.getAttribute(\\'data-script-url\\');(document.getElementById(\\'xjsc\\')||document.body).appendChild(s);};})();</script></div></div><br style=\"line-height:0\"><span class=\"ds\"><span class=\"lsbb\"><input class=\"lsb\" value=\"Google &#44160;&#49353;\" name=\"btnG\" type=\"submit\"></span></span><span class=\"ds\"><span class=\"lsbb\"><input class=\"lsb\" id=\"tsuid2\" value=\"I&#8217;m Feeling Lucky\" name=\"btnI\" type=\"submit\"><script nonce=\"I/eChlDKhZm4n49yrikmYQ==\">(function(){var id=\\'tsuid2\\';document.getElementById(id).onclick = function(){if (this.form.q.value){this.checked = 1;if (this.form.iflsig)this.form.iflsig.disabled = false;}\\nelse top.location=\\'/doodles/\\';};})();</script><input value=\"ALs-wAMAAAAAYZX6FN4mT41F2FwqN_lGO2JX65f7glkq\" name=\"iflsig\" type=\"hidden\"></span></span></td><td class=\"fl sblc\" align=\"left\" nowrap=\"\" width=\"25%\"><a href=\"/advanced_search?hl=ko&amp;authuser=0\">&#44256;&#44553;&#44160;&#49353;</a></td></tr></table><input id=\"gbv\" name=\"gbv\" type=\"hidden\" value=\"1\"><script nonce=\"I/eChlDKhZm4n49yrikmYQ==\">(function(){\\nvar a,b=\"1\";if(document&&document.getElementById)if(\"undefined\"!=typeof XMLHttpRequest)b=\"2\";else if(\"undefined\"!=typeof ActiveXObject){var c,d,e=[\"MSXML2.XMLHTTP.6.0\",\"MSXML2.XMLHTTP.3.0\",\"MSXML2.XMLHTTP\",\"Microsoft.XMLHTTP\"];for(c=0;d=e[c++];)try{new ActiveXObject(d),b=\"2\"}catch(h){}}a=b;if(\"2\"==a&&-1==location.search.indexOf(\"&gbv=2\")){var f=google.gbvu,g=document.getElementById(\"gbv\");g&&(g.value=a);f&&window.setTimeout(function(){location.href=f},0)};}).call(this);</script></form><div id=\"gac_scont\"></div><div style=\"font-size:83%;min-height:3.5em\"><br></div><span id=\"footer\"><div style=\"font-size:10pt\"><div style=\"margin:19px auto;text-align:center\" id=\"WqQANb\"><a href=\"/intl/ko/ads/\">&#44305;&#44256; &#54532;&#47196;&#44536;&#47016;</a><a href=\"http://www.google.co.kr/intl/ko/services/\">&#48708;&#51592;&#45768;&#49828; &#49556;&#47336;&#49496;</a><a href=\"/intl/ko/about.html\">Google &#51221;&#48372;</a><a href=\"http://www.google.com/setprefdomain?prefdom=KR&amp;prev=http://www.google.co.kr/&amp;sig=K_SwIqhnBIwUTb3jx5oBQKMIr71NU%3D\">Google.co.kr</a></div></div><p style=\"font-size:8pt;color:#70757a\">&copy; 2021 - <a href=\"/intl/ko/policies/privacy/\">&#44060;&#51064;&#51221;&#48372;&#52376;&#47532;&#48169;&#52840;</a> - <a href=\"/intl/ko/policies/terms/\">&#50557;&#44288;</a></p></span></center><script nonce=\"I/eChlDKhZm4n49yrikmYQ==\">(function(){window.google.cdo={height:757,width:1440};(function(){\\nvar a=window.innerWidth,b=window.innerHeight;if(!a||!b){var c=window.document,d=\"CSS1Compat\"==c.compatMode?c.documentElement:c.body;a=d.clientWidth;b=d.clientHeight}a&&b&&(a!=google.cdo.width||b!=google.cdo.height)&&google.log(\"\",\"\",\"/client_204?&atyp=i&biw=\"+a+\"&bih=\"+b+\"&ei=\"+google.kEI);}).call(this);})();</script> <script nonce=\"I/eChlDKhZm4n49yrikmYQ==\">(function(){google.xjs={ck:\\'\\',cs:\\'\\',excm:[]};})();</script>  <script nonce=\"I/eChlDKhZm4n49yrikmYQ==\">(function(){var u=\\'/xjs/_/js/k\\\\x3dxjs.hp.en.U0uNpJAarw4.O/am\\\\x3dACcAVg/d\\\\x3d1/ed\\\\x3d1/esmo\\\\x3d1/rs\\\\x3dACT90oEt2sr6IAdENmU0z26CrgCaVUp1XA/m\\\\x3dsb_he,d\\';\\nvar e=this||self,f=function(a){return a};var g;var l=function(a,b){this.g=b===h?a:\"\"};l.prototype.toString=function(){return this.g+\"\"};var h={};\\nfunction m(){var a=u;google.lx=function(){n(a);google.lx=function(){}};google.bx||google.lx()}\\nfunction n(a){google.timers&&google.timers.load&&google.tick&&google.tick(\"load\",\"xjsls\");var b=document;var c=\"SCRIPT\";\"application/xhtml+xml\"===b.contentType&&(c=c.toLowerCase());c=b.createElement(c);if(void 0===g){b=null;var k=e.trustedTypes;if(k&&k.createPolicy){try{b=k.createPolicy(\"goog#html\",{createHTML:f,createScript:f,createScriptURL:f})}catch(p){e.console&&e.console.error(p.message)}g=b}else g=b}a=(b=g)?b.createScriptURL(a):a;a=new l(a,h);c.src=a instanceof l&&a.constructor===l?a.g:\"type_error:TrustedResourceUrl\";var d;a=(c.ownerDocument&&c.ownerDocument.defaultView||window).document;(d=(b=null===(d=a.querySelector)||void 0===d?void 0:d.call(a,\"script[nonce]\"))?b.nonce||b.getAttribute(\"nonce\")||\"\":\"\")&&c.setAttribute(\"nonce\",d);document.body.appendChild(c);google.psa=!0};setTimeout(function(){m()},0);})();(function(){window.google.xjsu=\\'/xjs/_/js/k\\\\x3dxjs.hp.en.U0uNpJAarw4.O/am\\\\x3dACcAVg/d\\\\x3d1/ed\\\\x3d1/esmo\\\\x3d1/rs\\\\x3dACT90oEt2sr6IAdENmU0z26CrgCaVUp1XA/m\\\\x3dsb_he,d\\';})();function _DumpException(e){throw e;}\\nfunction _F_installCss(c){}\\n(function(){google.jl={attn:false,blt:\\'none\\',chnk:0,dw:false,dwu:true,emtn:0,end:0,ine:false,lls:\\'default\\',pdt:0,rep:0,snet:true,strt:0,ubm:false,uwp:true};})();(function(){var pmc=\\'{\\\\x22d\\\\x22:{},\\\\x22sb_he\\\\x22:{\\\\x22agen\\\\x22:true,\\\\x22cgen\\\\x22:true,\\\\x22client\\\\x22:\\\\x22heirloom-hp\\\\x22,\\\\x22dh\\\\x22:true,\\\\x22dhqt\\\\x22:true,\\\\x22ds\\\\x22:\\\\x22\\\\x22,\\\\x22ffql\\\\x22:\\\\x22ko\\\\x22,\\\\x22fl\\\\x22:true,\\\\x22host\\\\x22:\\\\x22google.com\\\\x22,\\\\x22isbh\\\\x22:28,\\\\x22jsonp\\\\x22:true,\\\\x22msgs\\\\x22:{\\\\x22cibl\\\\x22:\\\\x22&#44160;&#49353;&#50612; &#51648;&#50864;&#44592;\\\\x22,\\\\x22dym\\\\x22:\\\\x22&#51060;&#44163;&#51012; &#52286;&#51004;&#49512;&#45208;&#50836;?\\\\x22,\\\\x22lcky\\\\x22:\\\\x22I&#8217;m Feeling Lucky\\\\x22,\\\\x22lml\\\\x22:\\\\x22&#51088;&#49464;&#55176; &#50508;&#50500;&#48372;&#44592;\\\\x22,\\\\x22oskt\\\\x22:\\\\x22&#51077;&#47141; &#46020;&#44396;\\\\x22,\\\\x22psrc\\\\x22:\\\\x22&#44160;&#49353;&#50612;&#44032; \\\\\\\\u003Ca href\\\\x3d\\\\\\\\\\\\x22/history\\\\\\\\\\\\x22\\\\\\\\u003E&#50937; &#44592;&#47197;\\\\\\\\u003C/a\\\\\\\\u003E&#50640;&#49436; &#49325;&#51228;&#46104;&#50632;&#49845;&#45768;&#45796;.\\\\x22,\\\\x22psrl\\\\x22:\\\\x22&#49325;&#51228;\\\\x22,\\\\x22sbit\\\\x22:\\\\x22&#51060;&#48120;&#51648;&#47196; &#44160;&#49353;\\\\x22,\\\\x22srch\\\\x22:\\\\x22Google &#44160;&#49353;\\\\x22},\\\\x22ovr\\\\x22:{},\\\\x22pq\\\\x22:\\\\x22\\\\x22,\\\\x22refpd\\\\x22:true,\\\\x22refspre\\\\x22:true,\\\\x22rfs\\\\x22:[],\\\\x22sbas\\\\x22:\\\\x220 3px 8px 0 rgba(0,0,0,0.2),0 0 0 1px rgba(0,0,0,0.08)\\\\x22,\\\\x22sbpl\\\\x22:16,\\\\x22sbpr\\\\x22:16,\\\\x22scd\\\\x22:10,\\\\x22stok\\\\x22:\\\\x221AvRZuGfq0StSnvDpnRy70V4kAY\\\\x22,\\\\x22uhde\\\\x22:false}}\\';google.pmc=JSON.parse(pmc);})();</script>        </body></html>'"
      ]
     },
     "execution_count": 8,
     "metadata": {},
     "output_type": "execute_result"
    }
   ],
   "source": [
    "# url 요청 => response 객체 생성 \n",
    "url = 'http://google.com'\n",
    "res = requests.get(url)\n",
    "\n",
    "# 요청 확인 \n",
    "print(res.headers)\n",
    "\n",
    "# response 객체 => 텍스트화 \n",
    "print(f'res = {res}')\n",
    "# res = <Response [200]>\n",
    "\n",
    "html_str = res.text\n",
    "print('='*50)\n",
    "html_str"
   ]
  },
  {
   "cell_type": "code",
   "execution_count": 9,
   "id": "b6e3ff86",
   "metadata": {},
   "outputs": [],
   "source": [
    "# 폴더 생성 후 html 페이지 저장 \n",
    "try:\n",
    "    os.mkdir('output2')\n",
    "except:\n",
    "    pass\n",
    "\n",
    "with open('output2/google.html', 'w') as f:\n",
    "    f.write(html_str)"
   ]
  },
  {
   "cell_type": "code",
   "execution_count": 10,
   "id": "292ab750",
   "metadata": {},
   "outputs": [
    {
     "name": "stdout",
     "output_type": "stream",
     "text": [
      " C 드라이브의 볼륨에는 이름이 없습니다.\n",
      " 볼륨 일련 번호: 2819-FF50\n",
      "\n",
      " C:\\workspace211115\\output2 디렉터리\n",
      "\n",
      "2021-11-18  오후 03:02    <DIR>          .\n",
      "2021-11-18  오후 03:02    <DIR>          ..\n",
      "2021-11-18  오후 03:02            15,251 google.html\n",
      "               1개 파일              15,251 바이트\n",
      "               2개 디렉터리  73,217,404,928 바이트 남음\n"
     ]
    }
   ],
   "source": [
    "ls output2"
   ]
  },
  {
   "cell_type": "markdown",
   "id": "4e5704ca",
   "metadata": {},
   "source": [
    "## bs4를 이용해서 파싱 처리하기 "
   ]
  },
  {
   "cell_type": "markdown",
   "id": "675e235d",
   "metadata": {},
   "source": [
    "## 파싱(Parsing)\n",
    "가공되지 않은 데이타에서 원하는 정보를 추출하는 과정\n",
    "\n",
    "## BeautifulSoup\n",
    "- 외부 라이브러리\n",
    "- pip list 명령으로 설치 확인 : beautifulsoup4\n",
    "- 없다면 설치 : pip install beautifulsoup4\n",
    "- https://www.crummy.com/software/BeautifulSoup/bs4/doc/index.html\n",
    "\n",
    "\n",
    "# 뷰티풀숩 임포트\n",
    "```\n",
    "from bs4 import BeautifulSoup\n",
    "```"
   ]
  },
  {
   "cell_type": "markdown",
   "id": "fa3a3814",
   "metadata": {},
   "source": [
    "### BeautifulSoup을 이용한 작업 과정\n",
    "- requests를 이용해서 url 요청 => response 객체 => html화 (텍스트)\n",
    "- html화된 자료 => 뷰티풀숩 객체화\n",
    "- 뷰티풀숩의 다양한 함수를 이용해서 자료변환(리스트나 딕셔너리 데이타프레임등)\n",
    "- csv 파일등로 저장 (판다스를 이용)"
   ]
  },
  {
   "cell_type": "markdown",
   "id": "ad7ef3d9",
   "metadata": {},
   "source": [
    "###  샘플 스크래핑 url 지정 \n",
    "url = 'http://pythonscraping.com/pages/warandpeace.html'"
   ]
  },
  {
   "cell_type": "code",
   "execution_count": 4,
   "id": "2b6d96d7",
   "metadata": {},
   "outputs": [
    {
     "name": "stdout",
     "output_type": "stream",
     "text": [
      "==================================================\n"
     ]
    }
   ],
   "source": [
    "# url 요청 => response 객체 생성 \n",
    "url = 'http://pythonscraping.com/pages/warandpeace.html'\n",
    "res = requests.get(url)\n",
    "\n",
    "# response 객체 => 텍스트화 \n",
    "html_str = res.text\n",
    "print('='*50)\n",
    "# html_str"
   ]
  },
  {
   "cell_type": "markdown",
   "id": "1cd0b6c9",
   "metadata": {},
   "source": [
    "### html화된 자료 => 뷰티풀숩 객체화\n",
    "\n",
    "- BeautifulSoup(html변수 , 해석기 )\n",
    "- 해석기 : html.parser/html5/xml/lxml\n",
    "- soup = BeautifulSoup(html_str, 'html.parser' )"
   ]
  },
  {
   "cell_type": "code",
   "execution_count": 6,
   "id": "c28c1cfa",
   "metadata": {},
   "outputs": [],
   "source": [
    "soup = BeautifulSoup(html_str, 'html.parser')\n",
    "# soup"
   ]
  },
  {
   "cell_type": "markdown",
   "id": "91bb3409",
   "metadata": {},
   "source": [
    "### bs4의 메서드 이용하기 \n",
    "\n",
    "##### find_all(태그) => 리스트 형태\n",
    "- soup.find_all('span')\n",
    "\n",
    "#### find(태그)\n",
    "- 태그가 여러개일 경우에는 첫번째 태그만 반환 \n",
    "- soup.find('p')\n",
    "\n",
    "#### find(id=아이디명)\n",
    "soup.find(id='text').text\n",
    "\n",
    "#### find(class_=클래스명)\n",
    "soup.find(class_='green')\n",
    "\n",
    "#### 특정 태그의 속성값 출력\n",
    "get(속성명)\n",
    "\n"
   ]
  },
  {
   "cell_type": "code",
   "execution_count": 10,
   "id": "4f1f9756",
   "metadata": {},
   "outputs": [
    {
     "name": "stdout",
     "output_type": "stream",
     "text": [
      "<h1>War and Peace</h1>\n",
      "War and Peace\n"
     ]
    }
   ],
   "source": [
    "# 특정태그 한개 정보 추출 \n",
    "print(soup.find('h1'))\n",
    "\n",
    "# 삽입된 텍스트만 => .text\n",
    "print(soup.find('h1').text)"
   ]
  },
  {
   "cell_type": "code",
   "execution_count": 12,
   "id": "552005d6",
   "metadata": {},
   "outputs": [
    {
     "data": {
      "text/plain": [
       "75"
      ]
     },
     "execution_count": 12,
     "metadata": {},
     "output_type": "execute_result"
    }
   ],
   "source": [
    "# 모든 span 태그 => 리스트 \n",
    "span_list = soup.find_all('span')\n",
    "len(span_list)"
   ]
  },
  {
   "cell_type": "code",
   "execution_count": 14,
   "id": "1ca6c681",
   "metadata": {},
   "outputs": [
    {
     "data": {
      "text/plain": [
       "<span class=\"green\">St. Petersburg</span>"
      ]
     },
     "execution_count": 14,
     "metadata": {},
     "output_type": "execute_result"
    }
   ],
   "source": [
    "span_list[5]"
   ]
  },
  {
   "cell_type": "code",
   "execution_count": 16,
   "id": "c5352733",
   "metadata": {},
   "outputs": [],
   "source": [
    "# 텍스트만 리스트로 저장 \n",
    "span_text_list = []\n",
    "for item in span_list:\n",
    "    # print(item.text)\n",
    "    span_text_list.append(item.text)"
   ]
  },
  {
   "cell_type": "code",
   "execution_count": 18,
   "id": "b538997c",
   "metadata": {},
   "outputs": [
    {
     "data": {
      "text/plain": [
       "[\"Well, Prince, so Genoa and Lucca are now just family estates of the\\nBuonapartes. But I warn you, if you don't tell me that this means war,\\nif you still try to defend the infamies and horrors perpetrated by\\nthat Antichrist- I really believe he is Antichrist- I will have\\nnothing more to do with you and you are no longer my friend, no longer\\nmy 'faithful slave,' as you call yourself! But how do you do? I see\\nI have frightened you- sit down and tell me all the news.\",\n",
       " 'Anna\\nPavlovna Scherer',\n",
       " 'Empress Marya\\nFedorovna']"
      ]
     },
     "execution_count": 18,
     "metadata": {},
     "output_type": "execute_result"
    }
   ],
   "source": [
    "span_text_list[:3]"
   ]
  },
  {
   "cell_type": "code",
   "execution_count": 19,
   "id": "c3525db7",
   "metadata": {},
   "outputs": [
    {
     "data": {
      "text/plain": [
       "41"
      ]
     },
     "execution_count": 19,
     "metadata": {},
     "output_type": "execute_result"
    }
   ],
   "source": [
    "# find_all(class_=클래스명)\n",
    "# green 클래스가 적용된 태그 => 리스트\n",
    "green_list = soup.find_all(class_='green')\n",
    "len(green_list)"
   ]
  },
  {
   "cell_type": "code",
   "execution_count": 20,
   "id": "8a13baef",
   "metadata": {},
   "outputs": [
    {
     "data": {
      "text/plain": [
       "<span class=\"green\">Anna\n",
       "Pavlovna Scherer</span>"
      ]
     },
     "execution_count": 20,
     "metadata": {},
     "output_type": "execute_result"
    }
   ],
   "source": [
    "green_list[0]"
   ]
  },
  {
   "cell_type": "markdown",
   "id": "33415279",
   "metadata": {},
   "source": [
    "### select() 와 select_one()\n",
    "\n",
    "- select(선택자) => 리스트\n",
    "- select_one(선택자) => 1개의 요소"
   ]
  },
  {
   "cell_type": "code",
   "execution_count": 22,
   "id": "7f382678",
   "metadata": {},
   "outputs": [
    {
     "data": {
      "text/plain": [
       "34"
      ]
     },
     "execution_count": 22,
     "metadata": {},
     "output_type": "execute_result"
    }
   ],
   "source": [
    "# red 클래스가 적용된 태그 => 리스트\n",
    "red_list = soup.select('.red')\n",
    "len(red_list)"
   ]
  },
  {
   "cell_type": "code",
   "execution_count": 23,
   "id": "6e90a1ef",
   "metadata": {},
   "outputs": [
    {
     "data": {
      "text/plain": [
       "<span class=\"red\">Well, Prince, so Genoa and Lucca are now just family estates of the\n",
       "Buonapartes. But I warn you, if you don't tell me that this means war,\n",
       "if you still try to defend the infamies and horrors perpetrated by\n",
       "that Antichrist- I really believe he is Antichrist- I will have\n",
       "nothing more to do with you and you are no longer my friend, no longer\n",
       "my 'faithful slave,' as you call yourself! But how do you do? I see\n",
       "I have frightened you- sit down and tell me all the news.</span>"
      ]
     },
     "execution_count": 23,
     "metadata": {},
     "output_type": "execute_result"
    }
   ],
   "source": [
    "red_one = soup.select_one('.red')\n",
    "red_one"
   ]
  },
  {
   "cell_type": "markdown",
   "id": "beb3e372",
   "metadata": {},
   "source": [
    "#### 속성값 추출 \n",
    " - get(속성명)\n",
    " - ['속성명']"
   ]
  },
  {
   "cell_type": "code",
   "execution_count": 26,
   "id": "ec418af8",
   "metadata": {},
   "outputs": [
    {
     "data": {
      "text/plain": [
       "\"Well, Prince, so Genoa and Lucca are now just family estates of the\\nBuonapartes. But I warn you, if you don't tell me that this means war,\\nif you still try to defend the infamies and horrors perpetrated by\\nthat Antichrist- I really believe he is Antichrist- I will have\\nnothing more to do with you and you are no longer my friend, no longer\\nmy 'faithful slave,' as you call yourself! But how do you do? I see\\nI have frightened you- sit down and tell me all the news.\""
      ]
     },
     "execution_count": 26,
     "metadata": {},
     "output_type": "execute_result"
    }
   ],
   "source": [
    "red_one.text"
   ]
  },
  {
   "cell_type": "code",
   "execution_count": 27,
   "id": "34e104e3",
   "metadata": {},
   "outputs": [
    {
     "data": {
      "text/plain": [
       "['red']"
      ]
     },
     "execution_count": 27,
     "metadata": {},
     "output_type": "execute_result"
    }
   ],
   "source": [
    "red_one.get('class')"
   ]
  },
  {
   "cell_type": "code",
   "execution_count": 30,
   "id": "59a1462d",
   "metadata": {},
   "outputs": [
    {
     "data": {
      "text/plain": [
       "['red']"
      ]
     },
     "execution_count": 30,
     "metadata": {},
     "output_type": "execute_result"
    }
   ],
   "source": [
    "red_one['class']"
   ]
  },
  {
   "cell_type": "code",
   "execution_count": 28,
   "id": "44953d2f",
   "metadata": {},
   "outputs": [
    {
     "data": {
      "text/plain": [
       "<span class=\"red\">Well, Prince, so Genoa and Lucca are now just family estates of the\n",
       "Buonapartes. But I warn you, if you don't tell me that this means war,\n",
       "if you still try to defend the infamies and horrors perpetrated by\n",
       "that Antichrist- I really believe he is Antichrist- I will have\n",
       "nothing more to do with you and you are no longer my friend, no longer\n",
       "my 'faithful slave,' as you call yourself! But how do you do? I see\n",
       "I have frightened you- sit down and tell me all the news.</span>"
      ]
     },
     "execution_count": 28,
     "metadata": {},
     "output_type": "execute_result"
    }
   ],
   "source": [
    "red_one"
   ]
  },
  {
   "cell_type": "code",
   "execution_count": 7,
   "id": "ebe2ed53",
   "metadata": {},
   "outputs": [
    {
     "data": {
      "text/plain": [
       "<html>\n",
       "<head>\n",
       "<style>\n",
       ".green{\n",
       "\tcolor:#55ff55;\n",
       "}\n",
       ".red{\n",
       "\tcolor:#ff5555;\n",
       "}\n",
       "#text{\n",
       "\twidth:50%;\n",
       "}\n",
       "</style>\n",
       "</head>\n",
       "<body>\n",
       "<h1>War and Peace</h1>\n",
       "<h2>Chapter 1</h2>\n",
       "<div id=\"text\">\n",
       "\"<span class=\"red\">Well, Prince, so Genoa and Lucca are now just family estates of the\n",
       "Buonapartes. But I warn you, if you don't tell me that this means war,\n",
       "if you still try to defend the infamies and horrors perpetrated by\n",
       "that Antichrist- I really believe he is Antichrist- I will have\n",
       "nothing more to do with you and you are no longer my friend, no longer\n",
       "my 'faithful slave,' as you call yourself! But how do you do? I see\n",
       "I have frightened you- sit down and tell me all the news.</span>\"\n",
       "<p></p>\n",
       "It was in July, 1805, and the speaker was the well-known <span class=\"green\">Anna\n",
       "Pavlovna Scherer</span>, maid of honor and favorite of the <span class=\"green\">Empress Marya\n",
       "Fedorovna</span>. With these words she greeted <span class=\"green\">Prince Vasili Kuragin</span>, a man\n",
       "of high rank and importance, who was the first to arrive at her\n",
       "reception. <span class=\"green\">Anna Pavlovna</span> had had a cough for some days. She was, as\n",
       "she said, suffering from la grippe; grippe being then a new word in\n",
       "<span class=\"green\">St. Petersburg</span>, used only by the elite.\n",
       "<p></p>\n",
       "All her invitations without exception, written in French, and\n",
       "delivered by a scarlet-liveried footman that morning, ran as follows:\n",
       "<p></p>\n",
       "\"<span class=\"red\">If you have nothing better to do, Count [or Prince], and if the\n",
       "prospect of spending an evening with a poor invalid is not too\n",
       "terrible, I shall be very charmed to see you tonight between 7 and 10-\n",
       "Annette Scherer.</span>\"\n",
       "<p></p>\n",
       "\"<span class=\"red\">Heavens! what a virulent attack!</span>\" replied <span class=\"green\">the prince</span>, not in the\n",
       "least disconcerted by this reception. He had just entered, wearing\n",
       "an embroidered court uniform, knee breeches, and shoes, and had\n",
       "stars on his breast and a serene expression on his flat face. He spoke\n",
       "in that refined French in which our grandfathers not only spoke but\n",
       "thought, and with the gentle, patronizing intonation natural to a\n",
       "man of importance who had grown old in society and at court. He went\n",
       "up to <span class=\"green\">Anna Pavlovna</span>, kissed her hand, presenting to her his bald,\n",
       "scented, and shining head, and complacently seated himself on the\n",
       "sofa.\n",
       "<p></p>\n",
       "\"<span class=\"red\">First of all, dear friend, tell me how you are. Set your friend's\n",
       "mind at rest,</span>\" said he without altering his tone, beneath the\n",
       "politeness and affected sympathy of which indifference and even\n",
       "irony could be discerned.\n",
       "<p></p>\n",
       "\"<span class=\"red\">Can one be well while suffering morally? Can one be calm in times\n",
       "like these if one has any feeling?</span>\" said <span class=\"green\">Anna Pavlovna</span>. \"<span class=\"red\">You are\n",
       "staying the whole evening, I hope?</span>\"\n",
       "<p></p>\n",
       "\"<span class=\"red\">And the fete at the English ambassador's? Today is Wednesday. I\n",
       "must put in an appearance there,</span>\" said <span class=\"green\">the prince</span>. \"<span class=\"red\">My daughter is\n",
       "coming for me to take me there.</span>\"\n",
       "<p></p>\n",
       "\"<span class=\"red\">I thought today's fete had been canceled. I confess all these\n",
       "festivities and fireworks are becoming wearisome.</span>\"\n",
       "<p></p>\n",
       "\"<span class=\"red\">If they had known that you wished it, the entertainment would\n",
       "have been put off,</span>\" said <span class=\"green\">the prince</span>, who, like a wound-up clock, by\n",
       "force of habit said things he did not even wish to be believed.\n",
       "<p></p>\n",
       "\"<span class=\"red\">Don't tease! Well, and what has been decided about Novosiltsev's\n",
       "dispatch? You know everything.</span>\"\n",
       "<p></p>\n",
       "\"<span class=\"red\">What can one say about it?</span>\" replied <span class=\"green\">the prince</span> in a cold,\n",
       "listless tone. \"<span class=\"red\">What has been decided? They have decided that\n",
       "Buonaparte has burnt his boats, and I believe that we are ready to\n",
       "burn ours.</span>\"\n",
       "<p></p>\n",
       "<span class=\"green\">Prince Vasili</span> always spoke languidly, like an actor repeating a\n",
       "stale part. <span class=\"green\">Anna Pavlovna</span> Scherer on the contrary, despite her forty\n",
       "years, overflowed with animation and impulsiveness. To be an\n",
       "enthusiast had become her social vocation and, sometimes even when she\n",
       "did not feel like it, she became enthusiastic in order not to\n",
       "disappoint the expectations of those who knew her. The subdued smile\n",
       "which, though it did not suit her faded features, always played\n",
       "round her lips expressed, as in a spoiled child, a continual\n",
       "consciousness of her charming defect, which she neither wished, nor\n",
       "could, nor considered it necessary, to correct.\n",
       "<p></p>\n",
       "In the midst of a conversation on political matters <span class=\"green\">Anna Pavlovna</span>\n",
       "burst out:\n",
       "<p></p>\n",
       "\"<span class=\"red\">Oh, don't speak to me of Austria. Perhaps I don't understand\n",
       "things, but Austria never has wished, and does not wish, for war.\n",
       "She is betraying us! Russia alone must save Europe. Our gracious\n",
       "sovereign recognizes his high vocation and will be true to it. That is\n",
       "the one thing I have faith in! Our good and wonderful sovereign has to\n",
       "perform the noblest role on earth, and he is so virtuous and noble\n",
       "that God will not forsake him. He will fulfill his vocation and\n",
       "crush the hydra of revolution, which has become more terrible than\n",
       "ever in the person of this murderer and villain! We alone must\n",
       "avenge the blood of the just one.... Whom, I ask you, can we rely\n",
       "on?... England with her commercial spirit will not and cannot\n",
       "understand the Emperor Alexander's loftiness of soul. She has\n",
       "refused to evacuate Malta. She wanted to find, and still seeks, some\n",
       "secret motive in our actions. What answer did Novosiltsev get? None.\n",
       "The English have not understood and cannot understand the\n",
       "self-abnegation of our Emperor who wants nothing for himself, but only\n",
       "desires the good of mankind. And what have they promised? Nothing! And\n",
       "what little they have promised they will not perform! Prussia has\n",
       "always declared that Buonaparte is invincible, and that all Europe\n",
       "is powerless before him.... And I don't believe a word that Hardenburg\n",
       "says, or Haugwitz either. This famous Prussian neutrality is just a\n",
       "trap. I have faith only in God and the lofty destiny of our adored\n",
       "monarch. He will save Europe!</span>\"\n",
       "<p></p>\n",
       "She suddenly paused, smiling at her own impetuosity.\n",
       "<p></p>\n",
       "\"<span class=\"red\">I think,</span>\" said <span class=\"green\">the prince</span> with a smile, \"<span class=\"red\">that if you had been\n",
       "sent instead of our dear <span class=\"green\">Wintzingerode</span> you would have captured the\n",
       "<span class=\"green\">King of Prussia</span>'s consent by assault. You are so eloquent. Will you\n",
       "give me a cup of tea?</span>\"\n",
       "<p></p>\n",
       "\"<span class=\"red\">In a moment. A propos,</span>\" she added, becoming calm again, \"<span class=\"red\">I am\n",
       "expecting two very interesting men tonight, <span class=\"green\">le Vicomte de Mortemart</span>,\n",
       "who is connected with the <span class=\"green\">Montmorencys</span> through the <span class=\"green\">Rohans</span>, one of\n",
       "the best French families. He is one of the genuine emigres, the good\n",
       "ones. And also the <span class=\"green\">Abbe Morio</span>. Do you know that profound thinker? He\n",
       "has been received by <span class=\"green\">the Emperor</span>. Had you heard?</span>\"\n",
       "<p></p>\n",
       "\"<span class=\"red\">I shall be delighted to meet them,</span>\" said <span class=\"green\">the prince</span>. \"<span class=\"red\">But tell me,</span>\"\n",
       "he added with studied carelessness as if it had only just occurred\n",
       "to him, though the question he was about to ask was the chief motive\n",
       "of his visit, \"<span class=\"red\">is it true that the Dowager Empress wants Baron Funke\n",
       "to be appointed first secretary at Vienna? The baron by all accounts\n",
       "is a poor creature.</span>\"\n",
       "<p></p>\n",
       "<span class=\"green\">Prince Vasili</span> wished to obtain this post for his son, but others\n",
       "were trying through the <span class=\"green\">Dowager Empress Marya Fedorovna</span> to secure it\n",
       "for <span class=\"green\">the baron</span>.\n",
       "<p></p>\n",
       "<span class=\"green\">Anna Pavlovna</span> almost closed her eyes to indicate that neither she\n",
       "nor anyone else had a right to criticize what <span class=\"green\">the Empress</span> desired or\n",
       "was pleased with.\n",
       "<p></p>\n",
       "\"<span class=\"red\">Baron Funke has been recommended to the Dowager Empress by her\n",
       "sister,</span>\" was all she said, in a dry and mournful tone.\n",
       "<p></p>\n",
       "As she named <span class=\"green\">the Empress</span>, <span class=\"green\">Anna Pavlovna's</span> face suddenly assumed an\n",
       "expression of profound and sincere devotion and respect mingled with\n",
       "sadness, and this occurred every time she mentioned her illustrious\n",
       "patroness. She added that <span class=\"green\">Her Majesty</span> had deigned to show <span class=\"green\">Baron\n",
       "Funke</span>, and again her face clouded over with sadness.\n",
       "<p></p>\n",
       "<span class=\"green\">The prince</span> was silent and looked indifferent. But, with the\n",
       "womanly and courtierlike quickness and tact habitual to her, <span class=\"green\">Anna\n",
       "Pavlovna</span> wished both to rebuke him (for daring to speak he had done of\n",
       "a man recommended to <span class=\"green\">the Empress</span>) and at the same time to console him,\n",
       "so she said:\n",
       "<p></p>\n",
       "\"<span class=\"red\">Now about your family. Do you know that since your daughter came\n",
       "out everyone has been enraptured by her? They say she is amazingly\n",
       "beautiful.</span>\"\n",
       "<p></p>\n",
       "<span class=\"green\">The prince</span> bowed to signify his respect and gratitude.\n",
       "<p></p>\n",
       "\"<span class=\"red\">I often think,</span>\" she continued after a short pause, drawing nearer\n",
       "to the prince and smiling amiably at him as if to show that\n",
       "political and social topics were ended and the time had come for\n",
       "intimate conversation- \"<span class=\"red\">I often think how unfairly sometimes the\n",
       "joys of life are distributed. Why has fate given you two such splendid\n",
       "children? I don't speak of <span class=\"green\">Anatole</span>, your youngest. I don't like\n",
       "him,</span>\" she added in a tone admitting of no rejoinder and raising her\n",
       "eyebrows. \"<span class=\"red\">Two such charming children. And really you appreciate\n",
       "them less than anyone, and so you don't deserve to have them.</span>\"\n",
       "<p></p>\n",
       "And she smiled her ecstatic smile.\n",
       "<p></p>\n",
       "\"<span class=\"red\">I can't help it,</span>\" said <span class=\"green\">the prince</span>. \"<span class=\"red\">Lavater would have said I\n",
       "lack the bump of paternity.</span>\"\n",
       "<p></p>\n",
       "\"<span class=\"red\">Don't joke; I mean to have a serious talk with you. Do you know I\n",
       "am dissatisfied with your younger son? Between ourselves</span>\" (and her\n",
       "face assumed its melancholy expression), \"<span class=\"red\">he was mentioned at Her\n",
       "Majesty's and you were pitied....</span>\"\n",
       "<p></p>\n",
       "<span class=\"green\">The prince</span> answered nothing, but she looked at him significantly,\n",
       "awaiting a reply. He frowned.\n",
       "<p></p>\n",
       "\"<span class=\"red\">What would you have me do?</span>\" he said at last. \"<span class=\"red\">You know I did all\n",
       "a father could for their education, and they have both turned out\n",
       "fools. Hippolyte is at least a quiet fool, but Anatole is an active\n",
       "one. That is the only difference between them.</span>\" He said this smiling\n",
       "in a way more natural and animated than usual, so that the wrinkles\n",
       "round his mouth very clearly revealed something unexpectedly coarse\n",
       "and unpleasant.\n",
       "<p></p>\n",
       "\"<span class=\"red\">And why are children born to such men as you? If you were not a\n",
       "father there would be nothing I could reproach you with,</span>\" said <span class=\"green\">Anna\n",
       "Pavlovna</span>, looking up pensively.\n",
       "<p></p>\n",
       "\"<span class=\"red\">I am your faithful slave and to you alone I can confess that my\n",
       "children are the bane of my life. It is the cross I have to bear. That\n",
       "is how I explain it to myself. It can't be helped!</span>\"\n",
       "<p></p>\n",
       "He said no more, but expressed his resignation to cruel fate by a\n",
       "gesture. <span class=\"green\">Anna Pavlovna</span> meditated.\n",
       "</div>\n",
       "</body>\n",
       "</html>"
      ]
     },
     "execution_count": 7,
     "metadata": {},
     "output_type": "execute_result"
    }
   ],
   "source": [
    "soup"
   ]
  },
  {
   "cell_type": "markdown",
   "id": "fb2ab7d4",
   "metadata": {},
   "source": [
    "# 예제 1\n",
    "\n",
    "알렉사 사이트의 50위  https://www.alexa.com/topsites\n"
   ]
  },
  {
   "cell_type": "code",
   "execution_count": 32,
   "id": "5a8bcaf1",
   "metadata": {},
   "outputs": [],
   "source": [
    "# url 요청 => response 객체 생성 \n",
    "url = 'https://www.alexa.com/topsites/countries/KR'\n",
    "res = requests.get(url)\n",
    "\n",
    "# response 객체 => 텍스트화 \n",
    "html_str = res.text\n",
    "# html_str"
   ]
  },
  {
   "cell_type": "code",
   "execution_count": 35,
   "id": "3ee522d2",
   "metadata": {},
   "outputs": [],
   "source": [
    "# soup 객체화 \n",
    "soup = BeautifulSoup(html_str, 'html.parser')\n",
    "# soup"
   ]
  },
  {
   "cell_type": "code",
   "execution_count": 36,
   "id": "d9440efa",
   "metadata": {},
   "outputs": [
    {
     "data": {
      "text/plain": [
       "50"
      ]
     },
     "execution_count": 36,
     "metadata": {},
     "output_type": "execute_result"
    }
   ],
   "source": [
    "# 리스트로 저장 \n",
    "div_list = soup.find_all(class_='tr site-listing')\n",
    "len(div_list)"
   ]
  },
  {
   "cell_type": "code",
   "execution_count": 37,
   "id": "e5374ebe",
   "metadata": {},
   "outputs": [
    {
     "data": {
      "text/plain": [
       "<div class=\"tr site-listing\">\n",
       "<div class=\"td\">50</div>\n",
       "<div class=\"td DescriptionCell\">\n",
       "<p class=\"\">\n",
       "<a href=\"/siteinfo/ebay.com\">Ebay.com</a>\n",
       "</p>\n",
       "</div>\n",
       "<div class=\"td right\"><p>9:60</p></div>\n",
       "<div class=\"td right\"><p>7.80</p></div>\n",
       "<div class=\"td right\"><p>16.70%</p></div>\n",
       "<div class=\"td right\"><p>81,753</p></div>\n",
       "</div>"
      ]
     },
     "execution_count": 37,
     "metadata": {},
     "output_type": "execute_result"
    }
   ],
   "source": [
    "div_list[-1]"
   ]
  },
  {
   "cell_type": "code",
   "execution_count": 44,
   "id": "e9210a13",
   "metadata": {},
   "outputs": [
    {
     "name": "stdout",
     "output_type": "stream",
     "text": [
      "50\n",
      "Ebay.com\n",
      "/siteinfo/ebay.com\n",
      "9:60\n",
      "7.80\n"
     ]
    }
   ],
   "source": [
    "# 순위 rank\n",
    "print(div_list[-1].select_one('.td').text)\n",
    "# 사이트 제목 title\n",
    "print(div_list[-1].find('a').text)\n",
    "# 사이트 URL \n",
    "print(div_list[-1].find('a')['href'])\n",
    "# daily_time\n",
    "print(div_list[-1].find_all(class_='td right')[0].text)\n",
    "# daily_pageviews\n",
    "print(div_list[-1].find_all(class_='td right')[1].text)"
   ]
  },
  {
   "cell_type": "code",
   "execution_count": 45,
   "id": "270d312e",
   "metadata": {},
   "outputs": [],
   "source": [
    "# 2차원 리스트 저장 \n",
    "temp_list = []\n",
    "for row in div_list:\n",
    "    rank = row.select_one('.td').text\n",
    "    title = row.find('a').text\n",
    "    daily_time = row.find_all(class_='td right')[0].text\n",
    "    daily_pageviews = row.find_all(class_='td right')[1].text\n",
    "    temp_list.append([rank, title, daily_time, daily_pageviews])"
   ]
  },
  {
   "cell_type": "code",
   "execution_count": 46,
   "id": "2331cf4e",
   "metadata": {},
   "outputs": [
    {
     "data": {
      "text/html": [
       "<div>\n",
       "<style scoped>\n",
       "    .dataframe tbody tr th:only-of-type {\n",
       "        vertical-align: middle;\n",
       "    }\n",
       "\n",
       "    .dataframe tbody tr th {\n",
       "        vertical-align: top;\n",
       "    }\n",
       "\n",
       "    .dataframe thead th {\n",
       "        text-align: right;\n",
       "    }\n",
       "</style>\n",
       "<table border=\"1\" class=\"dataframe\">\n",
       "  <thead>\n",
       "    <tr style=\"text-align: right;\">\n",
       "      <th></th>\n",
       "      <th>rank</th>\n",
       "      <th>title</th>\n",
       "      <th>daily_time</th>\n",
       "      <th>daily_pageviews</th>\n",
       "    </tr>\n",
       "  </thead>\n",
       "  <tbody>\n",
       "    <tr>\n",
       "      <th>0</th>\n",
       "      <td>1</td>\n",
       "      <td>Google.com</td>\n",
       "      <td>17:29</td>\n",
       "      <td>18.51</td>\n",
       "    </tr>\n",
       "    <tr>\n",
       "      <th>1</th>\n",
       "      <td>2</td>\n",
       "      <td>Naver.com</td>\n",
       "      <td>15:13</td>\n",
       "      <td>13.10</td>\n",
       "    </tr>\n",
       "    <tr>\n",
       "      <th>2</th>\n",
       "      <td>3</td>\n",
       "      <td>Youtube.com</td>\n",
       "      <td>19:33</td>\n",
       "      <td>10.57</td>\n",
       "    </tr>\n",
       "    <tr>\n",
       "      <th>3</th>\n",
       "      <td>4</td>\n",
       "      <td>Daum.net</td>\n",
       "      <td>12:09</td>\n",
       "      <td>8.66</td>\n",
       "    </tr>\n",
       "    <tr>\n",
       "      <th>4</th>\n",
       "      <td>5</td>\n",
       "      <td>Tistory.com</td>\n",
       "      <td>5:56</td>\n",
       "      <td>4.03</td>\n",
       "    </tr>\n",
       "  </tbody>\n",
       "</table>\n",
       "</div>"
      ],
      "text/plain": [
       "  rank        title daily_time daily_pageviews\n",
       "0    1   Google.com      17:29           18.51\n",
       "1    2    Naver.com      15:13           13.10\n",
       "2    3  Youtube.com      19:33           10.57\n",
       "3    4     Daum.net      12:09            8.66\n",
       "4    5  Tistory.com       5:56            4.03"
      ]
     },
     "execution_count": 46,
     "metadata": {},
     "output_type": "execute_result"
    }
   ],
   "source": [
    "# 데이타프레임으로 저장 \n",
    "df_alexa = pd.DataFrame(temp_list, columns=['rank', 'title', 'daily_time', 'daily_pageviews'])\n",
    "df_alexa.head()"
   ]
  },
  {
   "cell_type": "code",
   "execution_count": 47,
   "id": "f9bbbbb1",
   "metadata": {},
   "outputs": [
    {
     "data": {
      "text/html": [
       "<div>\n",
       "<style scoped>\n",
       "    .dataframe tbody tr th:only-of-type {\n",
       "        vertical-align: middle;\n",
       "    }\n",
       "\n",
       "    .dataframe tbody tr th {\n",
       "        vertical-align: top;\n",
       "    }\n",
       "\n",
       "    .dataframe thead th {\n",
       "        text-align: right;\n",
       "    }\n",
       "</style>\n",
       "<table border=\"1\" class=\"dataframe\">\n",
       "  <thead>\n",
       "    <tr style=\"text-align: right;\">\n",
       "      <th></th>\n",
       "      <th>rank</th>\n",
       "      <th>title</th>\n",
       "      <th>daily_time</th>\n",
       "      <th>daily_pageviews</th>\n",
       "    </tr>\n",
       "  </thead>\n",
       "  <tbody>\n",
       "    <tr>\n",
       "      <th>45</th>\n",
       "      <td>46</td>\n",
       "      <td>Jobkorea.co.kr</td>\n",
       "      <td>5:51</td>\n",
       "      <td>5.70</td>\n",
       "    </tr>\n",
       "    <tr>\n",
       "      <th>46</th>\n",
       "      <td>47</td>\n",
       "      <td>Hankyung.com</td>\n",
       "      <td>2:16</td>\n",
       "      <td>2.54</td>\n",
       "    </tr>\n",
       "    <tr>\n",
       "      <th>47</th>\n",
       "      <td>48</td>\n",
       "      <td>Yna.co.kr</td>\n",
       "      <td>4:21</td>\n",
       "      <td>3.77</td>\n",
       "    </tr>\n",
       "    <tr>\n",
       "      <th>48</th>\n",
       "      <td>49</td>\n",
       "      <td>Inven.co.kr</td>\n",
       "      <td>6:18</td>\n",
       "      <td>6.41</td>\n",
       "    </tr>\n",
       "    <tr>\n",
       "      <th>49</th>\n",
       "      <td>50</td>\n",
       "      <td>Ebay.com</td>\n",
       "      <td>9:60</td>\n",
       "      <td>7.80</td>\n",
       "    </tr>\n",
       "  </tbody>\n",
       "</table>\n",
       "</div>"
      ],
      "text/plain": [
       "   rank           title daily_time daily_pageviews\n",
       "45   46  Jobkorea.co.kr       5:51            5.70\n",
       "46   47    Hankyung.com       2:16            2.54\n",
       "47   48       Yna.co.kr       4:21            3.77\n",
       "48   49     Inven.co.kr       6:18            6.41\n",
       "49   50        Ebay.com       9:60            7.80"
      ]
     },
     "execution_count": 47,
     "metadata": {},
     "output_type": "execute_result"
    }
   ],
   "source": [
    "df_alexa.tail()"
   ]
  },
  {
   "cell_type": "code",
   "execution_count": 49,
   "id": "572b38a9",
   "metadata": {},
   "outputs": [],
   "source": [
    "# csv 파일로 저장 \n",
    "df_alexa.to_csv('output2/alexa.csv', index=False)"
   ]
  },
  {
   "cell_type": "code",
   "execution_count": 50,
   "id": "425635fb",
   "metadata": {},
   "outputs": [
    {
     "name": "stdout",
     "output_type": "stream",
     "text": [
      " C 드라이브의 볼륨에는 이름이 없습니다.\n",
      " 볼륨 일련 번호: 2819-FF50\n",
      "\n",
      " C:\\workspace211115\\output2 디렉터리\n",
      "\n",
      "2021-11-18  오후 04:33    <DIR>          .\n",
      "2021-11-18  오후 04:33    <DIR>          ..\n",
      "2021-11-18  오후 04:33             1,308 alexa.csv\n",
      "2021-11-18  오후 03:02            15,251 google.html\n",
      "               2개 파일              16,559 바이트\n",
      "               2개 디렉터리  75,282,919,424 바이트 남음\n"
     ]
    }
   ],
   "source": [
    "ls output2"
   ]
  },
  {
   "cell_type": "code",
   "execution_count": null,
   "id": "b162fc5c",
   "metadata": {},
   "outputs": [],
   "source": []
  },
  {
   "cell_type": "code",
   "execution_count": null,
   "id": "26dd9325",
   "metadata": {},
   "outputs": [],
   "source": []
  },
  {
   "cell_type": "code",
   "execution_count": null,
   "id": "792f019c",
   "metadata": {},
   "outputs": [],
   "source": []
  },
  {
   "cell_type": "code",
   "execution_count": null,
   "id": "28459dbf",
   "metadata": {},
   "outputs": [],
   "source": []
  },
  {
   "cell_type": "code",
   "execution_count": null,
   "id": "400e7943",
   "metadata": {},
   "outputs": [],
   "source": []
  },
  {
   "cell_type": "code",
   "execution_count": null,
   "id": "7c1e7541",
   "metadata": {},
   "outputs": [],
   "source": []
  },
  {
   "cell_type": "code",
   "execution_count": null,
   "id": "1440640b",
   "metadata": {},
   "outputs": [],
   "source": []
  },
  {
   "cell_type": "code",
   "execution_count": null,
   "id": "24eea0d7",
   "metadata": {},
   "outputs": [],
   "source": []
  },
  {
   "cell_type": "code",
   "execution_count": null,
   "id": "d786c902",
   "metadata": {},
   "outputs": [],
   "source": []
  }
 ],
 "metadata": {
  "kernelspec": {
   "display_name": "Python 3",
   "language": "python",
   "name": "python3"
  },
  "language_info": {
   "codemirror_mode": {
    "name": "ipython",
    "version": 3
   },
   "file_extension": ".py",
   "mimetype": "text/x-python",
   "name": "python",
   "nbconvert_exporter": "python",
   "pygments_lexer": "ipython3",
   "version": "3.8.8"
  }
 },
 "nbformat": 4,
 "nbformat_minor": 5
}
