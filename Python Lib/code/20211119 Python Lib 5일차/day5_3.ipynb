{
 "cells": [
  {
   "cell_type": "code",
   "execution_count": 1,
   "id": "43fee299",
   "metadata": {},
   "outputs": [
    {
     "data": {
      "text/html": [
       "<style>.container { font-weight: bold !important; }</style>"
      ],
      "text/plain": [
       "<IPython.core.display.HTML object>"
      ]
     },
     "metadata": {},
     "output_type": "display_data"
    },
    {
     "data": {
      "text/html": [
       "<style>.container { width: 100% !important; }</style>"
      ],
      "text/plain": [
       "<IPython.core.display.HTML object>"
      ]
     },
     "metadata": {},
     "output_type": "display_data"
    }
   ],
   "source": [
    "# 쥬피터노트북 셀 스타일 조절 \n",
    "from IPython.core.display import display, HTML\n",
    "display(HTML(\"<style>.container { font-weight: bold !important; }</style>\"))\n",
    "display(HTML(\"<style>.container { width: 100% !important; }</style>\"))\n",
    "\n",
    "import warnings\n",
    "warnings.filterwarnings(action='ignore')"
   ]
  },
  {
   "cell_type": "code",
   "execution_count": 48,
   "id": "6b9e3c52",
   "metadata": {},
   "outputs": [],
   "source": [
    "import requests\n",
    "import json\n",
    "import pandas as pd\n",
    "\n",
    "import os\n",
    "import sys\n",
    "import urllib.request\n"
   ]
  },
  {
   "cell_type": "markdown",
   "id": "e019909c",
   "metadata": {},
   "source": [
    "## json 샘플 사이트 이용하기\n",
    "- http://jsonplaceholder.typicode.com/\n",
    "- url 요청 => json 데이타 => 리스트 딕셔너리 => 데이타프레임"
   ]
  },
  {
   "cell_type": "code",
   "execution_count": 4,
   "id": "83997336",
   "metadata": {},
   "outputs": [
    {
     "data": {
      "text/plain": [
       "str"
      ]
     },
     "execution_count": 4,
     "metadata": {},
     "output_type": "execute_result"
    }
   ],
   "source": [
    "# 1) json url 요청  => 문자열\n",
    "url = 'http://jsonplaceholder.typicode.com/todos'\n",
    "res = requests.get(url)\n",
    "text = res.text\n",
    "type(text)"
   ]
  },
  {
   "cell_type": "code",
   "execution_count": 6,
   "id": "e269ad0f",
   "metadata": {},
   "outputs": [],
   "source": [
    "# text"
   ]
  },
  {
   "cell_type": "code",
   "execution_count": 7,
   "id": "fc43057f",
   "metadata": {},
   "outputs": [
    {
     "data": {
      "text/plain": [
       "list"
      ]
     },
     "execution_count": 7,
     "metadata": {},
     "output_type": "execute_result"
    }
   ],
   "source": [
    "# 2) 리스트 딕셔너리 구조화 \n",
    "# 딕셔너리가 삽입된 리스트 \n",
    "todos_list = json.loads(text)\n",
    "type(todos_list)"
   ]
  },
  {
   "cell_type": "code",
   "execution_count": 9,
   "id": "a13ed105",
   "metadata": {},
   "outputs": [
    {
     "data": {
      "text/plain": [
       "({'userId': 1, 'id': 1, 'title': 'delectus aut autem', 'completed': False},\n",
       " dict)"
      ]
     },
     "execution_count": 9,
     "metadata": {},
     "output_type": "execute_result"
    }
   ],
   "source": [
    "todos_list[0], type(todos_list[0])"
   ]
  },
  {
   "cell_type": "code",
   "execution_count": 11,
   "id": "eba6ed6c",
   "metadata": {},
   "outputs": [
    {
     "data": {
      "text/plain": [
       "(200, 4)"
      ]
     },
     "execution_count": 11,
     "metadata": {},
     "output_type": "execute_result"
    }
   ],
   "source": [
    "# 3) 리스트 딕셔너리 => 데이타프레임 \n",
    "# pd.DataFrame(리스트딕셔너리)\n",
    "df_todos = pd.DataFrame(todos_list)\n",
    "df_todos.shape"
   ]
  },
  {
   "cell_type": "code",
   "execution_count": 13,
   "id": "f19d17da",
   "metadata": {},
   "outputs": [
    {
     "data": {
      "text/html": [
       "<div>\n",
       "<style scoped>\n",
       "    .dataframe tbody tr th:only-of-type {\n",
       "        vertical-align: middle;\n",
       "    }\n",
       "\n",
       "    .dataframe tbody tr th {\n",
       "        vertical-align: top;\n",
       "    }\n",
       "\n",
       "    .dataframe thead th {\n",
       "        text-align: right;\n",
       "    }\n",
       "</style>\n",
       "<table border=\"1\" class=\"dataframe\">\n",
       "  <thead>\n",
       "    <tr style=\"text-align: right;\">\n",
       "      <th></th>\n",
       "      <th>userId</th>\n",
       "      <th>id</th>\n",
       "      <th>title</th>\n",
       "      <th>completed</th>\n",
       "    </tr>\n",
       "  </thead>\n",
       "  <tbody>\n",
       "    <tr>\n",
       "      <th>81</th>\n",
       "      <td>5</td>\n",
       "      <td>82</td>\n",
       "      <td>voluptates eum voluptas et dicta</td>\n",
       "      <td>False</td>\n",
       "    </tr>\n",
       "    <tr>\n",
       "      <th>149</th>\n",
       "      <td>8</td>\n",
       "      <td>150</td>\n",
       "      <td>eos amet tempore laudantium fugit a</td>\n",
       "      <td>False</td>\n",
       "    </tr>\n",
       "    <tr>\n",
       "      <th>65</th>\n",
       "      <td>4</td>\n",
       "      <td>66</td>\n",
       "      <td>rerum eum molestias autem voluptatum sit optio</td>\n",
       "      <td>False</td>\n",
       "    </tr>\n",
       "    <tr>\n",
       "      <th>127</th>\n",
       "      <td>7</td>\n",
       "      <td>128</td>\n",
       "      <td>eius omnis est qui voluptatem autem</td>\n",
       "      <td>False</td>\n",
       "    </tr>\n",
       "    <tr>\n",
       "      <th>37</th>\n",
       "      <td>2</td>\n",
       "      <td>38</td>\n",
       "      <td>totam quia non</td>\n",
       "      <td>False</td>\n",
       "    </tr>\n",
       "  </tbody>\n",
       "</table>\n",
       "</div>"
      ],
      "text/plain": [
       "     userId   id                                           title  completed\n",
       "81        5   82                voluptates eum voluptas et dicta      False\n",
       "149       8  150             eos amet tempore laudantium fugit a      False\n",
       "65        4   66  rerum eum molestias autem voluptatum sit optio      False\n",
       "127       7  128             eius omnis est qui voluptatem autem      False\n",
       "37        2   38                                  totam quia non      False"
      ]
     },
     "execution_count": 13,
     "metadata": {},
     "output_type": "execute_result"
    }
   ],
   "source": [
    "df_todos.sample(5)"
   ]
  },
  {
   "cell_type": "markdown",
   "id": "ccdf0213",
   "metadata": {},
   "source": [
    "# NAVER API 검색 서비스\n",
    "\n",
    "- 네이버 아이디 가 필요함 \n",
    "- 네이버개발자 센터 https://developers.naver.com/main/\n",
    "- 애플리케이션 - 검색 / 안드로이드 / 아이디와 시크릿 발급 확인 "
   ]
  },
  {
   "cell_type": "code",
   "execution_count": 49,
   "id": "955d67fb",
   "metadata": {},
   "outputs": [],
   "source": [
    "# 발급받은 아이디와 시크릿 정보를 변수로 저장 \n",
    "\n",
    "client_id = 'lTW4uwh0N0KtuKSVIKfe'\n",
    "client_secret = 'Z2JgISoOw0'"
   ]
  },
  {
   "cell_type": "code",
   "execution_count": 84,
   "id": "bcfd80fe",
   "metadata": {},
   "outputs": [
    {
     "name": "stdout",
     "output_type": "stream",
     "text": [
      "{\n",
      "\"lastBuildDate\": \"Fri, 19 Nov 2021 14:44:44 +0900\",\n",
      "\"total\": 298624,\n",
      "\"start\": 1,\n",
      "\"display\": 20,\n",
      "\"items\": [\n",
      "{\n",
      "\"title\": \"<b>머신러닝</b> 딥러닝과 함께 습득하자!\",\n",
      "\"link\": \"https:\\/\\/blog.naver.com\\/kevinbuff?Redirect=Log&logNo=222570263789\",\n",
      "\"description\": \"<b>머신러닝</b> 커리큘럼은 크게 5단계로 구분할 수 있었는데요. 1단계는 플랫폼을 활용하여 응용소프트웨어를 개발하기. 2단계는 빅데이터 기술과 머신 및 딥러닝 스킬을 바탕으로 컴퓨터가 스스로 학습하여 결저할... \",\n",
      "\"bloggername\": \"fLOwer_moVEment\",\n",
      "\"bloggerlink\": \"https://blog.naver.com/kevinbuff\",\n",
      "\"postdate\": \"20211116\"\n",
      "\n",
      "},\n",
      "{\n",
      "\"title\": \"미리듣는 싱가폴 대학강의, <b>머신러닝</b>과 AI 전공의 미래는?\",\n",
      "\"link\": \"https:\\/\\/blog.naver.com\\/mongssing?Redirect=Log&logNo=222365952132\",\n",
      "\"description\": \"미리들어보는 싱가폴 대학강의, 이번 전공은 <b>머신러닝</b>과 AI입니다. 4차 산업, 디지털시대 현재까지... 그중에서 특히 인공지능과 <b>머신러닝</b>은 더욱더 빠른 속도로 진화하고 앞으로 얼마나 어떻게... \",\n",
      "\"bloggername\": \"ⓜ 몽선생블로그\",\n",
      "\"bloggerlink\": \"https://blog.naver.com/mongssing\",\n",
      "\"postdate\": \"20210525\"\n",
      "\n",
      "},\n",
      "{\n",
      "\"title\": \"파이썬학원 3개월동안 <b>머신러닝</b> 배워보기\",\n",
      "\"link\": \"https:\\/\\/blog.naver.com\\/iamwandering?Redirect=Log&logNo=222482352970\",\n",
      "\"description\": \"특히 그 중에서도 빅데이터 기반의 <b>머신러닝</b>을 배워보고싶었더랬죠. 생각보다 많은 분들께서 <b>머신러닝</b>이 어떤 분야인지 잘 모르시고 계시는 것에 깜-짝 놀랐었어요. 역시 관심사가 아니라면 잘 모를 수 밖에... \",\n",
      "\"bloggername\": \"매일이 행복\",\n",
      "\"bloggerlink\": \"https://blog.naver.com/iamwandering\",\n",
      "\"postdate\": \"20210824\"\n",
      "\n",
      "},\n",
      "{\n",
      "\"title\": \"신촌컴퓨터학원에서 <b>머신러닝</b> 배우기\",\n",
      "\"link\": \"https:\\/\\/blog.naver.com\\/skyinjong?Redirect=Log&logNo=222448700744\",\n",
      "\"description\": \"과정은 <b>머신러닝</b> 수업이였어요. 둘은 뗄레야 뗄 수 없는 관계이기 때문에 한꺼번에 배워두면 좋겠다는... 오늘은 특히 신촌컴퓨터학원의 <b>머신러닝</b> 과정에 대해서 말씀드리고 싶은데요. 제가 학원을 다닌 이후로... \",\n",
      "\"bloggername\": \"니야옹( *ฅ́˘ฅ̀*)\",\n",
      "\"bloggerlink\": \"https://blog.naver.com/skyinjong\",\n",
      "\"postdate\": \"20210728\"\n",
      "\n",
      "},\n",
      "{\n",
      "\"title\": \"빅데이터 활용이 용이한 중국, <b>머신러닝</b>의 강자 미국, 누가... \",\n",
      "\"link\": \"https:\\/\\/blog.naver.com\\/zhupengli?Redirect=Log&logNo=222518897129\",\n",
      "\"description\": \"#중국 #경제 #사회 #정치 #외교 #문화 #브랜드 #기업 #안면인식 #기술 #미중 #패권 #빅데이터 #<b>머신러닝</b>... 로봇 #<b>머신러닝</b> #시스템 #업그레이드 #상탕커지 #센스타임 #이투커지 #쾅스커지 #윈충커지 #클라우드워크... \",\n",
      "\"bloggername\": \"飞上의 中国바라보기\",\n",
      "\"bloggerlink\": \"https://blog.naver.com/zhupengli\",\n",
      "\"postdate\": \"20210927\"\n",
      "\n",
      "},\n",
      "{\n",
      "\"title\": \"[모델 튜닝] <b>머신러닝</b> Validation Set 만드는 이유와 방법\",\n",
      "\"link\": \"https:\\/\\/blog.naver.com\\/koys007?Redirect=Log&logNo=222547486681\",\n",
      "\"description\": \"이번 포스팅에서는 <b>머신러닝</b> 모델을 구현할 때 Validation Set을 만드는 이유와 방법을... 정직하게 코딩하며 배우는 딥러닝 입문&gt; 이지스퍼블리싱, 박해선 지음 끝. 출처 :: https://hyjykelly.... \",\n",
      "\"bloggername\": \"koys007님의 블로그\",\n",
      "\"bloggerlink\": \"https://blog.naver.com/koys007\",\n",
      "\"postdate\": \"20211025\"\n",
      "\n",
      "},\n",
      "{\n",
      "\"title\": \"<b>머신러닝</b> 딥러닝 차이 및 취업 관점의 시선\",\n",
      "\"link\": \"https:\\/\\/blog.naver.com\\/ridesafe?Redirect=Log&logNo=222488624553\",\n",
      "\"description\": \"<b>머신러닝</b> 딥러닝 차이 및 취업 관점의 시선 <b>머신러닝</b> &amp; 딥러닝 그리고 AI(인공지능) 1950년대부터 있던 기술이라하는데 왜 갑자기 급부상하게 되었을까? 기술의 발전으로 인해 우리 머리속의 네트워크를... \",\n",
      "\"bloggername\": \"비비디 바비디 부\",\n",
      "\"bloggerlink\": \"https://blog.naver.com/ridesafe\",\n",
      "\"postdate\": \"20210830\"\n",
      "\n",
      "},\n",
      "{\n",
      "\"title\": \"<b>머신러닝</b>은 해상운송에 어떻게 적용되는가\",\n",
      "\"link\": \"https:\\/\\/blog.naver.com\\/jollyjim?Redirect=Log&logNo=222458581678\",\n",
      "\"description\": \"<b>머신러닝</b>은 인공지능(Artificial Intelligence)의 한 분류로서 AI를 수행하는 하나의 방법이다. <b>머신러닝</b>을... 예를 들어, 엔진데이터와 선박제원과 특성 데이터 등을 활용하여 연료 사용을 예측하는데 마신러닝... \",\n",
      "\"bloggername\": \"김웅규의 항해이야기\",\n",
      "\"bloggerlink\": \"https://blog.naver.com/jollyjim\",\n",
      "\"postdate\": \"20210805\"\n",
      "\n",
      "},\n",
      "{\n",
      "\"title\": \"천재 통계학자 Breiman 그리고 <b>머신러닝</b> CART\",\n",
      "\"link\": \"https:\\/\\/blog.naver.com\\/jiehyunkim?Redirect=Log&logNo=222571942951\",\n",
      "\"description\": \"스마트팩토리로 변모하는 우리 제조기업은 통계적공정관리(SPC) 뿐만 아니라 <b>머신러닝</b> 기법들에 대해선도 관심을 가지기 시작하였습니다. <b>머신러닝</b>의 대표적인 기법으로 CART와 Random Forest가... \",\n",
      "\"bloggername\": \"데이터랩스\",\n",
      "\"bloggerlink\": \"https://blog.naver.com/jiehyunkim\",\n",
      "\"postdate\": \"20211118\"\n",
      "\n",
      "},\n",
      "{\n",
      "\"title\": \"디트로이트 비컴 휴먼을 통해서 알아본 딥러닝과 <b>머신러닝</b> 뜻을... \",\n",
      "\"link\": \"https:\\/\\/blog.naver.com\\/nightd?Redirect=Log&logNo=222400506509\",\n",
      "\"description\": \"딥러닝 <b>머신러닝</b>이라고 하면 선뜻 그 뜻을 이해하기 쉽지는 않다. 2016년도에 대중에게 처음 선을 보인 알파고를 보고 딥러닝이 아닌가? 생각하겠지만 알파고는 엄연히 얘기하자면 인공지능으로 기계를... \",\n",
      "\"bloggername\": \"스마트 라이프 연결고리\",\n",
      "\"bloggerlink\": \"https://blog.naver.com/nightd\",\n",
      "\"postdate\": \"20210616\"\n",
      "\n",
      "},\n",
      "{\n",
      "\"title\": \"퀀트투자 <b>머신러닝</b>으로 데이터를 분석하는 퀸트 주식 투자... \",\n",
      "\"link\": \"https:\\/\\/blog.naver.com\\/oksk2002kr?Redirect=Log&logNo=222509434189\",\n",
      "\"description\": \"퀸트 투자를 다양한 종목 정보, 지표 도구, <b>머신러닝</b>을 통하여 원칙을 세우자를 이야기하고 있습니다.... 종목을 과거 데이터를 <b>머신러닝</b>으로 백테스트 검증을 하고 투자 분석 알고리즘은 견고하게 전략을... \",\n",
      "\"bloggername\": \"티보의 IT공작소\",\n",
      "\"bloggerlink\": \"https://blog.naver.com/oksk2002kr\",\n",
      "\"postdate\": \"20210917\"\n",
      "\n",
      "},\n",
      "{\n",
      "\"title\": \"빅데이터학원 : 분석부터 <b>머신러닝</b>까지\",\n",
      "\"link\": \"https:\\/\\/blog.naver.com\\/urmyver?Redirect=Log&logNo=222310037959\",\n",
      "\"description\": \"이번 포스팅에선 빅데이터를 활용하는 분야들과 <b>머신러닝</b>에 대한 개요와 이를 가르치는 빅데이터... #<b>머신러닝</b> <b>머신러닝</b>은 인공지능 기술 중 하나인데 과거에는 인공지능에 대한 기술이 그리 뛰어나진... \",\n",
      "\"bloggername\": \"주들의 그리 대단하진 않지만 굉장한 이야기\",\n",
      "\"bloggerlink\": \"https://blog.naver.com/urmyver\",\n",
      "\"postdate\": \"20210414\"\n",
      "\n",
      "},\n",
      "{\n",
      "\"title\": \"<b>머신러닝</b> 플랫폼 '베슬에이아이', 50억원 투자 유치\",\n",
      "\"link\": \"https:\\/\\/blog.naver.com\\/vsquare1?Redirect=Log&logNo=222568870950\",\n",
      "\"description\": \"#SaaS #<b>머신러닝</b> #<b>머신러닝</b>오퍼레이션 #베슬에이아이 #스타트업투자유치 <b>머신러닝</b> 오퍼레이션(MLOps) 플랫폼을 제공하는 베슬에이아이(VESSL AI)가 Pre-A round 50억 ($4.4M) 투자를 유치했다. 이번 투자는... \",\n",
      "\"bloggername\": \"VentureSquare\",\n",
      "\"bloggerlink\": \"https://blog.naver.com/vsquare1\",\n",
      "\"postdate\": \"20211115\"\n",
      "\n",
      "},\n",
      "{\n",
      "\"title\": \"가정용 런닝<b>머신</b> 추천 :: 멜킨 젠틀레이스 <b>러닝</b><b>머신</b> 설치후기\",\n",
      "\"link\": \"https:\\/\\/blog.naver.com\\/ddalgi11?Redirect=Log&logNo=222496158628\",\n",
      "\"description\": \"요즘 시기처럼 헬스장 가기는 좀 꺼려지고, 날씨에 구애받지 않고 운동하고 싶고, 마스크 벗고 운동하고 싶다면 집에서 <b>러닝</b><b>머신</b>하는 건 어떨까싶더라고요. 보통 웜업운동으로는 유산소운동인 달리기를 하죠.... \",\n",
      "\"bloggername\": \"조 각 달 ˇ-ˇ\",\n",
      "\"bloggerlink\": \"https://blog.naver.com/ddalgi11\",\n",
      "\"postdate\": \"20210905\"\n",
      "\n",
      "},\n",
      "{\n",
      "\"title\": \"<b>머신러닝</b> 딥러닝 비슷하지만 다르니 뜻 알아보자\",\n",
      "\"link\": \"https:\\/\\/blog.naver.com\\/the-woman?Redirect=Log&logNo=222538871023\",\n",
      "\"description\": \"<b>머신러닝</b> 딥러닝 비슷하지만 다르니 뜻 알아보자 안녕하세요 it인플루언서 그여자입니다 세계적으로도 국가적으로도 인공지능기술을 매우 발전하고 있는데요 이번 포스팅에서는 여러 인공지능기술중에서... \",\n",
      "\"bloggername\": \"그여자의모든것 (IT, 통신)\",\n",
      "\"bloggerlink\": \"https://blog.naver.com/the-woman\",\n",
      "\"postdate\": \"20211016\"\n",
      "\n",
      "},\n",
      "{\n",
      "\"title\": \"'<b>머신러닝</b> 파워드 애플리케이션', <b>머신러닝</b> 프로그램 실전 개발... \",\n",
      "\"link\": \"https:\\/\\/blog.naver.com\\/theparanbi?Redirect=Log&logNo=222547081719\",\n",
      "\"description\": \"다행스럽게도 에마뉘엘 아메장의 저서, '<b>머신러닝</b> 파워드 애플리케이션'을 통해, 누구나 <b>머신러닝</b> 애플리케이션 프로젝트에 함께하며 얼마든지 노하우를 쌓을 수 있는 기회를 얻을 수 있다. 이 책은 <b>머신러닝</b>... \",\n",
      "\"bloggername\": \"더파란비 (theparanbi)의 블로그\",\n",
      "\"bloggerlink\": \"https://blog.naver.com/theparanbi\",\n",
      "\"postdate\": \"20211024\"\n",
      "\n",
      "},\n",
      "{\n",
      "\"title\": \"빅데이터학원 - 파이썬부터 <b>머신러닝</b>까지 단기간에\",\n",
      "\"link\": \"https:\\/\\/blog.naver.com\\/hjchoi1500?Redirect=Log&logNo=222520519185\",\n",
      "\"description\": \"이번 포스팅에서는 빅데이터학원, 파이썬부터 <b>머신러닝</b>까지 단기간에라는 것을 주제로 포스팅을... 나아가 머선러닝은 지나간 결과뿐 아니라 앞으로의 행동을 예측하고 스스로 판단하도록 하는 점에서... \",\n",
      "\"bloggername\": \"소소한 새벽의 하루\",\n",
      "\"bloggerlink\": \"https://blog.naver.com/hjchoi1500\",\n",
      "\"postdate\": \"20210929\"\n",
      "\n",
      "},\n",
      "{\n",
      "\"title\": \"‘수포자’가 알려주는 ‘누구에게나 쉬운 <b>머신러닝</b>’\",\n",
      "\"link\": \"https:\\/\\/blog.naver.com\\/tipshs?Redirect=Log&logNo=222571287729\",\n",
      "\"description\": \"이제는 누구나 쉽게 AI <b>머신러닝</b>을 배울 수 있어 이날 AI <b>머신러닝</b> 구현 방법을 알려주기 위해 ‘SW·AI 교육 파더’로 나선 남호성 교수는 학창 시절 수학을 지독히 싫어했던 ‘수포자’다. 수학을 피해... \",\n",
      "\"bloggername\": \"헬렌의 SEACRET 한 일상\",\n",
      "\"bloggerlink\": \"https://blog.naver.com/tipshs\",\n",
      "\"postdate\": \"20211117\"\n",
      "\n",
      "},\n",
      "{\n",
      "\"title\": \"(Python) 구름 IDE로 <b>머신러닝</b> 학습 환경을 구축해보면\",\n",
      "\"link\": \"https:\\/\\/blog.naver.com\\/nabilera1?Redirect=Log&logNo=222410700214\",\n",
      "\"description\": \"<b>머신러닝</b> 환경 구축을 구름IDE로 해보면 먼저 로그인을 위해 가입은 되어 있어야한다. 우리는 제공된 스택 중 텐서플로우를 선택하여 접속할 것이다. 텐서플로우 선택 이름, 설명 등은 적절하게 적어서... \",\n",
      "\"bloggername\": \"김동균의 소프트웨어아카데미(2004~ )\",\n",
      "\"bloggerlink\": \"https://blog.naver.com/nabilera1\",\n",
      "\"postdate\": \"20210626\"\n",
      "\n",
      "},\n",
      "{\n",
      "\"title\": \"데이터사이언티스트 : <b>머신러닝</b> &amp; 분석 교육과 진입장벽...\",\n",
      "\"link\": \"https:\\/\\/blog.naver.com\\/ridesafe?Redirect=Log&logNo=222350523909\",\n",
      "\"description\": \"데이터사이언티스트 : <b>머신러닝</b> &amp; 분석 교육과 진입장벽... 데이터사이언티스트 = 과학자 사람마다... 데이터사이언티스트가 되려면 <b>머신러닝</b>에 관련된 내용이나, 수리통계 예를 들면 선형회귀의 충족조건 및... \",\n",
      "\"bloggername\": \"비비디 바비디 부\",\n",
      "\"bloggerlink\": \"https://blog.naver.com/ridesafe\",\n",
      "\"postdate\": \"20210514\"\n",
      "\n",
      "}\n",
      "]\n",
      "}\n",
      "\n"
     ]
    }
   ],
   "source": [
    "# 네이버 블로그 검색 API 레퍼런스 \n",
    "# https://developers.naver.com/docs/serviceapi/search/blog/blog.md#%EB%B8%94%EB%A1%9C%EA%B7%B8\n",
    "# python 코드 \n",
    "# 네이버 검색 Open API 예제 - 블로그 검색\n",
    "\n",
    "# 아이디와 시크릿 정보 지정 \n",
    "client_id = 'lTW4uwh0N0KtuKSVIKfe'\n",
    "client_secret = 'Z2JgISoOw0'\n",
    "\n",
    "# 검색 단어 입력 \n",
    "encText = urllib.parse.quote(\"머신러닝\")\n",
    "n = 20\n",
    "# url = \"https://openapi.naver.com/v1/search/blog?query=\" + encText  # json 결과\n",
    "# 요청 변수 display=숫자\n",
    "url = \"https://openapi.naver.com/v1/search/blog?query=\" + encText + \"&display=\" + str(n)\n",
    "# url = \"https://openapi.naver.com/v1/search/blog.xml?query=\" + encText # xml 결과\n",
    "request = urllib.request.Request(url)\n",
    "request.add_header(\"X-Naver-Client-Id\",client_id)\n",
    "request.add_header(\"X-Naver-Client-Secret\",client_secret)\n",
    "response = urllib.request.urlopen(request)\n",
    "rescode = response.getcode()\n",
    "if(rescode==200):\n",
    "    response_body = response.read()\n",
    "    print(response_body.decode('utf-8'))\n",
    "else:\n",
    "    print(\"Error Code:\" + rescode)"
   ]
  },
  {
   "cell_type": "code",
   "execution_count": 85,
   "id": "ab3c11dd",
   "metadata": {},
   "outputs": [
    {
     "data": {
      "text/plain": [
       "str"
      ]
     },
     "execution_count": 85,
     "metadata": {},
     "output_type": "execute_result"
    }
   ],
   "source": [
    "# 1) API 정보 => JSON 텍스트 \n",
    "json_text = response_body.decode('utf-8')\n",
    "type(json_text)"
   ]
  },
  {
   "cell_type": "code",
   "execution_count": 86,
   "id": "c5b3f069",
   "metadata": {},
   "outputs": [
    {
     "data": {
      "text/plain": [
       "list"
      ]
     },
     "execution_count": 86,
     "metadata": {},
     "output_type": "execute_result"
    }
   ],
   "source": [
    "# 2) 리스트 딕셔너리 구조화 \n",
    "# 딕셔너리가 삽입된 리스트 \n",
    "# json.loads(json_text) => 딕셔너리 \n",
    "blog_list = json.loads(json_text)[\"items\"]\n",
    "type(blog_list)"
   ]
  },
  {
   "cell_type": "code",
   "execution_count": 87,
   "id": "f56112f7",
   "metadata": {},
   "outputs": [],
   "source": [
    "# blog_list"
   ]
  },
  {
   "cell_type": "code",
   "execution_count": 88,
   "id": "3c515e01",
   "metadata": {},
   "outputs": [],
   "source": [
    "# 리스트 딕셔너리 => 데이타프레임 \n",
    "df_blog = pd.DataFrame(blog_list)\n",
    "# df_blog"
   ]
  },
  {
   "cell_type": "code",
   "execution_count": 95,
   "id": "965f09d4",
   "metadata": {},
   "outputs": [],
   "source": [
    "# 전처리 후 데이타프레임 생성 \n",
    "# 빈 데이타프레임 생성 \n",
    "df_blog2 = pd.DataFrame(columns=['title', 'link', 'description', \n",
    "                                'bloggername','bloggerlink', 'postdate' ])"
   ]
  },
  {
   "cell_type": "code",
   "execution_count": 96,
   "id": "9f0fb376",
   "metadata": {},
   "outputs": [
    {
     "data": {
      "text/html": [
       "<div>\n",
       "<style scoped>\n",
       "    .dataframe tbody tr th:only-of-type {\n",
       "        vertical-align: middle;\n",
       "    }\n",
       "\n",
       "    .dataframe tbody tr th {\n",
       "        vertical-align: top;\n",
       "    }\n",
       "\n",
       "    .dataframe thead th {\n",
       "        text-align: right;\n",
       "    }\n",
       "</style>\n",
       "<table border=\"1\" class=\"dataframe\">\n",
       "  <thead>\n",
       "    <tr style=\"text-align: right;\">\n",
       "      <th></th>\n",
       "      <th>title</th>\n",
       "      <th>link</th>\n",
       "      <th>description</th>\n",
       "      <th>bloggername</th>\n",
       "      <th>bloggerlink</th>\n",
       "      <th>postdate</th>\n",
       "    </tr>\n",
       "  </thead>\n",
       "  <tbody>\n",
       "  </tbody>\n",
       "</table>\n",
       "</div>"
      ],
      "text/plain": [
       "Empty DataFrame\n",
       "Columns: [title, link, description, bloggername, bloggerlink, postdate]\n",
       "Index: []"
      ]
     },
     "execution_count": 96,
     "metadata": {},
     "output_type": "execute_result"
    }
   ],
   "source": [
    "df_blog2"
   ]
  },
  {
   "cell_type": "code",
   "execution_count": 97,
   "id": "51f15811",
   "metadata": {},
   "outputs": [
    {
     "data": {
      "text/plain": [
       "'머신러닝 딥러닝과 함께 습득하자!'"
      ]
     },
     "execution_count": 97,
     "metadata": {},
     "output_type": "execute_result"
    }
   ],
   "source": [
    "# 특정 문자열을 삭제 => replace(old, new)\n",
    "blog_list[0]['title'].replace('<b>','').replace('</b>','')"
   ]
  },
  {
   "cell_type": "code",
   "execution_count": 98,
   "id": "19d31b03",
   "metadata": {},
   "outputs": [
    {
     "data": {
      "text/plain": [
       "'머신러닝 커리큘럼은 크게 5단계로 구분할 수 있었는데요. 1단계는 플랫폼을 활용하여 응용소프트웨어를 개발하기. 2단계는 빅데이터 기술과 머신 및 딥러닝 스킬을 바탕으로 컴퓨터가 스스로 학습하여 결저할... '"
      ]
     },
     "execution_count": 98,
     "metadata": {},
     "output_type": "execute_result"
    }
   ],
   "source": [
    "blog_list[0]['description'].replace('<b>','').replace('</b>','')"
   ]
  },
  {
   "cell_type": "code",
   "execution_count": 99,
   "id": "2048071a",
   "metadata": {},
   "outputs": [],
   "source": [
    "# 데이타프레임에 행을 추가하면서 전처리해서 아이템 삽입 \n",
    "# 데이타프레임의 행 \n",
    "idx = 1\n",
    "for row in blog_list:\n",
    "    title = row['title'].replace('<b>','').replace('</b>','')\n",
    "    link = row['link']\n",
    "    description = row['description'].replace('<b>','').replace('</b>','')\n",
    "    bloggername = row['bloggername']\n",
    "    bloggerlink = row['bloggerlink']\n",
    "    postdate = row['postdate']\n",
    "    # 행 추가후 데이타삽입 \n",
    "    df_blog2.loc[idx] = [title, link, description, bloggername, bloggerlink, postdate]\n",
    "    idx += 1"
   ]
  },
  {
   "cell_type": "code",
   "execution_count": 100,
   "id": "73e17ad5",
   "metadata": {},
   "outputs": [
    {
     "data": {
      "text/html": [
       "<div>\n",
       "<style scoped>\n",
       "    .dataframe tbody tr th:only-of-type {\n",
       "        vertical-align: middle;\n",
       "    }\n",
       "\n",
       "    .dataframe tbody tr th {\n",
       "        vertical-align: top;\n",
       "    }\n",
       "\n",
       "    .dataframe thead th {\n",
       "        text-align: right;\n",
       "    }\n",
       "</style>\n",
       "<table border=\"1\" class=\"dataframe\">\n",
       "  <thead>\n",
       "    <tr style=\"text-align: right;\">\n",
       "      <th></th>\n",
       "      <th>title</th>\n",
       "      <th>link</th>\n",
       "      <th>description</th>\n",
       "      <th>bloggername</th>\n",
       "      <th>bloggerlink</th>\n",
       "      <th>postdate</th>\n",
       "    </tr>\n",
       "  </thead>\n",
       "  <tbody>\n",
       "    <tr>\n",
       "      <th>1</th>\n",
       "      <td>머신러닝 딥러닝과 함께 습득하자!</td>\n",
       "      <td>https://blog.naver.com/kevinbuff?Redirect=Log&amp;...</td>\n",
       "      <td>머신러닝 커리큘럼은 크게 5단계로 구분할 수 있었는데요. 1단계는 플랫폼을 활용하여...</td>\n",
       "      <td>fLOwer_moVEment</td>\n",
       "      <td>https://blog.naver.com/kevinbuff</td>\n",
       "      <td>20211116</td>\n",
       "    </tr>\n",
       "    <tr>\n",
       "      <th>2</th>\n",
       "      <td>미리듣는 싱가폴 대학강의, 머신러닝과 AI 전공의 미래는?</td>\n",
       "      <td>https://blog.naver.com/mongssing?Redirect=Log&amp;...</td>\n",
       "      <td>미리들어보는 싱가폴 대학강의, 이번 전공은 머신러닝과 AI입니다. 4차 산업, 디지...</td>\n",
       "      <td>ⓜ 몽선생블로그</td>\n",
       "      <td>https://blog.naver.com/mongssing</td>\n",
       "      <td>20210525</td>\n",
       "    </tr>\n",
       "    <tr>\n",
       "      <th>3</th>\n",
       "      <td>파이썬학원 3개월동안 머신러닝 배워보기</td>\n",
       "      <td>https://blog.naver.com/iamwandering?Redirect=L...</td>\n",
       "      <td>특히 그 중에서도 빅데이터 기반의 머신러닝을 배워보고싶었더랬죠. 생각보다 많은 분들...</td>\n",
       "      <td>매일이 행복</td>\n",
       "      <td>https://blog.naver.com/iamwandering</td>\n",
       "      <td>20210824</td>\n",
       "    </tr>\n",
       "    <tr>\n",
       "      <th>4</th>\n",
       "      <td>신촌컴퓨터학원에서 머신러닝 배우기</td>\n",
       "      <td>https://blog.naver.com/skyinjong?Redirect=Log&amp;...</td>\n",
       "      <td>과정은 머신러닝 수업이였어요. 둘은 뗄레야 뗄 수 없는 관계이기 때문에 한꺼번에 배...</td>\n",
       "      <td>니야옹( *ฅ́˘ฅ̀*)</td>\n",
       "      <td>https://blog.naver.com/skyinjong</td>\n",
       "      <td>20210728</td>\n",
       "    </tr>\n",
       "    <tr>\n",
       "      <th>5</th>\n",
       "      <td>빅데이터 활용이 용이한 중국, 머신러닝의 강자 미국, 누가...</td>\n",
       "      <td>https://blog.naver.com/zhupengli?Redirect=Log&amp;...</td>\n",
       "      <td>#중국 #경제 #사회 #정치 #외교 #문화 #브랜드 #기업 #안면인식 #기술 #미중...</td>\n",
       "      <td>飞上의 中国바라보기</td>\n",
       "      <td>https://blog.naver.com/zhupengli</td>\n",
       "      <td>20210927</td>\n",
       "    </tr>\n",
       "    <tr>\n",
       "      <th>6</th>\n",
       "      <td>[모델 튜닝] 머신러닝 Validation Set 만드는 이유와 방법</td>\n",
       "      <td>https://blog.naver.com/koys007?Redirect=Log&amp;lo...</td>\n",
       "      <td>이번 포스팅에서는 머신러닝 모델을 구현할 때 Validation Set을 만드는 이...</td>\n",
       "      <td>koys007님의 블로그</td>\n",
       "      <td>https://blog.naver.com/koys007</td>\n",
       "      <td>20211025</td>\n",
       "    </tr>\n",
       "    <tr>\n",
       "      <th>7</th>\n",
       "      <td>머신러닝 딥러닝 차이 및 취업 관점의 시선</td>\n",
       "      <td>https://blog.naver.com/ridesafe?Redirect=Log&amp;l...</td>\n",
       "      <td>머신러닝 딥러닝 차이 및 취업 관점의 시선 머신러닝 &amp;amp; 딥러닝 그리고 AI(...</td>\n",
       "      <td>비비디 바비디 부</td>\n",
       "      <td>https://blog.naver.com/ridesafe</td>\n",
       "      <td>20210830</td>\n",
       "    </tr>\n",
       "    <tr>\n",
       "      <th>8</th>\n",
       "      <td>머신러닝은 해상운송에 어떻게 적용되는가</td>\n",
       "      <td>https://blog.naver.com/jollyjim?Redirect=Log&amp;l...</td>\n",
       "      <td>머신러닝은 인공지능(Artificial Intelligence)의 한 분류로서 AI...</td>\n",
       "      <td>김웅규의 항해이야기</td>\n",
       "      <td>https://blog.naver.com/jollyjim</td>\n",
       "      <td>20210805</td>\n",
       "    </tr>\n",
       "    <tr>\n",
       "      <th>9</th>\n",
       "      <td>천재 통계학자 Breiman 그리고 머신러닝 CART</td>\n",
       "      <td>https://blog.naver.com/jiehyunkim?Redirect=Log...</td>\n",
       "      <td>스마트팩토리로 변모하는 우리 제조기업은 통계적공정관리(SPC) 뿐만 아니라 머신러닝...</td>\n",
       "      <td>데이터랩스</td>\n",
       "      <td>https://blog.naver.com/jiehyunkim</td>\n",
       "      <td>20211118</td>\n",
       "    </tr>\n",
       "    <tr>\n",
       "      <th>10</th>\n",
       "      <td>디트로이트 비컴 휴먼을 통해서 알아본 딥러닝과 머신러닝 뜻을...</td>\n",
       "      <td>https://blog.naver.com/nightd?Redirect=Log&amp;log...</td>\n",
       "      <td>딥러닝 머신러닝이라고 하면 선뜻 그 뜻을 이해하기 쉽지는 않다. 2016년도에 대중...</td>\n",
       "      <td>스마트 라이프 연결고리</td>\n",
       "      <td>https://blog.naver.com/nightd</td>\n",
       "      <td>20210616</td>\n",
       "    </tr>\n",
       "    <tr>\n",
       "      <th>11</th>\n",
       "      <td>퀀트투자 머신러닝으로 데이터를 분석하는 퀸트 주식 투자...</td>\n",
       "      <td>https://blog.naver.com/oksk2002kr?Redirect=Log...</td>\n",
       "      <td>퀸트 투자를 다양한 종목 정보, 지표 도구, 머신러닝을 통하여 원칙을 세우자를 이야...</td>\n",
       "      <td>티보의 IT공작소</td>\n",
       "      <td>https://blog.naver.com/oksk2002kr</td>\n",
       "      <td>20210917</td>\n",
       "    </tr>\n",
       "    <tr>\n",
       "      <th>12</th>\n",
       "      <td>빅데이터학원 : 분석부터 머신러닝까지</td>\n",
       "      <td>https://blog.naver.com/urmyver?Redirect=Log&amp;lo...</td>\n",
       "      <td>이번 포스팅에선 빅데이터를 활용하는 분야들과 머신러닝에 대한 개요와 이를 가르치는 ...</td>\n",
       "      <td>주들의 그리 대단하진 않지만 굉장한 이야기</td>\n",
       "      <td>https://blog.naver.com/urmyver</td>\n",
       "      <td>20210414</td>\n",
       "    </tr>\n",
       "    <tr>\n",
       "      <th>13</th>\n",
       "      <td>머신러닝 플랫폼 '베슬에이아이', 50억원 투자 유치</td>\n",
       "      <td>https://blog.naver.com/vsquare1?Redirect=Log&amp;l...</td>\n",
       "      <td>#SaaS #머신러닝 #머신러닝오퍼레이션 #베슬에이아이 #스타트업투자유치 머신러닝 ...</td>\n",
       "      <td>VentureSquare</td>\n",
       "      <td>https://blog.naver.com/vsquare1</td>\n",
       "      <td>20211115</td>\n",
       "    </tr>\n",
       "    <tr>\n",
       "      <th>14</th>\n",
       "      <td>가정용 런닝머신 추천 :: 멜킨 젠틀레이스 러닝머신 설치후기</td>\n",
       "      <td>https://blog.naver.com/ddalgi11?Redirect=Log&amp;l...</td>\n",
       "      <td>요즘 시기처럼 헬스장 가기는 좀 꺼려지고, 날씨에 구애받지 않고 운동하고 싶고, 마...</td>\n",
       "      <td>조 각 달 ˇ-ˇ</td>\n",
       "      <td>https://blog.naver.com/ddalgi11</td>\n",
       "      <td>20210905</td>\n",
       "    </tr>\n",
       "    <tr>\n",
       "      <th>15</th>\n",
       "      <td>머신러닝 딥러닝 비슷하지만 다르니 뜻 알아보자</td>\n",
       "      <td>https://blog.naver.com/the-woman?Redirect=Log&amp;...</td>\n",
       "      <td>머신러닝 딥러닝 비슷하지만 다르니 뜻 알아보자 안녕하세요 it인플루언서 그여자입니다...</td>\n",
       "      <td>그여자의모든것 (IT, 통신)</td>\n",
       "      <td>https://blog.naver.com/the-woman</td>\n",
       "      <td>20211016</td>\n",
       "    </tr>\n",
       "    <tr>\n",
       "      <th>16</th>\n",
       "      <td>'머신러닝 파워드 애플리케이션', 머신러닝 프로그램 실전 개발...</td>\n",
       "      <td>https://blog.naver.com/theparanbi?Redirect=Log...</td>\n",
       "      <td>다행스럽게도 에마뉘엘 아메장의 저서, '머신러닝 파워드 애플리케이션'을 통해, 누구...</td>\n",
       "      <td>더파란비 (theparanbi)의 블로그</td>\n",
       "      <td>https://blog.naver.com/theparanbi</td>\n",
       "      <td>20211024</td>\n",
       "    </tr>\n",
       "    <tr>\n",
       "      <th>17</th>\n",
       "      <td>빅데이터학원 - 파이썬부터 머신러닝까지 단기간에</td>\n",
       "      <td>https://blog.naver.com/hjchoi1500?Redirect=Log...</td>\n",
       "      <td>이번 포스팅에서는 빅데이터학원, 파이썬부터 머신러닝까지 단기간에라는 것을 주제로 포...</td>\n",
       "      <td>소소한 새벽의 하루</td>\n",
       "      <td>https://blog.naver.com/hjchoi1500</td>\n",
       "      <td>20210929</td>\n",
       "    </tr>\n",
       "    <tr>\n",
       "      <th>18</th>\n",
       "      <td>‘수포자’가 알려주는 ‘누구에게나 쉬운 머신러닝’</td>\n",
       "      <td>https://blog.naver.com/tipshs?Redirect=Log&amp;log...</td>\n",
       "      <td>이제는 누구나 쉽게 AI 머신러닝을 배울 수 있어 이날 AI 머신러닝 구현 방법을 ...</td>\n",
       "      <td>헬렌의 SEACRET 한 일상</td>\n",
       "      <td>https://blog.naver.com/tipshs</td>\n",
       "      <td>20211117</td>\n",
       "    </tr>\n",
       "    <tr>\n",
       "      <th>19</th>\n",
       "      <td>(Python) 구름 IDE로 머신러닝 학습 환경을 구축해보면</td>\n",
       "      <td>https://blog.naver.com/nabilera1?Redirect=Log&amp;...</td>\n",
       "      <td>머신러닝 환경 구축을 구름IDE로 해보면 먼저 로그인을 위해 가입은 되어 있어야한다...</td>\n",
       "      <td>김동균의 소프트웨어아카데미(2004~ )</td>\n",
       "      <td>https://blog.naver.com/nabilera1</td>\n",
       "      <td>20210626</td>\n",
       "    </tr>\n",
       "    <tr>\n",
       "      <th>20</th>\n",
       "      <td>데이터사이언티스트 : 머신러닝 &amp;amp; 분석 교육과 진입장벽...</td>\n",
       "      <td>https://blog.naver.com/ridesafe?Redirect=Log&amp;l...</td>\n",
       "      <td>데이터사이언티스트 : 머신러닝 &amp;amp; 분석 교육과 진입장벽... 데이터사이언티스...</td>\n",
       "      <td>비비디 바비디 부</td>\n",
       "      <td>https://blog.naver.com/ridesafe</td>\n",
       "      <td>20210514</td>\n",
       "    </tr>\n",
       "  </tbody>\n",
       "</table>\n",
       "</div>"
      ],
      "text/plain": [
       "                                     title  \\\n",
       "1                       머신러닝 딥러닝과 함께 습득하자!   \n",
       "2         미리듣는 싱가폴 대학강의, 머신러닝과 AI 전공의 미래는?   \n",
       "3                    파이썬학원 3개월동안 머신러닝 배워보기   \n",
       "4                       신촌컴퓨터학원에서 머신러닝 배우기   \n",
       "5     빅데이터 활용이 용이한 중국, 머신러닝의 강자 미국, 누가...    \n",
       "6   [모델 튜닝] 머신러닝 Validation Set 만드는 이유와 방법   \n",
       "7                  머신러닝 딥러닝 차이 및 취업 관점의 시선   \n",
       "8                    머신러닝은 해상운송에 어떻게 적용되는가   \n",
       "9            천재 통계학자 Breiman 그리고 머신러닝 CART   \n",
       "10   디트로이트 비컴 휴먼을 통해서 알아본 딥러닝과 머신러닝 뜻을...    \n",
       "11      퀀트투자 머신러닝으로 데이터를 분석하는 퀸트 주식 투자...    \n",
       "12                    빅데이터학원 : 분석부터 머신러닝까지   \n",
       "13           머신러닝 플랫폼 '베슬에이아이', 50억원 투자 유치   \n",
       "14       가정용 런닝머신 추천 :: 멜킨 젠틀레이스 러닝머신 설치후기   \n",
       "15               머신러닝 딥러닝 비슷하지만 다르니 뜻 알아보자   \n",
       "16  '머신러닝 파워드 애플리케이션', 머신러닝 프로그램 실전 개발...    \n",
       "17              빅데이터학원 - 파이썬부터 머신러닝까지 단기간에   \n",
       "18             ‘수포자’가 알려주는 ‘누구에게나 쉬운 머신러닝’   \n",
       "19      (Python) 구름 IDE로 머신러닝 학습 환경을 구축해보면   \n",
       "20   데이터사이언티스트 : 머신러닝 &amp; 분석 교육과 진입장벽...   \n",
       "\n",
       "                                                 link  \\\n",
       "1   https://blog.naver.com/kevinbuff?Redirect=Log&...   \n",
       "2   https://blog.naver.com/mongssing?Redirect=Log&...   \n",
       "3   https://blog.naver.com/iamwandering?Redirect=L...   \n",
       "4   https://blog.naver.com/skyinjong?Redirect=Log&...   \n",
       "5   https://blog.naver.com/zhupengli?Redirect=Log&...   \n",
       "6   https://blog.naver.com/koys007?Redirect=Log&lo...   \n",
       "7   https://blog.naver.com/ridesafe?Redirect=Log&l...   \n",
       "8   https://blog.naver.com/jollyjim?Redirect=Log&l...   \n",
       "9   https://blog.naver.com/jiehyunkim?Redirect=Log...   \n",
       "10  https://blog.naver.com/nightd?Redirect=Log&log...   \n",
       "11  https://blog.naver.com/oksk2002kr?Redirect=Log...   \n",
       "12  https://blog.naver.com/urmyver?Redirect=Log&lo...   \n",
       "13  https://blog.naver.com/vsquare1?Redirect=Log&l...   \n",
       "14  https://blog.naver.com/ddalgi11?Redirect=Log&l...   \n",
       "15  https://blog.naver.com/the-woman?Redirect=Log&...   \n",
       "16  https://blog.naver.com/theparanbi?Redirect=Log...   \n",
       "17  https://blog.naver.com/hjchoi1500?Redirect=Log...   \n",
       "18  https://blog.naver.com/tipshs?Redirect=Log&log...   \n",
       "19  https://blog.naver.com/nabilera1?Redirect=Log&...   \n",
       "20  https://blog.naver.com/ridesafe?Redirect=Log&l...   \n",
       "\n",
       "                                          description  \\\n",
       "1   머신러닝 커리큘럼은 크게 5단계로 구분할 수 있었는데요. 1단계는 플랫폼을 활용하여...   \n",
       "2   미리들어보는 싱가폴 대학강의, 이번 전공은 머신러닝과 AI입니다. 4차 산업, 디지...   \n",
       "3   특히 그 중에서도 빅데이터 기반의 머신러닝을 배워보고싶었더랬죠. 생각보다 많은 분들...   \n",
       "4   과정은 머신러닝 수업이였어요. 둘은 뗄레야 뗄 수 없는 관계이기 때문에 한꺼번에 배...   \n",
       "5   #중국 #경제 #사회 #정치 #외교 #문화 #브랜드 #기업 #안면인식 #기술 #미중...   \n",
       "6   이번 포스팅에서는 머신러닝 모델을 구현할 때 Validation Set을 만드는 이...   \n",
       "7   머신러닝 딥러닝 차이 및 취업 관점의 시선 머신러닝 &amp; 딥러닝 그리고 AI(...   \n",
       "8   머신러닝은 인공지능(Artificial Intelligence)의 한 분류로서 AI...   \n",
       "9   스마트팩토리로 변모하는 우리 제조기업은 통계적공정관리(SPC) 뿐만 아니라 머신러닝...   \n",
       "10  딥러닝 머신러닝이라고 하면 선뜻 그 뜻을 이해하기 쉽지는 않다. 2016년도에 대중...   \n",
       "11  퀸트 투자를 다양한 종목 정보, 지표 도구, 머신러닝을 통하여 원칙을 세우자를 이야...   \n",
       "12  이번 포스팅에선 빅데이터를 활용하는 분야들과 머신러닝에 대한 개요와 이를 가르치는 ...   \n",
       "13  #SaaS #머신러닝 #머신러닝오퍼레이션 #베슬에이아이 #스타트업투자유치 머신러닝 ...   \n",
       "14  요즘 시기처럼 헬스장 가기는 좀 꺼려지고, 날씨에 구애받지 않고 운동하고 싶고, 마...   \n",
       "15  머신러닝 딥러닝 비슷하지만 다르니 뜻 알아보자 안녕하세요 it인플루언서 그여자입니다...   \n",
       "16  다행스럽게도 에마뉘엘 아메장의 저서, '머신러닝 파워드 애플리케이션'을 통해, 누구...   \n",
       "17  이번 포스팅에서는 빅데이터학원, 파이썬부터 머신러닝까지 단기간에라는 것을 주제로 포...   \n",
       "18  이제는 누구나 쉽게 AI 머신러닝을 배울 수 있어 이날 AI 머신러닝 구현 방법을 ...   \n",
       "19  머신러닝 환경 구축을 구름IDE로 해보면 먼저 로그인을 위해 가입은 되어 있어야한다...   \n",
       "20  데이터사이언티스트 : 머신러닝 &amp; 분석 교육과 진입장벽... 데이터사이언티스...   \n",
       "\n",
       "                bloggername                          bloggerlink  postdate  \n",
       "1           fLOwer_moVEment     https://blog.naver.com/kevinbuff  20211116  \n",
       "2                  ⓜ 몽선생블로그     https://blog.naver.com/mongssing  20210525  \n",
       "3                    매일이 행복  https://blog.naver.com/iamwandering  20210824  \n",
       "4             니야옹( *ฅ́˘ฅ̀*)     https://blog.naver.com/skyinjong  20210728  \n",
       "5                飞上의 中国바라보기     https://blog.naver.com/zhupengli  20210927  \n",
       "6             koys007님의 블로그       https://blog.naver.com/koys007  20211025  \n",
       "7                 비비디 바비디 부      https://blog.naver.com/ridesafe  20210830  \n",
       "8                김웅규의 항해이야기      https://blog.naver.com/jollyjim  20210805  \n",
       "9                     데이터랩스    https://blog.naver.com/jiehyunkim  20211118  \n",
       "10             스마트 라이프 연결고리        https://blog.naver.com/nightd  20210616  \n",
       "11                티보의 IT공작소    https://blog.naver.com/oksk2002kr  20210917  \n",
       "12  주들의 그리 대단하진 않지만 굉장한 이야기       https://blog.naver.com/urmyver  20210414  \n",
       "13            VentureSquare      https://blog.naver.com/vsquare1  20211115  \n",
       "14                조 각 달 ˇ-ˇ      https://blog.naver.com/ddalgi11  20210905  \n",
       "15         그여자의모든것 (IT, 통신)     https://blog.naver.com/the-woman  20211016  \n",
       "16   더파란비 (theparanbi)의 블로그    https://blog.naver.com/theparanbi  20211024  \n",
       "17               소소한 새벽의 하루    https://blog.naver.com/hjchoi1500  20210929  \n",
       "18         헬렌의 SEACRET 한 일상        https://blog.naver.com/tipshs  20211117  \n",
       "19   김동균의 소프트웨어아카데미(2004~ )     https://blog.naver.com/nabilera1  20210626  \n",
       "20                비비디 바비디 부      https://blog.naver.com/ridesafe  20210514  "
      ]
     },
     "execution_count": 100,
     "metadata": {},
     "output_type": "execute_result"
    }
   ],
   "source": [
    "df_blog2"
   ]
  },
  {
   "cell_type": "code",
   "execution_count": null,
   "id": "6900e9d2",
   "metadata": {},
   "outputs": [],
   "source": []
  },
  {
   "cell_type": "code",
   "execution_count": 65,
   "id": "e0544a7f",
   "metadata": {},
   "outputs": [
    {
     "data": {
      "text/plain": [
       "{'title': '<b>머신러닝</b> 딥러닝과 함께 습득하자!',\n",
       " 'link': 'https://blog.naver.com/kevinbuff?Redirect=Log&logNo=222570263789',\n",
       " 'description': '<b>머신러닝</b> 커리큘럼은 크게 5단계로 구분할 수 있었는데요. 1단계는 플랫폼을 활용하여 응용소프트웨어를 개발하기. 2단계는 빅데이터 기술과 머신 및 딥러닝 스킬을 바탕으로 컴퓨터가 스스로 학습하여 결저할... ',\n",
       " 'bloggername': 'fLOwer_moVEment',\n",
       " 'bloggerlink': 'https://blog.naver.com/kevinbuff',\n",
       " 'postdate': '20211116'}"
      ]
     },
     "execution_count": 65,
     "metadata": {},
     "output_type": "execute_result"
    }
   ],
   "source": [
    "blog_list[0]"
   ]
  },
  {
   "cell_type": "code",
   "execution_count": null,
   "id": "beaa6152",
   "metadata": {},
   "outputs": [],
   "source": []
  },
  {
   "cell_type": "code",
   "execution_count": null,
   "id": "7bc557d1",
   "metadata": {},
   "outputs": [],
   "source": []
  }
 ],
 "metadata": {
  "kernelspec": {
   "display_name": "Python 3",
   "language": "python",
   "name": "python3"
  },
  "language_info": {
   "codemirror_mode": {
    "name": "ipython",
    "version": 3
   },
   "file_extension": ".py",
   "mimetype": "text/x-python",
   "name": "python",
   "nbconvert_exporter": "python",
   "pygments_lexer": "ipython3",
   "version": "3.8.8"
  }
 },
 "nbformat": 4,
 "nbformat_minor": 5
}
