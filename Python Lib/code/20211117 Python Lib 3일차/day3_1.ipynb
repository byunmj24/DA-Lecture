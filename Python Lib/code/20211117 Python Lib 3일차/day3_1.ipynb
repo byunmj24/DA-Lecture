{
 "cells": [
  {
   "cell_type": "code",
   "execution_count": 1,
   "id": "f85ce8b4",
   "metadata": {},
   "outputs": [
    {
     "data": {
      "text/html": [
       "<style>.container { font-weight: bold !important; }</style>"
      ],
      "text/plain": [
       "<IPython.core.display.HTML object>"
      ]
     },
     "metadata": {},
     "output_type": "display_data"
    },
    {
     "data": {
      "text/html": [
       "<style>.container { width: 100% !important; }</style>"
      ],
      "text/plain": [
       "<IPython.core.display.HTML object>"
      ]
     },
     "metadata": {},
     "output_type": "display_data"
    }
   ],
   "source": [
    "# 쥬피터노트북 셀 스타일 조절 \n",
    "from IPython.core.display import display, HTML\n",
    "display(HTML(\"<style>.container { font-weight: bold !important; }</style>\"))\n",
    "display(HTML(\"<style>.container { width: 100% !important; }</style>\"))\n",
    "\n",
    "import warnings\n",
    "warnings.filterwarnings(action='ignore')"
   ]
  },
  {
   "cell_type": "code",
   "execution_count": 2,
   "id": "af63940e",
   "metadata": {},
   "outputs": [],
   "source": [
    "import numpy as np"
   ]
  },
  {
   "cell_type": "markdown",
   "id": "ada130d3",
   "metadata": {},
   "source": [
    "## 등차수열"
   ]
  },
  {
   "cell_type": "code",
   "execution_count": 4,
   "id": "ed7079bc",
   "metadata": {},
   "outputs": [
    {
     "data": {
      "text/plain": [
       "[1, 4, 7, 10, 13, 16, 19, 22, 25, 28, 31, 34, 37, 40, 43, 46, 49]"
      ]
     },
     "execution_count": 4,
     "metadata": {},
     "output_type": "execute_result"
    }
   ],
   "source": [
    "# 공차가 3인 수열 생성 (n+3) - 리스트 \n",
    "n = 3\n",
    "list(range(1, 50, n))"
   ]
  },
  {
   "cell_type": "code",
   "execution_count": 6,
   "id": "1a76cd2a",
   "metadata": {},
   "outputs": [
    {
     "data": {
      "text/plain": [
       "array([ 1,  4,  7, 10, 13, 16, 19, 22, 25, 28, 31, 34, 37, 40, 43, 46, 49])"
      ]
     },
     "execution_count": 6,
     "metadata": {},
     "output_type": "execute_result"
    }
   ],
   "source": [
    "# 공차가 3인 수열 생성 (n+3) - 넘파이 배열 \n",
    "np.arange(1, 50, n)"
   ]
  },
  {
   "cell_type": "markdown",
   "id": "ad54520d",
   "metadata": {},
   "source": [
    "### 등비수열 "
   ]
  },
  {
   "cell_type": "code",
   "execution_count": 7,
   "id": "a7cc29b6",
   "metadata": {},
   "outputs": [
    {
     "data": {
      "text/plain": [
       "[1, 2, 4, 8, 16, 32, 64, 128, 256, 512, 1024]"
      ]
     },
     "execution_count": 7,
     "metadata": {},
     "output_type": "execute_result"
    }
   ],
   "source": [
    "# 리스트 : 2n\n",
    "myList =[1]\n",
    "n = 2\n",
    "for i in range(1, 11):\n",
    "    myList.append(myList[i-1]*n)\n",
    "myList"
   ]
  },
  {
   "cell_type": "markdown",
   "id": "50c3dda6",
   "metadata": {},
   "source": [
    "## 순열(Permutations) 과 조합(Combinations)\n",
    "\n",
    "- itertools 내장 라이브러리 \n",
    "- itertools.permutations(데이타리스트, n)\n",
    "- itertools.combinations(데이타리스트, n)"
   ]
  },
  {
   "cell_type": "code",
   "execution_count": 16,
   "id": "1e831c03",
   "metadata": {},
   "outputs": [],
   "source": [
    "from itertools import permutations, combinations"
   ]
  },
  {
   "cell_type": "code",
   "execution_count": 9,
   "id": "c9e7a860",
   "metadata": {},
   "outputs": [
    {
     "data": {
      "text/plain": [
       "<itertools.permutations at 0x1530aeb4bd0>"
      ]
     },
     "execution_count": 9,
     "metadata": {},
     "output_type": "execute_result"
    }
   ],
   "source": [
    "# 카드 1, 2, 3 으로 구성할 수 있는 경우의 수\n",
    "lists = [1, 2, 3]\n",
    "permutations(lists, 2)"
   ]
  },
  {
   "cell_type": "code",
   "execution_count": 10,
   "id": "1e22a58b",
   "metadata": {},
   "outputs": [
    {
     "data": {
      "text/plain": [
       "[(1, 2), (1, 3), (2, 1), (2, 3), (3, 1), (3, 2)]"
      ]
     },
     "execution_count": 10,
     "metadata": {},
     "output_type": "execute_result"
    }
   ],
   "source": [
    "list(permutations(lists, 2))"
   ]
  },
  {
   "cell_type": "code",
   "execution_count": 11,
   "id": "2310a143",
   "metadata": {},
   "outputs": [
    {
     "name": "stdout",
     "output_type": "stream",
     "text": [
      "(1, 2)\n",
      "(1, 3)\n",
      "(2, 1)\n",
      "(2, 3)\n",
      "(3, 1)\n",
      "(3, 2)\n"
     ]
    }
   ],
   "source": [
    "for item in list(permutations(lists, 2)):\n",
    "    print(item)"
   ]
  },
  {
   "cell_type": "code",
   "execution_count": 12,
   "id": "80fe2d87",
   "metadata": {
    "scrolled": true
   },
   "outputs": [
    {
     "data": {
      "text/plain": [
       "6"
      ]
     },
     "execution_count": 12,
     "metadata": {},
     "output_type": "execute_result"
    }
   ],
   "source": [
    "len(list(permutations(lists, 2)))"
   ]
  },
  {
   "cell_type": "code",
   "execution_count": 17,
   "id": "8ffdeb18",
   "metadata": {},
   "outputs": [
    {
     "data": {
      "text/plain": [
       "[(1, 2), (1, 3), (2, 3)]"
      ]
     },
     "execution_count": 17,
     "metadata": {},
     "output_type": "execute_result"
    }
   ],
   "source": [
    "# 카드 3장에서 2장을 선택한다\n",
    "cards = [1, 2, 3]\n",
    "list(combinations(cards, 2))"
   ]
  },
  {
   "cell_type": "markdown",
   "id": "a3a16397",
   "metadata": {},
   "source": [
    "## 퀴즈"
   ]
  },
  {
   "cell_type": "code",
   "execution_count": 18,
   "id": "a5c104cd",
   "metadata": {},
   "outputs": [],
   "source": [
    "# 반장1명, 부반장1명을 뽑는 경우의 수는?\n",
    "# 전체인원은 40명 "
   ]
  },
  {
   "cell_type": "code",
   "execution_count": 25,
   "id": "74364b0b",
   "metadata": {},
   "outputs": [
    {
     "name": "stdout",
     "output_type": "stream",
     "text": [
      "[1, 2, 3, 4, 5, 6, 7, 8, 9, 10, 11, 12, 13, 14, 15, 16, 17, 18, 19, 20, 21, 22, 23, 24, 25, 26, 27, 28, 29, 30, 31, 32, 33, 34, 35, 36, 37, 38, 39, 40]\n"
     ]
    }
   ],
   "source": [
    "myClass = list(range(1,41))\n",
    "print(myClass)"
   ]
  },
  {
   "cell_type": "code",
   "execution_count": 29,
   "id": "11956e6c",
   "metadata": {},
   "outputs": [],
   "source": [
    "# list(combinations(myClass, 2))"
   ]
  },
  {
   "cell_type": "code",
   "execution_count": 30,
   "id": "f51cc277",
   "metadata": {},
   "outputs": [
    {
     "data": {
      "text/plain": [
       "780"
      ]
     },
     "execution_count": 30,
     "metadata": {},
     "output_type": "execute_result"
    }
   ],
   "source": [
    "len(list(combinations(myClass, 2)))"
   ]
  },
  {
   "cell_type": "code",
   "execution_count": 20,
   "id": "bcc3b3e6",
   "metadata": {},
   "outputs": [],
   "source": [
    "# 전체인원 40명. \n",
    "# 주번 3명을 뽑는 경우의 수는?"
   ]
  },
  {
   "cell_type": "code",
   "execution_count": 31,
   "id": "960aba49",
   "metadata": {},
   "outputs": [],
   "source": [
    "# list(combinations(range(1,41), 3))"
   ]
  },
  {
   "cell_type": "code",
   "execution_count": 22,
   "id": "ab1b5b1b",
   "metadata": {},
   "outputs": [
    {
     "data": {
      "text/plain": [
       "9880"
      ]
     },
     "execution_count": 22,
     "metadata": {},
     "output_type": "execute_result"
    }
   ],
   "source": [
    "len(list(combinations(range(1,41), 3)))"
   ]
  },
  {
   "cell_type": "code",
   "execution_count": null,
   "id": "9875f485",
   "metadata": {},
   "outputs": [],
   "source": []
  },
  {
   "cell_type": "code",
   "execution_count": null,
   "id": "6e20ae04",
   "metadata": {},
   "outputs": [],
   "source": []
  },
  {
   "cell_type": "code",
   "execution_count": null,
   "id": "8982c294",
   "metadata": {},
   "outputs": [],
   "source": []
  }
 ],
 "metadata": {
  "kernelspec": {
   "display_name": "Python 3",
   "language": "python",
   "name": "python3"
  },
  "language_info": {
   "codemirror_mode": {
    "name": "ipython",
    "version": 3
   },
   "file_extension": ".py",
   "mimetype": "text/x-python",
   "name": "python",
   "nbconvert_exporter": "python",
   "pygments_lexer": "ipython3",
   "version": "3.8.8"
  }
 },
 "nbformat": 4,
 "nbformat_minor": 5
}
