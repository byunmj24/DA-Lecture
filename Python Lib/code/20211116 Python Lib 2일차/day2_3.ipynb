{
 "cells": [
  {
   "cell_type": "code",
   "execution_count": 42,
   "id": "ce189d9e",
   "metadata": {},
   "outputs": [
    {
     "data": {
      "text/html": [
       "<style>.container { font-weight: bold !important; }</style>"
      ],
      "text/plain": [
       "<IPython.core.display.HTML object>"
      ]
     },
     "metadata": {},
     "output_type": "display_data"
    },
    {
     "data": {
      "text/html": [
       "<style>.container { width: 100% !important; }</style>"
      ],
      "text/plain": [
       "<IPython.core.display.HTML object>"
      ]
     },
     "metadata": {},
     "output_type": "display_data"
    }
   ],
   "source": [
    "# css 수정 가로 셀크기 수정\n",
    "from IPython.core.display import display, HTML\n",
    "display(HTML(\"<style>.container { font-weight: bold !important; }</style>\"))\n",
    "display(HTML(\"<style>.container { width: 100% !important; }</style>\"))"
   ]
  },
  {
   "cell_type": "markdown",
   "id": "a0f4cc92",
   "metadata": {},
   "source": [
    "matplotlib\n",
    "- https://matplotlib.org/"
   ]
  },
  {
   "cell_type": "code",
   "execution_count": 43,
   "id": "491bd6d2",
   "metadata": {},
   "outputs": [],
   "source": [
    "# jupyter notebook 경고메세지 숨김\n",
    "import warnings\n",
    "warnings.filterwarnings(action='ignore')"
   ]
  },
  {
   "cell_type": "code",
   "execution_count": 44,
   "id": "3c87f9b0",
   "metadata": {},
   "outputs": [],
   "source": [
    "import matplotlib.pyplot as plt\n",
    "import numpy as np\n",
    "from sympy import Symbol, solve"
   ]
  },
  {
   "cell_type": "markdown",
   "id": "7af8e2f6",
   "metadata": {},
   "source": [
    "# 함수와 그래프"
   ]
  },
  {
   "cell_type": "code",
   "execution_count": 45,
   "id": "2638ee1a",
   "metadata": {},
   "outputs": [],
   "source": [
    "#pip list"
   ]
  },
  {
   "cell_type": "code",
   "execution_count": 46,
   "id": "6eccc04e",
   "metadata": {},
   "outputs": [],
   "source": [
    "x = [1, 2, 3, 4, 5]\n",
    "y = [10, 5, 6, 7, 9]"
   ]
  },
  {
   "cell_type": "code",
   "execution_count": 47,
   "id": "06db6489",
   "metadata": {},
   "outputs": [
    {
     "data": {
      "image/png": "[encoded data removed]",
      "text/plain": [
       "<Figure size 432x288 with 1 Axes>"
      ]
     },
     "metadata": {
      "needs_background": "light"
     },
     "output_type": "display_data"
    }
   ],
   "source": [
    "# plt.plot(x, y)\n",
    "plt.plot(x, y);"
   ]
  },
  {
   "cell_type": "markdown",
   "id": "c19c084f",
   "metadata": {},
   "source": [
    "## 1차 함수 그래프\n",
    "\n",
    "\n",
    "$ f(x) = 3x - 2 $"
   ]
  },
  {
   "cell_type": "code",
   "execution_count": 48,
   "id": "2b1241ec",
   "metadata": {},
   "outputs": [],
   "source": [
    "x = Symbol('x')\n",
    "fx = 3*x - 2"
   ]
  },
  {
   "cell_type": "code",
   "execution_count": 49,
   "id": "2470d41f",
   "metadata": {},
   "outputs": [
    {
     "data": {
      "text/latex": [
       "$\\displaystyle 16$"
      ],
      "text/plain": [
       "16"
      ]
     },
     "execution_count": 49,
     "metadata": {},
     "output_type": "execute_result"
    }
   ],
   "source": [
    "fx.subs(x, 6)"
   ]
  },
  {
   "cell_type": "code",
   "execution_count": 50,
   "id": "8e2ab486",
   "metadata": {},
   "outputs": [],
   "source": [
    "xList = [1, 2, 3, 4, 5]"
   ]
  },
  {
   "cell_type": "code",
   "execution_count": 51,
   "id": "6115f258",
   "metadata": {},
   "outputs": [
    {
     "data": {
      "text/plain": [
       "[1, 4, 7, 10, 13]"
      ]
     },
     "execution_count": 51,
     "metadata": {},
     "output_type": "execute_result"
    }
   ],
   "source": [
    "# 함수값을 구성된 리스트 생성\n",
    "yList = []\n",
    "for i in xList:\n",
    "    temp = fx.subs(x, i)\n",
    "    yList.append(temp)\n",
    "yList"
   ]
  },
  {
   "cell_type": "code",
   "execution_count": 52,
   "id": "c660a8a0",
   "metadata": {},
   "outputs": [
    {
     "data": {
      "image/png": "[encoded data removed]",
      "text/plain": [
       "<Figure size 432x288 with 1 Axes>"
      ]
     },
     "metadata": {
      "needs_background": "light"
     },
     "output_type": "display_data"
    }
   ],
   "source": [
    "plt.plot(xList, yList);"
   ]
  },
  {
   "cell_type": "code",
   "execution_count": 53,
   "id": "d11a4f6d",
   "metadata": {},
   "outputs": [
    {
     "data": {
      "text/plain": [
       "[1, 4, 7, 10, 13]"
      ]
     },
     "execution_count": 53,
     "metadata": {},
     "output_type": "execute_result"
    }
   ],
   "source": [
    "# 함수값을 구성된 리스트 생성 2 - map + lambda\n",
    "yList2 = list(map(lambda y: fx.subs(x, y), xList))\n",
    "yList2"
   ]
  },
  {
   "cell_type": "code",
   "execution_count": 57,
   "id": "2aacb817",
   "metadata": {},
   "outputs": [],
   "source": [
    "# map 문법\n",
    "# map(함수명이나 람다함수, 리스트)\n",
    "xList = [1, 2, 3, 4, 5]\n",
    "\n",
    "##yList = xList*2\n",
    "##yList"
   ]
  },
  {
   "cell_type": "code",
   "execution_count": 58,
   "id": "5005955e",
   "metadata": {},
   "outputs": [],
   "source": [
    "# 리스트 요소 한개에 대한 함수 정의\n",
    "def double(x):\n",
    "    return 2*x"
   ]
  },
  {
   "cell_type": "code",
   "execution_count": 59,
   "id": "cc689b13",
   "metadata": {},
   "outputs": [
    {
     "data": {
      "text/plain": [
       "[2, 4, 6, 8, 10]"
      ]
     },
     "execution_count": 59,
     "metadata": {},
     "output_type": "execute_result"
    }
   ],
   "source": [
    "# 리스트 요소 한개에 대한 함수 정의\n",
    "list(map(double, xList))"
   ]
  },
  {
   "cell_type": "code",
   "execution_count": 64,
   "id": "7e3b7fab",
   "metadata": {},
   "outputs": [
    {
     "data": {
      "text/plain": [
       "[2, 4, 6, 8, 10]"
      ]
     },
     "execution_count": 64,
     "metadata": {},
     "output_type": "execute_result"
    }
   ],
   "source": [
    "# map()에 람다 적용\n",
    "yList = list(map(lambda x:2*x, xList))\n",
    "yList"
   ]
  },
  {
   "cell_type": "code",
   "execution_count": 65,
   "id": "dbccece4",
   "metadata": {},
   "outputs": [
    {
     "data": {
      "text/plain": [
       "[2, 4, 6, 8, 10]"
      ]
     },
     "execution_count": 65,
     "metadata": {},
     "output_type": "execute_result"
    }
   ],
   "source": [
    "yList = []\n",
    "for i in xList:\n",
    "    temp = 2*i\n",
    "    yList.append(temp)\n",
    "yList"
   ]
  },
  {
   "cell_type": "markdown",
   "id": "b2995ff9",
   "metadata": {},
   "source": [
    "## 1차 함수 그래프 - 넘파이 활용\n",
    "$ f(x) = 3x - 2 $\n",
    "```\n",
    "$ f(x) = 3x - 2 $\n",
    "```"
   ]
  },
  {
   "cell_type": "code",
   "execution_count": 66,
   "id": "cff130de",
   "metadata": {},
   "outputs": [
    {
     "data": {
      "text/plain": [
       "[1, 2, 3, 4, 5]"
      ]
     },
     "execution_count": 66,
     "metadata": {},
     "output_type": "execute_result"
    }
   ],
   "source": [
    "xList"
   ]
  },
  {
   "cell_type": "code",
   "execution_count": 70,
   "id": "0943417b",
   "metadata": {},
   "outputs": [
    {
     "data": {
      "text/plain": [
       "array([1, 2, 3, 4, 5])"
      ]
     },
     "execution_count": 70,
     "metadata": {},
     "output_type": "execute_result"
    }
   ],
   "source": [
    "# 넘파이 배열화\n",
    "# np.array(리스트)\n",
    "np1 = np.array(xList)\n",
    "np1"
   ]
  },
  {
   "cell_type": "code",
   "execution_count": 71,
   "id": "5f875111",
   "metadata": {},
   "outputs": [
    {
     "name": "stdout",
     "output_type": "stream",
     "text": [
      "[1 2 3 4 5] <class 'numpy.ndarray'>\n"
     ]
    }
   ],
   "source": [
    "print(np1, type(np1))"
   ]
  },
  {
   "cell_type": "code",
   "execution_count": 72,
   "id": "0823efdc",
   "metadata": {},
   "outputs": [
    {
     "data": {
      "text/plain": [
       "array([ 2,  4,  6,  8, 10])"
      ]
     },
     "execution_count": 72,
     "metadata": {},
     "output_type": "execute_result"
    }
   ],
   "source": [
    "np2 = np1*2\n",
    "np2"
   ]
  },
  {
   "cell_type": "code",
   "execution_count": 76,
   "id": "a16ce8d0",
   "metadata": {},
   "outputs": [
    {
     "data": {
      "image/png": "[encoded data removed]",
      "text/plain": [
       "<Figure size 432x288 with 1 Axes>"
      ]
     },
     "metadata": {
      "needs_background": "light"
     },
     "output_type": "display_data"
    }
   ],
   "source": [
    "plt.plot(np1, np2);"
   ]
  },
  {
   "cell_type": "markdown",
   "id": "0b27c912",
   "metadata": {},
   "source": [
    "# 퀴즈 : 2차원 그래프 그리기\n",
    "$$ f(x) = x^2 + 3x + 5 $$\n",
    "```\n",
    "$$ f(x) = x^2 + 3x + 5 $$\n",
    "```"
   ]
  },
  {
   "cell_type": "markdown",
   "id": "65fd3e9d",
   "metadata": {},
   "source": [
    "## 넘파이 배열 이용"
   ]
  },
  {
   "cell_type": "code",
   "execution_count": 101,
   "id": "d1570942",
   "metadata": {},
   "outputs": [
    {
     "data": {
      "text/plain": [
       "[0, 2, 4, 6, 8, 10, 12, 14, 16, 18]"
      ]
     },
     "execution_count": 101,
     "metadata": {},
     "output_type": "execute_result"
    }
   ],
   "source": [
    "#range(start, end, step)\n",
    "range(0, 20, 2) # range(0, 20, 2)\n",
    "list(range(0, 20, 2)) # [0, 2, 4, 6, 8, 10, 12, 14, 16, 18]"
   ]
  },
  {
   "cell_type": "code",
   "execution_count": 102,
   "id": "9783e06f",
   "metadata": {},
   "outputs": [
    {
     "data": {
      "text/plain": [
       "[0, 1, 2, 3, 4, 5, 6, 7, 8, 9, 10]"
      ]
     },
     "execution_count": 102,
     "metadata": {},
     "output_type": "execute_result"
    }
   ],
   "source": [
    "xList  = list(range(11))\n",
    "xList"
   ]
  },
  {
   "cell_type": "code",
   "execution_count": 104,
   "id": "fe56415d",
   "metadata": {},
   "outputs": [
    {
     "data": {
      "text/plain": [
       "array([ 0,  1,  2,  3,  4,  5,  6,  7,  8,  9, 10])"
      ]
     },
     "execution_count": 104,
     "metadata": {},
     "output_type": "execute_result"
    }
   ],
   "source": [
    "# 넘파이 배열화\n",
    "np_x = np.array(xList)\n",
    "np_x"
   ]
  },
  {
   "cell_type": "code",
   "execution_count": 105,
   "id": "2ba19f5a",
   "metadata": {},
   "outputs": [
    {
     "data": {
      "text/plain": [
       "array([  5,   9,  15,  23,  33,  45,  59,  75,  93, 113, 135])"
      ]
     },
     "execution_count": 105,
     "metadata": {},
     "output_type": "execute_result"
    }
   ],
   "source": [
    "np_y = np_x**2 + 3*np_x + 5\n",
    "np_y"
   ]
  },
  {
   "cell_type": "code",
   "execution_count": 107,
   "id": "36018895",
   "metadata": {},
   "outputs": [
    {
     "data": {
      "image/png": "[encoded data removed]",
      "text/plain": [
       "<Figure size 432x288 with 1 Axes>"
      ]
     },
     "metadata": {
      "needs_background": "light"
     },
     "output_type": "display_data"
    }
   ],
   "source": [
    "plt.plot(np_x, np_y);"
   ]
  },
  {
   "cell_type": "markdown",
   "id": "ebae9f1f",
   "metadata": {},
   "source": [
    "## map( ) 이용"
   ]
  },
  {
   "cell_type": "code",
   "execution_count": 108,
   "id": "adb33880",
   "metadata": {},
   "outputs": [],
   "source": [
    "x = Symbol('x')\n",
    "fx = x**2 + 3*x + 5"
   ]
  },
  {
   "cell_type": "code",
   "execution_count": 109,
   "id": "81bd318c",
   "metadata": {},
   "outputs": [
    {
     "data": {
      "text/plain": [
       "[0, 1, 2, 3, 4, 5, 6, 7, 8, 9, 10]"
      ]
     },
     "execution_count": 109,
     "metadata": {},
     "output_type": "execute_result"
    }
   ],
   "source": [
    "xList"
   ]
  },
  {
   "cell_type": "code",
   "execution_count": 115,
   "id": "1bf02fa5",
   "metadata": {},
   "outputs": [
    {
     "data": {
      "text/plain": [
       "[5, 9, 15, 23, 33, 45, 59, 75, 93, 113, 135]"
      ]
     },
     "execution_count": 115,
     "metadata": {},
     "output_type": "execute_result"
    }
   ],
   "source": [
    "yList = list(map(lambda y : fx.subs(x, y), xList))\n",
    "yList"
   ]
  },
  {
   "cell_type": "code",
   "execution_count": 111,
   "id": "64af9eee",
   "metadata": {},
   "outputs": [
    {
     "data": {
      "image/png": "[encoded data removed]",
      "text/plain": [
       "<Figure size 432x288 with 1 Axes>"
      ]
     },
     "metadata": {
      "needs_background": "light"
     },
     "output_type": "display_data"
    }
   ],
   "source": [
    "plt.plot(xList, yList);"
   ]
  },
  {
   "cell_type": "markdown",
   "id": "e2cc7388",
   "metadata": {},
   "source": [
    "## Quiz - My Solution"
   ]
  },
  {
   "cell_type": "code",
   "execution_count": 95,
   "id": "bf1ffad8",
   "metadata": {},
   "outputs": [
    {
     "name": "stdout",
     "output_type": "stream",
     "text": [
      "[-10, -9, -8, -7, -6, -5, -4, -3, -2, -1, 0, 1, 2, 3, 4, 5, 6, 7, 8, 9]\n"
     ]
    }
   ],
   "source": [
    "xList = list(range(-10, 10))\n",
    "print(xList)"
   ]
  },
  {
   "cell_type": "code",
   "execution_count": 96,
   "id": "626439aa",
   "metadata": {},
   "outputs": [
    {
     "name": "stdout",
     "output_type": "stream",
     "text": [
      "[75, 59, 45, 33, 23, 15, 9, 5, 3, 3, 5, 9, 15, 23, 33, 45, 59, 75, 93, 113]\n"
     ]
    }
   ],
   "source": [
    "yList = list(map(lambda x:x**2 + 3*x + 5, xList))\n",
    "print(yList)"
   ]
  },
  {
   "cell_type": "code",
   "execution_count": 97,
   "id": "dc65fb1e",
   "metadata": {},
   "outputs": [
    {
     "data": {
      "image/png": "[encoded data removed]",
      "text/plain": [
       "<Figure size 432x288 with 1 Axes>"
      ]
     },
     "metadata": {
      "needs_background": "light"
     },
     "output_type": "display_data"
    }
   ],
   "source": [
    "plt.plot(xList, yList);"
   ]
  }
 ],
 "metadata": {
  "kernelspec": {
   "display_name": "Python 3 (ipykernel)",
   "language": "python",
   "name": "python3"
  },
  "language_info": {
   "codemirror_mode": {
    "name": "ipython",
    "version": 3
   },
   "file_extension": ".py",
   "mimetype": "text/x-python",
   "name": "python",
   "nbconvert_exporter": "python",
   "pygments_lexer": "ipython3",
   "version": "3.9.7"
  }
 },
 "nbformat": 4,
 "nbformat_minor": 5
}
