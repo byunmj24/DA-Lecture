{
 "cells": [
  {
   "cell_type": "code",
   "execution_count": 2,
   "id": "f3f19a4a",
   "metadata": {},
   "outputs": [
    {
     "data": {
      "text/html": [
       "<style>.container { font-weight: bold !important; }</style>"
      ],
      "text/plain": [
       "<IPython.core.display.HTML object>"
      ]
     },
     "metadata": {},
     "output_type": "display_data"
    },
    {
     "data": {
      "text/html": [
       "<style>.container { width: 100% !important; }</style>"
      ],
      "text/plain": [
       "<IPython.core.display.HTML object>"
      ]
     },
     "metadata": {},
     "output_type": "display_data"
    }
   ],
   "source": [
    "# 쥬피터노트북 셀 스타일 조절 \n",
    "from IPython.core.display import display, HTML\n",
    "display(HTML(\"<style>.container { font-weight: bold !important; }</style>\"))\n",
    "display(HTML(\"<style>.container { width: 100% !important; }</style>\"))\n",
    "\n",
    "import warnings\n",
    "warnings.filterwarnings(action='ignore')"
   ]
  },
  {
   "cell_type": "code",
   "execution_count": 4,
   "id": "e89c4dfe",
   "metadata": {},
   "outputs": [],
   "source": [
    "import matplotlib.pyplot as plt\n",
    "import numpy as np\n",
    "from sympy import Symbol, solve, Derivative, diff"
   ]
  },
  {
   "attachments": {},
   "cell_type": "markdown",
   "id": "d2ac3629",
   "metadata": {},
   "source": [
    "# 평균변화율\n",
    "\n",
    "- x가 변하는 양에 대해 y가 얼마나 변하는지를 구하는 변화율\n",
    "\n",
    "$$ {\\Delta y} \\over {\\Delta x} $$"
   ]
  },
  {
   "cell_type": "markdown",
   "id": "da1566f7",
   "metadata": {},
   "source": [
    "$$ f(x) = 2x^2 + 4x + 7 $$\n",
    "\n",
    "```\n",
    "$$ f(x) = 2x^2 + 4x + 7 $$\n",
    "```"
   ]
  },
  {
   "cell_type": "code",
   "execution_count": 13,
   "id": "2daa09ac",
   "metadata": {},
   "outputs": [],
   "source": [
    "# 평균변화율 함수 정의 \n",
    "def average(a,b):\n",
    "    m = max(a,b)      \n",
    "    n = min(a,b)      \n",
    "    x = Symbol('x')  \n",
    "\n",
    "    fx = 2 * x ** 2 + 4 * x + 7 \n",
    "    fb = fx.subs(x, m)  \n",
    "    fa = fx.subs(x, n)  \n",
    "\n",
    "    # 평균변화율 공식 => y의 증가량/x의 증가량    \n",
    "    result = (fb - fa) / (m - n)\n",
    "    return result"
   ]
  },
  {
   "cell_type": "code",
   "execution_count": 14,
   "id": "a4df0b3e",
   "metadata": {},
   "outputs": [
    {
     "data": {
      "text/latex": [
       "$\\displaystyle 8$"
      ],
      "text/plain": [
       "8"
      ]
     },
     "execution_count": 14,
     "metadata": {},
     "output_type": "execute_result"
    }
   ],
   "source": [
    "x1 = 0\n",
    "x2 = 2\n",
    "\n",
    "# 두점 (0,7) 와 (2,23) 의 평균 변화률은?\n",
    "average(x1,x2)"
   ]
  },
  {
   "cell_type": "code",
   "execution_count": 15,
   "id": "1ef4a1a3",
   "metadata": {},
   "outputs": [
    {
     "data": {
      "text/plain": [
       "8.0"
      ]
     },
     "execution_count": 15,
     "metadata": {},
     "output_type": "execute_result"
    }
   ],
   "source": [
    "(23-7)/(2-0)"
   ]
  },
  {
   "cell_type": "markdown",
   "id": "ef58a805",
   "metadata": {},
   "source": [
    "## 도함수 \n",
    "- f(x)를 미분하여 얻은 함수\n",
    "- sympy.Derivative(함수식, x).doit()\n",
    "- sympy.diff(함수식, x)\n",
    "\n",
    "\n",
    "## 미분계수 \n",
    "- 순간변화율. \n"
   ]
  },
  {
   "cell_type": "code",
   "execution_count": 17,
   "id": "48255702",
   "metadata": {},
   "outputs": [],
   "source": [
    "from sympy import Symbol, Derivative, diff"
   ]
  },
  {
   "cell_type": "markdown",
   "id": "478e7ab9",
   "metadata": {},
   "source": [
    "### Derivative() 를 이용한 도함수와 미분계수 구하기 \n",
    "\n",
    "$ 2 \\times x^2 + 4 \\times x + 7  $"
   ]
  },
  {
   "cell_type": "code",
   "execution_count": 18,
   "id": "85ce6fa9",
   "metadata": {},
   "outputs": [
    {
     "data": {
      "text/latex": [
       "$\\displaystyle 2 x^{2} + 4 x + 7$"
      ],
      "text/plain": [
       "2*x**2 + 4*x + 7"
      ]
     },
     "execution_count": 18,
     "metadata": {},
     "output_type": "execute_result"
    }
   ],
   "source": [
    "# x를 기호 변수화\n",
    "x = Symbol('x')   \n",
    "fx = 2 * x ** 2 + 4 * x + 7\n",
    "\n",
    "fx"
   ]
  },
  {
   "cell_type": "code",
   "execution_count": 19,
   "id": "184b007b",
   "metadata": {},
   "outputs": [
    {
     "data": {
      "text/latex": [
       "$\\displaystyle 4 x + 4$"
      ],
      "text/plain": [
       "4*x + 4"
      ]
     },
     "execution_count": 19,
     "metadata": {},
     "output_type": "execute_result"
    }
   ],
   "source": [
    "# 도함수 생성 \n",
    "# Derivative(함수식, x).doit()\n",
    "# x 는 기호심벌화된 x \n",
    "\n",
    "fprime = Derivative(fx, x).doit()  \n",
    "fprime"
   ]
  },
  {
   "cell_type": "code",
   "execution_count": 21,
   "id": "a96e4893",
   "metadata": {},
   "outputs": [
    {
     "data": {
      "text/latex": [
       "$\\displaystyle 16$"
      ],
      "text/plain": [
       "16"
      ]
     },
     "execution_count": 21,
     "metadata": {},
     "output_type": "execute_result"
    }
   ],
   "source": [
    "# 도함수 적용 => x값 삽입후 미분계수 \n",
    "# 도함수.subs({x: 실제x값})\n",
    "n = fprime.subs({x: 3})\n",
    "n"
   ]
  },
  {
   "cell_type": "code",
   "execution_count": 23,
   "id": "f36a2049",
   "metadata": {
    "scrolled": true
   },
   "outputs": [
    {
     "name": "stdout",
     "output_type": "stream",
     "text": [
      "2*x**2 + 4*x + 7\n",
      "4*x + 4\n",
      "fx에서 x = 3 에서의 순간변화율(미분계수는)  16 입니다\n"
     ]
    }
   ],
   "source": [
    "print(fx)\n",
    "print(fprime)\n",
    "print(\"fx에서 x = 3 에서의 순간변화율(미분계수는) \", n , \"입니다\")"
   ]
  },
  {
   "cell_type": "markdown",
   "id": "d89cd546",
   "metadata": {},
   "source": [
    "### diff 를 이용한 도함수와 미분계수 구하기 \n",
    "\n",
    "$ 2 \\times x^2 + 4 \\times x + 7  $"
   ]
  },
  {
   "cell_type": "code",
   "execution_count": 40,
   "id": "b8fc1379",
   "metadata": {},
   "outputs": [
    {
     "data": {
      "text/latex": [
       "$\\displaystyle 2 x^{2} + 4 x + 7$"
      ],
      "text/plain": [
       "2*x**2 + 4*x + 7"
      ]
     },
     "execution_count": 40,
     "metadata": {},
     "output_type": "execute_result"
    }
   ],
   "source": [
    "# x를 기호 변수화\n",
    "x = Symbol('x')   \n",
    "fx = 2 * x ** 2 + 4 * x + 7\n",
    "\n",
    "fx"
   ]
  },
  {
   "cell_type": "code",
   "execution_count": 38,
   "id": "a555ecc6",
   "metadata": {},
   "outputs": [
    {
     "data": {
      "text/latex": [
       "$\\displaystyle 4 x + 4$"
      ],
      "text/plain": [
       "4*x + 4"
      ]
     },
     "execution_count": 38,
     "metadata": {},
     "output_type": "execute_result"
    }
   ],
   "source": [
    "# 도함수 정의 \n",
    "# 도함수 생성 \n",
    "# diff(함수식, x)\n",
    "# x 는 기호심벌화된 x \n",
    "\n",
    "fprime2 = diff(fx, x)  \n",
    "fprime2"
   ]
  },
  {
   "cell_type": "code",
   "execution_count": 39,
   "id": "2e0a02c5",
   "metadata": {},
   "outputs": [
    {
     "data": {
      "text/latex": [
       "$\\displaystyle 16$"
      ],
      "text/plain": [
       "16"
      ]
     },
     "execution_count": 39,
     "metadata": {},
     "output_type": "execute_result"
    }
   ],
   "source": [
    "# 도함수 적용 => x값 삽입후 미분계수 \n",
    "# 도함수.subs({x: 실제x값})\n",
    "n = fprime.subs({x: 3})\n",
    "n"
   ]
  },
  {
   "cell_type": "code",
   "execution_count": null,
   "id": "383b1bc5",
   "metadata": {},
   "outputs": [],
   "source": []
  },
  {
   "cell_type": "markdown",
   "id": "169ae295",
   "metadata": {},
   "source": [
    "### 퀴즈 \n",
    "\n",
    "도함수를 구하고 x 값이 1 일때의 미분계수를 구하여라.\n",
    "$$ f(x) = (x^3 + 5)(x^2 - 1) $$\n",
    "\n",
    "```\n",
    "$$ f(x) = (x^3 + 5)(x^2 - 1) $$\n",
    "```"
   ]
  },
  {
   "cell_type": "code",
   "execution_count": 44,
   "id": "e1c947fd",
   "metadata": {},
   "outputs": [
    {
     "data": {
      "text/latex": [
       "$\\displaystyle \\left(x^{2} - 1\\right) \\left(x^{3} + 5\\right)$"
      ],
      "text/plain": [
       "(x**2 - 1)*(x**3 + 5)"
      ]
     },
     "execution_count": 44,
     "metadata": {},
     "output_type": "execute_result"
    }
   ],
   "source": [
    "x = Symbol('x')   \n",
    "fx = ((x**3)+5)*((x**2)-1)\n",
    "fx"
   ]
  },
  {
   "cell_type": "code",
   "execution_count": 45,
   "id": "da17183d",
   "metadata": {},
   "outputs": [
    {
     "data": {
      "text/latex": [
       "$\\displaystyle 3 x^{2} \\left(x^{2} - 1\\right) + 2 x \\left(x^{3} + 5\\right)$"
      ],
      "text/plain": [
       "3*x**2*(x**2 - 1) + 2*x*(x**3 + 5)"
      ]
     },
     "execution_count": 45,
     "metadata": {},
     "output_type": "execute_result"
    }
   ],
   "source": [
    "## Derivative() 활용 \n",
    "fprime = Derivative(fx, x).doit()\n",
    "fprime"
   ]
  },
  {
   "cell_type": "code",
   "execution_count": 47,
   "id": "96ac2414",
   "metadata": {},
   "outputs": [
    {
     "data": {
      "text/latex": [
       "$\\displaystyle 12$"
      ],
      "text/plain": [
       "12"
      ]
     },
     "execution_count": 47,
     "metadata": {},
     "output_type": "execute_result"
    }
   ],
   "source": [
    "fprime.subs({x:1})"
   ]
  },
  {
   "cell_type": "code",
   "execution_count": 48,
   "id": "d5fc7a0e",
   "metadata": {},
   "outputs": [
    {
     "data": {
      "text/latex": [
       "$\\displaystyle 3 x^{2} \\left(x^{2} - 1\\right) + 2 x \\left(x^{3} + 5\\right)$"
      ],
      "text/plain": [
       "3*x**2*(x**2 - 1) + 2*x*(x**3 + 5)"
      ]
     },
     "execution_count": 48,
     "metadata": {},
     "output_type": "execute_result"
    }
   ],
   "source": [
    "## diff() 활용 \n",
    "fprime2 = diff(fx, x)\n",
    "fprime2"
   ]
  },
  {
   "cell_type": "code",
   "execution_count": 49,
   "id": "37b4ebef",
   "metadata": {
    "scrolled": true
   },
   "outputs": [
    {
     "data": {
      "text/latex": [
       "$\\displaystyle 12$"
      ],
      "text/plain": [
       "12"
      ]
     },
     "execution_count": 49,
     "metadata": {},
     "output_type": "execute_result"
    }
   ],
   "source": [
    "fprime2.subs({x:1})"
   ]
  },
  {
   "cell_type": "code",
   "execution_count": null,
   "id": "4f9e8409",
   "metadata": {},
   "outputs": [],
   "source": []
  }
 ],
 "metadata": {
  "kernelspec": {
   "display_name": "Python 3",
   "language": "python",
   "name": "python3"
  },
  "language_info": {
   "codemirror_mode": {
    "name": "ipython",
    "version": 3
   },
   "file_extension": ".py",
   "mimetype": "text/x-python",
   "name": "python",
   "nbconvert_exporter": "python",
   "pygments_lexer": "ipython3",
   "version": "3.8.8"
  }
 },
 "nbformat": 4,
 "nbformat_minor": 5
}
