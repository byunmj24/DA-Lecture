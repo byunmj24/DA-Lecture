{
 "cells": [
  {
   "cell_type": "markdown",
   "id": "6a79399a",
   "metadata": {},
   "source": [
    "# 방정식\n",
    "\n",
    "- Sympy 이용 \n",
    "- 기호 수학(symbolic math)을 위한 파이썬 라이브러리\n",
    "- https://docs.sympy.org/latest/index.html\n"
   ]
  },
  {
   "cell_type": "code",
   "execution_count": 2,
   "id": "44c65db4",
   "metadata": {},
   "outputs": [],
   "source": [
    "# pip list"
   ]
  },
  {
   "cell_type": "code",
   "execution_count": 3,
   "id": "d2141de0",
   "metadata": {},
   "outputs": [],
   "source": [
    "# 모듈 임포트 \n",
    "from sympy import Symbol, solve"
   ]
  },
  {
   "cell_type": "code",
   "execution_count": 4,
   "id": "02c04004",
   "metadata": {},
   "outputs": [
    {
     "data": {
      "text/latex": [
       "$\\displaystyle x$"
      ],
      "text/plain": [
       "x"
      ]
     },
     "execution_count": 4,
     "metadata": {},
     "output_type": "execute_result"
    }
   ],
   "source": [
    "# 심볼화 \n",
    "x = Symbol('x')\n",
    "x"
   ]
  },
  {
   "cell_type": "code",
   "execution_count": 6,
   "id": "21f8bd4e",
   "metadata": {},
   "outputs": [
    {
     "data": {
      "text/plain": [
       "(2*x - 6, sympy.core.add.Add)"
      ]
     },
     "execution_count": 6,
     "metadata": {},
     "output_type": "execute_result"
    }
   ],
   "source": [
    "# 방정식 생성\n",
    "equation = 2*x - 6\n",
    "equation, type(equation)"
   ]
  },
  {
   "cell_type": "code",
   "execution_count": 8,
   "id": "79c78ac3",
   "metadata": {},
   "outputs": [
    {
     "data": {
      "text/plain": [
       "([3], list)"
      ]
     },
     "execution_count": 8,
     "metadata": {},
     "output_type": "execute_result"
    }
   ],
   "source": [
    "# 해를 구한다. => 리스트\n",
    "solve(equation), type(solve(equation))"
   ]
  },
  {
   "cell_type": "code",
   "execution_count": 9,
   "id": "3819d08d",
   "metadata": {},
   "outputs": [
    {
     "data": {
      "text/plain": [
       "[{x: 3}]"
      ]
     },
     "execution_count": 9,
     "metadata": {},
     "output_type": "execute_result"
    }
   ],
   "source": [
    "# 딕셔너리 리스트로 반환 \n",
    "solve(equation, dict=True)"
   ]
  },
  {
   "cell_type": "markdown",
   "id": "de608644",
   "metadata": {},
   "source": [
    "### 연립방정식"
   ]
  },
  {
   "cell_type": "code",
   "execution_count": 12,
   "id": "a7cebf13",
   "metadata": {},
   "outputs": [
    {
     "data": {
      "text/plain": [
       "(x, y)"
      ]
     },
     "execution_count": 12,
     "metadata": {},
     "output_type": "execute_result"
    }
   ],
   "source": [
    "x=Symbol('x')\n",
    "y=Symbol('y')\n",
    "x, y"
   ]
  },
  {
   "cell_type": "code",
   "execution_count": 13,
   "id": "6dcb2a16",
   "metadata": {},
   "outputs": [
    {
     "data": {
      "text/plain": [
       "(3*x + y - 2, x - 2*y - 3)"
      ]
     },
     "execution_count": 13,
     "metadata": {},
     "output_type": "execute_result"
    }
   ],
   "source": [
    "equation1 = 3 * x + y - 2\n",
    "equation2 = x - 2 * y - 3\n",
    "equation1, equation2"
   ]
  },
  {
   "cell_type": "code",
   "execution_count": 14,
   "id": "1faaa7b8",
   "metadata": {},
   "outputs": [
    {
     "data": {
      "text/plain": [
       "{x: 1, y: -1}"
      ]
     },
     "execution_count": 14,
     "metadata": {},
     "output_type": "execute_result"
    }
   ],
   "source": [
    "solve((equation1, equation2))  "
   ]
  },
  {
   "cell_type": "code",
   "execution_count": 19,
   "id": "1040fce8",
   "metadata": {},
   "outputs": [],
   "source": [
    "result = solve((equation1, equation2)) "
   ]
  },
  {
   "cell_type": "code",
   "execution_count": 22,
   "id": "992ef289",
   "metadata": {},
   "outputs": [
    {
     "name": "stdout",
     "output_type": "stream",
     "text": [
      " x 값은? 1 , y 값은? -1  \n"
     ]
    }
   ],
   "source": [
    "print(f\" x 값은? {result[x]} , y 값은? {result[y]}  \")"
   ]
  },
  {
   "cell_type": "code",
   "execution_count": 16,
   "id": "7756fc21",
   "metadata": {},
   "outputs": [
    {
     "data": {
      "text/plain": [
       "[{x: 1, y: -1}]"
      ]
     },
     "execution_count": 16,
     "metadata": {},
     "output_type": "execute_result"
    }
   ],
   "source": [
    "solve((equation1, equation2), dict=True)  "
   ]
  },
  {
   "cell_type": "markdown",
   "id": "8dd50ecd",
   "metadata": {},
   "source": [
    "## 1차 함수 \n",
    "\n",
    "$ f(x) = 3x - 2 $"
   ]
  },
  {
   "cell_type": "code",
   "execution_count": 23,
   "id": "8e2193fe",
   "metadata": {},
   "outputs": [
    {
     "data": {
      "text/latex": [
       "$\\displaystyle x$"
      ],
      "text/plain": [
       "x"
      ]
     },
     "execution_count": 23,
     "metadata": {},
     "output_type": "execute_result"
    }
   ],
   "source": [
    "x = Symbol('x')\n",
    "x"
   ]
  },
  {
   "cell_type": "code",
   "execution_count": 24,
   "id": "730e4660",
   "metadata": {},
   "outputs": [
    {
     "data": {
      "text/latex": [
       "$\\displaystyle 3 x - 2$"
      ],
      "text/plain": [
       "3*x - 2"
      ]
     },
     "execution_count": 24,
     "metadata": {},
     "output_type": "execute_result"
    }
   ],
   "source": [
    "# 함수 정의 \n",
    "fx = 3*x - 2\n",
    "fx"
   ]
  },
  {
   "cell_type": "code",
   "execution_count": 26,
   "id": "b8d57fd1",
   "metadata": {},
   "outputs": [
    {
     "data": {
      "text/latex": [
       "$\\displaystyle 16$"
      ],
      "text/plain": [
       "16"
      ]
     },
     "execution_count": 26,
     "metadata": {},
     "output_type": "execute_result"
    }
   ],
   "source": [
    "# 함수값 구하기 \n",
    "# 함수식.subs(x, 값)\n",
    "fx.subs(x, 6)"
   ]
  },
  {
   "cell_type": "code",
   "execution_count": 27,
   "id": "8f21074d",
   "metadata": {},
   "outputs": [
    {
     "name": "stdout",
     "output_type": "stream",
     "text": [
      " x = 1 일때 함수값은? 1\n",
      " x = 5 일때 함수값은? 13\n",
      " x = 10 일때 함수값은? 28\n"
     ]
    }
   ],
   "source": [
    "print(f' x = 1 일때 함수값은? {fx.subs(x, 1)}')\n",
    "print(f' x = 5 일때 함수값은? {fx.subs(x, 5)}')\n",
    "print(f' x = 10 일때 함수값은? {fx.subs(x, 10)}')"
   ]
  },
  {
   "cell_type": "markdown",
   "id": "f41135f6",
   "metadata": {},
   "source": [
    "## 2차함수 \n",
    "\n",
    "$$ f(x) = x^2 + 3x + 5 $$\n",
    "```\n",
    "$$ f(x) = x^2 + 3x + 5 $$\n",
    "```"
   ]
  },
  {
   "cell_type": "code",
   "execution_count": 28,
   "id": "ca2b43e8",
   "metadata": {},
   "outputs": [
    {
     "data": {
      "text/latex": [
       "$\\displaystyle x$"
      ],
      "text/plain": [
       "x"
      ]
     },
     "execution_count": 28,
     "metadata": {},
     "output_type": "execute_result"
    }
   ],
   "source": [
    "x = Symbol('x')\n",
    "x"
   ]
  },
  {
   "cell_type": "code",
   "execution_count": 29,
   "id": "88489c16",
   "metadata": {},
   "outputs": [
    {
     "data": {
      "text/latex": [
       "$\\displaystyle x^{2} + 3 x + 5$"
      ],
      "text/plain": [
       "x**2 + 3*x + 5"
      ]
     },
     "execution_count": 29,
     "metadata": {},
     "output_type": "execute_result"
    }
   ],
   "source": [
    "fx = x**2 + 3*x + 5\n",
    "fx"
   ]
  },
  {
   "cell_type": "code",
   "execution_count": 30,
   "id": "fb9167ed",
   "metadata": {},
   "outputs": [
    {
     "name": "stdout",
     "output_type": "stream",
     "text": [
      " x = 1 일때 함수값은? 9\n",
      " x = 5 일때 함수값은? 45\n",
      " x = 10 일때 함수값은? 135\n"
     ]
    }
   ],
   "source": [
    "print(f' x = 1 일때 함수값은? {fx.subs(x, 1)}')\n",
    "print(f' x = 5 일때 함수값은? {fx.subs(x, 5)}')\n",
    "print(f' x = 10 일때 함수값은? {fx.subs(x, 10)}')"
   ]
  },
  {
   "cell_type": "code",
   "execution_count": 31,
   "id": "40aed234",
   "metadata": {},
   "outputs": [
    {
     "name": "stdout",
     "output_type": "stream",
     "text": [
      " x = 1 일때 함수값은? 9\n",
      " x = 4 일때 함수값은? 33\n",
      " x = 7 일때 함수값은? 75\n",
      " x = 10 일때 함수값은? 135\n",
      " x = 13 일때 함수값은? 213\n",
      " x = 16 일때 함수값은? 309\n",
      " x = 19 일때 함수값은? 423\n",
      " x = 22 일때 함수값은? 555\n",
      " x = 25 일때 함수값은? 705\n",
      " x = 28 일때 함수값은? 873\n"
     ]
    }
   ],
   "source": [
    "for i in range(1, 30, 3) :\n",
    "    print(f' x = {i} 일때 함수값은? {fx.subs(x, i)}')"
   ]
  },
  {
   "cell_type": "code",
   "execution_count": 32,
   "id": "2fcc4370",
   "metadata": {},
   "outputs": [
    {
     "name": "stdout",
     "output_type": "stream",
     "text": [
      " x = 10 일때 함수값은? 135\n",
      " x = -78 일때 함수값은? 5855\n",
      " x = 7 일때 함수값은? 75\n",
      " x = 90 일때 함수값은? 8375\n",
      " x = 5 일때 함수값은? 45\n"
     ]
    }
   ],
   "source": [
    "xList = [ 10, -78, 7, 90, 5]\n",
    "for i in xList :\n",
    "    print(f' x = {i} 일때 함수값은? {fx.subs(x, i)}')"
   ]
  }
 ],
 "metadata": {
  "kernelspec": {
   "display_name": "Python 3",
   "language": "python",
   "name": "python3"
  },
  "language_info": {
   "codemirror_mode": {
    "name": "ipython",
    "version": 3
   },
   "file_extension": ".py",
   "mimetype": "text/x-python",
   "name": "python",
   "nbconvert_exporter": "python",
   "pygments_lexer": "ipython3",
   "version": "3.8.8"
  }
 },
 "nbformat": 4,
 "nbformat_minor": 5
}
