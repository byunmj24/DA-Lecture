{
 "cells": [
  {
   "cell_type": "markdown",
   "id": "f5b1ed0c",
   "metadata": {},
   "source": [
    "# Tex 문법을 이용한 기호 입력\n",
    "\n",
    "- https://ko.wikipedia.org/wiki/%EC%9C%84%ED%82%A4%EB%B0%B1%EA%B3%BC:TeX_%EB%AC%B8%EB%B2%95\n",
    "\n",
    "- 주피터노트북의 마크다운 모드에서 지원\n",
    "\n",
    "- Tex 문법 형식\n",
    "```\n",
    "\n",
    "블록 방식\n",
    "$$ Tex수식이나 기호 $$\n",
    "\n",
    "\n",
    "인라인 방식\n",
    "$ Tex수식이나 기호 $\n",
    "\n",
    "```"
   ]
  },
  {
   "cell_type": "markdown",
   "id": "37e9cd15",
   "metadata": {},
   "source": [
    "### 그리스 문자\n",
    "\n",
    "- 블록 방식\n",
    "$$ \\alpha \\beta \\gamma \\delta $$\n",
    "```\n",
    "$$ \\alpha \\beta \\gamma \\delta $$\n",
    "```\n",
    "\n",
    "- 인라인 방식\n",
    "$ \\alpha \\beta \\gamma \\delta $"
   ]
  },
  {
   "cell_type": "markdown",
   "id": "49926630",
   "metadata": {},
   "source": [
    "### 산술 연산자\n",
    "\n",
    "$$ +, -, \\times, \\div $$\n",
    "```\n",
    "$$ +, -, \\times, \\div $$\n",
    "```\n",
    "\n",
    "$ +, -, \\times, \\div $\n",
    "\n",
    "$ y = 2 \\times x $"
   ]
  },
  {
   "cell_type": "markdown",
   "id": "f3c68731",
   "metadata": {},
   "source": [
    "### 분수\n",
    "\n",
    "- \\quad 한칸 공백\n",
    "\n",
    "$$ \\frac{2}{4} \\quad or \\quad {2 \\over 4} $$\n",
    "```\n",
    "$$ \\frac{2}{4} \\quad or \\quad {2 \\over 4} $$\n",
    "```\n",
    "\n",
    "$ \\frac{2}{4} \\quad or \\quad {2 \\over 4} $"
   ]
  },
  {
   "cell_type": "markdown",
   "id": "32c233cf",
   "metadata": {},
   "source": [
    "### 근호\n",
    "\n",
    "$$ \\sqrt{2} $$\n",
    "```\n",
    "$$ \\frac{2}{4} \\quad or \\quad {2 \\over 4} $$\n",
    "```"
   ]
  },
  {
   "cell_type": "markdown",
   "id": "55c8dcc5",
   "metadata": {},
   "source": [
    "### 로그\n",
    "\n",
    "$$ y=log_{a}{x} $$\n",
    "```\n",
    "$$ y=log_{a}{x} $$\n",
    "```"
   ]
  },
  {
   "cell_type": "markdown",
   "id": "f1859af7",
   "metadata": {},
   "source": [
    "### 미분\n",
    "\n",
    "$$ x' $$\n",
    "```\n",
    "$$ x' $$\n",
    "```"
   ]
  },
  {
   "cell_type": "markdown",
   "id": "882405a9",
   "metadata": {},
   "source": [
    "### 머신러닝 - 실제값, 예측값, 평균값\n",
    "\n",
    "$ y $ 실제값 $\\hat{y}$ 예측값 $\\bar{y}$ 평균값\n",
    "```\n",
    "$ y $ 실제값 $\\hat{y}$ 예측값 $\\bar{y}$ 평균값\n",
    "```"
   ]
  }
 ],
 "metadata": {
  "kernelspec": {
   "display_name": "Python 3",
   "language": "python",
   "name": "python3"
  },
  "language_info": {
   "codemirror_mode": {
    "name": "ipython",
    "version": 3
   },
   "file_extension": ".py",
   "mimetype": "text/x-python",
   "name": "python",
   "nbconvert_exporter": "python",
   "pygments_lexer": "ipython3",
   "version": "3.8.8"
  }
 },
 "nbformat": 4,
 "nbformat_minor": 5
}
