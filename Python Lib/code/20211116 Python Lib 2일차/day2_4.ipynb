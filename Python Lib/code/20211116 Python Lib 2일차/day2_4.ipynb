{
 "cells": [
  {
   "cell_type": "code",
   "execution_count": 3,
   "id": "71a6cf65",
   "metadata": {},
   "outputs": [],
   "source": [
    "# jupyter notebook 경고메세지 숨김\n",
    "import warnings\n",
    "warnings.filterwarnings(action='ignore')"
   ]
  },
  {
   "cell_type": "code",
   "execution_count": 4,
   "id": "0b2a2c8f",
   "metadata": {},
   "outputs": [],
   "source": [
    "import matplotlib.pyplot as plt\n",
    "import numpy as np\n",
    "from sympy import Symbol, solve"
   ]
  },
  {
   "cell_type": "markdown",
   "id": "5566f26e",
   "metadata": {},
   "source": [
    "# 평균변화율\n",
    "$$ f(x) = 2x^2 + 4x+ 7 $$\n",
    "```\n",
    "$$ f(x) = 2x^2 + 4x+ 7 $$\n",
    "```"
   ]
  },
  {
   "cell_type": "code",
   "execution_count": 10,
   "id": "c91ff4aa",
   "metadata": {},
   "outputs": [],
   "source": [
    "# 평균변화율 함수 정의\n",
    "def average(a, b):\n",
    "    m = max(a, b)\n",
    "    n = min(a, b)\n",
    "    x = Symbol('x')\n",
    "    \n",
    "    fx = 2*x**2 + 4*x + 7\n",
    "    fb = fx.subs(x, m)\n",
    "    fa = fx.subs(x, n)\n",
    "    \n",
    "    # 평균변화율 공식 => y의 증가량 / x의 증가량\n",
    "    result = (fb - fa) / (m - n)\n",
    "    return result"
   ]
  },
  {
   "cell_type": "code",
   "execution_count": 7,
   "id": "aaa4cebd",
   "metadata": {},
   "outputs": [],
   "source": [
    "x1 = 0\n",
    "x2 = 2"
   ]
  },
  {
   "cell_type": "code",
   "execution_count": 8,
   "id": "04c70281",
   "metadata": {},
   "outputs": [
    {
     "name": "stdout",
     "output_type": "stream",
     "text": [
      "8\n"
     ]
    }
   ],
   "source": [
    "# 두점 (0, 7) 와 (2, 23) 의 평균 변화율은?\n",
    "print(average(x1, x2))"
   ]
  },
  {
   "cell_type": "markdown",
   "id": "01004102",
   "metadata": {},
   "source": [
    "## 도함수 \n",
    "- f(x)를 미분하여 얻은 함수\n",
    "- sympy.Derivative(함수식, x).doit()\n",
    "- sympy.diff(함수식, x)\n",
    "\n",
    "\n",
    "## 미분계수 \n",
    "- 순간변화율. "
   ]
  },
  {
   "cell_type": "code",
   "execution_count": 26,
   "id": "6d184b5f",
   "metadata": {},
   "outputs": [],
   "source": [
    "from sympy import Derivative, Symbol, diff"
   ]
  },
  {
   "cell_type": "markdown",
   "id": "2562f167",
   "metadata": {},
   "source": [
    "### Derivative() 를 이용한 도함수와 미분계수 구하기\n",
    "$ 2 \\times x^2 + 4 \\times x + 7 $"
   ]
  },
  {
   "cell_type": "code",
   "execution_count": 33,
   "id": "244443d6",
   "metadata": {},
   "outputs": [
    {
     "data": {
      "text/latex": [
       "$\\displaystyle 2 x^{2} + 4 x + 7$"
      ],
      "text/plain": [
       "2*x**2 + 4*x + 7"
      ]
     },
     "execution_count": 33,
     "metadata": {},
     "output_type": "execute_result"
    }
   ],
   "source": [
    "# x를 기호 변수화\n",
    "x = Symbol('x')\n",
    "fx = 2*x**2 + 4*x + 7\n",
    "\n",
    "fx"
   ]
  },
  {
   "cell_type": "code",
   "execution_count": 38,
   "id": "def4c4b4",
   "metadata": {},
   "outputs": [
    {
     "data": {
      "text/latex": [
       "$\\displaystyle 4 x + 4$"
      ],
      "text/plain": [
       "4*x + 4"
      ]
     },
     "execution_count": 38,
     "metadata": {},
     "output_type": "execute_result"
    }
   ],
   "source": [
    "# 도함수 생성\n",
    "# Derivative(함수식, x).doit()\n",
    "# x는 기호심벌화된 x\n",
    "\n",
    "fprime = Derivative(fx, x).doit()    #x에 대해서 미분\n",
    "fprime"
   ]
  },
  {
   "cell_type": "code",
   "execution_count": 39,
   "id": "c017d0f2",
   "metadata": {},
   "outputs": [
    {
     "data": {
      "text/latex": [
       "$\\displaystyle 16$"
      ],
      "text/plain": [
       "16"
      ]
     },
     "execution_count": 39,
     "metadata": {},
     "output_type": "execute_result"
    }
   ],
   "source": [
    "# 도함수 적용 => x값 삽입 후 미분계수\n",
    "# 도함수.subs({x: x값})\n",
    "n = fprime.subs({x: 3})\n",
    "n"
   ]
  },
  {
   "cell_type": "code",
   "execution_count": 41,
   "id": "d27e1a47",
   "metadata": {},
   "outputs": [
    {
     "name": "stdout",
     "output_type": "stream",
     "text": [
      "2*x**2 + 4*x + 7\n",
      "4*x + 4\n",
      "fx에서 x = 3 에서의 순간변화율(미분계수는) 16 입니다.\n"
     ]
    }
   ],
   "source": [
    "print(fx)\n",
    "print(fprime)\n",
    "print(\"fx에서 x = 3 에서의 순간변화율(미분계수는)\", n, \"입니다.\")"
   ]
  },
  {
   "cell_type": "markdown",
   "id": "a8850121",
   "metadata": {},
   "source": [
    "### diff 를 이용한 도함수와 미분계수 구하기\n",
    "$ 2 \\times x^2 + 4 \\times x + 7 $"
   ]
  },
  {
   "cell_type": "code",
   "execution_count": 44,
   "id": "215ab025",
   "metadata": {},
   "outputs": [
    {
     "data": {
      "text/latex": [
       "$\\displaystyle 2 x^{2} + 4 x + 7$"
      ],
      "text/plain": [
       "2*x**2 + 4*x + 7"
      ]
     },
     "execution_count": 44,
     "metadata": {},
     "output_type": "execute_result"
    }
   ],
   "source": [
    "# x를 기호 변수화\n",
    "x= Symbol('x')\n",
    "fx = 2*x**2 + 4*x + 7\n",
    "\n",
    "fx"
   ]
  },
  {
   "cell_type": "code",
   "execution_count": 45,
   "id": "2bebfc8b",
   "metadata": {},
   "outputs": [
    {
     "data": {
      "text/latex": [
       "$\\displaystyle 4 x + 4$"
      ],
      "text/plain": [
       "4*x + 4"
      ]
     },
     "execution_count": 45,
     "metadata": {},
     "output_type": "execute_result"
    }
   ],
   "source": [
    "# 도함수 정의 \n",
    "# 도함수 생성 \n",
    "# diff(함수식, x)\n",
    "# x 는 기호심벌화된 x \n",
    "\n",
    "fprime2 = diff(fx, x)\n",
    "fprime2"
   ]
  },
  {
   "cell_type": "code",
   "execution_count": 46,
   "id": "907ce415",
   "metadata": {},
   "outputs": [
    {
     "data": {
      "text/latex": [
       "$\\displaystyle 20$"
      ],
      "text/plain": [
       "20"
      ]
     },
     "execution_count": 46,
     "metadata": {},
     "output_type": "execute_result"
    }
   ],
   "source": [
    "# 도함수 적용 => x값 삽입후 미분계수 \n",
    "# 도함수.subs({x: 실제x값})\n",
    "\n",
    "m = fprime2.subs({x: 4})\n",
    "m"
   ]
  },
  {
   "cell_type": "code",
   "execution_count": 47,
   "id": "b626f567",
   "metadata": {},
   "outputs": [
    {
     "name": "stdout",
     "output_type": "stream",
     "text": [
      "fx에서 x = 4 에서의 순간변화율(미분계수는) 20 입니다.\n"
     ]
    }
   ],
   "source": [
    "print('fx에서 x = 4 에서의 순간변화율(미분계수는)', m, '입니다.')"
   ]
  },
  {
   "cell_type": "markdown",
   "id": "0a9b2b8a",
   "metadata": {},
   "source": [
    "### 퀴즈 \n",
    "\n",
    "도함수를 구하고 x 값이 1 일때의 미분계수를 구하여라.\n",
    "$$ f(x) = (x^3 + 5)(x^2 - 1) $$\n",
    "```\n",
    "$$ f(x) = (x^3 + 5)(x^2 - 1) $$\n",
    "```"
   ]
  },
  {
   "cell_type": "code",
   "execution_count": 52,
   "id": "3b94a6a3",
   "metadata": {},
   "outputs": [
    {
     "data": {
      "text/latex": [
       "$\\displaystyle \\left(x^{2} - 1\\right) \\left(x^{3} + 5\\right)$"
      ],
      "text/plain": [
       "(x**2 - 1)*(x**3 + 5)"
      ]
     },
     "execution_count": 52,
     "metadata": {},
     "output_type": "execute_result"
    }
   ],
   "source": [
    "x = Symbol('x')\n",
    "fx = (x**3 + 5)*(x**2 - 1)\n",
    "fx"
   ]
  },
  {
   "cell_type": "code",
   "execution_count": 53,
   "id": "a9b60286",
   "metadata": {},
   "outputs": [
    {
     "data": {
      "text/latex": [
       "$\\displaystyle 3 x^{2} \\left(x^{2} - 1\\right) + 2 x \\left(x^{3} + 5\\right)$"
      ],
      "text/plain": [
       "3*x**2*(x**2 - 1) + 2*x*(x**3 + 5)"
      ]
     },
     "execution_count": 53,
     "metadata": {},
     "output_type": "execute_result"
    }
   ],
   "source": [
    "# fprime3 = Derivative(fx, x).doit()\n",
    "fprime3 = diff(fx, x)\n",
    "fprime3"
   ]
  },
  {
   "cell_type": "code",
   "execution_count": 50,
   "id": "14f772cf",
   "metadata": {},
   "outputs": [
    {
     "data": {
      "text/latex": [
       "$\\displaystyle 12$"
      ],
      "text/plain": [
       "12"
      ]
     },
     "execution_count": 50,
     "metadata": {},
     "output_type": "execute_result"
    }
   ],
   "source": [
    "result = fprime3.subs({x: 1})\n",
    "result"
   ]
  }
 ],
 "metadata": {
  "kernelspec": {
   "display_name": "Python 3",
   "language": "python",
   "name": "python3"
  },
  "language_info": {
   "codemirror_mode": {
    "name": "ipython",
    "version": 3
   },
   "file_extension": ".py",
   "mimetype": "text/x-python",
   "name": "python",
   "nbconvert_exporter": "python",
   "pygments_lexer": "ipython3",
   "version": "3.8.8"
  }
 },
 "nbformat": 4,
 "nbformat_minor": 5
}
