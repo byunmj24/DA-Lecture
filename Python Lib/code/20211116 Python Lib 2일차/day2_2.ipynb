{
 "cells": [
  {
   "cell_type": "markdown",
   "id": "ba72e3d0",
   "metadata": {},
   "source": [
    "# 방정식\n",
    "\n",
    "- sympy 이용\n",
    "- 기호 수학(symbolic math)을 위한 파이썬 라이브러리\n",
    "- https://docs.sympy.org/latest/index.html"
   ]
  },
  {
   "cell_type": "code",
   "execution_count": 13,
   "id": "9c66dab9",
   "metadata": {},
   "outputs": [],
   "source": [
    "# pip list"
   ]
  },
  {
   "cell_type": "code",
   "execution_count": 14,
   "id": "dc4e6965",
   "metadata": {},
   "outputs": [],
   "source": [
    "# pip freeze"
   ]
  },
  {
   "cell_type": "code",
   "execution_count": 5,
   "id": "fcdc775e",
   "metadata": {},
   "outputs": [],
   "source": [
    "# 모듈 임포트\n",
    "from sympy import Symbol, solve"
   ]
  },
  {
   "cell_type": "code",
   "execution_count": 17,
   "id": "0533471c",
   "metadata": {},
   "outputs": [
    {
     "data": {
      "text/plain": [
       "(x, sympy.core.symbol.Symbol)"
      ]
     },
     "execution_count": 17,
     "metadata": {},
     "output_type": "execute_result"
    }
   ],
   "source": [
    "# 심볼화\n",
    "x = Symbol('x')\n",
    "x, type(x)"
   ]
  },
  {
   "cell_type": "code",
   "execution_count": 12,
   "id": "9bff58db",
   "metadata": {},
   "outputs": [
    {
     "data": {
      "text/plain": [
       "(2*x - 6, sympy.core.add.Add)"
      ]
     },
     "execution_count": 12,
     "metadata": {},
     "output_type": "execute_result"
    }
   ],
   "source": [
    "# 방정식 생성\n",
    "equation = 2*x - 6\n",
    "equation, type(equation)"
   ]
  },
  {
   "cell_type": "code",
   "execution_count": 18,
   "id": "3eee9dda",
   "metadata": {},
   "outputs": [
    {
     "data": {
      "text/plain": [
       "([3], list)"
      ]
     },
     "execution_count": 18,
     "metadata": {},
     "output_type": "execute_result"
    }
   ],
   "source": [
    "# 해를 구한다. => 리스트 반환\n",
    "solve(equation), type(solve(equation))"
   ]
  },
  {
   "cell_type": "code",
   "execution_count": 20,
   "id": "0e0dcf31",
   "metadata": {},
   "outputs": [
    {
     "data": {
      "text/plain": [
       "[{x: 3}]"
      ]
     },
     "execution_count": 20,
     "metadata": {},
     "output_type": "execute_result"
    }
   ],
   "source": [
    "# 딕셔너리 리스트로 반환\n",
    "solve(equation, dict=True)"
   ]
  },
  {
   "cell_type": "markdown",
   "id": "f652b170",
   "metadata": {},
   "source": [
    "## 연립 방정식"
   ]
  },
  {
   "cell_type": "code",
   "execution_count": 23,
   "id": "fb8ed7c3",
   "metadata": {},
   "outputs": [
    {
     "data": {
      "text/plain": [
       "(x, y)"
      ]
     },
     "execution_count": 23,
     "metadata": {},
     "output_type": "execute_result"
    }
   ],
   "source": [
    "x = Symbol('x')\n",
    "y = Symbol('y')\n",
    "x, y"
   ]
  },
  {
   "cell_type": "code",
   "execution_count": 27,
   "id": "73133d28",
   "metadata": {},
   "outputs": [],
   "source": [
    "equation1 = 3 * x + y - 2\n",
    "equation2 = x - 2 * y - 3"
   ]
  },
  {
   "cell_type": "code",
   "execution_count": 28,
   "id": "df82e94f",
   "metadata": {},
   "outputs": [
    {
     "data": {
      "text/plain": [
       "{x: 1, y: -1}"
      ]
     },
     "execution_count": 28,
     "metadata": {},
     "output_type": "execute_result"
    }
   ],
   "source": [
    "solve((equation1, equation2))"
   ]
  },
  {
   "cell_type": "code",
   "execution_count": 31,
   "id": "18a315f2",
   "metadata": {},
   "outputs": [
    {
     "name": "stdout",
     "output_type": "stream",
     "text": [
      " x 값은? 1, y 값은? -1\n"
     ]
    }
   ],
   "source": [
    "result = solve((equation1, equation2))\n",
    "print(f\" x 값은? {result[x]}, y 값은? {result[y]}\")"
   ]
  },
  {
   "cell_type": "code",
   "execution_count": 32,
   "id": "d0cb72f6",
   "metadata": {},
   "outputs": [
    {
     "data": {
      "text/plain": [
       "{x: 1, y: -1}"
      ]
     },
     "execution_count": 32,
     "metadata": {},
     "output_type": "execute_result"
    }
   ],
   "source": [
    "solve((equation1, equation2), dict = False)"
   ]
  },
  {
   "cell_type": "markdown",
   "id": "c6d9bf30",
   "metadata": {},
   "source": [
    "## 1차 함수"
   ]
  },
  {
   "cell_type": "code",
   "execution_count": 33,
   "id": "2f214309",
   "metadata": {},
   "outputs": [
    {
     "data": {
      "text/latex": [
       "$\\displaystyle x$"
      ],
      "text/plain": [
       "x"
      ]
     },
     "execution_count": 33,
     "metadata": {},
     "output_type": "execute_result"
    }
   ],
   "source": [
    "x = Symbol('x')\n",
    "x"
   ]
  },
  {
   "cell_type": "code",
   "execution_count": 34,
   "id": "f604393b",
   "metadata": {},
   "outputs": [
    {
     "data": {
      "text/latex": [
       "$\\displaystyle 3 x - 2$"
      ],
      "text/plain": [
       "3*x - 2"
      ]
     },
     "execution_count": 34,
     "metadata": {},
     "output_type": "execute_result"
    }
   ],
   "source": [
    "fx = 3*x - 2\n",
    "fx"
   ]
  },
  {
   "cell_type": "code",
   "execution_count": 37,
   "id": "db91da10",
   "metadata": {},
   "outputs": [
    {
     "data": {
      "text/latex": [
       "$\\displaystyle 16$"
      ],
      "text/plain": [
       "16"
      ]
     },
     "execution_count": 37,
     "metadata": {},
     "output_type": "execute_result"
    }
   ],
   "source": [
    "# 함수값 구하기\n",
    "# 함수식.subs(x, 값)\n",
    "fx.subs(x, 6)"
   ]
  },
  {
   "cell_type": "code",
   "execution_count": 35,
   "id": "6035e1ef",
   "metadata": {},
   "outputs": [
    {
     "name": "stdout",
     "output_type": "stream",
     "text": [
      " x = 1 일때 함수값은? 1\n",
      " x = 5 일때 함수값은? 13\n",
      " x = 10 일때 함수값은? 28\n"
     ]
    }
   ],
   "source": [
    "print(f' x = 1 일때 함수값은? {fx.subs(x, 1)}')\n",
    "print(f' x = 5 일때 함수값은? {fx.subs(x, 5)}')\n",
    "print(f' x = 10 일때 함수값은? {fx.subs(x, 10)}')"
   ]
  },
  {
   "cell_type": "markdown",
   "id": "663a5697",
   "metadata": {},
   "source": [
    "## 2차 함수\n",
    "\n",
    "$$ f(x) = x^2 + 3x + 5 $$\n",
    "```\n",
    "$$ f(x) = x^2 + 3x + 5 $$\n",
    "```"
   ]
  },
  {
   "cell_type": "code",
   "execution_count": 43,
   "id": "f6ff73d2",
   "metadata": {},
   "outputs": [
    {
     "data": {
      "text/latex": [
       "$\\displaystyle x$"
      ],
      "text/plain": [
       "x"
      ]
     },
     "execution_count": 43,
     "metadata": {},
     "output_type": "execute_result"
    }
   ],
   "source": [
    "x = Symbol('x')\n",
    "x"
   ]
  },
  {
   "cell_type": "code",
   "execution_count": 44,
   "id": "15826d4f",
   "metadata": {},
   "outputs": [
    {
     "data": {
      "text/latex": [
       "$\\displaystyle x^{2} + 3 x + 5$"
      ],
      "text/plain": [
       "x**2 + 3*x + 5"
      ]
     },
     "execution_count": 44,
     "metadata": {},
     "output_type": "execute_result"
    }
   ],
   "source": [
    "fx = x**2 + 3*x + 5\n",
    "fx"
   ]
  },
  {
   "cell_type": "code",
   "execution_count": 45,
   "id": "f1a7dbe4",
   "metadata": {},
   "outputs": [
    {
     "name": "stdout",
     "output_type": "stream",
     "text": [
      " x = 1 일때 함수값은? 9\n",
      " x = 5 일때 함수값은? 45\n",
      " x = 10 일때 함수값은? 135\n"
     ]
    }
   ],
   "source": [
    "print(f' x = 1 일때 함수값은? {fx.subs(x, 1)}')\n",
    "print(f' x = 5 일때 함수값은? {fx.subs(x, 5)}')\n",
    "print(f' x = 10 일때 함수값은? {fx.subs(x, 10)}')"
   ]
  },
  {
   "cell_type": "code",
   "execution_count": 46,
   "id": "447de4fb",
   "metadata": {},
   "outputs": [
    {
     "name": "stdout",
     "output_type": "stream",
     "text": [
      " x = 1 일때 함수값은? 9\n",
      " x = 4 일때 함수값은? 33\n",
      " x = 7 일때 함수값은? 75\n",
      " x = 10 일때 함수값은? 135\n",
      " x = 13 일때 함수값은? 213\n",
      " x = 16 일때 함수값은? 309\n",
      " x = 19 일때 함수값은? 423\n",
      " x = 22 일때 함수값은? 555\n",
      " x = 25 일때 함수값은? 705\n",
      " x = 28 일때 함수값은? 873\n"
     ]
    }
   ],
   "source": [
    "for i in range(1, 30, 3) :\n",
    "    print(f' x = {i} 일때 함수값은? {fx.subs(x, i)}')"
   ]
  },
  {
   "cell_type": "code",
   "execution_count": 47,
   "id": "6c4a8de7",
   "metadata": {},
   "outputs": [],
   "source": [
    "xList = [10, -78, 7, 90, 5]"
   ]
  },
  {
   "cell_type": "code",
   "execution_count": 48,
   "id": "edbe340e",
   "metadata": {},
   "outputs": [
    {
     "name": "stdout",
     "output_type": "stream",
     "text": [
      " x = 10 일때 함수값은? 135\n",
      " x = -78 일때 함수값은? 5855\n",
      " x = 7 일때 함수값은? 75\n",
      " x = 90 일때 함수값은? 8375\n",
      " x = 5 일때 함수값은? 45\n"
     ]
    }
   ],
   "source": [
    "for i in xList :\n",
    "    print(f' x = {i} 일때 함수값은? {fx.subs(x, i)}')"
   ]
  }
 ],
 "metadata": {
  "kernelspec": {
   "display_name": "Python 3",
   "language": "python",
   "name": "python3"
  },
  "language_info": {
   "codemirror_mode": {
    "name": "ipython",
    "version": 3
   },
   "file_extension": ".py",
   "mimetype": "text/x-python",
   "name": "python",
   "nbconvert_exporter": "python",
   "pygments_lexer": "ipython3",
   "version": "3.8.8"
  }
 },
 "nbformat": 4,
 "nbformat_minor": 5
}
