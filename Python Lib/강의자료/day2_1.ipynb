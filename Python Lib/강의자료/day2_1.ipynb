{
 "cells": [
  {
   "cell_type": "code",
   "execution_count": 2,
   "id": "610fe7c5",
   "metadata": {},
   "outputs": [
    {
     "data": {
      "text/html": [
       "<style>.container { font-weight: bold !important; }</style>"
      ],
      "text/plain": [
       "<IPython.core.display.HTML object>"
      ]
     },
     "metadata": {},
     "output_type": "display_data"
    },
    {
     "data": {
      "text/html": [
       "<style>.container { width: 100% !important; }</style>"
      ],
      "text/plain": [
       "<IPython.core.display.HTML object>"
      ]
     },
     "metadata": {},
     "output_type": "display_data"
    }
   ],
   "source": [
    "import warnings\n",
    "warnings.filterwarnings(action='ignore')\n",
    "\n",
    "from IPython.core.display import display, HTML\n",
    "display(HTML(\"<style>.container { font-weight: bold !important; }</style>\"))\n",
    "display(HTML(\"<style>.container { width: 100% !important; }</style>\"))"
   ]
  },
  {
   "cell_type": "markdown",
   "id": "d243c088",
   "metadata": {},
   "source": [
    "# Tex 문법을 이용한 기호 입력 \n",
    "\n",
    "- https://ko.wikipedia.org/wiki/%EC%9C%84%ED%82%A4%EB%B0%B1%EA%B3%BC:TeX_%EB%AC%B8%EB%B2%95\n",
    "\n",
    "- 쥬피터노트북의 마크다운 모드에서 지원 \n",
    "\n",
    "- Tex 문법 형식\n",
    "\n",
    "```\n",
    "블록방식\n",
    "$$ Tex수식이나 기호 $$ \n",
    "\n",
    "인라인방식\n",
    "$ Tex수식이나 기호 $ \n",
    "```"
   ]
  },
  {
   "cell_type": "markdown",
   "id": "a1e82d83",
   "metadata": {},
   "source": [
    "### 그리스 문자 \n",
    "\n",
    "- 블록방식 \n",
    "$$ \\alpha \\beta \\gamma \\delta $$\n",
    "\n",
    "```\n",
    "$$ \\alpha \\beta \\gamma \\delta $$\n",
    "```"
   ]
  },
  {
   "cell_type": "markdown",
   "id": "76799a05",
   "metadata": {},
   "source": [
    "### 산술연산자 \n",
    "\n",
    "$$ +, -, \\times, \\div $$\n",
    "\n",
    "```\n",
    "$$ +, -, \\times, \\div $$\n",
    "```\n",
    "\n",
    "$$ y = 2 \\times x $$"
   ]
  },
  {
   "cell_type": "markdown",
   "id": "40e111ff",
   "metadata": {},
   "source": [
    "### 분수 \n",
    "\n",
    "- \\quad 한칸 공백\n",
    "\n",
    "$$ \\frac{2}{4} \\quad or \\quad {2 \\over 4} $$\n",
    "\n",
    "```\n",
    "$$ \\frac{2}{4} \\quad or \\quad {2 \\over 4} $$\n",
    "```"
   ]
  },
  {
   "cell_type": "markdown",
   "id": "c0603dfc",
   "metadata": {},
   "source": [
    "### 근호\n",
    "\n",
    "$$ \\sqrt{2} $$\n",
    "\n",
    "```\n",
    "$$ \\sqrt{2} $$\n",
    "```"
   ]
  },
  {
   "cell_type": "markdown",
   "id": "a7c760c8",
   "metadata": {},
   "source": [
    "### 로그 \n",
    "\n",
    "$$ y=log_{a}{x} $$\n",
    "\n",
    "```\n",
    "$$ y=log_{a}{x} $$\n",
    "```"
   ]
  },
  {
   "cell_type": "markdown",
   "id": "569bce11",
   "metadata": {},
   "source": [
    "### 미분 \n",
    "\n",
    "$$ x' $$\n",
    "```\n",
    "$$ x' $$\n",
    "```"
   ]
  },
  {
   "cell_type": "markdown",
   "id": "32c8c0ca",
   "metadata": {},
   "source": [
    "### 머신러닝 \n",
    "\n",
    "$ y $  실제값   $\\quad\\hat{y}$ 예측값   $\\quad\\bar{y}$  평균값 \n",
    "\n",
    "```\n",
    "$ y $  실제값   $\\quad\\hat{y}$ 예측값   $\\quad\\bar{y}$  평균값 \n",
    "```\n"
   ]
  },
  {
   "cell_type": "code",
   "execution_count": null,
   "id": "272c61f2",
   "metadata": {},
   "outputs": [],
   "source": []
  },
  {
   "cell_type": "code",
   "execution_count": null,
   "id": "c85fa1f4",
   "metadata": {},
   "outputs": [],
   "source": []
  },
  {
   "cell_type": "code",
   "execution_count": null,
   "id": "d7493e4f",
   "metadata": {},
   "outputs": [],
   "source": []
  }
 ],
 "metadata": {
  "kernelspec": {
   "display_name": "Python 3",
   "language": "python",
   "name": "python3"
  },
  "language_info": {
   "codemirror_mode": {
    "name": "ipython",
    "version": 3
   },
   "file_extension": ".py",
   "mimetype": "text/x-python",
   "name": "python",
   "nbconvert_exporter": "python",
   "pygments_lexer": "ipython3",
   "version": "3.8.8"
  }
 },
 "nbformat": 4,
 "nbformat_minor": 5
}
