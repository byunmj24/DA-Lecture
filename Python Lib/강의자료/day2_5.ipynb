{
 "cells": [
  {
   "cell_type": "code",
   "execution_count": 4,
   "id": "90d42d3b",
   "metadata": {},
   "outputs": [
    {
     "data": {
      "text/html": [
       "<style>.container { font-weight: bold !important; }</style>"
      ],
      "text/plain": [
       "<IPython.core.display.HTML object>"
      ]
     },
     "metadata": {},
     "output_type": "display_data"
    },
    {
     "data": {
      "text/html": [
       "<style>.container { width: 100% !important; }</style>"
      ],
      "text/plain": [
       "<IPython.core.display.HTML object>"
      ]
     },
     "metadata": {},
     "output_type": "display_data"
    }
   ],
   "source": [
    "# 쥬피터노트북 셀 스타일 조절 \n",
    "from IPython.core.display import display, HTML\n",
    "display(HTML(\"<style>.container { font-weight: bold !important; }</style>\"))\n",
    "display(HTML(\"<style>.container { width: 100% !important; }</style>\"))\n",
    "\n",
    "import warnings\n",
    "warnings.filterwarnings(action='ignore')"
   ]
  },
  {
   "cell_type": "code",
   "execution_count": 5,
   "id": "ce1c1f51",
   "metadata": {},
   "outputs": [],
   "source": [
    "import numpy as np"
   ]
  },
  {
   "cell_type": "markdown",
   "id": "501b4961",
   "metadata": {},
   "source": [
    "### 넘파이와 리스트와의 차이점 \n",
    "\n",
    "##### 리스트 \n",
    "- 데이타형의 혼합 가능 \n",
    "- 차원 혼합 가능 \n",
    "- 리스트 연산 : + (연결), * n (반복)\n",
    "\n",
    "##### 넘파이 배열 = 행열 = 매트릭스  \n",
    "- 데이타형의 혼합 x, 한가지 데이타형만 가능  \n",
    "- n 차원인 경우 각 행의 원소수가 같아야한다. \n",
    "- 행열 연산 O"
   ]
  },
  {
   "cell_type": "code",
   "execution_count": 6,
   "id": "4483e6fb",
   "metadata": {},
   "outputs": [
    {
     "data": {
      "text/plain": [
       "[1, True, '홍길동', 4.56]"
      ]
     },
     "execution_count": 6,
     "metadata": {},
     "output_type": "execute_result"
    }
   ],
   "source": [
    "# 데이타형의 혼합 가능 \n",
    "myList = [ 1, True, '홍길동', 4.56]\n",
    "myList"
   ]
  },
  {
   "cell_type": "code",
   "execution_count": 7,
   "id": "db111074",
   "metadata": {},
   "outputs": [
    {
     "data": {
      "text/plain": [
       "[[1, 2, 3], [True, False], '홍길동', 4.56]"
      ]
     },
     "execution_count": 7,
     "metadata": {},
     "output_type": "execute_result"
    }
   ],
   "source": [
    "# 차원 혼합 가능 \n",
    "myList = [ [1, 2, 3,], [True, False], '홍길동', 4.56]\n",
    "myList"
   ]
  },
  {
   "cell_type": "code",
   "execution_count": 8,
   "id": "d6347bc5",
   "metadata": {},
   "outputs": [
    {
     "data": {
      "text/plain": [
       "[1, 2, 3, 4, 5, 4, 5, 10, 20]"
      ]
     },
     "execution_count": 8,
     "metadata": {},
     "output_type": "execute_result"
    }
   ],
   "source": [
    "# 리스트간의 연산 : +\n",
    "list1 = [ 1, 2, 3, 4, 5]\n",
    "list2 = [ 4, 5, 10, 20]\n",
    "list1 + list2"
   ]
  },
  {
   "cell_type": "code",
   "execution_count": 9,
   "id": "31252ca1",
   "metadata": {},
   "outputs": [
    {
     "data": {
      "text/plain": [
       "[1, 2, 3, 4, 5, 1, 2, 3, 4, 5, 1, 2, 3, 4, 5]"
      ]
     },
     "execution_count": 9,
     "metadata": {},
     "output_type": "execute_result"
    }
   ],
   "source": [
    "# 리스트간의 연산 : * n\n",
    "list1*3"
   ]
  },
  {
   "cell_type": "markdown",
   "id": "1a43a798",
   "metadata": {},
   "source": [
    "# 넘파이 배열 생성 \n",
    "np.array(리스트)\n",
    "\n",
    "# 속성 \n",
    "- shape : 구조 \n",
    "- size : 길이\n",
    "- dtype : 데이타형\n",
    "- ndim : 차원 "
   ]
  },
  {
   "cell_type": "code",
   "execution_count": 15,
   "id": "07827022",
   "metadata": {},
   "outputs": [],
   "source": [
    "# 1차원 \n",
    "arr1 = np.array([1, 2, 10, 5, 9.5])\n",
    "# 2차원 = 3*3 \n",
    "arr2 = np.array([[1, 2, 3], [4, 5, 6], [7, 8, 9]])"
   ]
  },
  {
   "cell_type": "code",
   "execution_count": 16,
   "id": "1f31ac00",
   "metadata": {},
   "outputs": [
    {
     "name": "stdout",
     "output_type": "stream",
     "text": [
      "[ 1.   2.  10.   5.   9.5]\n"
     ]
    },
    {
     "data": {
      "text/plain": [
       "array([ 1. ,  2. , 10. ,  5. ,  9.5])"
      ]
     },
     "execution_count": 16,
     "metadata": {},
     "output_type": "execute_result"
    }
   ],
   "source": [
    "print(arr1)\n",
    "arr1"
   ]
  },
  {
   "cell_type": "code",
   "execution_count": 17,
   "id": "f33ee12b",
   "metadata": {},
   "outputs": [
    {
     "data": {
      "text/plain": [
       "(1, (5,), 5, dtype('float64'))"
      ]
     },
     "execution_count": 17,
     "metadata": {},
     "output_type": "execute_result"
    }
   ],
   "source": [
    "arr1.ndim, arr1.shape, arr1.size, arr1.dtype"
   ]
  },
  {
   "cell_type": "code",
   "execution_count": 18,
   "id": "83eb4d97",
   "metadata": {},
   "outputs": [
    {
     "name": "stdout",
     "output_type": "stream",
     "text": [
      "[[1 2 3]\n",
      " [4 5 6]\n",
      " [7 8 9]]\n"
     ]
    },
    {
     "data": {
      "text/plain": [
       "array([[1, 2, 3],\n",
       "       [4, 5, 6],\n",
       "       [7, 8, 9]])"
      ]
     },
     "execution_count": 18,
     "metadata": {},
     "output_type": "execute_result"
    }
   ],
   "source": [
    "print(arr2)\n",
    "arr2"
   ]
  },
  {
   "cell_type": "code",
   "execution_count": 19,
   "id": "2b8cc82a",
   "metadata": {},
   "outputs": [
    {
     "data": {
      "text/plain": [
       "(2, (3, 3), 9, dtype('int32'))"
      ]
     },
     "execution_count": 19,
     "metadata": {},
     "output_type": "execute_result"
    }
   ],
   "source": [
    "arr2.ndim, arr2.shape, arr2.size, arr2.dtype"
   ]
  },
  {
   "cell_type": "code",
   "execution_count": 23,
   "id": "9266738a",
   "metadata": {},
   "outputs": [
    {
     "data": {
      "text/plain": [
       "(3, 9)"
      ]
     },
     "execution_count": 23,
     "metadata": {},
     "output_type": "execute_result"
    }
   ],
   "source": [
    "# len() => 행수\n",
    "# size => 전체갯수 \n",
    "len(arr2), arr2.size"
   ]
  },
  {
   "cell_type": "markdown",
   "id": "14b3a47d",
   "metadata": {},
   "source": [
    "## 초기값이 지정된 넘파이 배열 생성 \n",
    "\n",
    "- np.zeros(n) : n개로 구성된 넘파이 배열생성. 값은 모두 0 \n",
    "- np.zeros([n, m])  : n*m 개로 구성된 넘파이 배열생성. 값은 모두 0 \n",
    "- np.ones(n) : n개로 구성된 넘파이 배열생성. 값은 모두 1\n",
    "- np.ones([n, m])  : n*m 개로 구성된 넘파이 배열생성. 값은 모두 1\n",
    "- np.eye(n) : 대각선이 1이고 나머지가 0인 배열 생성 \n",
    "- np.tri(n) \n",
    "- np.arange(start, end, step) : 순차적인 숫자의 조합으로 배열 생성 \n",
    "- np.random.randint(start, end, n) : 정수 난수로 구성된 배열 생성  "
   ]
  },
  {
   "cell_type": "code",
   "execution_count": 24,
   "id": "00cf0f8a",
   "metadata": {},
   "outputs": [
    {
     "data": {
      "text/plain": [
       "array([0., 0., 0., 0., 0., 0., 0., 0., 0., 0.])"
      ]
     },
     "execution_count": 24,
     "metadata": {},
     "output_type": "execute_result"
    }
   ],
   "source": [
    "np.zeros(10)"
   ]
  },
  {
   "cell_type": "code",
   "execution_count": 25,
   "id": "c5f5473b",
   "metadata": {},
   "outputs": [
    {
     "data": {
      "text/plain": [
       "array([[0., 0.],\n",
       "       [0., 0.]])"
      ]
     },
     "execution_count": 25,
     "metadata": {},
     "output_type": "execute_result"
    }
   ],
   "source": [
    "np.zeros([2,2])"
   ]
  },
  {
   "cell_type": "code",
   "execution_count": 26,
   "id": "0e34f6be",
   "metadata": {},
   "outputs": [
    {
     "data": {
      "text/plain": [
       "array([[1., 1.],\n",
       "       [1., 1.]])"
      ]
     },
     "execution_count": 26,
     "metadata": {},
     "output_type": "execute_result"
    }
   ],
   "source": [
    "np.ones([2,2])"
   ]
  },
  {
   "cell_type": "code",
   "execution_count": 28,
   "id": "017d2ab8",
   "metadata": {},
   "outputs": [
    {
     "data": {
      "text/plain": [
       "array([[1., 0., 0.],\n",
       "       [0., 1., 0.],\n",
       "       [0., 0., 1.]])"
      ]
     },
     "execution_count": 28,
     "metadata": {},
     "output_type": "execute_result"
    }
   ],
   "source": [
    "np.eye(3)"
   ]
  },
  {
   "cell_type": "code",
   "execution_count": 29,
   "id": "28a06087",
   "metadata": {
    "scrolled": true
   },
   "outputs": [
    {
     "data": {
      "text/plain": [
       "array([[1., 0., 0., 0., 0.],\n",
       "       [1., 1., 0., 0., 0.],\n",
       "       [1., 1., 1., 0., 0.],\n",
       "       [1., 1., 1., 1., 0.],\n",
       "       [1., 1., 1., 1., 1.]])"
      ]
     },
     "execution_count": 29,
     "metadata": {},
     "output_type": "execute_result"
    }
   ],
   "source": [
    "np.tri(5)"
   ]
  },
  {
   "cell_type": "code",
   "execution_count": 30,
   "id": "f19f7a3e",
   "metadata": {},
   "outputs": [
    {
     "data": {
      "text/plain": [
       "array([ 1,  2,  3,  4,  5,  6,  7,  8,  9, 10])"
      ]
     },
     "execution_count": 30,
     "metadata": {},
     "output_type": "execute_result"
    }
   ],
   "source": [
    "# np.arange(start, end, step)\n",
    "np.arange(1, 11)"
   ]
  },
  {
   "cell_type": "code",
   "execution_count": 31,
   "id": "c9849e90",
   "metadata": {},
   "outputs": [
    {
     "data": {
      "text/plain": [
       "array([ 1,  3,  5,  7,  9, 11, 13, 15, 17, 19, 21, 23, 25, 27, 29, 31, 33,\n",
       "       35, 37, 39, 41, 43, 45, 47, 49, 51, 53, 55, 57, 59, 61, 63, 65, 67,\n",
       "       69, 71, 73, 75, 77, 79, 81, 83, 85, 87, 89, 91, 93, 95, 97, 99])"
      ]
     },
     "execution_count": 31,
     "metadata": {},
     "output_type": "execute_result"
    }
   ],
   "source": [
    "np.arange(1, 100, 2)"
   ]
  },
  {
   "cell_type": "code",
   "execution_count": 32,
   "id": "e0d2e8ec",
   "metadata": {},
   "outputs": [
    {
     "data": {
      "text/plain": [
       "array([[ 1,  2],\n",
       "       [ 3,  4],\n",
       "       [ 5,  6],\n",
       "       [ 7,  8],\n",
       "       [ 9, 10]])"
      ]
     },
     "execution_count": 32,
     "metadata": {},
     "output_type": "execute_result"
    }
   ],
   "source": [
    "# reshape(n, m) : 행열구조 변경 \n",
    "np.arange(1, 11).reshape(5,2)"
   ]
  },
  {
   "cell_type": "code",
   "execution_count": 34,
   "id": "b4427f11",
   "metadata": {},
   "outputs": [],
   "source": [
    "# 오류 발생 \n",
    "# np.arange(1, 11).reshape(5,3)"
   ]
  },
  {
   "cell_type": "code",
   "execution_count": 52,
   "id": "4f83a302",
   "metadata": {},
   "outputs": [
    {
     "data": {
      "text/plain": [
       "array([ 5, 19, 11,  1,  7, 10,  5,  8, 17, 13,  1, 10, 16, 13, 16, 13,  6,\n",
       "        7, 15,  4])"
      ]
     },
     "execution_count": 52,
     "metadata": {},
     "output_type": "execute_result"
    }
   ],
   "source": [
    "# 난수 배열 \n",
    "np.random.randint(1, 20, 20)"
   ]
  },
  {
   "cell_type": "code",
   "execution_count": 54,
   "id": "d4179a62",
   "metadata": {
    "scrolled": true
   },
   "outputs": [
    {
     "data": {
      "text/plain": [
       "array([[12,  2,  5, 17],\n",
       "       [15,  4,  5,  5],\n",
       "       [15, 16,  8, 10],\n",
       "       [17,  2, 19, 10],\n",
       "       [14, 13, 14,  2]])"
      ]
     },
     "execution_count": 54,
     "metadata": {},
     "output_type": "execute_result"
    }
   ],
   "source": [
    "np.random.randint(1, 20, 20).reshape(5,4)"
   ]
  },
  {
   "cell_type": "markdown",
   "id": "8d09dcd8",
   "metadata": {},
   "source": [
    "## 넘파이 배열의 연산 \n",
    "\n",
    "- 같은 자리의 데이타끼리 연산 "
   ]
  },
  {
   "cell_type": "code",
   "execution_count": 55,
   "id": "64f48543",
   "metadata": {},
   "outputs": [],
   "source": [
    "arr1 = np.random.randint(1,50, 16).reshape(4,4)\n",
    "arr2 = np.random.randint(1,50, 16).reshape(4,4)"
   ]
  },
  {
   "cell_type": "code",
   "execution_count": 56,
   "id": "9b695d9e",
   "metadata": {},
   "outputs": [
    {
     "data": {
      "text/plain": [
       "array([[11, 49, 30, 23],\n",
       "       [22,  6, 19, 13],\n",
       "       [35, 16,  8, 20],\n",
       "       [34, 29, 23, 21]])"
      ]
     },
     "execution_count": 56,
     "metadata": {},
     "output_type": "execute_result"
    }
   ],
   "source": [
    "arr1"
   ]
  },
  {
   "cell_type": "code",
   "execution_count": 57,
   "id": "560ea990",
   "metadata": {},
   "outputs": [
    {
     "data": {
      "text/plain": [
       "array([[25,  5, 48, 30],\n",
       "       [ 7, 25, 47, 48],\n",
       "       [38, 26, 21, 20],\n",
       "       [30, 19,  1, 19]])"
      ]
     },
     "execution_count": 57,
     "metadata": {},
     "output_type": "execute_result"
    }
   ],
   "source": [
    "arr2"
   ]
  },
  {
   "cell_type": "code",
   "execution_count": 58,
   "id": "7df17c8c",
   "metadata": {},
   "outputs": [
    {
     "data": {
      "text/plain": [
       "array([[36, 54, 78, 53],\n",
       "       [29, 31, 66, 61],\n",
       "       [73, 42, 29, 40],\n",
       "       [64, 48, 24, 40]])"
      ]
     },
     "execution_count": 58,
     "metadata": {},
     "output_type": "execute_result"
    }
   ],
   "source": [
    "arr1 + arr2"
   ]
  },
  {
   "cell_type": "code",
   "execution_count": 59,
   "id": "a793a94f",
   "metadata": {},
   "outputs": [
    {
     "data": {
      "text/plain": [
       "array([[-14,  44, -18,  -7],\n",
       "       [ 15, -19, -28, -35],\n",
       "       [ -3, -10, -13,   0],\n",
       "       [  4,  10,  22,   2]])"
      ]
     },
     "execution_count": 59,
     "metadata": {},
     "output_type": "execute_result"
    }
   ],
   "source": [
    "arr1 - arr2"
   ]
  },
  {
   "cell_type": "code",
   "execution_count": 60,
   "id": "9b3477b4",
   "metadata": {},
   "outputs": [
    {
     "data": {
      "text/plain": [
       "array([[11,  4, 30, 23],\n",
       "       [ 1,  6, 19, 13],\n",
       "       [35, 16,  8,  0],\n",
       "       [ 4, 10,  0,  2]], dtype=int32)"
      ]
     },
     "execution_count": 60,
     "metadata": {},
     "output_type": "execute_result"
    }
   ],
   "source": [
    "arr1 % arr2"
   ]
  },
  {
   "cell_type": "code",
   "execution_count": 61,
   "id": "11ad2736",
   "metadata": {},
   "outputs": [
    {
     "data": {
      "text/plain": [
       "array([[ 0.44      ,  9.8       ,  0.625     ,  0.76666667],\n",
       "       [ 3.14285714,  0.24      ,  0.40425532,  0.27083333],\n",
       "       [ 0.92105263,  0.61538462,  0.38095238,  1.        ],\n",
       "       [ 1.13333333,  1.52631579, 23.        ,  1.10526316]])"
      ]
     },
     "execution_count": 61,
     "metadata": {},
     "output_type": "execute_result"
    }
   ],
   "source": [
    "arr1 / arr2"
   ]
  },
  {
   "cell_type": "code",
   "execution_count": 63,
   "id": "84fba3cf",
   "metadata": {},
   "outputs": [
    {
     "data": {
      "text/plain": [
       "array([[ 0,  9,  0,  0],\n",
       "       [ 3,  0,  0,  0],\n",
       "       [ 0,  0,  0,  1],\n",
       "       [ 1,  1, 23,  1]], dtype=int32)"
      ]
     },
     "execution_count": 63,
     "metadata": {},
     "output_type": "execute_result"
    }
   ],
   "source": [
    "arr1 // arr2"
   ]
  },
  {
   "cell_type": "code",
   "execution_count": 64,
   "id": "91898e23",
   "metadata": {},
   "outputs": [
    {
     "data": {
      "text/plain": [
       "array([[ 275,  245, 1440,  690],\n",
       "       [ 154,  150,  893,  624],\n",
       "       [1330,  416,  168,  400],\n",
       "       [1020,  551,   23,  399]])"
      ]
     },
     "execution_count": 64,
     "metadata": {},
     "output_type": "execute_result"
    }
   ],
   "source": [
    "arr1 * arr2"
   ]
  },
  {
   "cell_type": "code",
   "execution_count": 66,
   "id": "42a4e905",
   "metadata": {},
   "outputs": [
    {
     "data": {
      "text/plain": [
       "array([[11, 22, 35, 34],\n",
       "       [49,  6, 16, 29],\n",
       "       [30, 19,  8, 23],\n",
       "       [23, 13, 20, 21]])"
      ]
     },
     "execution_count": 66,
     "metadata": {},
     "output_type": "execute_result"
    }
   ],
   "source": [
    "# 전치행열 \n",
    "arr1.T"
   ]
  },
  {
   "cell_type": "markdown",
   "id": "0c6dc7ff",
   "metadata": {},
   "source": [
    "### 행열의 곱 - Dot 연산 \n",
    "-  np.dot(행열1, 행열2)"
   ]
  },
  {
   "cell_type": "code",
   "execution_count": 69,
   "id": "bcc2d019",
   "metadata": {},
   "outputs": [],
   "source": [
    "# 2행 3열 \n",
    "arr3 = np.random.randint(1,20, 6).reshape(2,3)\n",
    "\n",
    "# 3행 2열 \n",
    "arr4 = np.random.randint(1,20, 6).reshape(3, 2)"
   ]
  },
  {
   "cell_type": "code",
   "execution_count": 70,
   "id": "c591e0e1",
   "metadata": {},
   "outputs": [
    {
     "data": {
      "text/plain": [
       "array([[ 4,  3, 19],\n",
       "       [ 1,  3, 10]])"
      ]
     },
     "execution_count": 70,
     "metadata": {},
     "output_type": "execute_result"
    }
   ],
   "source": [
    "arr3"
   ]
  },
  {
   "cell_type": "code",
   "execution_count": 71,
   "id": "f62e063f",
   "metadata": {},
   "outputs": [
    {
     "data": {
      "text/plain": [
       "array([[ 2, 12],\n",
       "       [ 4, 17],\n",
       "       [12, 12]])"
      ]
     },
     "execution_count": 71,
     "metadata": {},
     "output_type": "execute_result"
    }
   ],
   "source": [
    "arr4 "
   ]
  },
  {
   "cell_type": "code",
   "execution_count": 73,
   "id": "9d64f9a3",
   "metadata": {},
   "outputs": [
    {
     "data": {
      "text/plain": [
       "array([[248, 327],\n",
       "       [134, 183]])"
      ]
     },
     "execution_count": 73,
     "metadata": {},
     "output_type": "execute_result"
    }
   ],
   "source": [
    "np.dot(arr3,arr4)"
   ]
  },
  {
   "cell_type": "code",
   "execution_count": 76,
   "id": "bfb1ae7e",
   "metadata": {},
   "outputs": [
    {
     "data": {
      "text/plain": [
       "[1, 2, 3, 4, 5, 1, 2, 3, 4, 5]"
      ]
     },
     "execution_count": 76,
     "metadata": {},
     "output_type": "execute_result"
    }
   ],
   "source": [
    "# 리스트의 n 곱하기 \n",
    "[1, 2, 3, 4, 5]*2"
   ]
  },
  {
   "cell_type": "code",
   "execution_count": 77,
   "id": "0200b6f9",
   "metadata": {},
   "outputs": [
    {
     "data": {
      "text/plain": [
       "array([[ 2, 12],\n",
       "       [ 4, 17],\n",
       "       [12, 12]])"
      ]
     },
     "execution_count": 77,
     "metadata": {},
     "output_type": "execute_result"
    }
   ],
   "source": [
    "# n을 곱한다. \n",
    "arr4 "
   ]
  },
  {
   "cell_type": "code",
   "execution_count": 78,
   "id": "a71508e9",
   "metadata": {},
   "outputs": [
    {
     "data": {
      "text/plain": [
       "array([[10, 60],\n",
       "       [20, 85],\n",
       "       [60, 60]])"
      ]
     },
     "execution_count": 78,
     "metadata": {},
     "output_type": "execute_result"
    }
   ],
   "source": [
    "arr4*5"
   ]
  },
  {
   "cell_type": "markdown",
   "id": "0361e0ac",
   "metadata": {},
   "source": [
    "### 넘파이 배열의 인덱싱과 슬라이싱 \n",
    "\n",
    "- 인덱싱 \n",
    "```\n",
    "넘파이배열[row][column]\n",
    "넘파이배열[row , column]\n",
    "```\n",
    "\n",
    "- 슬라이싱 \n",
    "```\n",
    "넘파이배열[start:end:step, start:end:step]\n",
    "```\n",
    "\n"
   ]
  },
  {
   "cell_type": "code",
   "execution_count": 79,
   "id": "b684f751",
   "metadata": {},
   "outputs": [
    {
     "data": {
      "text/plain": [
       "array([[ 2, 19,  3,  9,  2],\n",
       "       [ 4, 10,  3,  8,  2],\n",
       "       [11,  2, 27, 24,  4],\n",
       "       [13,  1,  9, 29, 25],\n",
       "       [ 2, 22, 19,  1, 24]])"
      ]
     },
     "execution_count": 79,
     "metadata": {},
     "output_type": "execute_result"
    }
   ],
   "source": [
    "arr5 = np.random.randint(1,30, 25).reshape(5,5)\n",
    "arr5"
   ]
  },
  {
   "cell_type": "code",
   "execution_count": 81,
   "id": "04bb77bf",
   "metadata": {},
   "outputs": [
    {
     "data": {
      "text/plain": [
       "(2, 2)"
      ]
     },
     "execution_count": 81,
     "metadata": {},
     "output_type": "execute_result"
    }
   ],
   "source": [
    "arr5[0, 0], arr5[0][0]"
   ]
  },
  {
   "cell_type": "code",
   "execution_count": 83,
   "id": "4bd6b326",
   "metadata": {},
   "outputs": [
    {
     "data": {
      "text/plain": [
       "(24, 9)"
      ]
     },
     "execution_count": 83,
     "metadata": {},
     "output_type": "execute_result"
    }
   ],
   "source": [
    "arr5[-1, -1], arr5[-2, -3]"
   ]
  },
  {
   "cell_type": "code",
   "execution_count": 87,
   "id": "f5a29448",
   "metadata": {},
   "outputs": [
    {
     "data": {
      "text/plain": [
       "array([[11,  2, 27, 24,  4],\n",
       "       [13,  1,  9, 29, 25],\n",
       "       [ 2, 22, 19,  1, 24]])"
      ]
     },
     "execution_count": 87,
     "metadata": {},
     "output_type": "execute_result"
    }
   ],
   "source": [
    "# 3행부터 ~ 마지막 행까지 \n",
    "arr5[2::, ::]"
   ]
  },
  {
   "cell_type": "code",
   "execution_count": 88,
   "id": "e9a9a1a5",
   "metadata": {},
   "outputs": [
    {
     "data": {
      "text/plain": [
       "array([[ 3,  9,  2],\n",
       "       [ 3,  8,  2],\n",
       "       [27, 24,  4],\n",
       "       [ 9, 29, 25],\n",
       "       [19,  1, 24]])"
      ]
     },
     "execution_count": 88,
     "metadata": {},
     "output_type": "execute_result"
    }
   ],
   "source": [
    "# 3열부터 ~ 마지막 열까지 \n",
    "arr5[::, 2::]"
   ]
  },
  {
   "cell_type": "code",
   "execution_count": 90,
   "id": "f0e650a1",
   "metadata": {},
   "outputs": [
    {
     "data": {
      "text/plain": [
       "array([[ 3,  8,  2],\n",
       "       [27, 24,  4]])"
      ]
     },
     "execution_count": 90,
     "metadata": {},
     "output_type": "execute_result"
    }
   ],
   "source": [
    "# 행과 열을 같이 슬라이싱  \n",
    "arr5[1:3:, 2::]"
   ]
  },
  {
   "cell_type": "code",
   "execution_count": 91,
   "id": "53b4357e",
   "metadata": {},
   "outputs": [
    {
     "data": {
      "text/plain": [
       "array([[ 2,  3,  2],\n",
       "       [ 4,  3,  2],\n",
       "       [11, 27,  4],\n",
       "       [13,  9, 25],\n",
       "       [ 2, 19, 24]])"
      ]
     },
     "execution_count": 91,
     "metadata": {},
     "output_type": "execute_result"
    }
   ],
   "source": [
    "# 홀수번째 컬럼 출력 \n",
    "arr5[::, ::2]"
   ]
  },
  {
   "cell_type": "code",
   "execution_count": 93,
   "id": "2c9ea66a",
   "metadata": {},
   "outputs": [
    {
     "data": {
      "text/plain": [
       "array([[ 4, 10,  3,  8,  2],\n",
       "       [13,  1,  9, 29, 25]])"
      ]
     },
     "execution_count": 93,
     "metadata": {},
     "output_type": "execute_result"
    }
   ],
   "source": [
    "# 짝수번째 행 출력 \n",
    "arr5[1::2, ::]"
   ]
  },
  {
   "cell_type": "code",
   "execution_count": 84,
   "id": "e76839f2",
   "metadata": {},
   "outputs": [
    {
     "data": {
      "text/plain": [
       "array([[ 2, 19,  3,  9,  2],\n",
       "       [ 4, 10,  3,  8,  2],\n",
       "       [11,  2, 27, 24,  4],\n",
       "       [13,  1,  9, 29, 25],\n",
       "       [ 2, 22, 19,  1, 24]])"
      ]
     },
     "execution_count": 84,
     "metadata": {},
     "output_type": "execute_result"
    }
   ],
   "source": [
    "arr5"
   ]
  },
  {
   "cell_type": "markdown",
   "id": "627465b6",
   "metadata": {},
   "source": [
    "## 추가 퀴즈 \n",
    "```\n",
    "1) 1~15 구성된 넘파이 배열을 3행 5열로 구성하고 1,3,5 열만 출력하여라 \n",
    "2) 1~15 구성된 넘파이 배열을 3행 5열로 구성하고 \n",
    "   1행1열, 1행4열, 3행1열, 3행 4열만 출력하여라 \n",
    "3) 1~15 구성된 넘파이 배열을 3행 5열로 구성하고 홀수번째 행만 출력하여라\n",
    "```"
   ]
  },
  {
   "cell_type": "code",
   "execution_count": null,
   "id": "b0a3b761",
   "metadata": {},
   "outputs": [],
   "source": []
  },
  {
   "cell_type": "code",
   "execution_count": null,
   "id": "14640bf5",
   "metadata": {},
   "outputs": [],
   "source": []
  },
  {
   "cell_type": "code",
   "execution_count": null,
   "id": "4b9c5cd4",
   "metadata": {},
   "outputs": [],
   "source": []
  },
  {
   "cell_type": "code",
   "execution_count": null,
   "id": "ef729eb2",
   "metadata": {},
   "outputs": [],
   "source": [
    "# 리스트, 딕셔너리, 튜플, 집합 "
   ]
  },
  {
   "cell_type": "code",
   "execution_count": null,
   "id": "1bd669cc",
   "metadata": {},
   "outputs": [],
   "source": []
  },
  {
   "cell_type": "code",
   "execution_count": null,
   "id": "2d425c2b",
   "metadata": {},
   "outputs": [],
   "source": []
  },
  {
   "cell_type": "code",
   "execution_count": null,
   "id": "06091084",
   "metadata": {},
   "outputs": [],
   "source": []
  },
  {
   "cell_type": "code",
   "execution_count": null,
   "id": "4f31a99b",
   "metadata": {},
   "outputs": [],
   "source": []
  },
  {
   "cell_type": "code",
   "execution_count": null,
   "id": "42b97dd0",
   "metadata": {},
   "outputs": [],
   "source": []
  }
 ],
 "metadata": {
  "kernelspec": {
   "display_name": "Python 3",
   "language": "python",
   "name": "python3"
  },
  "language_info": {
   "codemirror_mode": {
    "name": "ipython",
    "version": 3
   },
   "file_extension": ".py",
   "mimetype": "text/x-python",
   "name": "python",
   "nbconvert_exporter": "python",
   "pygments_lexer": "ipython3",
   "version": "3.8.8"
  }
 },
 "nbformat": 4,
 "nbformat_minor": 5
}
