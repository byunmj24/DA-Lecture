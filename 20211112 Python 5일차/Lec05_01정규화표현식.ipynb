{
 "cells": [
  {
   "cell_type": "code",
   "execution_count": 2,
   "id": "6c9032f3",
   "metadata": {},
   "outputs": [
    {
     "data": {
      "text/plain": [
       "'I am keyboard mouse'"
      ]
     },
     "execution_count": 2,
     "metadata": {},
     "output_type": "execute_result"
    }
   ],
   "source": [
    "\"I am {0} {1}\".format('keyboard', 'mouse')"
   ]
  },
  {
   "cell_type": "code",
   "execution_count": 3,
   "id": "f3ec3345",
   "metadata": {},
   "outputs": [],
   "source": [
    "import re"
   ]
  },
  {
   "cell_type": "code",
   "execution_count": 24,
   "id": "6259c185",
   "metadata": {},
   "outputs": [
    {
     "data": {
      "text/plain": [
       "re.compile(r'[a-z][0-9]+', re.UNICODE)"
      ]
     },
     "execution_count": 24,
     "metadata": {},
     "output_type": "execute_result"
    }
   ],
   "source": [
    "re.compile('[a-z][0-9]+')"
   ]
  },
  {
   "cell_type": "code",
   "execution_count": 25,
   "id": "49fd058c",
   "metadata": {},
   "outputs": [],
   "source": [
    "p = re.compile('[a-z]+')"
   ]
  },
  {
   "cell_type": "code",
   "execution_count": 26,
   "id": "35aae953",
   "metadata": {},
   "outputs": [],
   "source": [
    "data = 'I am python 123'"
   ]
  },
  {
   "cell_type": "code",
   "execution_count": 27,
   "id": "486bcee6",
   "metadata": {},
   "outputs": [
    {
     "data": {
      "text/plain": [
       "['am', 'python']"
      ]
     },
     "execution_count": 27,
     "metadata": {},
     "output_type": "execute_result"
    }
   ],
   "source": [
    "p.findall(data)"
   ]
  },
  {
   "cell_type": "code",
   "execution_count": 28,
   "id": "796f386d",
   "metadata": {},
   "outputs": [],
   "source": [
    "p = re.compile('(\\d{6}[-]\\d{7})')"
   ]
  },
  {
   "cell_type": "code",
   "execution_count": 29,
   "id": "dc843c69",
   "metadata": {},
   "outputs": [],
   "source": [
    "data = '''\n",
    "kim 081212-1222333\n",
    "lee 901101-2123123\n",
    "park 700302-1555777\n",
    "'''"
   ]
  },
  {
   "cell_type": "code",
   "execution_count": 30,
   "id": "3c6da07e",
   "metadata": {},
   "outputs": [
    {
     "data": {
      "text/plain": [
       "['081212-1222333', '901101-2123123', '700302-1555777']"
      ]
     },
     "execution_count": 30,
     "metadata": {},
     "output_type": "execute_result"
    }
   ],
   "source": [
    "p.findall(data)"
   ]
  },
  {
   "cell_type": "code",
   "execution_count": null,
   "id": "a901054c",
   "metadata": {},
   "outputs": [],
   "source": []
  }
 ],
 "metadata": {
  "kernelspec": {
   "display_name": "Python 3",
   "language": "python",
   "name": "python3"
  },
  "language_info": {
   "codemirror_mode": {
    "name": "ipython",
    "version": 3
   },
   "file_extension": ".py",
   "mimetype": "text/x-python",
   "name": "python",
   "nbconvert_exporter": "python",
   "pygments_lexer": "ipython3",
   "version": "3.8.8"
  }
 },
 "nbformat": 4,
 "nbformat_minor": 5
}
