{
  "nbformat": 4,
  "nbformat_minor": 0,
  "metadata": {
    "colab": {
      "name": "20211123_pandas_note.ipynb",
      "provenance": [],
      "collapsed_sections": []
    },
    "kernelspec": {
      "name": "python3",
      "display_name": "Python 3"
    },
    "language_info": {
      "name": "python"
    }
  },
  "cells": [
    {
      "cell_type": "code",
      "metadata": {
        "colab": {
          "base_uri": "https://localhost:8080/"
        },
        "id": "JzESL2E3N7Ti",
        "outputId": "289aee08-b886-4872-b090-db83ec9c2d3d"
      },
      "source": [
        "!pip install pandas"
      ],
      "execution_count": null,
      "outputs": [
        {
          "output_type": "stream",
          "name": "stdout",
          "text": [
            "Requirement already satisfied: pandas in /usr/local/lib/python3.7/dist-packages (1.1.5)\n",
            "Requirement already satisfied: numpy>=1.15.4 in /usr/local/lib/python3.7/dist-packages (from pandas) (1.19.5)\n",
            "Requirement already satisfied: python-dateutil>=2.7.3 in /usr/local/lib/python3.7/dist-packages (from pandas) (2.8.2)\n",
            "Requirement already satisfied: pytz>=2017.2 in /usr/local/lib/python3.7/dist-packages (from pandas) (2018.9)\n",
            "Requirement already satisfied: six>=1.5 in /usr/local/lib/python3.7/dist-packages (from python-dateutil>=2.7.3->pandas) (1.15.0)\n"
          ]
        }
      ]
    },
    {
      "cell_type": "code",
      "metadata": {
        "colab": {
          "base_uri": "https://localhost:8080/"
        },
        "id": "X-_8_ploOHPW",
        "outputId": "f1120981-c2b2-421d-98f9-c7c9ea7fb89e"
      },
      "source": [
        "import pandas as pd\n",
        "print(pd.__version__)"
      ],
      "execution_count": null,
      "outputs": [
        {
          "output_type": "stream",
          "name": "stdout",
          "text": [
            "1.1.5\n"
          ]
        }
      ]
    },
    {
      "cell_type": "code",
      "metadata": {
        "colab": {
          "base_uri": "https://localhost:8080/"
        },
        "id": "drwvCpXhOKv2",
        "outputId": "0c8a59cd-931c-4c5e-d369-f374fde55664"
      },
      "source": [
        "!rm -rf RegularSeasonCompactResults.csv\n",
        "!wget https://raw.githubusercontent.com/adeshpande3/Pandas-Tutorial/master/RegularSeasonCompactResults.csv\n"
      ],
      "execution_count": null,
      "outputs": [
        {
          "output_type": "stream",
          "name": "stdout",
          "text": [
            "--2021-11-23 05:26:04--  https://raw.githubusercontent.com/adeshpande3/Pandas-Tutorial/master/RegularSeasonCompactResults.csv\n",
            "Resolving raw.githubusercontent.com (raw.githubusercontent.com)... 185.199.108.133, 185.199.109.133, 185.199.110.133, ...\n",
            "Connecting to raw.githubusercontent.com (raw.githubusercontent.com)|185.199.108.133|:443... connected.\n",
            "HTTP request sent, awaiting response... 200 OK\n",
            "Length: 4115852 (3.9M) [text/plain]\n",
            "Saving to: ‘RegularSeasonCompactResults.csv’\n",
            "\n",
            "\r          RegularSe   0%[                    ]       0  --.-KB/s               \rRegularSeasonCompac 100%[===================>]   3.92M  --.-KB/s    in 0.04s   \n",
            "\n",
            "2021-11-23 05:26:04 (107 MB/s) - ‘RegularSeasonCompactResults.csv’ saved [4115852/4115852]\n",
            "\n"
          ]
        }
      ]
    },
    {
      "cell_type": "code",
      "metadata": {
        "id": "gyLzM7jpP34V",
        "colab": {
          "base_uri": "https://localhost:8080/"
        },
        "outputId": "0fdd9c6e-1f8d-492b-8cf9-5306b3460fa3"
      },
      "source": [
        "# 리눅스 커맨드에서 파일 보기\n",
        "# 파일 위에서 10줄 보기 : head\n",
        "!head RegularSeasonCompactResults.csv"
      ],
      "execution_count": null,
      "outputs": [
        {
          "output_type": "stream",
          "name": "stdout",
          "text": [
            "Season,Daynum,Wteam,Wscore,Lteam,Lscore,Wloc,Numot\n",
            "1985,20,1228,81,1328,64,N,0\n",
            "1985,25,1106,77,1354,70,H,0\n",
            "1985,25,1112,63,1223,56,H,0\n",
            "1985,25,1165,70,1432,54,H,0\n",
            "1985,25,1192,86,1447,74,H,0\n",
            "1985,25,1218,79,1337,78,H,0\n",
            "1985,25,1228,64,1226,44,N,0\n",
            "1985,25,1242,58,1268,56,N,0\n",
            "1985,25,1260,98,1133,80,H,0\n"
          ]
        }
      ]
    },
    {
      "cell_type": "code",
      "metadata": {
        "id": "X7fpDTgZRy00"
      },
      "source": [
        "df = pd.read_csv('RegularSeasonCompactResults.csv')"
      ],
      "execution_count": null,
      "outputs": []
    },
    {
      "cell_type": "code",
      "metadata": {
        "id": "6pE8gIphSOl1",
        "colab": {
          "base_uri": "https://localhost:8080/",
          "height": 204
        },
        "outputId": "df4a8101-1cad-443c-f999-5e1f4fabfd73"
      },
      "source": [
        "df.head()"
      ],
      "execution_count": null,
      "outputs": [
        {
          "output_type": "execute_result",
          "data": {
            "text/html": [
              "<div>\n",
              "<style scoped>\n",
              "    .dataframe tbody tr th:only-of-type {\n",
              "        vertical-align: middle;\n",
              "    }\n",
              "\n",
              "    .dataframe tbody tr th {\n",
              "        vertical-align: top;\n",
              "    }\n",
              "\n",
              "    .dataframe thead th {\n",
              "        text-align: right;\n",
              "    }\n",
              "</style>\n",
              "<table border=\"1\" class=\"dataframe\">\n",
              "  <thead>\n",
              "    <tr style=\"text-align: right;\">\n",
              "      <th></th>\n",
              "      <th>Season</th>\n",
              "      <th>Daynum</th>\n",
              "      <th>Wteam</th>\n",
              "      <th>Wscore</th>\n",
              "      <th>Lteam</th>\n",
              "      <th>Lscore</th>\n",
              "      <th>Wloc</th>\n",
              "      <th>Numot</th>\n",
              "    </tr>\n",
              "  </thead>\n",
              "  <tbody>\n",
              "    <tr>\n",
              "      <th>0</th>\n",
              "      <td>1985</td>\n",
              "      <td>20</td>\n",
              "      <td>1228</td>\n",
              "      <td>81</td>\n",
              "      <td>1328</td>\n",
              "      <td>64</td>\n",
              "      <td>N</td>\n",
              "      <td>0</td>\n",
              "    </tr>\n",
              "    <tr>\n",
              "      <th>1</th>\n",
              "      <td>1985</td>\n",
              "      <td>25</td>\n",
              "      <td>1106</td>\n",
              "      <td>77</td>\n",
              "      <td>1354</td>\n",
              "      <td>70</td>\n",
              "      <td>H</td>\n",
              "      <td>0</td>\n",
              "    </tr>\n",
              "    <tr>\n",
              "      <th>2</th>\n",
              "      <td>1985</td>\n",
              "      <td>25</td>\n",
              "      <td>1112</td>\n",
              "      <td>63</td>\n",
              "      <td>1223</td>\n",
              "      <td>56</td>\n",
              "      <td>H</td>\n",
              "      <td>0</td>\n",
              "    </tr>\n",
              "    <tr>\n",
              "      <th>3</th>\n",
              "      <td>1985</td>\n",
              "      <td>25</td>\n",
              "      <td>1165</td>\n",
              "      <td>70</td>\n",
              "      <td>1432</td>\n",
              "      <td>54</td>\n",
              "      <td>H</td>\n",
              "      <td>0</td>\n",
              "    </tr>\n",
              "    <tr>\n",
              "      <th>4</th>\n",
              "      <td>1985</td>\n",
              "      <td>25</td>\n",
              "      <td>1192</td>\n",
              "      <td>86</td>\n",
              "      <td>1447</td>\n",
              "      <td>74</td>\n",
              "      <td>H</td>\n",
              "      <td>0</td>\n",
              "    </tr>\n",
              "  </tbody>\n",
              "</table>\n",
              "</div>"
            ],
            "text/plain": [
              "   Season  Daynum  Wteam  Wscore  Lteam  Lscore Wloc  Numot\n",
              "0    1985      20   1228      81   1328      64    N      0\n",
              "1    1985      25   1106      77   1354      70    H      0\n",
              "2    1985      25   1112      63   1223      56    H      0\n",
              "3    1985      25   1165      70   1432      54    H      0\n",
              "4    1985      25   1192      86   1447      74    H      0"
            ]
          },
          "metadata": {},
          "execution_count": 8
        }
      ]
    },
    {
      "cell_type": "code",
      "metadata": {
        "id": "QJT2Unq3SRu9",
        "colab": {
          "base_uri": "https://localhost:8080/",
          "height": 419
        },
        "outputId": "51a50171-55a1-4c22-ce59-b9499dac7126"
      },
      "source": [
        "df"
      ],
      "execution_count": null,
      "outputs": [
        {
          "output_type": "execute_result",
          "data": {
            "text/html": [
              "<div>\n",
              "<style scoped>\n",
              "    .dataframe tbody tr th:only-of-type {\n",
              "        vertical-align: middle;\n",
              "    }\n",
              "\n",
              "    .dataframe tbody tr th {\n",
              "        vertical-align: top;\n",
              "    }\n",
              "\n",
              "    .dataframe thead th {\n",
              "        text-align: right;\n",
              "    }\n",
              "</style>\n",
              "<table border=\"1\" class=\"dataframe\">\n",
              "  <thead>\n",
              "    <tr style=\"text-align: right;\">\n",
              "      <th></th>\n",
              "      <th>Season</th>\n",
              "      <th>Daynum</th>\n",
              "      <th>Wteam</th>\n",
              "      <th>Wscore</th>\n",
              "      <th>Lteam</th>\n",
              "      <th>Lscore</th>\n",
              "      <th>Wloc</th>\n",
              "      <th>Numot</th>\n",
              "    </tr>\n",
              "  </thead>\n",
              "  <tbody>\n",
              "    <tr>\n",
              "      <th>0</th>\n",
              "      <td>1985</td>\n",
              "      <td>20</td>\n",
              "      <td>1228</td>\n",
              "      <td>81</td>\n",
              "      <td>1328</td>\n",
              "      <td>64</td>\n",
              "      <td>N</td>\n",
              "      <td>0</td>\n",
              "    </tr>\n",
              "    <tr>\n",
              "      <th>1</th>\n",
              "      <td>1985</td>\n",
              "      <td>25</td>\n",
              "      <td>1106</td>\n",
              "      <td>77</td>\n",
              "      <td>1354</td>\n",
              "      <td>70</td>\n",
              "      <td>H</td>\n",
              "      <td>0</td>\n",
              "    </tr>\n",
              "    <tr>\n",
              "      <th>2</th>\n",
              "      <td>1985</td>\n",
              "      <td>25</td>\n",
              "      <td>1112</td>\n",
              "      <td>63</td>\n",
              "      <td>1223</td>\n",
              "      <td>56</td>\n",
              "      <td>H</td>\n",
              "      <td>0</td>\n",
              "    </tr>\n",
              "    <tr>\n",
              "      <th>3</th>\n",
              "      <td>1985</td>\n",
              "      <td>25</td>\n",
              "      <td>1165</td>\n",
              "      <td>70</td>\n",
              "      <td>1432</td>\n",
              "      <td>54</td>\n",
              "      <td>H</td>\n",
              "      <td>0</td>\n",
              "    </tr>\n",
              "    <tr>\n",
              "      <th>4</th>\n",
              "      <td>1985</td>\n",
              "      <td>25</td>\n",
              "      <td>1192</td>\n",
              "      <td>86</td>\n",
              "      <td>1447</td>\n",
              "      <td>74</td>\n",
              "      <td>H</td>\n",
              "      <td>0</td>\n",
              "    </tr>\n",
              "    <tr>\n",
              "      <th>...</th>\n",
              "      <td>...</td>\n",
              "      <td>...</td>\n",
              "      <td>...</td>\n",
              "      <td>...</td>\n",
              "      <td>...</td>\n",
              "      <td>...</td>\n",
              "      <td>...</td>\n",
              "      <td>...</td>\n",
              "    </tr>\n",
              "    <tr>\n",
              "      <th>145284</th>\n",
              "      <td>2016</td>\n",
              "      <td>132</td>\n",
              "      <td>1114</td>\n",
              "      <td>70</td>\n",
              "      <td>1419</td>\n",
              "      <td>50</td>\n",
              "      <td>N</td>\n",
              "      <td>0</td>\n",
              "    </tr>\n",
              "    <tr>\n",
              "      <th>145285</th>\n",
              "      <td>2016</td>\n",
              "      <td>132</td>\n",
              "      <td>1163</td>\n",
              "      <td>72</td>\n",
              "      <td>1272</td>\n",
              "      <td>58</td>\n",
              "      <td>N</td>\n",
              "      <td>0</td>\n",
              "    </tr>\n",
              "    <tr>\n",
              "      <th>145286</th>\n",
              "      <td>2016</td>\n",
              "      <td>132</td>\n",
              "      <td>1246</td>\n",
              "      <td>82</td>\n",
              "      <td>1401</td>\n",
              "      <td>77</td>\n",
              "      <td>N</td>\n",
              "      <td>1</td>\n",
              "    </tr>\n",
              "    <tr>\n",
              "      <th>145287</th>\n",
              "      <td>2016</td>\n",
              "      <td>132</td>\n",
              "      <td>1277</td>\n",
              "      <td>66</td>\n",
              "      <td>1345</td>\n",
              "      <td>62</td>\n",
              "      <td>N</td>\n",
              "      <td>0</td>\n",
              "    </tr>\n",
              "    <tr>\n",
              "      <th>145288</th>\n",
              "      <td>2016</td>\n",
              "      <td>132</td>\n",
              "      <td>1386</td>\n",
              "      <td>87</td>\n",
              "      <td>1433</td>\n",
              "      <td>74</td>\n",
              "      <td>N</td>\n",
              "      <td>0</td>\n",
              "    </tr>\n",
              "  </tbody>\n",
              "</table>\n",
              "<p>145289 rows × 8 columns</p>\n",
              "</div>"
            ],
            "text/plain": [
              "        Season  Daynum  Wteam  Wscore  Lteam  Lscore Wloc  Numot\n",
              "0         1985      20   1228      81   1328      64    N      0\n",
              "1         1985      25   1106      77   1354      70    H      0\n",
              "2         1985      25   1112      63   1223      56    H      0\n",
              "3         1985      25   1165      70   1432      54    H      0\n",
              "4         1985      25   1192      86   1447      74    H      0\n",
              "...        ...     ...    ...     ...    ...     ...  ...    ...\n",
              "145284    2016     132   1114      70   1419      50    N      0\n",
              "145285    2016     132   1163      72   1272      58    N      0\n",
              "145286    2016     132   1246      82   1401      77    N      1\n",
              "145287    2016     132   1277      66   1345      62    N      0\n",
              "145288    2016     132   1386      87   1433      74    N      0\n",
              "\n",
              "[145289 rows x 8 columns]"
            ]
          },
          "metadata": {},
          "execution_count": 9
        }
      ]
    },
    {
      "cell_type": "code",
      "metadata": {
        "id": "VkIS3SZBSgcE",
        "colab": {
          "base_uri": "https://localhost:8080/"
        },
        "outputId": "f2a807cc-4a7f-44fa-cc75-d976719dd322"
      },
      "source": [
        "print(df)"
      ],
      "execution_count": null,
      "outputs": [
        {
          "output_type": "stream",
          "name": "stdout",
          "text": [
            "        Season  Daynum  Wteam  Wscore  Lteam  Lscore Wloc  Numot\n",
            "0         1985      20   1228      81   1328      64    N      0\n",
            "1         1985      25   1106      77   1354      70    H      0\n",
            "2         1985      25   1112      63   1223      56    H      0\n",
            "3         1985      25   1165      70   1432      54    H      0\n",
            "4         1985      25   1192      86   1447      74    H      0\n",
            "...        ...     ...    ...     ...    ...     ...  ...    ...\n",
            "145284    2016     132   1114      70   1419      50    N      0\n",
            "145285    2016     132   1163      72   1272      58    N      0\n",
            "145286    2016     132   1246      82   1401      77    N      1\n",
            "145287    2016     132   1277      66   1345      62    N      0\n",
            "145288    2016     132   1386      87   1433      74    N      0\n",
            "\n",
            "[145289 rows x 8 columns]\n"
          ]
        }
      ]
    },
    {
      "cell_type": "markdown",
      "metadata": {
        "id": "RIGzceUIShfc"
      },
      "source": [
        "데이터 프레임의 컬럼 한줄을 시리즈 라고 함"
      ]
    },
    {
      "cell_type": "code",
      "metadata": {
        "id": "3LiIgW-KTTjP",
        "colab": {
          "base_uri": "https://localhost:8080/"
        },
        "outputId": "9e178924-4a2b-4b27-83ba-44b0bc3ef612"
      },
      "source": [
        "print(df.tail())"
      ],
      "execution_count": null,
      "outputs": [
        {
          "output_type": "stream",
          "name": "stdout",
          "text": [
            "        Season  Daynum  Wteam  Wscore  Lteam  Lscore Wloc  Numot\n",
            "145284    2016     132   1114      70   1419      50    N      0\n",
            "145285    2016     132   1163      72   1272      58    N      0\n",
            "145286    2016     132   1246      82   1401      77    N      1\n",
            "145287    2016     132   1277      66   1345      62    N      0\n",
            "145288    2016     132   1386      87   1433      74    N      0\n"
          ]
        }
      ]
    },
    {
      "cell_type": "code",
      "metadata": {
        "id": "dOjd2IOxTVMN",
        "colab": {
          "base_uri": "https://localhost:8080/"
        },
        "outputId": "589b398c-0001-440d-89c0-6019667ed0a2"
      },
      "source": [
        "print(df.info())"
      ],
      "execution_count": null,
      "outputs": [
        {
          "output_type": "stream",
          "name": "stdout",
          "text": [
            "<class 'pandas.core.frame.DataFrame'>\n",
            "RangeIndex: 145289 entries, 0 to 145288\n",
            "Data columns (total 8 columns):\n",
            " #   Column  Non-Null Count   Dtype \n",
            "---  ------  --------------   ----- \n",
            " 0   Season  145289 non-null  int64 \n",
            " 1   Daynum  145289 non-null  int64 \n",
            " 2   Wteam   145289 non-null  int64 \n",
            " 3   Wscore  145289 non-null  int64 \n",
            " 4   Lteam   145289 non-null  int64 \n",
            " 5   Lscore  145289 non-null  int64 \n",
            " 6   Wloc    145289 non-null  object\n",
            " 7   Numot   145289 non-null  int64 \n",
            "dtypes: int64(7), object(1)\n",
            "memory usage: 8.9+ MB\n",
            "None\n"
          ]
        }
      ]
    },
    {
      "cell_type": "markdown",
      "metadata": {
        "id": "5cp_wYVsTz_O"
      },
      "source": [
        "데이터 다루는 라이브러리는 대부분 Numpy를 쓴다"
      ]
    },
    {
      "cell_type": "code",
      "metadata": {
        "id": "8o0gTUFIUyo6",
        "colab": {
          "base_uri": "https://localhost:8080/"
        },
        "outputId": "7738a099-8de9-4735-c17f-cb0e55d703df"
      },
      "source": [
        "print(df.describe())"
      ],
      "execution_count": null,
      "outputs": [
        {
          "output_type": "stream",
          "name": "stdout",
          "text": [
            "              Season         Daynum  ...         Lscore          Numot\n",
            "count  145289.000000  145289.000000  ...  145289.000000  145289.000000\n",
            "mean     2001.574834      75.223816  ...      64.497009       0.044387\n",
            "std         9.233342      33.287418  ...      11.380625       0.247819\n",
            "min      1985.000000       0.000000  ...      20.000000       0.000000\n",
            "25%      1994.000000      47.000000  ...      57.000000       0.000000\n",
            "50%      2002.000000      78.000000  ...      64.000000       0.000000\n",
            "75%      2010.000000     103.000000  ...      72.000000       0.000000\n",
            "max      2016.000000     132.000000  ...     150.000000       6.000000\n",
            "\n",
            "[8 rows x 7 columns]\n"
          ]
        }
      ]
    },
    {
      "cell_type": "code",
      "metadata": {
        "id": "sRCVB2W-UiSN",
        "colab": {
          "base_uri": "https://localhost:8080/"
        },
        "outputId": "6cbef57b-138c-4651-b1a6-5500c8699066"
      },
      "source": [
        "print(df.min())"
      ],
      "execution_count": null,
      "outputs": [
        {
          "output_type": "stream",
          "name": "stdout",
          "text": [
            "Season    1985\n",
            "Daynum       0\n",
            "Wteam     1101\n",
            "Wscore      34\n",
            "Lteam     1101\n",
            "Lscore      20\n",
            "Wloc         A\n",
            "Numot        0\n",
            "dtype: object\n"
          ]
        }
      ]
    },
    {
      "cell_type": "code",
      "metadata": {
        "id": "az7USh4DVUE1",
        "colab": {
          "base_uri": "https://localhost:8080/",
          "height": 204
        },
        "outputId": "1dd5b3ee-202f-4ff8-f2b3-0687a5eae974"
      },
      "source": [
        "df.head()"
      ],
      "execution_count": null,
      "outputs": [
        {
          "output_type": "execute_result",
          "data": {
            "text/html": [
              "<div>\n",
              "<style scoped>\n",
              "    .dataframe tbody tr th:only-of-type {\n",
              "        vertical-align: middle;\n",
              "    }\n",
              "\n",
              "    .dataframe tbody tr th {\n",
              "        vertical-align: top;\n",
              "    }\n",
              "\n",
              "    .dataframe thead th {\n",
              "        text-align: right;\n",
              "    }\n",
              "</style>\n",
              "<table border=\"1\" class=\"dataframe\">\n",
              "  <thead>\n",
              "    <tr style=\"text-align: right;\">\n",
              "      <th></th>\n",
              "      <th>Season</th>\n",
              "      <th>Daynum</th>\n",
              "      <th>Wteam</th>\n",
              "      <th>Wscore</th>\n",
              "      <th>Lteam</th>\n",
              "      <th>Lscore</th>\n",
              "      <th>Wloc</th>\n",
              "      <th>Numot</th>\n",
              "    </tr>\n",
              "  </thead>\n",
              "  <tbody>\n",
              "    <tr>\n",
              "      <th>0</th>\n",
              "      <td>1985</td>\n",
              "      <td>20</td>\n",
              "      <td>1228</td>\n",
              "      <td>81</td>\n",
              "      <td>1328</td>\n",
              "      <td>64</td>\n",
              "      <td>N</td>\n",
              "      <td>0</td>\n",
              "    </tr>\n",
              "    <tr>\n",
              "      <th>1</th>\n",
              "      <td>1985</td>\n",
              "      <td>25</td>\n",
              "      <td>1106</td>\n",
              "      <td>77</td>\n",
              "      <td>1354</td>\n",
              "      <td>70</td>\n",
              "      <td>H</td>\n",
              "      <td>0</td>\n",
              "    </tr>\n",
              "    <tr>\n",
              "      <th>2</th>\n",
              "      <td>1985</td>\n",
              "      <td>25</td>\n",
              "      <td>1112</td>\n",
              "      <td>63</td>\n",
              "      <td>1223</td>\n",
              "      <td>56</td>\n",
              "      <td>H</td>\n",
              "      <td>0</td>\n",
              "    </tr>\n",
              "    <tr>\n",
              "      <th>3</th>\n",
              "      <td>1985</td>\n",
              "      <td>25</td>\n",
              "      <td>1165</td>\n",
              "      <td>70</td>\n",
              "      <td>1432</td>\n",
              "      <td>54</td>\n",
              "      <td>H</td>\n",
              "      <td>0</td>\n",
              "    </tr>\n",
              "    <tr>\n",
              "      <th>4</th>\n",
              "      <td>1985</td>\n",
              "      <td>25</td>\n",
              "      <td>1192</td>\n",
              "      <td>86</td>\n",
              "      <td>1447</td>\n",
              "      <td>74</td>\n",
              "      <td>H</td>\n",
              "      <td>0</td>\n",
              "    </tr>\n",
              "  </tbody>\n",
              "</table>\n",
              "</div>"
            ],
            "text/plain": [
              "   Season  Daynum  Wteam  Wscore  Lteam  Lscore Wloc  Numot\n",
              "0    1985      20   1228      81   1328      64    N      0\n",
              "1    1985      25   1106      77   1354      70    H      0\n",
              "2    1985      25   1112      63   1223      56    H      0\n",
              "3    1985      25   1165      70   1432      54    H      0\n",
              "4    1985      25   1192      86   1447      74    H      0"
            ]
          },
          "metadata": {},
          "execution_count": 16
        }
      ]
    },
    {
      "cell_type": "code",
      "metadata": {
        "id": "Oft1oiMiZl4u",
        "colab": {
          "base_uri": "https://localhost:8080/"
        },
        "outputId": "c966e772-ee76-4d39-d416-742dc2eaa5f0"
      },
      "source": [
        "# df.컬럼명 : 해당 컬럼 시리즈를 불러옴 - 가장 권장하는 접근방법\n",
        "df.Wteam"
      ],
      "execution_count": null,
      "outputs": [
        {
          "output_type": "execute_result",
          "data": {
            "text/plain": [
              "0         1228\n",
              "1         1106\n",
              "2         1112\n",
              "3         1165\n",
              "4         1192\n",
              "          ... \n",
              "145284    1114\n",
              "145285    1163\n",
              "145286    1246\n",
              "145287    1277\n",
              "145288    1386\n",
              "Name: Wteam, Length: 145289, dtype: int64"
            ]
          },
          "metadata": {},
          "execution_count": 18
        }
      ]
    },
    {
      "cell_type": "code",
      "metadata": {
        "id": "XmZErAWCZnOu",
        "colab": {
          "base_uri": "https://localhost:8080/"
        },
        "outputId": "bd099746-9305-429f-fbac-b082bc184611"
      },
      "source": [
        "df.Wteam[0:5]"
      ],
      "execution_count": null,
      "outputs": [
        {
          "output_type": "execute_result",
          "data": {
            "text/plain": [
              "0    1228\n",
              "1    1106\n",
              "2    1112\n",
              "3    1165\n",
              "4    1192\n",
              "Name: Wteam, dtype: int64"
            ]
          },
          "metadata": {},
          "execution_count": 21
        }
      ]
    },
    {
      "cell_type": "code",
      "metadata": {
        "id": "zlOrNTubZ4LG",
        "colab": {
          "base_uri": "https://localhost:8080/"
        },
        "outputId": "a6e3d733-2193-43ef-a5e5-1fe7e0f5b615"
      },
      "source": [
        "df['Wteam']"
      ],
      "execution_count": null,
      "outputs": [
        {
          "output_type": "execute_result",
          "data": {
            "text/plain": [
              "0         1228\n",
              "1         1106\n",
              "2         1112\n",
              "3         1165\n",
              "4         1192\n",
              "          ... \n",
              "145284    1114\n",
              "145285    1163\n",
              "145286    1246\n",
              "145287    1277\n",
              "145288    1386\n",
              "Name: Wteam, Length: 145289, dtype: int64"
            ]
          },
          "metadata": {},
          "execution_count": 26
        }
      ]
    },
    {
      "cell_type": "code",
      "metadata": {
        "id": "CXAyluWtaGYn",
        "colab": {
          "base_uri": "https://localhost:8080/"
        },
        "outputId": "34215ae1-d686-48f0-9e87-2dbeb298c0c2"
      },
      "source": [
        "print(df.Wteam)\n",
        "print(df.Wteam.max())\n",
        "print(df.Wteam[0])\n",
        "print(df.Wteam[0:5])\n",
        "print(df.Wteam[0:5].max())"
      ],
      "execution_count": null,
      "outputs": [
        {
          "output_type": "stream",
          "name": "stdout",
          "text": [
            "0         1228\n",
            "1         1106\n",
            "2         1112\n",
            "3         1165\n",
            "4         1192\n",
            "          ... \n",
            "145284    1114\n",
            "145285    1163\n",
            "145286    1246\n",
            "145287    1277\n",
            "145288    1386\n",
            "Name: Wteam, Length: 145289, dtype: int64\n",
            "1464\n",
            "1228\n",
            "0    1228\n",
            "1    1106\n",
            "2    1112\n",
            "3    1165\n",
            "4    1192\n",
            "Name: Wteam, dtype: int64\n",
            "1228\n"
          ]
        }
      ]
    },
    {
      "cell_type": "code",
      "metadata": {
        "id": "8I-O8_13agQO",
        "colab": {
          "base_uri": "https://localhost:8080/"
        },
        "outputId": "62a45666-604f-43f4-aaaf-be4dc9863b70"
      },
      "source": [
        "df = pd.DataFrame(\n",
        "    {'AAA' : [4, 5, 6, 7],\n",
        "     'BBB' : [10, 20, 30, 40],\n",
        "     'CCC' : [100, 50, -30, -50]}\n",
        ")\n",
        "print(df)\n",
        "\n",
        "mask = pd.Series([True, False, True, False])\n",
        "print(df[mask])\n",
        "\n",
        "df.loc[mask, 'bbb'] = -1\n",
        "print(df)"
      ],
      "execution_count": null,
      "outputs": [
        {
          "output_type": "stream",
          "name": "stdout",
          "text": [
            "   AAA  BBB  CCC\n",
            "0    4   10  100\n",
            "1    5   20   50\n",
            "2    6   30  -30\n",
            "3    7   40  -50\n",
            "   AAA  BBB  CCC\n",
            "0    4   10  100\n",
            "2    6   30  -30\n",
            "   AAA  BBB  CCC  bbb\n",
            "0    4   10  100 -1.0\n",
            "1    5   20   50  NaN\n",
            "2    6   30  -30 -1.0\n",
            "3    7   40  -50  NaN\n"
          ]
        }
      ]
    },
    {
      "cell_type": "code",
      "metadata": {
        "id": "rBjNgguDbkF2",
        "colab": {
          "base_uri": "https://localhost:8080/"
        },
        "outputId": "77cbab2c-bf01-4214-855e-453a2536f807"
      },
      "source": [
        "import numpy as np\n",
        "\n",
        "a = np.arange(6)\n",
        "mask = np.array([0,0,0,1,1,1])\n",
        "print(a*mask)"
      ],
      "execution_count": null,
      "outputs": [
        {
          "output_type": "stream",
          "name": "stdout",
          "text": [
            "[0 0 0 3 4 5]\n"
          ]
        }
      ]
    },
    {
      "cell_type": "code",
      "metadata": {
        "id": "__n_2lJydwTN",
        "colab": {
          "base_uri": "https://localhost:8080/"
        },
        "outputId": "7cc3afcd-6b5a-47d2-ca34-54fdd50ac09f"
      },
      "source": [
        "df = pd.DataFrame(\n",
        "    {'AAA' : [4, 5, 6, 7],\n",
        "     'BBB' : [10, 20, 30, 40],\n",
        "     'CCC' : [100, 50, -30, -50]}\n",
        ")\n",
        "print(df)\n",
        "\n",
        "mask = np.array([0, 2])\n",
        "print(df.loc[mask])\n",
        "\n",
        "df.loc[mask, 'bbb'] = -1\n",
        "print(df)"
      ],
      "execution_count": null,
      "outputs": [
        {
          "output_type": "stream",
          "name": "stdout",
          "text": [
            "   AAA  BBB  CCC\n",
            "0    4   10  100\n",
            "1    5   20   50\n",
            "2    6   30  -30\n",
            "3    7   40  -50\n",
            "   AAA  BBB  CCC\n",
            "0    4   10  100\n",
            "2    6   30  -30\n",
            "   AAA  BBB  CCC  bbb\n",
            "0    4   10  100 -1.0\n",
            "1    5   20   50  NaN\n",
            "2    6   30  -30 -1.0\n",
            "3    7   40  -50  NaN\n"
          ]
        }
      ]
    },
    {
      "cell_type": "code",
      "metadata": {
        "id": "oc_ORkSFesEQ",
        "colab": {
          "base_uri": "https://localhost:8080/"
        },
        "outputId": "1d670439-ce3e-4ad8-edb3-5de92d2c7c3e"
      },
      "source": [
        "df = pd.DataFrame(\n",
        "    {'AAA' : [4, 5, 6, 7],\n",
        "     'BBB' : [10, 20, 30, 40],\n",
        "     'CCC' : [100, 50, -30, -50]}\n",
        ")\n",
        "print(df)\n",
        "print(df.AAA)\n",
        "print(df.AAA>5)"
      ],
      "execution_count": null,
      "outputs": [
        {
          "output_type": "stream",
          "name": "stdout",
          "text": [
            "   AAA  BBB  CCC\n",
            "0    4   10  100\n",
            "1    5   20   50\n",
            "2    6   30  -30\n",
            "3    7   40  -50\n",
            "0    4\n",
            "1    5\n",
            "2    6\n",
            "3    7\n",
            "Name: AAA, dtype: int64\n",
            "0    False\n",
            "1    False\n",
            "2     True\n",
            "3     True\n",
            "Name: AAA, dtype: bool\n"
          ]
        }
      ]
    },
    {
      "cell_type": "code",
      "metadata": {
        "id": "Aoz9q6CGfRuX",
        "colab": {
          "base_uri": "https://localhost:8080/"
        },
        "outputId": "239eac40-5102-4e48-c966-0daa85feaaad"
      },
      "source": [
        "# AAA 컬럼의 값이 짝수인 경우에 CCC의 값을 0으로 만들어라. 내 풀이\n",
        "df = pd.DataFrame(\n",
        "    {'AAA' : [4, 5, 6, 7],\n",
        "     'BBB' : [10, 20, 30, 40],\n",
        "     'CCC' : [100, 50, -30, -50]}\n",
        ")\n",
        "print(df)\n",
        "df.CCC[df.AAA%2 == 0] = 0\n",
        "print(df)"
      ],
      "execution_count": null,
      "outputs": [
        {
          "output_type": "stream",
          "name": "stdout",
          "text": [
            "   AAA  BBB  CCC\n",
            "0    4   10  100\n",
            "1    5   20   50\n",
            "2    6   30  -30\n",
            "3    7   40  -50\n",
            "   AAA  BBB  CCC\n",
            "0    4   10    0\n",
            "1    5   20   50\n",
            "2    6   30    0\n",
            "3    7   40  -50\n"
          ]
        }
      ]
    },
    {
      "cell_type": "code",
      "metadata": {
        "id": "Jl_JOeRbhlNw",
        "colab": {
          "base_uri": "https://localhost:8080/"
        },
        "outputId": "7e715ae1-53b8-4528-b113-888907565682"
      },
      "source": [
        "# AAA 컬럼의 값이 짝수인 경우에 CCC의 값을 0으로 만들어라. 풀이\n",
        "df = pd.DataFrame(\n",
        "    {'AAA' : [4, 5, 6, 7],\n",
        "     'BBB' : [10, 20, 30, 40],\n",
        "     'CCC' : [100, 50, -30, -50]}\n",
        ")\n",
        "print(df)\n",
        "df.loc[df.AAA%2 == 0, 'CCC'] = 0\n",
        "print(df)"
      ],
      "execution_count": null,
      "outputs": [
        {
          "output_type": "stream",
          "name": "stdout",
          "text": [
            "   AAA  BBB  CCC\n",
            "0    4   10  100\n",
            "1    5   20   50\n",
            "2    6   30  -30\n",
            "3    7   40  -50\n",
            "   AAA  BBB  CCC\n",
            "0    4   10    0\n",
            "1    5   20   50\n",
            "2    6   30    0\n",
            "3    7   40  -50\n"
          ]
        }
      ]
    },
    {
      "cell_type": "code",
      "metadata": {
        "id": "Yb2oFyL2f_6f",
        "colab": {
          "base_uri": "https://localhost:8080/"
        },
        "outputId": "a7f15181-da80-4c8d-ae51-145044542f98"
      },
      "source": [
        "# AAA 컬럼의 값이 짝수인 경우에 CCC의 값을 0으로 만들어라\n",
        "df = pd.DataFrame(\n",
        "    {'AAA' : [4, 5, 6, 7],\n",
        "     'BBB' : [10, 20, 30, 40],\n",
        "     'CCC' : [100, 50, -30, -50]}\n",
        ")\n"
      ],
      "execution_count": null,
      "outputs": [
        {
          "output_type": "execute_result",
          "data": {
            "text/plain": [
              "0    100\n",
              "1     50\n",
              "2    -30\n",
              "3    -50\n",
              "Name: CCC, dtype: int64"
            ]
          },
          "metadata": {},
          "execution_count": 56
        }
      ]
    },
    {
      "cell_type": "code",
      "metadata": {
        "id": "GOa4bIvhggFW",
        "colab": {
          "base_uri": "https://localhost:8080/"
        },
        "outputId": "252d063d-f590-433d-86e2-b46f1b9f31fa"
      },
      "source": [
        "# AAA 컬럼이 홀수이면 CCC의 값을 2배로 만들어라. 내 풀이\n",
        "df = pd.DataFrame(\n",
        "    {'AAA' : [4, 5, 6, 7],\n",
        "     'BBB' : [10, 20, 30, 40],\n",
        "     'CCC' : [100, 50, -30, -50]}\n",
        ")\n",
        "print(df)\n",
        "\n",
        "df.CCC[df.AAA % 2 == 1] = df.CCC * 2\n",
        "print(df)"
      ],
      "execution_count": null,
      "outputs": [
        {
          "output_type": "stream",
          "name": "stdout",
          "text": [
            "   AAA  BBB  CCC\n",
            "0    4   10  100\n",
            "1    5   20   50\n",
            "2    6   30  -30\n",
            "3    7   40  -50\n",
            "   AAA  BBB  CCC\n",
            "0    4   10  100\n",
            "1    5   20  100\n",
            "2    6   30  -30\n",
            "3    7   40 -100\n"
          ]
        }
      ]
    },
    {
      "cell_type": "code",
      "metadata": {
        "id": "DwrSD4tIhEn9",
        "colab": {
          "base_uri": "https://localhost:8080/"
        },
        "outputId": "4ce9b03e-16c7-4d5b-8250-a87ed52d8a4e"
      },
      "source": [
        "# AAA 컬럼이 홀수이면 CCC의 값을 2배로 만들어라. 풀이\n",
        "df = pd.DataFrame(\n",
        "    {'AAA' : [4, 5, 6, 7],\n",
        "     'BBB' : [10, 20, 30, 40],\n",
        "     'CCC' : [100, 50, -30, -50]}\n",
        ")\n",
        "print(df)\n",
        "\n",
        "df.loc[df.AAA%2 == 1, 'CCC'] = df.CCC*2\n",
        "print(df)"
      ],
      "execution_count": null,
      "outputs": [
        {
          "output_type": "stream",
          "name": "stdout",
          "text": [
            "   AAA  BBB  CCC\n",
            "0    4   10  100\n",
            "1    5   20   50\n",
            "2    6   30  -30\n",
            "3    7   40  -50\n",
            "   AAA  BBB  CCC\n",
            "0    4   10  100\n",
            "1    5   20  100\n",
            "2    6   30  -30\n",
            "3    7   40 -100\n"
          ]
        }
      ]
    },
    {
      "cell_type": "code",
      "metadata": {
        "id": "CqjivsLRhftw",
        "colab": {
          "base_uri": "https://localhost:8080/"
        },
        "outputId": "476691be-a0b5-477e-b805-ba80b731ecf3"
      },
      "source": [
        "# AAA >= 5 그리고 BBB < 40 --> BBB = -1. 내 풀이\n",
        "df = pd.DataFrame(\n",
        "    {'AAA' : [4, 5, 6, 7],\n",
        "     'BBB' : [10, 20, 30, 40],\n",
        "     'CCC' : [100, 50, -30, -50]}\n",
        ")\n",
        "print(df)\n",
        "\n",
        "df.BBB[(df.AAA >= 5) & (df.BBB < 40)] = -1\n",
        "print(df)"
      ],
      "execution_count": null,
      "outputs": [
        {
          "output_type": "stream",
          "name": "stdout",
          "text": [
            "   AAA  BBB  CCC\n",
            "0    4   10  100\n",
            "1    5   20   50\n",
            "2    6   30  -30\n",
            "3    7   40  -50\n",
            "   AAA  BBB  CCC\n",
            "0    4   10  100\n",
            "1    5   -1   50\n",
            "2    6   -1  -30\n",
            "3    7   40  -50\n"
          ]
        }
      ]
    },
    {
      "cell_type": "code",
      "metadata": {
        "colab": {
          "base_uri": "https://localhost:8080/"
        },
        "id": "1i6RISmbiJtI",
        "outputId": "8784ae85-99b6-4517-a91a-d6cb839aae03"
      },
      "source": [
        "# AAA >= 5 그리고 BBB < 40 --> BBB = -1. 풀이\n",
        "df = pd.DataFrame(\n",
        "    {'AAA' : [4, 5, 6, 7],\n",
        "     'BBB' : [10, 20, 30, 40],\n",
        "     'CCC' : [100, 50, -30, -50]}\n",
        ")\n",
        "print(df)\n",
        "\n",
        "# 데이터프레임에서는 데이터를 로드하고 바꿀땐 loc 를 활용해라\n",
        "df.loc[(df.AAA >= 5) & (df.BBB < 40), 'BBB'] = -1\n",
        "print(df)"
      ],
      "execution_count": null,
      "outputs": [
        {
          "output_type": "stream",
          "name": "stdout",
          "text": [
            "   AAA  BBB  CCC\n",
            "0    4   10  100\n",
            "1    5   20   50\n",
            "2    6   30  -30\n",
            "3    7   40  -50\n",
            "   AAA  BBB  CCC\n",
            "0    4   10  100\n",
            "1    5   -1   50\n",
            "2    6   -1  -30\n",
            "3    7   40  -50\n"
          ]
        }
      ]
    },
    {
      "cell_type": "code",
      "metadata": {
        "id": "d5LV-37RifEv",
        "colab": {
          "base_uri": "https://localhost:8080/"
        },
        "outputId": "ed680046-ae34-429a-bffe-ab9b280d2794"
      },
      "source": [
        "# Numpy \n",
        "a = np.arange(6)\n",
        "a[a > 3] = -1\n",
        "print(a)"
      ],
      "execution_count": null,
      "outputs": [
        {
          "output_type": "stream",
          "name": "stdout",
          "text": [
            "[ 0  1  2  3 -1 -1]\n"
          ]
        }
      ]
    },
    {
      "cell_type": "code",
      "metadata": {
        "colab": {
          "base_uri": "https://localhost:8080/"
        },
        "id": "47dzda1cm97Q",
        "outputId": "944f9258-9e56-4445-a2c1-3743052e0044"
      },
      "source": [
        "df = pd.DataFrame(\n",
        "    {'AAA' : [4, 5, 6, 7],\n",
        "     'BBB' : [10, 20, 30, 40],\n",
        "     'CCC' : [100, 50, -30, -50]}\n",
        ")\n",
        "\n",
        "# 바꿀 컬럼이 여러개면 리스트로 넣어준다.\n",
        "df.loc[df.AAA%2 == 0, ['BBB','CCC']] = -1\n",
        "print(df)"
      ],
      "execution_count": null,
      "outputs": [
        {
          "output_type": "stream",
          "name": "stdout",
          "text": [
            "   AAA  BBB  CCC\n",
            "0    4   -1   -1\n",
            "1    5   20   50\n",
            "2    6   -1   -1\n",
            "3    7   40  -50\n"
          ]
        }
      ]
    },
    {
      "cell_type": "code",
      "metadata": {
        "colab": {
          "base_uri": "https://localhost:8080/"
        },
        "id": "o7g3-TRSn9Xe",
        "outputId": "0d464059-7922-4fe1-e664-ab057a748652"
      },
      "source": [
        "a = [0,1,2,3,4]\n",
        "if 3 in a :\n",
        "    print('existed')"
      ],
      "execution_count": null,
      "outputs": [
        {
          "output_type": "stream",
          "name": "stdout",
          "text": [
            "existed\n"
          ]
        }
      ]
    },
    {
      "cell_type": "code",
      "metadata": {
        "colab": {
          "base_uri": "https://localhost:8080/"
        },
        "id": "-ief_CdsoY6x",
        "outputId": "c39bad7c-3d5b-4e53-ac56-a3c2596871e9"
      },
      "source": [
        "df = pd.DataFrame(\n",
        "    {'AAA' : [4, 5, 6, 7],\n",
        "     'BBB' : [10, 20, 30, 40],\n",
        "     'CCC' : [100, 50, -30, -50]}\n",
        ")\n",
        "\n",
        "# isin 메서드 : 특정값에 포함되는지 확인.\n",
        "print(df.AAA.isin([4,5,6]))\n",
        "\n",
        "# AAA의 값이 4 또는 7인 경우 BBB 컬럼을 0으로 변환. 내 풀이\n",
        "df.BBB[df.AAA.isin([4, 7])] = 0\n",
        "print(df)"
      ],
      "execution_count": null,
      "outputs": [
        {
          "output_type": "stream",
          "name": "stdout",
          "text": [
            "0     True\n",
            "1     True\n",
            "2     True\n",
            "3    False\n",
            "Name: AAA, dtype: bool\n",
            "   AAA  BBB  CCC\n",
            "0    4    0  100\n",
            "1    5   20   50\n",
            "2    6   30  -30\n",
            "3    7    0  -50\n"
          ]
        }
      ]
    },
    {
      "cell_type": "code",
      "metadata": {
        "colab": {
          "base_uri": "https://localhost:8080/"
        },
        "id": "Ef-PSYjXohUQ",
        "outputId": "8c5d2d8d-8d5d-4049-bbbf-412d36872f9e"
      },
      "source": [
        "df = pd.DataFrame(\n",
        "    {'AAA' : [4, 5, 6, 7],\n",
        "     'BBB' : [10, 20, 30, 40],\n",
        "     'CCC' : [100, 50, -30, -50]}\n",
        ")\n",
        "\n",
        "# isin 메서드 : 특정값에 포함되는지 확인\n",
        "print(df.AAA.isin([4,5,6]))\n",
        "\n",
        "# AAA의 값이 4 또는 7인 경우 BBB 컬럼을 0으로 변환. 풀이\n",
        "df.loc[df.AAA.isin([4, 7]), 'BBB'] = 0\n",
        "print(df)"
      ],
      "execution_count": null,
      "outputs": [
        {
          "output_type": "stream",
          "name": "stdout",
          "text": [
            "0     True\n",
            "1     True\n",
            "2     True\n",
            "3    False\n",
            "Name: AAA, dtype: bool\n",
            "   AAA  BBB  CCC\n",
            "0    4    0  100\n",
            "1    5   20   50\n",
            "2    6   30  -30\n",
            "3    7    0  -50\n"
          ]
        }
      ]
    },
    {
      "cell_type": "markdown",
      "metadata": {
        "id": "7nnIHmrApWVv"
      },
      "source": [
        "Pandas 는 정말 광대하다. 기능이 많다..\n",
        "전처리 하는데 필요한 수준까지만 배울 것.\n",
        "- 전처리\n",
        "- 결측치, 이상치 처리\n",
        "- Normalization, Standardization 등"
      ]
    },
    {
      "cell_type": "code",
      "metadata": {
        "colab": {
          "base_uri": "https://localhost:8080/",
          "height": 129
        },
        "id": "LBHT2FbDp-Pr",
        "outputId": "e653af01-9cd6-4042-aa67-e7c4ee3f4803"
      },
      "source": [
        "df = pd.DataFrame(\n",
        "    {'AAA' : [4, 5, 6, 7],\n",
        "     'BBB' : [10, 20, 30, 40],\n",
        "     'CCC' : [100, 50, -30, -50]}\n",
        ")\n",
        "\n",
        "# 데이터 프레임을 만들때 인덱스가 자동으로 생성, 컬럼은 아니다.\n",
        "print(df.index.values)\n",
        "\n",
        "df[df.index%2==0]"
      ],
      "execution_count": null,
      "outputs": [
        {
          "output_type": "stream",
          "name": "stdout",
          "text": [
            "[0 1 2 3]\n"
          ]
        },
        {
          "output_type": "execute_result",
          "data": {
            "text/html": [
              "<div>\n",
              "<style scoped>\n",
              "    .dataframe tbody tr th:only-of-type {\n",
              "        vertical-align: middle;\n",
              "    }\n",
              "\n",
              "    .dataframe tbody tr th {\n",
              "        vertical-align: top;\n",
              "    }\n",
              "\n",
              "    .dataframe thead th {\n",
              "        text-align: right;\n",
              "    }\n",
              "</style>\n",
              "<table border=\"1\" class=\"dataframe\">\n",
              "  <thead>\n",
              "    <tr style=\"text-align: right;\">\n",
              "      <th></th>\n",
              "      <th>AAA</th>\n",
              "      <th>BBB</th>\n",
              "      <th>CCC</th>\n",
              "    </tr>\n",
              "  </thead>\n",
              "  <tbody>\n",
              "    <tr>\n",
              "      <th>0</th>\n",
              "      <td>4</td>\n",
              "      <td>10</td>\n",
              "      <td>100</td>\n",
              "    </tr>\n",
              "    <tr>\n",
              "      <th>2</th>\n",
              "      <td>6</td>\n",
              "      <td>30</td>\n",
              "      <td>-30</td>\n",
              "    </tr>\n",
              "  </tbody>\n",
              "</table>\n",
              "</div>"
            ],
            "text/plain": [
              "   AAA  BBB  CCC\n",
              "0    4   10  100\n",
              "2    6   30  -30"
            ]
          },
          "metadata": {},
          "execution_count": 33
        }
      ]
    },
    {
      "cell_type": "markdown",
      "metadata": {
        "id": "uSpDFDvJqJeK"
      },
      "source": [
        "## 컬럼 추가하기\n",
        "많이 쓰게 될 것"
      ]
    },
    {
      "cell_type": "code",
      "metadata": {
        "colab": {
          "base_uri": "https://localhost:8080/"
        },
        "id": "Aolp_ApAqeXe",
        "outputId": "c1afd321-7b5a-4d36-96b4-f264b204ce1b"
      },
      "source": [
        "df = pd.DataFrame(\n",
        "    {'AAA' : [4, 5, 6, 7],\n",
        "     'BBB' : [10, 20, 30, 40],\n",
        "     'CCC' : [100, 50, -30, -50]}\n",
        ")\n",
        "\n",
        "# 새로운 컬럼 만들어서 절대값 저장하기\n",
        "df['abs_CCC'] = df['CCC'].abs()\n",
        "print(df)"
      ],
      "execution_count": null,
      "outputs": [
        {
          "output_type": "stream",
          "name": "stdout",
          "text": [
            "   AAA  BBB  CCC  abs_CCC\n",
            "0    4   10  100      100\n",
            "1    5   20   50       50\n",
            "2    6   30  -30       30\n",
            "3    7   40  -50       50\n"
          ]
        }
      ]
    },
    {
      "cell_type": "code",
      "metadata": {
        "colab": {
          "base_uri": "https://localhost:8080/"
        },
        "id": "2XDFKfkeqxUp",
        "outputId": "6cef266b-888b-4e35-8ade-03184abc3e36"
      },
      "source": [
        "# AAA와 BBB 의 합으로 된 S 컬럼 생성\n",
        "df = pd.DataFrame(\n",
        "    {'AAA' : [4, 5, 6, 7],\n",
        "     'BBB' : [10, 20, 30, 40],\n",
        "     'CCC' : [100, 50, -30, -50]}\n",
        ")\n",
        "\n",
        "#df['S'] = df.AAA + df.BBB\n",
        "#df['S'] = df['AAA'] + df['BBB']\n",
        "# df.S = df['AAA'] + df['BBB']   # ERROR\n",
        "\n",
        "df['S'] = df[['AAA', 'BBB']].sum(axis = 1)\n",
        "\n",
        "print(df)"
      ],
      "execution_count": null,
      "outputs": [
        {
          "output_type": "stream",
          "name": "stdout",
          "text": [
            "   AAA  BBB  CCC   S\n",
            "0    4   10  100  14\n",
            "1    5   20   50  25\n",
            "2    6   30  -30  36\n",
            "3    7   40  -50  47\n"
          ]
        }
      ]
    },
    {
      "cell_type": "code",
      "metadata": {
        "colab": {
          "base_uri": "https://localhost:8080/"
        },
        "id": "IwVT_zfBrSGR",
        "outputId": "472d7926-5409-49d3-8b97-60d647a1c2d0"
      },
      "source": [
        "df = pd.DataFrame(\n",
        "    {'AAA' : [4, 5, 6, 7],\n",
        "     'BBB' : ['남','여','M','여'],\n",
        "     'CCC' : [100, 50, -30, -50]}\n",
        ")\n",
        "\n",
        "def encode(BBB):\n",
        "    if BBB == \"남\" : return 1\n",
        "    if BBB == \"여\" : return 0\n",
        "    return -1\n",
        "\n",
        "print(encode('남'))\n",
        "print(encode('여'))\n",
        "print(encode(''))\n",
        "print(encode('else'))\n",
        "\n",
        "# applymap 사용 - BBB칼럼의 값을 encode 함수에 넣어서 결과값 출력\n",
        "df['BBB_encoded'] = df[['BBB']].applymap(encode)\n",
        "print(df)\n",
        "\n",
        "# 컬럼을 삭제하고 새로운 데이터프레임으로 만들기\n",
        "new_df = df.drop(columns=\"BBB\")\n",
        "print(new_df)\n",
        "print(df)\n",
        "\n",
        "# 원래 있는 데이터프레임에 덮어씌우기\n",
        "df.drop(columns=\"BBB\", inplace=True)\n",
        "print(df)"
      ],
      "execution_count": null,
      "outputs": [
        {
          "output_type": "stream",
          "name": "stdout",
          "text": [
            "1\n",
            "0\n",
            "-1\n",
            "-1\n",
            "   AAA BBB  CCC  BBB_encoded\n",
            "0    4   남  100            1\n",
            "1    5   여   50            0\n",
            "2    6   M  -30           -1\n",
            "3    7   여  -50            0\n",
            "   AAA  CCC  BBB_encoded\n",
            "0    4  100            1\n",
            "1    5   50            0\n",
            "2    6  -30           -1\n",
            "3    7  -50            0\n",
            "   AAA BBB  CCC  BBB_encoded\n",
            "0    4   남  100            1\n",
            "1    5   여   50            0\n",
            "2    6   M  -30           -1\n",
            "3    7   여  -50            0\n",
            "   AAA  CCC  BBB_encoded\n",
            "0    4  100            1\n",
            "1    5   50            0\n",
            "2    6  -30           -1\n",
            "3    7  -50            0\n"
          ]
        }
      ]
    },
    {
      "cell_type": "code",
      "metadata": {
        "colab": {
          "base_uri": "https://localhost:8080/"
        },
        "id": "Ui6clf7gsW4l",
        "outputId": "25d1d6c3-04bd-4b6d-c79a-163bee642512"
      },
      "source": [
        "df = pd.DataFrame(\n",
        "    {'AAA' : [4, 5, 6, 7],\n",
        "     'BBB' : ['남','여','M','여'],\n",
        "     'CCC' : [100, 50, -30, -50]}\n",
        ")\n",
        "\n",
        "df.drop(columns = 'BBB', inplace=True)\n",
        "print(df)\n",
        "\n",
        "df = pd.DataFrame(\n",
        "    {'AAA' : [4, 5, 6, 7],\n",
        "     'BBB' : ['남','여','M','여'],\n",
        "     'CCC' : [100, 50, -30, -50]}\n",
        ")\n",
        "\n",
        "df.drop(columns = ['BBB', 'CCC'], inplace=True)\n",
        "print(df)"
      ],
      "execution_count": null,
      "outputs": [
        {
          "output_type": "stream",
          "name": "stdout",
          "text": [
            "   AAA  CCC\n",
            "0    4  100\n",
            "1    5   50\n",
            "2    6  -30\n",
            "3    7  -50\n",
            "   AAA\n",
            "0    4\n",
            "1    5\n",
            "2    6\n",
            "3    7\n"
          ]
        }
      ]
    },
    {
      "cell_type": "code",
      "metadata": {
        "colab": {
          "base_uri": "https://localhost:8080/"
        },
        "id": "V2K3fa-Pu-Fq",
        "outputId": "9f73a348-1278-4318-bd2c-0b4071301455"
      },
      "source": [
        "df = pd.DataFrame(\n",
        "    {'AAA' : [4, 5, 6, 7],\n",
        "     'BBB' : [10, 20, 30, 40],\n",
        "     'CCC' : [100, 50, -30, -50]}\n",
        ")\n",
        "\n",
        "# index가 1인 행 삭제\n",
        "df.drop(1, inplace=True)\n",
        "print(df)"
      ],
      "execution_count": null,
      "outputs": [
        {
          "output_type": "stream",
          "name": "stdout",
          "text": [
            "   AAA  BBB  CCC\n",
            "0    4   10  100\n",
            "2    6   30  -30\n",
            "3    7   40  -50\n"
          ]
        }
      ]
    },
    {
      "cell_type": "code",
      "metadata": {
        "colab": {
          "base_uri": "https://localhost:8080/"
        },
        "id": "2imnp2CjvtRa",
        "outputId": "e8c266c0-4565-4db2-8f98-9de5668afdf0"
      },
      "source": [
        "df = pd.DataFrame(\n",
        "    {'AAA' : [4, 5, 6, 7],\n",
        "     'BBB' : [10, 20, 30, 40],\n",
        "     'CCC' : [100, 50, -30, -50]}\n",
        ")\n",
        "\n",
        "# index가 1, 2인 행 삭제 - 리스트로 지정\n",
        "df.drop([1, 2], inplace=True)\n",
        "print(df)"
      ],
      "execution_count": null,
      "outputs": [
        {
          "output_type": "stream",
          "name": "stdout",
          "text": [
            "   AAA  BBB  CCC\n",
            "0    4   10  100\n",
            "3    7   40  -50\n"
          ]
        }
      ]
    },
    {
      "cell_type": "code",
      "metadata": {
        "colab": {
          "base_uri": "https://localhost:8080/"
        },
        "id": "6N_qtA7_wDmB",
        "outputId": "6b80c9b0-2406-4ac1-834f-be810fe44915"
      },
      "source": [
        "df = pd.DataFrame(\n",
        "    {'AAA' : [4, 5, 6, 7],\n",
        "     'BBB' : [10, 20, 30, 40],\n",
        "     'CCC' : [100, 50, -30, -50]}\n",
        ")\n",
        "\n",
        "# AAA 컬럼이 짝수인 행 삭제하기\n",
        "df.drop(df[df.AAA%2 == 0].index, inplace=True)\n",
        "print(df)"
      ],
      "execution_count": null,
      "outputs": [
        {
          "output_type": "stream",
          "name": "stdout",
          "text": [
            "   AAA  BBB  CCC\n",
            "1    5   20   50\n",
            "3    7   40  -50\n"
          ]
        }
      ]
    },
    {
      "cell_type": "markdown",
      "metadata": {
        "id": "DAIEeYBYwXFI"
      },
      "source": [
        "```\n",
        "numpy로 0~1 랜덤한 값을 10개 만들고\n",
        "10개의 값을 가지는 r 컬럼의 dataframe을 만들고\n",
        "five_r 이라는 r 컬럼에 5배 곱한 컬럼을 새로 만들고\n",
        "이를 정수화 한 값의 cat 이라는 이름의 컬럼을 만든다.\n",
        "cat 외의 모든 컬럼을 삭제한다.\n",
        "```"
      ]
    },
    {
      "cell_type": "code",
      "metadata": {
        "colab": {
          "base_uri": "https://localhost:8080/"
        },
        "id": "stNOR9s909Lj",
        "outputId": "dce58328-40af-42af-8b9b-4b92e84d76b2"
      },
      "source": [
        "import numpy as np\n",
        "import pandas as pd\n",
        "\n",
        "a = np.random.rand(10)\n",
        "print(a)\n",
        "\n",
        "df = pd.DataFrame({'r':a})\n",
        "print(df)\n",
        "\n",
        "df['five_r'] = df['r']*5\n",
        "print(df)\n",
        "\n",
        "# df['cat'] = df['five_r'].astype(int)\n",
        "# df['cat'] = df.five_r.astype(np.int)\n",
        "df['cat'] = df.loc[:, 'five_r'].astype(int)\n",
        "print(df)\n",
        "\n",
        "df.drop(columns = ['r','five_r'], inplace=True)\n",
        "print(df)"
      ],
      "execution_count": null,
      "outputs": [
        {
          "output_type": "stream",
          "name": "stdout",
          "text": [
            "[0.81253238 0.61540136 0.81434734 0.02477083 0.77179854 0.4505393\n",
            " 0.08295868 0.08555452 0.31665089 0.90422605]\n",
            "          r\n",
            "0  0.812532\n",
            "1  0.615401\n",
            "2  0.814347\n",
            "3  0.024771\n",
            "4  0.771799\n",
            "5  0.450539\n",
            "6  0.082959\n",
            "7  0.085555\n",
            "8  0.316651\n",
            "9  0.904226\n",
            "          r    five_r\n",
            "0  0.812532  4.062662\n",
            "1  0.615401  3.077007\n",
            "2  0.814347  4.071737\n",
            "3  0.024771  0.123854\n",
            "4  0.771799  3.858993\n",
            "5  0.450539  2.252697\n",
            "6  0.082959  0.414793\n",
            "7  0.085555  0.427773\n",
            "8  0.316651  1.583254\n",
            "9  0.904226  4.521130\n",
            "          r    five_r  cat\n",
            "0  0.812532  4.062662    4\n",
            "1  0.615401  3.077007    3\n",
            "2  0.814347  4.071737    4\n",
            "3  0.024771  0.123854    0\n",
            "4  0.771799  3.858993    3\n",
            "5  0.450539  2.252697    2\n",
            "6  0.082959  0.414793    0\n",
            "7  0.085555  0.427773    0\n",
            "8  0.316651  1.583254    1\n",
            "9  0.904226  4.521130    4\n",
            "   cat\n",
            "0    4\n",
            "1    3\n",
            "2    4\n",
            "3    0\n",
            "4    3\n",
            "5    2\n",
            "6    0\n",
            "7    0\n",
            "8    1\n",
            "9    4\n"
          ]
        }
      ]
    }
  ]
}