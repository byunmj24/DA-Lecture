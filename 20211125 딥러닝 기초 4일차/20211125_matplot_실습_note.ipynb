{
  "nbformat": 4,
  "nbformat_minor": 0,
  "metadata": {
    "colab": {
      "name": "20211125_matplot_실습_note.ipynb",
      "private_outputs": true,
      "provenance": [],
      "collapsed_sections": [],
      "toc_visible": true
    },
    "kernelspec": {
      "name": "python3",
      "display_name": "Python 3"
    },
    "language_info": {
      "name": "python"
    }
  },
  "cells": [
    {
      "cell_type": "markdown",
      "metadata": {
        "id": "MwapXhwndZ2A"
      },
      "source": [
        "# 실습"
      ]
    },
    {
      "cell_type": "markdown",
      "metadata": {
        "id": "6QKhI7OVbMMm"
      },
      "source": [
        "```\n",
        "https://github.com/dhrim/deep_learning_data 프로젝트의 eeg.csv를 다운로드\n",
        "\n",
        "- channel 컬럼의 값의 종류가 몇 개인지 출력\n",
        "- 각 channel 별로 데이터가 몇 개 인지 출력\n",
        "- channel 0의 데이터만 추려서 plt.plot()으로 그리기.\n",
        "- 하나의 그림에 각 channel별 plt.plot()을 겹쳐서 그리기.\n",
        "- 각 채널 별로 plt.plot()로 한 장씩 그리기\n",
        "```"
      ]
    },
    {
      "cell_type": "code",
      "metadata": {
        "id": "aaA1_0OcbU2S"
      },
      "source": [
        "!wget https://raw.githubusercontent.com/dhrim/deep_learning_data/master/eeg.csv"
      ],
      "execution_count": null,
      "outputs": []
    },
    {
      "cell_type": "code",
      "metadata": {
        "id": "mrdFB6KpbfRn"
      },
      "source": [
        "!head eeg.csv"
      ],
      "execution_count": null,
      "outputs": []
    },
    {
      "cell_type": "code",
      "metadata": {
        "id": "9gCsHjKTboDy"
      },
      "source": [
        "import pandas as pd\n",
        "import numpy as np\n",
        "import matplotlib.pyplot as plt\n",
        "%matplotlib inline"
      ],
      "execution_count": null,
      "outputs": []
    },
    {
      "cell_type": "code",
      "metadata": {
        "id": "-yCOvnYycQQ6"
      },
      "source": [
        "!sudo apt-get install -y fonts-nanum\n",
        "!sudo fc-cache -fv\n",
        "!rm ~/.cache/matplotlib -rf"
      ],
      "execution_count": null,
      "outputs": []
    },
    {
      "cell_type": "code",
      "metadata": {
        "id": "doyap7pcbiKC"
      },
      "source": [
        "df = pd.read_csv('eeg.csv')"
      ],
      "execution_count": null,
      "outputs": []
    },
    {
      "cell_type": "code",
      "metadata": {
        "id": "YZiQ-5Gqbmzi"
      },
      "source": [
        "df.head()"
      ],
      "execution_count": null,
      "outputs": []
    },
    {
      "cell_type": "code",
      "metadata": {
        "id": "wmz_wctrbtex"
      },
      "source": [
        "df.info()"
      ],
      "execution_count": null,
      "outputs": []
    },
    {
      "cell_type": "code",
      "metadata": {
        "id": "zNiyJjPybvFh"
      },
      "source": [
        "df.describe()"
      ],
      "execution_count": null,
      "outputs": []
    },
    {
      "cell_type": "markdown",
      "metadata": {
        "id": "Os06TnEbb2Wy"
      },
      "source": [
        "### channel 컬럼의 종류가 몇 개인지 출력"
      ]
    },
    {
      "cell_type": "code",
      "metadata": {
        "id": "oBewgefdb-X5"
      },
      "source": [
        "print(df['channel'].unique())"
      ],
      "execution_count": null,
      "outputs": []
    },
    {
      "cell_type": "markdown",
      "metadata": {
        "id": "Ilv3U0R3dWuR"
      },
      "source": [
        "### 각 channel 별로 데이터가 몇 개 인지 출력"
      ]
    },
    {
      "cell_type": "code",
      "metadata": {
        "id": "I-rwCQCJcby5"
      },
      "source": [
        "df.channel.value_counts()"
      ],
      "execution_count": null,
      "outputs": []
    },
    {
      "cell_type": "markdown",
      "metadata": {
        "id": "k55DvXQ_d-KJ"
      },
      "source": [
        "# channel 0의 sample 컬럼만 추려서 plt.plot()으로 그리기."
      ]
    },
    {
      "cell_type": "code",
      "metadata": {
        "id": "xX2BZ3psertz"
      },
      "source": [
        "x = df.loc[df['channel'] == 0, 'time']\n",
        "y = df.loc[df['channel'] == 0, 'sensor value']\n",
        "\n",
        "plt.plot(y)\n",
        "plt.show()"
      ],
      "execution_count": null,
      "outputs": []
    },
    {
      "cell_type": "markdown",
      "metadata": {
        "id": "70X6MvQud2G5"
      },
      "source": [
        "### 하나의 그림에 각 channel별 plt.plot()을 겹쳐서 그리기."
      ]
    },
    {
      "cell_type": "code",
      "metadata": {
        "id": "SfE3MDdFfiMB"
      },
      "source": [
        "channels = list((df['channel'].unique()))\n",
        "\n",
        "for channel in channels:\n",
        "    y = df.loc[df['channel'] == channel, 'sensor value']\n",
        "    plt.plot(y)\n",
        "\n",
        "plt.show()"
      ],
      "execution_count": null,
      "outputs": []
    },
    {
      "cell_type": "markdown",
      "metadata": {
        "id": "jtB_ehJAfyBh"
      },
      "source": [
        "### 각 채널 별로 plt.plot()로 한 장씩 그리기"
      ]
    },
    {
      "cell_type": "code",
      "metadata": {
        "id": "0l-lgPWlg4qn"
      },
      "source": [
        "x = df.loc[df['channel'], 'time']\n",
        "channels = list((df['channel'].unique()))\n",
        "\n",
        "for channel in channels:\n",
        "    y = df.loc[df['channel'] == channel, 'sensor value']\n",
        "    plt.plot(y)\n",
        "    print(\"channel num :\", channel)\n",
        "    plt.show()"
      ],
      "execution_count": null,
      "outputs": []
    },
    {
      "cell_type": "markdown",
      "metadata": {
        "id": "UfNzJv7Zg5xQ"
      },
      "source": [
        "# 실습 풀이"
      ]
    },
    {
      "cell_type": "code",
      "metadata": {
        "id": "w3AgM3S9hxan"
      },
      "source": [
        "df.head()"
      ],
      "execution_count": null,
      "outputs": []
    },
    {
      "cell_type": "code",
      "metadata": {
        "id": "smLUuNkmiCD4"
      },
      "source": [
        "# channel 컬럼의 종류가 몇 개인지 출력\n",
        "channel_values = df.channel.unique()\n",
        "print(channel_values)\n",
        "print('channel value count =', len(channel_values))"
      ],
      "execution_count": null,
      "outputs": []
    },
    {
      "cell_type": "code",
      "metadata": {
        "id": "84nQ1Y-Infmd"
      },
      "source": [
        "# 각 channel 별로 데이터가 몇 개 인지 출력\n",
        "sensor_value = df.loc[df.channel == 0]['sensor value']\n",
        "\n",
        "for channel_value in channel_values:\n",
        "    sensor_value = df.loc[df.channel == channel_value]['sensor value']\n",
        "    print(f\"sensor value of channel {channel_value} length = \", len(sensor_value))"
      ],
      "execution_count": null,
      "outputs": []
    },
    {
      "cell_type": "code",
      "metadata": {
        "id": "o2QWMKwEiFI9"
      },
      "source": [
        "# channel 0의 'sensor value' 컬럼 만 추려서 plt.plot()으로 그리기.\n",
        "sensor_value = df.loc[df.channel == 0]['sensor value']\n",
        "print(sensor_value)\n",
        "print(\"length =\", len(sensor_value))"
      ],
      "execution_count": null,
      "outputs": []
    },
    {
      "cell_type": "code",
      "metadata": {
        "id": "o6YuF09piZaJ"
      },
      "source": [
        "plt.plot(sensor_value)\n",
        "plt.show()"
      ],
      "execution_count": null,
      "outputs": []
    },
    {
      "cell_type": "code",
      "metadata": {
        "id": "nPXTYrlki60R"
      },
      "source": [
        "# 하나의 그림에 각 channel별 'sensor value' 컬럼을 plt.plot()을 겹쳐서 그리기.\n",
        "for channel_value in channel_values:\n",
        "    sensor_value = df.loc[df.channel == channel_value]['sensor value']\n",
        "    plt.plot(sensor_value)\n",
        "    \n",
        "plt.show()"
      ],
      "execution_count": null,
      "outputs": []
    },
    {
      "cell_type": "code",
      "metadata": {
        "id": "mUb_xBu8jrIa"
      },
      "source": [
        "# 각 채널 별로 'sensor value' 컬럼을 plt.plot()로 한 장씩 그리기\n",
        "for channel_value in channel_values:\n",
        "    print(f\"channel {channel_value}\")\n",
        "    sensor_value = df.loc[df.channel == channel_value]['sensor value']\n",
        "    plt.plot(sensor_value)\n",
        "    plt.show()"
      ],
      "execution_count": null,
      "outputs": []
    },
    {
      "cell_type": "code",
      "metadata": {
        "id": "MhctEUXCodFK"
      },
      "source": [
        ""
      ],
      "execution_count": null,
      "outputs": []
    },
    {
      "cell_type": "markdown",
      "metadata": {
        "id": "sqIpu8jDoXOU"
      },
      "source": [
        "# scatter()\n",
        "- 산점도"
      ]
    },
    {
      "cell_type": "code",
      "metadata": {
        "id": "5d_PEBkRof_y"
      },
      "source": [
        "x = np.linspace(0, 10, 20)\n",
        "y = np.sin(x)\n",
        "plt.plot(x, y)\n",
        "plt.show()\n",
        "\n",
        "plt.plot(y)\n",
        "plt.show()"
      ],
      "execution_count": null,
      "outputs": []
    },
    {
      "cell_type": "code",
      "metadata": {
        "id": "fj1OHLcsom9J"
      },
      "source": [
        "# scatter()\n",
        "x = np.linspace(0, 10, 20)\n",
        "y = np.sin(x)\n",
        "plt.scatter(x, y)\n",
        "plt.show()\n",
        "\n",
        "# scatter는 x값이 없으면 안됨\n",
        "plt.scatter(y)\n",
        "plt.show()"
      ],
      "execution_count": null,
      "outputs": []
    },
    {
      "cell_type": "code",
      "metadata": {
        "id": "SC_lCnI5pLvA"
      },
      "source": [
        "x = np.random.rand(30)\n",
        "y = np.random.rand(30)\n",
        "size = np.random.rand(30) * 1000\n",
        "color = np.random.rand(30)      # color 는 0~1까지 숫자별로 256가지 저장되어있음\n",
        "\n",
        "plt.scatter(x, y, \n",
        "            s = size,           # 점 크기\n",
        "            alpha = 0.3,        # 투명도\n",
        "            cmap = 'viridis',   # colormap 선택\n",
        "            c = color           # colormap 색 선택(0 ~ 1 실수)\n",
        "            )\n",
        "\n",
        "plt.colorbar()                  # colorbar 출력\n",
        "plt.show()"
      ],
      "execution_count": null,
      "outputs": []
    },
    {
      "cell_type": "code",
      "metadata": {
        "id": "OZNx4pP0p-P4"
      },
      "source": [
        "x = np.random.rand(30)\n",
        "y = np.random.rand(30)\n",
        "size = np.random.rand(30) * 1000\n",
        "color = np.random.rand(30)\n",
        "\n",
        "for colormap in ['viridis', 'Blues', 'inferno']:\n",
        "    print(colormap)\n",
        "    plt.scatter(x, y,\n",
        "                s = size,\n",
        "                alpha = 0.3,\n",
        "                cmap = colormap, \n",
        "                c = color\n",
        "                )\n",
        "    \n",
        "    plt.colorbar()\n",
        "    plt.show()"
      ],
      "execution_count": null,
      "outputs": []
    },
    {
      "cell_type": "markdown",
      "metadata": {
        "id": "o447aiP-s48O"
      },
      "source": [
        "# 일반 설정들"
      ]
    },
    {
      "cell_type": "code",
      "metadata": {
        "id": "QlL6UEuctazm"
      },
      "source": [
        "plt.style.use('seaborn-whitegrid')"
      ],
      "execution_count": null,
      "outputs": []
    },
    {
      "cell_type": "code",
      "metadata": {
        "id": "u99muviqteyA"
      },
      "source": [
        "x = np.linspace(0, 10, 100)"
      ],
      "execution_count": null,
      "outputs": []
    },
    {
      "cell_type": "markdown",
      "metadata": {
        "id": "cSTKktvNveci"
      },
      "source": [
        "### 이름 붙이기"
      ]
    },
    {
      "cell_type": "code",
      "metadata": {
        "id": "GkNK5zrxtpFx"
      },
      "source": [
        "fig = plt.figure()\n",
        "fig.suptitle('Sine and Cosine')\n",
        "\n",
        "plt.plot(x, np.sin(x))\n",
        "plt.plot(x, np.cos(x))\n",
        "\n",
        "plt.show()"
      ],
      "execution_count": null,
      "outputs": []
    },
    {
      "cell_type": "markdown",
      "metadata": {
        "id": "_7xUvotfvhxR"
      },
      "source": [
        "### 한글 깨짐 확인"
      ]
    },
    {
      "cell_type": "code",
      "metadata": {
        "id": "DF-vVuXAtzep"
      },
      "source": [
        "fig = plt.figure()\n",
        "fig.suptitle('사인 코싸인')  # 폰트 없어서 한글 깨짐\n",
        "\n",
        "plt.plot(x, np.sin(x))\n",
        "plt.plot(x, np.cos(x))\n",
        "\n",
        "plt.show()"
      ],
      "execution_count": null,
      "outputs": []
    },
    {
      "cell_type": "markdown",
      "metadata": {
        "id": "bmoIxXOAuRwe"
      },
      "source": [
        "## 한글 깨짐 방지"
      ]
    },
    {
      "cell_type": "code",
      "metadata": {
        "id": "GwzgMi67udzC"
      },
      "source": [
        "!sudo apt-get install -y fonts-nanum\n",
        "!sudo fc-cache -fv\n",
        "!rm ~/.cache/matplotlib -rf\n",
        "\n",
        "# matplotlib 에서 폰트 시용 설정\n",
        "plt.rc('font', family='NanumBarunGothic')"
      ],
      "execution_count": null,
      "outputs": []
    },
    {
      "cell_type": "code",
      "metadata": {
        "id": "sa3hRaYYh2e9"
      },
      "source": [
        "fig = plt.figure()\n",
        "fig.suptitle('사인 코싸인')  # 폰트 없어서 한글 깨짐\n",
        "\n",
        "plt.plot(x, np.sin(x))\n",
        "plt.plot(x, np.cos(x))\n",
        "\n",
        "plt.show()"
      ],
      "execution_count": null,
      "outputs": []
    },
    {
      "cell_type": "code",
      "metadata": {
        "id": "w2lCO_Ftu4vq"
      },
      "source": [
        "fig = plt.figure()\n",
        "fig.suptitle('Sine and Cosine')\n",
        "plt.plot(x, np.sin(x))\n",
        "plt.plot(x, np.cos(x))\n",
        "# 축 이름 넣기\n",
        "plt.xlabel('x label')\n",
        "plt.ylabel('y label')\n",
        "\n",
        "plt.show()"
      ],
      "execution_count": null,
      "outputs": []
    },
    {
      "cell_type": "code",
      "metadata": {
        "id": "HNOw69MLvu-A"
      },
      "source": [
        "fig = plt.figure()\n",
        "fig.suptitle('Sine and Cosine')\n",
        "plt.plot(x, np.sin(x), label = 'sin')\n",
        "plt.plot(x, np.cos(x), label = 'cos')\n",
        "# 축 이름 넣기\n",
        "plt.xlabel('x label')\n",
        "plt.ylabel('y label')\n",
        "# 범례 넣기\n",
        "plt.legend()\n",
        "\n",
        "plt.show()"
      ],
      "execution_count": null,
      "outputs": []
    },
    {
      "cell_type": "code",
      "metadata": {
        "id": "YiumGbnvv2sA"
      },
      "source": [
        "fig = plt.figure()\n",
        "fig.suptitle('Sine and Cosine')\n",
        "plt.plot(x, np.sin(x), label = 'sin')\n",
        "plt.plot(x, np.cos(x), label = 'cos')\n",
        "# 축 이름 넣기\n",
        "plt.xlabel('x label')\n",
        "plt.ylabel('y label')\n",
        "# 범례 넣기\n",
        "plt.legend(frameon=True) # 범례 프레임 추가\n",
        "\n",
        "plt.show()"
      ],
      "execution_count": null,
      "outputs": []
    },
    {
      "cell_type": "code",
      "metadata": {
        "id": "3c8I5Z3qwC-Q"
      },
      "source": [
        "fig = plt.figure()\n",
        "fig.suptitle('Sine and Cosine')\n",
        "plt.plot(x, np.sin(x), label = 'sin')\n",
        "plt.plot(x, np.cos(x), label = 'cos')\n",
        "# 축 이름 넣기\n",
        "plt.xlabel('x label')\n",
        "plt.ylabel('y label')\n",
        "# 범례 넣기\n",
        "plt.legend(frameon = True,   # 범례 프레임 추가\n",
        "           loc = 'upper left') \n",
        "\n",
        "plt.show()"
      ],
      "execution_count": null,
      "outputs": []
    },
    {
      "cell_type": "code",
      "metadata": {
        "id": "VAotRUFiwPCw"
      },
      "source": [
        "# loc 리스트\n",
        "loc_list = ['best', 'upper right', 'upper left', 'lower left',\n",
        "            'lower right', 'right', 'center left', 'center right',\n",
        "            'lower center', 'upper center', 'center']\n",
        "for loc in loc_list:\n",
        "    fig = plt.figure()\n",
        "    fig.suptitle(loc)\n",
        "    plt.plot(x, np.sin(x), label = 'sin')\n",
        "    plt.plot(x, np.cos(x), label = 'cos')\n",
        "    plt.xlabel('x label')\n",
        "    plt.ylabel('y label')\n",
        "    plt.legend(frameon = True, loc = loc) \n",
        "\n",
        "    plt.show()"
      ],
      "execution_count": null,
      "outputs": []
    },
    {
      "cell_type": "code",
      "metadata": {
        "id": "VKvaPDEswt7l"
      },
      "source": [
        "# figure 크기 설정(단위 : 인치)\n",
        "plt.figure(figsize = (10, 3))\n",
        "\n",
        "plt.plot(x, np.sin(x))\n",
        "plt.plot(x, np.cos(x))\n",
        "\n",
        "plt.show()\n",
        "\n",
        "print()\n",
        "\n",
        "# suptitle 유무 비교\n",
        "plt.figure(figsize = (10, 3))\n",
        "plt.suptitle(\"title\")\n",
        "plt.plot(x, np.sin(x))\n",
        "plt.plot(x, np.cos(x))\n",
        "\n",
        "plt.show()"
      ],
      "execution_count": null,
      "outputs": []
    },
    {
      "cell_type": "code",
      "metadata": {
        "id": "eZUnac8gxtd4"
      },
      "source": [
        "# 축 범위 조정\n",
        "plt.plot(x, np.sin(x))\n",
        "plt.plot(x, np.cos(x))\n",
        "plt.xticks([0, 5, 10])\n",
        "plt.yticks([-1, 0, 1])\n",
        "\n",
        "plt.show()"
      ],
      "execution_count": null,
      "outputs": []
    },
    {
      "cell_type": "code",
      "metadata": {
        "id": "enhyy6-zyVFw"
      },
      "source": [
        "# 축 범위 조정\n",
        "plt.plot(x, np.sin(x))\n",
        "plt.plot(x, np.cos(x))\n",
        "# end 값이 포함이 안되기때문에 살짝 큰 값을 부여한다.\n",
        "plt.xticks(np.arange(0, 10.1, 1))\n",
        "plt.yticks(np.arange(-1, 1.1, 0.5))\n",
        "\n",
        "plt.show()"
      ],
      "execution_count": null,
      "outputs": []
    },
    {
      "cell_type": "code",
      "metadata": {
        "id": "dnTQF7KUy2VI"
      },
      "source": [
        "plt.plot(x, np.sin(x))\n",
        "plt.plot(x, np.cos(x))\n",
        "# grid 제거\n",
        "plt.grid(False)\n",
        "\n",
        "plt.show()"
      ],
      "execution_count": null,
      "outputs": []
    },
    {
      "cell_type": "code",
      "metadata": {
        "id": "a8BBye1eza0J"
      },
      "source": [
        "plt.plot(x, np.sin(x))\n",
        "plt.plot(x, np.cos(x))\n",
        "# grid 그리기\n",
        "plt.grid(True)\n",
        "\n",
        "plt.show()"
      ],
      "execution_count": null,
      "outputs": []
    },
    {
      "cell_type": "code",
      "metadata": {
        "id": "mZ9-qReuzjKT"
      },
      "source": [
        "# 그림 테두리 그리기\n",
        "plt.figure(frameon=True, edgecolor='blue', linewidth = 4)\n",
        "plt.plot(x, np.sin(x))\n",
        "plt.plot(x, np.cos(x))\n",
        "# 그림 위 문자 출력\n",
        "plt.text(0.5, 0.5, 'my text', fontsize = 30, \n",
        "         ha = 'left', va = 'center' # (0.5, 0.5) 를 기준으로 문자 상하좌우 위치 맞춤\n",
        "         )\n",
        "\n",
        "plt.show()"
      ],
      "execution_count": null,
      "outputs": []
    },
    {
      "cell_type": "code",
      "metadata": {
        "id": "HvOaLkALzn6I"
      },
      "source": [
        "data = np.random.randn(1000)\n",
        "\n",
        "# 히스토그램 생성\n",
        "plt.hist(data, \n",
        "         bins = 100  # 범주 갯수 선택\n",
        "         )\n",
        "\n",
        "plt.show()"
      ],
      "execution_count": null,
      "outputs": []
    },
    {
      "cell_type": "code",
      "metadata": {
        "id": "Rot8AWmL3jvr"
      },
      "source": [
        "# data1 = np.random.randn(1000)\n",
        "data1 = np.random.normal(0, 1, 1000)\n",
        "data2 = np.random.normal(-1, 1, 1000)\n",
        "\n",
        "# 투명도 조절\n",
        "plt.hist(data1, bins = 100, alpha = 0.7)\n",
        "plt.hist(data2, bins = 100, alpha = 0.7)\n",
        "\n",
        "plt.show()"
      ],
      "execution_count": null,
      "outputs": []
    },
    {
      "cell_type": "code",
      "metadata": {
        "id": "XiPfnOrN4XyH"
      },
      "source": [
        "x = np.random.normal(0, 1, 1000)\n",
        "y = np.random.normal(-1, 1, 1000)\n",
        "\n",
        "# 2차원 히스토그램\n",
        "plt.hist2d(x, y, bins = 40,\n",
        "           cmap = 'Blues',\n",
        "           )\n",
        "\n",
        "plt.colorbar()\n",
        "plt.show()"
      ],
      "execution_count": null,
      "outputs": []
    },
    {
      "cell_type": "code",
      "metadata": {
        "id": "8RgH3jI75D7F"
      },
      "source": [
        "# 막대그래프 그리기\n",
        "x = np.arange(3)\n",
        "values = [100, 300, 250]\n",
        "ticks = ['2019', '2020', '2021']\n",
        "\n",
        "plt.bar(x, values)\n",
        "# 항목 이름\n",
        "plt.xticks(x, ticks)\n",
        "\n",
        "plt.show()"
      ],
      "execution_count": null,
      "outputs": []
    },
    {
      "cell_type": "code",
      "metadata": {
        "id": "3dGYUDFx5wWH"
      },
      "source": [
        "!wget https://icatcare.org/app/uploads/2018/07/Thinking-of-getting-a-cat.png"
      ],
      "execution_count": null,
      "outputs": []
    },
    {
      "cell_type": "code",
      "metadata": {
        "id": "sOrQ2j9z6hGC"
      },
      "source": [
        "# cv2 모듈, 이미지 로딩\n",
        "import cv2\n",
        "import numpy as np\n",
        "\n",
        "# 이미지 리드\n",
        "img = cv2.imread('Thinking-of-getting-a-cat.png')\n",
        "# img_cvt = cv2.cvtColor(img, cv2.COLOR_BGR2RGB)\n",
        "plt.imshow(img)\n",
        "plt.show()"
      ],
      "execution_count": null,
      "outputs": []
    },
    {
      "cell_type": "code",
      "metadata": {
        "id": "H4YyZ1rY7Vwn"
      },
      "source": [
        "a = np.zeros((10,20))\n",
        "\n",
        "# a에 값 넣기\n",
        "a[:, 10] = 30\n",
        "a[5:7, :] = 100\n",
        "print(a)\n",
        "plt.imshow(a)\n",
        "plt.show()"
      ],
      "execution_count": null,
      "outputs": []
    },
    {
      "cell_type": "markdown",
      "metadata": {
        "id": "viNspcs87pDH"
      },
      "source": [
        "```\n",
        "특정 위치 픽셀의 밝기를 array 로 저장한 것이 영상 데이터이다.\n",
        "영상 데이터는 숫자 어레이..\n",
        "10번쨰 줄의 밝기가 30\n",
        "5,6번째줄 가로는 처음부터 끝까지 밝기가 100\n",
        "```"
      ]
    },
    {
      "cell_type": "markdown",
      "metadata": {
        "id": "xEi9eUrh8MJt"
      },
      "source": [
        "# 여러개를 그리기"
      ]
    },
    {
      "cell_type": "code",
      "metadata": {
        "id": "vefZjvtuQq-i"
      },
      "source": [
        "x = np.linspace(0, 10, 100)"
      ],
      "execution_count": null,
      "outputs": []
    },
    {
      "cell_type": "code",
      "metadata": {
        "id": "WOaOSyFMQfpM"
      },
      "source": [
        "fig = plt.figure()\n",
        "\n",
        "# subplot 설명 - 위아래 1줄, 좌우로 2개, 첫번째 칸\n",
        "ax1 = fig.add_subplot(1, 2, 1)\n",
        "ax1.plot(np.sin(x))\n",
        "\n",
        "# subplot 설명 - 위아래 1줄, 좌우로 2개, 두번째 칸\n",
        "ax2 = fig.add_subplot(1, 2, 2)\n",
        "ax2.plot(np.cos(x))\n",
        "\n",
        "plt.show()"
      ],
      "execution_count": null,
      "outputs": []
    },
    {
      "cell_type": "code",
      "metadata": {
        "id": "6oQkWFXBQuPx"
      },
      "source": [
        "fig = plt.figure()\n",
        "\n",
        "# subplot 설명 - 위아래 2줄, 좌우로 1개, 첫번째 칸\n",
        "ax1 = fig.add_subplot(2, 1, 1)\n",
        "ax1.plot(np.sin(x))\n",
        "\n",
        "# subplot 설명 - 위아래 2줄, 좌우로 1개, 두번째 칸\n",
        "ax2 = fig.add_subplot(2, 1, 2)\n",
        "ax2.plot(np.cos(x))\n",
        "\n",
        "plt.show()"
      ],
      "execution_count": null,
      "outputs": []
    },
    {
      "cell_type": "code",
      "metadata": {
        "id": "HUz-1DgNRaXa"
      },
      "source": [
        "fig = plt.figure()\n",
        "\n",
        "# subplot 설명 - 위아래 2줄, 좌우로 1개, 첫번째 칸\n",
        "ax1 = fig.add_subplot(211)\n",
        "ax1.plot(np.sin(x))\n",
        "\n",
        "# subplot 설명 - 위아래 2줄, 좌우로 1개, 두번째 칸\n",
        "ax2 = fig.add_subplot(212)\n",
        "ax2.plot(np.cos(x))\n",
        "\n",
        "plt.show()"
      ],
      "execution_count": null,
      "outputs": []
    },
    {
      "cell_type": "code",
      "metadata": {
        "id": "s7kw7iMrRnky"
      },
      "source": [
        "fig = plt.figure()\n",
        "\n",
        "ax1 = fig.add_subplot(221)\n",
        "ax1.plot(np.sin(x))\n",
        "\n",
        "ax2 = fig.add_subplot(222)\n",
        "ax2.plot(np.cos(x))\n",
        "\n",
        "ax3 = fig.add_subplot(223)\n",
        "ax3.plot(np.cos(x))\n",
        "\n",
        "ax4 = fig.add_subplot(224)\n",
        "ax4.plot(np.sin(x))\n",
        "\n",
        "plt.show()"
      ],
      "execution_count": null,
      "outputs": []
    },
    {
      "cell_type": "code",
      "metadata": {
        "id": "0pnmc4XGR9dB"
      },
      "source": [
        "fig = plt.figure()\n",
        "row = 2\n",
        "column = 2\n",
        "\n",
        "for i in range(1, 5):\n",
        "    ax = fig.add_subplot(row, column, i)\n",
        "    if i in [1, 4]:\n",
        "        ax.plot(np.sin(x))\n",
        "    else:\n",
        "        ax.plot(np.cos(x))\n",
        "        ax.grid(False)\n",
        "\n",
        "plt.show()"
      ],
      "execution_count": null,
      "outputs": []
    },
    {
      "cell_type": "code",
      "metadata": {
        "id": "a2Y25KlYSlWj"
      },
      "source": [
        "fig = plt.figure()\n",
        "row = 2\n",
        "column = 2\n",
        "\n",
        "for i in range(1, 5):\n",
        "    ax = fig.add_subplot(row, column, i)\n",
        "    fig.suptitle('Sine and Cosine')\n",
        "    if i in [1, 4]:\n",
        "        ax.set_title('Sine')\n",
        "        ax.plot(np.sin(x))\n",
        "    else:\n",
        "        ax.set_title('Cosine')\n",
        "        ax.plot(np.cos(x))\n",
        "        ax.grid(False)\n",
        "\n",
        "plt.show()"
      ],
      "execution_count": null,
      "outputs": []
    },
    {
      "cell_type": "code",
      "metadata": {
        "id": "ttgFTIg0TaHX"
      },
      "source": [
        "fig = plt.figure()\n",
        "fig.suptitle('Sine and Cosine') # 그래프 이름\n",
        "\n",
        "ax1 = fig.add_subplot(221)\n",
        "ax1.plot(np.sin(x))\n",
        "ax1.set_title('Sine')   # ax 항목 이름\n",
        "\n",
        "ax2 = fig.add_subplot(222)\n",
        "ax2.plot(np.cos(x))\n",
        "ax2.grid(False)         # 그리드 설정/해제\n",
        "ax2.set_title('Coine')\n",
        "\n",
        "ax3 = fig.add_subplot(223)\n",
        "ax3.plot(np.cos(x))\n",
        "ax3.grid(False)\n",
        "ax3.set_title('Coine')\n",
        "\n",
        "ax4 = fig.add_subplot(224)\n",
        "ax4.plot(np.sin(x))\n",
        "ax4.set_title('Sine')\n",
        "\n",
        "plt.tight_layout()  # 문자 겹침 수정\n",
        "plt.show()"
      ],
      "execution_count": null,
      "outputs": []
    },
    {
      "cell_type": "code",
      "metadata": {
        "id": "JmJOMb1KT68a"
      },
      "source": [
        "fig = plt.figure()\n",
        "fig.suptitle('Sine and Cosine') # 그래프 이름\n",
        "\n",
        "ax1 = fig.add_subplot(221)\n",
        "ax1.plot(np.sin(x))\n",
        "ax1.set_title('Sine')   # ax 항목 이름\n",
        "\n",
        "ax2 = fig.add_subplot(222)\n",
        "ax2.plot(np.cos(x))\n",
        "ax2.grid(False)         # 그리드 설정/해제\n",
        "ax2.set_title('Coine')\n",
        "\n",
        "ax3 = fig.add_subplot(223)\n",
        "img = cv2.imread('Thinking-of-getting-a-cat.png')\n",
        "ax3.imshow(img)\n",
        "ax3.set_title('Cat')\n",
        "ax3.grid(False)\n",
        "\n",
        "ax4 = fig.add_subplot(224)\n",
        "a = np.zeros((10,20))\n",
        "a[:, 10] = 30\n",
        "a[5:7, :] = 100\n",
        "ax4.imshow(a)\n",
        "ax4.set_title('Numpy Array')\n",
        "\n",
        "plt.tight_layout()  # 문자 겹침 수정\n",
        "plt.show()"
      ],
      "execution_count": null,
      "outputs": []
    },
    {
      "cell_type": "markdown",
      "metadata": {
        "id": "MTLbWKbZX9VK"
      },
      "source": [
        "### 칸 합쳐서 해서 표현하기"
      ]
    },
    {
      "cell_type": "code",
      "metadata": {
        "id": "1mOnS3baVWRW"
      },
      "source": [
        "fig = plt.figure()\n",
        "# fig.suptitle('Sine and Cosine') # 그래프 이름\n",
        "\n",
        "ax1 = fig.add_subplot(211)     # 두칸에 하나의 그래프 표시하기\n",
        "ax1.plot(np.sin(x))\n",
        "ax1.set_title('Sine, Cosine')   # ax 항목 이름\n",
        "\n",
        "ax2 = fig.add_subplot(211)\n",
        "ax2.plot(np.cos(x))\n",
        "# ax2.grid(False)         # 그리드 설정/해제\n",
        "# ax2.set_title('Coine')\n",
        "\n",
        "ax3 = fig.add_subplot(223)\n",
        "img = cv2.imread('Thinking-of-getting-a-cat.png')\n",
        "ax3.imshow(img)\n",
        "ax3.set_title('Cat')\n",
        "ax3.grid(False)\n",
        "ax3.axis('off')     # tick 없애기\n",
        "\n",
        "ax4 = fig.add_subplot(224)\n",
        "a = np.zeros((10,20))\n",
        "a[:, 10] = 30\n",
        "a[5:7, :] = 100\n",
        "ax4.imshow(a)\n",
        "ax4.set_title('Numpy')\n",
        "ax4.axis('off')     # tick 없애기\n",
        "\n",
        "plt.tight_layout()  # 문자 겹침 수정\n",
        "plt.show()"
      ],
      "execution_count": null,
      "outputs": []
    },
    {
      "cell_type": "code",
      "metadata": {
        "id": "kKR4CNuQWbym"
      },
      "source": [
        "fig = plt.figure(figsize=(10,10))\n",
        "plt.grid(True)\n",
        "img = cv2.imread('Thinking-of-getting-a-cat.png')\n",
        "fig.suptitle('CAT', size=20)\n",
        "\n",
        "ax1 = fig.add_subplot(242)\n",
        "ax1.imshow(img)\n",
        "ax1.axis('off')\n",
        "\n",
        "ax2 = fig.add_subplot(222)\n",
        "ax2.imshow(img)\n",
        "ax2.axis('off')\n",
        "\n",
        "ax3 = fig.add_subplot(413)\n",
        "ax3.imshow(img)\n",
        "ax3.axis('off')\n",
        "\n",
        "ax4 = fig.add_subplot(4, 4, 15)\n",
        "ax4.imshow(img)\n",
        "ax4.axis('off')\n",
        "\n",
        "plt.show()"
      ],
      "execution_count": null,
      "outputs": []
    },
    {
      "cell_type": "code",
      "metadata": {
        "id": "YnVoPWEnY2bS"
      },
      "source": [
        "fig = plt.figure(figsize=(10,10))\n",
        "\n",
        "fig.suptitle('Sine', size=20)\n",
        "\n",
        "ax1 = fig.add_subplot(242)\n",
        "ax1.plot(np.sin(x))\n",
        "ax1.axis('off')\n",
        "\n",
        "ax2 = fig.add_subplot(222)\n",
        "ax2.plot(np.sin(x))\n",
        "ax2.axis('off')\n",
        "\n",
        "ax3 = fig.add_subplot(413)\n",
        "ax3.plot(np.sin(x))\n",
        "ax3.axis('off')\n",
        "\n",
        "ax4 = fig.add_subplot(4, 4, 15)\n",
        "ax4.plot(np.sin(x))\n",
        "ax4.axis('off')\n",
        "\n",
        "plt.show()"
      ],
      "execution_count": null,
      "outputs": []
    },
    {
      "cell_type": "code",
      "metadata": {
        "id": "6OrsHd5Sah-J"
      },
      "source": [
        "box = np.zeros((30, 30))\n",
        "box[0, :] = 255\n",
        "box[-1, :] = 255\n",
        "box[:, 0] = 255\n",
        "box[:, -1] = 255\n",
        "plt.imshow(box)\n",
        "plt.show()"
      ],
      "execution_count": null,
      "outputs": []
    },
    {
      "cell_type": "code",
      "metadata": {
        "id": "fxmw0mvOe8fV"
      },
      "source": [
        ""
      ],
      "execution_count": null,
      "outputs": []
    }
  ]
}