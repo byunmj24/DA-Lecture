{
  "nbformat": 4,
  "nbformat_minor": 0,
  "metadata": {
    "colab": {
      "name": "20211125_seaborn_실습_note.ipynb",
      "private_outputs": true,
      "provenance": [],
      "collapsed_sections": []
    },
    "kernelspec": {
      "name": "python3",
      "display_name": "Python 3"
    },
    "language_info": {
      "name": "python"
    }
  },
  "cells": [
    {
      "cell_type": "code",
      "metadata": {
        "id": "49D0mIxvicyZ"
      },
      "source": [
        "!pip install seaborn"
      ],
      "execution_count": null,
      "outputs": []
    },
    {
      "cell_type": "code",
      "metadata": {
        "id": "ISAdyH1TiiiX"
      },
      "source": [
        "import seaborn as sns"
      ],
      "execution_count": null,
      "outputs": []
    },
    {
      "cell_type": "markdown",
      "metadata": {
        "id": "lsX_7ncsjn8A"
      },
      "source": [
        "# 한글 깨짐 설정"
      ]
    },
    {
      "cell_type": "code",
      "metadata": {
        "id": "BGpObocWjKRR"
      },
      "source": [
        "!sudo apt-get install -y fonts-nanum\n",
        "!sudo fc-cache -fv\n",
        "!rm ~/.cache/matplotlib -rf"
      ],
      "execution_count": null,
      "outputs": []
    },
    {
      "cell_type": "code",
      "metadata": {
        "id": "6aw2O-7TinCw"
      },
      "source": [
        "import matplotlib.pyplot as plt\n",
        "plt.rc('font', family='NanumBarunGothic')"
      ],
      "execution_count": null,
      "outputs": []
    },
    {
      "cell_type": "code",
      "metadata": {
        "id": "XSOyOCfFjGvp"
      },
      "source": [
        "import numpy as np\n",
        "import pandas as pd"
      ],
      "execution_count": null,
      "outputs": []
    },
    {
      "cell_type": "markdown",
      "metadata": {
        "id": "zBPMAITCjkIh"
      },
      "source": [
        "# 테마 설정"
      ]
    },
    {
      "cell_type": "code",
      "metadata": {
        "id": "Czf-ltlHjW-5"
      },
      "source": [
        "sns.set(context='notebook', \n",
        "        style='darkgrid', \n",
        "        palette='deep', \n",
        "        # font='sans-serif', \n",
        "        font_scale=1, \n",
        "        color_codes=True)"
      ],
      "execution_count": null,
      "outputs": []
    },
    {
      "cell_type": "markdown",
      "metadata": {
        "id": "2X4xmHvPkga4"
      },
      "source": [
        "# 샘플 데이터셋 로드"
      ]
    },
    {
      "cell_type": "code",
      "metadata": {
        "id": "9sjWOZULjl94"
      },
      "source": [
        "penguins = sns.load_dataset('penguins')"
      ],
      "execution_count": null,
      "outputs": []
    },
    {
      "cell_type": "code",
      "metadata": {
        "id": "KS-6TTNNjvgA"
      },
      "source": [
        "print(penguins.head())"
      ],
      "execution_count": null,
      "outputs": []
    },
    {
      "cell_type": "code",
      "metadata": {
        "id": "Rwrz9Qlbjwx4"
      },
      "source": [
        "from pprint import pprint\n",
        "\n",
        "pprint(sns.get_dataset_names())"
      ],
      "execution_count": null,
      "outputs": []
    },
    {
      "cell_type": "code",
      "metadata": {
        "id": "zXXWdF4SkFwI"
      },
      "source": [
        "tips = sns.load_dataset('tips')"
      ],
      "execution_count": null,
      "outputs": []
    },
    {
      "cell_type": "code",
      "metadata": {
        "id": "B6myvSbykWEH"
      },
      "source": [
        "print(tips.head())"
      ],
      "execution_count": null,
      "outputs": []
    },
    {
      "cell_type": "markdown",
      "metadata": {
        "id": "Ty0gAPJdkXs2"
      },
      "source": [
        "# Seaborn plot 종류\n",
        "```\n",
        "sns.histplot()\n",
        "sns.countplot()\n",
        "sns.kdeplot()\n",
        "sns.scatterplot()\n",
        "sns.lineplot()\n",
        "sns.relplot()\n",
        "sns.boxplot()\n",
        "sns.violinplot()\n",
        "sns.stripplot()\n",
        "sns.heatmap()\n",
        "```"
      ]
    },
    {
      "cell_type": "markdown",
      "metadata": {
        "id": "ZldDdWQalWyI"
      },
      "source": [
        "## Histogram()"
      ]
    },
    {
      "cell_type": "code",
      "metadata": {
        "id": "tDoCMzKilORn"
      },
      "source": [
        "# 데이터프레임을 넣고(tips) 컬럼명(tip) 히스토그램 출력\n",
        "fig = plt.figure()\n",
        "# title, 축 등 추가 설정을 위해서는 matplotlib 방법 그대로 사용\n",
        "plt.suptitle('TIP Histogram')\n",
        "\n",
        "# sns.histplot(data=tips, x='tip')\n",
        "sns.histplot(tips, x='tip')\n",
        "plt.show()"
      ],
      "execution_count": null,
      "outputs": []
    },
    {
      "cell_type": "code",
      "metadata": {
        "id": "eULMI3ZMlS1v"
      },
      "source": [
        "fig = plt.figure()\n",
        "plt.suptitle('TIP Histogram')\n",
        "\n",
        "# sns.histplot(tips, x='tip')\n",
        "sns.histplot(tips.tip)  # Series 를 주면서 그림\n",
        "plt.show()"
      ],
      "execution_count": null,
      "outputs": []
    },
    {
      "cell_type": "code",
      "metadata": {
        "id": "S-UnVix6nOXH"
      },
      "source": [
        "fig = plt.figure()\n",
        "plt.suptitle('TIP Histogram')\n",
        "\n",
        "sns.histplot(tips.tip, bins=30)  # bins 늘리기\n",
        "plt.show()"
      ],
      "execution_count": null,
      "outputs": []
    },
    {
      "cell_type": "code",
      "metadata": {
        "id": "DGnKObVMnYUa"
      },
      "source": [
        "a = tips.tip.to_numpy()\n",
        "print(a.shape)\n",
        "\n",
        "# numpy로 변환하면 컬럼이 아니므로 컬럼명(tip)이 사라진다.\n",
        "sns.histplot(a)\n",
        "plt.show()"
      ],
      "execution_count": null,
      "outputs": []
    },
    {
      "cell_type": "code",
      "metadata": {
        "id": "13zzUDDOnpUX"
      },
      "source": [
        "plt.hist(a, bins=30)\n",
        "plt.show()\n",
        "\n",
        "sns.histplot(a)\n",
        "plt.show()"
      ],
      "execution_count": null,
      "outputs": []
    },
    {
      "cell_type": "code",
      "metadata": {
        "id": "8etVUPFnn6rA"
      },
      "source": [
        "tips.head()"
      ],
      "execution_count": null,
      "outputs": []
    },
    {
      "cell_type": "code",
      "metadata": {
        "id": "Avh4yWFHr-UH"
      },
      "source": [
        "sns.histplot(tips.total_bill)\n",
        "plt.show()"
      ],
      "execution_count": null,
      "outputs": []
    },
    {
      "cell_type": "markdown",
      "metadata": {
        "id": "eGbbf8Uzv8An"
      },
      "source": [
        "### subplot\n",
        "- 창 분할해서 그리기"
      ]
    },
    {
      "cell_type": "code",
      "metadata": {
        "id": "YSgPqhpIsDsa"
      },
      "source": [
        "x = np.linspace(0, 10, 100)\n",
        "\n",
        "# ax1 = plt.add_subplot(121)\n",
        "# ax1.plot(np.sin(x))\n",
        "plt.subplot(121)\n",
        "plt.plot(np.sin(x))\n",
        "\n",
        "plt.subplot(122)\n",
        "plt.plot(np.cos(x))\n",
        "\n",
        "plt.show()"
      ],
      "execution_count": null,
      "outputs": []
    },
    {
      "cell_type": "code",
      "metadata": {
        "id": "Y9yFhuybsCSA"
      },
      "source": [
        "plt.figure(figsize=(10,3))\n",
        "plt.subplot(121)\n",
        "sns.histplot(tips, x='total_bill')\n",
        "\n",
        "plt.subplot(122)\n",
        "sns.histplot(tips, x='tip')\n",
        "\n",
        "plt.show()"
      ],
      "execution_count": null,
      "outputs": []
    },
    {
      "cell_type": "markdown",
      "metadata": {
        "id": "d6-KXO1ov44-"
      },
      "source": [
        "### y=\n",
        "- 히스토그램 가로로 그리기"
      ]
    },
    {
      "cell_type": "code",
      "metadata": {
        "id": "YAW27mr5tOBG"
      },
      "source": [
        "plt.figure(figsize=(10,3))\n",
        "plt.subplot(121)\n",
        "sns.histplot(tips, y='total_bill')\n",
        "\n",
        "plt.subplot(122)\n",
        "sns.histplot(tips, y='tip')\n",
        "\n",
        "plt.show()"
      ],
      "execution_count": null,
      "outputs": []
    },
    {
      "cell_type": "markdown",
      "metadata": {
        "id": "fv8LMzpxv2xv"
      },
      "source": [
        "### kde"
      ]
    },
    {
      "cell_type": "code",
      "metadata": {
        "id": "2k9x9Q4QuBmt"
      },
      "source": [
        "plt.figure(figsize=(10,3))\n",
        "plt.subplot(121)\n",
        "sns.histplot(tips, x='total_bill', kde=True) # 데이터분포 선 추가\n",
        "\n",
        "plt.subplot(122)\n",
        "sns.histplot(tips, x='tip', kde=True)\n",
        "\n",
        "plt.show()"
      ],
      "execution_count": null,
      "outputs": []
    },
    {
      "cell_type": "markdown",
      "metadata": {
        "id": "LRK4JN1lu24n"
      },
      "source": [
        "### hue"
      ]
    },
    {
      "cell_type": "code",
      "metadata": {
        "id": "jOzrVgdKvrY-"
      },
      "source": [
        "plt.figure(figsize=(10,3))\n",
        "plt.subplot(121)\n",
        "sns.histplot(tips, x=\"total_bill\", hue=\"sex\")\n",
        "\n",
        "plt.subplot(122)\n",
        "sns.histplot(tips, x=\"tip\", hue=\"sex\")\n",
        "\n",
        "plt.show()"
      ],
      "execution_count": null,
      "outputs": []
    },
    {
      "cell_type": "markdown",
      "metadata": {
        "id": "_ZBviptHwINH"
      },
      "source": [
        "### element\n",
        "- element = [\"bar\", \"step\", \"poly\"]"
      ]
    },
    {
      "cell_type": "code",
      "metadata": {
        "id": "C8fWi3BxvyL2"
      },
      "source": [
        "plt.figure(figsize=(10,3))\n",
        "plt.subplot(121)\n",
        "sns.histplot(tips, x=\"total_bill\", hue=\"sex\", element='poly', linewidth=3)\n",
        "\n",
        "plt.subplot(122)\n",
        "sns.histplot(tips, x=\"tip\", hue=\"sex\", element='step')  # element = [\"bar\", \"step\", \"poly\"]\n",
        "\n",
        "plt.show()"
      ],
      "execution_count": null,
      "outputs": []
    },
    {
      "cell_type": "markdown",
      "metadata": {
        "id": "be6mN6fZyJ6m"
      },
      "source": [
        "### shrink"
      ]
    },
    {
      "cell_type": "code",
      "metadata": {
        "id": "PTLr2WtTwLMe"
      },
      "source": [
        "plt.figure(figsize=(10,3))\n",
        "plt.subplot(121)\n",
        "sns.histplot(tips, x=\"total_bill\", hue=\"sex\", shrink=0.8)\n",
        "\n",
        "plt.subplot(122)\n",
        "sns.histplot(tips, x=\"tip\", hue=\"sex\", element='step')\n",
        "\n",
        "plt.show()"
      ],
      "execution_count": null,
      "outputs": []
    },
    {
      "cell_type": "markdown",
      "metadata": {
        "id": "F2FHx5oOyEzo"
      },
      "source": [
        "### stat\n",
        "- `stat` must be one of ['count', 'frequency', 'density', 'probability', 'proportion', 'percent']\n"
      ]
    },
    {
      "cell_type": "code",
      "metadata": {
        "id": "RHABqqGnxoJc"
      },
      "source": [
        "plt.figure(figsize=(10,3))\n",
        "plt.subplot(121)\n",
        "sns.histplot(tips, x=\"total_bill\", hue=\"sex\", stat='probability')\n",
        "\n",
        "plt.subplot(122)\n",
        "sns.histplot(tips, x=\"tip\", hue=\"sex\", stat='density')\n",
        "\n",
        "plt.show()"
      ],
      "execution_count": null,
      "outputs": []
    },
    {
      "cell_type": "markdown",
      "metadata": {
        "id": "PfjGlHc5yeYu"
      },
      "source": [
        "### multiple\n",
        "- `multiple` must be one of ['layer', 'stack', 'fill', 'dodge']"
      ]
    },
    {
      "cell_type": "code",
      "metadata": {
        "id": "jcfIQyjkx7gP"
      },
      "source": [
        "plt.figure(figsize=(10,3))\n",
        "plt.subplot(121)\n",
        "sns.histplot(tips, x=\"total_bill\", hue=\"sex\", multiple='stack')\n",
        "\n",
        "plt.subplot(122)\n",
        "sns.histplot(tips, x=\"tip\", hue=\"sex\", multiple='fill')\n",
        "\n",
        "plt.show()"
      ],
      "execution_count": null,
      "outputs": []
    },
    {
      "cell_type": "code",
      "metadata": {
        "id": "qDa_-zhjylz_"
      },
      "source": [
        "plt.figure(figsize=(10,3))\n",
        "plt.subplot(121)\n",
        "sns.histplot(tips, x=\"total_bill\", hue=\"sex\", multiple='stack')\n",
        "\n",
        "plt.subplot(122)\n",
        "sns.histplot(tips, x=\"tip\", hue=\"sex\", multiple='dodge', shrink=0.8)\n",
        "\n",
        "plt.show()"
      ],
      "execution_count": null,
      "outputs": []
    },
    {
      "cell_type": "markdown",
      "metadata": {
        "id": "oFFa2hL5zhTv"
      },
      "source": [
        "### log_scale"
      ]
    },
    {
      "cell_type": "code",
      "metadata": {
        "id": "-4MQqaIazxXX"
      },
      "source": [
        "planets = sns.load_dataset(\"planets\")\n",
        "print(planets.head())"
      ],
      "execution_count": null,
      "outputs": []
    },
    {
      "cell_type": "code",
      "metadata": {
        "id": "iHrV4HCH0rsn"
      },
      "source": [
        "sns.histplot(planets, x='distance')\n",
        "plt.show()"
      ],
      "execution_count": null,
      "outputs": []
    },
    {
      "cell_type": "code",
      "metadata": {
        "id": "GaHtHlMfz4jV"
      },
      "source": [
        "sns.histplot(planets, x='distance', log_scale=True)\n",
        "plt.show()"
      ],
      "execution_count": null,
      "outputs": []
    },
    {
      "cell_type": "markdown",
      "metadata": {
        "id": "LmWAUbE-0wn1"
      },
      "source": [
        "### fill"
      ]
    },
    {
      "cell_type": "code",
      "metadata": {
        "id": "vBfJyqK10GFF"
      },
      "source": [
        "sns.histplot(planets, x='distance', log_scale=True, fill=False)\n",
        "plt.show()"
      ],
      "execution_count": null,
      "outputs": []
    },
    {
      "cell_type": "markdown",
      "metadata": {
        "id": "Mnnml8vD1u2V"
      },
      "source": [
        "### 누적"
      ]
    },
    {
      "cell_type": "code",
      "metadata": {
        "id": "Wii6iv6w00UE"
      },
      "source": [
        "sns.histplot(\n",
        "    data=planets, x=\"distance\", hue=\"method\",\n",
        "    hue_order=[\"Radial Velocity\", \"Transit\"],\n",
        "    log_scale=True, element=\"step\", fill=False,\n",
        "    cumulative=True, stat=\"density\", common_norm=False,\n",
        ")\n",
        "plt.show()"
      ],
      "execution_count": null,
      "outputs": []
    },
    {
      "cell_type": "code",
      "metadata": {
        "id": "e_-tElxC01uk"
      },
      "source": [
        "sns.histplot(tips, x = 'total_bill', y = 'tip', cbar = True)\n",
        "plt.show()"
      ],
      "execution_count": null,
      "outputs": []
    },
    {
      "cell_type": "code",
      "metadata": {
        "id": "HsP5hs03188m"
      },
      "source": [
        "sns.scatterplot(data=tips, x='total_bill', y='tip')\n",
        "plt.show()"
      ],
      "execution_count": null,
      "outputs": []
    },
    {
      "cell_type": "markdown",
      "metadata": {
        "id": "ou5hwAaC3FXe"
      },
      "source": [
        "## Countplot()"
      ]
    },
    {
      "cell_type": "code",
      "metadata": {
        "id": "ChMgA4Uq6By9"
      },
      "source": [
        "tips.head()"
      ],
      "execution_count": null,
      "outputs": []
    },
    {
      "cell_type": "code",
      "metadata": {
        "id": "Z3MId1S05zSd"
      },
      "source": [
        "plt.figure(figsize=(10,3))\n",
        "plt.subplot(121)\n",
        "sns.countplot(data=tips, x='day')\n",
        "\n",
        "plt.subplot(122)\n",
        "sns.countplot(data=tips, x='smoker')\n",
        "\n",
        "plt.show()"
      ],
      "execution_count": null,
      "outputs": []
    },
    {
      "cell_type": "markdown",
      "metadata": {
        "id": "kRCKmOlK6dM-"
      },
      "source": [
        "## Kdeplot()\n",
        "- kde만 그리는 plot"
      ]
    },
    {
      "cell_type": "code",
      "metadata": {
        "id": "6iS1mq-75_C9"
      },
      "source": [
        "plt.figure(figsize=(10,3))\n",
        "plt.subplot(121)\n",
        "sns.kdeplot(data=tips, x='total_bill')\n",
        "\n",
        "plt.subplot(122)\n",
        "sns.kdeplot(data=tips, x='tip')\n",
        "\n",
        "plt.show()"
      ],
      "execution_count": null,
      "outputs": []
    },
    {
      "cell_type": "markdown",
      "metadata": {
        "id": "g6uzxTFQ6jd-"
      },
      "source": [
        "## Scatterplot()"
      ]
    },
    {
      "cell_type": "code",
      "metadata": {
        "id": "-hWOcFZ86zHO"
      },
      "source": [
        "sns.scatterplot(data=tips, x='total_bill', y='tip')\n",
        "plt.show()"
      ],
      "execution_count": null,
      "outputs": []
    },
    {
      "cell_type": "markdown",
      "metadata": {
        "id": "zmkJzx4z7fLf"
      },
      "source": [
        "### hue"
      ]
    },
    {
      "cell_type": "code",
      "metadata": {
        "id": "zwV7-baR7AI6"
      },
      "source": [
        "sns.scatterplot(data=tips, x='total_bill', y='tip', hue='time')\n",
        "plt.show()"
      ],
      "execution_count": null,
      "outputs": []
    },
    {
      "cell_type": "markdown",
      "metadata": {
        "id": "t5X08bhs73F1"
      },
      "source": [
        "### style"
      ]
    },
    {
      "cell_type": "code",
      "metadata": {
        "id": "2JF7aZAu7Plm"
      },
      "source": [
        "sns.scatterplot(data=tips, x='total_bill', y='tip', hue='time', style='time')\n",
        "plt.show()"
      ],
      "execution_count": null,
      "outputs": []
    },
    {
      "cell_type": "markdown",
      "metadata": {
        "id": "hdC8Asjt8Qbm"
      },
      "source": [
        "### size"
      ]
    },
    {
      "cell_type": "code",
      "metadata": {
        "id": "yJdqn8eR718G"
      },
      "source": [
        "sns.scatterplot(data=tips, x='total_bill', y='tip', hue='time', size='size')\n",
        "plt.show()"
      ],
      "execution_count": null,
      "outputs": []
    },
    {
      "cell_type": "markdown",
      "metadata": {
        "id": "RFAP4fxo8DM-"
      },
      "source": [
        "## Lineplot()"
      ]
    },
    {
      "cell_type": "code",
      "metadata": {
        "id": "qrQ_66Hk8XiS"
      },
      "source": [
        "flights = sns.load_dataset('flights')\n",
        "print(flights.head())"
      ],
      "execution_count": null,
      "outputs": []
    },
    {
      "cell_type": "markdown",
      "metadata": {
        "id": "QURX8nP38_L2"
      },
      "source": [
        "### Query"
      ]
    },
    {
      "cell_type": "code",
      "metadata": {
        "id": "1yxwpHZD8yCk"
      },
      "source": [
        "may_flights = flights.query(\"month == 'May'\")\n",
        "may_flights"
      ],
      "execution_count": null,
      "outputs": []
    },
    {
      "cell_type": "code",
      "metadata": {
        "id": "r14Gfuy186e2"
      },
      "source": [
        "sns.lineplot(data=may_flights, x='year', y='passengers')\n",
        "plt.show()"
      ],
      "execution_count": null,
      "outputs": []
    },
    {
      "cell_type": "markdown",
      "metadata": {
        "id": "eXCBl1EM9iId"
      },
      "source": [
        "### hue"
      ]
    },
    {
      "cell_type": "code",
      "metadata": {
        "id": "naLbCnU29aCV"
      },
      "source": [
        "sns.lineplot(data=flights, x='year', y='passengers', hue='month')\n",
        "plt.show()"
      ],
      "execution_count": null,
      "outputs": []
    },
    {
      "cell_type": "markdown",
      "metadata": {
        "id": "JnK7lFr6-EeW"
      },
      "source": [
        "### hue X : 95% 신뢰구간\n",
        "- 신뢰도? 구간 의미 공부하기"
      ]
    },
    {
      "cell_type": "code",
      "metadata": {
        "id": "LiczJcRV9eRt"
      },
      "source": [
        "sns.lineplot(data=flights, x='year', y='passengers')\n",
        "plt.show()"
      ],
      "execution_count": null,
      "outputs": []
    },
    {
      "cell_type": "code",
      "metadata": {
        "id": "Gf2YePfH9xPW"
      },
      "source": [
        "fmri = sns.load_dataset('fmri')\n",
        "fmri"
      ],
      "execution_count": null,
      "outputs": []
    },
    {
      "cell_type": "code",
      "metadata": {
        "id": "F28TLAtb-Zi-"
      },
      "source": [
        "sns.lineplot(data=fmri, x='timepoint', y='signal')\n",
        "plt.show()"
      ],
      "execution_count": null,
      "outputs": []
    },
    {
      "cell_type": "code",
      "metadata": {
        "id": "m_ifVF_t-lEu"
      },
      "source": [
        "sns.lineplot(data=fmri, x='timepoint', y='signal', hue='event')\n",
        "plt.show()"
      ],
      "execution_count": null,
      "outputs": []
    },
    {
      "cell_type": "code",
      "metadata": {
        "id": "i5POpfTN-3Qt"
      },
      "source": [
        "plt.subplot(121)\n",
        "sns.lineplot(data=fmri, x='timepoint', y='signal')\n",
        "\n",
        "plt.subplot(122)\n",
        "sns.lineplot(data=fmri, x='timepoint', y='signal', hue='event')\n",
        "plt.show()"
      ],
      "execution_count": null,
      "outputs": []
    },
    {
      "cell_type": "markdown",
      "metadata": {
        "id": "v4tZArir_Zoj"
      },
      "source": [
        "### units\n",
        "- ??? 설명 안하고 넘어감...찾아보기"
      ]
    },
    {
      "cell_type": "code",
      "metadata": {
        "id": "9a5ehuCr_BK1"
      },
      "source": [
        "sns.lineplot(data=fmri, x='timepoint', y='signal', hue='event', units='subject', estimator=None, lw=1)\n",
        "plt.show()"
      ],
      "execution_count": null,
      "outputs": []
    },
    {
      "cell_type": "markdown",
      "metadata": {
        "id": "ovrgyEqA_cOF"
      },
      "source": [
        "## Boxpliot()"
      ]
    },
    {
      "cell_type": "code",
      "metadata": {
        "id": "OYbssa60_tlF"
      },
      "source": [
        "sns.boxplot(x=tips.total_bill)\n",
        "plt.show()"
      ],
      "execution_count": null,
      "outputs": []
    },
    {
      "cell_type": "markdown",
      "metadata": {
        "id": "v82oEMz-_2L9"
      },
      "source": [
        "### 세로로 그리기 "
      ]
    },
    {
      "cell_type": "code",
      "metadata": {
        "id": "_B-IHfkTBbhN"
      },
      "source": [
        "sns.boxplot(data=tips, y='total_bill')\n",
        "plt.show()"
      ],
      "execution_count": null,
      "outputs": []
    },
    {
      "cell_type": "code",
      "metadata": {
        "id": "qFcL9e3iAzkd"
      },
      "source": [
        "sns.boxplot(data=tips, x='day', y='total_bill')\n",
        "plt.show()"
      ],
      "execution_count": null,
      "outputs": []
    },
    {
      "cell_type": "markdown",
      "metadata": {
        "id": "1cpgwJpLB3Et"
      },
      "source": [
        "### hue"
      ]
    },
    {
      "cell_type": "code",
      "metadata": {
        "id": "IEOJA8eAA2ZF"
      },
      "source": [
        "sns.boxplot(data=tips, x='day', y='total_bill', hue='smoker')\n",
        "plt.show()"
      ],
      "execution_count": null,
      "outputs": []
    },
    {
      "cell_type": "markdown",
      "metadata": {
        "id": "aFhLaxC5BzvW"
      },
      "source": [
        "## swarmplot()"
      ]
    },
    {
      "cell_type": "code",
      "metadata": {
        "id": "dU9Fgu0JBpk1"
      },
      "source": [
        "sns.boxplot(data=tips, x='day', y='total_bill', hue='smoker')\n",
        "sns.swarmplot(data=tips, x='day', y='total_bill', color=\"0.25\")\n",
        "plt.show()"
      ],
      "execution_count": null,
      "outputs": []
    },
    {
      "cell_type": "markdown",
      "metadata": {
        "id": "3g1VruRKBx39"
      },
      "source": [
        "# Titanic 분석\n"
      ]
    },
    {
      "cell_type": "code",
      "metadata": {
        "id": "ybIzqkWKCJWx"
      },
      "source": [
        "titanic = sns.load_dataset('titanic')\n",
        "titanic"
      ],
      "execution_count": null,
      "outputs": []
    },
    {
      "cell_type": "markdown",
      "metadata": {
        "id": "6dFCqu7dCPXl"
      },
      "source": [
        "```\n",
        "성별에 따라 얼마나 살아남았는지\n",
        "나이별\n",
        "PClass(객실 등급)\n",
        "Fare\n",
        "```"
      ]
    },
    {
      "cell_type": "markdown",
      "metadata": {
        "id": "ZNCM__MkKI1M"
      },
      "source": [
        "## 성별"
      ]
    },
    {
      "cell_type": "code",
      "metadata": {
        "id": "dAzEPo9JDOSM"
      },
      "source": [
        "# sns.countplot(data=titanic, x='sex')\n",
        "sns.histplot(data=titanic, x='sex', shrink=0.5)\n",
        "plt.show()"
      ],
      "execution_count": null,
      "outputs": []
    },
    {
      "cell_type": "code",
      "metadata": {
        "id": "Ad4eS--fCnXV"
      },
      "source": [
        "sns.histplot(data=titanic, x='sex', hue='survived', multiple='dodge', shrink=0.5)\n",
        "plt.show()"
      ],
      "execution_count": null,
      "outputs": []
    },
    {
      "cell_type": "code",
      "metadata": {
        "id": "FKiT8GgoDHmV"
      },
      "source": [
        "sns.histplot(data=titanic, x='sex', hue='survived', multiple='fill', shrink=0.5)\n",
        "plt.show()"
      ],
      "execution_count": null,
      "outputs": []
    },
    {
      "cell_type": "markdown",
      "metadata": {
        "id": "93lXh0d2DoqV"
      },
      "source": [
        "## 객실등급"
      ]
    },
    {
      "cell_type": "code",
      "metadata": {
        "id": "QF-WheNeKMPD"
      },
      "source": [
        "sns.histplot(data=titanic, x='pclass', hue='survived', multiple='dodge', shrink=0.5)\n",
        "plt.show()"
      ],
      "execution_count": null,
      "outputs": []
    },
    {
      "cell_type": "code",
      "metadata": {
        "id": "u8uvE_FiKQd8"
      },
      "source": [
        "sns.histplot(data=titanic, x='pclass', hue='survived', multiple='fill', shrink=0.5)\n",
        "plt.show()"
      ],
      "execution_count": null,
      "outputs": []
    },
    {
      "cell_type": "markdown",
      "metadata": {
        "id": "dn_rQ_qSKgvr"
      },
      "source": [
        "## 요금"
      ]
    },
    {
      "cell_type": "code",
      "metadata": {
        "id": "8IAVGx_zKleQ"
      },
      "source": [
        "sns.histplot(data=titanic, x='fare')\n",
        "plt.plot()"
      ],
      "execution_count": null,
      "outputs": []
    },
    {
      "cell_type": "code",
      "metadata": {
        "id": "W1gGoUxfKx7k"
      },
      "source": [
        "sns.histplot(data=titanic, x='fare', hue='survived')\n",
        "plt.plot()"
      ],
      "execution_count": null,
      "outputs": []
    },
    {
      "cell_type": "code",
      "metadata": {
        "id": "W0lRwStWK9yc"
      },
      "source": [
        "sns.histplot(data=titanic, x='fare', hue='survived', element='poly')\n",
        "plt.plot()"
      ],
      "execution_count": null,
      "outputs": []
    },
    {
      "cell_type": "code",
      "metadata": {
        "id": "8geywX_fLLj8"
      },
      "source": [
        "not_zero_fare = titanic.query(\"fare>0\")\n",
        "sns.histplot(data=not_zero_fare, x='fare', hue='survived', element='poly', log_scale=True)\n",
        "plt.plot()"
      ],
      "execution_count": null,
      "outputs": []
    },
    {
      "cell_type": "markdown",
      "metadata": {
        "id": "BsDkiod4LUSE"
      },
      "source": [
        "## 성별 + 객실등급"
      ]
    },
    {
      "cell_type": "markdown",
      "metadata": {
        "id": "VCsAMdCXNUss"
      },
      "source": [
        "### Catplot()"
      ]
    },
    {
      "cell_type": "code",
      "metadata": {
        "id": "TfPhZCrkMpDw"
      },
      "source": [
        "sns.catplot(data=titanic, x='pclass', col='sex', hue='survived', kind='count')\n",
        "plt.plot()"
      ],
      "execution_count": null,
      "outputs": []
    },
    {
      "cell_type": "code",
      "metadata": {
        "id": "f2siVx5HMxTR"
      },
      "source": [
        ""
      ],
      "execution_count": null,
      "outputs": []
    }
  ]
}