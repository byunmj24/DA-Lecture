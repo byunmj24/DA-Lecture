{
 "cells": [
  {
   "cell_type": "markdown",
   "id": "fda37bd2",
   "metadata": {},
   "source": [
    "### 클래스 (class) 필드, 메소드 \n",
    "### 객체 (object) 인스턴스\n"
   ]
  },
  {
   "cell_type": "code",
   "execution_count": 2,
   "id": "1613ee8a",
   "metadata": {},
   "outputs": [],
   "source": [
    "class Cat():\n",
    "    pass"
   ]
  },
  {
   "cell_type": "code",
   "execution_count": 4,
   "id": "94f9dbb6",
   "metadata": {},
   "outputs": [],
   "source": [
    "a_cat = Cat()\n",
    "another_cat = Cat()"
   ]
  },
  {
   "cell_type": "code",
   "execution_count": 12,
   "id": "206f8359",
   "metadata": {},
   "outputs": [],
   "source": [
    "class Cat:\n",
    "    def __init__(self, name, weight):\n",
    "        self.name = name\n",
    "        self.weight = weight        "
   ]
  },
  {
   "cell_type": "code",
   "execution_count": 13,
   "id": "760f53a9",
   "metadata": {},
   "outputs": [],
   "source": [
    "my_cat = Cat(\"kitty\", 30)"
   ]
  },
  {
   "cell_type": "code",
   "execution_count": 16,
   "id": "faf0740b",
   "metadata": {},
   "outputs": [
    {
     "data": {
      "text/plain": [
       "('kitty', 30)"
      ]
     },
     "execution_count": 16,
     "metadata": {},
     "output_type": "execute_result"
    }
   ],
   "source": [
    "my_cat.name, my_cat.weight"
   ]
  },
  {
   "cell_type": "code",
   "execution_count": 39,
   "id": "3da2d8f4",
   "metadata": {},
   "outputs": [],
   "source": [
    "class Car():\n",
    "    def exclaim(self):\n",
    "        print(\"나는 자동차\")\n",
    "    def __str__(self):\n",
    "        return \"Car\"\n",
    "    def __repr__(self):\n",
    "        return \"Class Car\"              "
   ]
  },
  {
   "cell_type": "code",
   "execution_count": 40,
   "id": "47566ca8",
   "metadata": {},
   "outputs": [],
   "source": [
    "class Yugo(Car):\n",
    "    def exclaim(self):\n",
    "        print(\"나는 자동차 같은 유고\")"
   ]
  },
  {
   "cell_type": "code",
   "execution_count": 45,
   "id": "1baed8a1",
   "metadata": {},
   "outputs": [
    {
     "data": {
      "text/plain": [
       "(Class Car, Class Car)"
      ]
     },
     "execution_count": 45,
     "metadata": {},
     "output_type": "execute_result"
    }
   ],
   "source": [
    "give_me_a_car = Car()\n",
    "give_me_a_yugo = Yugo()\n",
    "give_me_a_car, give_me_a_yugo"
   ]
  },
  {
   "cell_type": "code",
   "execution_count": 6,
   "id": "59b381aa",
   "metadata": {},
   "outputs": [],
   "source": [
    "a =list( range(1,30))"
   ]
  },
  {
   "cell_type": "code",
   "execution_count": 50,
   "id": "c88a29f6",
   "metadata": {},
   "outputs": [
    {
     "name": "stdout",
     "output_type": "stream",
     "text": [
      "[1, 2, 3, 4, 5, 6, 7, 8, 9, 10, 11, 12, 13, 14, 15, 16, 17, 18, 19, 20, 21, 22, 23, 24, 25, 26, 27, 28, 29]\n"
     ]
    }
   ],
   "source": [
    "print(a)"
   ]
  },
  {
   "cell_type": "code",
   "execution_count": 52,
   "id": "70b77452",
   "metadata": {},
   "outputs": [
    {
     "data": {
      "text/plain": [
       "1470540750400"
      ]
     },
     "execution_count": 52,
     "metadata": {},
     "output_type": "execute_result"
    }
   ],
   "source": [
    "id(a)"
   ]
  },
  {
   "cell_type": "code",
   "execution_count": 55,
   "id": "43ca59d1",
   "metadata": {},
   "outputs": [
    {
     "data": {
      "text/plain": [
       "'[1, 2, 3, 4, 5, 6, 7, 8, 9, 10, 11, 12, 13, 14, 15, 16, 17, 18, 19, 20, 21, 22, 23, 24, 25, 26, 27, 28, 29]'"
      ]
     },
     "execution_count": 55,
     "metadata": {},
     "output_type": "execute_result"
    }
   ],
   "source": [
    "a.__repr__()"
   ]
  },
  {
   "cell_type": "code",
   "execution_count": 1,
   "id": "8763a9a7",
   "metadata": {},
   "outputs": [],
   "source": [
    "class Duck:\n",
    "    def __init__(self, input_name):\n",
    "        self.name = input_name"
   ]
  },
  {
   "cell_type": "code",
   "execution_count": 2,
   "id": "abe433a2",
   "metadata": {},
   "outputs": [],
   "source": [
    "fowl = Duck('Daffy')"
   ]
  },
  {
   "cell_type": "code",
   "execution_count": 4,
   "id": "38db0e7f",
   "metadata": {},
   "outputs": [],
   "source": [
    "fowl.name \n",
    "fowl.name = 'Daphne'"
   ]
  },
  {
   "cell_type": "code",
   "execution_count": 8,
   "id": "d1b95b18",
   "metadata": {},
   "outputs": [],
   "source": [
    "class Duck():\n",
    "    def __init__(self, input_name):\n",
    "        self.hidden_name = input_name\n",
    "    def get_name(self):\n",
    "        print('inside the getter')\n",
    "        return self.hidden_name\n",
    "    def set_name(self, input_name):\n",
    "        print(\"inside the setter\")\n",
    "        self.hidden_name = input_name\n",
    "    "
   ]
  },
  {
   "cell_type": "code",
   "execution_count": 11,
   "id": "d2c06652",
   "metadata": {},
   "outputs": [
    {
     "name": "stdout",
     "output_type": "stream",
     "text": [
      "inside the getter\n",
      "inside the setter\n",
      "inside the getter\n"
     ]
    },
    {
     "data": {
      "text/plain": [
       "'철수'"
      ]
     },
     "execution_count": 11,
     "metadata": {},
     "output_type": "execute_result"
    }
   ],
   "source": [
    "don = Duck('Donald')\n",
    "don.get_name()\n",
    "don.set_name('철수')\n",
    "don.get_name()"
   ]
  },
  {
   "cell_type": "code",
   "execution_count": 12,
   "id": "d7315c76",
   "metadata": {},
   "outputs": [],
   "source": [
    "class Duck():\n",
    "    def __init__(self, input_name):\n",
    "        self.hidden_name = input_name\n",
    "    @property\n",
    "    def name(self):\n",
    "        print('inside the getter')\n",
    "        return self.hidden_name\n",
    "    @name.setter\n",
    "    def name(self, input_name):\n",
    "        print(\"inside the setter\")\n",
    "        self.hidden_name = input_name\n"
   ]
  },
  {
   "cell_type": "code",
   "execution_count": 13,
   "id": "42b0592c",
   "metadata": {},
   "outputs": [],
   "source": [
    "fowl = Duck('Howard')"
   ]
  },
  {
   "cell_type": "code",
   "execution_count": 17,
   "id": "b432fc0f",
   "metadata": {},
   "outputs": [
    {
     "name": "stdout",
     "output_type": "stream",
     "text": [
      "inside the setter\n"
     ]
    }
   ],
   "source": [
    "fowl.name = 'Donald'"
   ]
  },
  {
   "cell_type": "code",
   "execution_count": 18,
   "id": "844cf743",
   "metadata": {},
   "outputs": [
    {
     "name": "stdout",
     "output_type": "stream",
     "text": [
      "inside the getter\n"
     ]
    },
    {
     "data": {
      "text/plain": [
       "'Donald'"
      ]
     },
     "execution_count": 18,
     "metadata": {},
     "output_type": "execute_result"
    }
   ],
   "source": [
    "fowl.name"
   ]
  },
  {
   "cell_type": "code",
   "execution_count": 19,
   "id": "a3f76edf",
   "metadata": {},
   "outputs": [],
   "source": [
    "class Duck():\n",
    "    def __init__(self, input_name):\n",
    "        self.__name = input_name\n",
    "    @property\n",
    "    def name(self):\n",
    "        print('inside the getter')\n",
    "        return self.__name\n",
    "    @name.setter\n",
    "    def name(self, input_name):\n",
    "        print(\"inside the setter\")\n",
    "        self.__name = input_name"
   ]
  },
  {
   "cell_type": "code",
   "execution_count": 20,
   "id": "7a59e11b",
   "metadata": {},
   "outputs": [],
   "source": [
    "fowl = Duck('Howard')"
   ]
  },
  {
   "cell_type": "code",
   "execution_count": 22,
   "id": "ee0df8d3",
   "metadata": {},
   "outputs": [
    {
     "name": "stdout",
     "output_type": "stream",
     "text": [
      "inside the setter\n"
     ]
    }
   ],
   "source": [
    "fowl.name = 'Donald'"
   ]
  },
  {
   "cell_type": "code",
   "execution_count": 24,
   "id": "47778735",
   "metadata": {},
   "outputs": [
    {
     "data": {
      "text/plain": [
       "'Donald'"
      ]
     },
     "execution_count": 24,
     "metadata": {},
     "output_type": "execute_result"
    }
   ],
   "source": [
    "fowl._Duck__name"
   ]
  },
  {
   "cell_type": "code",
   "execution_count": 27,
   "id": "2280ee0f",
   "metadata": {},
   "outputs": [
    {
     "data": {
      "text/plain": [
       "__main__.Duck"
      ]
     },
     "execution_count": 27,
     "metadata": {},
     "output_type": "execute_result"
    }
   ],
   "source": [
    "fowl."
   ]
  },
  {
   "cell_type": "code",
   "execution_count": null,
   "id": "9d40e567",
   "metadata": {},
   "outputs": [],
   "source": [
    "class Word:\n",
    "    def __init__(self, text):\n",
    "        self.text = text\n",
    "    def equals(self, words):\n",
    "        return self.text.lower() == words.text."
   ]
  },
  {
   "cell_type": "code",
   "execution_count": null,
   "id": "34e71686",
   "metadata": {},
   "outputs": [],
   "source": []
  },
  {
   "cell_type": "code",
   "execution_count": 29,
   "id": "af7ff3e2",
   "metadata": {},
   "outputs": [
    {
     "data": {
      "text/plain": [
       "(True, True)"
      ]
     },
     "execution_count": 29,
     "metadata": {},
     "output_type": "execute_result"
    }
   ],
   "source": [
    "'ab' == 'ab', 'Ab'.lower() =='ab'.lower()"
   ]
  },
  {
   "cell_type": "code",
   "execution_count": null,
   "id": "adf37c21",
   "metadata": {},
   "outputs": [],
   "source": []
  },
  {
   "cell_type": "code",
   "execution_count": null,
   "id": "d4bcba93",
   "metadata": {},
   "outputs": [],
   "source": []
  }
 ],
 "metadata": {
  "kernelspec": {
   "display_name": "Python 3",
   "language": "python",
   "name": "python3"
  },
  "language_info": {
   "codemirror_mode": {
    "name": "ipython",
    "version": 3
   },
   "file_extension": ".py",
   "mimetype": "text/x-python",
   "name": "python",
   "nbconvert_exporter": "python",
   "pygments_lexer": "ipython3",
   "version": "3.8.8"
  }
 },
 "nbformat": 4,
 "nbformat_minor": 5
}
