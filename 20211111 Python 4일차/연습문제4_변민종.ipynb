{
 "cells": [
  {
   "cell_type": "markdown",
   "id": "85e2a5da",
   "metadata": {},
   "source": [
    "## capsule"
   ]
  },
  {
   "cell_type": "code",
   "execution_count": 1,
   "id": "cfa1d80b",
   "metadata": {},
   "outputs": [],
   "source": [
    "balance = 8000"
   ]
  },
  {
   "cell_type": "code",
   "execution_count": 2,
   "id": "62c399a4",
   "metadata": {},
   "outputs": [],
   "source": [
    "def deposit(money):\n",
    "    global balance\n",
    "    balance += money"
   ]
  },
  {
   "cell_type": "code",
   "execution_count": 3,
   "id": "23270845",
   "metadata": {},
   "outputs": [],
   "source": [
    "def inquire():\n",
    "    print(\"잔액은 %d원입니다.\" % balance)"
   ]
  },
  {
   "cell_type": "code",
   "execution_count": 4,
   "id": "8699c428",
   "metadata": {},
   "outputs": [],
   "source": [
    "deposit(1000)"
   ]
  },
  {
   "cell_type": "code",
   "execution_count": 5,
   "id": "4a2449d5",
   "metadata": {},
   "outputs": [
    {
     "name": "stdout",
     "output_type": "stream",
     "text": [
      "잔액은 9000원입니다.\n"
     ]
    }
   ],
   "source": [
    "inquire()"
   ]
  },
  {
   "cell_type": "markdown",
   "id": "0b10c343",
   "metadata": {},
   "source": [
    "## account"
   ]
  },
  {
   "cell_type": "code",
   "execution_count": 62,
   "id": "ef5d30e7",
   "metadata": {},
   "outputs": [],
   "source": [
    "class Account:\n",
    "    def __init__(self, balance, name):\n",
    "        self.balance = balance\n",
    "        self.name = name\n",
    "    def deposit(self, money):\n",
    "        self.balance += money\n",
    "        print(self.name, \"님의 계좌에 %d원이 입금되었습니다.\" % money)\n",
    "    def inquire(self):\n",
    "        print(\"잔액은 %d원입니다.\" % self.balance)"
   ]
  },
  {
   "cell_type": "code",
   "execution_count": 64,
   "id": "e0bc1c16",
   "metadata": {},
   "outputs": [],
   "source": [
    "sinhan = Account(8000, \"'신한'\")"
   ]
  },
  {
   "cell_type": "code",
   "execution_count": 65,
   "id": "f9c409f5",
   "metadata": {},
   "outputs": [
    {
     "name": "stdout",
     "output_type": "stream",
     "text": [
      "'신한' 님의 계좌에 1000원이 입금되었습니다.\n",
      "잔액은 9000원입니다.\n"
     ]
    }
   ],
   "source": [
    "sinhan.deposit(1000)\n",
    "sinhan.inquire()"
   ]
  },
  {
   "cell_type": "code",
   "execution_count": 67,
   "id": "ca0b5562",
   "metadata": {},
   "outputs": [],
   "source": [
    "nonghyup = Account(1200000, \"'농협'\")"
   ]
  },
  {
   "cell_type": "code",
   "execution_count": 68,
   "id": "776de85d",
   "metadata": {},
   "outputs": [
    {
     "name": "stdout",
     "output_type": "stream",
     "text": [
      "잔액은 1200000원입니다.\n"
     ]
    }
   ],
   "source": [
    "nonghyup.inquire()"
   ]
  },
  {
   "cell_type": "markdown",
   "id": "5879e961",
   "metadata": {},
   "source": [
    "## human"
   ]
  },
  {
   "cell_type": "code",
   "execution_count": 69,
   "id": "9783f569",
   "metadata": {},
   "outputs": [],
   "source": [
    "class Human:\n",
    "    def __init__(self, age, name):\n",
    "        self.age = age\n",
    "        self.name = name\n",
    "    def intro(self):\n",
    "        print(str(self.age) + \"살 \" + self.name + \"입니다.\")"
   ]
  },
  {
   "cell_type": "code",
   "execution_count": 70,
   "id": "0e3f1ab7",
   "metadata": {},
   "outputs": [
    {
     "name": "stdout",
     "output_type": "stream",
     "text": [
      "29살 홍길동입니다.\n"
     ]
    }
   ],
   "source": [
    "kim = Human(29, \"홍길동\")\n",
    "kim.intro()"
   ]
  },
  {
   "cell_type": "code",
   "execution_count": 71,
   "id": "0db8a495",
   "metadata": {},
   "outputs": [
    {
     "name": "stdout",
     "output_type": "stream",
     "text": [
      "45살 이승우입니다.\n"
     ]
    }
   ],
   "source": [
    "lee = Human(45, \"이승우\")\n",
    "lee.intro()"
   ]
  },
  {
   "cell_type": "markdown",
   "id": "ac14b588",
   "metadata": {},
   "source": [
    "## student"
   ]
  },
  {
   "cell_type": "code",
   "execution_count": 73,
   "id": "557e18fa",
   "metadata": {},
   "outputs": [],
   "source": [
    "class Human:\n",
    "    def __init__(self, age, name):\n",
    "        self.age = age\n",
    "        self.name = name\n",
    "        \n",
    "    def intro(self):\n",
    "        print(str(self.age) + \"살 \" + self.name + \"입니다.\")"
   ]
  },
  {
   "cell_type": "code",
   "execution_count": 77,
   "id": "bd728073",
   "metadata": {},
   "outputs": [],
   "source": [
    "class Student(Human):\n",
    "    def __init__(self, age, name, stunum):\n",
    "        super().__init__(age,name)\n",
    "        self.stunum = stunum\n",
    "        \n",
    "    def intro(self):\n",
    "        super().intro()\n",
    "        print(\"학번 : \" + str(self.stunum))\n",
    "        \n",
    "    def study(self):\n",
    "        print(\"하늘천 따지 검을현 누를황\")"
   ]
  },
  {
   "cell_type": "code",
   "execution_count": 78,
   "id": "fe7617f9",
   "metadata": {},
   "outputs": [
    {
     "name": "stdout",
     "output_type": "stream",
     "text": [
      "29살 홍길동입니다.\n"
     ]
    }
   ],
   "source": [
    "kim = Human(29, \"홍길동\")\n",
    "kim.intro()"
   ]
  },
  {
   "cell_type": "code",
   "execution_count": 79,
   "id": "7b105e5d",
   "metadata": {},
   "outputs": [
    {
     "name": "stdout",
     "output_type": "stream",
     "text": [
      "34살 이승우입니다.\n",
      "학번 : 930011\n",
      "하늘천 따지 검을현 누를황\n"
     ]
    }
   ],
   "source": [
    "lee = Student(34, \"이승우\", 930011)\n",
    "lee.intro()\n",
    "lee.study()"
   ]
  },
  {
   "cell_type": "markdown",
   "id": "56fa61f1",
   "metadata": {},
   "source": [
    "## getset"
   ]
  },
  {
   "cell_type": "code",
   "execution_count": 84,
   "id": "76fe5817",
   "metadata": {},
   "outputs": [],
   "source": [
    "class Date:\n",
    "    def __init__(self, month):\n",
    "        self.month = month\n",
    "    def getmonth(self):\n",
    "        return self.month\n",
    "    def setmonth(self, month):\n",
    "        if 1 <= month <= 12:\n",
    "            self.month = month"
   ]
  },
  {
   "cell_type": "code",
   "execution_count": 95,
   "id": "6f51a800",
   "metadata": {},
   "outputs": [
    {
     "name": "stdout",
     "output_type": "stream",
     "text": [
      "8\n"
     ]
    }
   ],
   "source": [
    "today = Date(8)\n",
    "today.setmonth(15)\n",
    "print(today.month)"
   ]
  },
  {
   "cell_type": "markdown",
   "id": "2146a576",
   "metadata": {},
   "source": [
    "## property2"
   ]
  },
  {
   "cell_type": "code",
   "execution_count": 87,
   "id": "4fcc1707",
   "metadata": {},
   "outputs": [],
   "source": [
    "class Date:\n",
    "    def __init__(self, month):\n",
    "        self.inner_month = month\n",
    "    @property\n",
    "    def month(self):\n",
    "        return self.inner_month\n",
    "    @month.setter\n",
    "    def month(self, month):\n",
    "        if 1 <= month <= 12:\n",
    "            self.inner_month = month"
   ]
  },
  {
   "cell_type": "code",
   "execution_count": 93,
   "id": "a5528280",
   "metadata": {},
   "outputs": [
    {
     "name": "stdout",
     "output_type": "stream",
     "text": [
      "8\n"
     ]
    }
   ],
   "source": [
    "today = Date(8)\n",
    "today.month = 15\n",
    "print(today.month)"
   ]
  },
  {
   "cell_type": "markdown",
   "id": "362a8937",
   "metadata": {},
   "source": [
    "## hidden"
   ]
  },
  {
   "cell_type": "code",
   "execution_count": 92,
   "id": "6b53e11f",
   "metadata": {},
   "outputs": [],
   "source": [
    "class Date:\n",
    "    def __init__(self, month):\n",
    "        self.__month = month\n",
    "    def getmonth(self):\n",
    "        return self.__month\n",
    "    def setmonth(self, month):\n",
    "        if 1 <= month <= 12:\n",
    "            self.__month = month\n",
    "    month = property(getmonth, setmonth)"
   ]
  },
  {
   "cell_type": "code",
   "execution_count": 94,
   "id": "b0d7187e",
   "metadata": {},
   "outputs": [
    {
     "name": "stdout",
     "output_type": "stream",
     "text": [
      "8\n"
     ]
    }
   ],
   "source": [
    "today = Date(8)\n",
    "today.month = 15\n",
    "print(today.month)"
   ]
  },
  {
   "cell_type": "markdown",
   "id": "fd2b3d9c",
   "metadata": {},
   "source": [
    "## classmethod"
   ]
  },
  {
   "cell_type": "code",
   "execution_count": 96,
   "id": "434914e7",
   "metadata": {},
   "outputs": [],
   "source": [
    "class Car:\n",
    "    count = 0\n",
    "    def __init__(self, name):\n",
    "        self.name = name\n",
    "        Car.count += 1\n",
    "    @classmethod\n",
    "    def outcount(cls):\n",
    "        print(cls.count)"
   ]
  },
  {
   "cell_type": "code",
   "execution_count": 97,
   "id": "350acfc7",
   "metadata": {},
   "outputs": [
    {
     "name": "stdout",
     "output_type": "stream",
     "text": [
      "2\n"
     ]
    }
   ],
   "source": [
    "price = Car(\"프라이드\")\n",
    "korando = Car(\"코란도\")\n",
    "Car.outcount()"
   ]
  },
  {
   "cell_type": "markdown",
   "id": "d9ab21c8",
   "metadata": {},
   "source": [
    "## staticmethod"
   ]
  },
  {
   "cell_type": "code",
   "execution_count": 98,
   "id": "38a4e182",
   "metadata": {},
   "outputs": [],
   "source": [
    "class Car:\n",
    "    @staticmethod\n",
    "    def hello():\n",
    "        print(\"오늘도 안전 운행 합시다.\")\n",
    "    count = 0\n",
    "    def __init__(self, name):\n",
    "        self.name = name\n",
    "        Car.count += 1\n",
    "    @classmethod\n",
    "    def outcount(cls):\n",
    "        print(cls.count)"
   ]
  },
  {
   "cell_type": "code",
   "execution_count": 100,
   "id": "3d4debc7",
   "metadata": {},
   "outputs": [
    {
     "name": "stdout",
     "output_type": "stream",
     "text": [
      "오늘도 안전 운행 합시다.\n"
     ]
    }
   ],
   "source": [
    "Car.hello()"
   ]
  },
  {
   "cell_type": "markdown",
   "id": "842f206a",
   "metadata": {},
   "source": [
    "## eqop"
   ]
  },
  {
   "cell_type": "code",
   "execution_count": 101,
   "id": "61ce5fcc",
   "metadata": {},
   "outputs": [],
   "source": [
    "class Human:\n",
    "    def __init__(self, age, name):\n",
    "        self.age = age\n",
    "        self.name = name\n",
    "    def __eq__(self, other):\n",
    "        return self.age == other.age and self.name == other.name"
   ]
  },
  {
   "cell_type": "code",
   "execution_count": 103,
   "id": "237ff550",
   "metadata": {},
   "outputs": [],
   "source": [
    "kim = Human(29, \"홍길동\")\n",
    "sang = Human(29, \"홍길동\")\n",
    "moon = Human(44, \"문종민\")"
   ]
  },
  {
   "cell_type": "code",
   "execution_count": 104,
   "id": "89654ecc",
   "metadata": {},
   "outputs": [
    {
     "name": "stdout",
     "output_type": "stream",
     "text": [
      "True\n",
      "False\n"
     ]
    }
   ],
   "source": [
    "print(kim == sang)\n",
    "print(kim == moon)"
   ]
  },
  {
   "cell_type": "markdown",
   "id": "6ee598f3",
   "metadata": {},
   "source": [
    "## clsstr"
   ]
  },
  {
   "cell_type": "code",
   "execution_count": 107,
   "id": "108df5d5",
   "metadata": {},
   "outputs": [],
   "source": [
    "class Human:\n",
    "    def __init__(self, age, name):\n",
    "        self.age = age\n",
    "        self.name = name\n",
    "    def __str__(self):\n",
    "        return \"이름 %s, 나이 %d세\" % (self.name, self.age)"
   ]
  },
  {
   "cell_type": "code",
   "execution_count": 108,
   "id": "e59f99a2",
   "metadata": {},
   "outputs": [
    {
     "name": "stdout",
     "output_type": "stream",
     "text": [
      "이름 홍길동, 나이 29세\n"
     ]
    }
   ],
   "source": [
    "kim = Human(29, \"홍길동\")\n",
    "print(kim)"
   ]
  },
  {
   "cell_type": "markdown",
   "id": "676e62e2",
   "metadata": {},
   "source": [
    "## clslen"
   ]
  },
  {
   "cell_type": "code",
   "execution_count": 109,
   "id": "c1538399",
   "metadata": {},
   "outputs": [],
   "source": [
    "class Human:\n",
    "    def __init__(self, age, name):\n",
    "        self.age = age\n",
    "        self.name = name\n",
    "    def __len__(self):\n",
    "        return self.age"
   ]
  },
  {
   "cell_type": "code",
   "execution_count": 111,
   "id": "84c2c76c",
   "metadata": {},
   "outputs": [
    {
     "name": "stdout",
     "output_type": "stream",
     "text": [
      "29\n"
     ]
    }
   ],
   "source": [
    "kim = Human(29, \"홍길동\")\n",
    "print(len(kim))"
   ]
  },
  {
   "cell_type": "code",
   "execution_count": null,
   "id": "6db42aa7",
   "metadata": {},
   "outputs": [],
   "source": []
  }
 ],
 "metadata": {
  "kernelspec": {
   "display_name": "Python 3",
   "language": "python",
   "name": "python3"
  },
  "language_info": {
   "codemirror_mode": {
    "name": "ipython",
    "version": 3
   },
   "file_extension": ".py",
   "mimetype": "text/x-python",
   "name": "python",
   "nbconvert_exporter": "python",
   "pygments_lexer": "ipython3",
   "version": "3.8.8"
  }
 },
 "nbformat": 4,
 "nbformat_minor": 5
}
