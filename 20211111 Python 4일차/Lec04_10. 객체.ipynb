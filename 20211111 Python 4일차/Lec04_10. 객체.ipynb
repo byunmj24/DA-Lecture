{
 "cells": [
  {
   "cell_type": "code",
   "execution_count": 1,
   "id": "17bc2897",
   "metadata": {},
   "outputs": [],
   "source": [
    "class Cat():\n",
    "    pass"
   ]
  },
  {
   "cell_type": "code",
   "execution_count": 2,
   "id": "eca3a037",
   "metadata": {},
   "outputs": [],
   "source": [
    "a_cat = Cat()\n",
    "another_cat = Cat()"
   ]
  },
  {
   "cell_type": "code",
   "execution_count": 16,
   "id": "1654c953",
   "metadata": {},
   "outputs": [],
   "source": [
    "class Car():\n",
    "    def exclaim(self):\n",
    "        print(\"I'm a Car!\")\n",
    "    def __str__(self):\n",
    "        return \"Car\"\n",
    "    def __repr__(self):\n",
    "        return \"Class Car\"\n",
    "class Yugo(Car):\n",
    "    def exclaim(self):\n",
    "        print(\"I'm a Yugo! Much like a Car, but more Yugo-ish.\")"
   ]
  },
  {
   "cell_type": "code",
   "execution_count": 17,
   "id": "3365ef1a",
   "metadata": {},
   "outputs": [],
   "source": [
    "give_me_a_car = Car()\n",
    "give_me_a_yugo = Yugo()"
   ]
  },
  {
   "cell_type": "code",
   "execution_count": 18,
   "id": "e39f6719",
   "metadata": {},
   "outputs": [
    {
     "name": "stdout",
     "output_type": "stream",
     "text": [
      "I'm a Car!\n",
      "I'm a Yugo! Much like a Car, but more Yugo-ish.\n"
     ]
    }
   ],
   "source": [
    "give_me_a_car.exclaim()\n",
    "give_me_a_yugo.exclaim()"
   ]
  },
  {
   "cell_type": "code",
   "execution_count": 19,
   "id": "f714a2b7",
   "metadata": {},
   "outputs": [
    {
     "data": {
      "text/plain": [
       "Class Car"
      ]
     },
     "execution_count": 19,
     "metadata": {},
     "output_type": "execute_result"
    }
   ],
   "source": [
    "give_me_a_car"
   ]
  },
  {
   "cell_type": "code",
   "execution_count": 42,
   "id": "d278b3ab",
   "metadata": {},
   "outputs": [],
   "source": [
    "class Duck():\n",
    "    def __init__(self, input_name):\n",
    "        self.hidden_name = input_name\n",
    "    def get_name(self):\n",
    "        print(\"inside the getter\")\n",
    "        return self.hidden_name\n",
    "    def set_name(self, input_name):\n",
    "        self.hidden_name = input_name\n",
    "        print(\"inside the setter\")"
   ]
  },
  {
   "cell_type": "code",
   "execution_count": 36,
   "id": "ae2e46d5",
   "metadata": {},
   "outputs": [
    {
     "name": "stdout",
     "output_type": "stream",
     "text": [
      "inside the getter\n"
     ]
    },
    {
     "data": {
      "text/plain": [
       "'Donald'"
      ]
     },
     "execution_count": 36,
     "metadata": {},
     "output_type": "execute_result"
    }
   ],
   "source": [
    "don = Duck('Donald')\n",
    "don.get_name()"
   ]
  },
  {
   "cell_type": "code",
   "execution_count": 37,
   "id": "2f97f8af",
   "metadata": {},
   "outputs": [
    {
     "name": "stdout",
     "output_type": "stream",
     "text": [
      "inside the setter\n",
      "inside the getter\n"
     ]
    },
    {
     "data": {
      "text/plain": [
       "'철수'"
      ]
     },
     "execution_count": 37,
     "metadata": {},
     "output_type": "execute_result"
    }
   ],
   "source": [
    "don.set_name('철수')\n",
    "don.get_name()"
   ]
  },
  {
   "cell_type": "code",
   "execution_count": 38,
   "id": "5268747c",
   "metadata": {},
   "outputs": [
    {
     "data": {
      "text/plain": [
       "'철수'"
      ]
     },
     "execution_count": 38,
     "metadata": {},
     "output_type": "execute_result"
    }
   ],
   "source": [
    "don.hidden_name"
   ]
  },
  {
   "cell_type": "code",
   "execution_count": 43,
   "id": "b026f5c2",
   "metadata": {},
   "outputs": [],
   "source": [
    "class Duck():\n",
    "    def __init__(self, input_name):\n",
    "        self.hidden_name = input_name\n",
    "    @property\n",
    "    def name(self):\n",
    "        print(\"inside the getter\")\n",
    "        return self.hidden_name\n",
    "    @name.setter\n",
    "    def name(self, input_name):\n",
    "        self.hidden_name = input_name\n",
    "        print(\"inside the setter\")"
   ]
  },
  {
   "cell_type": "code",
   "execution_count": 45,
   "id": "e624275e",
   "metadata": {},
   "outputs": [
    {
     "name": "stdout",
     "output_type": "stream",
     "text": [
      "inside the getter\n"
     ]
    },
    {
     "data": {
      "text/plain": [
       "'Howard'"
      ]
     },
     "execution_count": 45,
     "metadata": {},
     "output_type": "execute_result"
    }
   ],
   "source": [
    "fowl = Duck('Howard')\n",
    "fowl.name"
   ]
  },
  {
   "cell_type": "code",
   "execution_count": 46,
   "id": "15bc6b60",
   "metadata": {},
   "outputs": [
    {
     "name": "stdout",
     "output_type": "stream",
     "text": [
      "inside the setter\n"
     ]
    }
   ],
   "source": [
    "fowl.name = 'Donald'"
   ]
  },
  {
   "cell_type": "code",
   "execution_count": 48,
   "id": "8e0e0c1b",
   "metadata": {},
   "outputs": [
    {
     "name": "stdout",
     "output_type": "stream",
     "text": [
      "inside the getter\n"
     ]
    },
    {
     "data": {
      "text/plain": [
       "'Donald'"
      ]
     },
     "execution_count": 48,
     "metadata": {},
     "output_type": "execute_result"
    }
   ],
   "source": [
    "fowl.name"
   ]
  },
  {
   "cell_type": "code",
   "execution_count": 51,
   "id": "c276cdd3",
   "metadata": {},
   "outputs": [],
   "source": [
    "class Duck():\n",
    "    def __init__(self, input_name):\n",
    "        self.__name = input_name\n",
    "    @property\n",
    "    def name(self):\n",
    "        print(\"inside the getter\")\n",
    "        return self.__name\n",
    "    @name.setter\n",
    "    def name(self, input_name):\n",
    "        self.__name = input_name\n",
    "        print(\"inside the setter\")"
   ]
  },
  {
   "cell_type": "code",
   "execution_count": 52,
   "id": "a397f6bf",
   "metadata": {},
   "outputs": [
    {
     "name": "stdout",
     "output_type": "stream",
     "text": [
      "inside the getter\n"
     ]
    },
    {
     "data": {
      "text/plain": [
       "'Donald'"
      ]
     },
     "execution_count": 52,
     "metadata": {},
     "output_type": "execute_result"
    }
   ],
   "source": [
    "fowl.name"
   ]
  },
  {
   "cell_type": "code",
   "execution_count": 55,
   "id": "073540f1",
   "metadata": {},
   "outputs": [
    {
     "data": {
      "text/plain": [
       "<__main__.Duck at 0x18e809d1400>"
      ]
     },
     "execution_count": 55,
     "metadata": {},
     "output_type": "execute_result"
    }
   ],
   "source": [
    "fowl"
   ]
  },
  {
   "cell_type": "code",
   "execution_count": 102,
   "id": "938796e0",
   "metadata": {},
   "outputs": [],
   "source": [
    "class Word:\n",
    "    def __init__(self, text):\n",
    "        self.text = text\n",
    "    def equals(self, words):\n",
    "        return self.text.lower() == words.text.lower()"
   ]
  },
  {
   "cell_type": "code",
   "execution_count": 103,
   "id": "a747bfc3",
   "metadata": {},
   "outputs": [],
   "source": [
    "word1 = Word(\"Love\")\n",
    "word2 = Word(\"love\")"
   ]
  },
  {
   "cell_type": "code",
   "execution_count": 104,
   "id": "5805fbd6",
   "metadata": {},
   "outputs": [
    {
     "data": {
      "text/plain": [
       "True"
      ]
     },
     "execution_count": 104,
     "metadata": {},
     "output_type": "execute_result"
    }
   ],
   "source": [
    "word1.equals(word2)"
   ]
  },
  {
   "cell_type": "code",
   "execution_count": 105,
   "id": "afe6618e",
   "metadata": {},
   "outputs": [
    {
     "data": {
      "text/plain": [
       "False"
      ]
     },
     "execution_count": 105,
     "metadata": {},
     "output_type": "execute_result"
    }
   ],
   "source": [
    "word1 == word2"
   ]
  },
  {
   "cell_type": "code",
   "execution_count": 112,
   "id": "e25b236d",
   "metadata": {},
   "outputs": [],
   "source": [
    "class Word:\n",
    "    def __init__(self, text):\n",
    "        self.text = text\n",
    "    def equals(self, words):\n",
    "        return self.text.lower() == words.text.lower()\n",
    "    def __eq__(self, words):\n",
    "        return self.text.lower() == words.text.lower()"
   ]
  },
  {
   "cell_type": "code",
   "execution_count": 113,
   "id": "621f6b79",
   "metadata": {},
   "outputs": [],
   "source": [
    "word1 = Word(\"Love\")\n",
    "word2 = Word(\"love\")"
   ]
  },
  {
   "cell_type": "code",
   "execution_count": 114,
   "id": "df14d44f",
   "metadata": {},
   "outputs": [
    {
     "data": {
      "text/plain": [
       "True"
      ]
     },
     "execution_count": 114,
     "metadata": {},
     "output_type": "execute_result"
    }
   ],
   "source": [
    "word1 == word2"
   ]
  },
  {
   "cell_type": "code",
   "execution_count": 115,
   "id": "1682406c",
   "metadata": {},
   "outputs": [
    {
     "name": "stdout",
     "output_type": "stream",
     "text": [
      "<__main__.Word object at 0x0000018E809AE250>\n"
     ]
    }
   ],
   "source": [
    "print(word1)"
   ]
  },
  {
   "cell_type": "code",
   "execution_count": 116,
   "id": "2da3f3a0",
   "metadata": {},
   "outputs": [],
   "source": [
    "class Word:\n",
    "    def __init__(self, text):\n",
    "        self.text = text\n",
    "    def equals(self, words):\n",
    "        return self.text.lower() == words.text.lower()\n",
    "    def __eq__(self, words):\n",
    "        return self.text.lower() == words.text.lower()\n",
    "    def __str__(self):\n",
    "        return self.text"
   ]
  },
  {
   "cell_type": "code",
   "execution_count": 118,
   "id": "1955ffc7",
   "metadata": {},
   "outputs": [],
   "source": [
    "word1 = Word(\"Love\")"
   ]
  },
  {
   "cell_type": "code",
   "execution_count": 119,
   "id": "b1bcda30",
   "metadata": {},
   "outputs": [
    {
     "name": "stdout",
     "output_type": "stream",
     "text": [
      "Love\n"
     ]
    }
   ],
   "source": [
    "print(word1)"
   ]
  },
  {
   "cell_type": "code",
   "execution_count": 130,
   "id": "b3af7c3b",
   "metadata": {},
   "outputs": [],
   "source": [
    "class Word:\n",
    "    def __init__(self, text):\n",
    "        self.text = text\n",
    "    def equals(self, words):\n",
    "        return self.text.lower() == words.text.lower()\n",
    "    def __eq__(self, words):\n",
    "        return self.text.lower() == words.text.lower()\n",
    "    def __str__(self):   # print 문에서 실행되는 모양\n",
    "        return self.text\n",
    "    def __repr__(self):  # print 문이 아닐때 출력되는 모양\n",
    "        return \"Word('\" + self.text + \"')\""
   ]
  },
  {
   "cell_type": "code",
   "execution_count": 135,
   "id": "816f0439",
   "metadata": {},
   "outputs": [
    {
     "name": "stdout",
     "output_type": "stream",
     "text": [
      "Love\n"
     ]
    }
   ],
   "source": [
    "word1 = Word(\"Love\")\n",
    "print(word1)"
   ]
  },
  {
   "cell_type": "code",
   "execution_count": 136,
   "id": "08d870e1",
   "metadata": {},
   "outputs": [
    {
     "data": {
      "text/plain": [
       "Word('love')"
      ]
     },
     "execution_count": 136,
     "metadata": {},
     "output_type": "execute_result"
    }
   ],
   "source": [
    "word2 = Word(\"love\")\n",
    "word2"
   ]
  },
  {
   "cell_type": "code",
   "execution_count": 148,
   "id": "48b8a87b",
   "metadata": {},
   "outputs": [],
   "source": [
    "class Word:\n",
    "    def __init__(self, text):\n",
    "        self.text = text\n",
    "    def equals(self, words):\n",
    "        return self.text.lower() == words.text.lower()\n",
    "    def __eq__(self, words):\n",
    "        return self.text.lower() == words.text.lower()\n",
    "    def __str__(self):   # print 문에서 실행되는 모양\n",
    "        return self.text\n",
    "    def __repr__(self):  # print 문이 아닐때 출력되는 모양\n",
    "        return \"Word('\" + self.text + \"')\"\n",
    "    def __add__(self, other):\n",
    "        return self.text + \" \" + other.text\n",
    "    def __sub__(self, other):\n",
    "        return self.text.replace(other.text, \"\")"
   ]
  },
  {
   "cell_type": "code",
   "execution_count": 149,
   "id": "d579850a",
   "metadata": {},
   "outputs": [
    {
     "data": {
      "text/plain": [
       "'Love love'"
      ]
     },
     "execution_count": 149,
     "metadata": {},
     "output_type": "execute_result"
    }
   ],
   "source": [
    "word1 = Word(\"Love\")\n",
    "word2 = Word(\"love\")\n",
    "word1 + word2"
   ]
  },
  {
   "cell_type": "code",
   "execution_count": 153,
   "id": "5ddc56d8",
   "metadata": {},
   "outputs": [
    {
     "data": {
      "text/plain": [
       "'student class  stair'"
      ]
     },
     "execution_count": 153,
     "metadata": {},
     "output_type": "execute_result"
    }
   ],
   "source": [
    "word3 = Word(\"student class room stair\")\n",
    "word4 = Word(\"room\")\n",
    "word3 - word4"
   ]
  },
  {
   "cell_type": "code",
   "execution_count": null,
   "id": "ab9df4f1",
   "metadata": {},
   "outputs": [],
   "source": []
  }
 ],
 "metadata": {
  "kernelspec": {
   "display_name": "Python 3",
   "language": "python",
   "name": "python3"
  },
  "language_info": {
   "codemirror_mode": {
    "name": "ipython",
    "version": 3
   },
   "file_extension": ".py",
   "mimetype": "text/x-python",
   "name": "python",
   "nbconvert_exporter": "python",
   "pygments_lexer": "ipython3",
   "version": "3.8.8"
  }
 },
 "nbformat": 4,
 "nbformat_minor": 5
}
