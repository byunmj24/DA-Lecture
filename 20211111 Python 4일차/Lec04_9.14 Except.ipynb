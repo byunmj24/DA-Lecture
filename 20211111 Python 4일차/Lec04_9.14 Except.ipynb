{
 "cells": [
  {
   "cell_type": "code",
   "execution_count": 1,
   "id": "a2886e31",
   "metadata": {},
   "outputs": [],
   "source": [
    "short_list =list(range(1,11))"
   ]
  },
  {
   "cell_type": "code",
   "execution_count": 2,
   "id": "39d470c6",
   "metadata": {},
   "outputs": [
    {
     "data": {
      "text/plain": [
       "[1, 2, 3, 4, 5, 6, 7, 8, 9, 10]"
      ]
     },
     "execution_count": 2,
     "metadata": {},
     "output_type": "execute_result"
    }
   ],
   "source": [
    "short_list"
   ]
  },
  {
   "cell_type": "code",
   "execution_count": 4,
   "id": "4fdbefcf",
   "metadata": {},
   "outputs": [
    {
     "ename": "IndexError",
     "evalue": "list index out of range",
     "output_type": "error",
     "traceback": [
      "\u001b[1;31m---------------------------------------------------------------------------\u001b[0m",
      "\u001b[1;31mIndexError\u001b[0m                                Traceback (most recent call last)",
      "\u001b[1;32m<ipython-input-4-8d67de1a6e30>\u001b[0m in \u001b[0;36m<module>\u001b[1;34m\u001b[0m\n\u001b[1;32m----> 1\u001b[1;33m \u001b[0mshort_list\u001b[0m\u001b[1;33m[\u001b[0m\u001b[1;36m10\u001b[0m\u001b[1;33m]\u001b[0m\u001b[1;33m\u001b[0m\u001b[1;33m\u001b[0m\u001b[0m\n\u001b[0m",
      "\u001b[1;31mIndexError\u001b[0m: list index out of range"
     ]
    }
   ],
   "source": [
    "short_list[10]"
   ]
  },
  {
   "cell_type": "code",
   "execution_count": 6,
   "id": "369e3ee0",
   "metadata": {},
   "outputs": [
    {
     "name": "stdout",
     "output_type": "stream",
     "text": [
      "Need as position between 0 and 10\n"
     ]
    }
   ],
   "source": [
    "try:\n",
    "    short_list[11]\n",
    "except:\n",
    "    print(\"Need as position between 0 and\" , len(short_list))"
   ]
  },
  {
   "cell_type": "code",
   "execution_count": 9,
   "id": "0c6fa24b",
   "metadata": {},
   "outputs": [
    {
     "name": "stdout",
     "output_type": "stream",
     "text": [
      "인덱스 [q to quit] ? 3\n",
      "4\n",
      "인덱스 [q to quit] ? d\n",
      "무언가 예외를 발생 해서 멈춤  invalid literal for int() with base 10: 'd'\n",
      "인덱스 [q to quit] ? q\n"
     ]
    }
   ],
   "source": [
    "short_list = [1,2,3,4,5]\n",
    "while True:\n",
    "    value = input('인덱스 [q to quit] ? ')\n",
    "    if value == 'q':\n",
    "        break\n",
    "    try :\n",
    "        position = int(value)\n",
    "        print(short_list[position])\n",
    "    except IndexError as err:\n",
    "        print('잘못된 인덱스 ', position)\n",
    "    except Exception as other:\n",
    "        print('무언가 예외를 발생 해서 멈춤 ', other)"
   ]
  },
  {
   "cell_type": "code",
   "execution_count": null,
   "id": "0eea4b76",
   "metadata": {},
   "outputs": [],
   "source": []
  }
 ],
 "metadata": {
  "kernelspec": {
   "display_name": "Python 3",
   "language": "python",
   "name": "python3"
  },
  "language_info": {
   "codemirror_mode": {
    "name": "ipython",
    "version": 3
   },
   "file_extension": ".py",
   "mimetype": "text/x-python",
   "name": "python",
   "nbconvert_exporter": "python",
   "pygments_lexer": "ipython3",
   "version": "3.8.8"
  }
 },
 "nbformat": 4,
 "nbformat_minor": 5
}
