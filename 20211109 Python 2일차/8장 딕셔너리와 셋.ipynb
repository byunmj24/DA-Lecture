{
 "cells": [
  {
   "cell_type": "code",
   "execution_count": 1,
   "id": "1a5caba0",
   "metadata": {},
   "outputs": [],
   "source": [
    "empty_dict = {}"
   ]
  },
  {
   "cell_type": "code",
   "execution_count": 2,
   "id": "b15061f1",
   "metadata": {},
   "outputs": [
    {
     "data": {
      "text/plain": [
       "dict"
      ]
     },
     "execution_count": 2,
     "metadata": {},
     "output_type": "execute_result"
    }
   ],
   "source": [
    "type(empty_dict)"
   ]
  },
  {
   "cell_type": "code",
   "execution_count": 3,
   "id": "61b41e7b",
   "metadata": {},
   "outputs": [],
   "source": [
    "acme_customer = {'first':'Wile', 'middle':'E', 'last':'Coyote'}"
   ]
  },
  {
   "cell_type": "code",
   "execution_count": 4,
   "id": "d55323e0",
   "metadata": {},
   "outputs": [
    {
     "data": {
      "text/plain": [
       "'Wile'"
      ]
     },
     "execution_count": 4,
     "metadata": {},
     "output_type": "execute_result"
    }
   ],
   "source": [
    "acme_customer['first']"
   ]
  },
  {
   "cell_type": "code",
   "execution_count": 5,
   "id": "8fb687c4",
   "metadata": {},
   "outputs": [],
   "source": [
    "los = ['ab', 'cd', 'ef']"
   ]
  },
  {
   "cell_type": "code",
   "execution_count": 6,
   "id": "24f78074",
   "metadata": {},
   "outputs": [],
   "source": [
    "dit_los = dict(los)"
   ]
  },
  {
   "cell_type": "code",
   "execution_count": 8,
   "id": "45fe8424",
   "metadata": {},
   "outputs": [
    {
     "data": {
      "text/plain": [
       "'b'"
      ]
     },
     "execution_count": 8,
     "metadata": {},
     "output_type": "execute_result"
    }
   ],
   "source": [
    "dit_los['a']"
   ]
  },
  {
   "cell_type": "code",
   "execution_count": 9,
   "id": "beabcfd7",
   "metadata": {},
   "outputs": [],
   "source": [
    "signals = {'green':'go', 'yellow':'go faster', 'red':'smile for the camera'}"
   ]
  },
  {
   "cell_type": "code",
   "execution_count": 10,
   "id": "5f7344a7",
   "metadata": {},
   "outputs": [],
   "source": [
    "signals['green'] = 'run'"
   ]
  },
  {
   "cell_type": "code",
   "execution_count": 11,
   "id": "0705fc7f",
   "metadata": {},
   "outputs": [
    {
     "data": {
      "text/plain": [
       "{'green': 'run', 'yellow': 'go faster', 'red': 'smile for the camera'}"
      ]
     },
     "execution_count": 11,
     "metadata": {},
     "output_type": "execute_result"
    }
   ],
   "source": [
    "signals"
   ]
  },
  {
   "cell_type": "code",
   "execution_count": 12,
   "id": "7ea616c2",
   "metadata": {},
   "outputs": [
    {
     "data": {
      "text/plain": [
       "dict_keys(['green', 'yellow', 'red'])"
      ]
     },
     "execution_count": 12,
     "metadata": {},
     "output_type": "execute_result"
    }
   ],
   "source": [
    "signals.keys()"
   ]
  },
  {
   "cell_type": "code",
   "execution_count": 13,
   "id": "e38c01de",
   "metadata": {},
   "outputs": [
    {
     "data": {
      "text/plain": [
       "dict_items([('green', 'run'), ('yellow', 'go faster'), ('red', 'smile for the camera')])"
      ]
     },
     "execution_count": 13,
     "metadata": {},
     "output_type": "execute_result"
    }
   ],
   "source": [
    "signals.items()"
   ]
  },
  {
   "cell_type": "code",
   "execution_count": 14,
   "id": "f08ae148",
   "metadata": {},
   "outputs": [
    {
     "data": {
      "text/plain": [
       "dict_values(['run', 'go faster', 'smile for the camera'])"
      ]
     },
     "execution_count": 14,
     "metadata": {},
     "output_type": "execute_result"
    }
   ],
   "source": [
    "signals.values()"
   ]
  },
  {
   "cell_type": "code",
   "execution_count": 15,
   "id": "dce3ef91",
   "metadata": {},
   "outputs": [],
   "source": [
    "signals['blue'] = 'cry'"
   ]
  },
  {
   "cell_type": "code",
   "execution_count": 16,
   "id": "faaebd44",
   "metadata": {},
   "outputs": [
    {
     "data": {
      "text/plain": [
       "{'green': 'run',\n",
       " 'yellow': 'go faster',\n",
       " 'red': 'smile for the camera',\n",
       " 'blue': 'cry'}"
      ]
     },
     "execution_count": 16,
     "metadata": {},
     "output_type": "execute_result"
    }
   ],
   "source": [
    "signals"
   ]
  },
  {
   "cell_type": "code",
   "execution_count": 18,
   "id": "0af60567",
   "metadata": {},
   "outputs": [],
   "source": [
    "signals['black'] = 'run'"
   ]
  },
  {
   "cell_type": "code",
   "execution_count": 19,
   "id": "e4719b1b",
   "metadata": {},
   "outputs": [],
   "source": [
    "del signals['green']"
   ]
  },
  {
   "cell_type": "code",
   "execution_count": 20,
   "id": "c3bece10",
   "metadata": {},
   "outputs": [
    {
     "data": {
      "text/plain": [
       "{'yellow': 'go faster',\n",
       " 'red': 'smile for the camera',\n",
       " 'blue': 'cry',\n",
       " 'black': 'run'}"
      ]
     },
     "execution_count": 20,
     "metadata": {},
     "output_type": "execute_result"
    }
   ],
   "source": [
    "signals"
   ]
  },
  {
   "cell_type": "code",
   "execution_count": 21,
   "id": "9781f439",
   "metadata": {},
   "outputs": [],
   "source": [
    "signals['orange'] = signals.pop('yellow')"
   ]
  },
  {
   "cell_type": "code",
   "execution_count": 22,
   "id": "73b0d9ff",
   "metadata": {},
   "outputs": [
    {
     "data": {
      "text/plain": [
       "{'red': 'smile for the camera',\n",
       " 'blue': 'cry',\n",
       " 'black': 'run',\n",
       " 'orange': 'go faster'}"
      ]
     },
     "execution_count": 22,
     "metadata": {},
     "output_type": "execute_result"
    }
   ],
   "source": [
    "signals"
   ]
  },
  {
   "cell_type": "code",
   "execution_count": 23,
   "id": "3dd089b2",
   "metadata": {},
   "outputs": [],
   "source": [
    "signals.update({'white':'laugh', 'pink':'blink'})"
   ]
  },
  {
   "cell_type": "code",
   "execution_count": 24,
   "id": "7067a911",
   "metadata": {},
   "outputs": [
    {
     "data": {
      "text/plain": [
       "{'red': 'smile for the camera',\n",
       " 'blue': 'cry',\n",
       " 'black': 'run',\n",
       " 'orange': 'go faster',\n",
       " 'white': 'laugh',\n",
       " 'pink': 'blink'}"
      ]
     },
     "execution_count": 24,
     "metadata": {},
     "output_type": "execute_result"
    }
   ],
   "source": [
    "signals"
   ]
  },
  {
   "cell_type": "code",
   "execution_count": 25,
   "id": "b167d3d5",
   "metadata": {},
   "outputs": [],
   "source": [
    "myList = list(range(1,9))"
   ]
  },
  {
   "cell_type": "code",
   "execution_count": 26,
   "id": "352cb86f",
   "metadata": {},
   "outputs": [],
   "source": [
    "bList = myList.copy()"
   ]
  },
  {
   "cell_type": "code",
   "execution_count": 27,
   "id": "8bdfa8d2",
   "metadata": {},
   "outputs": [],
   "source": [
    "bList[0] = 1000"
   ]
  },
  {
   "cell_type": "code",
   "execution_count": 28,
   "id": "e8b76322",
   "metadata": {},
   "outputs": [
    {
     "data": {
      "text/plain": [
       "[1, 2, 3, 4, 5, 6, 7, 8]"
      ]
     },
     "execution_count": 28,
     "metadata": {},
     "output_type": "execute_result"
    }
   ],
   "source": [
    "myList"
   ]
  },
  {
   "cell_type": "code",
   "execution_count": 29,
   "id": "b0a46cda",
   "metadata": {},
   "outputs": [
    {
     "data": {
      "text/plain": [
       "[1000, 2, 3, 4, 5, 6, 7, 8]"
      ]
     },
     "execution_count": 29,
     "metadata": {},
     "output_type": "execute_result"
    }
   ],
   "source": [
    "bList"
   ]
  },
  {
   "cell_type": "code",
   "execution_count": 32,
   "id": "eb6a5437",
   "metadata": {},
   "outputs": [],
   "source": [
    "word = 'letters'"
   ]
  },
  {
   "cell_type": "code",
   "execution_count": 34,
   "id": "47f069a3",
   "metadata": {},
   "outputs": [
    {
     "data": {
      "text/plain": [
       "0"
      ]
     },
     "execution_count": 34,
     "metadata": {},
     "output_type": "execute_result"
    }
   ],
   "source": [
    "word.count('2')"
   ]
  },
  {
   "cell_type": "code",
   "execution_count": 36,
   "id": "edd580c7",
   "metadata": {},
   "outputs": [
    {
     "data": {
      "text/plain": [
       "{'l': 1, 'e': 2, 't': 2, 'r': 1, 's': 1}"
      ]
     },
     "execution_count": 36,
     "metadata": {},
     "output_type": "execute_result"
    }
   ],
   "source": [
    "{letter:word.count(letter) for letter in word}"
   ]
  },
  {
   "cell_type": "code",
   "execution_count": 37,
   "id": "33de398b",
   "metadata": {},
   "outputs": [
    {
     "data": {
      "text/plain": [
       "{'e', 'l', 'r', 's', 't'}"
      ]
     },
     "execution_count": 37,
     "metadata": {},
     "output_type": "execute_result"
    }
   ],
   "source": [
    "set(word)"
   ]
  },
  {
   "cell_type": "code",
   "execution_count": 38,
   "id": "73b014eb",
   "metadata": {},
   "outputs": [
    {
     "data": {
      "text/plain": [
       "{'l': 1, 's': 1, 'r': 1, 't': 2, 'e': 2}"
      ]
     },
     "execution_count": 38,
     "metadata": {},
     "output_type": "execute_result"
    }
   ],
   "source": [
    "{letter:word.count(letter) for letter in set(word)}"
   ]
  },
  {
   "cell_type": "code",
   "execution_count": null,
   "id": "4cf317fa",
   "metadata": {},
   "outputs": [],
   "source": []
  }
 ],
 "metadata": {
  "kernelspec": {
   "display_name": "Python 3",
   "language": "python",
   "name": "python3"
  },
  "language_info": {
   "codemirror_mode": {
    "name": "ipython",
    "version": 3
   },
   "file_extension": ".py",
   "mimetype": "text/x-python",
   "name": "python",
   "nbconvert_exporter": "python",
   "pygments_lexer": "ipython3",
   "version": "3.8.8"
  }
 },
 "nbformat": 4,
 "nbformat_minor": 5
}
