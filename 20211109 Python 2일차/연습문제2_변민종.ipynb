{
 "cells": [
  {
   "cell_type": "markdown",
   "id": "d7e16fc6",
   "metadata": {},
   "source": [
    "# 6.5 연습문제"
   ]
  },
  {
   "cell_type": "markdown",
   "id": "d2812464",
   "metadata": {},
   "source": [
    "## 6.1 \n",
    "for 문으로 리스트 [3, 2, 1, 0]를 출력해보자."
   ]
  },
  {
   "cell_type": "code",
   "execution_count": 26,
   "id": "81585873",
   "metadata": {},
   "outputs": [
    {
     "name": "stdout",
     "output_type": "stream",
     "text": [
      "3\n",
      "2\n",
      "1\n",
      "0\n"
     ]
    }
   ],
   "source": [
    "numList = list(range(3, -1, -1))\n",
    "for x in numList:\n",
    "    print(x)"
   ]
  },
  {
   "cell_type": "markdown",
   "id": "9e74940e",
   "metadata": {},
   "source": [
    "## 6.2 \n",
    "guess_me 변수에 7을 할당하고, number 변수에 1을 할당한다. number와 guess_me를 비교하는 while 문을 작성해보자. number가 guess_me보다 작으면 'too low'를 출력한다. number와 guess_me가 같으면 'found it!'을 출력하고 반복문을 종료한다. number가 guess_me보다 크면 'oops'를 출력하고 반복문을 종료한다. 그리고 반복문의 마지막에 number를 1씩 증가시킨다.\n"
   ]
  },
  {
   "cell_type": "code",
   "execution_count": 29,
   "id": "aaa8bf1a",
   "metadata": {},
   "outputs": [
    {
     "name": "stdout",
     "output_type": "stream",
     "text": [
      "too low\n",
      "too low\n",
      "too low\n",
      "too low\n",
      "too low\n",
      "too low\n",
      "found it!\n"
     ]
    }
   ],
   "source": [
    "guess_me = 7\n",
    "number = 1\n",
    "while True:\n",
    "    if number < guess_me:\n",
    "        print('too low')\n",
    "    elif number == guess_me:\n",
    "        print('found it!')\n",
    "        break\n",
    "    else:\n",
    "        print('oops')\n",
    "        break\n",
    "    number += 1"
   ]
  },
  {
   "cell_type": "markdown",
   "id": "c981f297",
   "metadata": {},
   "source": [
    "## 6.3\n",
    "guess_me 변수에 5를 할당하고, for문을 사용하여 range(10)에서 number 변수를 사용한다. number가 guess_me보다 작으면 'too low'를 출력한다. number와 guess_me가 같으면 'found it!'을 출력하고 반복문을 종료한다. number가 guess_me보다 크면 'oops'를 출력하고 반복문을 종료한다."
   ]
  },
  {
   "cell_type": "code",
   "execution_count": 35,
   "id": "470a25b4",
   "metadata": {},
   "outputs": [
    {
     "name": "stdout",
     "output_type": "stream",
     "text": [
      "too low\n",
      "too low\n",
      "too low\n",
      "too low\n",
      "too low\n",
      "found it!\n"
     ]
    }
   ],
   "source": [
    "guess_me = 5\n",
    "for number in range(10):\n",
    "    if number < guess_me:\n",
    "        print('too low')\n",
    "    elif number == guess_me:\n",
    "        print('found it!')\n",
    "        break\n",
    "    else:\n",
    "        print('oops')\n",
    "        break"
   ]
  },
  {
   "cell_type": "markdown",
   "id": "8356e7ef",
   "metadata": {},
   "source": [
    "# 7.6 연습문제"
   ]
  },
  {
   "cell_type": "markdown",
   "id": "89b0876f",
   "metadata": {},
   "source": [
    "## 7.1\n"
   ]
  },
  {
   "cell_type": "code",
   "execution_count": 36,
   "id": "534d9efe",
   "metadata": {},
   "outputs": [
    {
     "data": {
      "text/plain": [
       "[1990, 1991, 1992, 1993, 1994, 1995]"
      ]
     },
     "execution_count": 36,
     "metadata": {},
     "output_type": "execute_result"
    }
   ],
   "source": [
    "year_lists = [1990]\n",
    "while len(year_lists) <= 5:\n",
    "    year_lists.append(year_lists[0] + len(year_lists))\n",
    "\n",
    "year_lists"
   ]
  },
  {
   "cell_type": "markdown",
   "id": "f4a45d23",
   "metadata": {},
   "source": [
    "## 7.2"
   ]
  },
  {
   "cell_type": "code",
   "execution_count": 31,
   "id": "5bf965df",
   "metadata": {},
   "outputs": [
    {
     "data": {
      "text/plain": [
       "1993"
      ]
     },
     "execution_count": 31,
     "metadata": {},
     "output_type": "execute_result"
    }
   ],
   "source": [
    "year_lists[3]"
   ]
  },
  {
   "cell_type": "markdown",
   "id": "8011711d",
   "metadata": {},
   "source": [
    "## 7.3"
   ]
  },
  {
   "cell_type": "code",
   "execution_count": 33,
   "id": "722ade7e",
   "metadata": {},
   "outputs": [
    {
     "data": {
      "text/plain": [
       "1995"
      ]
     },
     "execution_count": 33,
     "metadata": {},
     "output_type": "execute_result"
    }
   ],
   "source": [
    "year_lists[-1]"
   ]
  },
  {
   "cell_type": "markdown",
   "id": "4421c786",
   "metadata": {},
   "source": [
    "## 7.4"
   ]
  },
  {
   "cell_type": "code",
   "execution_count": 38,
   "id": "c7f7ec71",
   "metadata": {},
   "outputs": [
    {
     "data": {
      "text/plain": [
       "['mozzarella', 'cinderella', 'salmonella']"
      ]
     },
     "execution_count": 38,
     "metadata": {},
     "output_type": "execute_result"
    }
   ],
   "source": [
    "things = [\"mozzarella\", 'cinderella', 'salmonella']\n",
    "things"
   ]
  },
  {
   "cell_type": "markdown",
   "id": "89c2642c",
   "metadata": {},
   "source": [
    "## 7.5"
   ]
  },
  {
   "cell_type": "code",
   "execution_count": 41,
   "id": "725810aa",
   "metadata": {},
   "outputs": [
    {
     "data": {
      "text/plain": [
       "'Cinderella'"
      ]
     },
     "execution_count": 41,
     "metadata": {},
     "output_type": "execute_result"
    }
   ],
   "source": [
    "things[1].capitalize()"
   ]
  },
  {
   "cell_type": "code",
   "execution_count": 42,
   "id": "fa0e5714",
   "metadata": {},
   "outputs": [
    {
     "data": {
      "text/plain": [
       "['mozzarella', 'cinderella', 'salmonella']"
      ]
     },
     "execution_count": 42,
     "metadata": {},
     "output_type": "execute_result"
    }
   ],
   "source": [
    "things"
   ]
  },
  {
   "cell_type": "markdown",
   "id": "d77910dd",
   "metadata": {},
   "source": [
    "## 7.6"
   ]
  },
  {
   "cell_type": "code",
   "execution_count": 45,
   "id": "15363b1a",
   "metadata": {},
   "outputs": [
    {
     "data": {
      "text/plain": [
       "['MOZZARELLA', 'cinderella', 'salmonella']"
      ]
     },
     "execution_count": 45,
     "metadata": {},
     "output_type": "execute_result"
    }
   ],
   "source": [
    "things[0] = things[0].upper()\n",
    "things"
   ]
  },
  {
   "cell_type": "markdown",
   "id": "cb712b48",
   "metadata": {},
   "source": [
    "## 7.7"
   ]
  },
  {
   "cell_type": "code",
   "execution_count": 46,
   "id": "ac08c61c",
   "metadata": {},
   "outputs": [
    {
     "data": {
      "text/plain": [
       "['MOZZARELLA', 'cinderella']"
      ]
     },
     "execution_count": 46,
     "metadata": {},
     "output_type": "execute_result"
    }
   ],
   "source": [
    "things.remove('salmonella')\n",
    "things"
   ]
  },
  {
   "cell_type": "markdown",
   "id": "c392b4c3",
   "metadata": {},
   "source": [
    "## 7.8"
   ]
  },
  {
   "cell_type": "code",
   "execution_count": 48,
   "id": "25de4ec2",
   "metadata": {},
   "outputs": [
    {
     "data": {
      "text/plain": [
       "['Groucho', 'Chico', 'Harpo']"
      ]
     },
     "execution_count": 48,
     "metadata": {},
     "output_type": "execute_result"
    }
   ],
   "source": [
    "surprise = ['Groucho', 'Chico', 'Harpo']\n",
    "surprise"
   ]
  },
  {
   "cell_type": "markdown",
   "id": "56a90dea",
   "metadata": {},
   "source": [
    "## 7.9"
   ]
  },
  {
   "cell_type": "code",
   "execution_count": 52,
   "id": "56e7a64f",
   "metadata": {},
   "outputs": [
    {
     "data": {
      "text/plain": [
       "'Oprah'"
      ]
     },
     "execution_count": 52,
     "metadata": {},
     "output_type": "execute_result"
    }
   ],
   "source": [
    "surprise[-1].lower()[::-1].capitalize()"
   ]
  },
  {
   "cell_type": "markdown",
   "id": "4ed68a70",
   "metadata": {},
   "source": [
    "## 7.10"
   ]
  },
  {
   "cell_type": "code",
   "execution_count": 58,
   "id": "2d57532d",
   "metadata": {},
   "outputs": [
    {
     "data": {
      "text/plain": [
       "[0, 2, 4, 6, 8]"
      ]
     },
     "execution_count": 58,
     "metadata": {},
     "output_type": "execute_result"
    }
   ],
   "source": [
    "[n for n in range(10) if n % 2 == 0]"
   ]
  },
  {
   "cell_type": "markdown",
   "id": "f2e4e614",
   "metadata": {},
   "source": [
    "## 7.11"
   ]
  },
  {
   "cell_type": "code",
   "execution_count": 59,
   "id": "e8134bcb",
   "metadata": {},
   "outputs": [],
   "source": [
    "start1 = ['fee', 'fie', 'foe']\n",
    "rhymes = [\n",
    "    ('flop', 'get a mop'),\n",
    "    ('fope', 'turn the rope'),\n",
    "    ('fa', 'get your ma'),\n",
    "    ('fudge', 'call the judge'),\n",
    "    ('fat', 'pet the cat'),\n",
    "    ('fog', 'walk the dog'),\n",
    "    ('fun',\"say we'r done\"),\n",
    "    ]\n",
    "start2 = \"Someone better\""
   ]
  },
  {
   "cell_type": "code",
   "execution_count": 67,
   "id": "8733503c",
   "metadata": {},
   "outputs": [
    {
     "name": "stdout",
     "output_type": "stream",
     "text": [
      "Fee !  Fie !  Foe !  Flop !\n",
      "Someone better get a mop .\n",
      "Fee !  Fie !  Foe !  Fope !\n",
      "Someone better turn the rope .\n",
      "Fee !  Fie !  Foe !  Fa !\n",
      "Someone better get your ma .\n",
      "Fee !  Fie !  Foe !  Fudge !\n",
      "Someone better call the judge .\n",
      "Fee !  Fie !  Foe !  Fat !\n",
      "Someone better pet the cat .\n",
      "Fee !  Fie !  Foe !  Fog !\n",
      "Someone better walk the dog .\n",
      "Fee !  Fie !  Foe !  Fun !\n",
      "Someone better say we'r done .\n"
     ]
    }
   ],
   "source": [
    "for f in rhymes:\n",
    "    print(start1[0].capitalize(), \"! \", start1[1].capitalize(), \"! \", start1[2].capitalize(), \"! \", f[0].capitalize(), \"!\")\n",
    "    print(start2, ' ',f[1], '.')"
   ]
  },
  {
   "cell_type": "code",
   "execution_count": 68,
   "id": "e002a257",
   "metadata": {},
   "outputs": [
    {
     "name": "stdout",
     "output_type": "stream",
     "text": [
      "Fee! Fie! Foe! Flop!\n",
      "Someone better get a mop.\n",
      "Fee! Fie! Foe! Fope!\n",
      "Someone better turn the rope.\n",
      "Fee! Fie! Foe! Fa!\n",
      "Someone better get your ma.\n",
      "Fee! Fie! Foe! Fudge!\n",
      "Someone better call the judge.\n",
      "Fee! Fie! Foe! Fat!\n",
      "Someone better pet the cat.\n",
      "Fee! Fie! Foe! Fog!\n",
      "Someone better walk the dog.\n",
      "Fee! Fie! Foe! Fun!\n",
      "Someone better say we'r done.\n"
     ]
    }
   ],
   "source": [
    "start1_caps = \" \".join([word.capitalize() + \"!\" for word in start1])\n",
    "for first, second in rhymes:\n",
    "    print(f\"{start1_caps} {first.capitalize()}!\")\n",
    "    print(f\"{start2} {second}.\")"
   ]
  },
  {
   "cell_type": "markdown",
   "id": "7e837ce7",
   "metadata": {},
   "source": [
    "# 8.5 연습문제"
   ]
  },
  {
   "cell_type": "markdown",
   "id": "67f79703",
   "metadata": {},
   "source": [
    "## 8.1"
   ]
  },
  {
   "cell_type": "code",
   "execution_count": 69,
   "id": "ae1b0588",
   "metadata": {},
   "outputs": [],
   "source": [
    "e2f = {'dog':'chien', 'cat':'chat', 'walrus':'morse'}"
   ]
  },
  {
   "cell_type": "markdown",
   "id": "db331592",
   "metadata": {},
   "source": [
    "## 8.2"
   ]
  },
  {
   "cell_type": "code",
   "execution_count": 71,
   "id": "f24ac9ec",
   "metadata": {},
   "outputs": [
    {
     "data": {
      "text/plain": [
       "'morse'"
      ]
     },
     "execution_count": 71,
     "metadata": {},
     "output_type": "execute_result"
    }
   ],
   "source": [
    "e2f['walrus']"
   ]
  },
  {
   "cell_type": "code",
   "execution_count": 72,
   "id": "d5e1019b",
   "metadata": {},
   "outputs": [
    {
     "data": {
      "text/plain": [
       "'morse'"
      ]
     },
     "execution_count": 72,
     "metadata": {},
     "output_type": "execute_result"
    }
   ],
   "source": [
    "e2f.get('walrus')"
   ]
  },
  {
   "cell_type": "markdown",
   "id": "14f17183",
   "metadata": {},
   "source": [
    "## 8.3"
   ]
  },
  {
   "cell_type": "code",
   "execution_count": 118,
   "id": "9205192e",
   "metadata": {},
   "outputs": [
    {
     "data": {
      "text/plain": [
       "{'chien': 'dog', 'chat': 'cat', 'morse': 'walrus'}"
      ]
     },
     "execution_count": 118,
     "metadata": {},
     "output_type": "execute_result"
    }
   ],
   "source": [
    "e2f_list = list(e2f.items())\n",
    "e2f_list\n",
    "f2e = {}\n",
    "for a, b in e2f_list:\n",
    "    f2e.update({b:a})\n",
    "\n",
    "f2e"
   ]
  },
  {
   "cell_type": "markdown",
   "id": "23f8f6d6",
   "metadata": {},
   "source": [
    "## 8.4"
   ]
  },
  {
   "cell_type": "code",
   "execution_count": 105,
   "id": "b614de7e",
   "metadata": {},
   "outputs": [
    {
     "data": {
      "text/plain": [
       "'dog'"
      ]
     },
     "execution_count": 105,
     "metadata": {},
     "output_type": "execute_result"
    }
   ],
   "source": [
    "fr = list(e2f.values())\n",
    "en = list(e2f.keys())\n",
    "en[fr.index('chien')]"
   ]
  },
  {
   "cell_type": "markdown",
   "id": "063882bc",
   "metadata": {},
   "source": [
    "## 8.5"
   ]
  },
  {
   "cell_type": "code",
   "execution_count": 107,
   "id": "49a4aed8",
   "metadata": {},
   "outputs": [
    {
     "data": {
      "text/plain": [
       "['dog', 'cat', 'walrus']"
      ]
     },
     "execution_count": 107,
     "metadata": {},
     "output_type": "execute_result"
    }
   ],
   "source": [
    "list(e2f.keys())"
   ]
  },
  {
   "cell_type": "markdown",
   "id": "f9e5ac2c",
   "metadata": {},
   "source": [
    "## 8.6"
   ]
  },
  {
   "cell_type": "code",
   "execution_count": 121,
   "id": "85fe3cff",
   "metadata": {},
   "outputs": [],
   "source": [
    "life = {\n",
    "    'animals':{'cats':'Henri', 'octopi':'Grumpy', 'emus':'Lucy'},\n",
    "    'plants':{},\n",
    "    'other':{}    \n",
    "       }"
   ]
  },
  {
   "cell_type": "code",
   "execution_count": 122,
   "id": "c93a01d9",
   "metadata": {},
   "outputs": [
    {
     "data": {
      "text/plain": [
       "{'animals': {'cats': 'Henri', 'octopi': 'Grumpy', 'emus': 'Lucy'},\n",
       " 'plants': {},\n",
       " 'other': {}}"
      ]
     },
     "execution_count": 122,
     "metadata": {},
     "output_type": "execute_result"
    }
   ],
   "source": [
    "life"
   ]
  },
  {
   "cell_type": "code",
   "execution_count": 126,
   "id": "ef1a8905",
   "metadata": {},
   "outputs": [
    {
     "data": {
      "text/plain": [
       "dict"
      ]
     },
     "execution_count": 126,
     "metadata": {},
     "output_type": "execute_result"
    }
   ],
   "source": [
    "type(life)"
   ]
  },
  {
   "cell_type": "code",
   "execution_count": 127,
   "id": "449cc4c3",
   "metadata": {},
   "outputs": [
    {
     "data": {
      "text/plain": [
       "dict"
      ]
     },
     "execution_count": 127,
     "metadata": {},
     "output_type": "execute_result"
    }
   ],
   "source": [
    "type(life['animals'])"
   ]
  },
  {
   "cell_type": "markdown",
   "id": "e180b20d",
   "metadata": {},
   "source": [
    "## 8.7"
   ]
  },
  {
   "cell_type": "code",
   "execution_count": 129,
   "id": "3daff4d0",
   "metadata": {},
   "outputs": [
    {
     "data": {
      "text/plain": [
       "['animals', 'plants', 'other']"
      ]
     },
     "execution_count": 129,
     "metadata": {},
     "output_type": "execute_result"
    }
   ],
   "source": [
    "list(life.keys())"
   ]
  },
  {
   "cell_type": "markdown",
   "id": "9308e68f",
   "metadata": {},
   "source": [
    "## 8.8"
   ]
  },
  {
   "cell_type": "code",
   "execution_count": 131,
   "id": "515aaf68",
   "metadata": {},
   "outputs": [
    {
     "data": {
      "text/plain": [
       "['cats', 'octopi', 'emus']"
      ]
     },
     "execution_count": 131,
     "metadata": {},
     "output_type": "execute_result"
    }
   ],
   "source": [
    "list(life['animals'].keys())"
   ]
  },
  {
   "cell_type": "markdown",
   "id": "a24bdac9",
   "metadata": {},
   "source": [
    "## 8.9"
   ]
  },
  {
   "cell_type": "code",
   "execution_count": 133,
   "id": "63471eaa",
   "metadata": {},
   "outputs": [
    {
     "data": {
      "text/plain": [
       "'Henri'"
      ]
     },
     "execution_count": 133,
     "metadata": {},
     "output_type": "execute_result"
    }
   ],
   "source": [
    "life['animals']['cats']"
   ]
  },
  {
   "cell_type": "markdown",
   "id": "82064b56",
   "metadata": {},
   "source": [
    "## 8.10"
   ]
  },
  {
   "cell_type": "code",
   "execution_count": 137,
   "id": "87bf21fd",
   "metadata": {},
   "outputs": [
    {
     "data": {
      "text/plain": [
       "{0: 0, 1: 1, 2: 4, 3: 9, 4: 16, 5: 25, 6: 36, 7: 49, 8: 64, 9: 81}"
      ]
     },
     "execution_count": 137,
     "metadata": {},
     "output_type": "execute_result"
    }
   ],
   "source": [
    "{squares : squares*squares for squares in range(10)}"
   ]
  },
  {
   "cell_type": "markdown",
   "id": "816286a4",
   "metadata": {},
   "source": [
    "## 8.11"
   ]
  },
  {
   "cell_type": "code",
   "execution_count": 138,
   "id": "cda99575",
   "metadata": {},
   "outputs": [
    {
     "data": {
      "text/plain": [
       "{1, 3, 5, 7, 9}"
      ]
     },
     "execution_count": 138,
     "metadata": {},
     "output_type": "execute_result"
    }
   ],
   "source": [
    "{a for a in range(10) if a % 2 == 1}"
   ]
  },
  {
   "cell_type": "code",
   "execution_count": null,
   "id": "bd0136f9",
   "metadata": {},
   "outputs": [],
   "source": []
  }
 ],
 "metadata": {
  "kernelspec": {
   "display_name": "Python 3",
   "language": "python",
   "name": "python3"
  },
  "language_info": {
   "codemirror_mode": {
    "name": "ipython",
    "version": 3
   },
   "file_extension": ".py",
   "mimetype": "text/x-python",
   "name": "python",
   "nbconvert_exporter": "python",
   "pygments_lexer": "ipython3",
   "version": "3.8.8"
  }
 },
 "nbformat": 4,
 "nbformat_minor": 5
}
