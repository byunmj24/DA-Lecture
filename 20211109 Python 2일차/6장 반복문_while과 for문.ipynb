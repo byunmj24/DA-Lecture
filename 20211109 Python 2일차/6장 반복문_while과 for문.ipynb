{
 "cells": [
  {
   "cell_type": "markdown",
   "id": "6fb2212d",
   "metadata": {},
   "source": [
    "# 6.1 반복하기: while"
   ]
  },
  {
   "cell_type": "code",
   "execution_count": null,
   "id": "b107ce23",
   "metadata": {},
   "outputs": [],
   "source": [
    "count = 1\n",
    "while count <= 5:\n",
    "    print(count)\n",
    "    count += 1"
   ]
  },
  {
   "cell_type": "markdown",
   "id": "3fd17e2b",
   "metadata": {},
   "source": [
    "## 6.1.1 중단하기: break"
   ]
  },
  {
   "cell_type": "code",
   "execution_count": 4,
   "id": "00046263",
   "metadata": {},
   "outputs": [
    {
     "name": "stdout",
     "output_type": "stream",
     "text": [
      "String to capitalize [type q to quit]: quit\n",
      "Quit\n",
      "String to capitalize [type q to quit]: q\n"
     ]
    }
   ],
   "source": [
    "while True:\n",
    "    stuff = input('String to capitalize [type q to quit]: ')\n",
    "    if stuff == 'q':\n",
    "        break\n",
    "    print(stuff.capitalize())"
   ]
  },
  {
   "cell_type": "markdown",
   "id": "f94d9115",
   "metadata": {},
   "source": [
    "## 6.1.2 건너뛰기: continue"
   ]
  },
  {
   "cell_type": "code",
   "execution_count": 10,
   "id": "d62b519f",
   "metadata": {},
   "outputs": [
    {
     "name": "stdout",
     "output_type": "stream",
     "text": [
      "Integer, please [q to quit]: 1\n",
      "1 squared is 1\n",
      "Integer, please [q to quit]: 2\n",
      "Integer, please [q to quit]: 3\n",
      "3 squared is 9\n",
      "Integer, please [q to quit]: 4\n",
      "Integer, please [q to quit]: 5\n",
      "5 squared is 25\n",
      "Integer, please [q to quit]: q\n"
     ]
    }
   ],
   "source": [
    "while True :\n",
    "    value = input(\"Integer, please [q to quit]: \")\n",
    "    if value == 'q': # 종료\n",
    "        break\n",
    "    number = int(value)\n",
    "    if number % 2 == 0: # 짝수\n",
    "        continue\n",
    "    print(number, \"squared is\", number*number)"
   ]
  },
  {
   "cell_type": "markdown",
   "id": "0104c229",
   "metadata": {},
   "source": [
    "## 6.1.3 break 확인하기: else"
   ]
  },
  {
   "cell_type": "code",
   "execution_count": 14,
   "id": "8752fc6d",
   "metadata": {},
   "outputs": [
    {
     "name": "stdout",
     "output_type": "stream",
     "text": [
      "No even number found\n"
     ]
    }
   ],
   "source": [
    "numbers = [1, 3, 5]\n",
    "position = 0\n",
    "while position < len(numbers):\n",
    "    number = numbers[position]\n",
    "    if number % 2 == 0:\n",
    "        print('Found even number', number)\n",
    "        break\n",
    "    position += 1\n",
    "else:    # break문이 호출되지 않은 경우\n",
    "    print('No even number found')"
   ]
  },
  {
   "cell_type": "markdown",
   "id": "747d1167",
   "metadata": {},
   "source": [
    "# 6.2 순회하기: for와 in"
   ]
  },
  {
   "cell_type": "code",
   "execution_count": 15,
   "id": "bab4e856",
   "metadata": {},
   "outputs": [
    {
     "name": "stdout",
     "output_type": "stream",
     "text": [
      "t\n",
      "h\n",
      "u\n",
      "d\n"
     ]
    }
   ],
   "source": [
    "word = 'thud'\n",
    "offset = 0\n",
    "while offset < len(word):\n",
    "    print(word[offset])\n",
    "    offset += 1"
   ]
  },
  {
   "cell_type": "code",
   "execution_count": 16,
   "id": "d80c6cb9",
   "metadata": {},
   "outputs": [
    {
     "name": "stdout",
     "output_type": "stream",
     "text": [
      "t\n",
      "h\n",
      "u\n",
      "d\n"
     ]
    }
   ],
   "source": [
    "for letter in word:\n",
    "    print(letter)"
   ]
  },
  {
   "cell_type": "markdown",
   "id": "7cc95fcf",
   "metadata": {},
   "source": [
    "## 6.2.3 break 확인하기: else"
   ]
  },
  {
   "cell_type": "code",
   "execution_count": 19,
   "id": "0b16a825",
   "metadata": {},
   "outputs": [
    {
     "name": "stdout",
     "output_type": "stream",
     "text": [
      "t\n",
      "h\n",
      "u\n",
      "d\n",
      "No 'x' in there.\n"
     ]
    }
   ],
   "source": [
    "word = 'thud'\n",
    "for letter in word:\n",
    "    if letter == 'x':\n",
    "        print(\"Eek! An 'x'!\")\n",
    "        break\n",
    "    print(letter)\n",
    "else:\n",
    "\n",
    "              print(\"No 'x' in there.\")"
   ]
  },
  {
   "cell_type": "markdown",
   "id": "10940fe9",
   "metadata": {},
   "source": [
    "## 6.2.4 숫자 시퀀스 생성하기: range( )"
   ]
  },
  {
   "cell_type": "code",
   "execution_count": 20,
   "id": "3d6a09c8",
   "metadata": {},
   "outputs": [
    {
     "name": "stdout",
     "output_type": "stream",
     "text": [
      "0\n",
      "1\n",
      "2\n"
     ]
    }
   ],
   "source": [
    "for x in range(0, 3):\n",
    "    print(x)"
   ]
  },
  {
   "cell_type": "code",
   "execution_count": 21,
   "id": "ebbdc566",
   "metadata": {},
   "outputs": [
    {
     "data": {
      "text/plain": [
       "[0, 1, 2]"
      ]
     },
     "execution_count": 21,
     "metadata": {},
     "output_type": "execute_result"
    }
   ],
   "source": [
    "list(range(0,3))"
   ]
  },
  {
   "cell_type": "code",
   "execution_count": 22,
   "id": "49ac9d67",
   "metadata": {},
   "outputs": [
    {
     "name": "stdout",
     "output_type": "stream",
     "text": [
      "2\n",
      "1\n",
      "0\n"
     ]
    }
   ],
   "source": [
    "for x in range(2, -1, -1):\n",
    "    print(x)"
   ]
  },
  {
   "cell_type": "code",
   "execution_count": 23,
   "id": "3cdb6f5d",
   "metadata": {},
   "outputs": [
    {
     "data": {
      "text/plain": [
       "[2, 1, 0]"
      ]
     },
     "execution_count": 23,
     "metadata": {},
     "output_type": "execute_result"
    }
   ],
   "source": [
    "list(range(2, -1, -1))"
   ]
  },
  {
   "cell_type": "markdown",
   "id": "d7e16fc6",
   "metadata": {},
   "source": [
    "# 6.5 연습문제"
   ]
  },
  {
   "cell_type": "markdown",
   "id": "d2812464",
   "metadata": {},
   "source": [
    "### 6.1 \n",
    "for 문으로 리스트 [3, 2, 1, 0]를 출력해보자."
   ]
  },
  {
   "cell_type": "code",
   "execution_count": 26,
   "id": "81585873",
   "metadata": {},
   "outputs": [
    {
     "name": "stdout",
     "output_type": "stream",
     "text": [
      "3\n",
      "2\n",
      "1\n",
      "0\n"
     ]
    }
   ],
   "source": [
    "numList = list(range(3, -1, -1))\n",
    "for x in numList:\n",
    "    print(x)"
   ]
  },
  {
   "cell_type": "markdown",
   "id": "9e74940e",
   "metadata": {},
   "source": [
    "### 6.2 \n",
    "guess_me 변수에 7을 할당하고, number 변수에 1을 할당한다. number와 guess_me를 비교하는 while 문을 작성해보자. number가 guess_me보다 작으면 'too low'를 출력한다. number와 guess_me가 같으면 'found it!'을 출력하고 반복문을 종료한다. number가 guess_me보다 크면 'oops'를 출력하고 반복문을 종료한다. 그리고 반복문의 마지막에 number를 1씩 증가시킨다.\n"
   ]
  },
  {
   "cell_type": "code",
   "execution_count": 29,
   "id": "aaa8bf1a",
   "metadata": {},
   "outputs": [
    {
     "name": "stdout",
     "output_type": "stream",
     "text": [
      "too low\n",
      "too low\n",
      "too low\n",
      "too low\n",
      "too low\n",
      "too low\n",
      "found it!\n"
     ]
    }
   ],
   "source": [
    "guess_me = 7\n",
    "number = 1\n",
    "while True:\n",
    "    if number < guess_me:\n",
    "        print('too low')\n",
    "    elif number == guess_me:\n",
    "        print('found it!')\n",
    "        break\n",
    "    else:\n",
    "        print('oops')\n",
    "        break\n",
    "    number += 1"
   ]
  },
  {
   "cell_type": "markdown",
   "id": "c981f297",
   "metadata": {},
   "source": [
    "### 6.3\n",
    "guess_me 변수에 5를 할당하고, for문을 사용하여 range(10)에서 number 변수를 사용한다. number가 guess_me보다 작으면 'too low'를 출력한다. number와 guess_me가 같으면 'found it!'을 출력하고 반복문을 종료한다. number가 guess_me보다 크면 'oops'를 출력하고 반복문을 종료한다."
   ]
  },
  {
   "cell_type": "code",
   "execution_count": 35,
   "id": "470a25b4",
   "metadata": {},
   "outputs": [
    {
     "name": "stdout",
     "output_type": "stream",
     "text": [
      "too low\n",
      "too low\n",
      "too low\n",
      "too low\n",
      "too low\n",
      "found it!\n"
     ]
    }
   ],
   "source": [
    "guess_me = 5\n",
    "for number in range(10):\n",
    "    if number < guess_me:\n",
    "        print('too low')\n",
    "    elif number == guess_me:\n",
    "        print('found it!')\n",
    "        break\n",
    "    else:\n",
    "        print('oops')\n",
    "        break"
   ]
  },
  {
   "cell_type": "code",
   "execution_count": null,
   "id": "8286b460",
   "metadata": {},
   "outputs": [],
   "source": []
  }
 ],
 "metadata": {
  "kernelspec": {
   "display_name": "Python 3",
   "language": "python",
   "name": "python3"
  },
  "language_info": {
   "codemirror_mode": {
    "name": "ipython",
    "version": 3
   },
   "file_extension": ".py",
   "mimetype": "text/x-python",
   "name": "python",
   "nbconvert_exporter": "python",
   "pygments_lexer": "ipython3",
   "version": "3.8.8"
  }
 },
 "nbformat": 4,
 "nbformat_minor": 5
}
