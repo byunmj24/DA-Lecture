{
 "cells": [
  {
   "cell_type": "markdown",
   "id": "9c9a5b79",
   "metadata": {},
   "source": [
    "# 데이터 준비"
   ]
  },
  {
   "cell_type": "code",
   "execution_count": 1,
   "id": "df1336e9",
   "metadata": {},
   "outputs": [],
   "source": [
    "import numpy as np\n",
    "import pandas as pd"
   ]
  },
  {
   "cell_type": "code",
   "execution_count": 2,
   "id": "78b6253d",
   "metadata": {},
   "outputs": [
    {
     "name": "stdout",
     "output_type": "stream",
     "text": [
      " C 드라이브의 볼륨: Windows\n",
      " 볼륨 일련 번호: EC57-A5E8\n",
      "\n",
      " C:\\Users\\2106-002\\Desktop\\Code 디렉터리\n",
      "\n",
      "2021-12-03  오전 10:17    <DIR>          .\n",
      "2021-12-03  오전 10:17    <DIR>          ..\n",
      "2021-11-23  오전 09:57    <DIR>          .ipynb_checkpoints\n",
      "2021-11-25  오후 05:54    <DIR>          20211108 Python 1일차\n",
      "2021-11-23  오전 09:57    <DIR>          20211109 Python 2일차\n",
      "2021-11-23  오전 09:57    <DIR>          20211110 Python 3일차\n",
      "2021-11-23  오전 09:57    <DIR>          20211111 Python 4일차\n",
      "2021-11-23  오전 09:57    <DIR>          20211112 Python 5일차\n",
      "2021-11-25  오후 05:53    <DIR>          20211116 Python Lib 2일차\n",
      "2021-11-23  오전 09:57    <DIR>          20211117 Python Lib 3일차\n",
      "2021-11-23  오전 09:57    <DIR>          20211118 Python Lib 4일차\n",
      "2021-11-23  오전 09:57    <DIR>          20211119 Python Lib 5일차\n",
      "2021-11-23  오전 09:57    <DIR>          20211120 Python Lib 6일차\n",
      "2021-11-23  오전 09:57    <DIR>          20211122 딥러닝 기초 1일차\n",
      "2021-11-24  오후 05:45    <DIR>          20211123 딥러닝 기초 2일차\n",
      "2021-11-24  오후 05:45    <DIR>          20211124 딥러닝 기초 3일차\n",
      "2021-11-25  오후 05:38    <DIR>          20211125 딥러닝 기초 4일차\n",
      "2021-11-26  오후 05:52    <DIR>          20211126 딥러닝 기초 5일차\n",
      "2021-12-03  오전 10:20    <DIR>          20211201 머신러닝 1일차\n",
      "2021-12-02  오후 05:37    <DIR>          20211202 머신러닝 2일차\n",
      "2021-12-06  오전 10:29    <DIR>          20211203 머신러닝 3일차\n",
      "2021-11-23  오전 09:57    <DIR>          mini Project\n",
      "2021-11-23  오전 09:57    <DIR>          ModelingSample\n",
      "2021-12-03  오후 02:45    <DIR>          데이터 지도 공모전\n",
      "2021-12-06  오전 10:22    <DIR>          마른 하늘에 날벼락\n",
      "               0개 파일                   0 바이트\n",
      "              25개 디렉터리  447,572,963,328 바이트 남음\n"
     ]
    }
   ],
   "source": [
    "ls .."
   ]
  },
  {
   "cell_type": "code",
   "execution_count": 3,
   "id": "e13df2e8",
   "metadata": {},
   "outputs": [],
   "source": [
    "fish_data = pd.read_csv('../20211201 머신러닝 1일차/Fish.csv')"
   ]
  },
  {
   "cell_type": "code",
   "execution_count": 4,
   "id": "c3051afb",
   "metadata": {},
   "outputs": [
    {
     "data": {
      "text/html": [
       "<div>\n",
       "<style scoped>\n",
       "    .dataframe tbody tr th:only-of-type {\n",
       "        vertical-align: middle;\n",
       "    }\n",
       "\n",
       "    .dataframe tbody tr th {\n",
       "        vertical-align: top;\n",
       "    }\n",
       "\n",
       "    .dataframe thead th {\n",
       "        text-align: right;\n",
       "    }\n",
       "</style>\n",
       "<table border=\"1\" class=\"dataframe\">\n",
       "  <thead>\n",
       "    <tr style=\"text-align: right;\">\n",
       "      <th></th>\n",
       "      <th>Species</th>\n",
       "      <th>Weight</th>\n",
       "      <th>Length1</th>\n",
       "      <th>Length2</th>\n",
       "      <th>Length3</th>\n",
       "      <th>Height</th>\n",
       "      <th>Width</th>\n",
       "    </tr>\n",
       "  </thead>\n",
       "  <tbody>\n",
       "    <tr>\n",
       "      <th>0</th>\n",
       "      <td>Bream</td>\n",
       "      <td>242.0</td>\n",
       "      <td>23.2</td>\n",
       "      <td>25.4</td>\n",
       "      <td>30.0</td>\n",
       "      <td>11.5200</td>\n",
       "      <td>4.0200</td>\n",
       "    </tr>\n",
       "    <tr>\n",
       "      <th>1</th>\n",
       "      <td>Bream</td>\n",
       "      <td>290.0</td>\n",
       "      <td>24.0</td>\n",
       "      <td>26.3</td>\n",
       "      <td>31.2</td>\n",
       "      <td>12.4800</td>\n",
       "      <td>4.3056</td>\n",
       "    </tr>\n",
       "    <tr>\n",
       "      <th>2</th>\n",
       "      <td>Bream</td>\n",
       "      <td>340.0</td>\n",
       "      <td>23.9</td>\n",
       "      <td>26.5</td>\n",
       "      <td>31.1</td>\n",
       "      <td>12.3778</td>\n",
       "      <td>4.6961</td>\n",
       "    </tr>\n",
       "    <tr>\n",
       "      <th>3</th>\n",
       "      <td>Bream</td>\n",
       "      <td>363.0</td>\n",
       "      <td>26.3</td>\n",
       "      <td>29.0</td>\n",
       "      <td>33.5</td>\n",
       "      <td>12.7300</td>\n",
       "      <td>4.4555</td>\n",
       "    </tr>\n",
       "    <tr>\n",
       "      <th>4</th>\n",
       "      <td>Bream</td>\n",
       "      <td>430.0</td>\n",
       "      <td>26.5</td>\n",
       "      <td>29.0</td>\n",
       "      <td>34.0</td>\n",
       "      <td>12.4440</td>\n",
       "      <td>5.1340</td>\n",
       "    </tr>\n",
       "    <tr>\n",
       "      <th>...</th>\n",
       "      <td>...</td>\n",
       "      <td>...</td>\n",
       "      <td>...</td>\n",
       "      <td>...</td>\n",
       "      <td>...</td>\n",
       "      <td>...</td>\n",
       "      <td>...</td>\n",
       "    </tr>\n",
       "    <tr>\n",
       "      <th>154</th>\n",
       "      <td>Smelt</td>\n",
       "      <td>12.2</td>\n",
       "      <td>11.5</td>\n",
       "      <td>12.2</td>\n",
       "      <td>13.4</td>\n",
       "      <td>2.0904</td>\n",
       "      <td>1.3936</td>\n",
       "    </tr>\n",
       "    <tr>\n",
       "      <th>155</th>\n",
       "      <td>Smelt</td>\n",
       "      <td>13.4</td>\n",
       "      <td>11.7</td>\n",
       "      <td>12.4</td>\n",
       "      <td>13.5</td>\n",
       "      <td>2.4300</td>\n",
       "      <td>1.2690</td>\n",
       "    </tr>\n",
       "    <tr>\n",
       "      <th>156</th>\n",
       "      <td>Smelt</td>\n",
       "      <td>12.2</td>\n",
       "      <td>12.1</td>\n",
       "      <td>13.0</td>\n",
       "      <td>13.8</td>\n",
       "      <td>2.2770</td>\n",
       "      <td>1.2558</td>\n",
       "    </tr>\n",
       "    <tr>\n",
       "      <th>157</th>\n",
       "      <td>Smelt</td>\n",
       "      <td>19.7</td>\n",
       "      <td>13.2</td>\n",
       "      <td>14.3</td>\n",
       "      <td>15.2</td>\n",
       "      <td>2.8728</td>\n",
       "      <td>2.0672</td>\n",
       "    </tr>\n",
       "    <tr>\n",
       "      <th>158</th>\n",
       "      <td>Smelt</td>\n",
       "      <td>19.9</td>\n",
       "      <td>13.8</td>\n",
       "      <td>15.0</td>\n",
       "      <td>16.2</td>\n",
       "      <td>2.9322</td>\n",
       "      <td>1.8792</td>\n",
       "    </tr>\n",
       "  </tbody>\n",
       "</table>\n",
       "<p>159 rows × 7 columns</p>\n",
       "</div>"
      ],
      "text/plain": [
       "    Species  Weight  Length1  Length2  Length3   Height   Width\n",
       "0     Bream   242.0     23.2     25.4     30.0  11.5200  4.0200\n",
       "1     Bream   290.0     24.0     26.3     31.2  12.4800  4.3056\n",
       "2     Bream   340.0     23.9     26.5     31.1  12.3778  4.6961\n",
       "3     Bream   363.0     26.3     29.0     33.5  12.7300  4.4555\n",
       "4     Bream   430.0     26.5     29.0     34.0  12.4440  5.1340\n",
       "..      ...     ...      ...      ...      ...      ...     ...\n",
       "154   Smelt    12.2     11.5     12.2     13.4   2.0904  1.3936\n",
       "155   Smelt    13.4     11.7     12.4     13.5   2.4300  1.2690\n",
       "156   Smelt    12.2     12.1     13.0     13.8   2.2770  1.2558\n",
       "157   Smelt    19.7     13.2     14.3     15.2   2.8728  2.0672\n",
       "158   Smelt    19.9     13.8     15.0     16.2   2.9322  1.8792\n",
       "\n",
       "[159 rows x 7 columns]"
      ]
     },
     "execution_count": 4,
     "metadata": {},
     "output_type": "execute_result"
    }
   ],
   "source": [
    "fish_data"
   ]
  },
  {
   "cell_type": "code",
   "execution_count": 5,
   "id": "346d41e6",
   "metadata": {},
   "outputs": [],
   "source": [
    "perch_length = fish_data.loc[fish_data.Species == 'Perch', 'Length1']\n",
    "perch_weight = fish_data.loc[fish_data.Species == 'Perch', 'Weight']"
   ]
  },
  {
   "cell_type": "code",
   "execution_count": 6,
   "id": "deb2c96b",
   "metadata": {},
   "outputs": [],
   "source": [
    "from sklearn.model_selection import train_test_split"
   ]
  },
  {
   "cell_type": "code",
   "execution_count": 7,
   "id": "ceb26939",
   "metadata": {},
   "outputs": [],
   "source": [
    "train_input, test_input, traint_target, test_target = train_test_split(\n",
    "    perch_length,     # input data set\n",
    "    perch_weight,     # target data set\n",
    "    shuffle = True,   # default\n",
    "    test_size = 0.25, # default\n",
    "    random_state=42)  # random_state는 random seed 의 개념"
   ]
  },
  {
   "cell_type": "code",
   "execution_count": 8,
   "id": "7de3de63",
   "metadata": {},
   "outputs": [
    {
     "name": "stdout",
     "output_type": "stream",
     "text": [
      "(42,) (14,)\n"
     ]
    }
   ],
   "source": [
    "print(train_input.shape, test_input.shape)"
   ]
  },
  {
   "cell_type": "code",
   "execution_count": 9,
   "id": "61eb86c6",
   "metadata": {},
   "outputs": [],
   "source": [
    "train_input = np.array(train_input).reshape(-1, 1)\n",
    "test_input = np.array(test_input).reshape(-1, 1)"
   ]
  },
  {
   "cell_type": "code",
   "execution_count": 10,
   "id": "e54f69a4",
   "metadata": {},
   "outputs": [
    {
     "name": "stdout",
     "output_type": "stream",
     "text": [
      "(42, 1) (14, 1)\n"
     ]
    }
   ],
   "source": [
    "print(train_input.shape, test_input.shape)"
   ]
  },
  {
   "cell_type": "markdown",
   "id": "8fa97833",
   "metadata": {},
   "source": [
    "## 결정 계수($ R^2$)"
   ]
  },
  {
   "cell_type": "code",
   "execution_count": 11,
   "id": "63882973",
   "metadata": {},
   "outputs": [],
   "source": [
    "# KNN 회귀모델\n",
    "from sklearn.neighbors import KNeighborsRegressor"
   ]
  },
  {
   "cell_type": "code",
   "execution_count": 12,
   "id": "f2e6da54",
   "metadata": {},
   "outputs": [
    {
     "data": {
      "text/plain": [
       "KNeighborsRegressor()"
      ]
     },
     "execution_count": 12,
     "metadata": {},
     "output_type": "execute_result"
    }
   ],
   "source": [
    "knr = KNeighborsRegressor()\n",
    "# k-최근접 이웃 회귀 모델 훈련\n",
    "knr.fit(train_input, traint_target)"
   ]
  },
  {
   "cell_type": "code",
   "execution_count": 13,
   "id": "3baecd4e",
   "metadata": {},
   "outputs": [
    {
     "data": {
      "text/plain": [
       "0.9925959158414647"
      ]
     },
     "execution_count": 13,
     "metadata": {},
     "output_type": "execute_result"
    }
   ],
   "source": [
    "knr.score(test_input, test_target)"
   ]
  },
  {
   "cell_type": "code",
   "execution_count": 14,
   "id": "b292782d",
   "metadata": {},
   "outputs": [
    {
     "data": {
      "text/plain": [
       "array([1020.])"
      ]
     },
     "execution_count": 14,
     "metadata": {},
     "output_type": "execute_result"
    }
   ],
   "source": [
    "knr.predict([[70]])"
   ]
  },
  {
   "cell_type": "code",
   "execution_count": null,
   "id": "5ba390f9",
   "metadata": {},
   "outputs": [],
   "source": []
  }
 ],
 "metadata": {
  "kernelspec": {
   "display_name": "Python 3 (ipykernel)",
   "language": "python",
   "name": "python3"
  },
  "language_info": {
   "codemirror_mode": {
    "name": "ipython",
    "version": 3
   },
   "file_extension": ".py",
   "mimetype": "text/x-python",
   "name": "python",
   "nbconvert_exporter": "python",
   "pygments_lexer": "ipython3",
   "version": "3.9.7"
  }
 },
 "nbformat": 4,
 "nbformat_minor": 5
}
