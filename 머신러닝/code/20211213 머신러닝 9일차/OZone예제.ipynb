{
 "cells": [
  {
   "cell_type": "markdown",
   "id": "a1373f77",
   "metadata": {
    "id": "a1373f77"
   },
   "source": [
    "# [머신러닝 분석 개요]"
   ]
  },
  {
   "cell_type": "markdown",
   "id": "3ebfbc22",
   "metadata": {
    "id": "3ebfbc22"
   },
   "source": [
    "이번 문서에서는 머신러닝 알고리즘 중 예측에 대표적인 선형회귀(LinearRegression)알고리즘과 최소자승법(OLS)알고리즘을 사용하여 분석 비교하였다.\n"
   ]
  },
  {
   "cell_type": "markdown",
   "id": "VQy9og0eZ38U",
   "metadata": {
    "id": "VQy9og0eZ38U"
   },
   "source": [
    "**선형회귀** : 하나 이상의 특성과 연속적인 타깃 변수 사이의 관계를 모델링."
   ]
  },
  {
   "cell_type": "markdown",
   "id": "fx9hm644aMav",
   "metadata": {
    "id": "fx9hm644aMav"
   },
   "source": [
    "**선형회귀에서 모델:**\n",
    "\n",
    "*   Y = W0 +  W1*X\n",
    "*   목적: 특성과 타깃 사이의 관계를 나타내는 선형 방정식의 가중치를 학습하는 것"
   ]
  },
  {
   "cell_type": "markdown",
   "id": "yswL88WoakwB",
   "metadata": {
    "id": "yswL88WoakwB"
   },
   "source": [
    "**선형회귀 모델의 목표** : 연속적인 출력값을 작은 오차를 가지며 예측하는 것"
   ]
  },
  {
   "cell_type": "markdown",
   "id": "yzGnPcbSl3QI",
   "metadata": {
    "id": "yzGnPcbSl3QI"
   },
   "source": [
    "**모델의 훈련**\n",
    "\n",
    "* 모델이 훈련 데이터에 잘 맞도록 모델 파라미터를 설정하는 것\n",
    "* 모델이 훈련 데이터에 얼마나 잘 들어맞는지 측정해야 함\n",
    "\n"
   ]
  },
  {
   "cell_type": "markdown",
   "id": "t1XH1Vlc77xd",
   "metadata": {
    "id": "t1XH1Vlc77xd"
   },
   "source": [
    "**[비용 함수]**\n",
    "\n",
    "\n",
    "* MSE(Mean Squared Error)\n",
    "  - 회귀 모델의 주요 손실 함수\n",
    "  - 참값과 예측값의 차이인 오차들의 제곱 평균으로 정의\n",
    "  - 제곱을 해주기 때문에 이상치에 민감\n",
    "  \n",
    "  \n",
    "* MAE(Mean Absolute Error) \n",
    "  - 참값과 예측값의 차이인 오차의 절대값들 평균\n",
    "  - MSE보다 이상치에 덜 민감\n",
    "  \n",
    "  \n",
    "* RMSE(Root Mean Squared Error) \n",
    "  - MSE에 Root를 씌움\n",
    "  - 참값과 비슷한 값으로 변환하기 때문에 해석이 쉬움\n",
    "\n",
    "\n"
   ]
  },
  {
   "cell_type": "markdown",
   "id": "5eb8faab",
   "metadata": {
    "id": "5eb8faab"
   },
   "source": [
    "# [예측1] 오존량 예측"
   ]
  },
  {
   "cell_type": "markdown",
   "id": "572ea868",
   "metadata": {
    "id": "572ea868"
   },
   "source": [
    "[다중회귀분석 - 독립변수가 2개 이상인 경우] \n",
    "\n",
    "두개의 알고리즘 사용하여 비교(LinearRegression알고리즘, OLS알고리즘)"
   ]
  },
  {
   "cell_type": "markdown",
   "id": "4198b5be",
   "metadata": {
    "id": "4198b5be"
   },
   "source": [
    "[데이터 확인(준비)]"
   ]
  },
  {
   "cell_type": "markdown",
   "id": "dd845886",
   "metadata": {
    "id": "dd845886"
   },
   "source": [
    "\"https://faculty.washington.edu/heagerty/Books/Biostatistics/DATA/ozone.csv\" 주소를 복사&붙이기를 해서 이동후 데이터가 나오면 우클릭 후\n",
    " [다른이름으로 저장]으로 확장자 [.csv]를 확인하고 저장한다."
   ]
  },
  {
   "cell_type": "markdown",
   "id": "6666c809",
   "metadata": {
    "id": "6666c809"
   },
   "source": [
    "##############[데이터 읽어오기]###################################"
   ]
  },
  {
   "cell_type": "code",
   "execution_count": 1,
   "id": "fbd1bb80",
   "metadata": {
    "id": "fbd1bb80"
   },
   "outputs": [],
   "source": [
    "import pandas as pd\n",
    "import numpy as np"
   ]
  },
  {
   "cell_type": "code",
   "execution_count": 2,
   "id": "d95d5307",
   "metadata": {
    "colab": {
     "base_uri": "https://localhost:8080/",
     "height": 400
    },
    "id": "d95d5307",
    "outputId": "d2b10e52-f8f2-49ef-e7cc-8ada16570501"
   },
   "outputs": [],
   "source": [
    "df = pd.read_csv (\"C:/anal_data/ozone.csv\")"
   ]
  },
  {
   "cell_type": "code",
   "execution_count": 3,
   "id": "39d0e62b",
   "metadata": {
    "id": "39d0e62b"
   },
   "outputs": [
    {
     "data": {
      "text/html": [
       "<div>\n",
       "<style scoped>\n",
       "    .dataframe tbody tr th:only-of-type {\n",
       "        vertical-align: middle;\n",
       "    }\n",
       "\n",
       "    .dataframe tbody tr th {\n",
       "        vertical-align: top;\n",
       "    }\n",
       "\n",
       "    .dataframe thead th {\n",
       "        text-align: right;\n",
       "    }\n",
       "</style>\n",
       "<table border=\"1\" class=\"dataframe\">\n",
       "  <thead>\n",
       "    <tr style=\"text-align: right;\">\n",
       "      <th></th>\n",
       "      <th>Ozone</th>\n",
       "      <th>Solar.R</th>\n",
       "      <th>Wind</th>\n",
       "      <th>Temp</th>\n",
       "      <th>Month</th>\n",
       "      <th>Day</th>\n",
       "    </tr>\n",
       "  </thead>\n",
       "  <tbody>\n",
       "    <tr>\n",
       "      <th>0</th>\n",
       "      <td>41.0</td>\n",
       "      <td>190.0</td>\n",
       "      <td>7.4</td>\n",
       "      <td>67</td>\n",
       "      <td>5</td>\n",
       "      <td>1</td>\n",
       "    </tr>\n",
       "    <tr>\n",
       "      <th>1</th>\n",
       "      <td>36.0</td>\n",
       "      <td>118.0</td>\n",
       "      <td>8.0</td>\n",
       "      <td>72</td>\n",
       "      <td>5</td>\n",
       "      <td>2</td>\n",
       "    </tr>\n",
       "    <tr>\n",
       "      <th>2</th>\n",
       "      <td>12.0</td>\n",
       "      <td>149.0</td>\n",
       "      <td>12.6</td>\n",
       "      <td>74</td>\n",
       "      <td>5</td>\n",
       "      <td>3</td>\n",
       "    </tr>\n",
       "    <tr>\n",
       "      <th>3</th>\n",
       "      <td>18.0</td>\n",
       "      <td>313.0</td>\n",
       "      <td>11.5</td>\n",
       "      <td>62</td>\n",
       "      <td>5</td>\n",
       "      <td>4</td>\n",
       "    </tr>\n",
       "    <tr>\n",
       "      <th>4</th>\n",
       "      <td>NaN</td>\n",
       "      <td>NaN</td>\n",
       "      <td>14.3</td>\n",
       "      <td>56</td>\n",
       "      <td>5</td>\n",
       "      <td>5</td>\n",
       "    </tr>\n",
       "  </tbody>\n",
       "</table>\n",
       "</div>"
      ],
      "text/plain": [
       "   Ozone  Solar.R  Wind  Temp  Month  Day\n",
       "0   41.0    190.0   7.4    67      5    1\n",
       "1   36.0    118.0   8.0    72      5    2\n",
       "2   12.0    149.0  12.6    74      5    3\n",
       "3   18.0    313.0  11.5    62      5    4\n",
       "4    NaN      NaN  14.3    56      5    5"
      ]
     },
     "execution_count": 3,
     "metadata": {},
     "output_type": "execute_result"
    }
   ],
   "source": [
    "df.head()"
   ]
  },
  {
   "cell_type": "markdown",
   "id": "c18a0083",
   "metadata": {
    "id": "c18a0083"
   },
   "source": [
    "다음은 결측값을 확인하기 위하여 사용되는 info 함수.\n"
   ]
  },
  {
   "cell_type": "code",
   "execution_count": 4,
   "id": "ae52388d",
   "metadata": {
    "id": "ae52388d"
   },
   "outputs": [
    {
     "name": "stdout",
     "output_type": "stream",
     "text": [
      "<class 'pandas.core.frame.DataFrame'>\n",
      "RangeIndex: 153 entries, 0 to 152\n",
      "Data columns (total 6 columns):\n",
      " #   Column   Non-Null Count  Dtype  \n",
      "---  ------   --------------  -----  \n",
      " 0   Ozone    116 non-null    float64\n",
      " 1   Solar.R  146 non-null    float64\n",
      " 2   Wind     153 non-null    float64\n",
      " 3   Temp     153 non-null    int64  \n",
      " 4   Month    153 non-null    int64  \n",
      " 5   Day      153 non-null    int64  \n",
      "dtypes: float64(3), int64(3)\n",
      "memory usage: 7.3 KB\n"
     ]
    }
   ],
   "source": [
    "df.info()"
   ]
  },
  {
   "cell_type": "markdown",
   "id": "1c8f07a7",
   "metadata": {
    "id": "1c8f07a7"
   },
   "source": [
    "\n",
    "\n",
    "\n",
    "##############[데이터 전처리]###################################\n",
    "\n",
    "\n",
    "\n"
   ]
  },
  {
   "cell_type": "markdown",
   "id": "vrbifgincfT0",
   "metadata": {
    "id": "vrbifgincfT0"
   },
   "source": [
    "[데이터 전처리는]\n",
    "\n",
    "* 결측치 처리\n",
    "* 데이터 스케일링\n",
    "\n",
    "\n",
    "  \n",
    "** 주의!\n",
    "\n",
    "사이킷런을 베이스로 하는 \n",
    "\n",
    "\n",
    "  - SVM(서포트 벡터 머신: Support Vector Machine)\n",
    "\n",
    "\n",
    "  - 선형회귀(LinearRegression)\n",
    "  \n",
    "  \n",
    "  - 로지스틱 회귀(Logistic Regression) 알고리즘\n",
    "  \n",
    "상위 알고리즘들은 데이터가 가우시안 분포를 가지고 있다는 가정하에 만들어졌기때문에 \n",
    "\n",
    "사전에 표준화를 적용하는 것은 예측 성능에 중요한 요소로 작용할 수 있다. \n",
    "\n",
    "따라서 사전 표준화를 반드시 고려해야 한다.\n",
    "\n",
    "\n",
    "\n"
   ]
  },
  {
   "cell_type": "markdown",
   "id": "fa8ab11f",
   "metadata": {
    "id": "fa8ab11f"
   },
   "source": [
    "[전처리 하기 - 오존량, 일조량 결측값 처리]\n",
    "\n",
    " 결측량을 확인하기에 용이한 missingno 라이브러리 사용\n",
    " 기본 설치가 아니므로 설치 후 사용한다. \n",
    " \n",
    " \n",
    "   - 코드라인에 \"pip install missingno\" 실행\n",
    " \n",
    " \n",
    "   - 만약 설치가 안되면, 아나콘다에서 \"!conda install -c conda-forge missingno\"를 실행\n",
    "   \n",
    "   "
   ]
  },
  {
   "cell_type": "code",
   "execution_count": 5,
   "id": "8d1fdbbe",
   "metadata": {
    "id": "8d1fdbbe"
   },
   "outputs": [
    {
     "data": {
      "text/plain": [
       "<AxesSubplot:>"
      ]
     },
     "execution_count": 5,
     "metadata": {},
     "output_type": "execute_result"
    },
    {
     "data": {
      "image/png": "[encoded data removed]",
      "text/plain": [
       "<Figure size 1800x720 with 2 Axes>"
      ]
     },
     "metadata": {
      "needs_background": "light"
     },
     "output_type": "display_data"
    }
   ],
   "source": [
    "#라이브러리를 사용하여 결측치를 표현\n",
    "%matplotlib inline\n",
    "import missingno as msno\n",
    "import matplotlib.pyplot as plt\n",
    "\n",
    "msno.matrix(df)\n",
    "#흰색: 결측값,  \n",
    "#스파크라인 - 각 샘플의 데이터 완성도를 표현"
   ]
  },
  {
   "cell_type": "markdown",
   "id": "baa88470",
   "metadata": {
    "id": "baa88470"
   },
   "source": [
    "#데이터가 정규분포- 평균/ 비정규분포-중위수, 범주형변수-최빈수"
   ]
  },
  {
   "cell_type": "markdown",
   "id": "ZiBepMtnlu7p",
   "metadata": {
    "id": "ZiBepMtnlu7p"
   },
   "source": [
    "[결측치 처리]\n",
    "* 데이터가 정규분포일 때: 평균\n",
    "* 데이터가 비정규분포일 때: 중위수\n",
    "* 데이터가 범주형 변수 일때: 최빈수"
   ]
  },
  {
   "cell_type": "code",
   "execution_count": 6,
   "id": "8d512800",
   "metadata": {
    "colab": {
     "base_uri": "https://localhost:8080/",
     "height": 424
    },
    "id": "8d512800",
    "outputId": "bef8906e-2e97-4b89-fbe9-6980f9408cc0"
   },
   "outputs": [
    {
     "data": {
      "text/html": [
       "<div>\n",
       "<style scoped>\n",
       "    .dataframe tbody tr th:only-of-type {\n",
       "        vertical-align: middle;\n",
       "    }\n",
       "\n",
       "    .dataframe tbody tr th {\n",
       "        vertical-align: top;\n",
       "    }\n",
       "\n",
       "    .dataframe thead th {\n",
       "        text-align: right;\n",
       "    }\n",
       "</style>\n",
       "<table border=\"1\" class=\"dataframe\">\n",
       "  <thead>\n",
       "    <tr style=\"text-align: right;\">\n",
       "      <th></th>\n",
       "      <th>Ozone</th>\n",
       "      <th>Solar.R</th>\n",
       "      <th>Wind</th>\n",
       "      <th>Temp</th>\n",
       "      <th>Month</th>\n",
       "      <th>Day</th>\n",
       "    </tr>\n",
       "  </thead>\n",
       "  <tbody>\n",
       "    <tr>\n",
       "      <th>0</th>\n",
       "      <td>41.00000</td>\n",
       "      <td>190.000000</td>\n",
       "      <td>7.4</td>\n",
       "      <td>67.0</td>\n",
       "      <td>5.0</td>\n",
       "      <td>1.0</td>\n",
       "    </tr>\n",
       "    <tr>\n",
       "      <th>1</th>\n",
       "      <td>36.00000</td>\n",
       "      <td>118.000000</td>\n",
       "      <td>8.0</td>\n",
       "      <td>72.0</td>\n",
       "      <td>5.0</td>\n",
       "      <td>2.0</td>\n",
       "    </tr>\n",
       "    <tr>\n",
       "      <th>2</th>\n",
       "      <td>12.00000</td>\n",
       "      <td>149.000000</td>\n",
       "      <td>12.6</td>\n",
       "      <td>74.0</td>\n",
       "      <td>5.0</td>\n",
       "      <td>3.0</td>\n",
       "    </tr>\n",
       "    <tr>\n",
       "      <th>3</th>\n",
       "      <td>18.00000</td>\n",
       "      <td>313.000000</td>\n",
       "      <td>11.5</td>\n",
       "      <td>62.0</td>\n",
       "      <td>5.0</td>\n",
       "      <td>4.0</td>\n",
       "    </tr>\n",
       "    <tr>\n",
       "      <th>4</th>\n",
       "      <td>42.12931</td>\n",
       "      <td>185.931507</td>\n",
       "      <td>14.3</td>\n",
       "      <td>56.0</td>\n",
       "      <td>5.0</td>\n",
       "      <td>5.0</td>\n",
       "    </tr>\n",
       "    <tr>\n",
       "      <th>...</th>\n",
       "      <td>...</td>\n",
       "      <td>...</td>\n",
       "      <td>...</td>\n",
       "      <td>...</td>\n",
       "      <td>...</td>\n",
       "      <td>...</td>\n",
       "    </tr>\n",
       "    <tr>\n",
       "      <th>148</th>\n",
       "      <td>30.00000</td>\n",
       "      <td>193.000000</td>\n",
       "      <td>6.9</td>\n",
       "      <td>70.0</td>\n",
       "      <td>9.0</td>\n",
       "      <td>26.0</td>\n",
       "    </tr>\n",
       "    <tr>\n",
       "      <th>149</th>\n",
       "      <td>42.12931</td>\n",
       "      <td>145.000000</td>\n",
       "      <td>13.2</td>\n",
       "      <td>77.0</td>\n",
       "      <td>9.0</td>\n",
       "      <td>27.0</td>\n",
       "    </tr>\n",
       "    <tr>\n",
       "      <th>150</th>\n",
       "      <td>14.00000</td>\n",
       "      <td>191.000000</td>\n",
       "      <td>14.3</td>\n",
       "      <td>75.0</td>\n",
       "      <td>9.0</td>\n",
       "      <td>28.0</td>\n",
       "    </tr>\n",
       "    <tr>\n",
       "      <th>151</th>\n",
       "      <td>18.00000</td>\n",
       "      <td>131.000000</td>\n",
       "      <td>8.0</td>\n",
       "      <td>76.0</td>\n",
       "      <td>9.0</td>\n",
       "      <td>29.0</td>\n",
       "    </tr>\n",
       "    <tr>\n",
       "      <th>152</th>\n",
       "      <td>20.00000</td>\n",
       "      <td>223.000000</td>\n",
       "      <td>11.5</td>\n",
       "      <td>68.0</td>\n",
       "      <td>9.0</td>\n",
       "      <td>30.0</td>\n",
       "    </tr>\n",
       "  </tbody>\n",
       "</table>\n",
       "<p>153 rows × 6 columns</p>\n",
       "</div>"
      ],
      "text/plain": [
       "        Ozone     Solar.R  Wind  Temp  Month   Day\n",
       "0    41.00000  190.000000   7.4  67.0    5.0   1.0\n",
       "1    36.00000  118.000000   8.0  72.0    5.0   2.0\n",
       "2    12.00000  149.000000  12.6  74.0    5.0   3.0\n",
       "3    18.00000  313.000000  11.5  62.0    5.0   4.0\n",
       "4    42.12931  185.931507  14.3  56.0    5.0   5.0\n",
       "..        ...         ...   ...   ...    ...   ...\n",
       "148  30.00000  193.000000   6.9  70.0    9.0  26.0\n",
       "149  42.12931  145.000000  13.2  77.0    9.0  27.0\n",
       "150  14.00000  191.000000  14.3  75.0    9.0  28.0\n",
       "151  18.00000  131.000000   8.0  76.0    9.0  29.0\n",
       "152  20.00000  223.000000  11.5  68.0    9.0  30.0\n",
       "\n",
       "[153 rows x 6 columns]"
      ]
     },
     "execution_count": 6,
     "metadata": {},
     "output_type": "execute_result"
    }
   ],
   "source": [
    "#결측값을 Scikit-Learn에서 제공하는 라이브러리를 이용해서 처리(mean값 이용)\n",
    "from sklearn.impute import SimpleImputer\n",
    "\n",
    "imputer = SimpleImputer(strategy=\"mean\")\n",
    "df = pd.DataFrame(imputer.fit_transform(df), columns=df.columns)\n",
    "df"
   ]
  },
  {
   "cell_type": "code",
   "execution_count": 7,
   "id": "a0c7ef9d",
   "metadata": {
    "id": "a0c7ef9d"
   },
   "outputs": [],
   "source": [
    "#변수 지정\n",
    "X = df[['Solar.R', 'Wind', 'Temp']] #독립변수\n",
    "y = df['Ozone'] #종속변수"
   ]
  },
  {
   "cell_type": "code",
   "execution_count": 8,
   "id": "af658041",
   "metadata": {
    "colab": {
     "base_uri": "https://localhost:8080/"
    },
    "id": "af658041",
    "outputId": "80dc5545-9454-455f-bcab-c505c91d8189"
   },
   "outputs": [
    {
     "name": "stdout",
     "output_type": "stream",
     "text": [
      "<class 'pandas.core.frame.DataFrame'>\n",
      "RangeIndex: 153 entries, 0 to 152\n",
      "Data columns (total 6 columns):\n",
      " #   Column   Non-Null Count  Dtype  \n",
      "---  ------   --------------  -----  \n",
      " 0   Ozone    153 non-null    float64\n",
      " 1   Solar.R  153 non-null    float64\n",
      " 2   Wind     153 non-null    float64\n",
      " 3   Temp     153 non-null    float64\n",
      " 4   Month    153 non-null    float64\n",
      " 5   Day      153 non-null    float64\n",
      "dtypes: float64(6)\n",
      "memory usage: 7.3 KB\n"
     ]
    }
   ],
   "source": [
    "df.info()"
   ]
  },
  {
   "cell_type": "markdown",
   "id": "bd6be744",
   "metadata": {},
   "source": [
    "#스케일을 정규화하여 스케일 조정이 성능에 영향을 미치는 지 확인한다.\n",
    "\n",
    "[참고] 스케일 조정이 필요한 경우\n",
    "\n",
    "       1. 분석때 변수들의 스케일이 너무 다를 경우\n",
    "       \n",
    "       2. 신경망 학습때, 데이터 셋의 값이 들쑥날쑥하거나, \n",
    "          매우 큰 경우에는 cost의 값이 발산하여 정상적인 학습이 이루어지지 않아 문제가 생길 수 있다.\n",
    "          이런 경우에 스케일 조정으로 해결할 수 있다."
   ]
  },
  {
   "cell_type": "markdown",
   "id": "8e8bd74e",
   "metadata": {},
   "source": [
    "[sklearn에서 제공하는 스케일러]\n",
    "1. #StandardScaler\n",
    "2. #MinMaxScaler\n",
    "3. #RobustScaler\n",
    "4. #Normalizer"
   ]
  },
  {
   "cell_type": "markdown",
   "id": "ZYqTWvOVkUGd",
   "metadata": {
    "id": "ZYqTWvOVkUGd"
   },
   "source": [
    "**[1번]데이터 스케일링 없이 수행**"
   ]
  },
  {
   "cell_type": "markdown",
   "id": "4VzkMEunkUGe",
   "metadata": {
    "id": "4VzkMEunkUGe"
   },
   "source": [
    "**[분석 조건]**\n",
    "\n",
    "* 알고리즘: LinearRegression\n",
    "* 데이터 셋: 153 rows X 6 columns\n",
    "* 결측량: 4.79%\n",
    "* 데이터 셋: 훈련 80%, 테스트: 20%\n",
    "* 데이터 셋: 스케일링 변환없이 진행\n",
    "* 모델 평가방법: score 출력(R2값) / MSE값/ RMSE값 /기울기값과 절편값\n"
   ]
  },
  {
   "cell_type": "code",
   "execution_count": 33,
   "id": "C_on-mSRkUGe",
   "metadata": {
    "colab": {
     "base_uri": "https://localhost:8080/"
    },
    "id": "C_on-mSRkUGe",
    "outputId": "19c77e6e-05e9-46c1-be88-aba6c3a028ce"
   },
   "outputs": [
    {
     "name": "stdout",
     "output_type": "stream",
     "text": [
      "0.48626716208026177\n",
      "0.4093005381897121\n",
      "-24.982259182522803 [ 0.04643547 -3.17940702  1.16877281]\n"
     ]
    }
   ],
   "source": [
    "from sklearn.model_selection import train_test_split \n",
    "#lr: 알고리즘이 적용된 모델명\n",
    "from sklearn.linear_model import LinearRegression\n",
    "lr = LinearRegression() \n",
    "\n",
    "# 데이터 트레이닝: 80, 테스트: 20 \n",
    "Xtrain, Xtest, ytrain, ytest= train_test_split(X, y, test_size=0.2)\n",
    "\n",
    "# train 데이터를 사용하여 훈련\n",
    "lr.fit(Xtrain,ytrain)\n",
    "\n",
    "#훈련 데이터의 정확도\n",
    "print(lr.score(Xtrain, ytrain))\n",
    "\n",
    "#테스트 데이터의 정확도\n",
    "print(lr.score(Xtest, ytest))\n",
    "\n",
    "#기울기와 절편 출력\n",
    "print(lr.intercept_,lr.coef_)"
   ]
  },
  {
   "cell_type": "markdown",
   "id": "NbjgrWVokUGe",
   "metadata": {
    "id": "NbjgrWVokUGe"
   },
   "source": [
    "**[분석결과]**\n",
    "\n",
    " 과소적합\n",
    " \n",
    " 결과 수치의 해석\n",
    " MSE:\n",
    " RMSE:\n",
    " Score(R2):"
   ]
  },
  {
   "cell_type": "markdown",
   "id": "C0d7m6XYadVe",
   "metadata": {
    "id": "C0d7m6XYadVe"
   },
   "source": [
    "**[2번]데이터 standardscaler 사용**"
   ]
  },
  {
   "cell_type": "markdown",
   "id": "RTCYEVSvO9Tc",
   "metadata": {
    "id": "RTCYEVSvO9Tc"
   },
   "source": [
    "**[분석 조건]**\n",
    "\n",
    "* 알고리즘: LinearRegression\n",
    "* 데이터 셋: 153 rows X 6 columns\n",
    "* 결측량: 4.79%\n",
    "* 데이터 셋: 훈련 80%, 테스트: 20%\n",
    "* 데이터 셋: 스케일링:StandardScaler\n",
    "* 모델 평가방법: score 출력(R2값) / MSE값/ RMSE값\n"
   ]
  },
  {
   "cell_type": "code",
   "execution_count": 16,
   "id": "93a08f24",
   "metadata": {},
   "outputs": [
    {
     "name": "stdout",
     "output_type": "stream",
     "text": [
      "<class 'pandas.core.frame.DataFrame'>\n",
      "RangeIndex: 153 entries, 0 to 152\n",
      "Data columns (total 6 columns):\n",
      " #   Column   Non-Null Count  Dtype  \n",
      "---  ------   --------------  -----  \n",
      " 0   Ozone    153 non-null    float64\n",
      " 1   Solar.R  153 non-null    float64\n",
      " 2   Wind     153 non-null    float64\n",
      " 3   Temp     153 non-null    float64\n",
      " 4   Month    153 non-null    float64\n",
      " 5   Day      153 non-null    float64\n",
      "dtypes: float64(6)\n",
      "memory usage: 7.3 KB\n"
     ]
    }
   ],
   "source": [
    "df.info()"
   ]
  },
  {
   "cell_type": "code",
   "execution_count": 48,
   "id": "05c2cfcb",
   "metadata": {
    "colab": {
     "base_uri": "https://localhost:8080/"
    },
    "id": "05c2cfcb",
    "outputId": "4c09cd1c-682d-4993-d475-2295e8fa4980"
   },
   "outputs": [
    {
     "name": "stdout",
     "output_type": "stream",
     "text": [
      "0.4735263074403241\n",
      "0.4989947227530651\n",
      "42.407786885245905 [ 4.4637745  -9.66293949 11.73824695]\n"
     ]
    }
   ],
   "source": [
    "from sklearn.model_selection import train_test_split \n",
    "#lr: 알고리즘이 적용된 모델명\n",
    "from sklearn.linear_model import LinearRegression\n",
    "lr = LinearRegression() \n",
    "\n",
    "# 데이터 트레이닝: 80, 테스트: 20 \n",
    "Xtrain, Xtest, ytrain, ytest= train_test_split(X, y, test_size=0.2, random_state=42)\n",
    "\n",
    "#데이터 스케일링 조절: 정규화\n",
    "from sklearn.preprocessing import StandardScaler\n",
    "\n",
    "#StandardScaler 객체 생성\n",
    "scaler = StandardScaler()\n",
    "\n",
    "#StandardScaler로 훈련데이터(독립변수만) 훈련\n",
    "scaler.fit(Xtrain)\n",
    "\n",
    "#훈련데이터 스케일링 적용(독립변수만 적용)\n",
    "train_scaled = scaler.transform(Xtrain)\n",
    "\n",
    "#테스트 데이터 스케일링(독립변수만 적용)\n",
    "test_scaled = scaler.transform(Xtest)\n",
    "\n",
    "# train 데이터를 사용하여 훈련()\n",
    "lr.fit(train_scaled, ytrain)\n",
    "\n",
    "#훈련 데이터의 정확도\n",
    "print(lr.score(train_scaled, ytrain))\n",
    "\n",
    "#테스트 데이터의 정확도\n",
    "print(lr.score(test_scaled, ytest))\n",
    "print(lr.intercept_,lr.coef_)"
   ]
  },
  {
   "cell_type": "markdown",
   "id": "qFf3GwlZfNBj",
   "metadata": {
    "id": "qFf3GwlZfNBj"
   },
   "source": [
    "**[분석결과]**\n",
    "\n",
    " 과소적합"
   ]
  },
  {
   "cell_type": "markdown",
   "id": "32dea0ca",
   "metadata": {},
   "source": [
    "[3번]데이터 MinMaxScaler 사용"
   ]
  },
  {
   "cell_type": "markdown",
   "id": "e422c845",
   "metadata": {},
   "source": [
    "[분석 조건]\n",
    "\n",
    "알고리즘: LinearRegression\n",
    "\n",
    "데이터 셋: 153 rows X 6 columns\n",
    "\n",
    "결측량: 4.79%\n",
    "\n",
    "데이터 셋: 훈련 80%, 테스트: 20%\n",
    "\n",
    "데이터 셋: 스케일링:MinMaxScaler\n",
    "\n",
    "모델 평가방법: score 출력(R2값) / MSE값/ RMSE값"
   ]
  },
  {
   "cell_type": "code",
   "execution_count": 39,
   "id": "5869b199",
   "metadata": {},
   "outputs": [
    {
     "name": "stdout",
     "output_type": "stream",
     "text": [
      "<class 'pandas.core.frame.DataFrame'>\n",
      "RangeIndex: 153 entries, 0 to 152\n",
      "Data columns (total 6 columns):\n",
      " #   Column   Non-Null Count  Dtype  \n",
      "---  ------   --------------  -----  \n",
      " 0   Ozone    153 non-null    float64\n",
      " 1   Solar.R  153 non-null    float64\n",
      " 2   Wind     153 non-null    float64\n",
      " 3   Temp     153 non-null    float64\n",
      " 4   Month    153 non-null    float64\n",
      " 5   Day      153 non-null    float64\n",
      "dtypes: float64(6)\n",
      "memory usage: 7.3 KB\n"
     ]
    }
   ],
   "source": [
    "df.info()"
   ]
  },
  {
   "cell_type": "code",
   "execution_count": 44,
   "id": "9016eb48",
   "metadata": {},
   "outputs": [
    {
     "name": "stdout",
     "output_type": "stream",
     "text": [
      "0.4735263074403242\n",
      "0.4989947227530648\n",
      "-2.9701305158192786\n",
      "29.156945458644095 [ 16.85813209 -50.41746166  49.78748736]\n"
     ]
    }
   ],
   "source": [
    "from sklearn.model_selection import train_test_split \n",
    "\n",
    "# 데이터 트레이닝: 80, 테스트: 20 \n",
    "Xtrain, Xtest, ytrain, ytest= train_test_split(X, y, test_size=0.2, random_state=42)\n",
    "\n",
    "#데이터 스케일링 조절: 정규화\n",
    "from sklearn.preprocessing import MinMaxScaler\n",
    "\n",
    "#MinMaxScaler 객체 생성\n",
    "#MinMaxScaler로 데이터 셋트 변환, fit()과  transform() 호출\n",
    "MinMax = MinMaxScaler()\n",
    "\n",
    "MinMax.fit(Xtrain)\n",
    "Min_train_scaled = MinMax.transform(Xtrain)\n",
    "Min_test_scaled = MinMax.transform(Xtest)\n",
    "\n",
    "# train 데이터를 사용하여 훈련\n",
    "lr.fit(Min_train_scaled, ytrain)\n",
    "\n",
    "#훈련 데이터의 정확도\n",
    "print(lr.score(Min_train_scaled, ytrain))\n",
    "\n",
    "#테스트 데이터의 정확도\n",
    "print(lr.score(Min_test_scaled, ytest))\n",
    "#테스트 데이터의 정확도\n",
    "print(lr.score(test_scaled, ytest))\n",
    "print(lr.intercept_,lr.coef_)\n"
   ]
  },
  {
   "cell_type": "markdown",
   "id": "0146b996",
   "metadata": {
    "id": "0146b996"
   },
   "source": [
    "##############[모델 구성: OLS알고리즘]###################################"
   ]
  },
  {
   "cell_type": "markdown",
   "id": "ab43825f",
   "metadata": {
    "id": "ab43825f"
   },
   "source": [
    "#테스트 데이터 scaled train, test"
   ]
  },
  {
   "cell_type": "code",
   "execution_count": 45,
   "id": "83f2d464",
   "metadata": {
    "colab": {
     "base_uri": "https://localhost:8080/"
    },
    "id": "83f2d464",
    "outputId": "77287d36-6227-4747-9585-34ff26b758d2"
   },
   "outputs": [],
   "source": [
    "#OLS 알고리즘을 사용하기 위해 import\n",
    "import statsmodels.api as sm"
   ]
  },
  {
   "cell_type": "code",
   "execution_count": 46,
   "id": "1e7da255",
   "metadata": {
    "colab": {
     "base_uri": "https://localhost:8080/",
     "height": 473
    },
    "id": "1e7da255",
    "outputId": "c5bb4e83-a683-4ebf-b7c6-883d339ba677"
   },
   "outputs": [
    {
     "data": {
      "text/html": [
       "<table class=\"simpletable\">\n",
       "<caption>OLS Regression Results</caption>\n",
       "<tr>\n",
       "  <th>Dep. Variable:</th>          <td>Ozone</td>      <th>  R-squared (uncentered):</th>      <td>   0.831</td>\n",
       "</tr>\n",
       "<tr>\n",
       "  <th>Model:</th>                   <td>OLS</td>       <th>  Adj. R-squared (uncentered):</th> <td>   0.828</td>\n",
       "</tr>\n",
       "<tr>\n",
       "  <th>Method:</th>             <td>Least Squares</td>  <th>  F-statistic:       </th>          <td>   246.7</td>\n",
       "</tr>\n",
       "<tr>\n",
       "  <th>Date:</th>             <td>Sun, 12 Dec 2021</td> <th>  Prob (F-statistic):</th>          <td>9.03e-58</td>\n",
       "</tr>\n",
       "<tr>\n",
       "  <th>Time:</th>                 <td>23:27:24</td>     <th>  Log-Likelihood:    </th>          <td> -682.21</td>\n",
       "</tr>\n",
       "<tr>\n",
       "  <th>No. Observations:</th>      <td>   153</td>      <th>  AIC:               </th>          <td>   1370.</td>\n",
       "</tr>\n",
       "<tr>\n",
       "  <th>Df Residuals:</th>          <td>   150</td>      <th>  BIC:               </th>          <td>   1380.</td>\n",
       "</tr>\n",
       "<tr>\n",
       "  <th>Df Model:</th>              <td>     3</td>      <th>                     </th>              <td> </td>   \n",
       "</tr>\n",
       "<tr>\n",
       "  <th>Covariance Type:</th>      <td>nonrobust</td>    <th>                     </th>              <td> </td>   \n",
       "</tr>\n",
       "</table>\n",
       "<table class=\"simpletable\">\n",
       "<tr>\n",
       "     <td></td>        <th>coef</th>     <th>std err</th>      <th>t</th>      <th>P>|t|</th>  <th>[0.025</th>    <th>0.975]</th>  \n",
       "</tr>\n",
       "<tr>\n",
       "  <th>Solar.R</th> <td>    0.0600</td> <td>    0.020</td> <td>    2.969</td> <td> 0.003</td> <td>    0.020</td> <td>    0.100</td>\n",
       "</tr>\n",
       "<tr>\n",
       "  <th>Wind</th>    <td>   -3.4514</td> <td>    0.408</td> <td>   -8.459</td> <td> 0.000</td> <td>   -4.258</td> <td>   -2.645</td>\n",
       "</tr>\n",
       "<tr>\n",
       "  <th>Temp</th>    <td>    0.8430</td> <td>    0.071</td> <td>   11.820</td> <td> 0.000</td> <td>    0.702</td> <td>    0.984</td>\n",
       "</tr>\n",
       "</table>\n",
       "<table class=\"simpletable\">\n",
       "<tr>\n",
       "  <th>Omnibus:</th>       <td>40.837</td> <th>  Durbin-Watson:     </th> <td>   1.639</td>\n",
       "</tr>\n",
       "<tr>\n",
       "  <th>Prob(Omnibus):</th> <td> 0.000</td> <th>  Jarque-Bera (JB):  </th> <td>  79.840</td>\n",
       "</tr>\n",
       "<tr>\n",
       "  <th>Skew:</th>          <td> 1.210</td> <th>  Prob(JB):          </th> <td>4.60e-18</td>\n",
       "</tr>\n",
       "<tr>\n",
       "  <th>Kurtosis:</th>      <td> 5.581</td> <th>  Cond. No.          </th> <td>    52.5</td>\n",
       "</tr>\n",
       "</table><br/><br/>Notes:<br/>[1] R² is computed without centering (uncentered) since the model does not contain a constant.<br/>[2] Standard Errors assume that the covariance matrix of the errors is correctly specified."
      ],
      "text/plain": [
       "<class 'statsmodels.iolib.summary.Summary'>\n",
       "\"\"\"\n",
       "                                 OLS Regression Results                                \n",
       "=======================================================================================\n",
       "Dep. Variable:                  Ozone   R-squared (uncentered):                   0.831\n",
       "Model:                            OLS   Adj. R-squared (uncentered):              0.828\n",
       "Method:                 Least Squares   F-statistic:                              246.7\n",
       "Date:                Sun, 12 Dec 2021   Prob (F-statistic):                    9.03e-58\n",
       "Time:                        23:27:24   Log-Likelihood:                         -682.21\n",
       "No. Observations:                 153   AIC:                                      1370.\n",
       "Df Residuals:                     150   BIC:                                      1380.\n",
       "Df Model:                           3                                                  \n",
       "Covariance Type:            nonrobust                                                  \n",
       "==============================================================================\n",
       "                 coef    std err          t      P>|t|      [0.025      0.975]\n",
       "------------------------------------------------------------------------------\n",
       "Solar.R        0.0600      0.020      2.969      0.003       0.020       0.100\n",
       "Wind          -3.4514      0.408     -8.459      0.000      -4.258      -2.645\n",
       "Temp           0.8430      0.071     11.820      0.000       0.702       0.984\n",
       "==============================================================================\n",
       "Omnibus:                       40.837   Durbin-Watson:                   1.639\n",
       "Prob(Omnibus):                  0.000   Jarque-Bera (JB):               79.840\n",
       "Skew:                           1.210   Prob(JB):                     4.60e-18\n",
       "Kurtosis:                       5.581   Cond. No.                         52.5\n",
       "==============================================================================\n",
       "\n",
       "Notes:\n",
       "[1] R² is computed without centering (uncentered) since the model does not contain a constant.\n",
       "[2] Standard Errors assume that the covariance matrix of the errors is correctly specified.\n",
       "\"\"\""
      ]
     },
     "execution_count": 46,
     "metadata": {},
     "output_type": "execute_result"
    }
   ],
   "source": [
    "#전달이 사이킷런 알고리즘들과 다르다.\n",
    "#알고리즘 OLS에 데이터 전달이 * (y,X) 주의\n",
    "model = sm.OLS(y, X)\n",
    "result = model.fit()\n",
    "result.summary()"
   ]
  },
  {
   "cell_type": "markdown",
   "id": "8b57568f",
   "metadata": {
    "id": "7cc7e9e0"
   },
   "source": [
    "[LS 분석 결과 해석]\n",
    "\n",
    "회귀 분석 결과에서 나오는 주요 결과물들의 설명을 아래와 같다.\n",
    "-Dep.Variable: Dependent Variable,종속변수를 의미\n",
    "-Model:모델링 방법(OLS: Ordinary Least Squares)\n",
    "-Df Residuals: DF는 Degree of Freedom으로 자유도를 뜻하는데, \n",
    "-DF Residuals는 전체 표본 수에서 측정되는 변수들(종속변수 및 독립변수)의 개수를 빼서 구한다.\n",
    "-Df Model: 독립변수의 개수이다.\n",
    "-R squared: R의 제곱이라는 뜻이고 결정계수를 의미한다.\n",
    " 전체 데이터 중 해당 회귀모델이 설명할 수 있는 데이터의 비율, 회귀식의 설명력을 나타낸다. SSTr/SST이나 상관계수 R을 제곱해서 구할 수 있다. (상세 내용은 본 포스팅 #4.에서 추가설명 한다)\n",
    "-F-statistics: F통계량을 뜻한다. F통계량은 MSR/MSE로 구할 수 있다. (상세 내용은 본 포스팅 #5. 에서 추가설명 한다)\n",
    "-Prob: F통계량에 해당하는 P-value를 의미한다. P는 Probability의 첫글자이다.\n",
    "[회귀계수]: 다음 두 값은 해당 모델의 회귀계수들이다.\n",
    "-Intercept coef: Intercept coefficient는 회귀식의 절편 값을 의미한다.\n",
    "-speed coef: 독립변수 coefficient는 독립변수 \"speed\"의 회귀계수를 의미하며, 회귀식에서 기울기를 의미한다. \n",
    "  --> 위의 회귀계수들을 활용해 다음과 같이 회귀식을 수기로 작성할 수 있다.\n",
    "  --> y = 3.9324X -17.5791"
   ]
  },
  {
   "cell_type": "code",
   "execution_count": null,
   "id": "42a6e3db",
   "metadata": {
    "id": "42a6e3db"
   },
   "outputs": [],
   "source": []
  }
 ],
 "metadata": {
  "celltoolbar": "Edit Metadata",
  "colab": {
   "collapsed_sections": [],
   "name": "OZone예측.ipynb",
   "provenance": []
  },
  "kernelspec": {
   "display_name": "Python 3 (ipykernel)",
   "language": "python",
   "name": "python3"
  },
  "language_info": {
   "codemirror_mode": {
    "name": "ipython",
    "version": 3
   },
   "file_extension": ".py",
   "mimetype": "text/x-python",
   "name": "python",
   "nbconvert_exporter": "python",
   "pygments_lexer": "ipython3",
   "version": "3.9.7"
  },
  "latex_envs": {
   "LaTeX_envs_menu_present": true,
   "autoclose": false,
   "autocomplete": true,
   "bibliofile": "biblio.bib",
   "cite_by": "apalike",
   "current_citInitial": 1,
   "eqLabelWithNumbers": true,
   "eqNumInitial": 1,
   "hotkeys": {
    "equation": "Ctrl-E",
    "itemize": "Ctrl-I"
   },
   "labels_anchors": false,
   "latex_user_defs": false,
   "report_style_numbering": false,
   "user_envs_cfg": false
  },
  "toc": {
   "base_numbering": 1,
   "nav_menu": {},
   "number_sections": true,
   "sideBar": true,
   "skip_h1_title": false,
   "title_cell": "Table of Contents",
   "title_sidebar": "Contents",
   "toc_cell": false,
   "toc_position": {
    "height": "calc(100% - 180px)",
    "left": "10px",
    "top": "150px",
    "width": "326.797px"
   },
   "toc_section_display": true,
   "toc_window_display": true
  }
 },
 "nbformat": 4,
 "nbformat_minor": 5
}
