{
 "cells": [
  {
   "cell_type": "code",
   "execution_count": 1,
   "id": "7fa31baa",
   "metadata": {},
   "outputs": [],
   "source": [
    "import warnings\n",
    "warnings.filterwarnings(action='ignore')"
   ]
  },
  {
   "cell_type": "code",
   "execution_count": 2,
   "id": "cb6cdbaa",
   "metadata": {},
   "outputs": [],
   "source": [
    "import numpy as np"
   ]
  },
  {
   "cell_type": "markdown",
   "id": "027dad1e",
   "metadata": {},
   "source": [
    "### 넘파이와 리스트와의 차이점\n",
    "\n",
    "##### 리스트\n",
    "- 데이터형의 혼합 가능\n",
    "- 차원 혼합 가능\n",
    "- 리스트 연산 : +(연결), * n(반복)\n",
    "\n",
    "##### 넘파이 배열 = 행열 = 매트릭스\n",
    "- 데이터형의 혼합 불가능, 한가지 데이터형만 가능\n",
    "- n 차원인 경우 각 행의 컬럼(원소)수가 같아야 한다.\n",
    "- 행렬 연산 O"
   ]
  },
  {
   "cell_type": "code",
   "execution_count": 8,
   "id": "8bb779a3",
   "metadata": {},
   "outputs": [
    {
     "data": {
      "text/plain": [
       "[1, True, '홍길동', 4.56]"
      ]
     },
     "execution_count": 8,
     "metadata": {},
     "output_type": "execute_result"
    }
   ],
   "source": [
    "# 데이터형의 혼합 가능\n",
    "myList = [1, True, '홍길동', 4.56]\n",
    "myList"
   ]
  },
  {
   "cell_type": "code",
   "execution_count": 9,
   "id": "65e47a57",
   "metadata": {},
   "outputs": [
    {
     "data": {
      "text/plain": [
       "[[1, 2, 3], [True, False], '홍길동', 4.56]"
      ]
     },
     "execution_count": 9,
     "metadata": {},
     "output_type": "execute_result"
    }
   ],
   "source": [
    "# 차원 혼합 가능\n",
    "myList2 = [[1, 2, 3], [True, False], '홍길동', 4.56]\n",
    "myList2"
   ]
  },
  {
   "cell_type": "code",
   "execution_count": 15,
   "id": "2f47f5e4",
   "metadata": {},
   "outputs": [
    {
     "data": {
      "text/plain": [
       "[1, 2, 3, 4, 5, 4, 5, 10, 20]"
      ]
     },
     "execution_count": 15,
     "metadata": {},
     "output_type": "execute_result"
    }
   ],
   "source": [
    "# 리스트간의 연산 : +\n",
    "list1 = [1, 2, 3, 4, 5]\n",
    "list2 = [4, 5, 10, 20]\n",
    "list1 + list2"
   ]
  },
  {
   "cell_type": "code",
   "execution_count": 16,
   "id": "07056610",
   "metadata": {},
   "outputs": [
    {
     "data": {
      "text/plain": [
       "[1, 2, 3, 4, 5, 1, 2, 3, 4, 5, 1, 2, 3, 4, 5]"
      ]
     },
     "execution_count": 16,
     "metadata": {},
     "output_type": "execute_result"
    }
   ],
   "source": [
    "# 리스트간의 연산 : * n\n",
    "list1 * 3"
   ]
  },
  {
   "cell_type": "markdown",
   "id": "c2cb9dff",
   "metadata": {},
   "source": [
    "# 넘파이 배열 생성\n",
    "np.array(리스트)\n",
    "\n",
    "# 속성\n",
    "- shape : 구조\n",
    "- size : 길이\n",
    "- dtype : 데이터형\n",
    "- ndim : 차원"
   ]
  },
  {
   "cell_type": "code",
   "execution_count": 27,
   "id": "4e120a93",
   "metadata": {},
   "outputs": [],
   "source": [
    "# 1차원\n",
    "arr1 = np.array([1, 2, 10, 5, 9.5])\n",
    "# 2차원 = 3*3\n",
    "arr2 = np.array([[1, 2, 3], [4, 5, 6], [7, 8, 9]])"
   ]
  },
  {
   "cell_type": "code",
   "execution_count": 28,
   "id": "831b28a8",
   "metadata": {},
   "outputs": [
    {
     "name": "stdout",
     "output_type": "stream",
     "text": [
      "[ 1.   2.  10.   5.   9.5]\n"
     ]
    },
    {
     "data": {
      "text/plain": [
       "array([ 1. ,  2. , 10. ,  5. ,  9.5])"
      ]
     },
     "execution_count": 28,
     "metadata": {},
     "output_type": "execute_result"
    }
   ],
   "source": [
    "print(arr1)\n",
    "arr1"
   ]
  },
  {
   "cell_type": "code",
   "execution_count": 29,
   "id": "0847c517",
   "metadata": {},
   "outputs": [
    {
     "data": {
      "text/plain": [
       "(1, (5,), 5, dtype('float64'))"
      ]
     },
     "execution_count": 29,
     "metadata": {},
     "output_type": "execute_result"
    }
   ],
   "source": [
    "arr1.ndim, arr1.shape, arr1.size, arr1.dtype"
   ]
  },
  {
   "cell_type": "code",
   "execution_count": 31,
   "id": "86e41226",
   "metadata": {},
   "outputs": [
    {
     "name": "stdout",
     "output_type": "stream",
     "text": [
      "[[1 2 3]\n",
      " [4 5 6]\n",
      " [7 8 9]]\n"
     ]
    },
    {
     "data": {
      "text/plain": [
       "array([[1, 2, 3],\n",
       "       [4, 5, 6],\n",
       "       [7, 8, 9]])"
      ]
     },
     "execution_count": 31,
     "metadata": {},
     "output_type": "execute_result"
    }
   ],
   "source": [
    "print(arr2)\n",
    "arr2"
   ]
  },
  {
   "cell_type": "code",
   "execution_count": 30,
   "id": "f68142ac",
   "metadata": {},
   "outputs": [
    {
     "data": {
      "text/plain": [
       "(2, (3, 3), 9, dtype('int32'))"
      ]
     },
     "execution_count": 30,
     "metadata": {},
     "output_type": "execute_result"
    }
   ],
   "source": [
    "arr2.ndim, arr2.shape, arr2.size, arr2.dtype"
   ]
  },
  {
   "cell_type": "code",
   "execution_count": 33,
   "id": "9c4be01d",
   "metadata": {},
   "outputs": [
    {
     "data": {
      "text/plain": [
       "(3, 9)"
      ]
     },
     "execution_count": 33,
     "metadata": {},
     "output_type": "execute_result"
    }
   ],
   "source": [
    "# len() => 행수\n",
    "# size => 전체 개수\n",
    "len(arr2), arr2.size"
   ]
  },
  {
   "cell_type": "markdown",
   "id": "6416e9fb",
   "metadata": {},
   "source": [
    "## 초기값이 지정된 넘파이 배열 생성\n",
    "\n",
    "- np.zeros(n) : n개로 구성된 넘파이 배열 생성. 값은 모두 0\n",
    "- np.zeros([n, m]) : n*m 개로 구성된 넘파이 배열생성. 값은 모두 0\n",
    "- np.ones(n) : n개로 구성된 넘파이 배열 생성. 값은 모두 1\n",
    "- np.ones([n, m]) : n*m 개로 구성된 넘파이 배열생성. 값은 모두 1\n",
    "- np.eye(n) : 대각선의 길이와 값이 1이고 나머지가 0인 배열 생성\n",
    "- np.tri(n) : 좌하단 삼각형으로 1을 채운 배열 생성\n",
    "- np.arange(start, end, step) : 순차적인 숫자의 조합으로 배열 생성\n",
    "- np.random.randint(start, end, n) : 정수 형태 n개의 난수로 구성된 배열 생성"
   ]
  },
  {
   "cell_type": "code",
   "execution_count": 34,
   "id": "c3b8d2f2",
   "metadata": {},
   "outputs": [
    {
     "data": {
      "text/plain": [
       "array([0., 0., 0., 0., 0., 0., 0., 0., 0., 0.])"
      ]
     },
     "execution_count": 34,
     "metadata": {},
     "output_type": "execute_result"
    }
   ],
   "source": [
    "np.zeros(10)"
   ]
  },
  {
   "cell_type": "code",
   "execution_count": 35,
   "id": "7cf7b0eb",
   "metadata": {},
   "outputs": [
    {
     "data": {
      "text/plain": [
       "array([[0., 0.],\n",
       "       [0., 0.]])"
      ]
     },
     "execution_count": 35,
     "metadata": {},
     "output_type": "execute_result"
    }
   ],
   "source": [
    "np.zeros([2, 2])"
   ]
  },
  {
   "cell_type": "code",
   "execution_count": 36,
   "id": "27a7e4bb",
   "metadata": {},
   "outputs": [
    {
     "data": {
      "text/plain": [
       "array([1., 1., 1., 1., 1., 1., 1., 1., 1., 1.])"
      ]
     },
     "execution_count": 36,
     "metadata": {},
     "output_type": "execute_result"
    }
   ],
   "source": [
    "np.ones(10)"
   ]
  },
  {
   "cell_type": "code",
   "execution_count": 38,
   "id": "870cfe4b",
   "metadata": {},
   "outputs": [
    {
     "data": {
      "text/plain": [
       "array([[1., 0., 0., 0., 0.],\n",
       "       [0., 1., 0., 0., 0.],\n",
       "       [0., 0., 1., 0., 0.],\n",
       "       [0., 0., 0., 1., 0.],\n",
       "       [0., 0., 0., 0., 1.]])"
      ]
     },
     "execution_count": 38,
     "metadata": {},
     "output_type": "execute_result"
    }
   ],
   "source": [
    "np.eye(5)"
   ]
  },
  {
   "cell_type": "code",
   "execution_count": 39,
   "id": "a4151dff",
   "metadata": {},
   "outputs": [
    {
     "data": {
      "text/plain": [
       "array([[1., 0., 0., 0., 0.],\n",
       "       [1., 1., 0., 0., 0.],\n",
       "       [1., 1., 1., 0., 0.],\n",
       "       [1., 1., 1., 1., 0.],\n",
       "       [1., 1., 1., 1., 1.]])"
      ]
     },
     "execution_count": 39,
     "metadata": {},
     "output_type": "execute_result"
    }
   ],
   "source": [
    "np.tri(5)"
   ]
  },
  {
   "cell_type": "code",
   "execution_count": 42,
   "id": "94f72ad3",
   "metadata": {},
   "outputs": [
    {
     "data": {
      "text/plain": [
       "array([ 1,  2,  3,  4,  5,  6,  7,  8,  9, 10])"
      ]
     },
     "execution_count": 42,
     "metadata": {},
     "output_type": "execute_result"
    }
   ],
   "source": [
    "# np.arange(start, end, step)\n",
    "np.arange(1, 11)"
   ]
  },
  {
   "cell_type": "code",
   "execution_count": 43,
   "id": "551b7532",
   "metadata": {},
   "outputs": [
    {
     "data": {
      "text/plain": [
       "array([ 1,  3,  5,  7,  9, 11, 13, 15, 17, 19, 21, 23, 25, 27, 29, 31, 33,\n",
       "       35, 37, 39, 41, 43, 45, 47, 49, 51, 53, 55, 57, 59, 61, 63, 65, 67,\n",
       "       69, 71, 73, 75, 77, 79, 81, 83, 85, 87, 89, 91, 93, 95, 97, 99])"
      ]
     },
     "execution_count": 43,
     "metadata": {},
     "output_type": "execute_result"
    }
   ],
   "source": [
    "np.arange(1, 100, 2)"
   ]
  },
  {
   "cell_type": "code",
   "execution_count": 48,
   "id": "0ac74f4f",
   "metadata": {},
   "outputs": [
    {
     "data": {
      "text/plain": [
       "array([[ 1,  2],\n",
       "       [ 3,  4],\n",
       "       [ 5,  6],\n",
       "       [ 7,  8],\n",
       "       [ 9, 10]])"
      ]
     },
     "execution_count": 48,
     "metadata": {},
     "output_type": "execute_result"
    }
   ],
   "source": [
    "# reshape(n, m) : 행렬 구조 변경\n",
    "np.arange(1, 11).reshape(5, 2)"
   ]
  },
  {
   "cell_type": "code",
   "execution_count": 50,
   "id": "1c76b98e",
   "metadata": {},
   "outputs": [
    {
     "ename": "ValueError",
     "evalue": "cannot reshape array of size 10 into shape (5,3)",
     "output_type": "error",
     "traceback": [
      "\u001b[1;31m---------------------------------------------------------------------------\u001b[0m",
      "\u001b[1;31mValueError\u001b[0m                                Traceback (most recent call last)",
      "\u001b[1;32m<ipython-input-50-427603d880f6>\u001b[0m in \u001b[0;36m<module>\u001b[1;34m\u001b[0m\n\u001b[0;32m      1\u001b[0m \u001b[1;31m# 행렬 구조가 안맞으면 오류 발생\u001b[0m\u001b[1;33m\u001b[0m\u001b[1;33m\u001b[0m\u001b[1;33m\u001b[0m\u001b[0m\n\u001b[1;32m----> 2\u001b[1;33m \u001b[0mnp\u001b[0m\u001b[1;33m.\u001b[0m\u001b[0marange\u001b[0m\u001b[1;33m(\u001b[0m\u001b[1;36m1\u001b[0m\u001b[1;33m,\u001b[0m \u001b[1;36m11\u001b[0m\u001b[1;33m)\u001b[0m\u001b[1;33m.\u001b[0m\u001b[0mreshape\u001b[0m\u001b[1;33m(\u001b[0m\u001b[1;36m5\u001b[0m\u001b[1;33m,\u001b[0m \u001b[1;36m3\u001b[0m\u001b[1;33m)\u001b[0m\u001b[1;33m\u001b[0m\u001b[1;33m\u001b[0m\u001b[0m\n\u001b[0m",
      "\u001b[1;31mValueError\u001b[0m: cannot reshape array of size 10 into shape (5,3)"
     ]
    }
   ],
   "source": [
    "# 행렬 구조가 안맞으면 오류 발생\n",
    "np.arange(1, 11).reshape(5, 3)"
   ]
  },
  {
   "cell_type": "code",
   "execution_count": 67,
   "id": "50c142f5",
   "metadata": {},
   "outputs": [
    {
     "data": {
      "text/plain": [
       "array([73, 15, 61, 69, 38, 78, 21, 56, 34, 70, 68, 89, 96, 43, 57, 10, 14,\n",
       "       99, 12,  5])"
      ]
     },
     "execution_count": 67,
     "metadata": {},
     "output_type": "execute_result"
    }
   ],
   "source": [
    "# 난수 배열\n",
    "np.random.randint(1,100,20)"
   ]
  },
  {
   "cell_type": "code",
   "execution_count": 68,
   "id": "05e8c6eb",
   "metadata": {},
   "outputs": [
    {
     "data": {
      "text/plain": [
       "array([[19, 11, 11,  4],\n",
       "       [ 4, 19, 11, 15],\n",
       "       [17, 16,  3,  4],\n",
       "       [ 5, 12, 12,  8],\n",
       "       [16,  2,  1,  4]])"
      ]
     },
     "execution_count": 68,
     "metadata": {},
     "output_type": "execute_result"
    }
   ],
   "source": [
    "np.random.randint(1,20,20).reshape(5, 4)"
   ]
  },
  {
   "cell_type": "markdown",
   "id": "6e1381df",
   "metadata": {},
   "source": [
    "## 넘파이 배열의 연산\n",
    "\n",
    "- 같은 자리의 데이터끼리 연산"
   ]
  },
  {
   "cell_type": "code",
   "execution_count": 70,
   "id": "70c15161",
   "metadata": {},
   "outputs": [],
   "source": [
    "arr1 = np.random.randint(1, 50, 16).reshape(4, 4)\n",
    "arr2 = np.random.randint(1, 50, 16).reshape(4, 4)"
   ]
  },
  {
   "cell_type": "code",
   "execution_count": 72,
   "id": "e2de5bd5",
   "metadata": {},
   "outputs": [
    {
     "data": {
      "text/plain": [
       "array([[11,  8, 44, 27],\n",
       "       [29, 19,  2, 44],\n",
       "       [20, 33, 12,  8],\n",
       "       [39, 27, 25,  6]])"
      ]
     },
     "execution_count": 72,
     "metadata": {},
     "output_type": "execute_result"
    }
   ],
   "source": [
    "arr1"
   ]
  },
  {
   "cell_type": "code",
   "execution_count": 73,
   "id": "b7b457a8",
   "metadata": {},
   "outputs": [
    {
     "data": {
      "text/plain": [
       "array([[35, 49, 38, 34],\n",
       "       [ 5, 26, 34, 23],\n",
       "       [10, 27, 46, 48],\n",
       "       [ 3, 28, 20, 11]])"
      ]
     },
     "execution_count": 73,
     "metadata": {},
     "output_type": "execute_result"
    }
   ],
   "source": [
    "arr2"
   ]
  },
  {
   "cell_type": "code",
   "execution_count": 74,
   "id": "10e85123",
   "metadata": {},
   "outputs": [
    {
     "data": {
      "text/plain": [
       "array([[46, 57, 82, 61],\n",
       "       [34, 45, 36, 67],\n",
       "       [30, 60, 58, 56],\n",
       "       [42, 55, 45, 17]])"
      ]
     },
     "execution_count": 74,
     "metadata": {},
     "output_type": "execute_result"
    }
   ],
   "source": [
    "arr1 + arr2"
   ]
  },
  {
   "cell_type": "code",
   "execution_count": 75,
   "id": "43a543bd",
   "metadata": {},
   "outputs": [
    {
     "data": {
      "text/plain": [
       "array([[-24, -41,   6,  -7],\n",
       "       [ 24,  -7, -32,  21],\n",
       "       [ 10,   6, -34, -40],\n",
       "       [ 36,  -1,   5,  -5]])"
      ]
     },
     "execution_count": 75,
     "metadata": {},
     "output_type": "execute_result"
    }
   ],
   "source": [
    "arr1 - arr2"
   ]
  },
  {
   "cell_type": "code",
   "execution_count": 76,
   "id": "2854658a",
   "metadata": {},
   "outputs": [
    {
     "data": {
      "text/plain": [
       "array([[11,  8,  6, 27],\n",
       "       [ 4, 19,  2, 21],\n",
       "       [ 0,  6, 12,  8],\n",
       "       [ 0, 27,  5,  6]], dtype=int32)"
      ]
     },
     "execution_count": 76,
     "metadata": {},
     "output_type": "execute_result"
    }
   ],
   "source": [
    "arr1 % arr2"
   ]
  },
  {
   "cell_type": "code",
   "execution_count": 77,
   "id": "76eb2384",
   "metadata": {},
   "outputs": [
    {
     "data": {
      "text/plain": [
       "array([[ 0.31428571,  0.16326531,  1.15789474,  0.79411765],\n",
       "       [ 5.8       ,  0.73076923,  0.05882353,  1.91304348],\n",
       "       [ 2.        ,  1.22222222,  0.26086957,  0.16666667],\n",
       "       [13.        ,  0.96428571,  1.25      ,  0.54545455]])"
      ]
     },
     "execution_count": 77,
     "metadata": {},
     "output_type": "execute_result"
    }
   ],
   "source": [
    "arr1 / arr2"
   ]
  },
  {
   "cell_type": "code",
   "execution_count": 78,
   "id": "b6646523",
   "metadata": {},
   "outputs": [
    {
     "data": {
      "text/plain": [
       "array([[ 0,  0,  1,  0],\n",
       "       [ 5,  0,  0,  1],\n",
       "       [ 2,  1,  0,  0],\n",
       "       [13,  0,  1,  0]], dtype=int32)"
      ]
     },
     "execution_count": 78,
     "metadata": {},
     "output_type": "execute_result"
    }
   ],
   "source": [
    "arr1 // arr2"
   ]
  },
  {
   "cell_type": "code",
   "execution_count": 79,
   "id": "d60381df",
   "metadata": {},
   "outputs": [
    {
     "data": {
      "text/plain": [
       "array([[ 385,  392, 1672,  918],\n",
       "       [ 145,  494,   68, 1012],\n",
       "       [ 200,  891,  552,  384],\n",
       "       [ 117,  756,  500,   66]])"
      ]
     },
     "execution_count": 79,
     "metadata": {},
     "output_type": "execute_result"
    }
   ],
   "source": [
    "arr1 * arr2"
   ]
  },
  {
   "cell_type": "code",
   "execution_count": 81,
   "id": "8d541f1b",
   "metadata": {},
   "outputs": [
    {
     "data": {
      "text/plain": [
       "array([[11, 29, 20, 39],\n",
       "       [ 8, 19, 33, 27],\n",
       "       [44,  2, 12, 25],\n",
       "       [27, 44,  8,  6]])"
      ]
     },
     "execution_count": 81,
     "metadata": {},
     "output_type": "execute_result"
    }
   ],
   "source": [
    "# 전치행렬\n",
    "arr1.T"
   ]
  },
  {
   "cell_type": "code",
   "execution_count": 82,
   "id": "2ee5638d",
   "metadata": {},
   "outputs": [],
   "source": [
    "# 행렬의 곱 - Dot 연산\n",
    "# np.dot(행렬1, 행렬2)"
   ]
  },
  {
   "cell_type": "code",
   "execution_count": 92,
   "id": "7860234e",
   "metadata": {},
   "outputs": [],
   "source": [
    "# 2행 3열\n",
    "arr3 = np.random.randint(1, 20, 6).reshape(2, 3)\n",
    "\n",
    "# 3행 2열\n",
    "arr4 = np.random.randint(1, 20, 6).reshape(3, 2)"
   ]
  },
  {
   "cell_type": "code",
   "execution_count": 94,
   "id": "511d2184",
   "metadata": {},
   "outputs": [
    {
     "data": {
      "text/plain": [
       "array([[ 8, 10,  6],\n",
       "       [18, 17, 13]])"
      ]
     },
     "execution_count": 94,
     "metadata": {},
     "output_type": "execute_result"
    }
   ],
   "source": [
    "arr3"
   ]
  },
  {
   "cell_type": "code",
   "execution_count": 95,
   "id": "2abdb118",
   "metadata": {},
   "outputs": [
    {
     "data": {
      "text/plain": [
       "array([[ 3, 19],\n",
       "       [19, 16],\n",
       "       [ 9,  7]])"
      ]
     },
     "execution_count": 95,
     "metadata": {},
     "output_type": "execute_result"
    }
   ],
   "source": [
    "arr4"
   ]
  },
  {
   "cell_type": "code",
   "execution_count": 96,
   "id": "d41b0bd5",
   "metadata": {},
   "outputs": [
    {
     "ename": "ValueError",
     "evalue": "operands could not be broadcast together with shapes (2,3) (3,2) ",
     "output_type": "error",
     "traceback": [
      "\u001b[1;31m---------------------------------------------------------------------------\u001b[0m",
      "\u001b[1;31mValueError\u001b[0m                                Traceback (most recent call last)",
      "\u001b[1;32m<ipython-input-96-14d8c3101051>\u001b[0m in \u001b[0;36m<module>\u001b[1;34m\u001b[0m\n\u001b[1;32m----> 1\u001b[1;33m \u001b[0marr3\u001b[0m \u001b[1;33m*\u001b[0m \u001b[0marr4\u001b[0m\u001b[1;33m\u001b[0m\u001b[1;33m\u001b[0m\u001b[0m\n\u001b[0m",
      "\u001b[1;31mValueError\u001b[0m: operands could not be broadcast together with shapes (2,3) (3,2) "
     ]
    }
   ],
   "source": [
    "arr3 * arr4"
   ]
  },
  {
   "cell_type": "code",
   "execution_count": 93,
   "id": "b6b4bccf",
   "metadata": {},
   "outputs": [
    {
     "data": {
      "text/plain": [
       "array([[268, 354],\n",
       "       [494, 705]])"
      ]
     },
     "execution_count": 93,
     "metadata": {},
     "output_type": "execute_result"
    }
   ],
   "source": [
    "np.dot(arr3, arr4)"
   ]
  },
  {
   "cell_type": "code",
   "execution_count": 100,
   "id": "25a63e24",
   "metadata": {},
   "outputs": [
    {
     "data": {
      "text/plain": [
       "[1, 2, 3, 4, 5, 1, 2, 3, 4, 5]"
      ]
     },
     "execution_count": 100,
     "metadata": {},
     "output_type": "execute_result"
    }
   ],
   "source": [
    "# 리스트의 n 곱하기\n",
    "[1, 2, 3, 4, 5] * 2"
   ]
  },
  {
   "cell_type": "code",
   "execution_count": 101,
   "id": "af9506ee",
   "metadata": {},
   "outputs": [
    {
     "data": {
      "text/plain": [
       "array([[ 3, 19],\n",
       "       [19, 16],\n",
       "       [ 9,  7]])"
      ]
     },
     "execution_count": 101,
     "metadata": {},
     "output_type": "execute_result"
    }
   ],
   "source": [
    "# n을 곱한다.\n",
    "arr4"
   ]
  },
  {
   "cell_type": "code",
   "execution_count": 102,
   "id": "f6224c22",
   "metadata": {},
   "outputs": [
    {
     "data": {
      "text/plain": [
       "array([[15, 95],\n",
       "       [95, 80],\n",
       "       [45, 35]])"
      ]
     },
     "execution_count": 102,
     "metadata": {},
     "output_type": "execute_result"
    }
   ],
   "source": [
    "arr4 * 5"
   ]
  },
  {
   "cell_type": "markdown",
   "id": "4a2ab719",
   "metadata": {},
   "source": [
    "### 넘파이 배열의 인덱싱과 슬라이싱\n",
    "\n",
    "- 인덱싱\n",
    "```\n",
    "넘파이배열[row][column]\n",
    "넘파이배열[row, column]\n",
    "```\n",
    "\n",
    "- 슬라이싱\n",
    "```\n",
    "넘파이배열[start:end:step][start:end:step]\n",
    "넘파이배열[start:end:step, start:end:step]\n",
    "```"
   ]
  },
  {
   "cell_type": "code",
   "execution_count": 103,
   "id": "61c7afcd",
   "metadata": {},
   "outputs": [],
   "source": [
    "# 리스트, 딕셔너리, 튜플, 집합"
   ]
  },
  {
   "cell_type": "code",
   "execution_count": 104,
   "id": "55085614",
   "metadata": {},
   "outputs": [
    {
     "data": {
      "text/plain": [
       "array([[11, 13,  8, 11, 19],\n",
       "       [ 3, 25, 16, 15,  5],\n",
       "       [23, 29, 10, 22, 12],\n",
       "       [ 7, 15, 13, 10, 12],\n",
       "       [ 4, 16, 21, 25,  4]])"
      ]
     },
     "execution_count": 104,
     "metadata": {},
     "output_type": "execute_result"
    }
   ],
   "source": [
    "arr5 = np.random.randint(1, 30 ,25).reshape(5, 5)\n",
    "arr5"
   ]
  },
  {
   "cell_type": "code",
   "execution_count": 108,
   "id": "12bc9e10",
   "metadata": {},
   "outputs": [
    {
     "data": {
      "text/plain": [
       "(11, 11)"
      ]
     },
     "execution_count": 108,
     "metadata": {},
     "output_type": "execute_result"
    }
   ],
   "source": [
    "arr5[0, 0], arr5[0][0]"
   ]
  },
  {
   "cell_type": "code",
   "execution_count": 110,
   "id": "d1b0a811",
   "metadata": {},
   "outputs": [
    {
     "data": {
      "text/plain": [
       "(4, 13)"
      ]
     },
     "execution_count": 110,
     "metadata": {},
     "output_type": "execute_result"
    }
   ],
   "source": [
    "arr5[-1, -1], arr5[-2][-3]"
   ]
  },
  {
   "cell_type": "code",
   "execution_count": 118,
   "id": "09979710",
   "metadata": {},
   "outputs": [
    {
     "data": {
      "text/plain": [
       "array([[ 3, 25, 16, 15,  5],\n",
       "       [23, 29, 10, 22, 12]])"
      ]
     },
     "execution_count": 118,
     "metadata": {},
     "output_type": "execute_result"
    }
   ],
   "source": [
    "arr5[0:3][1:3]"
   ]
  },
  {
   "cell_type": "code",
   "execution_count": 120,
   "id": "9d19eae2",
   "metadata": {},
   "outputs": [
    {
     "data": {
      "text/plain": [
       "array([[13, 11],\n",
       "       [29, 22]])"
      ]
     },
     "execution_count": 120,
     "metadata": {},
     "output_type": "execute_result"
    }
   ],
   "source": [
    "arr5[0:3:2,1:4:2]"
   ]
  },
  {
   "cell_type": "code",
   "execution_count": 124,
   "id": "dc547c07",
   "metadata": {},
   "outputs": [
    {
     "data": {
      "text/plain": [
       "array([[23, 29, 10, 22, 12],\n",
       "       [ 7, 15, 13, 10, 12],\n",
       "       [ 4, 16, 21, 25,  4]])"
      ]
     },
     "execution_count": 124,
     "metadata": {},
     "output_type": "execute_result"
    }
   ],
   "source": [
    "# 3행부터 ~ 마지막 행까지\n",
    "arr5[2::, ::]"
   ]
  },
  {
   "cell_type": "code",
   "execution_count": 123,
   "id": "1af2bd77",
   "metadata": {},
   "outputs": [
    {
     "data": {
      "text/plain": [
       "array([[ 8, 11, 19],\n",
       "       [16, 15,  5],\n",
       "       [10, 22, 12],\n",
       "       [13, 10, 12],\n",
       "       [21, 25,  4]])"
      ]
     },
     "execution_count": 123,
     "metadata": {},
     "output_type": "execute_result"
    }
   ],
   "source": [
    "# 3열부터 ~ 마지막 열까지\n",
    "arr5[::, 2::]"
   ]
  },
  {
   "cell_type": "code",
   "execution_count": 129,
   "id": "efe10262",
   "metadata": {},
   "outputs": [
    {
     "data": {
      "text/plain": [
       "array([[10, 22, 12],\n",
       "       [13, 10, 12],\n",
       "       [21, 25,  4]])"
      ]
     },
     "execution_count": 129,
     "metadata": {},
     "output_type": "execute_result"
    }
   ],
   "source": [
    "# 행과 열을 같이 슬라이싱\n",
    "arr5[2::, 2::]"
   ]
  },
  {
   "cell_type": "code",
   "execution_count": 130,
   "id": "ce94b500",
   "metadata": {},
   "outputs": [
    {
     "data": {
      "text/plain": [
       "array([[16, 15,  5],\n",
       "       [10, 22, 12]])"
      ]
     },
     "execution_count": 130,
     "metadata": {},
     "output_type": "execute_result"
    }
   ],
   "source": [
    "arr5[1:3, 2:]"
   ]
  },
  {
   "cell_type": "code",
   "execution_count": 131,
   "id": "980e6aa4",
   "metadata": {},
   "outputs": [
    {
     "data": {
      "text/plain": [
       "array([[11,  8, 19],\n",
       "       [ 3, 16,  5],\n",
       "       [23, 10, 12],\n",
       "       [ 7, 13, 12],\n",
       "       [ 4, 21,  4]])"
      ]
     },
     "execution_count": 131,
     "metadata": {},
     "output_type": "execute_result"
    }
   ],
   "source": [
    "# 홀수번째 컬럼 출력 \n",
    "arr5[::, ::2]"
   ]
  },
  {
   "cell_type": "markdown",
   "id": "c4a54d5c",
   "metadata": {},
   "source": [
    "## 추가 퀴즈\n",
    "1) 1~15 구성된 넘파이 배열을 3행 5열로 구성하고 1,3,5 열만 출력하여라 \n",
    "\n",
    "2) 1~15 구성된 넘파이 배열을 3행 5열로 구성하고 1행1열, 1행4열, 3행1열, 3행 4열만 출력하여라 \n",
    "\n",
    "3) 1~15 구성된 넘파이 배열을 3행 5열로 구성하고 홀수번째 행만 출력하여라"
   ]
  },
  {
   "cell_type": "markdown",
   "id": "580125fe",
   "metadata": {},
   "source": [
    "### 1)"
   ]
  },
  {
   "cell_type": "code",
   "execution_count": 136,
   "id": "39b81ca0",
   "metadata": {},
   "outputs": [],
   "source": [
    "arr_1 = np.arange(1, 16).reshape(3, 5)"
   ]
  },
  {
   "cell_type": "code",
   "execution_count": 137,
   "id": "1b64a48f",
   "metadata": {},
   "outputs": [
    {
     "data": {
      "text/plain": [
       "array([[ 1,  2,  3,  4,  5],\n",
       "       [ 6,  7,  8,  9, 10],\n",
       "       [11, 12, 13, 14, 15]])"
      ]
     },
     "execution_count": 137,
     "metadata": {},
     "output_type": "execute_result"
    }
   ],
   "source": [
    "arr_1"
   ]
  },
  {
   "cell_type": "code",
   "execution_count": 138,
   "id": "cd6b4553",
   "metadata": {},
   "outputs": [
    {
     "data": {
      "text/plain": [
       "array([[ 1,  3,  5],\n",
       "       [ 6,  8, 10],\n",
       "       [11, 13, 15]])"
      ]
     },
     "execution_count": 138,
     "metadata": {},
     "output_type": "execute_result"
    }
   ],
   "source": [
    "arr_1[::,::2]"
   ]
  },
  {
   "cell_type": "markdown",
   "id": "bc4296f3",
   "metadata": {},
   "source": [
    "### 2)"
   ]
  },
  {
   "cell_type": "code",
   "execution_count": 140,
   "id": "99169acc",
   "metadata": {},
   "outputs": [
    {
     "data": {
      "text/plain": [
       "array([[ 1,  4],\n",
       "       [11, 14]])"
      ]
     },
     "execution_count": 140,
     "metadata": {},
     "output_type": "execute_result"
    }
   ],
   "source": [
    "arr_1[:3:2,::3]"
   ]
  },
  {
   "cell_type": "markdown",
   "id": "c776131f",
   "metadata": {},
   "source": [
    "### 3)"
   ]
  },
  {
   "cell_type": "code",
   "execution_count": 141,
   "id": "aff3b1cb",
   "metadata": {},
   "outputs": [
    {
     "data": {
      "text/plain": [
       "array([[ 1,  2,  3,  4,  5],\n",
       "       [11, 12, 13, 14, 15]])"
      ]
     },
     "execution_count": 141,
     "metadata": {},
     "output_type": "execute_result"
    }
   ],
   "source": [
    "arr_1[::2,::]"
   ]
  }
 ],
 "metadata": {
  "kernelspec": {
   "display_name": "Python 3",
   "language": "python",
   "name": "python3"
  },
  "language_info": {
   "codemirror_mode": {
    "name": "ipython",
    "version": 3
   },
   "file_extension": ".py",
   "mimetype": "text/x-python",
   "name": "python",
   "nbconvert_exporter": "python",
   "pygments_lexer": "ipython3",
   "version": "3.8.8"
  }
 },
 "nbformat": 4,
 "nbformat_minor": 5
}
