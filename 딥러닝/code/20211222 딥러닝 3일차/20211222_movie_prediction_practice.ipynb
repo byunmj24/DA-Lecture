{
  "nbformat": 4,
  "nbformat_minor": 0,
  "metadata": {
    "colab": {
      "name": "20211222_movie_prediction_practice.ipynb",
      "private_outputs": true,
      "provenance": [],
      "collapsed_sections": [],
      "toc_visible": true
    },
    "kernelspec": {
      "name": "python3",
      "display_name": "Python 3"
    },
    "language_info": {
      "name": "python"
    },
    "accelerator": "GPU"
  },
  "cells": [
    {
      "cell_type": "markdown",
      "source": [
        "# Train 데이터 학습"
      ],
      "metadata": {
        "id": "SIWDWnXQ_Mfr"
      }
    },
    {
      "cell_type": "markdown",
      "source": [
        "## Train 데이터 불러오기"
      ],
      "metadata": {
        "id": "36p9WHQF_T-L"
      }
    },
    {
      "cell_type": "code",
      "source": [
        "from google.colab import drive\n",
        "drive.mount('/content/drive') "
      ],
      "metadata": {
        "id": "16kgcTkUYVE-"
      },
      "execution_count": null,
      "outputs": []
    },
    {
      "cell_type": "code",
      "execution_count": null,
      "metadata": {
        "id": "zwoShANHUat0"
      },
      "outputs": [],
      "source": [
        "import numpy as np\n",
        "import pandas as pd\n",
        "import matplotlib.pyplot as plt"
      ]
    },
    {
      "cell_type": "code",
      "source": [
        "data_dir = './drive/MyDrive/빅데이터 분석가 양성 과정 자료실/딥러닝/dataset/'"
      ],
      "metadata": {
        "id": "A5G3VHsXDejE"
      },
      "execution_count": null,
      "outputs": []
    },
    {
      "cell_type": "markdown",
      "source": [
        "## Train, Test 데이터 불러오기"
      ],
      "metadata": {
        "id": "Wpq0FZbwMD8G"
      }
    },
    {
      "cell_type": "code",
      "source": [
        "df_train = pd.read_csv(data_dir + '영화 관객수/movies_train.csv')\n",
        "df_test = pd.read_csv(data_dir + '영화 관객수/movies_test.csv')"
      ],
      "metadata": {
        "id": "5tmJXYdmDYYl"
      },
      "execution_count": null,
      "outputs": []
    },
    {
      "cell_type": "code",
      "source": [
        "len(df_train['distributor'].unique())"
      ],
      "metadata": {
        "id": "RPvS9RmpKha7"
      },
      "execution_count": null,
      "outputs": []
    },
    {
      "cell_type": "code",
      "source": [
        "len(df_test['distributor'].unique())"
      ],
      "metadata": {
        "id": "wLMUMKrGKk0c"
      },
      "execution_count": null,
      "outputs": []
    },
    {
      "cell_type": "code",
      "source": [
        "df_train.head()"
      ],
      "metadata": {
        "id": "4c2bmEJ3DgOc"
      },
      "execution_count": null,
      "outputs": []
    },
    {
      "cell_type": "code",
      "source": [
        "df_test.head()"
      ],
      "metadata": {
        "id": "cjQ7cTa5IB0V"
      },
      "execution_count": null,
      "outputs": []
    },
    {
      "cell_type": "markdown",
      "source": [
        "### test 데이터에 더미 컬럼 생성"
      ],
      "metadata": {
        "id": "c3DAdQDiMHcN"
      }
    },
    {
      "cell_type": "code",
      "source": [
        "df_test['box_off_num'] = df_test.dir_prev_num"
      ],
      "metadata": {
        "id": "KgvyPxgYH2rd"
      },
      "execution_count": null,
      "outputs": []
    },
    {
      "cell_type": "code",
      "source": [
        "df_test.head()"
      ],
      "metadata": {
        "id": "GRWwuGocIJ5F"
      },
      "execution_count": null,
      "outputs": []
    },
    {
      "cell_type": "markdown",
      "source": [
        "### train, test concat"
      ],
      "metadata": {
        "id": "CXBAOdp-MLtV"
      }
    },
    {
      "cell_type": "code",
      "source": [
        "df = pd.concat([df_train, df_test])"
      ],
      "metadata": {
        "id": "FIbMZYaNIMNE"
      },
      "execution_count": null,
      "outputs": []
    },
    {
      "cell_type": "markdown",
      "source": [
        "### train 데이터 길이 저장"
      ],
      "metadata": {
        "id": "6EpwUaDmMPpt"
      }
    },
    {
      "cell_type": "code",
      "source": [
        "len_train = len(df_train)\n",
        "len_test = len(df_test)"
      ],
      "metadata": {
        "id": "SR1j_xaDIRdl"
      },
      "execution_count": null,
      "outputs": []
    },
    {
      "cell_type": "code",
      "source": [
        "# df = pd.read_csv(data_dir + '영화 관객수/movies_train.csv')\n",
        "df.head()"
      ],
      "metadata": {
        "id": "-MA79NocU4p-"
      },
      "execution_count": null,
      "outputs": []
    },
    {
      "cell_type": "code",
      "source": [
        "df.info()"
      ],
      "metadata": {
        "id": "tFxzOSQsWNWm"
      },
      "execution_count": null,
      "outputs": []
    },
    {
      "cell_type": "markdown",
      "source": [
        "## 불필요 컬럼 삭제"
      ],
      "metadata": {
        "id": "PfNtlCCf_aWz"
      }
    },
    {
      "cell_type": "code",
      "source": [
        "df.drop(columns=['title', 'time', 'release_time', 'director'], inplace=True)"
      ],
      "metadata": {
        "id": "aEYL6yN5a6iG"
      },
      "execution_count": null,
      "outputs": []
    },
    {
      "cell_type": "code",
      "source": [
        "df.info()"
      ],
      "metadata": {
        "id": "bxVPyRhjbB8d"
      },
      "execution_count": null,
      "outputs": []
    },
    {
      "cell_type": "markdown",
      "source": [
        "## 결측치 처리"
      ],
      "metadata": {
        "id": "OYqNID9PcGvG"
      }
    },
    {
      "cell_type": "code",
      "source": [
        "df.fillna(0, inplace=True)"
      ],
      "metadata": {
        "id": "y3-hW2TXb3Fl"
      },
      "execution_count": null,
      "outputs": []
    },
    {
      "cell_type": "code",
      "source": [
        "df.info()"
      ],
      "metadata": {
        "id": "WSfW4l_acFlb"
      },
      "execution_count": null,
      "outputs": []
    },
    {
      "cell_type": "markdown",
      "source": [
        "## 카테고리 컬럼 인코딩"
      ],
      "metadata": {
        "id": "LuxDZT55_gYs"
      }
    },
    {
      "cell_type": "markdown",
      "source": [
        "### distributor"
      ],
      "metadata": {
        "id": "KN_MkfSBcoZY"
      }
    },
    {
      "cell_type": "code",
      "source": [
        "df.distributor = df.distributor.astype('category')\n",
        "df['distributor_code'] = df.distributor.cat.codes"
      ],
      "metadata": {
        "id": "nMJPD4tBaREG"
      },
      "execution_count": null,
      "outputs": []
    },
    {
      "cell_type": "markdown",
      "source": [
        "### genre"
      ],
      "metadata": {
        "id": "l3OCFcWAau-U"
      }
    },
    {
      "cell_type": "code",
      "source": [
        "df.genre = df.genre.astype('category')\n",
        "df['genre_code'] = df.genre.cat.codes"
      ],
      "metadata": {
        "id": "y9hKrCldcttF"
      },
      "execution_count": null,
      "outputs": []
    },
    {
      "cell_type": "markdown",
      "source": [
        "### screening_rat"
      ],
      "metadata": {
        "id": "ZIxyLvyDc1IO"
      }
    },
    {
      "cell_type": "code",
      "source": [
        "df.screening_rat = df.screening_rat.astype('category')\n",
        "df['screening_rat_code'] = df.screening_rat.cat.codes"
      ],
      "metadata": {
        "id": "APBE-jtTc3i2"
      },
      "execution_count": null,
      "outputs": []
    },
    {
      "cell_type": "markdown",
      "source": [
        "## Shuffle(불필요)"
      ],
      "metadata": {
        "id": "H0BoHwUJzGfS"
      }
    },
    {
      "cell_type": "code",
      "source": [
        "# df = df.sample(frac=1).reset_index(drop=True)"
      ],
      "metadata": {
        "id": "OpCIkK5NzKNK"
      },
      "execution_count": null,
      "outputs": []
    },
    {
      "cell_type": "code",
      "source": [
        "df.head()"
      ],
      "metadata": {
        "id": "H0hZtaXtzVt5"
      },
      "execution_count": null,
      "outputs": []
    },
    {
      "cell_type": "markdown",
      "source": [
        "## log 스케일 변환\n",
        "```\n",
        "dir_prev_bfnum\n",
        "num_staff\n",
        "box_off_num\n",
        "```\n",
        "값이 0인 컬럼은 log변환할 때 에러가 발생한다.\n",
        "numpy.log1p()를 사용하여 값에 1을 더한 후 log 변환 해준다."
      ],
      "metadata": {
        "id": "X4yyENXcc7YG"
      }
    },
    {
      "cell_type": "code",
      "source": [
        "df['dir_prev_bfnum_log'] = np.log1p(df.dir_prev_bfnum)\n",
        "df['num_staff_log'] = np.log1p(df.num_staff)\n",
        "df['box_off_num_log'] = np.log1p(df.box_off_num)"
      ],
      "metadata": {
        "id": "9-tCVTk0i39c"
      },
      "execution_count": null,
      "outputs": []
    },
    {
      "cell_type": "code",
      "source": [
        "df.head()"
      ],
      "metadata": {
        "id": "wsYnX4yRik_e"
      },
      "execution_count": null,
      "outputs": []
    },
    {
      "cell_type": "markdown",
      "source": [
        "## Standardization\n",
        "```\n",
        " 4   dir_prev_num        600 non-null    int64   \n",
        " 6   num_actor           600 non-null    int64   \n",
        " 11  dir_prev_bfnum_log  600 non-null    float64 \n",
        " 12  num_staff_log       600 non-null    float64 \n",
        " 13  box_off_num_log     600 non-null    float64 \n",
        " ```"
      ],
      "metadata": {
        "id": "nJaIaE9Zz9fx"
      }
    },
    {
      "cell_type": "code",
      "source": [
        "df['dir_prev_num'] = df.dir_prev_num.astype(np.float)\n",
        "df['num_actor'] = df.num_actor.astype(np.float)\n",
        "\n",
        "df['dir_prev_num'] = (df.dir_prev_num - df.dir_prev_num.mean()) / df.dir_prev_num.std()\n",
        "df['num_actor'] = (df.num_actor - df.num_actor.mean()) / df.num_actor.std()\n",
        "df['dir_prev_bfnum_log'] = (df.dir_prev_bfnum_log - df.dir_prev_bfnum_log.mean()) / df.dir_prev_bfnum_log.std()\n",
        "df['num_staff_log'] = (df.num_staff_log - df.num_staff_log.mean()) / df.num_staff_log.std()\n",
        "# df['box_off_num_log'] = (df.box_off_num_log - df.box_off_num_log.mean())/df.box_off_num_log.std()"
      ],
      "metadata": {
        "id": "2Cy3LY9Hz__p"
      },
      "execution_count": null,
      "outputs": []
    },
    {
      "cell_type": "markdown",
      "source": [
        "## 데이터 분포 보기"
      ],
      "metadata": {
        "id": "nzPQA6gN_JrV"
      }
    },
    {
      "cell_type": "code",
      "source": [
        "plt.hist(df.distributor_code.to_numpy(), bins=100)\n",
        "plt.show()"
      ],
      "metadata": {
        "id": "bGS83sej_JrW"
      },
      "execution_count": null,
      "outputs": []
    },
    {
      "cell_type": "code",
      "source": [
        "plt.hist(df.genre_code.to_numpy(), bins=100)\n",
        "plt.show()"
      ],
      "metadata": {
        "id": "TtZE8JYp_JrW"
      },
      "execution_count": null,
      "outputs": []
    },
    {
      "cell_type": "code",
      "source": [
        "plt.hist(df.screening_rat_code.to_numpy(), bins=100)\n",
        "plt.show()"
      ],
      "metadata": {
        "id": "A36E-gu3_JrW"
      },
      "execution_count": null,
      "outputs": []
    },
    {
      "cell_type": "code",
      "source": [
        "plt.hist(df.dir_prev_bfnum_log.to_numpy(), bins=100)\n",
        "plt.show()"
      ],
      "metadata": {
        "id": "rRTJRh_2_JrW"
      },
      "execution_count": null,
      "outputs": []
    },
    {
      "cell_type": "code",
      "source": [
        "plt.hist(df.dir_prev_num.to_numpy(), bins=100)\n",
        "plt.show()"
      ],
      "metadata": {
        "id": "lZQEeM8b_JrW"
      },
      "execution_count": null,
      "outputs": []
    },
    {
      "cell_type": "code",
      "source": [
        "plt.hist(df.num_staff_log.to_numpy(), bins=100)\n",
        "plt.show()"
      ],
      "metadata": {
        "id": "6Ypf0cLG_JrW"
      },
      "execution_count": null,
      "outputs": []
    },
    {
      "cell_type": "code",
      "source": [
        "plt.hist(df.num_actor.to_numpy(), bins=100)\n",
        "plt.show()"
      ],
      "metadata": {
        "id": "zQowl7Ji_JrX"
      },
      "execution_count": null,
      "outputs": []
    },
    {
      "cell_type": "code",
      "source": [
        "plt.hist(df.box_off_num_log.to_numpy(), bins=100)\n",
        "plt.show()"
      ],
      "metadata": {
        "id": "45xWPpFz_JrX"
      },
      "execution_count": null,
      "outputs": []
    },
    {
      "cell_type": "code",
      "source": [
        "plt.hist(df.dir_prev_bfnum_log.to_numpy(), bins=100)\n",
        "plt.show()"
      ],
      "metadata": {
        "id": "OYBJnizD_JrX"
      },
      "execution_count": null,
      "outputs": []
    },
    {
      "cell_type": "code",
      "source": [
        "plt.hist(df.dir_prev_bfnum_log.to_numpy(), bins=100)\n",
        "plt.show()"
      ],
      "metadata": {
        "id": "SLsnNSuD_JrX"
      },
      "execution_count": null,
      "outputs": []
    },
    {
      "cell_type": "code",
      "source": [
        ""
      ],
      "metadata": {
        "id": "r3Gl-9Fl_JrX"
      },
      "execution_count": null,
      "outputs": []
    },
    {
      "cell_type": "markdown",
      "source": [
        "## one-hot Encoding\n",
        "```\n",
        "distributor_code\n",
        "genre_code\n",
        "screening_rat_code\n",
        "```"
      ],
      "metadata": {
        "id": "w17khjC8inWe"
      }
    },
    {
      "cell_type": "code",
      "source": [
        "df = pd.get_dummies(df, columns =['distributor_code'])\n",
        "df = pd.get_dummies(df, columns =['genre_code'])\n",
        "df = pd.get_dummies(df, columns =['screening_rat_code'])"
      ],
      "metadata": {
        "id": "Hcd-7vy1kul9"
      },
      "execution_count": null,
      "outputs": []
    },
    {
      "cell_type": "code",
      "source": [
        "df.head()"
      ],
      "metadata": {
        "id": "y6YQvLt2FhVl"
      },
      "execution_count": null,
      "outputs": []
    },
    {
      "cell_type": "code",
      "source": [
        "df.info()"
      ],
      "metadata": {
        "id": "-MWnyJvak_Ia"
      },
      "execution_count": null,
      "outputs": []
    },
    {
      "cell_type": "code",
      "source": [
        "df.head()"
      ],
      "metadata": {
        "id": "a9l5FHq5nNoX"
      },
      "execution_count": null,
      "outputs": []
    },
    {
      "cell_type": "markdown",
      "source": [
        "## 불필요한 컬럼 삭제"
      ],
      "metadata": {
        "id": "B886ouQ_lIdH"
      }
    },
    {
      "cell_type": "code",
      "source": [
        "df.drop(columns=['distributor',\n",
        "                 'genre',\n",
        "                 'screening_rat',\n",
        "                 'dir_prev_bfnum',\n",
        "                 'num_staff'], inplace=True)"
      ],
      "metadata": {
        "id": "cUWEGikAmvsP"
      },
      "execution_count": null,
      "outputs": []
    },
    {
      "cell_type": "markdown",
      "source": [
        "## X, Y 나누기"
      ],
      "metadata": {
        "id": "9IhPG4ZEn2TB"
      }
    },
    {
      "cell_type": "code",
      "source": [
        "# y = df.box_off_num.to_numpy()\n",
        "y = df.box_off_num_log.to_numpy()\n",
        "# df.drop(columns=['box_off_num'], inplace=True)\n",
        "df.drop(columns=['box_off_num', 'box_off_num_log'], inplace=True)\n",
        "x = df.to_numpy()"
      ],
      "metadata": {
        "id": "CJJlQRY8nYd3"
      },
      "execution_count": null,
      "outputs": []
    },
    {
      "cell_type": "code",
      "source": [
        "print(x.shape)\n",
        "print(y.shape)"
      ],
      "metadata": {
        "id": "9geRlm1foKzY"
      },
      "execution_count": null,
      "outputs": []
    },
    {
      "cell_type": "markdown",
      "source": [
        "## train/test 나누기"
      ],
      "metadata": {
        "id": "CxJkl8GxpQzZ"
      }
    },
    {
      "cell_type": "markdown",
      "source": [
        "### Train 데이터 파일과 Test 데이터 파일의 데이터 나누기"
      ],
      "metadata": {
        "id": "-2o2nwF_RtR3"
      }
    },
    {
      "cell_type": "code",
      "source": [
        "train_data_x = x[:len_train]\n",
        "test_data_x = x[len_train:]\n",
        "train_data_y = y[:len_train]\n",
        "test_data_y = y[len_train:]"
      ],
      "metadata": {
        "id": "iuBcgyooJnxV"
      },
      "execution_count": null,
      "outputs": []
    },
    {
      "cell_type": "markdown",
      "source": [
        "### Train 데이터에서 나누기"
      ],
      "metadata": {
        "id": "wza_4OGYR0b-"
      }
    },
    {
      "cell_type": "code",
      "source": [
        "i = int(len(train_data_x)*0.8)\n",
        "train_x, test_x = train_data_x[:i], train_data_x[i:]\n",
        "train_y, test_y = train_data_y[:i], train_data_y[i:]"
      ],
      "metadata": {
        "id": "ZoVjJsYOpAkH"
      },
      "execution_count": null,
      "outputs": []
    },
    {
      "cell_type": "markdown",
      "source": [
        "## 딥러닝 학습"
      ],
      "metadata": {
        "id": "dpcOPgpKpxmZ"
      }
    },
    {
      "cell_type": "code",
      "source": [
        "import numpy as np\n",
        "import pandas as pd\n",
        "import matplotlib.pyplot as plt\n",
        "\n",
        "import tensorflow as tf\n",
        "\n",
        "from tensorflow import keras\n",
        "from tensorflow.keras import optimizers\n",
        "from tensorflow.keras.layers import Dense, Input\n",
        "from tensorflow.keras.metrics import RootMeanSquaredError\n",
        "\n",
        "model = keras.Sequential()\n",
        "# model.add(Input(189))\n",
        "model.add(Dense(10, activation='relu', input_shape=(x.shape[1],)))\n",
        "model.add(Dense(10, activation='relu'))\n",
        "model.add(Dense(1))\n",
        "\n",
        "model.compile(optimizer=\"SGD\", loss=\"mse\", metrics=[\"mape\", RootMeanSquaredError()])\n",
        "model.summary()\n",
        "\n",
        "history = model.fit(train_x, train_y, epochs=1000, verbose=0, batch_size=128, validation_split=0.1)\n",
        "\n",
        "plt.plot(history.history['loss'])\n",
        "plt.plot(history.history['val_loss'])\n",
        "plt.show()\n",
        "\n",
        "\n",
        "\n",
        "loss, mape,rmse = model.evaluate(test_x, test_y)\n",
        "print(\"loss=\", loss)\n",
        "print(\"mape=\", mape)\n",
        "print(\"rmse=\", rmse)\n",
        "\n",
        "y_ = model.predict(test_x)\n",
        "\n",
        "plt.scatter(test_y, y_)\n",
        "plt.show()"
      ],
      "metadata": {
        "id": "aThXU5k5pN49"
      },
      "execution_count": null,
      "outputs": []
    },
    {
      "cell_type": "code",
      "source": [
        "plt.plot(history.history['loss'][30:])\n",
        "plt.plot(history.history['val_loss'][30:])\n",
        "plt.show()"
      ],
      "metadata": {
        "id": "l29fM4fXp67N"
      },
      "execution_count": null,
      "outputs": []
    },
    {
      "cell_type": "markdown",
      "source": [
        "### RMSE"
      ],
      "metadata": {
        "id": "mdx1Kx-4MgO2"
      }
    },
    {
      "cell_type": "code",
      "source": [
        "predicted = np.expm1(y_)\n",
        "org_test_y = np.expm1(test_y)\n",
        "\n",
        "rmse = RootMeanSquaredError()\n",
        "r = rmse(predicted, org_test_y)\n",
        "\n",
        "print(r)"
      ],
      "metadata": {
        "id": "b7hbjzKQwmtB"
      },
      "execution_count": null,
      "outputs": []
    },
    {
      "cell_type": "markdown",
      "source": [
        "# 예측"
      ],
      "metadata": {
        "id": "vLdOYOV6_-TT"
      }
    },
    {
      "cell_type": "code",
      "source": [
        "test_x = test_data_x"
      ],
      "metadata": {
        "id": "HiIC5EmOABJW"
      },
      "execution_count": null,
      "outputs": []
    },
    {
      "cell_type": "code",
      "source": [
        "y_ = model.predict(test_x)\n",
        "predicted = np.expm1(y_)"
      ],
      "metadata": {
        "id": "L1TEF3AKAPCE"
      },
      "execution_count": null,
      "outputs": []
    },
    {
      "cell_type": "markdown",
      "source": [
        "# 제출 Submission 만들기"
      ],
      "metadata": {
        "id": "TkdiPuxcQ35d"
      }
    },
    {
      "cell_type": "code",
      "source": [
        "title = np.array(df_test['title']).reshape(-1,1)"
      ],
      "metadata": {
        "id": "k3UkV-sqNJVU"
      },
      "execution_count": null,
      "outputs": []
    },
    {
      "cell_type": "code",
      "source": [
        "box_off_num = np.array(predicted).reshape(-1,1)"
      ],
      "metadata": {
        "id": "F0vGO6Q0OEX8"
      },
      "execution_count": null,
      "outputs": []
    },
    {
      "cell_type": "code",
      "source": [
        "arr_sub = np.concatenate((title, box_off_num), axis=1)"
      ],
      "metadata": {
        "id": "iIUvT6eEPBZX"
      },
      "execution_count": null,
      "outputs": []
    },
    {
      "cell_type": "code",
      "source": [
        "df_sub = pd.DataFrame(arr_sub, columns=['title', 'box_off_num'])"
      ],
      "metadata": {
        "id": "vhlz-BHLPcA2"
      },
      "execution_count": null,
      "outputs": []
    },
    {
      "cell_type": "code",
      "source": [
        "df_sub.head()"
      ],
      "metadata": {
        "id": "Rt8qs9TxQUsu"
      },
      "execution_count": null,
      "outputs": []
    },
    {
      "cell_type": "code",
      "source": [
        "df_sub.to_csv('submission.csv', index=False)"
      ],
      "metadata": {
        "id": "DeJfY0yHPphP"
      },
      "execution_count": null,
      "outputs": []
    }
  ]
}