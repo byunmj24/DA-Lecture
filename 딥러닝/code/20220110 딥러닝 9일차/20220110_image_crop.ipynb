{
  "nbformat": 4,
  "nbformat_minor": 0,
  "metadata": {
    "colab": {
      "name": "20220110_image_crop.ipynb",
      "private_outputs": true,
      "provenance": [],
      "collapsed_sections": []
    },
    "kernelspec": {
      "name": "python3",
      "display_name": "Python 3"
    },
    "language_info": {
      "name": "python"
    }
  },
  "cells": [
    {
      "cell_type": "code",
      "execution_count": null,
      "metadata": {
        "id": "Q8nJ-dsbVBqs"
      },
      "outputs": [],
      "source": [
        "import numpy as np\n",
        "import pandas as pd\n",
        "import matplotlib.pyplot as plt\n",
        "import tensorflow as tf"
      ]
    },
    {
      "cell_type": "markdown",
      "source": [
        "# 흑백 이미지 CROP"
      ],
      "metadata": {
        "id": "zk2okbSaYb_k"
      }
    },
    {
      "cell_type": "code",
      "source": [
        "(train_x, train_y), (test_x, test_y) = tf.keras.datasets.mnist.load_data()"
      ],
      "metadata": {
        "id": "ygjF7I_ZVJpu"
      },
      "execution_count": null,
      "outputs": []
    },
    {
      "cell_type": "code",
      "source": [
        "image = train_x[0]\n",
        "plt.imshow(image, cmap='binary')\n",
        "plt.show()"
      ],
      "metadata": {
        "id": "1m8v6vFmVYzu"
      },
      "execution_count": null,
      "outputs": []
    },
    {
      "cell_type": "code",
      "source": [
        "print(image.shape)"
      ],
      "metadata": {
        "id": "p_X-RaUDVeiG"
      },
      "execution_count": null,
      "outputs": []
    },
    {
      "cell_type": "code",
      "source": [
        "cropped = image[5:20, 5:20]\n",
        "plt.imshow(cropped, cmap='binary')\n",
        "plt.show()"
      ],
      "metadata": {
        "id": "iuhbhIDPVxH3"
      },
      "execution_count": null,
      "outputs": []
    },
    {
      "cell_type": "markdown",
      "source": [
        "# 파일로 저장/읽기"
      ],
      "metadata": {
        "id": "wn0p3C0mYh_4"
      }
    },
    {
      "cell_type": "code",
      "source": [
        "plt.imsave('cropped_mnist.jpg', cropped)"
      ],
      "metadata": {
        "id": "Nll6JRB7WP0N"
      },
      "execution_count": null,
      "outputs": []
    },
    {
      "cell_type": "code",
      "source": [
        "loaded = plt.imread('cropped_mnist.jpg')\n",
        "print(loaded.shape)\n",
        "plt.imshow(loaded)\n",
        "plt.show()"
      ],
      "metadata": {
        "id": "qYbtOoeoWlw-"
      },
      "execution_count": null,
      "outputs": []
    },
    {
      "cell_type": "markdown",
      "source": [
        "# numpy로 저장/읽기"
      ],
      "metadata": {
        "id": "D98qJsEBYk2x"
      }
    },
    {
      "cell_type": "code",
      "source": [
        "np.save('cropped', cropped)"
      ],
      "metadata": {
        "id": "ueOY5g8iXB7H"
      },
      "execution_count": null,
      "outputs": []
    },
    {
      "cell_type": "code",
      "source": [
        "loaded_npy = np.load('cropped.npy')\n",
        "print(loaded_npy.shape)"
      ],
      "metadata": {
        "id": "d8fJXm_dXp3e"
      },
      "execution_count": null,
      "outputs": []
    },
    {
      "cell_type": "code",
      "source": [
        "plt.imshow(loaded_npy, cmap='binary')\n",
        "plt.show()"
      ],
      "metadata": {
        "id": "sRz1mFe6Xte1"
      },
      "execution_count": null,
      "outputs": []
    },
    {
      "cell_type": "markdown",
      "source": [
        "# 컬러 영상"
      ],
      "metadata": {
        "id": "K10_r_eAYwWS"
      }
    },
    {
      "cell_type": "code",
      "source": [
        "(train_x, train_y), (test_x, test_y) = tf.keras.datasets.cifar10.load_data()"
      ],
      "metadata": {
        "id": "51-WQdpOX6MT"
      },
      "execution_count": null,
      "outputs": []
    },
    {
      "cell_type": "code",
      "source": [
        "image = train_x[77]\n",
        "plt.imshow(image)\n",
        "plt.show()"
      ],
      "metadata": {
        "id": "YO725PGcYvJY"
      },
      "execution_count": null,
      "outputs": []
    },
    {
      "cell_type": "code",
      "source": [
        "print(image.shape)"
      ],
      "metadata": {
        "id": "vgSURib6YvJZ"
      },
      "execution_count": null,
      "outputs": []
    },
    {
      "cell_type": "code",
      "source": [
        "cropped = image[9:25, 1:30, :]\n",
        "plt.imshow(cropped)\n",
        "plt.show()"
      ],
      "metadata": {
        "id": "x303jvFdYvJa"
      },
      "execution_count": null,
      "outputs": []
    },
    {
      "cell_type": "markdown",
      "source": [
        "# 파일로 저장/읽기"
      ],
      "metadata": {
        "id": "Fe3RrCd7Zssw"
      }
    },
    {
      "cell_type": "code",
      "source": [
        "plt.imsave('cropped.jpg', cropped)"
      ],
      "metadata": {
        "id": "kir-4M2EZss1"
      },
      "execution_count": null,
      "outputs": []
    },
    {
      "cell_type": "code",
      "source": [
        "loaded = plt.imread('cropped.jpg')\n",
        "print(loaded.shape)\n",
        "plt.imshow(loaded)\n",
        "plt.show()"
      ],
      "metadata": {
        "id": "CEOHQf3lZss1"
      },
      "execution_count": null,
      "outputs": []
    },
    {
      "cell_type": "markdown",
      "source": [
        "# numpy로 저장/읽기"
      ],
      "metadata": {
        "id": "N2WI1rZqZss1"
      }
    },
    {
      "cell_type": "code",
      "source": [
        "np.save('cropped', cropped)"
      ],
      "metadata": {
        "id": "3GDC25CKZss2"
      },
      "execution_count": null,
      "outputs": []
    },
    {
      "cell_type": "code",
      "source": [
        "loaded_npy = np.load('cropped.npy')\n",
        "print(loaded_npy.shape)"
      ],
      "metadata": {
        "id": "RvMzo3EUZss2"
      },
      "execution_count": null,
      "outputs": []
    },
    {
      "cell_type": "code",
      "source": [
        "plt.imshow(loaded_npy)\n",
        "plt.show()"
      ],
      "metadata": {
        "id": "NNZGJCznZss2"
      },
      "execution_count": null,
      "outputs": []
    },
    {
      "cell_type": "code",
      "source": [
        "iu = plt.imread('iu.jpg')\n",
        "print(iu.shape)\n",
        "plt.imshow(iu)\n",
        "plt.show()"
      ],
      "metadata": {
        "id": "6j5O_vi6Z0jH"
      },
      "execution_count": null,
      "outputs": []
    },
    {
      "cell_type": "code",
      "source": [
        "iu.shape"
      ],
      "metadata": {
        "id": "eUGaxmYWaPMv"
      },
      "execution_count": null,
      "outputs": []
    },
    {
      "cell_type": "code",
      "source": [
        "cropped_iu = iu[20:160, 50:150, :]\n",
        "plt.imshow(cropped_iu)\n",
        "plt.show()"
      ],
      "metadata": {
        "id": "OD4Z7KT2aVU3"
      },
      "execution_count": null,
      "outputs": []
    },
    {
      "cell_type": "code",
      "source": [
        "np.save('cropped_iu', cropped_iu)"
      ],
      "metadata": {
        "id": "mWhYxqVKajr4"
      },
      "execution_count": null,
      "outputs": []
    },
    {
      "cell_type": "code",
      "source": [
        "loaded_npy = np.load('cropped_iu.npy')\n",
        "print(loaded_npy.shape)\n",
        "plt.imshow(loaded_npy)\n",
        "plt.show()"
      ],
      "metadata": {
        "id": "BhuMy0QXatzI"
      },
      "execution_count": null,
      "outputs": []
    },
    {
      "cell_type": "markdown",
      "source": [
        "# 이미지 리사이즈"
      ],
      "metadata": {
        "id": "MYdNkJ5FazN_"
      }
    },
    {
      "cell_type": "code",
      "source": [
        "import cv2\n",
        "\n",
        "resized = cv2.resize(cropped_iu, dsize=(224,224))\n",
        "plt.imshow(resized)\n",
        "plt.show()\n",
        "\n",
        "print(cropped_iu.shape)\n",
        "print(resized.shape)"
      ],
      "metadata": {
        "id": "lm2k69spbzRq"
      },
      "execution_count": null,
      "outputs": []
    },
    {
      "cell_type": "code",
      "source": [
        ""
      ],
      "metadata": {
        "id": "6qpJM6iRcA6H"
      },
      "execution_count": null,
      "outputs": []
    }
  ]
}