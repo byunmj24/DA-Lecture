{
  "nbformat": 4,
  "nbformat_minor": 0,
  "metadata": {
    "colab": {
      "name": "bitcoin_prediction.ipynb",
      "private_outputs": true,
      "provenance": [],
      "collapsed_sections": []
    },
    "kernelspec": {
      "name": "python3",
      "display_name": "Python 3"
    },
    "language_info": {
      "name": "python"
    },
    "accelerator": "GPU"
  },
  "cells": [
    {
      "cell_type": "markdown",
      "source": [
        "# Google Drive 마운트"
      ],
      "metadata": {
        "id": "HuhDwsx7kXnN"
      }
    },
    {
      "cell_type": "code",
      "source": [
        "from google.colab import drive\n",
        "drive.mount('/content/gdrive')"
      ],
      "metadata": {
        "id": "uQysStmMkWvn"
      },
      "execution_count": null,
      "outputs": []
    },
    {
      "cell_type": "markdown",
      "source": [
        "# 모듈 임포트"
      ],
      "metadata": {
        "id": "C3zlRfcxmIea"
      }
    },
    {
      "cell_type": "code",
      "source": [
        "import os\n",
        "import time\n",
        "from datetime import datetime\n",
        "import missingno as msno\n",
        "import requests\n",
        "\n",
        "import numpy as np\n",
        "import pandas as pd\n",
        "import matplotlib.pyplot as plt\n",
        "import seaborn as sns\n",
        "\n",
        "from sklearn.preprocessing import MinMaxScaler\n",
        "from sklearn.model_selection import train_test_split\n",
        "\n",
        "import tensorflow as tf\n",
        "from tensorflow.keras.models import Sequential\n",
        "from tensorflow.keras.layers import Dense, LSTM, Conv1D, Lambda, Input\n",
        "from tensorflow.keras.losses import Huber\n",
        "from tensorflow.keras.optimizers import Adam\n",
        "from tensorflow.keras.callbacks import EarlyStopping, ModelCheckpoint\n"
      ],
      "metadata": {
        "id": "gSD_j0nhmKJp"
      },
      "execution_count": null,
      "outputs": []
    },
    {
      "cell_type": "markdown",
      "source": [
        "# 데이터 다운로드"
      ],
      "metadata": {
        "id": "IIV0LiFzl0Xi"
      }
    },
    {
      "cell_type": "code",
      "source": [
        "!cp /content/gdrive/MyDrive/tmp/bitstampUSD_1-min_data_2012-01-01_to_2021-03-31.csv.zip ./"
      ],
      "metadata": {
        "id": "PvEjGWvElMon"
      },
      "execution_count": null,
      "outputs": []
    },
    {
      "cell_type": "markdown",
      "source": [
        "## 데이터 압축 풀기"
      ],
      "metadata": {
        "id": "n6aK8Q8dpCT8"
      }
    },
    {
      "cell_type": "code",
      "source": [
        "!unzip bitstampUSD_1-min_data_2012-01-01_to_2021-03-31.csv.zip"
      ],
      "metadata": {
        "id": "-BqRpoAZl7WQ"
      },
      "execution_count": null,
      "outputs": []
    },
    {
      "cell_type": "markdown",
      "source": [
        "## 데이터 불러오기"
      ],
      "metadata": {
        "id": "TiSOrzA2pErK"
      }
    },
    {
      "cell_type": "code",
      "source": [
        "df = pd.read_csv('bitstampUSD_1-min_data_2012-01-01_to_2021-03-31.csv')\n",
        "df.head()"
      ],
      "metadata": {
        "id": "v_mh1K-5l_xx"
      },
      "execution_count": null,
      "outputs": []
    },
    {
      "cell_type": "markdown",
      "source": [
        "# 결측치 처리"
      ],
      "metadata": {
        "id": "TtkJZtNzpIf6"
      }
    },
    {
      "cell_type": "code",
      "source": [
        "df.info()"
      ],
      "metadata": {
        "id": "O030NtEqpXlL"
      },
      "execution_count": null,
      "outputs": []
    },
    {
      "cell_type": "code",
      "source": [
        "msno.matrix(df)"
      ],
      "metadata": {
        "id": "s_ziV0bimk5a"
      },
      "execution_count": null,
      "outputs": []
    },
    {
      "cell_type": "code",
      "source": [
        "df.isnull().sum()"
      ],
      "metadata": {
        "id": "lzzaOtStu5hV"
      },
      "execution_count": null,
      "outputs": []
    },
    {
      "cell_type": "code",
      "source": [
        "print(len(df))"
      ],
      "metadata": {
        "id": "3P50dvwvu_In"
      },
      "execution_count": null,
      "outputs": []
    },
    {
      "cell_type": "markdown",
      "source": [
        "## 결측치 분포 파악"
      ],
      "metadata": {
        "id": "nVu-M3OR_Lxr"
      }
    },
    {
      "cell_type": "code",
      "source": [
        "print(df.Timestamp.min(), df.Timestamp.max())\n",
        "diff = df.Timestamp.max() - df.Timestamp.min()\n",
        "print(diff)\n",
        "count_with_60_interval = diff / 60\n",
        "\n",
        "# timestamp 최소와 최대 값 사이를 60으로 나눈 갯수와 전체 데이터 갯수가 다르다.\n",
        "# 중간에 timestamp가 빈곳이 있다.\n",
        "print(count_with_60_interval)\n",
        "print(len(df))\n"
      ],
      "metadata": {
        "id": "AStk8bWa_N7i"
      },
      "execution_count": null,
      "outputs": []
    },
    {
      "cell_type": "code",
      "source": [
        "last_quantile = 0\n",
        "null_counts = []\n",
        "for q in np.arange(0, 1.0, 0.01):\n",
        "    current_quantile = df.Timestamp.quantile(q)\n",
        "    null_count = df[(df.Timestamp>=last_quantile) & (df.Timestamp<current_quantile)].Open.isnull().sum()\n",
        "    null_counts.append(null_count)\n",
        "    last_quantile = current_quantile\n",
        "\n"
      ],
      "metadata": {
        "id": "zrjmtKLs_T4r"
      },
      "execution_count": null,
      "outputs": []
    },
    {
      "cell_type": "code",
      "source": [
        "null_counts = np.array(null_counts)\n",
        "plt.plot(null_counts/len(df)*100.)\n",
        "plt.show()\n",
        "\n",
        "plt.plot(null_counts[80:]/len(df)*100.)\n",
        "plt.show()"
      ],
      "metadata": {
        "id": "Z3VOnfin_Vh6"
      },
      "execution_count": null,
      "outputs": []
    },
    {
      "cell_type": "markdown",
      "source": [
        "전체 데이터 중 80% 이후의 데이터는 최대 0.035%만 null이다. \n",
        "\n",
        "이 데이터 만을 가지고 하자. 그리고 결측치는 앞의 값으로 채우자."
      ],
      "metadata": {
        "id": "knbiDPeY_b4k"
      }
    },
    {
      "cell_type": "markdown",
      "source": [
        "# 대상 데이터 추림"
      ],
      "metadata": {
        "id": "Xfhb89G7_ZGC"
      }
    },
    {
      "cell_type": "code",
      "source": [
        "index_of_80_percent = int( len(df) * 0.8 )\n",
        "df = df[df.index>index_of_80_percent]\n",
        "print(len(df))"
      ],
      "metadata": {
        "id": "rxZXgssA_gB-"
      },
      "execution_count": null,
      "outputs": []
    },
    {
      "cell_type": "code",
      "source": [
        "last_quantile = 0\n",
        "null_counts = []\n",
        "for q in np.arange(0, 1.0, 0.01):\n",
        "    current_quantile = df.Timestamp.quantile(q)\n",
        "    null_count = df[(df.Timestamp>=last_quantile) & (df.Timestamp<current_quantile)].Open.isnull().sum()\n",
        "    null_counts.append(null_count)\n",
        "    last_quantile = current_quantile"
      ],
      "metadata": {
        "id": "uKVm_ltC_h9m"
      },
      "execution_count": null,
      "outputs": []
    },
    {
      "cell_type": "code",
      "source": [
        "null_counts = np.array(null_counts)\n",
        "plt.plot(null_counts/len(df)*100.)\n",
        "plt.show()"
      ],
      "metadata": {
        "id": "zP8pmPJV_kfr"
      },
      "execution_count": null,
      "outputs": []
    },
    {
      "cell_type": "markdown",
      "source": [
        "1개 구간이 1만 개 이다. 최대가 0.07이면 만개 중에 7개.\n",
        "연속되어 있더라도 무시해도 되겠다."
      ],
      "metadata": {
        "id": "kMd4eRgI_oW-"
      }
    },
    {
      "cell_type": "code",
      "source": [
        "interval = int(len(df)/100)\n",
        "for i in range(100):\n",
        "    print(i)\n",
        "    plt.figure(figsize=(20,1))\n",
        "    plt.plot(df.Open[i*interval:(i+1)*interval])\n",
        "    plt.xticks([])\n",
        "    plt.show()"
      ],
      "metadata": {
        "id": "OSj8_Vap_l7W"
      },
      "execution_count": null,
      "outputs": []
    },
    {
      "cell_type": "markdown",
      "source": [
        "# 결측치 처리"
      ],
      "metadata": {
        "id": "SkpktDXwuwBd"
      }
    },
    {
      "cell_type": "code",
      "source": [
        "print(df.isnull().sum())"
      ],
      "metadata": {
        "id": "ecqgrUMY_xmB"
      },
      "execution_count": null,
      "outputs": []
    },
    {
      "cell_type": "code",
      "source": [
        "df.fillna(method='ffill', inplace=True)"
      ],
      "metadata": {
        "id": "JzVRVGZEuwBe"
      },
      "execution_count": null,
      "outputs": []
    },
    {
      "cell_type": "code",
      "source": [
        "msno.matrix(df)"
      ],
      "metadata": {
        "id": "7FHEM0ihuwBf"
      },
      "execution_count": null,
      "outputs": []
    },
    {
      "cell_type": "code",
      "source": [
        "df.head()"
      ],
      "metadata": {
        "id": "yHNmm990uwBf"
      },
      "execution_count": null,
      "outputs": []
    },
    {
      "cell_type": "markdown",
      "source": [
        "## Timestamp 컬럼 변환\n",
        "Unix time => datetime"
      ],
      "metadata": {
        "id": "grONiLGtpML7"
      }
    },
    {
      "cell_type": "code",
      "source": [
        "df['Timestamp'] = pd.to_datetime(df['Timestamp'],unit='s')"
      ],
      "metadata": {
        "id": "OpOOkTOdnhea"
      },
      "execution_count": null,
      "outputs": []
    },
    {
      "cell_type": "code",
      "source": [
        "df.head()"
      ],
      "metadata": {
        "id": "mFqqEDR5npCY"
      },
      "execution_count": null,
      "outputs": []
    },
    {
      "cell_type": "code",
      "source": [
        "df.tail()"
      ],
      "metadata": {
        "id": "VgK8SXQroEtq"
      },
      "execution_count": null,
      "outputs": []
    },
    {
      "cell_type": "markdown",
      "source": [
        "# 불필요한 컬럼 삭제"
      ],
      "metadata": {
        "id": "-_PsTNRAAEP-"
      }
    },
    {
      "cell_type": "code",
      "source": [
        "df.drop(columns=['Timestamp'\n",
        "        # , 'Volume_(BTC)'\n",
        "        # , 'Volume_(Currency)'\n",
        "        ], inplace=True)"
      ],
      "metadata": {
        "id": "0xjIetHVAFzN"
      },
      "execution_count": null,
      "outputs": []
    },
    {
      "cell_type": "code",
      "source": [
        "df.head()"
      ],
      "metadata": {
        "id": "u8MKi3PKAJ8-"
      },
      "execution_count": null,
      "outputs": []
    },
    {
      "cell_type": "markdown",
      "source": [
        "# 데이터 분포 보기"
      ],
      "metadata": {
        "id": "Z_v6mODOoS4y"
      }
    },
    {
      "cell_type": "code",
      "source": [
        "for i in range(len(df.columns)):\n",
        "    print(df.columns[i])\n",
        "    plt.hist(df.iloc[:,i], bins=1000)\n",
        "    plt.show()"
      ],
      "metadata": {
        "id": "5oTyjoKPqDkj"
      },
      "execution_count": null,
      "outputs": []
    },
    {
      "cell_type": "markdown",
      "source": [
        "# 컬럼 로그 변환"
      ],
      "metadata": {
        "id": "j2jfAzeXA90l"
      }
    },
    {
      "cell_type": "code",
      "source": [
        "df = np.log1p(df)"
      ],
      "metadata": {
        "id": "MdRIavrbA_em"
      },
      "execution_count": null,
      "outputs": []
    },
    {
      "cell_type": "code",
      "source": [
        "for i in range(len(df.columns)):\n",
        "    print(df.columns[i])\n",
        "    plt.hist(df.iloc[:,i], bins=1000)\n",
        "    plt.show()"
      ],
      "metadata": {
        "id": "JJ5dPI_bBL-N"
      },
      "execution_count": null,
      "outputs": []
    },
    {
      "cell_type": "markdown",
      "source": [
        "# MinMaxScaler\n",
        "역변환 : inverse_scaled_data = scaler.inverse_transform(scaled_data)"
      ],
      "metadata": {
        "id": "lwGryr9HuhWb"
      }
    },
    {
      "cell_type": "code",
      "source": [
        "scaler = MinMaxScaler()"
      ],
      "metadata": {
        "id": "HePyTBhww0yQ"
      },
      "execution_count": null,
      "outputs": []
    },
    {
      "cell_type": "code",
      "source": [
        "scaled = scaler.fit_transform(df)\n",
        "print(scaled)"
      ],
      "metadata": {
        "id": "QXth5mvBxOEz"
      },
      "execution_count": null,
      "outputs": []
    },
    {
      "cell_type": "markdown",
      "source": [
        "# Data Sampling"
      ],
      "metadata": {
        "id": "mkMWtra9zJii"
      }
    },
    {
      "cell_type": "markdown",
      "source": [
        "## 파라미터 설정"
      ],
      "metadata": {
        "id": "DRl4cRJAzYle"
      }
    },
    {
      "cell_type": "code",
      "source": [
        "SEQUENCE_LENGTH = 16 * 60   # <<-- 확인 필요 * 60 이유\n",
        "OFFSET = 16 * 60            # <<--\n",
        "BATCH_SIZE = 32\n",
        "SAMPLING_COUNT = 10000      # 샘플링 크기"
      ],
      "metadata": {
        "id": "XAoEwotRzaHj"
      },
      "execution_count": null,
      "outputs": []
    },
    {
      "cell_type": "code",
      "source": [
        "numbers = scaled\n",
        "print(numbers)"
      ],
      "metadata": {
        "id": "Nn-Cl8hPCy3o"
      },
      "execution_count": null,
      "outputs": []
    },
    {
      "cell_type": "code",
      "source": [
        "raw_x = []\n",
        "raw_y = []\n",
        "\n",
        "for j in range(SAMPLING_COUNT):\n",
        "  i = np.random.randint(len(numbers) - SEQUENCE_LENGTH - OFFSET)\n",
        "  if i + SEQUENCE_LENGTH + OFFSET >= len(numbers): break\n",
        "  raw_x.append(numbers[i:i + SEQUENCE_LENGTH, :])\n",
        "  raw_y.append(numbers[i + SEQUENCE_LENGTH + OFFSET - 1, :])\n",
        "#              0         1              \n",
        "#              01234567890123456789\n",
        "# numbers[0] = 12345678901234567890\n",
        "#                 i = 3\n",
        "#                 <-x->   = [3:8] = 45678\n",
        "#                      y  = [8]   = 9\n",
        "\n"
      ],
      "metadata": {
        "id": "bd16eIqLzBlp"
      },
      "execution_count": null,
      "outputs": []
    },
    {
      "cell_type": "code",
      "source": [
        "print(raw_x[0])\n",
        "print(raw_y[0])\n",
        "print()\n",
        "print(raw_x[1])\n",
        "print(raw_y[1])"
      ],
      "metadata": {
        "id": "YJlPul4XzihS"
      },
      "execution_count": null,
      "outputs": []
    },
    {
      "cell_type": "markdown",
      "source": [
        "# 데이터셋 나누기"
      ],
      "metadata": {
        "id": "8J7MfP9gzsPM"
      }
    },
    {
      "cell_type": "code",
      "source": [
        "x = np.array(raw_x)\n",
        "y = np.array(raw_y)\n",
        "print(x.shape)\n",
        "print(y.shape)\n",
        "\n",
        "from sklearn.model_selection import train_test_split\n",
        "\n",
        "train_x, test_x, train_y, test_y = train_test_split(x, y, test_size=0.1, shuffle=True)\n",
        "\n",
        "\n",
        "print(\"Training Data:\")\n",
        "print(train_x.shape)\n",
        "print(train_y.shape)\n",
        "\n",
        "print(\"Test Data:\")\n",
        "print(test_x.shape)\n",
        "print(test_y.shape)\n"
      ],
      "metadata": {
        "id": "Q7loA40mzx8e"
      },
      "execution_count": null,
      "outputs": []
    },
    {
      "cell_type": "code",
      "source": [
        "print(\"train_x[0]\\n\", train_x[0])\n",
        "print()\n",
        "print(\"train_y[0]\\n\", train_y[0])\n",
        "\n",
        "plt.plot(train_x[0].T[0], '.', color='blue')\n",
        "plt.plot([len(train_x[0])], train_y[0,0], 'x', color='blue')\n",
        "plt.plot(train_x[0].T[1], '.', color='red')\n",
        "plt.plot([len(train_x[0])], train_y[0,1], 'o', color='red')\n",
        "\n",
        "plt.show()"
      ],
      "metadata": {
        "id": "umk3OiB4zzVT"
      },
      "execution_count": null,
      "outputs": []
    },
    {
      "cell_type": "code",
      "source": [
        "print(train_x.shape)\n",
        "print(train_y.shape)\n",
        "input_shape = train_x.shape[1:]\n",
        "output_shape = train_y.shape[-1]\n",
        "print(input_shape)\n",
        "print(output_shape)"
      ],
      "metadata": {
        "id": "Dm2rIQaR0bl1"
      },
      "execution_count": null,
      "outputs": []
    },
    {
      "cell_type": "markdown",
      "source": [
        "# 모델 생성 및 학습"
      ],
      "metadata": {
        "id": "RgfS4G4b0mWt"
      }
    },
    {
      "cell_type": "code",
      "source": [
        "from tensorflow import keras\n",
        "from tensorflow.keras.layers import Dense, RepeatVector, Flatten\n",
        "from tensorflow.keras.layers import Bidirectional, LSTM, GRU\n",
        "\n",
        "model = keras.Sequential()\n",
        "model.add(LSTM(128, input_shape=input_shape))\n",
        "model.add(Flatten())\n",
        "model.add(Dense(10, activation='relu'))\n",
        "model.add(Dense(output_shape))\n",
        "model.compile(loss=\"mse\", optimizer=\"adam\", metrics=[\"mape\"])\n",
        "model.summary()\n",
        "\n",
        "history = model.fit(train_x, train_y, epochs=10, verbose=1, validation_split=0.1, batch_size=BATCH_SIZE)\n",
        "\n",
        "\n",
        "plt.plot(history.history['loss'])\n",
        "plt.plot(history.history['val_loss'])\n",
        "plt.show()\n",
        "\n",
        "\n",
        "\n",
        "loss, mape = model.evaluate(test_x, test_y)\n",
        "print(\"loss=\", loss)\n",
        "print(\"mape=\", mape)\n",
        "\n",
        "\n",
        "\n",
        "y_ = model.predict(test_x).squeeze()"
      ],
      "metadata": {
        "id": "NMF-onZx0eDM"
      },
      "execution_count": null,
      "outputs": []
    },
    {
      "cell_type": "code",
      "source": [
        "for i in range(output_shape):\n",
        "    plt.scatter(test_y[i], y_[i])\n",
        "    plt.show()"
      ],
      "metadata": {
        "id": "gD5OP9cDI9yf"
      },
      "execution_count": null,
      "outputs": []
    },
    {
      "cell_type": "markdown",
      "source": [
        "## 결과 보기"
      ],
      "metadata": {
        "id": "6nknlO2WyX4Z"
      }
    },
    {
      "cell_type": "code",
      "source": [
        "plt.plot(test_y[0], 'b.')\n",
        "plt.plot(y_[0], 'r.')\n",
        "plt.show()\n",
        "\n",
        "plt.plot(test_y[0,:-1], 'b.')\n",
        "plt.plot(y_[0,:-1], 'r.')\n",
        "plt.show()"
      ],
      "metadata": {
        "id": "JglbgKh6mB9R"
      },
      "execution_count": null,
      "outputs": []
    },
    {
      "cell_type": "markdown",
      "source": [
        "# 역정규화 및 지수 변환"
      ],
      "metadata": {
        "id": "GgfQR2r7E56_"
      }
    },
    {
      "cell_type": "code",
      "source": [
        "denomalized_test_y = scaler.inverse_transform(test_y)\n",
        "denomalized_y_ = scaler.inverse_transform(y_)\n",
        "delogged_test_y = np.expm1(denomalized_test_y)\n",
        "delogged_y = np.expm1(denomalized_y_)"
      ],
      "metadata": {
        "id": "n8EXwK2YE7v_"
      },
      "execution_count": null,
      "outputs": []
    },
    {
      "cell_type": "code",
      "source": [
        "plt.plot(delogged_test_y[0], 'bo')\n",
        "plt.plot(delogged_y[0], 'r.')\n",
        "plt.show()\n",
        "\n",
        "plt.plot(delogged_test_y[0,:-1], 'bo')\n",
        "plt.plot(delogged_y[0,:-1], 'r.')\n",
        "plt.show()"
      ],
      "metadata": {
        "id": "53IqHJvtoQjk"
      },
      "execution_count": null,
      "outputs": []
    },
    {
      "cell_type": "markdown",
      "source": [
        "# Target을 weighted_Price만으로 "
      ],
      "metadata": {
        "id": "KmPJR1EbD7L1"
      }
    },
    {
      "cell_type": "code",
      "source": [
        ""
      ],
      "metadata": {
        "id": "xnzCZOz9IEae"
      },
      "execution_count": null,
      "outputs": []
    },
    {
      "cell_type": "markdown",
      "source": [
        "## 데이터 불러오기"
      ],
      "metadata": {
        "id": "2EoB1lQEJL82"
      }
    },
    {
      "cell_type": "code",
      "source": [
        "df = pd.read_csv('bitstampUSD_1-min_data_2012-01-01_to_2021-03-31.csv')\n",
        "df.head()"
      ],
      "metadata": {
        "id": "bnVBgQurJL83"
      },
      "execution_count": null,
      "outputs": []
    },
    {
      "cell_type": "markdown",
      "source": [
        "# 결측치 처리"
      ],
      "metadata": {
        "id": "7wWVkaY-JL83"
      }
    },
    {
      "cell_type": "code",
      "source": [
        "df.info()"
      ],
      "metadata": {
        "id": "MeSfeMbZJL83"
      },
      "execution_count": null,
      "outputs": []
    },
    {
      "cell_type": "code",
      "source": [
        "msno.matrix(df)"
      ],
      "metadata": {
        "id": "FnUG3CTqJL83"
      },
      "execution_count": null,
      "outputs": []
    },
    {
      "cell_type": "code",
      "source": [
        "df.isnull().sum()"
      ],
      "metadata": {
        "id": "tj5oJRkUJL83"
      },
      "execution_count": null,
      "outputs": []
    },
    {
      "cell_type": "code",
      "source": [
        "print(len(df))"
      ],
      "metadata": {
        "id": "pq5J3wsOJL83"
      },
      "execution_count": null,
      "outputs": []
    },
    {
      "cell_type": "markdown",
      "source": [
        "## 결측치 분포 파악"
      ],
      "metadata": {
        "id": "8hwJlwd1JL83"
      }
    },
    {
      "cell_type": "code",
      "source": [
        "print(df.Timestamp.min(), df.Timestamp.max())\n",
        "diff = df.Timestamp.max() - df.Timestamp.min()\n",
        "print(diff)\n",
        "count_with_60_interval = diff / 60\n",
        "\n",
        "# timestamp 최소와 최대 값 사이를 60으로 나눈 갯수와 전체 데이터 갯수가 다르다.\n",
        "# 중간에 timestamp가 빈곳이 있다.\n",
        "print(count_with_60_interval)\n",
        "print(len(df))\n"
      ],
      "metadata": {
        "id": "OcVe6aApJL83"
      },
      "execution_count": null,
      "outputs": []
    },
    {
      "cell_type": "code",
      "source": [
        "last_quantile = 0\n",
        "null_counts = []\n",
        "for q in np.arange(0, 1.0, 0.01):\n",
        "    current_quantile = df.Timestamp.quantile(q)\n",
        "    null_count = df[(df.Timestamp>=last_quantile) & (df.Timestamp<current_quantile)].Open.isnull().sum()\n",
        "    null_counts.append(null_count)\n",
        "    last_quantile = current_quantile\n",
        "\n"
      ],
      "metadata": {
        "id": "VK3rj516JL84"
      },
      "execution_count": null,
      "outputs": []
    },
    {
      "cell_type": "code",
      "source": [
        "null_counts = np.array(null_counts)\n",
        "plt.plot(null_counts/len(df)*100.)\n",
        "plt.show()\n",
        "\n",
        "plt.plot(null_counts[80:]/len(df)*100.)\n",
        "plt.show()"
      ],
      "metadata": {
        "id": "6TchzCLZJL84"
      },
      "execution_count": null,
      "outputs": []
    },
    {
      "cell_type": "markdown",
      "source": [
        "전체 데이터 중 80% 이후의 데이터는 최대 0.035%만 null이다. \n",
        "\n",
        "이 데이터 만을 가지고 하자. 그리고 결측치는 앞의 값으로 채우자."
      ],
      "metadata": {
        "id": "xX2IPRLoJL84"
      }
    },
    {
      "cell_type": "markdown",
      "source": [
        "# 대상 데이터 추림"
      ],
      "metadata": {
        "id": "0MfmNQkJJL84"
      }
    },
    {
      "cell_type": "code",
      "source": [
        "index_of_80_percent = int( len(df) * 0.8 )\n",
        "df = df[df.index>index_of_80_percent]\n",
        "print(len(df))"
      ],
      "metadata": {
        "id": "ZRmw0-gGJL84"
      },
      "execution_count": null,
      "outputs": []
    },
    {
      "cell_type": "code",
      "source": [
        "last_quantile = 0\n",
        "null_counts = []\n",
        "for q in np.arange(0, 1.0, 0.01):\n",
        "    current_quantile = df.Timestamp.quantile(q)\n",
        "    null_count = df[(df.Timestamp>=last_quantile) & (df.Timestamp<current_quantile)].Open.isnull().sum()\n",
        "    null_counts.append(null_count)\n",
        "    last_quantile = current_quantile"
      ],
      "metadata": {
        "id": "M04IXj6EJL84"
      },
      "execution_count": null,
      "outputs": []
    },
    {
      "cell_type": "code",
      "source": [
        "null_counts = np.array(null_counts)\n",
        "plt.plot(null_counts/len(df)*100.)\n",
        "plt.show()"
      ],
      "metadata": {
        "id": "Su__aIYRJL84"
      },
      "execution_count": null,
      "outputs": []
    },
    {
      "cell_type": "markdown",
      "source": [
        "1개 구간이 1만 개 이다. 최대가 0.07이면 만개 중에 7개.\n",
        "연속되어 있더라도 무시해도 되겠다."
      ],
      "metadata": {
        "id": "8uCG7B9gJL84"
      }
    },
    {
      "cell_type": "code",
      "source": [
        "interval = int(len(df)/100)\n",
        "for i in range(100):\n",
        "    print(i)\n",
        "    plt.figure(figsize=(20,1))\n",
        "    plt.plot(df.Open[i*interval:(i+1)*interval])\n",
        "    plt.xticks([])\n",
        "    plt.show()"
      ],
      "metadata": {
        "id": "URjAWcA1JL84"
      },
      "execution_count": null,
      "outputs": []
    },
    {
      "cell_type": "markdown",
      "source": [
        "# 결측치 처리"
      ],
      "metadata": {
        "id": "dMOJdUAYJL84"
      }
    },
    {
      "cell_type": "code",
      "source": [
        "print(df.isnull().sum())"
      ],
      "metadata": {
        "id": "iTmUVzQJJL84"
      },
      "execution_count": null,
      "outputs": []
    },
    {
      "cell_type": "code",
      "source": [
        "df.fillna(method='ffill', inplace=True)"
      ],
      "metadata": {
        "id": "YQASnOL0JL84"
      },
      "execution_count": null,
      "outputs": []
    },
    {
      "cell_type": "code",
      "source": [
        "msno.matrix(df)"
      ],
      "metadata": {
        "id": "vAvQfJfEJL85"
      },
      "execution_count": null,
      "outputs": []
    },
    {
      "cell_type": "code",
      "source": [
        "df.head()"
      ],
      "metadata": {
        "id": "ejYcmsvaJL85"
      },
      "execution_count": null,
      "outputs": []
    },
    {
      "cell_type": "markdown",
      "source": [
        "## Timestamp 컬럼 변환\n",
        "Unix time => datetime"
      ],
      "metadata": {
        "id": "z4Ue87kYJL85"
      }
    },
    {
      "cell_type": "code",
      "source": [
        "df['Timestamp'] = pd.to_datetime(df['Timestamp'],unit='s')"
      ],
      "metadata": {
        "id": "XeV3ilMAJL85"
      },
      "execution_count": null,
      "outputs": []
    },
    {
      "cell_type": "code",
      "source": [
        "df.head()"
      ],
      "metadata": {
        "id": "sEhxx5ovJL85"
      },
      "execution_count": null,
      "outputs": []
    },
    {
      "cell_type": "code",
      "source": [
        "df.tail()"
      ],
      "metadata": {
        "id": "eytPRFl8JL85"
      },
      "execution_count": null,
      "outputs": []
    },
    {
      "cell_type": "markdown",
      "source": [
        "# 불필요한 컬럼 삭제"
      ],
      "metadata": {
        "id": "7QpUskpkJL85"
      }
    },
    {
      "cell_type": "code",
      "source": [
        "df.drop(columns=['Timestamp'\n",
        "        # , 'Volume_(BTC)'\n",
        "        # , 'Volume_(Currency)'\n",
        "        ], inplace=True)"
      ],
      "metadata": {
        "id": "PA8QESzaJL85"
      },
      "execution_count": null,
      "outputs": []
    },
    {
      "cell_type": "code",
      "source": [
        "df.head()"
      ],
      "metadata": {
        "id": "8jGyn55wJL85"
      },
      "execution_count": null,
      "outputs": []
    },
    {
      "cell_type": "markdown",
      "source": [
        "# 데이터 분포 보기"
      ],
      "metadata": {
        "id": "0bknYJsHJL85"
      }
    },
    {
      "cell_type": "code",
      "source": [
        "for i in range(len(df.columns)):\n",
        "    print(df.columns[i])\n",
        "    plt.hist(df.iloc[:,i], bins=1000)\n",
        "    plt.show()"
      ],
      "metadata": {
        "id": "1VEfj36dJL85"
      },
      "execution_count": null,
      "outputs": []
    },
    {
      "cell_type": "markdown",
      "source": [
        "# 컬럼 로그 변환"
      ],
      "metadata": {
        "id": "iUnNdq95JL86"
      }
    },
    {
      "cell_type": "code",
      "source": [
        "df = np.log1p(df)"
      ],
      "metadata": {
        "id": "JtF7djETJL86"
      },
      "execution_count": null,
      "outputs": []
    },
    {
      "cell_type": "code",
      "source": [
        "for i in range(len(df.columns)):\n",
        "    print(df.columns[i])\n",
        "    plt.hist(df.iloc[:,i], bins=1000)\n",
        "    plt.show()"
      ],
      "metadata": {
        "id": "TIz6vMfIJL86"
      },
      "execution_count": null,
      "outputs": []
    },
    {
      "cell_type": "markdown",
      "source": [
        "# MinMaxScaler\n",
        "역변환 : inverse_scaled_data = scaler.inverse_transform(scaled_data)"
      ],
      "metadata": {
        "id": "a9gumVW-JL86"
      }
    },
    {
      "cell_type": "code",
      "source": [
        "scaler = MinMaxScaler()"
      ],
      "metadata": {
        "id": "c5-L1lV2JL86"
      },
      "execution_count": null,
      "outputs": []
    },
    {
      "cell_type": "code",
      "source": [
        "scaled = scaler.fit_transform(df)\n",
        "print(scaled)"
      ],
      "metadata": {
        "id": "y0lYL4d8JL86"
      },
      "execution_count": null,
      "outputs": []
    },
    {
      "cell_type": "markdown",
      "source": [
        "# Data Sampling"
      ],
      "metadata": {
        "id": "D4FXg11dJL86"
      }
    },
    {
      "cell_type": "markdown",
      "source": [
        "## 파라미터 설정"
      ],
      "metadata": {
        "id": "vbjcZhedJL86"
      }
    },
    {
      "cell_type": "code",
      "source": [
        "SEQUENCE_LENGTH = 16 * 60   # <<-- 확인 필요 * 60 이유\n",
        "OFFSET = 16 * 60            # <<--\n",
        "BATCH_SIZE = 32\n",
        "SAMPLING_COUNT = 10000      # 샘플링 크기"
      ],
      "metadata": {
        "id": "A3ggia0lJL86"
      },
      "execution_count": null,
      "outputs": []
    },
    {
      "cell_type": "code",
      "source": [
        "numbers = scaled\n",
        "print(numbers)"
      ],
      "metadata": {
        "id": "XByIECKnJL86"
      },
      "execution_count": null,
      "outputs": []
    },
    {
      "cell_type": "code",
      "source": [
        "raw_x = []\n",
        "raw_y = []\n",
        "\n",
        "for j in range(SAMPLING_COUNT):\n",
        "  i = np.random.randint(len(numbers) - SEQUENCE_LENGTH - OFFSET)\n",
        "  if i + SEQUENCE_LENGTH + OFFSET >= len(numbers): break\n",
        "  raw_x.append(numbers[i:i + SEQUENCE_LENGTH, :])\n",
        "  raw_y.append(numbers[i + SEQUENCE_LENGTH + OFFSET - 1, -1])\n",
        "#              0         1              \n",
        "#              01234567890123456789\n",
        "# numbers[0] = 12345678901234567890\n",
        "#                 i = 3\n",
        "#                 <-x->   = [3:8] = 45678\n",
        "#                      y  = [8]   = 9\n",
        "\n"
      ],
      "metadata": {
        "id": "36eX97hLJL86"
      },
      "execution_count": null,
      "outputs": []
    },
    {
      "cell_type": "code",
      "source": [
        "print(raw_x[0])\n",
        "print(raw_y[0])\n",
        "print()\n",
        "print(raw_x[1])\n",
        "print(raw_y[1])"
      ],
      "metadata": {
        "id": "PV5AonEGJL87"
      },
      "execution_count": null,
      "outputs": []
    },
    {
      "cell_type": "markdown",
      "source": [
        "# 데이터셋 나누기"
      ],
      "metadata": {
        "id": "3S8gc1HXJL87"
      }
    },
    {
      "cell_type": "code",
      "source": [
        "x = np.array(raw_x)\n",
        "y = np.array(raw_y)\n",
        "print(x.shape)\n",
        "print(y.shape)\n",
        "\n",
        "from sklearn.model_selection import train_test_split\n",
        "\n",
        "train_x, test_x, train_y, test_y = train_test_split(x, y, test_size=0.1, shuffle=True)\n",
        "\n",
        "\n",
        "print(\"Training Data:\")\n",
        "print(train_x.shape)\n",
        "print(train_y.shape)\n",
        "\n",
        "print(\"Test Data:\")\n",
        "print(test_x.shape)\n",
        "print(test_y.shape)\n"
      ],
      "metadata": {
        "id": "c9CR9_GNJL87"
      },
      "execution_count": null,
      "outputs": []
    },
    {
      "cell_type": "code",
      "source": [
        "print(\"train_x[0]\\n\", train_x[0])\n",
        "print()\n",
        "print(\"train_y[0]\\n\", train_y[0])\n",
        "\n",
        "plt.plot(train_x[0].T[0], '.', color='blue')\n",
        "# plt.plot([len(train_x[0])], train_y[0,0], 'x', color='blue')\n",
        "plt.plot([len(train_x[0])], train_y[0], 'x', color='blue')\n",
        "plt.plot(train_x[0].T[1], '.', color='red')\n",
        "# plt.plot([len(train_x[0])], train_y[0,1], 'o', color='red')\n",
        "plt.plot([len(train_x[0])], train_y[1], 'o', color='red')\n",
        "\n",
        "plt.show()"
      ],
      "metadata": {
        "id": "1XvAqz5zJL87"
      },
      "execution_count": null,
      "outputs": []
    },
    {
      "cell_type": "code",
      "source": [
        "print(train_x.shape)\n",
        "print(train_y.shape)\n",
        "input_shape = train_x.shape[1:]\n",
        "output_shape = train_y.shape[-1]\n",
        "print(input_shape)\n",
        "print(output_shape)"
      ],
      "metadata": {
        "id": "_hbaEHN3JL87"
      },
      "execution_count": null,
      "outputs": []
    },
    {
      "cell_type": "markdown",
      "source": [
        "# 모델 생성 및 학습"
      ],
      "metadata": {
        "id": "M6JO5lPvJL87"
      }
    },
    {
      "cell_type": "code",
      "source": [
        "from tensorflow import keras\n",
        "from tensorflow.keras.layers import Dense, RepeatVector, Flatten\n",
        "from tensorflow.keras.layers import Bidirectional, LSTM, GRU\n",
        "\n",
        "model = keras.Sequential()\n",
        "model.add(LSTM(128, input_shape=input_shape))\n",
        "model.add(Flatten())\n",
        "model.add(Dense(10, activation='relu'))\n",
        "model.add(Dense(output_shape))\n",
        "model.compile(loss=\"mse\", optimizer=\"adam\", metrics=[\"mape\"])\n",
        "model.summary()\n",
        "\n",
        "history = model.fit(train_x, train_y, epochs=10, verbose=1, validation_split=0.1, batch_size=BATCH_SIZE)\n",
        "\n",
        "\n",
        "plt.plot(history.history['loss'])\n",
        "plt.plot(history.history['val_loss'])\n",
        "plt.show()\n",
        "\n",
        "\n",
        "\n",
        "loss, mape = model.evaluate(test_x, test_y)\n",
        "print(\"loss=\", loss)\n",
        "print(\"mape=\", mape)\n",
        "\n",
        "\n",
        "\n",
        "y_ = model.predict(test_x).squeeze()"
      ],
      "metadata": {
        "id": "fwg2MfeQJL87"
      },
      "execution_count": null,
      "outputs": []
    },
    {
      "cell_type": "code",
      "source": [
        "for i in range(output_shape):\n",
        "    plt.scatter(test_y[:,i], y_[:,i])\n",
        "    plt.show()"
      ],
      "metadata": {
        "id": "ZWYPOIG3JL87"
      },
      "execution_count": null,
      "outputs": []
    },
    {
      "cell_type": "markdown",
      "source": [
        "## 결과 보기"
      ],
      "metadata": {
        "id": "IZMEZPVeJL87"
      }
    },
    {
      "cell_type": "code",
      "source": [
        "plt.plot(test_y[0], 'b.')\n",
        "plt.plot(y_[0], 'r.')\n",
        "plt.show()\n",
        "\n",
        "plt.plot(test_y[0,:-1], 'b.')\n",
        "plt.plot(y_[0,:-1], 'r.')\n",
        "plt.show()"
      ],
      "metadata": {
        "id": "AGmJmSKPJL87"
      },
      "execution_count": null,
      "outputs": []
    },
    {
      "cell_type": "markdown",
      "source": [
        "# 역정규화 및 지수 변환"
      ],
      "metadata": {
        "id": "Zv235W8_JL87"
      }
    },
    {
      "cell_type": "code",
      "source": [
        "denomalized_test_y = scaler.inverse_transform(test_y)\n",
        "denomalized_y_ = scaler.inverse_transform(y_)\n",
        "delogged_test_y = np.expm1(denomalized_test_y)\n",
        "delogged_y = np.expm1(denomalized_y_)"
      ],
      "metadata": {
        "id": "d_-B15g3JL88"
      },
      "execution_count": null,
      "outputs": []
    },
    {
      "cell_type": "code",
      "source": [
        "plt.plot(delogged_test_y[:100], 'bo')\n",
        "plt.plot(delogged_y[:100], 'r.')\n",
        "plt.show()\n",
        "\n",
        "# plt.plot(delogged_test_y[0,:-1], 'bo')\n",
        "# plt.plot(delogged_y[0,:-1], 'r.')\n",
        "# plt.show()"
      ],
      "metadata": {
        "id": "M9gg3TZZJL88"
      },
      "execution_count": null,
      "outputs": []
    }
  ]
}