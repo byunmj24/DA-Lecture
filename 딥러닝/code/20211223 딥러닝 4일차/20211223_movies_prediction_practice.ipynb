{
  "nbformat": 4,
  "nbformat_minor": 0,
  "metadata": {
    "colab": {
      "name": "20211223_movies_prediction_practice.ipynb",
      "private_outputs": true,
      "provenance": [],
      "collapsed_sections": [
        "nzhqFYW_AFDP",
        "MpyF0hG5sMbR",
        "cdZn_eYsxO-3",
        "QBY2r-lH4yFS"
      ],
      "toc_visible": true
    },
    "kernelspec": {
      "name": "python3",
      "display_name": "Python 3"
    },
    "language_info": {
      "name": "python"
    },
    "accelerator": "GPU"
  },
  "cells": [
    {
      "cell_type": "markdown",
      "source": [
        "# 모듈 임포트"
      ],
      "metadata": {
        "id": "IN7n3ta0AM2H"
      }
    },
    {
      "cell_type": "code",
      "execution_count": null,
      "metadata": {
        "id": "OI0U5heS_81M"
      },
      "outputs": [],
      "source": [
        "import numpy as np\n",
        "import pandas as pd\n",
        "import matplotlib.pyplot as plt"
      ]
    },
    {
      "cell_type": "markdown",
      "source": [
        "## 구글 드라이브 mount"
      ],
      "metadata": {
        "id": "L-xRSBjmAONP"
      }
    },
    {
      "cell_type": "code",
      "source": [
        "from google.colab import drive\n",
        "drive.mount('/content/drive')"
      ],
      "metadata": {
        "id": "d6QAS-gnAczO"
      },
      "execution_count": null,
      "outputs": []
    },
    {
      "cell_type": "markdown",
      "source": [
        "# 첫번째 시도"
      ],
      "metadata": {
        "id": "nzhqFYW_AFDP"
      }
    },
    {
      "cell_type": "markdown",
      "source": [
        "## 데이터 읽기"
      ],
      "metadata": {
        "id": "pppF7VFNAGRG"
      }
    },
    {
      "cell_type": "code",
      "source": [
        "data_dir = './drive/MyDrive/빅데이터 분석가 양성 과정 자료실/딥러닝/dataset/'"
      ],
      "metadata": {
        "id": "fAOdLx_SAIk5"
      },
      "execution_count": null,
      "outputs": []
    },
    {
      "cell_type": "code",
      "source": [
        "train_df = pd.read_csv(data_dir + \"영화 관객수/movies_train.csv\")\n",
        "train_df.head()"
      ],
      "metadata": {
        "id": "w-lrBykyAtnm"
      },
      "execution_count": null,
      "outputs": []
    },
    {
      "cell_type": "code",
      "source": [
        "submission_df = pd.read_csv(data_dir + \"영화 관객수/movies_test.csv\")\n",
        "submission_df.head()"
      ],
      "metadata": {
        "id": "1nim7wQoA0p-"
      },
      "execution_count": null,
      "outputs": []
    },
    {
      "cell_type": "markdown",
      "source": [
        "## train + submission 데이터 합치기"
      ],
      "metadata": {
        "id": "nattDygWA-uH"
      }
    },
    {
      "cell_type": "code",
      "source": [
        "all_df = pd.concat([train_df, submission_df])\n",
        "all_df.head()"
      ],
      "metadata": {
        "id": "R0m0VvA-BGV4"
      },
      "execution_count": null,
      "outputs": []
    },
    {
      "cell_type": "code",
      "source": [
        "all_df.info()"
      ],
      "metadata": {
        "id": "HDoACtC-BKt2"
      },
      "execution_count": null,
      "outputs": []
    },
    {
      "cell_type": "markdown",
      "source": [
        "## 안쓸 컬럼 삭제"
      ],
      "metadata": {
        "id": "IyJadgyeBMQu"
      }
    },
    {
      "cell_type": "code",
      "source": [
        "all_df.drop(columns=['title',\n",
        "                     'distributor',\n",
        "                     'genre',\n",
        "                     'release_time',\n",
        "                     'screening_rat',\n",
        "                     'director'], inplace=True)\n",
        "all_df.info()"
      ],
      "metadata": {
        "id": "m80Q1G6JBOQJ"
      },
      "execution_count": null,
      "outputs": []
    },
    {
      "cell_type": "markdown",
      "source": [
        "## 결측치 처리"
      ],
      "metadata": {
        "id": "Q5F6cLwcBaxg"
      }
    },
    {
      "cell_type": "code",
      "source": [
        "all_df = all_df.fillna(0)"
      ],
      "metadata": {
        "id": "qml8CpenBdDQ"
      },
      "execution_count": null,
      "outputs": []
    },
    {
      "cell_type": "code",
      "source": [
        "all_df.info()"
      ],
      "metadata": {
        "id": "q5oxyNKtBfJ2"
      },
      "execution_count": null,
      "outputs": []
    },
    {
      "cell_type": "markdown",
      "source": [
        "## 전처리 전의 데이터 분포 보기"
      ],
      "metadata": {
        "id": "1vtipFkNBf12"
      }
    },
    {
      "cell_type": "markdown",
      "source": [
        "### time"
      ],
      "metadata": {
        "id": "G-qX1gFlBiOX"
      }
    },
    {
      "cell_type": "code",
      "source": [
        "plt.hist(all_df.time, bins=100)\n",
        "plt.show()"
      ],
      "metadata": {
        "id": "Hc1j-GS-BkEd"
      },
      "execution_count": null,
      "outputs": []
    },
    {
      "cell_type": "markdown",
      "source": [
        "### dir_prev_bfnum"
      ],
      "metadata": {
        "id": "Ae48eVK7Bm0s"
      }
    },
    {
      "cell_type": "code",
      "source": [
        "plt.hist(all_df.dir_prev_bfnum, bins=100)\n",
        "plt.show()"
      ],
      "metadata": {
        "id": "wd-Vpz7vBppt"
      },
      "execution_count": null,
      "outputs": []
    },
    {
      "cell_type": "markdown",
      "source": [
        "### dir_prev_num"
      ],
      "metadata": {
        "id": "q9eNu0OYBs1F"
      }
    },
    {
      "cell_type": "code",
      "source": [
        "plt.hist(all_df.dir_prev_num, bins=100)\n",
        "plt.show()"
      ],
      "metadata": {
        "id": "BijI1BHLBvoG"
      },
      "execution_count": null,
      "outputs": []
    },
    {
      "cell_type": "markdown",
      "source": [
        "### num_staff"
      ],
      "metadata": {
        "id": "BpsUzxhABzDt"
      }
    },
    {
      "cell_type": "code",
      "source": [
        "plt.hist(all_df.num_staff, bins=100)\n",
        "plt.show()"
      ],
      "metadata": {
        "id": "W501fT8uB34V"
      },
      "execution_count": null,
      "outputs": []
    },
    {
      "cell_type": "markdown",
      "source": [
        "### num_actor"
      ],
      "metadata": {
        "id": "oHiOdXsbB8yN"
      }
    },
    {
      "cell_type": "code",
      "source": [
        "plt.hist(all_df.num_actor, bins=100)\n",
        "plt.show()"
      ],
      "metadata": {
        "id": "jLBR0IRCB_BW"
      },
      "execution_count": null,
      "outputs": []
    },
    {
      "cell_type": "markdown",
      "source": [
        "### box_off_num"
      ],
      "metadata": {
        "id": "l8iEiAQKCBlW"
      }
    },
    {
      "cell_type": "code",
      "source": [
        "plt.hist(all_df.box_off_num, bins=100)\n",
        "plt.show()"
      ],
      "metadata": {
        "id": "JsQrcH85CE49"
      },
      "execution_count": null,
      "outputs": []
    },
    {
      "cell_type": "markdown",
      "source": [
        "## 컬럼별 전처리"
      ],
      "metadata": {
        "id": "IVZxNocqCG19"
      }
    },
    {
      "cell_type": "markdown",
      "source": [
        "### time\n",
        "250이 넘는 이상치는 250으로 바꾼다."
      ],
      "metadata": {
        "id": "SLyjjBXsCIx2"
      }
    },
    {
      "cell_type": "code",
      "source": [
        "all_df.loc[all_df.time>200, 'time'] = 200"
      ],
      "metadata": {
        "id": "sIiZUsGvCJqd"
      },
      "execution_count": null,
      "outputs": []
    },
    {
      "cell_type": "markdown",
      "source": [
        "### dir_prev_bf_num\n",
        "1을 더한 로그처리 한다."
      ],
      "metadata": {
        "id": "90jK9IacCbcn"
      }
    },
    {
      "cell_type": "code",
      "source": [
        "all_df['dir_prev_bfnum'] = np.log1p(all_df.dir_prev_bfnum)"
      ],
      "metadata": {
        "id": "k6SjR_qQCezH"
      },
      "execution_count": null,
      "outputs": []
    },
    {
      "cell_type": "markdown",
      "source": [
        "### num_staff\n",
        "1을 더한 로그처리 한다."
      ],
      "metadata": {
        "id": "W-i3LE8PCjfG"
      }
    },
    {
      "cell_type": "code",
      "source": [
        "all_df['num_staff'] = np.log1p(all_df.num_staff)"
      ],
      "metadata": {
        "id": "Qw5DEREgCkzF"
      },
      "execution_count": null,
      "outputs": []
    },
    {
      "cell_type": "markdown",
      "source": [
        "### num_actor\n",
        "10보다 큰 이상치를 10으로 변환"
      ],
      "metadata": {
        "id": "e0EeV9uDCpz-"
      }
    },
    {
      "cell_type": "code",
      "source": [
        "all_df.loc[all_df.num_actor>10, 'num_actor'] = 10"
      ],
      "metadata": {
        "id": "53bQDWa7Csmd"
      },
      "execution_count": null,
      "outputs": []
    },
    {
      "cell_type": "markdown",
      "source": [
        "### box_off_num\n",
        "1을 더한 로그처리 한다."
      ],
      "metadata": {
        "id": "16nqQggAjpwn"
      }
    },
    {
      "cell_type": "code",
      "source": [
        "all_df['box_off_num'] = np.log1p(all_df.box_off_num)"
      ],
      "metadata": {
        "id": "XQaAhOyBjtdW"
      },
      "execution_count": null,
      "outputs": []
    },
    {
      "cell_type": "markdown",
      "source": [
        "## Normalization"
      ],
      "metadata": {
        "id": "eryYrw3NEMoX"
      }
    },
    {
      "cell_type": "code",
      "source": [
        "# all_df['time'] = (all_df.time - all_df.time.min()) / (all_df.time.max() - all_df.time.min())\n",
        "# all_df['dir_prev_bfnum'] = (all_df.dir_prev_bfnum - all_df.dir_prev_bfnum.min()) / (all_df.dir_prev_bfnum.max() - all_df.dir_prev_bfnum.min())\n",
        "# all_df['dir_prev_num'] = (all_df.dir_prev_num - all_df.dir_prev_num.min()) / (all_df.dir_prev_num.max() - all_df.dir_prev_num.min())\n",
        "# all_df['num_staff'] = (all_df.num_staff - all_df.num_staff.min()) / (all_df.num_staff.max() - all_df.num_staff.min())\n",
        "# all_df['num_actor'] = (all_df.num_actor - all_df.num_actor.min()) / (all_df.num_actor.max() - all_df.num_actor.min())"
      ],
      "metadata": {
        "id": "3oJAhVVYGCan"
      },
      "execution_count": null,
      "outputs": []
    },
    {
      "cell_type": "code",
      "source": [
        "col_list = ['time', 'dir_prev_bfnum', 'dir_prev_num', 'num_staff', 'num_actor']\n",
        "all_df[col_list] = (all_df[col_list] - all_df[col_list].min()) / (all_df[col_list].max() - all_df[col_list].min())"
      ],
      "metadata": {
        "id": "sI7KmEXkFaJ-"
      },
      "execution_count": null,
      "outputs": []
    },
    {
      "cell_type": "code",
      "source": [
        "all_df.head()"
      ],
      "metadata": {
        "id": "TNQvZ2FiGIa3"
      },
      "execution_count": null,
      "outputs": []
    },
    {
      "cell_type": "markdown",
      "source": [
        "### box_off_num"
      ],
      "metadata": {
        "id": "JJlrB318Fknu"
      }
    },
    {
      "cell_type": "code",
      "source": [
        "y_max = all_df.box_off_num.max()\n",
        "y_min = all_df.box_off_num.min()\n",
        "\n",
        "all_df['box_off_num'] = (all_df.box_off_num - y_min) / ( y_max - y_min )"
      ],
      "metadata": {
        "id": "93qOJE-DFnIP"
      },
      "execution_count": null,
      "outputs": []
    },
    {
      "cell_type": "markdown",
      "source": [
        "## 전처리 후의 데이터 분포 보기"
      ],
      "metadata": {
        "id": "r5brH70X9HxE"
      }
    },
    {
      "cell_type": "markdown",
      "source": [
        "### time"
      ],
      "metadata": {
        "id": "oj8TifOw9OB8"
      }
    },
    {
      "cell_type": "code",
      "source": [
        "plt.hist(all_df.time, bins=100)\n",
        "plt.show()"
      ],
      "metadata": {
        "id": "9HCJ_ZgQ9KHs"
      },
      "execution_count": null,
      "outputs": []
    },
    {
      "cell_type": "markdown",
      "source": [
        "### dir_prev_bfnum  "
      ],
      "metadata": {
        "id": "AAL7UU_t94so"
      }
    },
    {
      "cell_type": "code",
      "source": [
        "plt.hist(all_df.dir_prev_bfnum, bins=100)\n",
        "plt.show()"
      ],
      "metadata": {
        "id": "m7Sv_1BK-Dgt"
      },
      "execution_count": null,
      "outputs": []
    },
    {
      "cell_type": "markdown",
      "source": [
        "### dir_prev_num    "
      ],
      "metadata": {
        "id": "nVZ6r5bA94ml"
      }
    },
    {
      "cell_type": "code",
      "source": [
        "plt.hist(all_df.dir_prev_num, bins=100)\n",
        "plt.show()"
      ],
      "metadata": {
        "id": "MOTvfVMK-D-J"
      },
      "execution_count": null,
      "outputs": []
    },
    {
      "cell_type": "markdown",
      "source": [
        "### num_staff       "
      ],
      "metadata": {
        "id": "zr0rbHog94j2"
      }
    },
    {
      "cell_type": "code",
      "source": [
        "plt.hist(all_df.num_staff, bins=100)\n",
        "plt.show()"
      ],
      "metadata": {
        "id": "kfnAP36O-Edr"
      },
      "execution_count": null,
      "outputs": []
    },
    {
      "cell_type": "markdown",
      "source": [
        "### num_actor       "
      ],
      "metadata": {
        "id": "NSKxm12d94cB"
      }
    },
    {
      "cell_type": "code",
      "source": [
        "plt.hist(all_df.num_actor, bins=100)\n",
        "plt.show()"
      ],
      "metadata": {
        "id": "-C1eyPh2-E4q"
      },
      "execution_count": null,
      "outputs": []
    },
    {
      "cell_type": "markdown",
      "source": [
        "### box_off_num     "
      ],
      "metadata": {
        "id": "vnqUKqZ0-BVh"
      }
    },
    {
      "cell_type": "code",
      "source": [
        "plt.hist(all_df.box_off_num, bins=100)\n",
        "plt.show()"
      ],
      "metadata": {
        "id": "Pze518sv-FVr"
      },
      "execution_count": null,
      "outputs": []
    },
    {
      "cell_type": "markdown",
      "source": [
        "## train, test, submisiion 데이터 분리"
      ],
      "metadata": {
        "id": "zpT-IkadCOtV"
      }
    },
    {
      "cell_type": "code",
      "source": [
        "train_df = all_df[:500]\n",
        "test_df = all_df[500:600]\n",
        "submission_df = all_df[600:]\n",
        "\n",
        "print(len(train_df))\n",
        "print(len(test_df))\n",
        "print(len(submission_df))"
      ],
      "metadata": {
        "id": "7-pauygTC8Cm"
      },
      "execution_count": null,
      "outputs": []
    },
    {
      "cell_type": "markdown",
      "source": [
        "## x, y로 분리"
      ],
      "metadata": {
        "id": "eOL-mRycDFKW"
      }
    },
    {
      "cell_type": "code",
      "source": [
        "train_y = train_df.box_off_num.to_numpy()\n",
        "train_x_df = train_df.drop(columns=[\"box_off_num\"])\n",
        "train_x = train_x_df.to_numpy()\n",
        "print(train_x.shape)\n",
        "print(train_y.shape)\n",
        "\n",
        "test_y = test_df.box_off_num.to_numpy()\n",
        "test_x_df = test_df.drop(columns=[\"box_off_num\"])\n",
        "test_x = test_x_df.to_numpy()\n",
        "print(test_x.shape)\n",
        "print(test_y.shape)\n",
        "\n",
        "submission_x_df = submission_df.drop(columns=[\"box_off_num\"])\n",
        "submission_x = submission_x_df.to_numpy()\n",
        "print(submission_x.shape)\n"
      ],
      "metadata": {
        "id": "DsWExIVZDYD1"
      },
      "execution_count": null,
      "outputs": []
    },
    {
      "cell_type": "markdown",
      "source": [
        "## 딥러닝 학습"
      ],
      "metadata": {
        "id": "siZFbFhpDY77"
      }
    },
    {
      "cell_type": "code",
      "source": [
        "import numpy as np\n",
        "import pandas as pd\n",
        "import matplotlib.pyplot as plt\n",
        "\n",
        "import tensorflow as tf\n",
        "\n",
        "from tensorflow import keras\n",
        "from tensorflow.keras import optimizers\n",
        "from tensorflow.keras.layers import Dense\n",
        "\n",
        "model = keras.Sequential()\n",
        "model.add(Dense(10, activation='relu', input_shape=(5,)))\n",
        "model.add(Dense(10, activation='relu'))\n",
        "model.add(Dense(1))\n",
        "\n",
        "model.compile(optimizer=\"SGD\", loss=\"mse\", metrics=[\"mape\"])\n",
        "model.summary()\n",
        "\n",
        "history = model.fit(train_x, train_y, epochs=1000, verbose=0, batch_size=128, validation_split=0.1)\n",
        "\n",
        "plt.plot(history.history['loss'])\n",
        "plt.plot(history.history['val_loss'])\n",
        "plt.show()\n",
        "\n",
        "\n",
        "\n",
        "loss, mape = model.evaluate(test_x, test_y)\n",
        "print(\"loss=\", loss)\n",
        "print(\"mape=\", mape)\n",
        "\n",
        "y_ = model.predict(test_x)\n",
        "\n",
        "plt.scatter(test_y, y_)\n",
        "plt.show()"
      ],
      "metadata": {
        "id": "TcAnaxdQDzL4"
      },
      "execution_count": null,
      "outputs": []
    },
    {
      "cell_type": "code",
      "source": [
        "plt.plot(history.history['loss'][50:])\n",
        "plt.plot(history.history['val_loss'][50:])\n",
        "plt.show()"
      ],
      "metadata": {
        "id": "e7iDAaB6Dz0m"
      },
      "execution_count": null,
      "outputs": []
    },
    {
      "cell_type": "markdown",
      "source": [
        "## RMSE 계산하기"
      ],
      "metadata": {
        "id": "0OgLpDFPi8Hx"
      }
    },
    {
      "cell_type": "code",
      "source": [
        "predicted = y_ * ( y_max - y_min) + y_min\n",
        "predicted = np.exp(predicted) - 1.\n",
        "\n",
        "org_test_y = test_y * ( y_max - y_min) + y_min\n",
        "org_test_y = np.exp(org_test_y) - 1."
      ],
      "metadata": {
        "id": "YfPnZI68i91n"
      },
      "execution_count": null,
      "outputs": []
    },
    {
      "cell_type": "code",
      "source": [
        "from tensorflow.keras.metrics import RootMeanSquaredError\n",
        "\n",
        "rmse = RootMeanSquaredError()(org_test_y, predicted)\n",
        "print(\"rmse = \", rmse)\n",
        "\n",
        "plt.hist(predicted, bins=100)\n",
        "plt.show()\n",
        "plt.hist(org_test_y, bins=100)\n",
        "plt.show()"
      ],
      "metadata": {
        "id": "Ol8djCfbi_ZQ"
      },
      "execution_count": null,
      "outputs": []
    },
    {
      "cell_type": "markdown",
      "source": [
        "## 예측하기"
      ],
      "metadata": {
        "id": "KiQtUe2Id_PH"
      }
    },
    {
      "cell_type": "code",
      "source": [
        "predicted = model.predict(submission_x)"
      ],
      "metadata": {
        "id": "5mBjsiLqeBMw"
      },
      "execution_count": null,
      "outputs": []
    },
    {
      "cell_type": "code",
      "source": [
        "plt.hist(predicted, bins=100)\n",
        "plt.show()"
      ],
      "metadata": {
        "id": "F7xnjd2YeBv-"
      },
      "execution_count": null,
      "outputs": []
    },
    {
      "cell_type": "markdown",
      "source": [
        "normalized = ( t - min )  / (max - min)\n",
        "\n",
        "t - min = normalized * (max - min)\n",
        "\n",
        "t = normalized * (max - min) + min"
      ],
      "metadata": {
        "id": "joDvoc4UeC8-"
      }
    },
    {
      "cell_type": "code",
      "source": [
        "predicted = predicted * ( y_max - y_min) + y_min"
      ],
      "metadata": {
        "id": "RCLiiU6weFuO"
      },
      "execution_count": null,
      "outputs": []
    },
    {
      "cell_type": "code",
      "source": [
        "plt.hist(predicted, bins=100)\n",
        "plt.show()"
      ],
      "metadata": {
        "id": "VIJqX10ZeI1-"
      },
      "execution_count": null,
      "outputs": []
    },
    {
      "cell_type": "code",
      "source": [
        "predicted = np.exp(predicted) - 1."
      ],
      "metadata": {
        "id": "rVV-TS8NeJtN"
      },
      "execution_count": null,
      "outputs": []
    },
    {
      "cell_type": "code",
      "source": [
        "plt.hist(predicted, bins=100)\n",
        "plt.show()"
      ],
      "metadata": {
        "id": "AkFYjiTRecre"
      },
      "execution_count": null,
      "outputs": []
    },
    {
      "cell_type": "markdown",
      "source": [
        "## submission 파일 만들기"
      ],
      "metadata": {
        "id": "lFRgCWvxegzu"
      }
    },
    {
      "cell_type": "code",
      "source": [
        "!head ./drive/MyDrive/'빅데이터 분석가 양성 과정 자료실'/딥러닝/dataset/'영화 관객수'/submission.csv"
      ],
      "metadata": {
        "id": "e1Fx0-mcgUiH"
      },
      "execution_count": null,
      "outputs": []
    },
    {
      "cell_type": "code",
      "source": [
        "submission_df = pd.read_csv(data_dir + \"영화 관객수/movies_test.csv\")\n",
        "submission_df.head()"
      ],
      "metadata": {
        "id": "HIjRXSEEfvkH"
      },
      "execution_count": null,
      "outputs": []
    },
    {
      "cell_type": "code",
      "source": [
        "final_df = pd.DataFrame(submission_df.title)\n",
        "final_df.head()"
      ],
      "metadata": {
        "id": "HEXlGk-Kf2KN"
      },
      "execution_count": null,
      "outputs": []
    },
    {
      "cell_type": "code",
      "source": [
        "final_df['box_off_num'] = predicted.astype(np.int)\n",
        "final_df.head()"
      ],
      "metadata": {
        "id": "2nzgFQryf6om"
      },
      "execution_count": null,
      "outputs": []
    },
    {
      "cell_type": "code",
      "source": [
        "final_df.to_csv('submission.csv', index=False)"
      ],
      "metadata": {
        "id": "ySrs_p7agBSW"
      },
      "execution_count": null,
      "outputs": []
    },
    {
      "cell_type": "code",
      "source": [
        "!head submission.csv"
      ],
      "metadata": {
        "id": "J_IWOqimgK3O"
      },
      "execution_count": null,
      "outputs": []
    },
    {
      "cell_type": "markdown",
      "source": [
        "# 두번째 시도\n",
        "카테고리 데이터도 사용하자."
      ],
      "metadata": {
        "id": "MpyF0hG5sMbR"
      }
    },
    {
      "cell_type": "markdown",
      "source": [
        "## 데이터 읽기"
      ],
      "metadata": {
        "id": "hh4c7xpcsMbR"
      }
    },
    {
      "cell_type": "code",
      "source": [
        "data_dir = './drive/MyDrive/빅데이터 분석가 양성 과정 자료실/딥러닝/dataset/'"
      ],
      "metadata": {
        "id": "CESctY1AsMbR"
      },
      "execution_count": null,
      "outputs": []
    },
    {
      "cell_type": "code",
      "source": [
        "train_df = pd.read_csv(data_dir + \"영화 관객수/movies_train.csv\")\n",
        "train_df.head()"
      ],
      "metadata": {
        "id": "ttJtpZV5sMbR"
      },
      "execution_count": null,
      "outputs": []
    },
    {
      "cell_type": "code",
      "source": [
        "submission_df = pd.read_csv(data_dir + \"영화 관객수/movies_test.csv\")\n",
        "submission_df.head()"
      ],
      "metadata": {
        "id": "JaUla20lsMbR"
      },
      "execution_count": null,
      "outputs": []
    },
    {
      "cell_type": "markdown",
      "source": [
        "## train + submission 데이터 합치기"
      ],
      "metadata": {
        "id": "xaEsX8GXsMbR"
      }
    },
    {
      "cell_type": "code",
      "source": [
        "all_df = pd.concat([train_df, submission_df])\n",
        "all_df.head()"
      ],
      "metadata": {
        "id": "E5aqb_MxsMbR"
      },
      "execution_count": null,
      "outputs": []
    },
    {
      "cell_type": "code",
      "source": [
        "all_df.info()"
      ],
      "metadata": {
        "id": "HnsesZIwsMbR"
      },
      "execution_count": null,
      "outputs": []
    },
    {
      "cell_type": "markdown",
      "source": [
        "## 카테고리 데이터 인코딩"
      ],
      "metadata": {
        "id": "O7Gbmv4UsZyy"
      }
    },
    {
      "cell_type": "code",
      "source": [
        "all_df.distributor = all_df.distributor.astype('category')\n",
        "all_df['distributor_code'] = all_df.distributor.cat.codes\n",
        "\n",
        "all_df.genre = all_df.genre.astype('category')\n",
        "all_df['genre_code'] = all_df.genre.cat.codes\n",
        "\n",
        "all_df.screening_rat = all_df.screening_rat.astype('category')\n",
        "all_df['screening_rat_code'] = all_df.screening_rat.cat.codes"
      ],
      "metadata": {
        "id": "fu-GFyGBsbY6"
      },
      "execution_count": null,
      "outputs": []
    },
    {
      "cell_type": "markdown",
      "source": [
        "## 카테고리 데이터 one-hot encoding"
      ],
      "metadata": {
        "id": "0VoWm-NesyCx"
      }
    },
    {
      "cell_type": "code",
      "source": [
        "all_df = pd.get_dummies(all_df, columns = ['distributor_code', 'genre_code', 'screening_rat_code'])"
      ],
      "metadata": {
        "id": "PV57mzo9s1ZR"
      },
      "execution_count": null,
      "outputs": []
    },
    {
      "cell_type": "code",
      "source": [
        "all_df.info()"
      ],
      "metadata": {
        "id": "z-yhdMmQtH1R"
      },
      "execution_count": null,
      "outputs": []
    },
    {
      "cell_type": "code",
      "source": [
        "all_df.head()"
      ],
      "metadata": {
        "id": "6ljjW0cltNTZ"
      },
      "execution_count": null,
      "outputs": []
    },
    {
      "cell_type": "markdown",
      "source": [
        "## 안쓸 컬럼 삭제"
      ],
      "metadata": {
        "id": "bMcw9OtasMbR"
      }
    },
    {
      "cell_type": "code",
      "source": [
        "all_df.drop(columns=['title',\n",
        "                     'distributor',\n",
        "                     'genre',\n",
        "                     'release_time',\n",
        "                     'screening_rat',\n",
        "                     'director'], inplace=True)\n",
        "all_df.info()"
      ],
      "metadata": {
        "id": "IoqgRiVusMbR"
      },
      "execution_count": null,
      "outputs": []
    },
    {
      "cell_type": "markdown",
      "source": [
        "## 결측치 처리"
      ],
      "metadata": {
        "id": "H1cZ8u1isMbR"
      }
    },
    {
      "cell_type": "code",
      "source": [
        "all_df = all_df.fillna(0)"
      ],
      "metadata": {
        "id": "5paoxoEQsMbR"
      },
      "execution_count": null,
      "outputs": []
    },
    {
      "cell_type": "code",
      "source": [
        "all_df.info()"
      ],
      "metadata": {
        "id": "r3wk2WiqsMbR"
      },
      "execution_count": null,
      "outputs": []
    },
    {
      "cell_type": "markdown",
      "source": [
        "## 전처리 전의 데이터 분포 보기"
      ],
      "metadata": {
        "id": "8z5TZNxtsMbR"
      }
    },
    {
      "cell_type": "markdown",
      "source": [
        "### time"
      ],
      "metadata": {
        "id": "ztKt39QZsMbS"
      }
    },
    {
      "cell_type": "code",
      "source": [
        "plt.hist(all_df.time, bins=100)\n",
        "plt.show()"
      ],
      "metadata": {
        "id": "FJXDk7UqsMbS"
      },
      "execution_count": null,
      "outputs": []
    },
    {
      "cell_type": "markdown",
      "source": [
        "### dir_prev_bfnum"
      ],
      "metadata": {
        "id": "mkd_ydsosMbS"
      }
    },
    {
      "cell_type": "code",
      "source": [
        "plt.hist(all_df.dir_prev_bfnum, bins=100)\n",
        "plt.show()"
      ],
      "metadata": {
        "id": "wMIPGBBysMbS"
      },
      "execution_count": null,
      "outputs": []
    },
    {
      "cell_type": "markdown",
      "source": [
        "### dir_prev_num"
      ],
      "metadata": {
        "id": "RghVzNqSsMbS"
      }
    },
    {
      "cell_type": "code",
      "source": [
        "plt.hist(all_df.dir_prev_num, bins=100)\n",
        "plt.show()"
      ],
      "metadata": {
        "id": "qzzQw4HCsMbS"
      },
      "execution_count": null,
      "outputs": []
    },
    {
      "cell_type": "markdown",
      "source": [
        "### num_staff"
      ],
      "metadata": {
        "id": "RBNXaWYUsMbS"
      }
    },
    {
      "cell_type": "code",
      "source": [
        "plt.hist(all_df.num_staff, bins=100)\n",
        "plt.show()"
      ],
      "metadata": {
        "id": "1LkwXAeHsMbS"
      },
      "execution_count": null,
      "outputs": []
    },
    {
      "cell_type": "markdown",
      "source": [
        "### num_actor"
      ],
      "metadata": {
        "id": "KOc9tugPsMbS"
      }
    },
    {
      "cell_type": "code",
      "source": [
        "plt.hist(all_df.num_actor, bins=100)\n",
        "plt.show()"
      ],
      "metadata": {
        "id": "tDZxpDnQsMbS"
      },
      "execution_count": null,
      "outputs": []
    },
    {
      "cell_type": "markdown",
      "source": [
        "### box_off_num"
      ],
      "metadata": {
        "id": "cSeg-lausMbS"
      }
    },
    {
      "cell_type": "code",
      "source": [
        "plt.hist(all_df.box_off_num, bins=100)\n",
        "plt.show()"
      ],
      "metadata": {
        "id": "YcKhFWjHsMbS"
      },
      "execution_count": null,
      "outputs": []
    },
    {
      "cell_type": "markdown",
      "source": [
        "## 컬럼별 전처리"
      ],
      "metadata": {
        "id": "Hmx5jRkEsMbS"
      }
    },
    {
      "cell_type": "markdown",
      "source": [
        "### time\n",
        "250이 넘는 이상치는 250으로 바꾼다."
      ],
      "metadata": {
        "id": "sVFAqGm2sMbS"
      }
    },
    {
      "cell_type": "code",
      "source": [
        "all_df.loc[all_df.time>200, 'time'] = 200"
      ],
      "metadata": {
        "id": "QMJCFAP-sMbS"
      },
      "execution_count": null,
      "outputs": []
    },
    {
      "cell_type": "markdown",
      "source": [
        "### dir_prev_bf_num\n",
        "1을 더한 로그처리 한다."
      ],
      "metadata": {
        "id": "ip-CLYsJsMbT"
      }
    },
    {
      "cell_type": "code",
      "source": [
        "all_df['dir_prev_bfnum'] = np.log1p(all_df.dir_prev_bfnum)"
      ],
      "metadata": {
        "id": "ee-uD7t_sMbT"
      },
      "execution_count": null,
      "outputs": []
    },
    {
      "cell_type": "markdown",
      "source": [
        "### num_staff\n",
        "1을 더한 로그처리 한다."
      ],
      "metadata": {
        "id": "adqCFXI8sMbT"
      }
    },
    {
      "cell_type": "code",
      "source": [
        "all_df['num_staff'] = np.log1p(all_df.num_staff)"
      ],
      "metadata": {
        "id": "VoVAoyvPsMbT"
      },
      "execution_count": null,
      "outputs": []
    },
    {
      "cell_type": "markdown",
      "source": [
        "### num_actor\n",
        "10보다 큰 이상치를 10으로 변환"
      ],
      "metadata": {
        "id": "ppQ9kNENsMbT"
      }
    },
    {
      "cell_type": "code",
      "source": [
        "all_df.loc[all_df.num_actor>10, 'num_actor'] = 10"
      ],
      "metadata": {
        "id": "UvSaImAqsMbT"
      },
      "execution_count": null,
      "outputs": []
    },
    {
      "cell_type": "markdown",
      "source": [
        "### box_off_num\n",
        "1을 더한 로그처리 한다."
      ],
      "metadata": {
        "id": "WDOiPOgIsMbT"
      }
    },
    {
      "cell_type": "code",
      "source": [
        "all_df['box_off_num'] = np.log1p(all_df.box_off_num)"
      ],
      "metadata": {
        "id": "fpEsizM8sMbT"
      },
      "execution_count": null,
      "outputs": []
    },
    {
      "cell_type": "markdown",
      "source": [
        "## Normalization"
      ],
      "metadata": {
        "id": "E3DicW8hsMbT"
      }
    },
    {
      "cell_type": "code",
      "source": [
        "# all_df['time'] = (all_df.time - all_df.time.min()) / (all_df.time.max() - all_df.time.min())\n",
        "# all_df['dir_prev_bfnum'] = (all_df.dir_prev_bfnum - all_df.dir_prev_bfnum.min()) / (all_df.dir_prev_bfnum.max() - all_df.dir_prev_bfnum.min())\n",
        "# all_df['dir_prev_num'] = (all_df.dir_prev_num - all_df.dir_prev_num.min()) / (all_df.dir_prev_num.max() - all_df.dir_prev_num.min())\n",
        "# all_df['num_staff'] = (all_df.num_staff - all_df.num_staff.min()) / (all_df.num_staff.max() - all_df.num_staff.min())\n",
        "# all_df['num_actor'] = (all_df.num_actor - all_df.num_actor.min()) / (all_df.num_actor.max() - all_df.num_actor.min())"
      ],
      "metadata": {
        "id": "WZ7T-eAqsMbT"
      },
      "execution_count": null,
      "outputs": []
    },
    {
      "cell_type": "code",
      "source": [
        "col_list = ['time', 'dir_prev_bfnum', 'dir_prev_num', 'num_staff', 'num_actor']\n",
        "all_df[col_list] = (all_df[col_list] - all_df[col_list].min()) / (all_df[col_list].max() - all_df[col_list].min())"
      ],
      "metadata": {
        "id": "8hs6OnxQsMbT"
      },
      "execution_count": null,
      "outputs": []
    },
    {
      "cell_type": "code",
      "source": [
        "all_df.head()"
      ],
      "metadata": {
        "id": "IZA9bV2IsMbT"
      },
      "execution_count": null,
      "outputs": []
    },
    {
      "cell_type": "markdown",
      "source": [
        "### box_off_num"
      ],
      "metadata": {
        "id": "He8JXgVbsMbU"
      }
    },
    {
      "cell_type": "code",
      "source": [
        "y_max = all_df.box_off_num.max()\n",
        "y_min = all_df.box_off_num.min()\n",
        "\n",
        "all_df['box_off_num'] = (all_df.box_off_num - y_min) / ( y_max - y_min )"
      ],
      "metadata": {
        "id": "k9cprAVAsMbU"
      },
      "execution_count": null,
      "outputs": []
    },
    {
      "cell_type": "markdown",
      "source": [
        "## 전처리 후의 데이터 분포 보기"
      ],
      "metadata": {
        "id": "_DB7pR4nsMbU"
      }
    },
    {
      "cell_type": "markdown",
      "source": [
        "### time"
      ],
      "metadata": {
        "id": "OBriPl3OsMbU"
      }
    },
    {
      "cell_type": "code",
      "source": [
        "plt.hist(all_df.time, bins=100)\n",
        "plt.show()"
      ],
      "metadata": {
        "id": "BHGSyllCsMbU"
      },
      "execution_count": null,
      "outputs": []
    },
    {
      "cell_type": "markdown",
      "source": [
        "### dir_prev_bfnum  "
      ],
      "metadata": {
        "id": "p3pcfGf6sMbU"
      }
    },
    {
      "cell_type": "code",
      "source": [
        "plt.hist(all_df.dir_prev_bfnum, bins=100)\n",
        "plt.show()"
      ],
      "metadata": {
        "id": "PzDylBzmsMbU"
      },
      "execution_count": null,
      "outputs": []
    },
    {
      "cell_type": "markdown",
      "source": [
        "### dir_prev_num    "
      ],
      "metadata": {
        "id": "O7GfGyp3sMbU"
      }
    },
    {
      "cell_type": "code",
      "source": [
        "plt.hist(all_df.dir_prev_num, bins=100)\n",
        "plt.show()"
      ],
      "metadata": {
        "id": "onE3w8bbsMbU"
      },
      "execution_count": null,
      "outputs": []
    },
    {
      "cell_type": "markdown",
      "source": [
        "### num_staff       "
      ],
      "metadata": {
        "id": "EXlxjplJsMbU"
      }
    },
    {
      "cell_type": "code",
      "source": [
        "plt.hist(all_df.num_staff, bins=100)\n",
        "plt.show()"
      ],
      "metadata": {
        "id": "aCY1odAXsMbU"
      },
      "execution_count": null,
      "outputs": []
    },
    {
      "cell_type": "markdown",
      "source": [
        "### num_actor       "
      ],
      "metadata": {
        "id": "AriwEckNsMbU"
      }
    },
    {
      "cell_type": "code",
      "source": [
        "plt.hist(all_df.num_actor, bins=100)\n",
        "plt.show()"
      ],
      "metadata": {
        "id": "RTPNYyLmsMbU"
      },
      "execution_count": null,
      "outputs": []
    },
    {
      "cell_type": "markdown",
      "source": [
        "### box_off_num     "
      ],
      "metadata": {
        "id": "iPmJ8INisMbV"
      }
    },
    {
      "cell_type": "code",
      "source": [
        "plt.hist(all_df.box_off_num, bins=100)\n",
        "plt.show()"
      ],
      "metadata": {
        "id": "Y3CUfBDhsMbV"
      },
      "execution_count": null,
      "outputs": []
    },
    {
      "cell_type": "markdown",
      "source": [
        "## train, test, submisiion 데이터 분리"
      ],
      "metadata": {
        "id": "hm2AxKWmsMbV"
      }
    },
    {
      "cell_type": "code",
      "source": [
        "train_df = all_df[:500]\n",
        "test_df = all_df[500:600]\n",
        "submission_df = all_df[600:]\n",
        "\n",
        "print(len(train_df))\n",
        "print(len(test_df))\n",
        "print(len(submission_df))"
      ],
      "metadata": {
        "id": "h6JY-DQLsMbV"
      },
      "execution_count": null,
      "outputs": []
    },
    {
      "cell_type": "markdown",
      "source": [
        "## x, y로 분리"
      ],
      "metadata": {
        "id": "gngPEDaDsMbV"
      }
    },
    {
      "cell_type": "code",
      "source": [
        "train_y = train_df.box_off_num.to_numpy()\n",
        "train_x_df = train_df.drop(columns=[\"box_off_num\"])\n",
        "train_x = train_x_df.to_numpy()\n",
        "print(train_x.shape)\n",
        "print(train_y.shape)\n",
        "\n",
        "test_y = test_df.box_off_num.to_numpy()\n",
        "test_x_df = test_df.drop(columns=[\"box_off_num\"])\n",
        "test_x = test_x_df.to_numpy()\n",
        "print(test_x.shape)\n",
        "print(test_y.shape)\n",
        "\n",
        "submission_x_df = submission_df.drop(columns=[\"box_off_num\"])\n",
        "submission_x = submission_x_df.to_numpy()\n",
        "print(submission_x.shape)\n"
      ],
      "metadata": {
        "id": "XUXJiMEksMbV"
      },
      "execution_count": null,
      "outputs": []
    },
    {
      "cell_type": "markdown",
      "source": [
        "## 딥러닝 학습"
      ],
      "metadata": {
        "id": "2sT2fH_2sMbV"
      }
    },
    {
      "cell_type": "code",
      "source": [
        "import numpy as np\n",
        "import pandas as pd\n",
        "import matplotlib.pyplot as plt\n",
        "\n",
        "import tensorflow as tf\n",
        "\n",
        "from tensorflow import keras\n",
        "from tensorflow.keras import optimizers\n",
        "from tensorflow.keras.layers import Dense\n",
        "\n",
        "model = keras.Sequential()\n",
        "model.add(Dense(10, activation='relu', input_shape=(train_x.shape[1],)))\n",
        "model.add(Dense(10, activation='relu'))\n",
        "model.add(Dense(1))\n",
        "\n",
        "model.compile(optimizer=\"SGD\", loss=\"mse\", metrics=[\"mape\"])\n",
        "model.summary()\n",
        "\n",
        "history = model.fit(train_x, train_y, epochs=4000, verbose=0, batch_size=128, validation_split=0.1)\n",
        "\n",
        "plt.plot(history.history['loss'])\n",
        "plt.plot(history.history['val_loss'])\n",
        "plt.show()\n",
        "\n",
        "\n",
        "\n",
        "loss, mape = model.evaluate(test_x, test_y)\n",
        "print(\"loss=\", loss)\n",
        "print(\"mape=\", mape)\n",
        "\n",
        "y_ = model.predict(test_x)\n",
        "\n",
        "plt.scatter(test_y, y_)\n",
        "plt.show()"
      ],
      "metadata": {
        "id": "M1tdfXpXsMbV"
      },
      "execution_count": null,
      "outputs": []
    },
    {
      "cell_type": "code",
      "source": [
        "plt.plot(history.history['loss'][50:])\n",
        "plt.plot(history.history['val_loss'][50:])\n",
        "plt.show()"
      ],
      "metadata": {
        "id": "wowhiEebsMbV"
      },
      "execution_count": null,
      "outputs": []
    },
    {
      "cell_type": "markdown",
      "source": [
        "## RMSE 계산하기"
      ],
      "metadata": {
        "id": "hMmkWnHssMbV"
      }
    },
    {
      "cell_type": "code",
      "source": [
        "predicted = y_ * ( y_max - y_min) + y_min\n",
        "predicted = np.exp(predicted) - 1.\n",
        "\n",
        "org_test_y = test_y * ( y_max - y_min) + y_min\n",
        "org_test_y = np.exp(org_test_y) - 1."
      ],
      "metadata": {
        "id": "JqB4pOx6sMbV"
      },
      "execution_count": null,
      "outputs": []
    },
    {
      "cell_type": "code",
      "source": [
        "from tensorflow.keras.metrics import RootMeanSquaredError\n",
        "\n",
        "rmse = RootMeanSquaredError()(org_test_y, predicted)\n",
        "print(\"rmse = \", rmse)\n",
        "\n",
        "plt.hist(predicted, bins=100)\n",
        "plt.show()\n",
        "plt.hist(org_test_y, bins=100)\n",
        "plt.show()"
      ],
      "metadata": {
        "id": "b_dCET-DsMbV"
      },
      "execution_count": null,
      "outputs": []
    },
    {
      "cell_type": "markdown",
      "source": [
        "## 예측하기"
      ],
      "metadata": {
        "id": "HdwvmEsdsMbW"
      }
    },
    {
      "cell_type": "code",
      "source": [
        "predicted = model.predict(submission_x)"
      ],
      "metadata": {
        "id": "yMIvJh8vsMbW"
      },
      "execution_count": null,
      "outputs": []
    },
    {
      "cell_type": "code",
      "source": [
        "plt.hist(predicted, bins=100)\n",
        "plt.show()"
      ],
      "metadata": {
        "id": "cGXqF74WsMbW"
      },
      "execution_count": null,
      "outputs": []
    },
    {
      "cell_type": "markdown",
      "source": [
        "normalized = ( t - min )  / (max - min)\n",
        "\n",
        "t - min = normalized * (max - min)\n",
        "\n",
        "t = normalized * (max - min) + min"
      ],
      "metadata": {
        "id": "IN0qEPVXsMbW"
      }
    },
    {
      "cell_type": "code",
      "source": [
        "predicted = predicted * ( y_max - y_min) + y_min"
      ],
      "metadata": {
        "id": "cpIHgXqzsMbW"
      },
      "execution_count": null,
      "outputs": []
    },
    {
      "cell_type": "code",
      "source": [
        "plt.hist(predicted, bins=100)\n",
        "plt.show()"
      ],
      "metadata": {
        "id": "EnANuG03sMbW"
      },
      "execution_count": null,
      "outputs": []
    },
    {
      "cell_type": "code",
      "source": [
        "predicted = np.exp(predicted) - 1."
      ],
      "metadata": {
        "id": "3KvXzIzBsMbW"
      },
      "execution_count": null,
      "outputs": []
    },
    {
      "cell_type": "code",
      "source": [
        "plt.hist(predicted, bins=100)\n",
        "plt.show()"
      ],
      "metadata": {
        "id": "_tV44HqNsMbW"
      },
      "execution_count": null,
      "outputs": []
    },
    {
      "cell_type": "markdown",
      "source": [
        "## submission 파일 만들기"
      ],
      "metadata": {
        "id": "DggDgT2osMbW"
      }
    },
    {
      "cell_type": "code",
      "source": [
        "!head ./drive/MyDrive/'빅데이터 분석가 양성 과정 자료실'/딥러닝/dataset/'영화 관객수'/submission.csv"
      ],
      "metadata": {
        "id": "U8zs_FtvsMbW"
      },
      "execution_count": null,
      "outputs": []
    },
    {
      "cell_type": "code",
      "source": [
        "submission_df = pd.read_csv(data_dir + \"영화 관객수/movies_test.csv\")\n",
        "submission_df.head()"
      ],
      "metadata": {
        "id": "nntu0Z4GsMbW"
      },
      "execution_count": null,
      "outputs": []
    },
    {
      "cell_type": "code",
      "source": [
        "final_df = pd.DataFrame(submission_df.title)\n",
        "final_df.head()"
      ],
      "metadata": {
        "id": "nlLwY_ipsMbW"
      },
      "execution_count": null,
      "outputs": []
    },
    {
      "cell_type": "code",
      "source": [
        "final_df['box_off_num'] = predicted.astype(np.int)\n",
        "final_df.head()"
      ],
      "metadata": {
        "id": "yYL2f8Z6sMbW"
      },
      "execution_count": null,
      "outputs": []
    },
    {
      "cell_type": "code",
      "source": [
        "final_df.to_csv('submission.csv', index=False)"
      ],
      "metadata": {
        "id": "431t4c0asMbW"
      },
      "execution_count": null,
      "outputs": []
    },
    {
      "cell_type": "code",
      "source": [
        "!head submission.csv"
      ],
      "metadata": {
        "id": "QfFphbHpsMbX"
      },
      "execution_count": null,
      "outputs": []
    },
    {
      "cell_type": "markdown",
      "source": [
        "## batch_size 찾기"
      ],
      "metadata": {
        "id": "HticP-MVv17x"
      }
    },
    {
      "cell_type": "code",
      "source": [
        "import time\n",
        "\n",
        "for batch_size in [16, 32, 64, 128, 256, 512, 512*2, 512*4, 512*8, 512*16]:\n",
        "    start = time.time()\n",
        "    history = model.fit(train_x, train_y, epochs=4, verbose=0, batch_size=batch_size, validation_split=0.1)\n",
        "    print(batch_size, \":\", time.time() - start)"
      ],
      "metadata": {
        "id": "46XWdek9vnjA"
      },
      "execution_count": null,
      "outputs": []
    },
    {
      "cell_type": "markdown",
      "source": [
        "# 세번째 시도\n",
        "release_time, director 컬럼 사용"
      ],
      "metadata": {
        "id": "cdZn_eYsxO-3"
      }
    },
    {
      "cell_type": "markdown",
      "source": [
        "## 데이터 읽기"
      ],
      "metadata": {
        "id": "jU3UzevKxO-3"
      }
    },
    {
      "cell_type": "code",
      "source": [
        "data_dir = './drive/MyDrive/빅데이터 분석가 양성 과정 자료실/딥러닝/dataset/'"
      ],
      "metadata": {
        "id": "mKD_2_I0xO-3"
      },
      "execution_count": null,
      "outputs": []
    },
    {
      "cell_type": "code",
      "source": [
        "train_df = pd.read_csv(data_dir + \"영화 관객수/movies_train.csv\")\n",
        "train_df.head()"
      ],
      "metadata": {
        "id": "e_OeHWe3xO-3"
      },
      "execution_count": null,
      "outputs": []
    },
    {
      "cell_type": "code",
      "source": [
        "submission_df = pd.read_csv(data_dir + \"영화 관객수/movies_test.csv\")\n",
        "submission_df.head()"
      ],
      "metadata": {
        "id": "LhCZcYc6xO-3"
      },
      "execution_count": null,
      "outputs": []
    },
    {
      "cell_type": "markdown",
      "source": [
        "## train + submission 데이터 합치기"
      ],
      "metadata": {
        "id": "dEFl51qPxO-3"
      }
    },
    {
      "cell_type": "code",
      "source": [
        "all_df = pd.concat([train_df, submission_df])\n",
        "all_df.head()"
      ],
      "metadata": {
        "id": "jL71rvIrxO-3"
      },
      "execution_count": null,
      "outputs": []
    },
    {
      "cell_type": "code",
      "source": [
        "all_df.info()"
      ],
      "metadata": {
        "id": "WxCfngQixO-3"
      },
      "execution_count": null,
      "outputs": []
    },
    {
      "cell_type": "markdown",
      "source": [
        "## release_time 값 조정\n",
        "'2021-12-31'같은 값을 '2021-12'로 변경"
      ],
      "metadata": {
        "id": "kZHsuuwpyG3k"
      }
    },
    {
      "cell_type": "code",
      "source": [
        "print(all_df.release_time[:5])\n",
        "all_df['release_time'] = all_df.release_time.str[:-3]\n",
        "print(all_df.release_time[:5])"
      ],
      "metadata": {
        "id": "zx38UM0ryMiE"
      },
      "execution_count": null,
      "outputs": []
    },
    {
      "cell_type": "markdown",
      "source": [
        "## 카테고리 데이터 인코딩"
      ],
      "metadata": {
        "id": "JB8-4SvpxO-3"
      }
    },
    {
      "cell_type": "code",
      "source": [
        "all_df.distributor = all_df.distributor.astype('category')\n",
        "all_df['distributor_code'] = all_df.distributor.cat.codes\n",
        "\n",
        "all_df.genre = all_df.genre.astype('category')\n",
        "all_df['genre_code'] = all_df.genre.cat.codes\n",
        "\n",
        "all_df.screening_rat = all_df.screening_rat.astype('category')\n",
        "all_df['screening_rat_code'] = all_df.screening_rat.cat.codes\n",
        "\n",
        "all_df.release_time = all_df.release_time.astype('category')\n",
        "all_df['release_time_code'] = all_df.release_time.cat.codes"
      ],
      "metadata": {
        "id": "USY0_NzKxO-3"
      },
      "execution_count": null,
      "outputs": []
    },
    {
      "cell_type": "markdown",
      "source": [
        "## 카테고리 데이터 one-hot encoding"
      ],
      "metadata": {
        "id": "mWrmqdq_xO-3"
      }
    },
    {
      "cell_type": "code",
      "source": [
        "all_df = pd.get_dummies(all_df, columns = ['distributor_code', 'genre_code', 'screening_rat_code', 'release_time_code'])"
      ],
      "metadata": {
        "id": "9tzrEX4qxO-3"
      },
      "execution_count": null,
      "outputs": []
    },
    {
      "cell_type": "code",
      "source": [
        "all_df.info()"
      ],
      "metadata": {
        "id": "7JWJGKrlxO-4"
      },
      "execution_count": null,
      "outputs": []
    },
    {
      "cell_type": "code",
      "source": [
        "all_df.head()"
      ],
      "metadata": {
        "id": "jInToinzxO-4"
      },
      "execution_count": null,
      "outputs": []
    },
    {
      "cell_type": "markdown",
      "source": [
        "## 안쓸 컬럼 삭제"
      ],
      "metadata": {
        "id": "TcTUP5TFxO-4"
      }
    },
    {
      "cell_type": "code",
      "source": [
        "all_df.drop(columns=['title',\n",
        "                     'distributor',\n",
        "                     'genre',\n",
        "                     'release_time',\n",
        "                     'screening_rat',\n",
        "                     'director'], inplace=True)\n",
        "all_df.info()"
      ],
      "metadata": {
        "id": "UsSVR_4PxO-4"
      },
      "execution_count": null,
      "outputs": []
    },
    {
      "cell_type": "markdown",
      "source": [
        "## 결측치 처리"
      ],
      "metadata": {
        "id": "qQu1EH6QxO-4"
      }
    },
    {
      "cell_type": "code",
      "source": [
        "all_df = all_df.fillna(0)"
      ],
      "metadata": {
        "id": "dSRbMMRXxO-4"
      },
      "execution_count": null,
      "outputs": []
    },
    {
      "cell_type": "code",
      "source": [
        "all_df.info()"
      ],
      "metadata": {
        "id": "o5qgeC-NxO-4"
      },
      "execution_count": null,
      "outputs": []
    },
    {
      "cell_type": "markdown",
      "source": [
        "## 전처리 전의 데이터 분포 보기"
      ],
      "metadata": {
        "id": "a3ITjiyRxO-4"
      }
    },
    {
      "cell_type": "markdown",
      "source": [
        "### time"
      ],
      "metadata": {
        "id": "KYhv-kRYxO-4"
      }
    },
    {
      "cell_type": "code",
      "source": [
        "plt.hist(all_df.time, bins=100)\n",
        "plt.show()"
      ],
      "metadata": {
        "id": "w8R7XPWuxO-4"
      },
      "execution_count": null,
      "outputs": []
    },
    {
      "cell_type": "markdown",
      "source": [
        "### dir_prev_bfnum"
      ],
      "metadata": {
        "id": "N7b9mSw4xO-4"
      }
    },
    {
      "cell_type": "code",
      "source": [
        "plt.hist(all_df.dir_prev_bfnum, bins=100)\n",
        "plt.show()"
      ],
      "metadata": {
        "id": "Dl0TA8fpxO-4"
      },
      "execution_count": null,
      "outputs": []
    },
    {
      "cell_type": "markdown",
      "source": [
        "### dir_prev_num"
      ],
      "metadata": {
        "id": "1kUNuKLXxO-4"
      }
    },
    {
      "cell_type": "code",
      "source": [
        "plt.hist(all_df.dir_prev_num, bins=100)\n",
        "plt.show()"
      ],
      "metadata": {
        "id": "jNXgEA15xO-4"
      },
      "execution_count": null,
      "outputs": []
    },
    {
      "cell_type": "markdown",
      "source": [
        "### num_staff"
      ],
      "metadata": {
        "id": "G52bRZEwxO-4"
      }
    },
    {
      "cell_type": "code",
      "source": [
        "plt.hist(all_df.num_staff, bins=100)\n",
        "plt.show()"
      ],
      "metadata": {
        "id": "udfCc3TXxO-4"
      },
      "execution_count": null,
      "outputs": []
    },
    {
      "cell_type": "markdown",
      "source": [
        "### num_actor"
      ],
      "metadata": {
        "id": "VTjczbZ2xO-5"
      }
    },
    {
      "cell_type": "code",
      "source": [
        "plt.hist(all_df.num_actor, bins=100)\n",
        "plt.show()"
      ],
      "metadata": {
        "id": "Lq3UiOizxO-5"
      },
      "execution_count": null,
      "outputs": []
    },
    {
      "cell_type": "markdown",
      "source": [
        "### box_off_num"
      ],
      "metadata": {
        "id": "xjkUrHXPxO-5"
      }
    },
    {
      "cell_type": "code",
      "source": [
        "plt.hist(all_df.box_off_num, bins=100)\n",
        "plt.show()"
      ],
      "metadata": {
        "id": "enwyoAwmxO-5"
      },
      "execution_count": null,
      "outputs": []
    },
    {
      "cell_type": "markdown",
      "source": [
        "## 컬럼별 전처리"
      ],
      "metadata": {
        "id": "Q5tMoyjMxO-5"
      }
    },
    {
      "cell_type": "markdown",
      "source": [
        "### time\n",
        "250이 넘는 이상치는 250으로 바꾼다."
      ],
      "metadata": {
        "id": "l8dfrnQ5xO-5"
      }
    },
    {
      "cell_type": "code",
      "source": [
        "all_df.loc[all_df.time>200, 'time'] = 200"
      ],
      "metadata": {
        "id": "kTGXSHpvxO-5"
      },
      "execution_count": null,
      "outputs": []
    },
    {
      "cell_type": "markdown",
      "source": [
        "### dir_prev_bf_num\n",
        "1을 더한 로그처리 한다."
      ],
      "metadata": {
        "id": "XOCkFUioxO-5"
      }
    },
    {
      "cell_type": "code",
      "source": [
        "all_df['dir_prev_bfnum'] = np.log1p(all_df.dir_prev_bfnum)"
      ],
      "metadata": {
        "id": "tiSXG72RxO-5"
      },
      "execution_count": null,
      "outputs": []
    },
    {
      "cell_type": "markdown",
      "source": [
        "### num_staff\n",
        "1을 더한 로그처리 한다."
      ],
      "metadata": {
        "id": "o_RknEIzxO-5"
      }
    },
    {
      "cell_type": "code",
      "source": [
        "all_df['num_staff'] = np.log1p(all_df.num_staff)"
      ],
      "metadata": {
        "id": "am9ps3vixO-6"
      },
      "execution_count": null,
      "outputs": []
    },
    {
      "cell_type": "markdown",
      "source": [
        "### num_actor\n",
        "10보다 큰 이상치를 10으로 변환"
      ],
      "metadata": {
        "id": "HPWxFrROxO-6"
      }
    },
    {
      "cell_type": "code",
      "source": [
        "all_df.loc[all_df.num_actor>10, 'num_actor'] = 10"
      ],
      "metadata": {
        "id": "JfRE5c2txO-6"
      },
      "execution_count": null,
      "outputs": []
    },
    {
      "cell_type": "markdown",
      "source": [
        "### box_off_num\n",
        "1을 더한 로그처리 한다."
      ],
      "metadata": {
        "id": "_--plZdWxO-6"
      }
    },
    {
      "cell_type": "code",
      "source": [
        "all_df['box_off_num'] = np.log1p(all_df.box_off_num)"
      ],
      "metadata": {
        "id": "arEIecn3xO-6"
      },
      "execution_count": null,
      "outputs": []
    },
    {
      "cell_type": "markdown",
      "source": [
        "## Normalization"
      ],
      "metadata": {
        "id": "cEzRin46xO-6"
      }
    },
    {
      "cell_type": "code",
      "source": [
        "# all_df['time'] = (all_df.time - all_df.time.min()) / (all_df.time.max() - all_df.time.min())\n",
        "# all_df['dir_prev_bfnum'] = (all_df.dir_prev_bfnum - all_df.dir_prev_bfnum.min()) / (all_df.dir_prev_bfnum.max() - all_df.dir_prev_bfnum.min())\n",
        "# all_df['dir_prev_num'] = (all_df.dir_prev_num - all_df.dir_prev_num.min()) / (all_df.dir_prev_num.max() - all_df.dir_prev_num.min())\n",
        "# all_df['num_staff'] = (all_df.num_staff - all_df.num_staff.min()) / (all_df.num_staff.max() - all_df.num_staff.min())\n",
        "# all_df['num_actor'] = (all_df.num_actor - all_df.num_actor.min()) / (all_df.num_actor.max() - all_df.num_actor.min())"
      ],
      "metadata": {
        "id": "lEI3fRzbxO-6"
      },
      "execution_count": null,
      "outputs": []
    },
    {
      "cell_type": "code",
      "source": [
        "col_list = ['time', 'dir_prev_bfnum', 'dir_prev_num', 'num_staff', 'num_actor']\n",
        "all_df[col_list] = (all_df[col_list] - all_df[col_list].min()) / (all_df[col_list].max() - all_df[col_list].min())"
      ],
      "metadata": {
        "id": "IbknjsLaxO-6"
      },
      "execution_count": null,
      "outputs": []
    },
    {
      "cell_type": "code",
      "source": [
        "all_df.head()"
      ],
      "metadata": {
        "id": "zO6cuiAexO-6"
      },
      "execution_count": null,
      "outputs": []
    },
    {
      "cell_type": "markdown",
      "source": [
        "### box_off_num"
      ],
      "metadata": {
        "id": "zh3qJgfKxO-6"
      }
    },
    {
      "cell_type": "code",
      "source": [
        "y_max = all_df.box_off_num.max()\n",
        "y_min = all_df.box_off_num.min()\n",
        "\n",
        "all_df['box_off_num'] = (all_df.box_off_num - y_min) / ( y_max - y_min )"
      ],
      "metadata": {
        "id": "Nl3_0eVfxO-6"
      },
      "execution_count": null,
      "outputs": []
    },
    {
      "cell_type": "markdown",
      "source": [
        "## 전처리 후의 데이터 분포 보기"
      ],
      "metadata": {
        "id": "e98yZuRHxO-6"
      }
    },
    {
      "cell_type": "markdown",
      "source": [
        "### time"
      ],
      "metadata": {
        "id": "K66bJnDRxO-6"
      }
    },
    {
      "cell_type": "code",
      "source": [
        "plt.hist(all_df.time, bins=100)\n",
        "plt.show()"
      ],
      "metadata": {
        "id": "V-CpAi5JxO-6"
      },
      "execution_count": null,
      "outputs": []
    },
    {
      "cell_type": "markdown",
      "source": [
        "### dir_prev_bfnum  "
      ],
      "metadata": {
        "id": "27TLrDvAxO-6"
      }
    },
    {
      "cell_type": "code",
      "source": [
        "plt.hist(all_df.dir_prev_bfnum, bins=100)\n",
        "plt.show()"
      ],
      "metadata": {
        "id": "fzKN8HA2xO-7"
      },
      "execution_count": null,
      "outputs": []
    },
    {
      "cell_type": "markdown",
      "source": [
        "### dir_prev_num    "
      ],
      "metadata": {
        "id": "emJanRafxO-7"
      }
    },
    {
      "cell_type": "code",
      "source": [
        "plt.hist(all_df.dir_prev_num, bins=100)\n",
        "plt.show()"
      ],
      "metadata": {
        "id": "RHdsYUlpxO-7"
      },
      "execution_count": null,
      "outputs": []
    },
    {
      "cell_type": "markdown",
      "source": [
        "### num_staff       "
      ],
      "metadata": {
        "id": "hlrxDFNrxO-7"
      }
    },
    {
      "cell_type": "code",
      "source": [
        "plt.hist(all_df.num_staff, bins=100)\n",
        "plt.show()"
      ],
      "metadata": {
        "id": "m_-JQRCdxO-7"
      },
      "execution_count": null,
      "outputs": []
    },
    {
      "cell_type": "markdown",
      "source": [
        "### num_actor       "
      ],
      "metadata": {
        "id": "SZV2i7EkxO-7"
      }
    },
    {
      "cell_type": "code",
      "source": [
        "plt.hist(all_df.num_actor, bins=100)\n",
        "plt.show()"
      ],
      "metadata": {
        "id": "KuN97QuexO-7"
      },
      "execution_count": null,
      "outputs": []
    },
    {
      "cell_type": "markdown",
      "source": [
        "### box_off_num     "
      ],
      "metadata": {
        "id": "m2TPYs0mxO-7"
      }
    },
    {
      "cell_type": "code",
      "source": [
        "plt.hist(all_df.box_off_num, bins=100)\n",
        "plt.show()"
      ],
      "metadata": {
        "id": "pJV4e2d3xO-7"
      },
      "execution_count": null,
      "outputs": []
    },
    {
      "cell_type": "markdown",
      "source": [
        "## train, test, submisiion 데이터 분리"
      ],
      "metadata": {
        "id": "Q8PzKD6lxO-7"
      }
    },
    {
      "cell_type": "code",
      "source": [
        "train_df = all_df[:500]\n",
        "test_df = all_df[500:600]\n",
        "submission_df = all_df[600:]\n",
        "\n",
        "print(len(train_df))\n",
        "print(len(test_df))\n",
        "print(len(submission_df))"
      ],
      "metadata": {
        "id": "mYCL9Ui3xO-7"
      },
      "execution_count": null,
      "outputs": []
    },
    {
      "cell_type": "markdown",
      "source": [
        "## x, y로 분리"
      ],
      "metadata": {
        "id": "QkEChK1IxO-7"
      }
    },
    {
      "cell_type": "code",
      "source": [
        "train_y = train_df.box_off_num.to_numpy()\n",
        "train_x_df = train_df.drop(columns=[\"box_off_num\"])\n",
        "train_x = train_x_df.to_numpy()\n",
        "print(train_x.shape)\n",
        "print(train_y.shape)\n",
        "\n",
        "test_y = test_df.box_off_num.to_numpy()\n",
        "test_x_df = test_df.drop(columns=[\"box_off_num\"])\n",
        "test_x = test_x_df.to_numpy()\n",
        "print(test_x.shape)\n",
        "print(test_y.shape)\n",
        "\n",
        "submission_x_df = submission_df.drop(columns=[\"box_off_num\"])\n",
        "submission_x = submission_x_df.to_numpy()\n",
        "print(submission_x.shape)\n"
      ],
      "metadata": {
        "id": "snmnhi5uxO-7"
      },
      "execution_count": null,
      "outputs": []
    },
    {
      "cell_type": "markdown",
      "source": [
        "## 딥러닝 학습"
      ],
      "metadata": {
        "id": "-fLL2gdfxO-7"
      }
    },
    {
      "cell_type": "code",
      "source": [
        "import numpy as np\n",
        "import pandas as pd\n",
        "import matplotlib.pyplot as plt\n",
        "\n",
        "import tensorflow as tf\n",
        "\n",
        "from tensorflow import keras\n",
        "from tensorflow.keras import optimizers\n",
        "from tensorflow.keras.layers import Dense\n",
        "\n",
        "model = keras.Sequential()\n",
        "model.add(Dense(10, activation='relu', input_shape=(train_x.shape[1],)))\n",
        "model.add(Dense(10, activation='relu'))\n",
        "model.add(Dense(1))\n",
        "\n",
        "model.compile(optimizer=\"SGD\", loss=\"mse\", metrics=[\"mape\"])\n",
        "model.summary()\n",
        "\n",
        "history = model.fit(train_x, train_y, epochs=4000, verbose=0, batch_size=128, validation_split=0.1)\n",
        "\n",
        "plt.plot(history.history['loss'])\n",
        "plt.plot(history.history['val_loss'])\n",
        "plt.show()\n",
        "\n",
        "\n",
        "\n",
        "loss, mape = model.evaluate(test_x, test_y)\n",
        "print(\"loss=\", loss)\n",
        "print(\"mape=\", mape)\n",
        "\n",
        "y_ = model.predict(test_x)\n",
        "\n",
        "plt.scatter(test_y, y_)\n",
        "plt.show()"
      ],
      "metadata": {
        "id": "9YoQy2O2xO-7"
      },
      "execution_count": null,
      "outputs": []
    },
    {
      "cell_type": "code",
      "source": [
        "plt.plot(history.history['loss'][50:])\n",
        "plt.plot(history.history['val_loss'][50:])\n",
        "plt.show()"
      ],
      "metadata": {
        "id": "yha2tB_7xO-8"
      },
      "execution_count": null,
      "outputs": []
    },
    {
      "cell_type": "markdown",
      "source": [
        "## RMSE 계산하기"
      ],
      "metadata": {
        "id": "Cnb8_V3pxO-8"
      }
    },
    {
      "cell_type": "code",
      "source": [
        "predicted = y_ * ( y_max - y_min) + y_min\n",
        "predicted = np.exp(predicted) - 1.\n",
        "\n",
        "org_test_y = test_y * ( y_max - y_min) + y_min\n",
        "org_test_y = np.exp(org_test_y) - 1."
      ],
      "metadata": {
        "id": "38y56mQ2xO-8"
      },
      "execution_count": null,
      "outputs": []
    },
    {
      "cell_type": "code",
      "source": [
        "from tensorflow.keras.metrics import RootMeanSquaredError\n",
        "\n",
        "rmse = RootMeanSquaredError()(org_test_y, predicted)\n",
        "print(\"rmse = \", rmse)\n",
        "\n",
        "plt.hist(predicted, bins=100)\n",
        "plt.show()\n",
        "plt.hist(org_test_y, bins=100)\n",
        "plt.show()"
      ],
      "metadata": {
        "id": "7pwWAAdgxO-8"
      },
      "execution_count": null,
      "outputs": []
    },
    {
      "cell_type": "markdown",
      "source": [
        "## 예측하기"
      ],
      "metadata": {
        "id": "GtiBdPjMxO-8"
      }
    },
    {
      "cell_type": "code",
      "source": [
        "predicted = model.predict(submission_x)"
      ],
      "metadata": {
        "id": "Zwx7vJSmxO-8"
      },
      "execution_count": null,
      "outputs": []
    },
    {
      "cell_type": "code",
      "source": [
        "plt.hist(predicted, bins=100)\n",
        "plt.show()"
      ],
      "metadata": {
        "id": "tpBEvl3GxO-8"
      },
      "execution_count": null,
      "outputs": []
    },
    {
      "cell_type": "markdown",
      "source": [
        "normalized = ( t - min )  / (max - min)\n",
        "\n",
        "t - min = normalized * (max - min)\n",
        "\n",
        "t = normalized * (max - min) + min"
      ],
      "metadata": {
        "id": "HM3ZQyJ0xO-8"
      }
    },
    {
      "cell_type": "code",
      "source": [
        "predicted = predicted * ( y_max - y_min) + y_min"
      ],
      "metadata": {
        "id": "MsLmtt7WxO-8"
      },
      "execution_count": null,
      "outputs": []
    },
    {
      "cell_type": "code",
      "source": [
        "plt.hist(predicted, bins=100)\n",
        "plt.show()"
      ],
      "metadata": {
        "id": "Q_8cLVb0xO-8"
      },
      "execution_count": null,
      "outputs": []
    },
    {
      "cell_type": "code",
      "source": [
        "predicted = np.exp(predicted) - 1."
      ],
      "metadata": {
        "id": "gj2CLQ0bxO-8"
      },
      "execution_count": null,
      "outputs": []
    },
    {
      "cell_type": "code",
      "source": [
        "plt.hist(predicted, bins=100)\n",
        "plt.show()"
      ],
      "metadata": {
        "id": "XMRqSy5dxO-8"
      },
      "execution_count": null,
      "outputs": []
    },
    {
      "cell_type": "markdown",
      "source": [
        "## submission 파일 만들기"
      ],
      "metadata": {
        "id": "woJoIhXDxO-8"
      }
    },
    {
      "cell_type": "code",
      "source": [
        "!head ./drive/MyDrive/'빅데이터 분석가 양성 과정 자료실'/딥러닝/dataset/'영화 관객수'/submission.csv"
      ],
      "metadata": {
        "id": "Y9sPHFCXxO-8"
      },
      "execution_count": null,
      "outputs": []
    },
    {
      "cell_type": "code",
      "source": [
        "submission_df = pd.read_csv(data_dir + \"영화 관객수/movies_test.csv\")\n",
        "submission_df.head()"
      ],
      "metadata": {
        "id": "eIUxMuVFxO-9"
      },
      "execution_count": null,
      "outputs": []
    },
    {
      "cell_type": "code",
      "source": [
        "final_df = pd.DataFrame(submission_df.title)\n",
        "final_df.head()"
      ],
      "metadata": {
        "id": "aStLvwObxO-9"
      },
      "execution_count": null,
      "outputs": []
    },
    {
      "cell_type": "code",
      "source": [
        "final_df['box_off_num'] = predicted.astype(np.int)\n",
        "final_df.head()"
      ],
      "metadata": {
        "id": "g9ADciIWxO-9"
      },
      "execution_count": null,
      "outputs": []
    },
    {
      "cell_type": "code",
      "source": [
        "final_df.to_csv('submission.csv', index=False)"
      ],
      "metadata": {
        "id": "6j7VgJ6ixO-9"
      },
      "execution_count": null,
      "outputs": []
    },
    {
      "cell_type": "code",
      "source": [
        "!head submission.csv"
      ],
      "metadata": {
        "id": "9yC5X3xhxO-9"
      },
      "execution_count": null,
      "outputs": []
    },
    {
      "cell_type": "markdown",
      "source": [
        "## batch_size 찾기"
      ],
      "metadata": {
        "id": "rh3kyRfKxO-9"
      }
    },
    {
      "cell_type": "code",
      "source": [
        "import time\n",
        "\n",
        "for batch_size in [16, 32, 64, 128, 256, 512, 512*2, 512*4, 512*8, 512*16]:\n",
        "    start = time.time()\n",
        "    history = model.fit(train_x, train_y, epochs=4, verbose=0, batch_size=batch_size, validation_split=0.1)\n",
        "    print(batch_size, \":\", time.time() - start)"
      ],
      "metadata": {
        "id": "-UqfktSJxO-9"
      },
      "execution_count": null,
      "outputs": []
    },
    {
      "cell_type": "code",
      "source": [
        ""
      ],
      "metadata": {
        "id": "IFDmNuWXxO-9"
      },
      "execution_count": null,
      "outputs": []
    },
    {
      "cell_type": "code",
      "source": [
        ""
      ],
      "metadata": {
        "id": "D1NIcTb-4xpv"
      },
      "execution_count": null,
      "outputs": []
    },
    {
      "cell_type": "markdown",
      "source": [
        "# 네번째 시도\n",
        "director 컬럼 사용"
      ],
      "metadata": {
        "id": "QBY2r-lH4yFS"
      }
    },
    {
      "cell_type": "markdown",
      "source": [
        "## 데이터 읽기"
      ],
      "metadata": {
        "id": "hJ3_tCIM4yFS"
      }
    },
    {
      "cell_type": "code",
      "source": [
        "data_dir = './drive/MyDrive/빅데이터 분석가 양성 과정 자료실/딥러닝/dataset/'"
      ],
      "metadata": {
        "id": "JHtRVSAy4yFS"
      },
      "execution_count": null,
      "outputs": []
    },
    {
      "cell_type": "code",
      "source": [
        "train_df = pd.read_csv(data_dir + \"영화 관객수/movies_train.csv\")\n",
        "train_df.head()"
      ],
      "metadata": {
        "id": "EzO8uI5L4yFS"
      },
      "execution_count": null,
      "outputs": []
    },
    {
      "cell_type": "code",
      "source": [
        "train_df.distributor.unique()"
      ],
      "metadata": {
        "id": "37VyJww89yp9"
      },
      "execution_count": null,
      "outputs": []
    },
    {
      "cell_type": "code",
      "source": [
        "submission_df = pd.read_csv(data_dir + \"영화 관객수/movies_test.csv\")\n",
        "submission_df.head()"
      ],
      "metadata": {
        "id": "88SQOeem4yFS"
      },
      "execution_count": null,
      "outputs": []
    },
    {
      "cell_type": "markdown",
      "source": [
        "## train + submission 데이터 합치기"
      ],
      "metadata": {
        "id": "mP0wUi424yFS"
      }
    },
    {
      "cell_type": "code",
      "source": [
        "all_df = pd.concat([train_df, submission_df])\n",
        "all_df.head()"
      ],
      "metadata": {
        "id": "ARyffTaJ4yFS"
      },
      "execution_count": null,
      "outputs": []
    },
    {
      "cell_type": "code",
      "source": [
        "all_df.info()"
      ],
      "metadata": {
        "id": "ho4aI4kd4yFS"
      },
      "execution_count": null,
      "outputs": []
    },
    {
      "cell_type": "markdown",
      "source": [
        "## release_time 값 조정\n",
        "'2021-12-31'같은 값을 '2021-12'로 변경"
      ],
      "metadata": {
        "id": "Occr5s1l4yFS"
      }
    },
    {
      "cell_type": "code",
      "source": [
        "print(all_df.release_time[:5])\n",
        "all_df['release_time'] = all_df.release_time.str[:-3]\n",
        "print(all_df.release_time[:5])"
      ],
      "metadata": {
        "id": "r26xX1Bo4yFS"
      },
      "execution_count": null,
      "outputs": []
    },
    {
      "cell_type": "markdown",
      "source": [
        "## director 컬럼 카테고리"
      ],
      "metadata": {
        "id": "A3xVr2Vu5ArL"
      }
    },
    {
      "cell_type": "code",
      "source": [
        "print(len(all_df.director.unique()))\n",
        "\n",
        "all_df.loc[all_df.dir_prev_num==0, 'director'] = '무명감독'\n",
        "print(len(all_df.director.unique()))"
      ],
      "metadata": {
        "id": "O3C7LUd25EqS"
      },
      "execution_count": null,
      "outputs": []
    },
    {
      "cell_type": "markdown",
      "source": [
        "## 카테고리 데이터 인코딩"
      ],
      "metadata": {
        "id": "7WN4agLJ4yFT"
      }
    },
    {
      "cell_type": "code",
      "source": [
        "all_df.distributor = all_df.distributor.astype('category')\n",
        "all_df['distributor_code'] = all_df.distributor.cat.codes\n",
        "\n",
        "all_df.genre = all_df.genre.astype('category')\n",
        "all_df['genre_code'] = all_df.genre.cat.codes\n",
        "\n",
        "all_df.screening_rat = all_df.screening_rat.astype('category')\n",
        "all_df['screening_rat_code'] = all_df.screening_rat.cat.codes\n",
        "\n",
        "all_df.release_time = all_df.release_time.astype('category')\n",
        "all_df['release_time_code'] = all_df.release_time.cat.codes\n",
        "\n",
        "all_df.director = all_df.director.astype('category')\n",
        "all_df['director'] = all_df.director.cat.codes"
      ],
      "metadata": {
        "id": "VfUasDgR4yFT"
      },
      "execution_count": null,
      "outputs": []
    },
    {
      "cell_type": "markdown",
      "source": [
        "## 카테고리 데이터 one-hot encoding"
      ],
      "metadata": {
        "id": "G9tPbZsr4yFT"
      }
    },
    {
      "cell_type": "code",
      "source": [
        "all_df = pd.get_dummies(all_df, columns = ['distributor_code', 'genre_code', 'screening_rat_code', 'release_time_code', 'director'])"
      ],
      "metadata": {
        "id": "A-DDpnfU4yFT"
      },
      "execution_count": null,
      "outputs": []
    },
    {
      "cell_type": "code",
      "source": [
        "all_df.info()"
      ],
      "metadata": {
        "id": "c9_WJqxk4yFT"
      },
      "execution_count": null,
      "outputs": []
    },
    {
      "cell_type": "code",
      "source": [
        "all_df.head()"
      ],
      "metadata": {
        "id": "U9AJdt-L4yFT"
      },
      "execution_count": null,
      "outputs": []
    },
    {
      "cell_type": "markdown",
      "source": [
        "## 안쓸 컬럼 삭제"
      ],
      "metadata": {
        "id": "yX5OEX9u4yFT"
      }
    },
    {
      "cell_type": "code",
      "source": [
        "all_df.drop(columns=['title',\n",
        "                     'distributor',\n",
        "                     'genre',\n",
        "                     'release_time',\n",
        "                     'screening_rat',\n",
        "                    #  'director'\n",
        "                     ], inplace=True)\n",
        "all_df.info()"
      ],
      "metadata": {
        "id": "wcVpXHrI4yFT"
      },
      "execution_count": null,
      "outputs": []
    },
    {
      "cell_type": "markdown",
      "source": [
        "## 결측치 처리"
      ],
      "metadata": {
        "id": "bQ2u_NQS4yFT"
      }
    },
    {
      "cell_type": "code",
      "source": [
        "all_df = all_df.fillna(0)"
      ],
      "metadata": {
        "id": "HTTpkCI14yFT"
      },
      "execution_count": null,
      "outputs": []
    },
    {
      "cell_type": "code",
      "source": [
        "all_df.info()"
      ],
      "metadata": {
        "id": "L0QXfQ4S4yFT"
      },
      "execution_count": null,
      "outputs": []
    },
    {
      "cell_type": "markdown",
      "source": [
        "## 전처리 전의 데이터 분포 보기"
      ],
      "metadata": {
        "id": "zVc-r-Ix4yFT"
      }
    },
    {
      "cell_type": "markdown",
      "source": [
        "### time"
      ],
      "metadata": {
        "id": "QUgOTAUl4yFT"
      }
    },
    {
      "cell_type": "code",
      "source": [
        "plt.hist(all_df.time, bins=100)\n",
        "plt.show()"
      ],
      "metadata": {
        "id": "9EDbaMvN4yFT"
      },
      "execution_count": null,
      "outputs": []
    },
    {
      "cell_type": "markdown",
      "source": [
        "### dir_prev_bfnum"
      ],
      "metadata": {
        "id": "E6O8mPwO4yFU"
      }
    },
    {
      "cell_type": "code",
      "source": [
        "plt.hist(all_df.dir_prev_bfnum, bins=100)\n",
        "plt.show()"
      ],
      "metadata": {
        "id": "qvWyKEYN4yFU"
      },
      "execution_count": null,
      "outputs": []
    },
    {
      "cell_type": "markdown",
      "source": [
        "### dir_prev_num"
      ],
      "metadata": {
        "id": "ol4ayBsa4yFU"
      }
    },
    {
      "cell_type": "code",
      "source": [
        "plt.hist(all_df.dir_prev_num, bins=100)\n",
        "plt.show()"
      ],
      "metadata": {
        "id": "XRuZ8YId4yFU"
      },
      "execution_count": null,
      "outputs": []
    },
    {
      "cell_type": "markdown",
      "source": [
        "### num_staff"
      ],
      "metadata": {
        "id": "VcuB2NCa4yFU"
      }
    },
    {
      "cell_type": "code",
      "source": [
        "plt.hist(all_df.num_staff, bins=100)\n",
        "plt.show()"
      ],
      "metadata": {
        "id": "65mm4D4E4yFU"
      },
      "execution_count": null,
      "outputs": []
    },
    {
      "cell_type": "markdown",
      "source": [
        "### num_actor"
      ],
      "metadata": {
        "id": "lUunLQuX4yFU"
      }
    },
    {
      "cell_type": "code",
      "source": [
        "plt.hist(all_df.num_actor, bins=100)\n",
        "plt.show()"
      ],
      "metadata": {
        "id": "aeA9nzap4yFU"
      },
      "execution_count": null,
      "outputs": []
    },
    {
      "cell_type": "markdown",
      "source": [
        "### box_off_num"
      ],
      "metadata": {
        "id": "RcfJVMon4yFU"
      }
    },
    {
      "cell_type": "code",
      "source": [
        "plt.hist(all_df.box_off_num, bins=100)\n",
        "plt.show()"
      ],
      "metadata": {
        "id": "hxLyrtYQ4yFU"
      },
      "execution_count": null,
      "outputs": []
    },
    {
      "cell_type": "markdown",
      "source": [
        "## 컬럼별 전처리"
      ],
      "metadata": {
        "id": "EK30fpVd4yFU"
      }
    },
    {
      "cell_type": "markdown",
      "source": [
        "### time\n",
        "250이 넘는 이상치는 250으로 바꾼다."
      ],
      "metadata": {
        "id": "1smumbl-4yFU"
      }
    },
    {
      "cell_type": "code",
      "source": [
        "all_df.loc[all_df.time>200, 'time'] = 200"
      ],
      "metadata": {
        "id": "TR2TBmD-4yFV"
      },
      "execution_count": null,
      "outputs": []
    },
    {
      "cell_type": "markdown",
      "source": [
        "### dir_prev_bf_num\n",
        "1을 더한 로그처리 한다."
      ],
      "metadata": {
        "id": "-iOhzhuk4yFV"
      }
    },
    {
      "cell_type": "code",
      "source": [
        "all_df['dir_prev_bfnum'] = np.log1p(all_df.dir_prev_bfnum)"
      ],
      "metadata": {
        "id": "mFZ-HCJx4yFV"
      },
      "execution_count": null,
      "outputs": []
    },
    {
      "cell_type": "markdown",
      "source": [
        "### num_staff\n",
        "1을 더한 로그처리 한다."
      ],
      "metadata": {
        "id": "r5tt5rvJ4yFV"
      }
    },
    {
      "cell_type": "code",
      "source": [
        "all_df['num_staff'] = np.log1p(all_df.num_staff)"
      ],
      "metadata": {
        "id": "L6B2UGwi4yFV"
      },
      "execution_count": null,
      "outputs": []
    },
    {
      "cell_type": "markdown",
      "source": [
        "### num_actor\n",
        "10보다 큰 이상치를 10으로 변환"
      ],
      "metadata": {
        "id": "99-qeagL4yFV"
      }
    },
    {
      "cell_type": "code",
      "source": [
        "all_df.loc[all_df.num_actor>10, 'num_actor'] = 10"
      ],
      "metadata": {
        "id": "LjXOlWfA4yFV"
      },
      "execution_count": null,
      "outputs": []
    },
    {
      "cell_type": "markdown",
      "source": [
        "### box_off_num\n",
        "1을 더한 로그처리 한다."
      ],
      "metadata": {
        "id": "biQ3qpTu4yFV"
      }
    },
    {
      "cell_type": "code",
      "source": [
        "all_df['box_off_num'] = np.log1p(all_df.box_off_num)"
      ],
      "metadata": {
        "id": "CavnEfBb4yFV"
      },
      "execution_count": null,
      "outputs": []
    },
    {
      "cell_type": "markdown",
      "source": [
        "## Normalization"
      ],
      "metadata": {
        "id": "firjoy204yFV"
      }
    },
    {
      "cell_type": "code",
      "source": [
        "# all_df['time'] = (all_df.time - all_df.time.min()) / (all_df.time.max() - all_df.time.min())\n",
        "# all_df['dir_prev_bfnum'] = (all_df.dir_prev_bfnum - all_df.dir_prev_bfnum.min()) / (all_df.dir_prev_bfnum.max() - all_df.dir_prev_bfnum.min())\n",
        "# all_df['dir_prev_num'] = (all_df.dir_prev_num - all_df.dir_prev_num.min()) / (all_df.dir_prev_num.max() - all_df.dir_prev_num.min())\n",
        "# all_df['num_staff'] = (all_df.num_staff - all_df.num_staff.min()) / (all_df.num_staff.max() - all_df.num_staff.min())\n",
        "# all_df['num_actor'] = (all_df.num_actor - all_df.num_actor.min()) / (all_df.num_actor.max() - all_df.num_actor.min())"
      ],
      "metadata": {
        "id": "EgasT5fI4yFV"
      },
      "execution_count": null,
      "outputs": []
    },
    {
      "cell_type": "code",
      "source": [
        "col_list = ['time', 'dir_prev_bfnum', 'dir_prev_num', 'num_staff', 'num_actor']\n",
        "all_df[col_list] = (all_df[col_list] - all_df[col_list].min()) / (all_df[col_list].max() - all_df[col_list].min())"
      ],
      "metadata": {
        "id": "A2SEacVi4yFV"
      },
      "execution_count": null,
      "outputs": []
    },
    {
      "cell_type": "code",
      "source": [
        "all_df.head()"
      ],
      "metadata": {
        "id": "1J4-KUYG4yFW"
      },
      "execution_count": null,
      "outputs": []
    },
    {
      "cell_type": "markdown",
      "source": [
        "### box_off_num"
      ],
      "metadata": {
        "id": "26TMKTuz4yFW"
      }
    },
    {
      "cell_type": "code",
      "source": [
        "y_max = all_df.box_off_num.max()\n",
        "y_min = all_df.box_off_num.min()\n",
        "\n",
        "all_df['box_off_num'] = (all_df.box_off_num - y_min) / ( y_max - y_min )"
      ],
      "metadata": {
        "id": "PSE96yFZ4yFW"
      },
      "execution_count": null,
      "outputs": []
    },
    {
      "cell_type": "markdown",
      "source": [
        "## 전처리 후의 데이터 분포 보기"
      ],
      "metadata": {
        "id": "pItFPnkH4yFW"
      }
    },
    {
      "cell_type": "markdown",
      "source": [
        "### time"
      ],
      "metadata": {
        "id": "fTxMpJhS4yFW"
      }
    },
    {
      "cell_type": "code",
      "source": [
        "plt.hist(all_df.time, bins=100)\n",
        "plt.show()"
      ],
      "metadata": {
        "id": "hjC7ejwV4yFW"
      },
      "execution_count": null,
      "outputs": []
    },
    {
      "cell_type": "markdown",
      "source": [
        "### dir_prev_bfnum  "
      ],
      "metadata": {
        "id": "R_c7JBw04yFW"
      }
    },
    {
      "cell_type": "code",
      "source": [
        "plt.hist(all_df.dir_prev_bfnum, bins=100)\n",
        "plt.show()"
      ],
      "metadata": {
        "id": "f05D04jy4yFW"
      },
      "execution_count": null,
      "outputs": []
    },
    {
      "cell_type": "markdown",
      "source": [
        "### dir_prev_num    "
      ],
      "metadata": {
        "id": "jeKysUMd4yFW"
      }
    },
    {
      "cell_type": "code",
      "source": [
        "plt.hist(all_df.dir_prev_num, bins=100)\n",
        "plt.show()"
      ],
      "metadata": {
        "id": "Hs1dScox4yFW"
      },
      "execution_count": null,
      "outputs": []
    },
    {
      "cell_type": "markdown",
      "source": [
        "### num_staff       "
      ],
      "metadata": {
        "id": "v1uJve6w4yFW"
      }
    },
    {
      "cell_type": "code",
      "source": [
        "plt.hist(all_df.num_staff, bins=100)\n",
        "plt.show()"
      ],
      "metadata": {
        "id": "zqi-ocGa4yFW"
      },
      "execution_count": null,
      "outputs": []
    },
    {
      "cell_type": "markdown",
      "source": [
        "### num_actor       "
      ],
      "metadata": {
        "id": "k51LgXWN4yFW"
      }
    },
    {
      "cell_type": "code",
      "source": [
        "plt.hist(all_df.num_actor, bins=100)\n",
        "plt.show()"
      ],
      "metadata": {
        "id": "HofqGfuQ4yFX"
      },
      "execution_count": null,
      "outputs": []
    },
    {
      "cell_type": "markdown",
      "source": [
        "### box_off_num     "
      ],
      "metadata": {
        "id": "q5KNX6Y34yFX"
      }
    },
    {
      "cell_type": "code",
      "source": [
        "plt.hist(all_df.box_off_num, bins=100)\n",
        "plt.show()"
      ],
      "metadata": {
        "id": "9i9I1UNv4yFX"
      },
      "execution_count": null,
      "outputs": []
    },
    {
      "cell_type": "markdown",
      "source": [
        "## train, test, submisiion 데이터 분리"
      ],
      "metadata": {
        "id": "e4v6hqDV4yFX"
      }
    },
    {
      "cell_type": "code",
      "source": [
        "train_df = all_df[:500]\n",
        "test_df = all_df[500:600]\n",
        "submission_df = all_df[600:]\n",
        "\n",
        "print(len(train_df))\n",
        "print(len(test_df))\n",
        "print(len(submission_df))"
      ],
      "metadata": {
        "id": "xlc53e-R4yFX"
      },
      "execution_count": null,
      "outputs": []
    },
    {
      "cell_type": "markdown",
      "source": [
        "## x, y로 분리"
      ],
      "metadata": {
        "id": "vZwEtKZt4yFX"
      }
    },
    {
      "cell_type": "code",
      "source": [
        "train_y = train_df.box_off_num.to_numpy()\n",
        "train_x_df = train_df.drop(columns=[\"box_off_num\"])\n",
        "train_x = train_x_df.to_numpy()\n",
        "print(train_x.shape)\n",
        "print(train_y.shape)\n",
        "\n",
        "test_y = test_df.box_off_num.to_numpy()\n",
        "test_x_df = test_df.drop(columns=[\"box_off_num\"])\n",
        "test_x = test_x_df.to_numpy()\n",
        "print(test_x.shape)\n",
        "print(test_y.shape)\n",
        "\n",
        "submission_x_df = submission_df.drop(columns=[\"box_off_num\"])\n",
        "submission_x = submission_x_df.to_numpy()\n",
        "print(submission_x.shape)\n"
      ],
      "metadata": {
        "id": "nM87lmFk4yFX"
      },
      "execution_count": null,
      "outputs": []
    },
    {
      "cell_type": "markdown",
      "source": [
        "## 딥러닝 학습"
      ],
      "metadata": {
        "id": "rXruTBce4yFX"
      }
    },
    {
      "cell_type": "code",
      "source": [
        "import numpy as np\n",
        "import pandas as pd\n",
        "import matplotlib.pyplot as plt\n",
        "\n",
        "import tensorflow as tf\n",
        "\n",
        "from tensorflow import keras\n",
        "from tensorflow.keras import optimizers\n",
        "from tensorflow.keras.layers import Dense\n",
        "\n",
        "model = keras.Sequential()\n",
        "model.add(Dense(256, activation='relu', input_shape=(train_x.shape[1],)))\n",
        "model.add(Dense(10, activation='relu'))\n",
        "model.add(Dense(1))\n",
        "\n",
        "model.compile(optimizer=\"SGD\", loss=\"mse\", metrics=[\"mape\"])\n",
        "model.summary()\n",
        "\n",
        "history = model.fit(train_x, train_y, epochs=1000*2, verbose=0, batch_size=512, validation_split=0.1)\n",
        "\n",
        "plt.plot(history.history['loss'])\n",
        "plt.plot(history.history['val_loss'])\n",
        "plt.show()\n"
      ],
      "metadata": {
        "id": "m1gt95eI4yFX"
      },
      "execution_count": null,
      "outputs": []
    },
    {
      "cell_type": "code",
      "source": [
        "plt.plot(history.history['loss'][-500:])\n",
        "plt.plot(history.history['val_loss'][-500:])\n",
        "plt.show()"
      ],
      "metadata": {
        "id": "Mr6TDGRO4yFX"
      },
      "execution_count": null,
      "outputs": []
    },
    {
      "cell_type": "code",
      "source": [
        "loss, mape = model.evaluate(test_x, test_y)\n",
        "print(\"loss=\", loss)\n",
        "print(\"mape=\", mape)\n",
        "\n",
        "y_ = model.predict(test_x)\n",
        "\n",
        "plt.scatter(test_y, y_)\n",
        "plt.show()"
      ],
      "metadata": {
        "id": "TEgqnGYP7VhL"
      },
      "execution_count": null,
      "outputs": []
    },
    {
      "cell_type": "markdown",
      "source": [
        "## RMSE 계산하기"
      ],
      "metadata": {
        "id": "5TAfTgPK4yFX"
      }
    },
    {
      "cell_type": "code",
      "source": [
        "predicted = y_ * ( y_max - y_min) + y_min\n",
        "predicted = np.expm1(predicted)\n",
        "\n",
        "org_test_y = test_y * ( y_max - y_min) + y_min\n",
        "org_test_y = np.expm1(org_test_y)"
      ],
      "metadata": {
        "id": "OFH7vmEY4yFX"
      },
      "execution_count": null,
      "outputs": []
    },
    {
      "cell_type": "code",
      "source": [
        "from tensorflow.keras.metrics import RootMeanSquaredError\n",
        "\n",
        "rmse = RootMeanSquaredError()(org_test_y, predicted)\n",
        "print(\"rmse = \", rmse)\n",
        "\n",
        "plt.hist(predicted, bins=100)\n",
        "plt.show()\n",
        "plt.hist(org_test_y, bins=100)\n",
        "plt.show()"
      ],
      "metadata": {
        "id": "kDam5fWN4yFY"
      },
      "execution_count": null,
      "outputs": []
    },
    {
      "cell_type": "markdown",
      "source": [
        "## 예측하기"
      ],
      "metadata": {
        "id": "6W0QII3W4yFY"
      }
    },
    {
      "cell_type": "code",
      "source": [
        "predicted = model.predict(submission_x)"
      ],
      "metadata": {
        "id": "OSTQHlLf4yFY"
      },
      "execution_count": null,
      "outputs": []
    },
    {
      "cell_type": "code",
      "source": [
        "plt.hist(predicted, bins=100)\n",
        "plt.show()"
      ],
      "metadata": {
        "id": "rE0QgMNT4yFY"
      },
      "execution_count": null,
      "outputs": []
    },
    {
      "cell_type": "markdown",
      "source": [
        "normalized = ( t - min )  / (max - min)\n",
        "\n",
        "t - min = normalized * (max - min)\n",
        "\n",
        "t = normalized * (max - min) + min"
      ],
      "metadata": {
        "id": "XUBES0kB4yFY"
      }
    },
    {
      "cell_type": "code",
      "source": [
        "predicted = predicted * ( y_max - y_min) + y_min"
      ],
      "metadata": {
        "id": "8hkFQC6G4yFY"
      },
      "execution_count": null,
      "outputs": []
    },
    {
      "cell_type": "code",
      "source": [
        "plt.hist(predicted, bins=100)\n",
        "plt.show()"
      ],
      "metadata": {
        "id": "yy4ov6wU4yFY"
      },
      "execution_count": null,
      "outputs": []
    },
    {
      "cell_type": "code",
      "source": [
        "predicted = np.expm1(predicted)"
      ],
      "metadata": {
        "id": "7YxIOPmM4yFY"
      },
      "execution_count": null,
      "outputs": []
    },
    {
      "cell_type": "code",
      "source": [
        "plt.hist(predicted, bins=100)\n",
        "plt.show()"
      ],
      "metadata": {
        "id": "pXCH51sJ4yFY"
      },
      "execution_count": null,
      "outputs": []
    },
    {
      "cell_type": "markdown",
      "source": [
        "## submission 파일 만들기"
      ],
      "metadata": {
        "id": "aPNIqxeM4yFY"
      }
    },
    {
      "cell_type": "code",
      "source": [
        "!head ./drive/MyDrive/'빅데이터 분석가 양성 과정 자료실'/딥러닝/dataset/'영화 관객수'/submission.csv"
      ],
      "metadata": {
        "id": "ejWBg-KN4yFY"
      },
      "execution_count": null,
      "outputs": []
    },
    {
      "cell_type": "code",
      "source": [
        "submission_df = pd.read_csv(data_dir + \"영화 관객수/movies_test.csv\")\n",
        "submission_df.head()"
      ],
      "metadata": {
        "id": "WShyfql34yFY"
      },
      "execution_count": null,
      "outputs": []
    },
    {
      "cell_type": "code",
      "source": [
        "final_df = pd.DataFrame(submission_df.title)\n",
        "final_df.head()"
      ],
      "metadata": {
        "id": "fnmFFP474yFY"
      },
      "execution_count": null,
      "outputs": []
    },
    {
      "cell_type": "code",
      "source": [
        "final_df['box_off_num'] = predicted.astype(np.int)\n",
        "final_df.head()"
      ],
      "metadata": {
        "id": "zNEvJ9QD4yFY"
      },
      "execution_count": null,
      "outputs": []
    },
    {
      "cell_type": "code",
      "source": [
        "final_df.to_csv('submission.csv', index=False)"
      ],
      "metadata": {
        "id": "vio9lq8K4yFZ"
      },
      "execution_count": null,
      "outputs": []
    },
    {
      "cell_type": "code",
      "source": [
        "!head submission.csv"
      ],
      "metadata": {
        "id": "PQGr7JCr4yFZ"
      },
      "execution_count": null,
      "outputs": []
    },
    {
      "cell_type": "markdown",
      "source": [
        "## batch_size 찾기"
      ],
      "metadata": {
        "id": "tJgiqY1-4yFZ"
      }
    },
    {
      "cell_type": "code",
      "source": [
        "import time\n",
        "\n",
        "for batch_size in [16, 32, 64, 128, 256, 512, 512*2, 512*4, 512*8, 512*16]:\n",
        "    start = time.time()\n",
        "    history = model.fit(train_x, train_y, epochs=4, verbose=0, batch_size=batch_size, validation_split=0.1)\n",
        "    print(batch_size, \":\", time.time() - start)"
      ],
      "metadata": {
        "id": "4CWH2sBj4yFZ"
      },
      "execution_count": null,
      "outputs": []
    },
    {
      "cell_type": "code",
      "source": [
        ""
      ],
      "metadata": {
        "id": "P08TJyXo4yFZ"
      },
      "execution_count": null,
      "outputs": []
    },
    {
      "cell_type": "code",
      "source": [
        ""
      ],
      "metadata": {
        "id": "yGaKLS-89nNA"
      },
      "execution_count": null,
      "outputs": []
    }
  ]
}