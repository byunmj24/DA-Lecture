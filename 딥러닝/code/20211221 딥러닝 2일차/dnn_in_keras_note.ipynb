{
  "nbformat": 4,
  "nbformat_minor": 0,
  "metadata": {
    "colab": {
      "name": "dnn_in_keras_note.ipynb",
      "private_outputs": true,
      "provenance": []
    },
    "kernelspec": {
      "name": "python3",
      "display_name": "Python 3"
    },
    "language_info": {
      "name": "python"
    },
    "accelerator": "GPU"
  },
  "cells": [
    {
      "cell_type": "code",
      "execution_count": null,
      "metadata": {
        "id": "tcxG2sb5KMH9"
      },
      "outputs": [],
      "source": [
        "import numpy as np\n",
        "import pandas as pd\n",
        "import matplotlib.pyplot as plt\n",
        "import tensorflow as tf\n",
        "from tensorflow import keras"
      ]
    },
    {
      "cell_type": "code",
      "source": [
        "from tensorflow.keras import optimizers\n",
        "from tensorflow.keras.layers import Dense, Input"
      ],
      "metadata": {
        "id": "HplJZxKnLRzE"
      },
      "execution_count": null,
      "outputs": []
    },
    {
      "cell_type": "code",
      "source": [
        "import time"
      ],
      "metadata": {
        "id": "K5TF5Z2_Lf8m"
      },
      "execution_count": null,
      "outputs": []
    },
    {
      "cell_type": "markdown",
      "source": [
        "### 데이터 준비"
      ],
      "metadata": {
        "id": "K4OJny7fM3vP"
      }
    },
    {
      "cell_type": "code",
      "source": [
        "x = np.arange(-1,1,0.01)\n",
        "y = x**2\n",
        "\n",
        "plt.scatter(x,y)"
      ],
      "metadata": {
        "id": "UoPuoTbDM1BB"
      },
      "execution_count": null,
      "outputs": []
    },
    {
      "cell_type": "code",
      "source": [
        "# 모델 정의\n",
        "model = keras.Sequential()"
      ],
      "metadata": {
        "id": "l8rUGQWzLg3W"
      },
      "execution_count": null,
      "outputs": []
    },
    {
      "cell_type": "code",
      "source": [
        "#입력층, hl1(10 node), hl2(10 node), 출력층\n",
        "model.add(Input(1))\n",
        "model.add(Dense(10, activation='tanh'))\n",
        "model.add(Dense(10, activation='tanh'))\n",
        "model.add(Dense(1))"
      ],
      "metadata": {
        "id": "nPn86359MII2"
      },
      "execution_count": null,
      "outputs": []
    },
    {
      "cell_type": "code",
      "source": [
        "# 컴파일 : 모델 + optimizer + loss\n",
        "model.compile(optimizer=\"SGD\", loss='mse')"
      ],
      "metadata": {
        "id": "J6cOfNjRMbmG"
      },
      "execution_count": null,
      "outputs": []
    },
    {
      "cell_type": "code",
      "source": [
        "# 학습\n",
        "model.fit(x, y, epochs=1000, verbose=0, batch_size=20)"
      ],
      "metadata": {
        "id": "fND9Dht4MqY_"
      },
      "execution_count": null,
      "outputs": []
    },
    {
      "cell_type": "code",
      "source": [
        "# 결과 예측\n",
        "y_ = model.predict(x)"
      ],
      "metadata": {
        "id": "hktIrgIkNBfv"
      },
      "execution_count": null,
      "outputs": []
    },
    {
      "cell_type": "code",
      "source": [
        "# 결과 그래프로 보기\n",
        "plt.scatter(x, y) # 정답\n",
        "plt.scatter(x, y_, color='r') # 결과\n",
        "plt.show()"
      ],
      "metadata": {
        "id": "HH3rqZ5oNR8u"
      },
      "execution_count": null,
      "outputs": []
    },
    {
      "cell_type": "code",
      "source": [
        "model = keras.Sequential()\n",
        "model.add(Input(1))\n",
        "model.add(Dense(10, activation='tanh'))\n",
        "model.add(Dense(10, activation='tanh' ))\n",
        "model.add(Dense(1))\n",
        "\n",
        "\n",
        "#model.compile(optimizer=\"SGD\", loss=\"mse\")\n",
        "model.compile(optimizer=\"SGD\", loss=\"mse\", metrics=[\"mae\"])\n",
        "\n",
        "\n",
        "model.fit(x, y, epochs=1000, verbose=0, batch_size=20)\n",
        "\n",
        "loss, mae = model.evaluate(x, y) # ADD\n",
        "print(\"loss=\", loss) # ADD\n",
        "print(\"mae=\", mae) # ADD\n",
        "\n",
        "\n",
        "y_ = model.predict(x)\n",
        "\n",
        "\n",
        "plt.scatter(x,y)\n",
        "plt.scatter(x,y_,color='r')\n",
        "plt.show()"
      ],
      "metadata": {
        "id": "3I2VYfzSNbN3"
      },
      "execution_count": null,
      "outputs": []
    },
    {
      "cell_type": "markdown",
      "source": [
        "데이터 -1 ~ +1, 0.001\n",
        "y = x ^ 2 + sin(x)"
      ],
      "metadata": {
        "id": "4Y_dFRDmOEVc"
      }
    },
    {
      "cell_type": "code",
      "source": [
        "x = np.arange(-1, 1, 0.001)\n",
        "np.random.shuffle(x)\n",
        "y = x**2 + np.sin(x*10)\n",
        "\n",
        "plt.scatter(x, y)\n",
        "plt.show()"
      ],
      "metadata": {
        "id": "3oCyNj0Zr-Fj"
      },
      "execution_count": null,
      "outputs": []
    },
    {
      "cell_type": "code",
      "source": [
        "split_index = int(x.shape[0]*0.8)\n",
        "\n",
        "train_x, test_x = x[:split_index], x[split_index:]\n",
        "train_y, test_y = y[:split_index], y[split_index:]\n",
        "\n",
        "plt.scatter(train_x, train_y)\n",
        "plt.show()\n",
        "plt.scatter(test_x, test_y)\n",
        "plt.show()"
      ],
      "metadata": {
        "id": "fREaeGcEu08d"
      },
      "execution_count": null,
      "outputs": []
    },
    {
      "cell_type": "code",
      "source": [
        "model = keras.Sequential()\n",
        "model.add(Input(1))\n",
        "model.add(Dense(10*10, activation='tanh'))\n",
        "model.add(Dense(10*10, activation='tanh'))\n",
        "model.add(Dense(1))\n",
        "\n",
        "model.compile(optimizer=\"Nadam\", loss=\"mse\", metrics=['mae'])\n",
        "# optimizer : SGD, AdaDelta, Adagrad, Adamax, RMSprop, Nadam\n",
        "# loss : \n",
        "\n",
        "start_time = time.time()\n",
        "hist = model.fit(train_x, train_y, epochs=1000, verbose=0, batch_size=128, validation_split=0.1)\n",
        "print(\"elapsed : {}\".format(time.time() - start_time))\n",
        "\n",
        "loss, mae = model.evaluate(test_x, test_y)\n",
        "print('lose =', loss)\n",
        "print('mae =', mae)"
      ],
      "metadata": {
        "id": "xsAkgEEjsMmJ"
      },
      "execution_count": null,
      "outputs": []
    },
    {
      "cell_type": "code",
      "source": [
        "y_ = model.predict(test_x)\n",
        "plt.scatter(test_x, test_y)\n",
        "plt.scatter(test_x, y_)\n",
        "plt.show()"
      ],
      "metadata": {
        "id": "nYyUeSup49lH"
      },
      "execution_count": null,
      "outputs": []
    },
    {
      "cell_type": "code",
      "source": [
        "plt.plot(hist.history['loss'], label=\"loss\")\n",
        "plt.plot(hist.history['val_loss'], label=\"val_loss\")\n",
        "plt.legend()\n",
        "plt.show()"
      ],
      "metadata": {
        "id": "5_PAIgpktYnT"
      },
      "execution_count": null,
      "outputs": []
    },
    {
      "cell_type": "code",
      "source": [
        "print(hist.history.keys())"
      ],
      "metadata": {
        "id": "GQ-zOAXMwTiE"
      },
      "execution_count": null,
      "outputs": []
    },
    {
      "cell_type": "code",
      "source": [
        ""
      ],
      "metadata": {
        "id": "D6g0blUXwWyD"
      },
      "execution_count": null,
      "outputs": []
    }
  ]
}