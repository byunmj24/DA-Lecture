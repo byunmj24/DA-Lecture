{
  "nbformat": 4,
  "nbformat_minor": 0,
  "metadata": {
    "colab": {
      "name": "20211224_CNN_Flower.ipynb",
      "private_outputs": true,
      "provenance": [],
      "collapsed_sections": [
        "rcnVlAKbLpff"
      ]
    },
    "kernelspec": {
      "name": "python3",
      "display_name": "Python 3"
    },
    "language_info": {
      "name": "python"
    },
    "accelerator": "GPU"
  },
  "cells": [
    {
      "cell_type": "markdown",
      "source": [
        "# 모듈 임포트"
      ],
      "metadata": {
        "id": "t0OajsK8cRDB"
      }
    },
    {
      "cell_type": "code",
      "source": [
        "import os\n",
        "import time\n",
        "from IPython.display import clear_output\n",
        "\n",
        "import numpy as np\n",
        "import pandas as pd\n",
        "import matplotlib.pyplot as plt\n",
        "import seaborn as sns\n",
        "\n",
        "import tensorflow as tf\n",
        "from tensorflow import keras\n",
        "\n",
        "from tensorflow.keras import optimizers, models, layers\n",
        "from tensorflow.keras.models import Sequential, Model\n",
        "from tensorflow.keras.layers import Dense, Dropout, Flatten, BatchNormalization\n",
        "from tensorflow.keras.preprocessing.image import ImageDataGenerator, load_img, img_to_array\n",
        "from tensorflow.keras.callbacks import Callback, ModelCheckpoint, EarlyStopping\n",
        "\n",
        "from tensorflow.keras.applications import efficientnet\n",
        "from tensorflow.keras.applications import EfficientNetB2\n"
      ],
      "metadata": {
        "id": "cdEGbWkVcSfo"
      },
      "execution_count": null,
      "outputs": []
    },
    {
      "cell_type": "markdown",
      "source": [
        "# 구글 드라이브 Mount"
      ],
      "metadata": {
        "id": "YWDkxyZFJETI"
      }
    },
    {
      "cell_type": "code",
      "source": [
        "from google.colab import drive\n",
        "drive.mount('/content/gdrive')"
      ],
      "metadata": {
        "id": "OBVr1FQxLmV5"
      },
      "execution_count": null,
      "outputs": []
    },
    {
      "cell_type": "markdown",
      "source": [
        "# 데이터 다운로드"
      ],
      "metadata": {
        "id": "rcnVlAKbLpff"
      }
    },
    {
      "cell_type": "code",
      "source": [
        "!cp /content/gdrive/MyDrive/tmp/flowers_prepared.zip ./"
      ],
      "metadata": {
        "id": "4LrNqynEL_7M"
      },
      "execution_count": null,
      "outputs": []
    },
    {
      "cell_type": "code",
      "source": [
        "!unzip flowers_prepared"
      ],
      "metadata": {
        "id": "zWlda-ecMCQ_"
      },
      "execution_count": null,
      "outputs": []
    },
    {
      "cell_type": "markdown",
      "source": [
        "# 로스 실시간 출력"
      ],
      "metadata": {
        "id": "3xT4pAeqdE5A"
      }
    },
    {
      "cell_type": "code",
      "source": [
        "# copy from https://gist.github.com/stared/dfb4dfaf6d9a8501cd1cc8b8cb806d2e\n",
        "\n",
        "class PlotLosses(Callback):\n",
        "\n",
        "  def on_train_begin(self, logs={}):\n",
        "\n",
        "    self.i = 0\n",
        "    self.x = []\n",
        "    self.losses = []\n",
        "    self.val_losses = []\n",
        "\n",
        "    self.fig = plt.figure()\n",
        "\n",
        "    self.logs = []\n",
        "\n",
        "\n",
        "  def on_epoch_end(self, epoch, logs={}):\n",
        "\n",
        "    self.logs.append(logs)\n",
        "    self.x.append(self.i)\n",
        "    self.losses.append(logs.get('loss'))\n",
        "    self.val_losses.append(logs.get('val_loss'))\n",
        "    self.i += 1\n",
        "\n",
        "    clear_output(wait=True)\n",
        "    plt.plot(self.x, self.losses, label=\"loss\")\n",
        "    plt.plot(self.x, self.val_losses, label=\"val_loss\")\n",
        "    plt.legend()\n",
        "    plt.show();\n",
        "    print(\"loss = \", self.losses[-1], \", val_loss = \", self.val_losses[-1])\n",
        "\n"
      ],
      "metadata": {
        "id": "DdQQL7JXdINC"
      },
      "execution_count": null,
      "outputs": []
    },
    {
      "cell_type": "markdown",
      "source": [
        "# 모델 생성 및 학습"
      ],
      "metadata": {
        "id": "-OBMmjC3MJS3"
      }
    },
    {
      "cell_type": "markdown",
      "source": [
        "## Best Model 저장"
      ],
      "metadata": {
        "id": "ct6SrmSAe3rC"
      }
    },
    {
      "cell_type": "code",
      "source": [
        "preprocessor = efficientnet.preprocess_input\n",
        "\n",
        "conv_layers = EfficientNetB2(weights='imagenet', include_top=False, input_shape=(224, 224, 3))\n",
        "conv_layers.trainable = False\n",
        "\n",
        "model = models.Sequential()\n",
        "\n",
        "model.add(conv_layers)\n",
        "model.add(Flatten())\n",
        "model.add(Dense(256, activation='relu'))\n",
        "model.add(BatchNormalization())\n",
        "model.add(Dense(5, activation='softmax'))   # 출력 : 카테고리 5개 <----------\n",
        "\n",
        "model.compile(loss='sparse_categorical_crossentropy', optimizer=\"RMSprop\", metrics=['acc'])\n",
        "model.summary()\n",
        "\n",
        "BATCH_SIZE = 64\n",
        "\n",
        "train_data_generator = ImageDataGenerator(\n",
        "      rotation_range=10,\n",
        "      width_shift_range=0.1,\n",
        "      height_shift_range=0.1,\n",
        "      horizontal_flip=True,\n",
        "      vertical_flip=False,\n",
        "      preprocessing_function=preprocessor\n",
        ").flow_from_directory(\n",
        "      \"flowers_prepared/train\",     # <----------\n",
        "      target_size=(224,224),\n",
        "      batch_size=BATCH_SIZE,\n",
        "      class_mode='sparse'\n",
        ")\n",
        "\n",
        "test_data_generator = ImageDataGenerator(\n",
        "      preprocessing_function=preprocessor\n",
        ").flow_from_directory(\n",
        "      \"flowers_prepared/test\",      # <----------\n",
        "      target_size=(224,224),\n",
        "      batch_size=BATCH_SIZE,\n",
        "      class_mode='sparse'\n",
        ")\n",
        "\n",
        "plot_losses = PlotLosses()\n",
        "model_check_point = ModelCheckpoint('best_model.h5', monitor='val_loss', mode='min', save_best_only=True)\n",
        "early_stopping = EarlyStopping(monitor='val_loss', mode='auto', patience=2)\n",
        "\n",
        "history = model.fit(\n",
        "      train_data_generator,\n",
        "      validation_data=test_data_generator,\n",
        "      epochs=10,\n",
        "      verbose=0,\n",
        "      callbacks=[model_check_point, plot_losses, early_stopping]\n",
        ")\n",
        "\n",
        "plt.plot(history.history['loss'])\n",
        "plt.plot(history.history['val_loss'])\n",
        "plt.show()\n",
        "\n",
        "\n",
        "loss, acc = model.evaluate(test_data_generator)\n",
        "print(\"loss=\", loss)\n",
        "print(\"acc=\", acc)\n"
      ],
      "metadata": {
        "id": "Tembdzv0MaVI"
      },
      "execution_count": null,
      "outputs": []
    },
    {
      "cell_type": "markdown",
      "source": [
        "## 저장된 모델 불러오기"
      ],
      "metadata": {
        "id": "rVxfDpr5fEMK"
      }
    },
    {
      "cell_type": "code",
      "source": [
        "load_model = keras.models.load_model('best_model.h5')\n",
        "\n",
        "load_model.summary()"
      ],
      "metadata": {
        "id": "Y34Igs0dfScJ"
      },
      "execution_count": null,
      "outputs": []
    },
    {
      "cell_type": "markdown",
      "source": [
        "## 불러온 모델로 예측하기"
      ],
      "metadata": {
        "id": "ND3r36yXfRuQ"
      }
    },
    {
      "cell_type": "code",
      "source": [
        "test_x, test_y = test_data_generator.next()\n",
        "y_ = load_model.predict(test_x)\n",
        "predicted = np.argmax(y_, axis=-1)\n",
        "\n",
        "plt.plot(test_y[:100], \"o\")\n",
        "plt.plot(predicted[:100], '.')\n",
        "plt.show()\n",
        "\n",
        "\n",
        "custom_labels = list(test_data_generator.class_indices.keys())\n",
        "print(\"label category index =\", test_y[0])\n",
        "print(\"predicted category index =\", predicted[0])\n",
        "print(\"predicted category name =\", custom_labels[predicted[0]])"
      ],
      "metadata": {
        "id": "bKT6QyF_fADy"
      },
      "execution_count": null,
      "outputs": []
    }
  ]
}