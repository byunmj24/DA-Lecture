{
  "nbformat": 4,
  "nbformat_minor": 0,
  "metadata": {
    "colab": {
      "name": "20211227_transfer_learning_practice.ipynb",
      "private_outputs": true,
      "provenance": [],
      "collapsed_sections": [],
      "toc_visible": true
    },
    "kernelspec": {
      "name": "python3",
      "display_name": "Python 3"
    },
    "language_info": {
      "name": "python"
    },
    "accelerator": "GPU"
  },
  "cells": [
    {
      "cell_type": "markdown",
      "source": [
        "# 모듈 임포트"
      ],
      "metadata": {
        "id": "LeotKRl-dBjM"
      }
    },
    {
      "cell_type": "code",
      "source": [
        "import time\n",
        "import os\n",
        "from IPython.display import clear_output\n",
        "\n",
        "import numpy as np\n",
        "import matplotlib.pyplot as plt\n",
        "\n",
        "import tensorflow as tf\n",
        "from tensorflow import keras\n",
        "from tensorflow.keras import optimizers, Model, models, layers, Sequential\n",
        "from tensorflow.keras.layers import Input, Dense, Flatten, BatchNormalization, Dropout\n",
        "from tensorflow.keras.preprocessing.image import ImageDataGenerator, load_img, img_to_array\n",
        "from tensorflow.keras.callbacks import Callback\n",
        "\n",
        "from tensorflow.keras.applications import efficientnet\n",
        "from tensorflow.keras.applications import EfficientNetB2\n"
      ],
      "metadata": {
        "id": "HcKwoiOOdC9T"
      },
      "execution_count": null,
      "outputs": []
    },
    {
      "cell_type": "markdown",
      "source": [
        "# 데이터 준비"
      ],
      "metadata": {
        "id": "8SLRcx5DdDrM"
      }
    },
    {
      "cell_type": "code",
      "execution_count": null,
      "metadata": {
        "id": "gyqIiCkmaYJo"
      },
      "outputs": [],
      "source": [
        "!wget https://github.com/dhrim/MDC_2021/raw/master/material/deep_learning/data/cat_and_dog.zip"
      ]
    },
    {
      "cell_type": "code",
      "source": [
        "!unzip cat_and_dog.zip"
      ],
      "metadata": {
        "id": "de27QvEhdJ1j"
      },
      "execution_count": null,
      "outputs": []
    },
    {
      "cell_type": "code",
      "source": [
        "!apt-get update\n",
        "!apt install tree"
      ],
      "metadata": {
        "id": "UNYESpMydNHr"
      },
      "execution_count": null,
      "outputs": []
    },
    {
      "cell_type": "markdown",
      "source": [
        ""
      ],
      "metadata": {
        "id": "WicjAqz9fb4H"
      }
    },
    {
      "cell_type": "code",
      "source": [
        "!tree -d cat_and_dog/"
      ],
      "metadata": {
        "id": "lMwBH_03dhN7"
      },
      "execution_count": null,
      "outputs": []
    },
    {
      "cell_type": "code",
      "source": [
        "!ls -al ./cat_and_dog/train/Cat/*.jpg | wc\n",
        "!ls -al ./cat_and_dog/train/Dog/*.jpg | wc\n",
        "!ls -al ./cat_and_dog/test/Dog/*.jpg | wc\n",
        "!ls -al ./cat_and_dog/test/Dog/*.jpg | wc"
      ],
      "metadata": {
        "id": "iFT43EpWdmdz"
      },
      "execution_count": null,
      "outputs": []
    },
    {
      "cell_type": "markdown",
      "source": [
        "# CNN"
      ],
      "metadata": {
        "id": "h1elgrhWhd3O"
      }
    },
    {
      "cell_type": "code",
      "source": [
        "# copy from https://gist.github.com/stared/dfb4dfaf6d9a8501cd1cc8b8cb806d2e\n",
        "\n",
        "# from IPython.display import clear_output\n",
        "# from tensorflow.keras.callbacks import Callback\n",
        "\n",
        "class PlotLosses(Callback):\n",
        "\n",
        "  def on_train_begin(self, logs={}):\n",
        "    self.epochs = []\n",
        "    self.losses = []\n",
        "    self.val_losses = []\n",
        "    self.logs = []\n",
        "    self.fig = plt.figure()\n",
        "\n",
        "\n",
        "  def on_epoch_end(self, epoch, logs={}):\n",
        "\n",
        "    self.epochs.append(epoch)\n",
        "    self.losses.append(logs.get('loss'))\n",
        "    self.val_losses.append(logs.get('val_loss'))\n",
        "\n",
        "    clear_output(wait=True)\n",
        "    plt.plot(self.epochs, self.losses, label=\"loss\")\n",
        "    plt.plot(self.epochs, self.val_losses, label=\"val_loss\")\n",
        "    plt.legend()\n",
        "    plt.show();\n",
        "    print(\"loss = \", self.losses[-1], \", val_loss = \", self.val_losses[-1])"
      ],
      "metadata": {
        "id": "Gi9XSEgqjTUX"
      },
      "execution_count": null,
      "outputs": []
    },
    {
      "cell_type": "code",
      "source": [
        "# import os\n",
        "\n",
        "# import matplotlib.pyplot as plt\n",
        "# import numpy as np\n",
        "\n",
        "# from tensorflow.keras import optimizers\n",
        "# from tensorflow.keras import models\n",
        "# from tensorflow.keras import layers\n",
        "# from tensorflow.keras import optimizers\n",
        "# from tensorflow.keras import Sequential\n",
        "# from tensorflow.keras.layers import Dropout, Flatten, Dense, BatchNormalization\n",
        "# from tensorflow.keras import Model\n",
        "# from tensorflow.keras.preprocessing.image import ImageDataGenerator\n",
        "# from tensorflow.keras.preprocessing.image import load_img\n",
        "# from tensorflow.keras.preprocessing.image import img_to_array\n",
        "\n",
        "# from tensorflow.keras.applications import efficientnet\n",
        "# from tensorflow.keras.applications import EfficientNetB2\n",
        "\n",
        "preprocessor = efficientnet.preprocess_input\n",
        "\n",
        "conv_layers = EfficientNetB2(weights='imagenet', include_top=False, input_shape=(224, 224, 3))\n",
        "conv_layers.trainable = False\n",
        "\n",
        "model = models.Sequential()\n",
        "\n",
        "model.add(conv_layers)\n",
        "model.add(Flatten())\n",
        "model.add(Dense(256, activation='relu'))\n",
        "model.add(BatchNormalization())\n",
        "model.add(Dense(2, activation='softmax'))   # <---\n",
        "\n",
        "model.compile(loss='sparse_categorical_crossentropy', optimizer=\"RMSprop\", metrics=['acc'])\n",
        "model.summary()\n",
        "\n",
        "BATCH_SIZE = 64\n",
        "\n",
        "train_data_generator = ImageDataGenerator(\n",
        "      rotation_range=10,\n",
        "      width_shift_range=0.1,\n",
        "      height_shift_range=0.1,\n",
        "      horizontal_flip=True,\n",
        "      vertical_flip=False,\n",
        "      preprocessing_function=preprocessor\n",
        ").flow_from_directory(\n",
        "      \"cat_and_dog/train\",      # <---\n",
        "      target_size=(224,224),\n",
        "      batch_size=BATCH_SIZE,\n",
        "      class_mode='sparse'\n",
        ")\n",
        "\n",
        "test_data_generator = ImageDataGenerator(\n",
        "      preprocessing_function=preprocessor\n",
        ").flow_from_directory(\n",
        "      \"cat_and_dog/test\",       # <---\n",
        "      target_size=(224,224),\n",
        "      batch_size=BATCH_SIZE,\n",
        "      class_mode='sparse'\n",
        ")\n",
        "\n",
        "plot_losses = PlotLosses()      # <---\n",
        "history = model.fit(\n",
        "      train_data_generator,\n",
        "      validation_data=test_data_generator,\n",
        "      epochs=10,\n",
        "      callbacks=[plot_losses]\n",
        ")\n",
        "\n",
        "\n",
        "plt.plot(history.history['loss'])\n",
        "plt.plot(history.history['val_loss'])\n",
        "plt.show()\n",
        "\n",
        "\n",
        "loss, acc = model.evaluate(test_data_generator)\n",
        "print(\"loss=\", loss)\n",
        "print(\"acc=\", acc)\n",
        "\n",
        "\n",
        "\n",
        "test_x, test_y = test_data_generator.next()\n",
        "y_ = model.predict(test_x)\n",
        "predicted = np.argmax(y_, axis=-1)\n",
        "\n",
        "plt.plot(test_y[:100], \"o\")\n",
        "plt.plot(predicted[:100], '.')\n",
        "plt.show()\n",
        "\n",
        "\n",
        "custom_labels = list(test_data_generator.class_indices.keys())\n",
        "print(\"label category index =\", test_y[0])\n",
        "print(\"predicted category index =\", predicted[0])\n",
        "print(\"predicted category name =\", custom_labels[predicted[0]])\n"
      ],
      "metadata": {
        "id": "_x8JjfyheASC"
      },
      "execution_count": null,
      "outputs": []
    },
    {
      "cell_type": "markdown",
      "source": [
        "# 모델 저장"
      ],
      "metadata": {
        "id": "eX-SU1ibhc5x"
      }
    },
    {
      "cell_type": "code",
      "source": [
        "model.save('my_model.h5')"
      ],
      "metadata": {
        "id": "182lXdFVkk0x"
      },
      "execution_count": null,
      "outputs": []
    },
    {
      "cell_type": "code",
      "source": [
        "loaded_model = models.load_model('my_model.h5')"
      ],
      "metadata": {
        "id": "fUL0qvhlkmx1"
      },
      "execution_count": null,
      "outputs": []
    },
    {
      "cell_type": "markdown",
      "source": [
        "# 로드한 모델 평가"
      ],
      "metadata": {
        "id": "qwwk1d1slNoe"
      }
    },
    {
      "cell_type": "code",
      "source": [
        "loss, acc = loaded_model.evaluate(test_data_generator)\n",
        "print('loss =', loss)\n",
        "print('acc =', acc)"
      ],
      "metadata": {
        "id": "ksXv3GCakwED"
      },
      "execution_count": null,
      "outputs": []
    },
    {
      "cell_type": "markdown",
      "source": [
        "# 로드한 모델 예측"
      ],
      "metadata": {
        "id": "D5WSZMSalKuN"
      }
    },
    {
      "cell_type": "code",
      "source": [
        "y_ = loaded_model.predict(test_data_generator)\n",
        "predicted = np.argmax(y_, axis=-1)\n",
        "print(predicted)"
      ],
      "metadata": {
        "id": "gyyCZr_blUdm"
      },
      "execution_count": null,
      "outputs": []
    },
    {
      "cell_type": "markdown",
      "source": [
        "# 이미지 그리면서 모델 예측"
      ],
      "metadata": {
        "id": "K3rh-zHgsLCd"
      }
    },
    {
      "cell_type": "code",
      "source": [
        "batch_x, batch_y = next(test_data_generator)\n",
        "print(batch_x.shape)\n",
        "print(batch_y.shape)"
      ],
      "metadata": {
        "id": "6AQUFYqllhBL"
      },
      "execution_count": null,
      "outputs": []
    },
    {
      "cell_type": "code",
      "source": [
        "loaded_model.predict(batch_x)\n",
        "y_ = loaded_model.predict(test_data_generator)\n",
        "predicted = np.argmax(y_, axis=-1)\n",
        "# print(predicted)\n",
        "\n",
        "for i in range(5):\n",
        "    plt.imshow(batch_x[i].astype(np.int))\n",
        "    print('predicted={}, truth={}'.format(predicted[i], batch_y[i]))\n",
        "    plt.show()"
      ],
      "metadata": {
        "id": "21TsHXYSo6P2"
      },
      "execution_count": null,
      "outputs": []
    },
    {
      "cell_type": "code",
      "source": [
        "plt.hist(batch_x.flatten(), bins=100)\n",
        "plt.show()\n",
        "print(batch_x[0].flatten())"
      ],
      "metadata": {
        "id": "p-eO6pwJqV-F"
      },
      "execution_count": null,
      "outputs": []
    },
    {
      "cell_type": "markdown",
      "source": [
        "# 다른 포맷으로 모델 저장\n",
        "\n",
        "temsorflow 포맷"
      ],
      "metadata": {
        "id": "1XwezAQDq2PN"
      }
    },
    {
      "cell_type": "code",
      "source": [
        "model.save('my_model')"
      ],
      "metadata": {
        "id": "ZkQ0IoQ_sEpt"
      },
      "execution_count": null,
      "outputs": []
    },
    {
      "cell_type": "code",
      "source": [
        "loaded_model = models.load_model('my_model')"
      ],
      "metadata": {
        "id": "gdrIP1_GsPSZ"
      },
      "execution_count": null,
      "outputs": []
    },
    {
      "cell_type": "markdown",
      "source": [
        "# weight 로 저장, 로드\n",
        "모델의 가중치만 저장"
      ],
      "metadata": {
        "id": "fqZaImt_tlr9"
      }
    },
    {
      "cell_type": "code",
      "source": [
        "model.save_weights('my_model_weight')"
      ],
      "metadata": {
        "id": "JZ3ZLK8QsuPt"
      },
      "execution_count": null,
      "outputs": []
    },
    {
      "cell_type": "code",
      "source": [
        "model = models.Sequential()\n",
        "\n",
        "model.add(conv_layers)\n",
        "model.add(Flatten())\n",
        "model.add(Dense(256, activation='relu'))\n",
        "model.add(BatchNormalization())\n",
        "model.add(Dense(2, activation='softmax'))\n",
        "\n",
        "model.compile(loss='sparse_categorical_crossentropy', optimizer='RMSprop', metrics=['acc'])\n",
        "model.summary()\n",
        "\n",
        "# model 가중치 로드\n",
        "model.load_weights('my_model_weight')"
      ],
      "metadata": {
        "id": "8Qo0_JG2tq3V"
      },
      "execution_count": null,
      "outputs": []
    },
    {
      "cell_type": "code",
      "source": [
        ""
      ],
      "metadata": {
        "id": "ffM3aIYZuQ8f"
      },
      "execution_count": null,
      "outputs": []
    }
  ]
}