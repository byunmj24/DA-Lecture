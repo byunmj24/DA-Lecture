{
  "nbformat": 4,
  "nbformat_minor": 0,
  "metadata": {
    "colab": {
      "name": "20211227_cat_keypoint_regression.ipynb",
      "private_outputs": true,
      "provenance": [],
      "collapsed_sections": [
        "sEU0n2OFDyHy",
        "_kNr4iyDGqVy",
        "pvAcOvuDK2JU"
      ],
      "toc_visible": true
    },
    "kernelspec": {
      "name": "python3",
      "display_name": "Python 3"
    },
    "language_info": {
      "name": "python"
    },
    "accelerator": "GPU"
  },
  "cells": [
    {
      "cell_type": "markdown",
      "source": [
        "# 모듈 임포트"
      ],
      "metadata": {
        "id": "CQJyLpnzD5xA"
      }
    },
    {
      "cell_type": "code",
      "source": [
        "import os\n",
        "\n",
        "import numpy as np\n",
        "import pandas as pd\n",
        "import matplotlib.pyplot as plt\n",
        "\n",
        "from sklearn.model_selection import train_test_split\n",
        "\n",
        "from tensorflow import keras\n",
        "from tensorflow.keras import Sequential\n",
        "from tensorflow.keras.layers import Input, Dropout, Flatten, Dense, BatchNormalization, RandomRotation\n",
        "from tensorflow.keras import models\n",
        "from tensorflow.keras import Model\n",
        "from tensorflow.keras.callbacks import TensorBoard, ModelCheckpoint, ReduceLROnPlateau\n",
        "from tensorflow.keras.applications import mobilenet_v2\n",
        "import numpy as np\n",
        "import pandas as pd\n",
        "import matplotlib.pyplot as plt\n",
        "\n",
        "from tensorflow.keras import optimizers\n",
        "from tensorflow.keras import models\n",
        "from tensorflow.keras import layers\n",
        "from tensorflow.keras import optimizers\n",
        "from tensorflow.keras import Sequential\n",
        "from tensorflow.keras.layers import Dropout, Flatten, Dense, BatchNormalization\n",
        "from tensorflow.keras import Model\n",
        "from tensorflow.keras.preprocessing.image import ImageDataGenerator\n",
        "from tensorflow.keras.preprocessing.image import load_img\n",
        "from tensorflow.keras.preprocessing.image import img_to_array"
      ],
      "metadata": {
        "id": "EhZl9WG6D4Tx"
      },
      "execution_count": null,
      "outputs": []
    },
    {
      "cell_type": "markdown",
      "source": [
        "# 영상 데이터 예측"
      ],
      "metadata": {
        "id": "sEU0n2OFDyHy"
      }
    },
    {
      "cell_type": "markdown",
      "source": [
        "## 데이터 준비"
      ],
      "metadata": {
        "id": "G-Wyy29-D98h"
      }
    },
    {
      "cell_type": "code",
      "execution_count": null,
      "metadata": {
        "id": "D_Czki5MDZDj"
      },
      "outputs": [],
      "source": [
        "!wget https://github.com/dhrim/deep_learning_data/raw/master/cat_face_keypoint.zip"
      ]
    },
    {
      "cell_type": "code",
      "source": [
        "!unzip cat_face_keypoint.zip"
      ],
      "metadata": {
        "id": "oJuhHVomDp4A"
      },
      "execution_count": null,
      "outputs": []
    },
    {
      "cell_type": "code",
      "source": [
        "numpy_data = np.load('cat_image_and_keypoint.npy', allow_pickle=True)\n",
        "dic_data = numpy_data.item()\n",
        "raw_x = np.array(dic_data.get('imgs'))\n",
        "raw_y = np.array(dic_data.get('lmks'))"
      ],
      "metadata": {
        "id": "Cpe5eR4JD84Y"
      },
      "execution_count": null,
      "outputs": []
    },
    {
      "cell_type": "code",
      "source": [
        "print(raw_x.shape)\n",
        "print(raw_y.shape)"
      ],
      "metadata": {
        "id": "isxR453UD9Up"
      },
      "execution_count": null,
      "outputs": []
    },
    {
      "cell_type": "markdown",
      "source": [
        "## 이미지 보기"
      ],
      "metadata": {
        "id": "I_y729QUEXNK"
      }
    },
    {
      "cell_type": "code",
      "source": [
        "plt.imshow(raw_x[0])\n",
        "plt.show()\n",
        "print(raw_y[0])"
      ],
      "metadata": {
        "id": "RJKfjuLwEYfa"
      },
      "execution_count": null,
      "outputs": []
    },
    {
      "cell_type": "markdown",
      "source": [
        "## 키포인트 보기"
      ],
      "metadata": {
        "id": "3LFqMnJKEcQC"
      }
    },
    {
      "cell_type": "code",
      "source": [
        "target_x = raw_x[0]\n",
        "target_y = raw_y[0]\n",
        "\n",
        "plt.imshow(target_x)\n",
        "\n",
        "plt.scatter(target_y[0], target_y[1], color='yellow')\n",
        "plt.text(target_y[0], target_y[1], 'left eye')\n",
        "plt.scatter(target_y[2], target_y[3], color='yellow')\n",
        "plt.text(target_y[2], target_y[3], 'right eye')\n",
        "plt.scatter(target_y[4], target_y[5], color='yellow')\n",
        "plt.text(target_y[4], target_y[5], 'nose')\n",
        "plt.scatter(target_y[6], target_y[7], color='yellow')\n",
        "plt.text(target_y[6], target_y[7], 'left ear 1')\n",
        "plt.scatter(target_y[8], target_y[9], color='yellow')\n",
        "plt.text(target_y[8], target_y[9], 'left ear 2')\n",
        "plt.scatter(target_y[10], target_y[11], color='yellow')\n",
        "plt.text(target_y[10], target_y[11], 'left ear 3')\n",
        "plt.scatter(target_y[12], target_y[13], color='yellow')\n",
        "plt.text(target_y[12], target_y[13], 'right ear 1')\n",
        "plt.scatter(target_y[14], target_y[15], color='yellow')\n",
        "plt.text(target_y[14], target_y[15], 'right ear 2')\n",
        "plt.scatter(target_y[16], target_y[17], color='yellow')\n",
        "plt.text(target_y[16], target_y[17], 'right ear 3')\n",
        "\n",
        "plt.show()"
      ],
      "metadata": {
        "id": "_DxI_nd-EZUa"
      },
      "execution_count": null,
      "outputs": []
    },
    {
      "cell_type": "markdown",
      "source": [
        "## 코만 추리기\n",
        "코에 해당하는 인덱스 4,5만 추림"
      ],
      "metadata": {
        "id": "p3_24dXvEdbp"
      }
    },
    {
      "cell_type": "code",
      "source": [
        "x = raw_x\n",
        "y = raw_y[:,4:6]"
      ],
      "metadata": {
        "id": "YxMk64bGEiAz"
      },
      "execution_count": null,
      "outputs": []
    },
    {
      "cell_type": "code",
      "source": [
        "target_x = x[0]\n",
        "target_y = y[0]\n",
        "\n",
        "plt.imshow(target_x)\n",
        "plt.scatter(target_y[0], target_y[1], color='yellow')\n",
        "plt.show()"
      ],
      "metadata": {
        "id": "UouuOibeEmVI"
      },
      "execution_count": null,
      "outputs": []
    },
    {
      "cell_type": "markdown",
      "source": [
        "## normalization"
      ],
      "metadata": {
        "id": "mlprHW19FI3T"
      }
    },
    {
      "cell_type": "code",
      "source": [
        "x = x / 255."
      ],
      "metadata": {
        "id": "9d1xTYAQFEbJ"
      },
      "execution_count": null,
      "outputs": []
    },
    {
      "cell_type": "markdown",
      "source": [
        "## 데이터 분리"
      ],
      "metadata": {
        "id": "pz_nq35qFNXZ"
      }
    },
    {
      "cell_type": "code",
      "source": [
        "# from sklearn.model_selection import train_test_split\n",
        "\n",
        "train_x, test_x, train_y, test_y = train_test_split(x, y, test_size=0.2, shuffle=True)"
      ],
      "metadata": {
        "id": "b6YjyUskFNAp"
      },
      "execution_count": null,
      "outputs": []
    },
    {
      "cell_type": "code",
      "source": [
        "print(train_x.shape)\n",
        "print(train_y.shape)\n",
        "print(test_x.shape)\n",
        "print(test_y.shape)"
      ],
      "metadata": {
        "id": "MYumJ9wOFSFh"
      },
      "execution_count": null,
      "outputs": []
    },
    {
      "cell_type": "code",
      "source": [
        "print(train_y[:10])"
      ],
      "metadata": {
        "id": "tTjFmdanFV5p"
      },
      "execution_count": null,
      "outputs": []
    },
    {
      "cell_type": "markdown",
      "source": [
        "## 모델 학습"
      ],
      "metadata": {
        "id": "ZjPeA3ysFaSG"
      }
    },
    {
      "cell_type": "code",
      "source": [
        "# from tensorflow import keras\n",
        "# from tensorflow.keras import Sequential\n",
        "# from tensorflow.keras.layers import Input, Dropout, Flatten, Dense, BatchNormalization\n",
        "# from tensorflow.keras import models\n",
        "# from tensorflow.keras import Model\n",
        "# from tensorflow.keras.callbacks import TensorBoard, ModelCheckpoint, ReduceLROnPlateau\n",
        "# from tensorflow.keras.applications import mobilenet_v2\n",
        "# import numpy as np\n",
        "# import pandas as pd\n",
        "# import matplotlib.pyplot as plt\n",
        "\n",
        "conv_layers = mobilenet_v2.MobileNetV2(weights='imagenet', include_top=False, input_shape=(224, 224, 3))\n",
        "conv_layers.trainable = False\n",
        "\n",
        "model = models.Sequential()\n",
        "\n",
        "model.add(conv_layers)\n",
        "model.add(Flatten())\n",
        "model.add(Dense(128, activation='relu'))\n",
        "model.add(BatchNormalization())\n",
        "model.add(Dense(2))\n",
        "\n",
        "model.summary()\n",
        "\n",
        "model.compile(optimizer='Adam', loss='mse')\n",
        "\n",
        "\n",
        "history = model.fit(train_x, train_y, epochs=100, batch_size=16, validation_split=0.1, verbose=1)\n",
        "\n",
        "plt.plot(history.history['loss'])\n",
        "plt.plot(history.history['val_loss'])\n",
        "plt.show()\n"
      ],
      "metadata": {
        "id": "t3rZBz4DFYix"
      },
      "execution_count": null,
      "outputs": []
    },
    {
      "cell_type": "markdown",
      "source": [
        "## 결과 보기"
      ],
      "metadata": {
        "id": "3DgFoiPbFccN"
      }
    },
    {
      "cell_type": "code",
      "source": [
        "predicted = model.predict(test_x[:16])"
      ],
      "metadata": {
        "id": "tLLdmcMsGlms"
      },
      "execution_count": null,
      "outputs": []
    },
    {
      "cell_type": "code",
      "source": [
        "for i in range(16):\n",
        "  plt.imshow(test_x[i])\n",
        "  plt.scatter(predicted[i][0], predicted[i][1], color='yellow')\n",
        "  plt.show()"
      ],
      "metadata": {
        "id": "teYqEoOOGnHR"
      },
      "execution_count": null,
      "outputs": []
    },
    {
      "cell_type": "markdown",
      "source": [
        "# 오른쪽눈 위치 예측"
      ],
      "metadata": {
        "id": "_kNr4iyDGqVy"
      }
    },
    {
      "cell_type": "markdown",
      "source": [
        "## 눈만 추리기"
      ],
      "metadata": {
        "id": "kxbAW_HIHqKC"
      }
    },
    {
      "cell_type": "code",
      "source": [
        "y = raw_y[:,2:4]"
      ],
      "metadata": {
        "id": "F4jEEeK3G_gD"
      },
      "execution_count": null,
      "outputs": []
    },
    {
      "cell_type": "code",
      "source": [
        "target_x = x[0]\n",
        "target_y = y[0]\n",
        "\n",
        "plt.imshow(target_x)\n",
        "plt.scatter(target_y[0], target_y[1], color='yellow')\n",
        "plt.show()"
      ],
      "metadata": {
        "id": "PED-7eCEHPhZ"
      },
      "execution_count": null,
      "outputs": []
    },
    {
      "cell_type": "markdown",
      "source": [
        "## normalization"
      ],
      "metadata": {
        "id": "svGS71TwHQ4J"
      }
    },
    {
      "cell_type": "code",
      "source": [
        "x = x / 255."
      ],
      "metadata": {
        "id": "0dmmK5EQHsra"
      },
      "execution_count": null,
      "outputs": []
    },
    {
      "cell_type": "markdown",
      "source": [
        "## 데이터셋 나누기"
      ],
      "metadata": {
        "id": "VZ8nW8Y-Hu_i"
      }
    },
    {
      "cell_type": "code",
      "source": [
        "from sklearn.model_selection import train_test_split\n",
        "\n",
        "train_x, test_x, train_y, test_y = train_test_split(x, y, test_size=0.2, shuffle=True)"
      ],
      "metadata": {
        "id": "jSudF0rMHt6S"
      },
      "execution_count": null,
      "outputs": []
    },
    {
      "cell_type": "code",
      "source": [
        "print(train_x.shape)\n",
        "print(train_y.shape)\n",
        "print(test_x.shape)\n",
        "print(test_y.shape)"
      ],
      "metadata": {
        "id": "txfr-3tsHwfi"
      },
      "execution_count": null,
      "outputs": []
    },
    {
      "cell_type": "markdown",
      "source": [
        "## 모델 학습"
      ],
      "metadata": {
        "id": "VKN7EYXhHxki"
      }
    },
    {
      "cell_type": "code",
      "source": [
        "conv_layers = mobilenet_v2.MobileNetV2(weights='imagenet', include_top=False, input_shape=(224, 224, 3))\n",
        "conv_layers.trainable = False\n",
        "\n",
        "right_eye_model = models.Sequential()\n",
        "\n",
        "right_eye_model.add(conv_layers)\n",
        "right_eye_model.add(Flatten())\n",
        "right_eye_model.add(Dense(128, activation='relu'))\n",
        "right_eye_model.add(BatchNormalization())\n",
        "right_eye_model.add(Dense(2))\n",
        "\n",
        "right_eye_model.summary()\n",
        "\n",
        "right_eye_model.compile(optimizer='Adam', loss='mse')\n",
        "\n",
        "\n",
        "history = right_eye_model.fit(train_x, train_y, epochs=100, batch_size=16, validation_split=0.1, verbose=1)\n",
        "\n",
        "plt.plot(history.history['loss'])\n",
        "plt.plot(history.history['val_loss'])\n",
        "plt.show()\n"
      ],
      "metadata": {
        "id": "s-OnQHMlH0vc"
      },
      "execution_count": null,
      "outputs": []
    },
    {
      "cell_type": "markdown",
      "source": [
        "## 결과 보기"
      ],
      "metadata": {
        "id": "tDawIM0ELGuL"
      }
    },
    {
      "cell_type": "code",
      "source": [
        "eye_predicted = right_eye_model.predict(test_x[:16])"
      ],
      "metadata": {
        "id": "Z0-Xb1_7H2VR"
      },
      "execution_count": null,
      "outputs": []
    },
    {
      "cell_type": "code",
      "source": [
        "for i in range(16):\n",
        "  plt.imshow(test_x[i])\n",
        "  plt.scatter(eye_predicted[i][0], eye_predicted[i][1], color='yellow')\n",
        "  plt.show()"
      ],
      "metadata": {
        "id": "6sbcVfX7JjyC"
      },
      "execution_count": null,
      "outputs": []
    },
    {
      "cell_type": "code",
      "source": [
        ""
      ],
      "metadata": {
        "id": "cYkYnckUJlTa"
      },
      "execution_count": null,
      "outputs": []
    },
    {
      "cell_type": "markdown",
      "source": [
        "# 오른쪽눈 위치 예측 - y값 normalization"
      ],
      "metadata": {
        "id": "pvAcOvuDK2JU"
      }
    },
    {
      "cell_type": "markdown",
      "source": [
        "## 눈만 추리기"
      ],
      "metadata": {
        "id": "fK6I_nYCK2JV"
      }
    },
    {
      "cell_type": "code",
      "source": [
        "y = raw_y[:,2:4]"
      ],
      "metadata": {
        "id": "X7gE9WP0K2JV"
      },
      "execution_count": null,
      "outputs": []
    },
    {
      "cell_type": "code",
      "source": [
        "target_x = x[0]\n",
        "target_y = y[0]\n",
        "\n",
        "plt.imshow(target_x)\n",
        "plt.scatter(target_y[0], target_y[1], color='yellow')\n",
        "plt.show()"
      ],
      "metadata": {
        "id": "PBekqHNAK2JV"
      },
      "execution_count": null,
      "outputs": []
    },
    {
      "cell_type": "markdown",
      "source": [
        "## normalization"
      ],
      "metadata": {
        "id": "DzDL_KfIK2JV"
      }
    },
    {
      "cell_type": "code",
      "source": [
        "x = raw_x / 255.\n",
        "y = y / 255."
      ],
      "metadata": {
        "id": "l0dS2j7WK2JV"
      },
      "execution_count": null,
      "outputs": []
    },
    {
      "cell_type": "markdown",
      "source": [
        "## 데이터셋 나누기"
      ],
      "metadata": {
        "id": "2yE6sWRHK2JV"
      }
    },
    {
      "cell_type": "code",
      "source": [
        "from sklearn.model_selection import train_test_split\n",
        "\n",
        "train_x, test_x, train_y, test_y = train_test_split(x, y, test_size=0.2, shuffle=True)"
      ],
      "metadata": {
        "id": "HTGZZDEzK2JV"
      },
      "execution_count": null,
      "outputs": []
    },
    {
      "cell_type": "code",
      "source": [
        "print(train_x.shape)\n",
        "print(train_y.shape)\n",
        "print(test_x.shape)\n",
        "print(test_y.shape)"
      ],
      "metadata": {
        "id": "tbgnKVqEK2JW"
      },
      "execution_count": null,
      "outputs": []
    },
    {
      "cell_type": "markdown",
      "source": [
        "## 모델 학습"
      ],
      "metadata": {
        "id": "bJJGyNsJK2JW"
      }
    },
    {
      "cell_type": "code",
      "source": [
        "conv_layers = mobilenet_v2.MobileNetV2(weights='imagenet', include_top=False, input_shape=(224, 224, 3))\n",
        "conv_layers.trainable = False\n",
        "\n",
        "right_eye_model = models.Sequential()\n",
        "\n",
        "right_eye_model.add(conv_layers)\n",
        "right_eye_model.add(Flatten())\n",
        "right_eye_model.add(Dense(128, activation='relu'))\n",
        "right_eye_model.add(BatchNormalization())\n",
        "right_eye_model.add(Dense(2, activation='sigmoid'))\n",
        "\n",
        "right_eye_model.summary()\n",
        "\n",
        "right_eye_model.compile(optimizer='Adam', loss='mse')\n",
        "\n",
        "\n",
        "history = right_eye_model.fit(train_x, train_y, epochs=100, batch_size=16, validation_split=0.1, verbose=1)\n",
        "\n",
        "plt.plot(history.history['loss'])\n",
        "plt.plot(history.history['val_loss'])\n",
        "plt.show()\n"
      ],
      "metadata": {
        "id": "Ing5JfDzK2JW"
      },
      "execution_count": null,
      "outputs": []
    },
    {
      "cell_type": "markdown",
      "source": [
        "## 결과 보기"
      ],
      "metadata": {
        "id": "s6DaDFfpLIjx"
      }
    },
    {
      "cell_type": "code",
      "source": [
        "predicted = right_eye_model.predict(test_x[:16])"
      ],
      "metadata": {
        "id": "jQbMJ-TTK2JW"
      },
      "execution_count": null,
      "outputs": []
    },
    {
      "cell_type": "code",
      "source": [
        "for i in range(16):\n",
        "  plt.imshow(test_x[i])\n",
        "  plt.scatter(int(predicted[i][0]*255), int(predicted[i][1]*255), color='yellow')\n",
        "  plt.show()"
      ],
      "metadata": {
        "id": "C1hGCLlAK2JW"
      },
      "execution_count": null,
      "outputs": []
    },
    {
      "cell_type": "code",
      "source": [
        ""
      ],
      "metadata": {
        "id": "lAM7fqn7K2JW"
      },
      "execution_count": null,
      "outputs": []
    },
    {
      "cell_type": "markdown",
      "source": [
        "# 양쪽눈 위치 예측 - y값 normalization"
      ],
      "metadata": {
        "id": "d_07SaFkMoiS"
      }
    },
    {
      "cell_type": "markdown",
      "source": [
        "## 눈만 추리기"
      ],
      "metadata": {
        "id": "WufSBdqFMoiX"
      }
    },
    {
      "cell_type": "code",
      "source": [
        "x = raw_x\n",
        "y = raw_y[:,0:4]"
      ],
      "metadata": {
        "id": "0f4PgXbHMoiX"
      },
      "execution_count": null,
      "outputs": []
    },
    {
      "cell_type": "code",
      "source": [
        "print(y[0])"
      ],
      "metadata": {
        "id": "a_p3GQgiNRHe"
      },
      "execution_count": null,
      "outputs": []
    },
    {
      "cell_type": "code",
      "source": [
        "target_x = x[0]\n",
        "target_y = y[0]\n",
        "\n",
        "plt.imshow(target_x)\n",
        "plt.scatter(target_y[0], target_y[1], color='yellow')\n",
        "plt.scatter(target_y[2], target_y[3], color='yellow')\n",
        "plt.show()"
      ],
      "metadata": {
        "id": "SLEAsYGoMoiX"
      },
      "execution_count": null,
      "outputs": []
    },
    {
      "cell_type": "markdown",
      "source": [
        "## normalization"
      ],
      "metadata": {
        "id": "nOBMJFqQMoiX"
      }
    },
    {
      "cell_type": "code",
      "source": [
        "x = x / 255.\n",
        "y = y / 255."
      ],
      "metadata": {
        "id": "hmIJSSUkMoiX"
      },
      "execution_count": null,
      "outputs": []
    },
    {
      "cell_type": "markdown",
      "source": [
        "## 데이터셋 나누기"
      ],
      "metadata": {
        "id": "DHmrLhbzMoiY"
      }
    },
    {
      "cell_type": "code",
      "source": [
        "from sklearn.model_selection import train_test_split\n",
        "\n",
        "train_x, test_x, train_y, test_y = train_test_split(x, y, test_size=0.2, shuffle=True)"
      ],
      "metadata": {
        "id": "lJupNE-ZMoiY"
      },
      "execution_count": null,
      "outputs": []
    },
    {
      "cell_type": "code",
      "source": [
        "print(train_x.shape)\n",
        "print(train_y.shape)\n",
        "print(test_x.shape)\n",
        "print(test_y.shape)"
      ],
      "metadata": {
        "id": "qrjT3yrzMoiY"
      },
      "execution_count": null,
      "outputs": []
    },
    {
      "cell_type": "markdown",
      "source": [
        "## Datagenerator 생성"
      ],
      "metadata": {
        "id": "g2-IIQaIXfEd"
      }
    },
    {
      "cell_type": "code",
      "source": [
        "# datagenerator = ImageDataGenerator(\n",
        "#             rotation_range = 100, \n",
        "#             width_shift_range = 0.2, \n",
        "#             height_shift_range = 0.2,\n",
        "#             horizontal_flip = True)"
      ],
      "metadata": {
        "id": "S9wjBNP4XfEe"
      },
      "execution_count": null,
      "outputs": []
    },
    {
      "cell_type": "code",
      "source": [
        "# train_x = next(iter(datagenerator.flow(train_x)))"
      ],
      "metadata": {
        "id": "3s2XrfGMXfEe"
      },
      "execution_count": null,
      "outputs": []
    },
    {
      "cell_type": "markdown",
      "source": [
        "## 모델 학습"
      ],
      "metadata": {
        "id": "Ay1-0FXqMoiY"
      }
    },
    {
      "cell_type": "code",
      "source": [
        "conv_layers = mobilenet_v2.MobileNetV2(weights='imagenet', include_top=False, input_shape=(224, 224, 3))\n",
        "conv_layers.trainable = False\n",
        "\n",
        "right_eye_model = models.Sequential()\n",
        "\n",
        "right_eye_model.add(conv_layers)\n",
        "right_eye_model.add(Flatten())\n",
        "right_eye_model.add(Dense(128, activation='relu'))\n",
        "right_eye_model.add(BatchNormalization())\n",
        "right_eye_model.add(Dense(4, activation='sigmoid'))\n",
        "\n",
        "right_eye_model.summary()\n",
        "\n",
        "right_eye_model.compile(optimizer='Adam', loss='mse')\n",
        "\n",
        "history = right_eye_model.fit(train_x, train_y, epochs=100, batch_size=16, validation_split=0.1, verbose=1)\n",
        "\n",
        "plt.plot(history.history['loss'])\n",
        "plt.plot(history.history['val_loss'])\n",
        "plt.show()\n"
      ],
      "metadata": {
        "id": "uP0jYbEPMoiY"
      },
      "execution_count": null,
      "outputs": []
    },
    {
      "cell_type": "markdown",
      "source": [
        "## 결과 보기"
      ],
      "metadata": {
        "id": "HF91TzmoMoiY"
      }
    },
    {
      "cell_type": "code",
      "source": [
        "predicted = right_eye_model.predict(test_x[:16])"
      ],
      "metadata": {
        "id": "8XP0xoCRMoiY"
      },
      "execution_count": null,
      "outputs": []
    },
    {
      "cell_type": "code",
      "source": [
        "for i in range(16):\n",
        "  plt.imshow(test_x[i])\n",
        "  plt.scatter(int(predicted[i][0]*255), int(predicted[i][1]*255), color='yellow')\n",
        "  plt.scatter(int(predicted[i][2]*255), int(predicted[i][3]*255), color='yellow')\n",
        "  plt.show()"
      ],
      "metadata": {
        "id": "Fkpquq2yMoiY"
      },
      "execution_count": null,
      "outputs": []
    },
    {
      "cell_type": "markdown",
      "source": [
        ""
      ],
      "metadata": {
        "id": "af9i08w4XQNV"
      }
    }
  ]
}