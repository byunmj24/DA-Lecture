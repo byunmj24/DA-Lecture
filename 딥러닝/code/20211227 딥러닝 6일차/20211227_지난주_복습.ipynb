{
  "nbformat": 4,
  "nbformat_minor": 0,
  "metadata": {
    "colab": {
      "name": "20211227_지난주 복습.ipynb",
      "private_outputs": true,
      "provenance": [],
      "collapsed_sections": []
    },
    "kernelspec": {
      "name": "python3",
      "display_name": "Python 3"
    },
    "language_info": {
      "name": "python"
    },
    "accelerator": "GPU"
  },
  "cells": [
    {
      "cell_type": "markdown",
      "metadata": {
        "id": "giMgHzNY8861"
      },
      "source": [
        "# IRIS 데이터 분류"
      ]
    },
    {
      "cell_type": "code",
      "metadata": {
        "id": "ID7lfGHi8g6u"
      },
      "source": [
        "import numpy as np\n",
        "import pandas as pd\n",
        "import matplotlib.pyplot as plt\n",
        "\n",
        "import tensorflow as tf\n",
        "\n",
        "from tensorflow import keras\n",
        "from tensorflow.keras import optimizers\n",
        "from tensorflow.keras.layers import Dense, Input"
      ],
      "execution_count": null,
      "outputs": []
    },
    {
      "cell_type": "code",
      "metadata": {
        "id": "is1Jygwv8leP"
      },
      "source": [
        "!wget https://raw.githubusercontent.com/dhrim/MDC_2021/master/material/deep_learning/iris.csv"
      ],
      "execution_count": null,
      "outputs": []
    },
    {
      "cell_type": "code",
      "metadata": {
        "id": "7Uw1AwaxbTm7"
      },
      "source": [
        "!ls -al\n",
        "!head iris.csv"
      ],
      "execution_count": null,
      "outputs": []
    },
    {
      "cell_type": "code",
      "metadata": {
        "id": "J1fqqYEm8n2t"
      },
      "source": [
        "iris = pd.read_csv(\"iris.csv\")\n",
        "iris.head()"
      ],
      "execution_count": null,
      "outputs": []
    },
    {
      "cell_type": "code",
      "metadata": {
        "id": "y5G66SaI8rKZ"
      },
      "source": [
        "iris.info()"
      ],
      "execution_count": null,
      "outputs": []
    },
    {
      "cell_type": "code",
      "metadata": {
        "id": "4-ZtqXYD8s1O"
      },
      "source": [
        "data = iris.to_numpy()\n",
        "print(data.shape)\n",
        "print(data[:5])"
      ],
      "execution_count": null,
      "outputs": []
    },
    {
      "cell_type": "code",
      "metadata": {
        "id": "YUqZeQAm8s3t"
      },
      "source": [
        "x = data[:,:4]\n",
        "y = data[:,4:]\n",
        "\n",
        "split_index = 100\n",
        "\n",
        "train_x, test_x = x[:split_index], x[split_index:]\n",
        "train_y, test_y = y[:split_index], y[split_index:]"
      ],
      "execution_count": null,
      "outputs": []
    },
    {
      "cell_type": "code",
      "metadata": {
        "id": "Q9PVE6VJ8s9V"
      },
      "source": [
        "model = keras.Sequential()\n",
        "model.add(Input(4))\n",
        "model.add(Dense(10, activation='tanh'))\n",
        "model.add(Dense(10, activation='tanh'))\n",
        "model.add(Dense(3, activation='softmax'))"
      ],
      "execution_count": null,
      "outputs": []
    },
    {
      "cell_type": "code",
      "metadata": {
        "id": "7gWZl5rG8s6k"
      },
      "source": [
        "model.compile(optimizer='adam', loss='categorical_crossentropy', metrics=['accuracy'])"
      ],
      "execution_count": null,
      "outputs": []
    },
    {
      "cell_type": "code",
      "metadata": {
        "id": "ncEY6nOd80X8"
      },
      "source": [
        "model.fit(train_x, train_y, epochs=200, verbose=0)"
      ],
      "execution_count": null,
      "outputs": []
    },
    {
      "cell_type": "code",
      "metadata": {
        "id": "3dOxrqlB82OM"
      },
      "source": [
        "loss, acc = model.evaluate(test_x, test_y)\n",
        "\n",
        "print(\"loss :\", loss)\n",
        "print(\"acc :\", acc)\n"
      ],
      "execution_count": null,
      "outputs": []
    },
    {
      "cell_type": "code",
      "metadata": {
        "id": "UpHP3Ds884OT"
      },
      "source": [
        "y_ = model.predict(test_x)\n",
        "print(y_)\n",
        "print(np.argmax(y_, axis=1))"
      ],
      "execution_count": null,
      "outputs": []
    },
    {
      "cell_type": "markdown",
      "metadata": {
        "id": "BSRas3Po_ZO3"
      },
      "source": [
        "# loss categorical_crossentropy\n",
        "\n",
        "2가지 crossentropy 사용 방법\n",
        "- categorical_crossentropy\n",
        "- sparse_categorical_crossentropy\n",
        "\n",
        "## categorical_crossentropy\n",
        "y의 값이 one hot encoding인 경우\n",
        "```\n",
        "1,0,0\n",
        "0,1,0\n",
        "0,0,1\n",
        "```\n",
        "\n",
        "출력 레이어 설정\n",
        "```\n",
        "model.add(Dense(3, activation=\"softmax\")) # 출력 레이어\n",
        "```\n",
        "\n",
        "loss 설정\n",
        "```\n",
        "model.compile(..., loss='categorical_crossentropy')\n",
        "```\n",
        "\n",
        "\n",
        "## sparse_categorical_crossentropy\n",
        "y의 값이 one hot encoding인 경우\n",
        "```\n",
        "0\n",
        "1\n",
        "2\n",
        "```\n",
        "\n",
        "출력 레이어 설정\n",
        "```\n",
        "model.add(Dense(3, activation=\"softmax\")) # 출력 레이어. 1이 아니라 클래스 수 3\n",
        "```\n",
        "\n",
        "loss 설정\n",
        "```\n",
        "model.compile(..., loss='sparse_categorical_crossentropy')\n",
        "```\n"
      ]
    },
    {
      "cell_type": "markdown",
      "metadata": {
        "id": "TS6kKsxs_dS9"
      },
      "source": [
        "# iris_dnn with category index\n",
        "\n",
        "아래의 코드는 dnn_iris_and_optimizer.ipynb의 코드를 기반으로 한다.\n"
      ]
    },
    {
      "cell_type": "code",
      "metadata": {
        "id": "ROWsFbJ5852r"
      },
      "source": [
        "!wget https://raw.githubusercontent.com/dhrim/MDC_2021/master/material/deep_learning/iris_with_category_index.csv"
      ],
      "execution_count": null,
      "outputs": []
    },
    {
      "cell_type": "code",
      "metadata": {
        "id": "lqCzFLp-gh7a"
      },
      "source": [
        "!ls -al\n",
        "!head iris_with_category_index.csv"
      ],
      "execution_count": null,
      "outputs": []
    },
    {
      "cell_type": "code",
      "metadata": {
        "id": "9OuplbOU_ls3"
      },
      "source": [
        "iris = pd.read_csv(\"iris_with_category_index.csv\")\n",
        "iris.head()"
      ],
      "execution_count": null,
      "outputs": []
    },
    {
      "cell_type": "code",
      "metadata": {
        "id": "pTZ0g9Ax_mMf"
      },
      "source": [
        "data = iris.to_numpy()\n",
        "print(data.shape)\n",
        "print(data[:5])"
      ],
      "execution_count": null,
      "outputs": []
    },
    {
      "cell_type": "code",
      "metadata": {
        "id": "u30kuIr0_mWC"
      },
      "source": [
        "x = data[:,:4]\n",
        "y = data[:,4:]\n",
        "\n",
        "split_index = 100\n",
        "\n",
        "train_x, test_x = x[:split_index], x[split_index:]\n",
        "train_y, test_y = y[:split_index], y[split_index:]\n",
        "\n",
        "print(train_x.shape)\n",
        "print(train_y.shape)\n",
        "print(test_x.shape)\n",
        "print(test_y.shape)"
      ],
      "execution_count": null,
      "outputs": []
    },
    {
      "cell_type": "code",
      "metadata": {
        "id": "S-wBUWBH_mTQ"
      },
      "source": [
        "model = keras.Sequential()\n",
        "model.add(Input(4))\n",
        "model.add(Dense(10, activation='tanh'))\n",
        "model.add(Dense(10, activation='tanh'))\n",
        "model.add(Dense(3, activation='softmax')) # 1이 아니고 클래스 수 3이다\n",
        "\n",
        "# model.compile(optimizer=\"SGD\", loss=\"categorical_crossentropy\", metrics=[\"accuracy\"])\n",
        "model.compile(optimizer=\"SGD\", loss=\"sparse_categorical_crossentropy\", metrics=[\"accuracy\"])\n",
        "model.summary()\n",
        "\n",
        "model.fit(train_x, train_y, epochs=1000, verbose=0, batch_size=20)\n",
        "\n",
        "loss, acc = model.evaluate(test_x, test_y)\n",
        "print(\"loss=\", loss)\n",
        "print(\"acc=\", acc)\n",
        "              \n"
      ],
      "execution_count": null,
      "outputs": []
    },
    {
      "cell_type": "code",
      "metadata": {
        "id": "AzXyJg3__mQE"
      },
      "source": [
        "y_ = model.predict(test_x)\n",
        "print(y_)\n",
        "print(np.argmax(y_, axis=1))"
      ],
      "execution_count": null,
      "outputs": []
    },
    {
      "cell_type": "code",
      "metadata": {
        "id": "VhrTS4Zb_u8G"
      },
      "source": [
        "y_ = model.predict(test_x)\n",
        "predicted = np.argmax(y_, axis=-1)\n",
        "\n",
        "test_data"
      ],
      "execution_count": null,
      "outputs": []
    }
  ]
}