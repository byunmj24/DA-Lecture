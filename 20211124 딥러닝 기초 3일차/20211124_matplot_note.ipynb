{
  "nbformat": 4,
  "nbformat_minor": 0,
  "metadata": {
    "colab": {
      "name": "20211124_matplot_note.ipynb",
      "private_outputs": true,
      "provenance": [],
      "collapsed_sections": []
    },
    "kernelspec": {
      "name": "python3",
      "display_name": "Python 3"
    },
    "language_info": {
      "name": "python"
    }
  },
  "cells": [
    {
      "cell_type": "code",
      "metadata": {
        "id": "IfE_qK__0_tg"
      },
      "source": [
        "!pip install matplotlib"
      ],
      "execution_count": null,
      "outputs": []
    },
    {
      "cell_type": "code",
      "metadata": {
        "id": "AEyE8DcO1DzA"
      },
      "source": [
        "import matplotlib.pyplot as plt\n",
        "import numpy as np\n",
        "%matplotlib inline"
      ],
      "execution_count": null,
      "outputs": []
    },
    {
      "cell_type": "markdown",
      "metadata": {
        "id": "oBOWA02-1IMC"
      },
      "source": [
        "# 한글 깨짐 방지\n",
        "참고 : https://velog.io/@jgpark1998/Colab-한글-깨짐-RuntimeWarning-오류-해결하기"
      ]
    },
    {
      "cell_type": "code",
      "metadata": {
        "id": "1yz9-M9V2AVa"
      },
      "source": [
        "!sudo apt-get install -y fonts-nanum\n",
        "!sudo fc-cache -fv\n",
        "!rm ~/.cache/matplotlib -rf"
      ],
      "execution_count": null,
      "outputs": []
    },
    {
      "cell_type": "code",
      "metadata": {
        "id": "BIgpYdMC2AiC"
      },
      "source": [
        "x = np.linspace(0, 10, 100)\n",
        "\n",
        "plt.plot(np.sin(x))\n",
        "plt.show()  # 화면에 그림 보여주고 캔버스를 비워버림"
      ],
      "execution_count": null,
      "outputs": []
    },
    {
      "cell_type": "code",
      "metadata": {
        "id": "6TA0-D2M2P_h"
      },
      "source": [
        "x = np.linspace(0, 10, 100)\n",
        "\n",
        "plt.plot(x, np.sin(x))\n",
        "plt.plot(x, np.cos(x))\n",
        "plt.show()"
      ],
      "execution_count": null,
      "outputs": []
    },
    {
      "cell_type": "code",
      "metadata": {
        "id": "fXBoFro22zyC"
      },
      "source": [
        "x = np.linspace(0, 10, 100)\n",
        "\n",
        "plt.plot(x, np.sin(x))\n",
        "plt.show()\n",
        "\n",
        "plt.plot(x, np.cos(x))\n",
        "plt.show()"
      ],
      "execution_count": null,
      "outputs": []
    },
    {
      "cell_type": "code",
      "metadata": {
        "id": "S98lr4Wc3gdK"
      },
      "source": [
        "x = np.linspace(0, 10, 100)\n",
        "\n",
        "plt.plot(x, np.sin(x))\n",
        "plt.plot(x, np.cos(x))\n"
      ],
      "execution_count": null,
      "outputs": []
    },
    {
      "cell_type": "code",
      "metadata": {
        "id": "2VClHqir3j9Q"
      },
      "source": [
        "x = np.linspace(0, 10, 100)\n",
        "\n",
        "fig = plt.figure()\n",
        "plt.plot(x, np.sin(x))\n",
        "plt.plot(x, np.cos(x))\n",
        "\n",
        "# 그래프 > 파일로 저장(fig 선언)\n",
        "fig.savefig('my_draw.jpg')\n",
        "\n",
        "plt.show()"
      ],
      "execution_count": null,
      "outputs": []
    },
    {
      "cell_type": "code",
      "metadata": {
        "id": "kBZmquOV4saD"
      },
      "source": [
        "x = np.linspace(0, 10, 100)\n",
        "\n",
        "fig = plt.figure()\n",
        "plt.plot(x, np.sin(x))\n",
        "fig.savefig('my_draw1.jpg')\n",
        "\n",
        "plt.plot(x, np.cos(x))\n",
        "fig.savefig('my_draw2.jpg')\n",
        "\n",
        "plt.show()"
      ],
      "execution_count": null,
      "outputs": []
    },
    {
      "cell_type": "code",
      "metadata": {
        "id": "WSFZVAKb5pTC"
      },
      "source": [
        "# 이미지 불러와서 보여주기\n",
        "from IPython.display import Image, display\n",
        "\n",
        "display(Image('my_draw.jpg'))"
      ],
      "execution_count": null,
      "outputs": []
    },
    {
      "cell_type": "code",
      "metadata": {
        "id": "_7uC99Vk6M63"
      },
      "source": [
        "x = np.linspace(0, 5, 100)\n",
        "\n",
        "# 선 색깔 지정1\n",
        "plt.plot(x, np.sin(x), color = 'orange')            # 저장된 색 명시\n",
        "plt.plot(x, np.sin(x-1), color = 'g')               # 대표색 첫글자\n",
        "plt.plot(x, np.sin(x-2), color = '0.75')            # 흑백의 명암비\n",
        "plt.plot(x, np.sin(x-3), color = '#FFDD44')         # 16진수, html\n",
        "plt.plot(x, np.sin(x-4), color = (1.0, 0.2, 0.3))   # RGB 밝기값\n",
        "plt.plot(x, np.sin(x-5), color = 'chartreuse')      # 'chartreuse'로 명시된 색\n",
        "\n",
        "plt.show()"
      ],
      "execution_count": null,
      "outputs": []
    },
    {
      "cell_type": "code",
      "metadata": {
        "id": "N1PsLUslAlQc"
      },
      "source": [
        "x = np.linspace(0, 5, 100)\n",
        "\n",
        "# 선 색깔 지정2\n",
        "plt.plot(x, np.sin(x), 'orange')            # 저장된 색 명시\n",
        "plt.plot(x, np.sin(x-1), 'g')               # 대표색 첫글자\n",
        "plt.plot(x, np.sin(x-2), '0.75')            # 흑백의 명암비\n",
        "plt.plot(x, np.sin(x-3), '#FFDD44')         # 16진수, html\n",
        "plt.plot(x, np.sin(x-5), 'chartreuse')      # 'chartreuse'로 명시된 색\n",
        "\n",
        "plt.show()"
      ],
      "execution_count": null,
      "outputs": []
    },
    {
      "cell_type": "code",
      "metadata": {
        "id": "9LeqeFMx6zGb"
      },
      "source": [
        "x = np.linspace(0, 5, 100)\n",
        "\n",
        "# 선 타입 지정1\n",
        "plt.plot(x, np.sin(x), linestyle = 'solid')\n",
        "plt.plot(x, np.sin(x-1), linestyle = 'dashed')\n",
        "plt.plot(x, np.sin(x-2), linestyle = 'dashdot')\n",
        "plt.plot(x, np.sin(x-3), linestyle = 'dotted')\n",
        "\n",
        "plt.show()"
      ],
      "execution_count": null,
      "outputs": []
    },
    {
      "cell_type": "code",
      "metadata": {
        "id": "azplUPCS_kRj"
      },
      "source": [
        "x = np.linspace(0, 5, 100)\n",
        "\n",
        "# 선 타입 지정2\n",
        "plt.plot(x, np.sin(x), linestyle = '-')\n",
        "plt.plot(x, np.sin(x-1), linestyle = '--')\n",
        "plt.plot(x, np.sin(x-2), linestyle = '-.')\n",
        "plt.plot(x, np.sin(x-3), linestyle = ':')\n",
        "\n",
        "plt.show()"
      ],
      "execution_count": null,
      "outputs": []
    },
    {
      "cell_type": "code",
      "metadata": {
        "id": "7-32VTaBAF50"
      },
      "source": [
        "x = np.linspace(0, 5, 100)\n",
        "\n",
        "# 선 타입 지정3\n",
        "plt.plot(x, np.sin(x), '-')\n",
        "plt.plot(x, np.sin(x-1), '--')\n",
        "plt.plot(x, np.sin(x-2), '-.')\n",
        "plt.plot(x, np.sin(x-3), ':')\n",
        "\n",
        "plt.show()"
      ],
      "execution_count": null,
      "outputs": []
    },
    {
      "cell_type": "code",
      "metadata": {
        "id": "lDFQ5HT6AYxE"
      },
      "source": [
        "x = np.linspace(0, 5, 100)\n",
        "\n",
        "# 선 타입 + 색(순서 상관 없음)\n",
        "plt.plot(x, np.sin(x), 'r-')\n",
        "plt.plot(x, np.sin(x-1), '--g')\n",
        "plt.plot(x, np.sin(x-2), 'y-.')\n",
        "plt.plot(x, np.sin(x-3), ':b')\n",
        "\n",
        "plt.show()"
      ],
      "execution_count": null,
      "outputs": []
    },
    {
      "cell_type": "code",
      "metadata": {
        "id": "bQjWIA0ABKLa"
      },
      "source": [
        "x = np.linspace(0, 5, 100)\n",
        "\n",
        "plt.plot(x, np.sin(x))\n",
        "\n",
        "# x, y 축 범위 지정\n",
        "plt.xlim(0.5, 4.5)\n",
        "plt.ylim(-1.2, 1.2)\n",
        "\n",
        "plt.show()"
      ],
      "execution_count": null,
      "outputs": []
    },
    {
      "cell_type": "code",
      "metadata": {
        "id": "N2bISJLPA20U"
      },
      "source": [
        "x = np.linspace(0, 5, 100)\n",
        "\n",
        "plt.plot(x, np.sin(x))\n",
        "\n",
        "# x 축 범위 반전\n",
        "plt.xlim(4.5, 0.5)\n",
        "plt.ylim(-1.2, 1.2)\n",
        "\n",
        "plt.show()"
      ],
      "execution_count": null,
      "outputs": []
    },
    {
      "cell_type": "code",
      "metadata": {
        "id": "RxNxh2KUBt-b"
      },
      "source": [
        "x = np.linspace(0, 5, 100)\n",
        "\n",
        "plt.plot(x, np.sin(x))\n",
        "\n",
        "# x, y 축 범위 지정\n",
        "plt.axis([-0.5, 5.5, -1.2, 1.2])\n",
        "# plt.xlim(4.5, 0.5)\n",
        "# plt.ylim(-1.2, 1.2)\n",
        "\n",
        "plt.show()"
      ],
      "execution_count": null,
      "outputs": []
    },
    {
      "cell_type": "code",
      "metadata": {
        "id": "WDUZNkAlCBud"
      },
      "source": [
        "x = np.linspace(0, 5, 100)\n",
        "\n",
        "# pentagon - 오각형 마커 + 마커 크기 변경\n",
        "plt.plot(x, np.sin(x), '-p', \n",
        "         markersize = 20,\n",
        "         markerfacecolor = 'white',\n",
        "         markeredgewidth = 3)\n",
        "\n",
        "# x, y 축 범위 지정\n",
        "plt.axis([-0.5, 5.5, -1.2, 1.2])\n",
        "\n",
        "plt.show()"
      ],
      "execution_count": null,
      "outputs": []
    },
    {
      "cell_type": "markdown",
      "metadata": {
        "id": "nKDBWWaUCdNj"
      },
      "source": [
        "# Titanic 데이터 가져와서 그래프 그리기"
      ]
    },
    {
      "cell_type": "code",
      "metadata": {
        "id": "1E_TAlJPDZdu"
      },
      "source": [
        "!wget https://raw.githubusercontent.com/dhrim/MDC_2021/master/material/deep_learning/data/titanic.csv"
      ],
      "execution_count": null,
      "outputs": []
    },
    {
      "cell_type": "code",
      "metadata": {
        "id": "wMXWhEtkDryk"
      },
      "source": [
        "import pandas as pd\n",
        "import numpy as np\n",
        "\n",
        "df = pd.read_csv('titanic.csv')"
      ],
      "execution_count": null,
      "outputs": []
    },
    {
      "cell_type": "code",
      "metadata": {
        "id": "RniO56dwD3uc"
      },
      "source": [
        "fare = df['Fare'].values\n",
        "plt.plot(fare)\n",
        "plt.show()"
      ],
      "execution_count": null,
      "outputs": []
    },
    {
      "cell_type": "markdown",
      "metadata": {
        "id": "C51Ca4CvECe2"
      },
      "source": [
        "# Style 적용"
      ]
    },
    {
      "cell_type": "code",
      "metadata": {
        "id": "af2gJd92FY9v"
      },
      "source": [
        "plt.style.use('seaborn-whitegrid')"
      ],
      "execution_count": null,
      "outputs": []
    },
    {
      "cell_type": "code",
      "metadata": {
        "id": "o9bcU5v4Flt9"
      },
      "source": [
        "x = np.linspace(0, 10, 100)\n",
        "\n",
        "plt.plot(x, np.sin(x))\n",
        "plt.plot(x, np.cos(x))\n",
        "\n",
        "plt.show()"
      ],
      "execution_count": null,
      "outputs": []
    },
    {
      "cell_type": "code",
      "metadata": {
        "id": "EKXzvv-lFq11"
      },
      "source": [
        "# 프린트 아래로 출력하는 모듈\n",
        "from pprint import pprint\n",
        "\n",
        "# style 목록 확인\n",
        "pprint(plt.style.available)"
      ],
      "execution_count": null,
      "outputs": []
    },
    {
      "cell_type": "code",
      "metadata": {
        "id": "SOlVsDbCFz2k"
      },
      "source": [
        "x = np.linspace(0, 10, 100)\n",
        "\n",
        "for style in plt.style.available:\n",
        "    print(style)\n",
        "    plt.style.use(style)\n",
        " \n",
        "    plt.plot(x, np.sin(x))\n",
        "    plt.plot(x, np.cos(x))\n",
        "\n",
        "    plt.show()"
      ],
      "execution_count": null,
      "outputs": []
    },
    {
      "cell_type": "code",
      "metadata": {
        "id": "sH2nnpdiGSCU"
      },
      "source": [
        ""
      ],
      "execution_count": null,
      "outputs": []
    }
  ]
}