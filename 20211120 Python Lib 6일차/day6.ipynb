{
 "cells": [
  {
   "cell_type": "markdown",
   "id": "f1933a47",
   "metadata": {},
   "source": [
    "# Finace Data Reader"
   ]
  },
  {
   "cell_type": "markdown",
   "id": "62f233c3",
   "metadata": {},
   "source": [
    "### FinanceDataReader\n",
    "\n",
    "- 한국 주식 가격, 미국주식 가격, 지수, 환율, 암호화폐 가격,\n",
    "- 종목 리스팅 등 금융 데이터 수집 라이브러리\n",
    "- https://financedata.github.io/posts/finance-data-reader-users-guide.html\n",
    "- 설치 : pip install -U finance-datareader"
   ]
  },
  {
   "cell_type": "code",
   "execution_count": null,
   "id": "4bf11ada",
   "metadata": {},
   "outputs": [],
   "source": [
    "import warnings\n",
    "warnings.filterwarnings('ignore')\n",
    "warnings.simplefilter('ignore')\n",
    "\n",
    "from IPython.display import set_matplotlib_formats\n",
    "set_matplotlib_formats(\"retina\")\n",
    "\n",
    "from IPython.display import Image\n",
    "\n",
    "from IPython.core.display import display, HTML\n",
    "display(HTML(\"<style>.container { font-weight: bold !important; font-family:'Malgun Gothic' !important;}</style>\"))\n",
    "display(HTML(\"<style>.container { width: 98% !important; }</style>\"))"
   ]
  },
  {
   "cell_type": "code",
   "execution_count": null,
   "id": "bc8502fd",
   "metadata": {},
   "outputs": [],
   "source": [
    "# 모듈 임포트 \n",
    "import numpy as np\n",
    "import pandas as pd\n",
    "import matplotlib as mpl\n",
    "import matplotlib.pyplot as plt\n",
    "import seaborn as sns\n",
    "%matplotlib inline\n",
    "\n",
    "#  한글글꼴로 변경\n",
    "plt.rcParams['font.size'] = 12.0\n",
    "plt.rcParams['font.family'] = 'Malgun Gothic'\n",
    "\n",
    "import FinanceDataReader as fdr"
   ]
  },
  {
   "cell_type": "code",
   "execution_count": null,
   "id": "9d8940c1",
   "metadata": {},
   "outputs": [],
   "source": [
    "# 거래소별 전체 종목코드: KRX(KOSPI, KODAQ, KONEX), NASDAQ, NYSE, AMEX\n",
    "# fdr.StockListing(종목코드)\n",
    "df_kospi = fdr.StockListing('KOSPI')\n",
    "df_kospi.head()"
   ]
  },
  {
   "cell_type": "code",
   "execution_count": null,
   "id": "001230f8",
   "metadata": {},
   "outputs": [],
   "source": [
    "df_KRX = fdr.StockListing('KRX')\n",
    "df_KRX.head()"
   ]
  },
  {
   "cell_type": "code",
   "execution_count": null,
   "id": "b18c43b2",
   "metadata": {},
   "outputs": [],
   "source": [
    "# # 데이타프레임명.shape => 행과 열수 반환\n",
    "df_kospi.shape, df_KRX.shape"
   ]
  },
  {
   "cell_type": "code",
   "execution_count": null,
   "id": "3c1a10b7",
   "metadata": {},
   "outputs": [],
   "source": [
    "# csv 파일 저장\n",
    "df_kospi.to_csv('output/kospi2.csv', encoding='cp949')\n",
    "df_KRX.to_csv('output/KRX.csv', encoding='cp949')"
   ]
  },
  {
   "cell_type": "code",
   "execution_count": null,
   "id": "fa8f3b59",
   "metadata": {},
   "outputs": [],
   "source": [
    "# ls output"
   ]
  },
  {
   "cell_type": "code",
   "execution_count": null,
   "id": "e032f9df",
   "metadata": {},
   "outputs": [],
   "source": [
    "# 삼성전자와 삼성전기의 종목 코드(SYMBOL)는?\n",
    "# 데이타프레임명[조건식]\n",
    "df_kospi[df_kospi['Name'] == '삼성전자']"
   ]
  },
  {
   "cell_type": "code",
   "execution_count": null,
   "id": "6c767da8",
   "metadata": {},
   "outputs": [],
   "source": [
    "df_kospi[df_kospi['Name'] == '삼성전기']"
   ]
  },
  {
   "cell_type": "code",
   "execution_count": null,
   "id": "f7c88998",
   "metadata": {},
   "outputs": [],
   "source": [
    "df_kospi[df_kospi['Sector'].str.contains('소프트웨어')==True]"
   ]
  },
  {
   "cell_type": "code",
   "execution_count": null,
   "id": "cd90ef03",
   "metadata": {},
   "outputs": [],
   "source": [
    "# 삼성전자 005930\n",
    "# 삼성전기 009150\n",
    "# fdr.DataReader(종목코드, 년도)\n",
    "# fdr.DataReader(종목코드, start, end)\n",
    "fdr.DataReader('005930', '2021')"
   ]
  },
  {
   "cell_type": "code",
   "execution_count": null,
   "id": "1da4baf9",
   "metadata": {},
   "outputs": [],
   "source": [
    "df_samsung1 = fdr.DataReader(\"005930\", '2019')\n",
    "df_samsung2 = fdr.DataReader(\"009150\", '2019')\n",
    "df_samsung1.shape, df_samsung2.shape"
   ]
  },
  {
   "cell_type": "code",
   "execution_count": null,
   "id": "e4b33329",
   "metadata": {},
   "outputs": [],
   "source": [
    "plt.figure(figsize=(20,5))\n",
    "plt.xticks(rotation=45)\n",
    "sns.lineplot(x=df_samsung1.index, y=\"Close\", data=df_samsung1, label='삼성전자');\n",
    "sns.lineplot(x=df_samsung2.index, y=\"Close\", data=df_samsung2, label='삼성전기');\n",
    "\n",
    "plt.savefig('graph.png')"
   ]
  },
  {
   "cell_type": "code",
   "execution_count": null,
   "id": "51711f28",
   "metadata": {},
   "outputs": [],
   "source": [
    "# ls"
   ]
  },
  {
   "cell_type": "code",
   "execution_count": null,
   "id": "ee5fe5e6",
   "metadata": {},
   "outputs": [],
   "source": [
    "# 환율 데이타\n",
    "- fdr.DataReader(환율코드, 년도 )\n",
    "- 원달러 환율, 2020년~현재\n",
    "- USD/KRW, EUR/KRW, JPY/KRW ..."
   ]
  },
  {
   "cell_type": "code",
   "execution_count": null,
   "id": "277ec2a6",
   "metadata": {},
   "outputs": [],
   "source": [
    "\n",
    "df_usd_krw = fdr.DataReader('USD/KRW', '2021')\n",
    "df_usd_krw.shape"
   ]
  },
  {
   "cell_type": "code",
   "execution_count": null,
   "id": "1842dd71",
   "metadata": {},
   "outputs": [],
   "source": [
    "df_usd_krw.tail()"
   ]
  },
  {
   "cell_type": "code",
   "execution_count": null,
   "id": "faf685ad",
   "metadata": {},
   "outputs": [],
   "source": [
    "# 비트코인 원화 가격 (빗썸), 2021년~현재\n",
    "df_btc_krw = fdr.DataReader('BTC/KRW', '2021')\n",
    "df_btc_krw"
   ]
  },
  {
   "cell_type": "code",
   "execution_count": null,
   "id": "87616883",
   "metadata": {},
   "outputs": [],
   "source": [
    "# 그래프화\n",
    "# 데이타프레임명[필드명].plot()\n",
    "plt.figure(figsize=(20,5))\n",
    "df_btc_krw['Close'].plot()"
   ]
  },
  {
   "cell_type": "code",
   "execution_count": null,
   "id": "86c2f684",
   "metadata": {},
   "outputs": [],
   "source": []
  },
  {
   "cell_type": "code",
   "execution_count": null,
   "id": "66a0a231",
   "metadata": {},
   "outputs": [],
   "source": []
  },
  {
   "cell_type": "code",
   "execution_count": null,
   "id": "547248b1",
   "metadata": {},
   "outputs": [],
   "source": []
  },
  {
   "cell_type": "code",
   "execution_count": null,
   "id": "b6630123",
   "metadata": {},
   "outputs": [],
   "source": []
  },
  {
   "cell_type": "code",
   "execution_count": null,
   "id": "18e74eff",
   "metadata": {},
   "outputs": [],
   "source": []
  },
  {
   "cell_type": "code",
   "execution_count": null,
   "id": "d848cfe6",
   "metadata": {},
   "outputs": [],
   "source": []
  }
 ],
 "metadata": {
  "kernelspec": {
   "display_name": "Python 3",
   "language": "python",
   "name": "python3"
  },
  "language_info": {
   "codemirror_mode": {
    "name": "ipython",
    "version": 3
   },
   "file_extension": ".py",
   "mimetype": "text/x-python",
   "name": "python",
   "nbconvert_exporter": "python",
   "pygments_lexer": "ipython3",
   "version": "3.8.8"
  }
 },
 "nbformat": 4,
 "nbformat_minor": 5
}
