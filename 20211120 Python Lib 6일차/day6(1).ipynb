{
 "cells": [
  {
   "cell_type": "markdown",
   "id": "f1933a47",
   "metadata": {},
   "source": [
    "# Finace Data Reader"
   ]
  },
  {
   "cell_type": "markdown",
   "id": "62f233c3",
   "metadata": {},
   "source": [
    "### FinanceDataReader\n",
    "\n",
    "- 한국 주식 가격, 미국주식 가격, 지수, 환율, 암호화폐 가격,\n",
    "- 종목 리스팅 등 금융 데이터 수집 라이브러리\n",
    "- https://financedata.github.io/posts/finance-data-reader-users-guide.html\n",
    "- 설치 : pip install -U finance-datareader"
   ]
  },
  {
   "cell_type": "code",
   "execution_count": 1,
   "id": "4bf11ada",
   "metadata": {},
   "outputs": [
    {
     "data": {
      "text/html": [
       "<style>.container { font-weight: bold !important; font-family:'Malgun Gothic' !important;}</style>"
      ],
      "text/plain": [
       "<IPython.core.display.HTML object>"
      ]
     },
     "metadata": {},
     "output_type": "display_data"
    },
    {
     "data": {
      "text/html": [
       "<style>.container { width: 98% !important; }</style>"
      ],
      "text/plain": [
       "<IPython.core.display.HTML object>"
      ]
     },
     "metadata": {},
     "output_type": "display_data"
    }
   ],
   "source": [
    "import warnings\n",
    "warnings.filterwarnings('ignore')\n",
    "warnings.simplefilter('ignore')\n",
    "\n",
    "from IPython.display import set_matplotlib_formats\n",
    "set_matplotlib_formats(\"retina\")\n",
    "\n",
    "from IPython.core.display import display, HTML\n",
    "display(HTML(\"<style>.container { font-weight: bold !important; font-family:'Malgun Gothic' !important;}</style>\"))\n",
    "display(HTML(\"<style>.container { width: 98% !important; }</style>\"))"
   ]
  },
  {
   "cell_type": "code",
   "execution_count": 2,
   "id": "bc8502fd",
   "metadata": {},
   "outputs": [],
   "source": [
    "# 모듈 임포트 \n",
    "import numpy as np\n",
    "import pandas as pd\n",
    "import matplotlib as mpl\n",
    "import matplotlib.pyplot as plt\n",
    "import seaborn as sns\n",
    "%matplotlib inline\n",
    "\n",
    "#  한글글꼴로 변경\n",
    "plt.rcParams['font.size'] = 12.0\n",
    "plt.rcParams['font.family'] = 'Malgun Gothic'\n",
    "\n",
    "import FinanceDataReader as fdr"
   ]
  },
  {
   "cell_type": "code",
   "execution_count": 3,
   "id": "ec69ca03",
   "metadata": {},
   "outputs": [
    {
     "data": {
      "text/plain": [
       "'0.9.31'"
      ]
     },
     "execution_count": 3,
     "metadata": {},
     "output_type": "execute_result"
    }
   ],
   "source": [
    "fdr.__version__"
   ]
  },
  {
   "cell_type": "markdown",
   "id": "6fc5b505",
   "metadata": {},
   "source": [
    "#### 거래소별 전체 종목코드: KRX(KOSPI, KODAQ, KONEX), NASDAQ, NYSE, AMEX\n",
    "- 데이타프레임명 = fdr.StockListing(종목코드)"
   ]
  },
  {
   "cell_type": "code",
   "execution_count": 6,
   "id": "9d8940c1",
   "metadata": {},
   "outputs": [
    {
     "data": {
      "text/html": [
       "<div>\n",
       "<style scoped>\n",
       "    .dataframe tbody tr th:only-of-type {\n",
       "        vertical-align: middle;\n",
       "    }\n",
       "\n",
       "    .dataframe tbody tr th {\n",
       "        vertical-align: top;\n",
       "    }\n",
       "\n",
       "    .dataframe thead th {\n",
       "        text-align: right;\n",
       "    }\n",
       "</style>\n",
       "<table border=\"1\" class=\"dataframe\">\n",
       "  <thead>\n",
       "    <tr style=\"text-align: right;\">\n",
       "      <th></th>\n",
       "      <th>Symbol</th>\n",
       "      <th>Market</th>\n",
       "      <th>Name</th>\n",
       "      <th>Sector</th>\n",
       "      <th>Industry</th>\n",
       "      <th>ListingDate</th>\n",
       "      <th>SettleMonth</th>\n",
       "      <th>Representative</th>\n",
       "      <th>HomePage</th>\n",
       "      <th>Region</th>\n",
       "    </tr>\n",
       "  </thead>\n",
       "  <tbody>\n",
       "    <tr>\n",
       "      <th>1</th>\n",
       "      <td>095570</td>\n",
       "      <td>KOSPI</td>\n",
       "      <td>AJ네트웍스</td>\n",
       "      <td>산업용 기계 및 장비 임대업</td>\n",
       "      <td>렌탈(파렛트, OA장비, 건설장비)</td>\n",
       "      <td>2015-08-21</td>\n",
       "      <td>12월</td>\n",
       "      <td>박대현</td>\n",
       "      <td>http://www.ajnet.co.kr</td>\n",
       "      <td>서울특별시</td>\n",
       "    </tr>\n",
       "    <tr>\n",
       "      <th>2</th>\n",
       "      <td>006840</td>\n",
       "      <td>KOSPI</td>\n",
       "      <td>AK홀딩스</td>\n",
       "      <td>기타 금융업</td>\n",
       "      <td>지주사업</td>\n",
       "      <td>1999-08-11</td>\n",
       "      <td>12월</td>\n",
       "      <td>채형석, 이석주(각자 대표이사)</td>\n",
       "      <td>http://www.aekyunggroup.co.kr</td>\n",
       "      <td>서울특별시</td>\n",
       "    </tr>\n",
       "    <tr>\n",
       "      <th>6</th>\n",
       "      <td>152100</td>\n",
       "      <td>KOSPI</td>\n",
       "      <td>ARIRANG 200</td>\n",
       "      <td>NaN</td>\n",
       "      <td>NaN</td>\n",
       "      <td>NaT</td>\n",
       "      <td>NaN</td>\n",
       "      <td>NaN</td>\n",
       "      <td>NaN</td>\n",
       "      <td>NaN</td>\n",
       "    </tr>\n",
       "    <tr>\n",
       "      <th>7</th>\n",
       "      <td>295820</td>\n",
       "      <td>KOSPI</td>\n",
       "      <td>ARIRANG 200동일가중</td>\n",
       "      <td>NaN</td>\n",
       "      <td>NaN</td>\n",
       "      <td>NaT</td>\n",
       "      <td>NaN</td>\n",
       "      <td>NaN</td>\n",
       "      <td>NaN</td>\n",
       "      <td>NaN</td>\n",
       "    </tr>\n",
       "    <tr>\n",
       "      <th>8</th>\n",
       "      <td>253150</td>\n",
       "      <td>KOSPI</td>\n",
       "      <td>ARIRANG 200선물레버리지</td>\n",
       "      <td>NaN</td>\n",
       "      <td>NaN</td>\n",
       "      <td>NaT</td>\n",
       "      <td>NaN</td>\n",
       "      <td>NaN</td>\n",
       "      <td>NaN</td>\n",
       "      <td>NaN</td>\n",
       "    </tr>\n",
       "  </tbody>\n",
       "</table>\n",
       "</div>"
      ],
      "text/plain": [
       "   Symbol Market               Name           Sector             Industry  \\\n",
       "1  095570  KOSPI             AJ네트웍스  산업용 기계 및 장비 임대업  렌탈(파렛트, OA장비, 건설장비)   \n",
       "2  006840  KOSPI              AK홀딩스           기타 금융업                 지주사업   \n",
       "6  152100  KOSPI        ARIRANG 200              NaN                  NaN   \n",
       "7  295820  KOSPI    ARIRANG 200동일가중              NaN                  NaN   \n",
       "8  253150  KOSPI  ARIRANG 200선물레버리지              NaN                  NaN   \n",
       "\n",
       "  ListingDate SettleMonth     Representative                       HomePage  \\\n",
       "1  2015-08-21         12월                박대현         http://www.ajnet.co.kr   \n",
       "2  1999-08-11         12월  채형석, 이석주(각자 대표이사)  http://www.aekyunggroup.co.kr   \n",
       "6         NaT         NaN                NaN                            NaN   \n",
       "7         NaT         NaN                NaN                            NaN   \n",
       "8         NaT         NaN                NaN                            NaN   \n",
       "\n",
       "  Region  \n",
       "1  서울특별시  \n",
       "2  서울특별시  \n",
       "6    NaN  \n",
       "7    NaN  \n",
       "8    NaN  "
      ]
     },
     "execution_count": 6,
     "metadata": {},
     "output_type": "execute_result"
    }
   ],
   "source": [
    "df_kospi = fdr.StockListing('KOSPI')\n",
    "df_kospi.head()"
   ]
  },
  {
   "cell_type": "code",
   "execution_count": 7,
   "id": "dfc99422",
   "metadata": {},
   "outputs": [
    {
     "data": {
      "text/plain": [
       "(5189, 10)"
      ]
     },
     "execution_count": 7,
     "metadata": {},
     "output_type": "execute_result"
    }
   ],
   "source": [
    "df_kospi.shape"
   ]
  },
  {
   "cell_type": "code",
   "execution_count": 8,
   "id": "1b2342a1",
   "metadata": {},
   "outputs": [
    {
     "data": {
      "text/plain": [
       "Index(['Symbol', 'Market', 'Name', 'Sector', 'Industry', 'ListingDate',\n",
       "       'SettleMonth', 'Representative', 'HomePage', 'Region'],\n",
       "      dtype='object')"
      ]
     },
     "execution_count": 8,
     "metadata": {},
     "output_type": "execute_result"
    }
   ],
   "source": [
    "df_kospi.columns"
   ]
  },
  {
   "cell_type": "code",
   "execution_count": 12,
   "id": "001230f8",
   "metadata": {},
   "outputs": [],
   "source": [
    "df_KRX = fdr.StockListing('KRX')"
   ]
  },
  {
   "cell_type": "code",
   "execution_count": 13,
   "id": "80a768ea",
   "metadata": {},
   "outputs": [
    {
     "data": {
      "text/html": [
       "<div>\n",
       "<style scoped>\n",
       "    .dataframe tbody tr th:only-of-type {\n",
       "        vertical-align: middle;\n",
       "    }\n",
       "\n",
       "    .dataframe tbody tr th {\n",
       "        vertical-align: top;\n",
       "    }\n",
       "\n",
       "    .dataframe thead th {\n",
       "        text-align: right;\n",
       "    }\n",
       "</style>\n",
       "<table border=\"1\" class=\"dataframe\">\n",
       "  <thead>\n",
       "    <tr style=\"text-align: right;\">\n",
       "      <th></th>\n",
       "      <th>Symbol</th>\n",
       "      <th>Market</th>\n",
       "      <th>Name</th>\n",
       "      <th>Sector</th>\n",
       "      <th>Industry</th>\n",
       "      <th>ListingDate</th>\n",
       "      <th>SettleMonth</th>\n",
       "      <th>Representative</th>\n",
       "      <th>HomePage</th>\n",
       "      <th>Region</th>\n",
       "    </tr>\n",
       "  </thead>\n",
       "  <tbody>\n",
       "    <tr>\n",
       "      <th>3949</th>\n",
       "      <td>066910</td>\n",
       "      <td>KOSDAQ</td>\n",
       "      <td>손오공</td>\n",
       "      <td>기타 전문 도매업</td>\n",
       "      <td>완구, 게임, 캐릭터수입수수료</td>\n",
       "      <td>2005-01-07</td>\n",
       "      <td>12월</td>\n",
       "      <td>김종완</td>\n",
       "      <td>http://www.sonokong.co.kr</td>\n",
       "      <td>경기도</td>\n",
       "    </tr>\n",
       "    <tr>\n",
       "      <th>6798</th>\n",
       "      <td>005385</td>\n",
       "      <td>KOSPI</td>\n",
       "      <td>현대차우</td>\n",
       "      <td>NaN</td>\n",
       "      <td>NaN</td>\n",
       "      <td>NaT</td>\n",
       "      <td>NaN</td>\n",
       "      <td>NaN</td>\n",
       "      <td>NaN</td>\n",
       "      <td>NaN</td>\n",
       "    </tr>\n",
       "    <tr>\n",
       "      <th>286</th>\n",
       "      <td>58GD19</td>\n",
       "      <td>KOSPI</td>\n",
       "      <td>KBGD19한국항공콜</td>\n",
       "      <td>NaN</td>\n",
       "      <td>NaN</td>\n",
       "      <td>NaT</td>\n",
       "      <td>NaN</td>\n",
       "      <td>NaN</td>\n",
       "      <td>NaN</td>\n",
       "      <td>NaN</td>\n",
       "    </tr>\n",
       "  </tbody>\n",
       "</table>\n",
       "</div>"
      ],
      "text/plain": [
       "      Symbol  Market         Name     Sector          Industry ListingDate  \\\n",
       "3949  066910  KOSDAQ          손오공  기타 전문 도매업  완구, 게임, 캐릭터수입수수료  2005-01-07   \n",
       "6798  005385   KOSPI         현대차우        NaN               NaN         NaT   \n",
       "286   58GD19   KOSPI  KBGD19한국항공콜        NaN               NaN         NaT   \n",
       "\n",
       "     SettleMonth Representative                   HomePage Region  \n",
       "3949         12월            김종완  http://www.sonokong.co.kr    경기도  \n",
       "6798         NaN            NaN                        NaN    NaN  \n",
       "286          NaN            NaN                        NaN    NaN  "
      ]
     },
     "execution_count": 13,
     "metadata": {},
     "output_type": "execute_result"
    }
   ],
   "source": [
    "df_KRX.sample(3)"
   ]
  },
  {
   "cell_type": "code",
   "execution_count": 14,
   "id": "b18c43b2",
   "metadata": {},
   "outputs": [
    {
     "data": {
      "text/plain": [
       "((5189, 10), (6869, 10))"
      ]
     },
     "execution_count": 14,
     "metadata": {},
     "output_type": "execute_result"
    }
   ],
   "source": [
    "# # 데이타프레임명.shape => 행과 열수 반환\n",
    "df_kospi.shape, df_KRX.shape"
   ]
  },
  {
   "cell_type": "code",
   "execution_count": 15,
   "id": "3c1a10b7",
   "metadata": {},
   "outputs": [],
   "source": [
    "# csv 파일 저장\n",
    "# 엑셀용 cp949\n",
    "# encoding='utf-8/cp949'\n",
    "df_kospi.to_csv('output/kospi2.csv', encoding='cp949')\n",
    "df_KRX.to_csv('output/KRX.csv', encoding='cp949')"
   ]
  },
  {
   "cell_type": "code",
   "execution_count": null,
   "id": "fa8f3b59",
   "metadata": {},
   "outputs": [],
   "source": [
    "# ls output"
   ]
  },
  {
   "cell_type": "markdown",
   "id": "605dee13",
   "metadata": {},
   "source": [
    "##### 판다스의 필터링 \n",
    "```\n",
    "데이타프레임[필드명] + (비교연산자 나 논리연산자를 이용한 조건식) => True/False\n",
    "데이타프레임[데이타프레임[필드명] + (비교연산자 나 논리연산자를 이용한 조건식)] => 실제 레코드 반환 \n",
    "```"
   ]
  },
  {
   "cell_type": "code",
   "execution_count": 16,
   "id": "e032f9df",
   "metadata": {},
   "outputs": [
    {
     "data": {
      "text/plain": [
       "1       False\n",
       "2       False\n",
       "6       False\n",
       "7       False\n",
       "8       False\n",
       "        ...  \n",
       "6859    False\n",
       "6863    False\n",
       "6864    False\n",
       "6865    False\n",
       "6866    False\n",
       "Name: Name, Length: 5189, dtype: bool"
      ]
     },
     "execution_count": 16,
     "metadata": {},
     "output_type": "execute_result"
    }
   ],
   "source": [
    "# 삼성전자와 삼성전기의 종목 코드(SYMBOL)는?\n",
    "# 데이타프레임명[조건식]\n",
    "df_kospi['Name'] == '삼성전자'"
   ]
  },
  {
   "cell_type": "code",
   "execution_count": 17,
   "id": "367d5101",
   "metadata": {},
   "outputs": [
    {
     "data": {
      "text/html": [
       "<div>\n",
       "<style scoped>\n",
       "    .dataframe tbody tr th:only-of-type {\n",
       "        vertical-align: middle;\n",
       "    }\n",
       "\n",
       "    .dataframe tbody tr th {\n",
       "        vertical-align: top;\n",
       "    }\n",
       "\n",
       "    .dataframe thead th {\n",
       "        text-align: right;\n",
       "    }\n",
       "</style>\n",
       "<table border=\"1\" class=\"dataframe\">\n",
       "  <thead>\n",
       "    <tr style=\"text-align: right;\">\n",
       "      <th></th>\n",
       "      <th>Symbol</th>\n",
       "      <th>Market</th>\n",
       "      <th>Name</th>\n",
       "      <th>Sector</th>\n",
       "      <th>Industry</th>\n",
       "      <th>ListingDate</th>\n",
       "      <th>SettleMonth</th>\n",
       "      <th>Representative</th>\n",
       "      <th>HomePage</th>\n",
       "      <th>Region</th>\n",
       "    </tr>\n",
       "  </thead>\n",
       "  <tbody>\n",
       "    <tr>\n",
       "      <th>3783</th>\n",
       "      <td>005930</td>\n",
       "      <td>KOSPI</td>\n",
       "      <td>삼성전자</td>\n",
       "      <td>통신 및 방송 장비 제조업</td>\n",
       "      <td>IMT2000 서비스용 동기식 기지국,교환국장비,데이터단말기,동영상휴대폰,핵심칩,반...</td>\n",
       "      <td>1975-06-11</td>\n",
       "      <td>12월</td>\n",
       "      <td>김기남, 김현석, 고동진</td>\n",
       "      <td>http://www.sec.co.kr</td>\n",
       "      <td>경기도</td>\n",
       "    </tr>\n",
       "  </tbody>\n",
       "</table>\n",
       "</div>"
      ],
      "text/plain": [
       "      Symbol Market  Name          Sector  \\\n",
       "3783  005930  KOSPI  삼성전자  통신 및 방송 장비 제조업   \n",
       "\n",
       "                                               Industry ListingDate  \\\n",
       "3783  IMT2000 서비스용 동기식 기지국,교환국장비,데이터단말기,동영상휴대폰,핵심칩,반...  1975-06-11   \n",
       "\n",
       "     SettleMonth Representative              HomePage Region  \n",
       "3783         12월  김기남, 김현석, 고동진  http://www.sec.co.kr    경기도  "
      ]
     },
     "execution_count": 17,
     "metadata": {},
     "output_type": "execute_result"
    }
   ],
   "source": [
    "df_kospi[df_kospi['Name'] == '삼성전자']"
   ]
  },
  {
   "cell_type": "code",
   "execution_count": 18,
   "id": "6c767da8",
   "metadata": {},
   "outputs": [
    {
     "data": {
      "text/html": [
       "<div>\n",
       "<style scoped>\n",
       "    .dataframe tbody tr th:only-of-type {\n",
       "        vertical-align: middle;\n",
       "    }\n",
       "\n",
       "    .dataframe tbody tr th {\n",
       "        vertical-align: top;\n",
       "    }\n",
       "\n",
       "    .dataframe thead th {\n",
       "        text-align: right;\n",
       "    }\n",
       "</style>\n",
       "<table border=\"1\" class=\"dataframe\">\n",
       "  <thead>\n",
       "    <tr style=\"text-align: right;\">\n",
       "      <th></th>\n",
       "      <th>Symbol</th>\n",
       "      <th>Market</th>\n",
       "      <th>Name</th>\n",
       "      <th>Sector</th>\n",
       "      <th>Industry</th>\n",
       "      <th>ListingDate</th>\n",
       "      <th>SettleMonth</th>\n",
       "      <th>Representative</th>\n",
       "      <th>HomePage</th>\n",
       "      <th>Region</th>\n",
       "    </tr>\n",
       "  </thead>\n",
       "  <tbody>\n",
       "    <tr>\n",
       "      <th>3781</th>\n",
       "      <td>009150</td>\n",
       "      <td>KOSPI</td>\n",
       "      <td>삼성전기</td>\n",
       "      <td>전자부품 제조업</td>\n",
       "      <td>영상,음향,통신장비,모듈,다층인쇄회로기판,적층세라믹콘덴서,고주파필터,전압제어발진기,...</td>\n",
       "      <td>1979-02-27</td>\n",
       "      <td>12월</td>\n",
       "      <td>경계현</td>\n",
       "      <td>http://www.sem.samsung.co.kr</td>\n",
       "      <td>경기도</td>\n",
       "    </tr>\n",
       "  </tbody>\n",
       "</table>\n",
       "</div>"
      ],
      "text/plain": [
       "      Symbol Market  Name    Sector  \\\n",
       "3781  009150  KOSPI  삼성전기  전자부품 제조업   \n",
       "\n",
       "                                               Industry ListingDate  \\\n",
       "3781  영상,음향,통신장비,모듈,다층인쇄회로기판,적층세라믹콘덴서,고주파필터,전압제어발진기,...  1979-02-27   \n",
       "\n",
       "     SettleMonth Representative                      HomePage Region  \n",
       "3781         12월            경계현  http://www.sem.samsung.co.kr    경기도  "
      ]
     },
     "execution_count": 18,
     "metadata": {},
     "output_type": "execute_result"
    }
   ],
   "source": [
    "df_kospi[df_kospi['Name'] == '삼성전기']"
   ]
  },
  {
   "cell_type": "markdown",
   "id": "ee1018c6",
   "metadata": {},
   "source": [
    "##### 특정 글자가 삽입된 레코드 필터링 \n",
    "데이타프레임[컬럼명].str.contains(키워드)"
   ]
  },
  {
   "cell_type": "code",
   "execution_count": 21,
   "id": "33d22ecb",
   "metadata": {},
   "outputs": [
    {
     "data": {
      "text/plain": [
       "1       False\n",
       "2       False\n",
       "6       False\n",
       "7       False\n",
       "8       False\n",
       "        ...  \n",
       "6859    False\n",
       "6863    False\n",
       "6864    False\n",
       "6865    False\n",
       "6866    False\n",
       "Name: Name, Length: 5189, dtype: bool"
      ]
     },
     "execution_count": 21,
     "metadata": {},
     "output_type": "execute_result"
    }
   ],
   "source": [
    "df_kospi['Name'].str.contains('삼성')"
   ]
  },
  {
   "cell_type": "code",
   "execution_count": 22,
   "id": "b1c2f08f",
   "metadata": {},
   "outputs": [
    {
     "data": {
      "text/plain": [
       "500"
      ]
     },
     "execution_count": 22,
     "metadata": {},
     "output_type": "execute_result"
    }
   ],
   "source": [
    "df_kospi['Name'].str.contains('삼성').sum()"
   ]
  },
  {
   "cell_type": "code",
   "execution_count": 24,
   "id": "04edd13d",
   "metadata": {},
   "outputs": [
    {
     "data": {
      "text/html": [
       "<div>\n",
       "<style scoped>\n",
       "    .dataframe tbody tr th:only-of-type {\n",
       "        vertical-align: middle;\n",
       "    }\n",
       "\n",
       "    .dataframe tbody tr th {\n",
       "        vertical-align: top;\n",
       "    }\n",
       "\n",
       "    .dataframe thead th {\n",
       "        text-align: right;\n",
       "    }\n",
       "</style>\n",
       "<table border=\"1\" class=\"dataframe\">\n",
       "  <thead>\n",
       "    <tr style=\"text-align: right;\">\n",
       "      <th></th>\n",
       "      <th>Symbol</th>\n",
       "      <th>Market</th>\n",
       "      <th>Name</th>\n",
       "      <th>Sector</th>\n",
       "      <th>Industry</th>\n",
       "      <th>ListingDate</th>\n",
       "      <th>SettleMonth</th>\n",
       "      <th>Representative</th>\n",
       "      <th>HomePage</th>\n",
       "      <th>Region</th>\n",
       "    </tr>\n",
       "  </thead>\n",
       "  <tbody>\n",
       "    <tr>\n",
       "      <th>3337</th>\n",
       "      <td>52GN27</td>\n",
       "      <td>KOSPI</td>\n",
       "      <td>미래GN27삼성전자풋</td>\n",
       "      <td>NaN</td>\n",
       "      <td>NaN</td>\n",
       "      <td>NaT</td>\n",
       "      <td>NaN</td>\n",
       "      <td>NaN</td>\n",
       "      <td>NaN</td>\n",
       "      <td>NaN</td>\n",
       "    </tr>\n",
       "    <tr>\n",
       "      <th>2579</th>\n",
       "      <td>52GB02</td>\n",
       "      <td>KOSPI</td>\n",
       "      <td>미래GB02삼성전자콜</td>\n",
       "      <td>NaN</td>\n",
       "      <td>NaN</td>\n",
       "      <td>NaT</td>\n",
       "      <td>NaN</td>\n",
       "      <td>NaN</td>\n",
       "      <td>NaN</td>\n",
       "      <td>NaN</td>\n",
       "    </tr>\n",
       "    <tr>\n",
       "      <th>3137</th>\n",
       "      <td>52GL25</td>\n",
       "      <td>KOSPI</td>\n",
       "      <td>미래GL25삼성SDI콜</td>\n",
       "      <td>NaN</td>\n",
       "      <td>NaN</td>\n",
       "      <td>NaT</td>\n",
       "      <td>NaN</td>\n",
       "      <td>NaN</td>\n",
       "      <td>NaN</td>\n",
       "      <td>NaN</td>\n",
       "    </tr>\n",
       "    <tr>\n",
       "      <th>858</th>\n",
       "      <td>58GN93</td>\n",
       "      <td>KOSPI</td>\n",
       "      <td>KBGN93삼성전자콜</td>\n",
       "      <td>NaN</td>\n",
       "      <td>NaN</td>\n",
       "      <td>NaT</td>\n",
       "      <td>NaN</td>\n",
       "      <td>NaN</td>\n",
       "      <td>NaN</td>\n",
       "      <td>NaN</td>\n",
       "    </tr>\n",
       "    <tr>\n",
       "      <th>643</th>\n",
       "      <td>58GH93</td>\n",
       "      <td>KOSPI</td>\n",
       "      <td>KBGH93삼성물산콜</td>\n",
       "      <td>NaN</td>\n",
       "      <td>NaN</td>\n",
       "      <td>NaT</td>\n",
       "      <td>NaN</td>\n",
       "      <td>NaN</td>\n",
       "      <td>NaN</td>\n",
       "      <td>NaN</td>\n",
       "    </tr>\n",
       "    <tr>\n",
       "      <th>281</th>\n",
       "      <td>58GD13</td>\n",
       "      <td>KOSPI</td>\n",
       "      <td>KBGD13삼성SDI콜</td>\n",
       "      <td>NaN</td>\n",
       "      <td>NaN</td>\n",
       "      <td>NaT</td>\n",
       "      <td>NaN</td>\n",
       "      <td>NaN</td>\n",
       "      <td>NaN</td>\n",
       "      <td>NaN</td>\n",
       "    </tr>\n",
       "    <tr>\n",
       "      <th>1567</th>\n",
       "      <td>55G846</td>\n",
       "      <td>KOSPI</td>\n",
       "      <td>NHG846삼성전자풋</td>\n",
       "      <td>NaN</td>\n",
       "      <td>NaN</td>\n",
       "      <td>NaT</td>\n",
       "      <td>NaN</td>\n",
       "      <td>NaN</td>\n",
       "      <td>NaN</td>\n",
       "      <td>NaN</td>\n",
       "    </tr>\n",
       "    <tr>\n",
       "      <th>1549</th>\n",
       "      <td>55G825</td>\n",
       "      <td>KOSPI</td>\n",
       "      <td>NHG825삼성SDI풋</td>\n",
       "      <td>NaN</td>\n",
       "      <td>NaN</td>\n",
       "      <td>NaT</td>\n",
       "      <td>NaN</td>\n",
       "      <td>NaN</td>\n",
       "      <td>NaN</td>\n",
       "      <td>NaN</td>\n",
       "    </tr>\n",
       "    <tr>\n",
       "      <th>6035</th>\n",
       "      <td>57GT09</td>\n",
       "      <td>KOSPI</td>\n",
       "      <td>한국GT09삼성전기콜</td>\n",
       "      <td>NaN</td>\n",
       "      <td>NaN</td>\n",
       "      <td>NaT</td>\n",
       "      <td>NaN</td>\n",
       "      <td>NaN</td>\n",
       "      <td>NaN</td>\n",
       "      <td>NaN</td>\n",
       "    </tr>\n",
       "    <tr>\n",
       "      <th>2701</th>\n",
       "      <td>52GE65</td>\n",
       "      <td>KOSPI</td>\n",
       "      <td>미래GE65삼성전기콜</td>\n",
       "      <td>NaN</td>\n",
       "      <td>NaN</td>\n",
       "      <td>NaT</td>\n",
       "      <td>NaN</td>\n",
       "      <td>NaN</td>\n",
       "      <td>NaN</td>\n",
       "      <td>NaN</td>\n",
       "    </tr>\n",
       "  </tbody>\n",
       "</table>\n",
       "</div>"
      ],
      "text/plain": [
       "      Symbol Market          Name Sector Industry ListingDate SettleMonth  \\\n",
       "3337  52GN27  KOSPI   미래GN27삼성전자풋    NaN      NaN         NaT         NaN   \n",
       "2579  52GB02  KOSPI   미래GB02삼성전자콜    NaN      NaN         NaT         NaN   \n",
       "3137  52GL25  KOSPI  미래GL25삼성SDI콜    NaN      NaN         NaT         NaN   \n",
       "858   58GN93  KOSPI   KBGN93삼성전자콜    NaN      NaN         NaT         NaN   \n",
       "643   58GH93  KOSPI   KBGH93삼성물산콜    NaN      NaN         NaT         NaN   \n",
       "281   58GD13  KOSPI  KBGD13삼성SDI콜    NaN      NaN         NaT         NaN   \n",
       "1567  55G846  KOSPI   NHG846삼성전자풋    NaN      NaN         NaT         NaN   \n",
       "1549  55G825  KOSPI  NHG825삼성SDI풋    NaN      NaN         NaT         NaN   \n",
       "6035  57GT09  KOSPI   한국GT09삼성전기콜    NaN      NaN         NaT         NaN   \n",
       "2701  52GE65  KOSPI   미래GE65삼성전기콜    NaN      NaN         NaT         NaN   \n",
       "\n",
       "     Representative HomePage Region  \n",
       "3337            NaN      NaN    NaN  \n",
       "2579            NaN      NaN    NaN  \n",
       "3137            NaN      NaN    NaN  \n",
       "858             NaN      NaN    NaN  \n",
       "643             NaN      NaN    NaN  \n",
       "281             NaN      NaN    NaN  \n",
       "1567            NaN      NaN    NaN  \n",
       "1549            NaN      NaN    NaN  \n",
       "6035            NaN      NaN    NaN  \n",
       "2701            NaN      NaN    NaN  "
      ]
     },
     "execution_count": 24,
     "metadata": {},
     "output_type": "execute_result"
    }
   ],
   "source": [
    "df_kospi[df_kospi['Name'].str.contains('삼성')].sample(10)"
   ]
  },
  {
   "cell_type": "code",
   "execution_count": 25,
   "id": "f7c88998",
   "metadata": {},
   "outputs": [
    {
     "data": {
      "text/html": [
       "<div>\n",
       "<style scoped>\n",
       "    .dataframe tbody tr th:only-of-type {\n",
       "        vertical-align: middle;\n",
       "    }\n",
       "\n",
       "    .dataframe tbody tr th {\n",
       "        vertical-align: top;\n",
       "    }\n",
       "\n",
       "    .dataframe thead th {\n",
       "        text-align: right;\n",
       "    }\n",
       "</style>\n",
       "<table border=\"1\" class=\"dataframe\">\n",
       "  <thead>\n",
       "    <tr style=\"text-align: right;\">\n",
       "      <th></th>\n",
       "      <th>Symbol</th>\n",
       "      <th>Market</th>\n",
       "      <th>Name</th>\n",
       "      <th>Sector</th>\n",
       "      <th>Industry</th>\n",
       "      <th>ListingDate</th>\n",
       "      <th>SettleMonth</th>\n",
       "      <th>Representative</th>\n",
       "      <th>HomePage</th>\n",
       "      <th>Region</th>\n",
       "    </tr>\n",
       "  </thead>\n",
       "  <tbody>\n",
       "    <tr>\n",
       "      <th>1575</th>\n",
       "      <td>181710</td>\n",
       "      <td>KOSPI</td>\n",
       "      <td>NHN</td>\n",
       "      <td>소프트웨어 개발 및 공급업</td>\n",
       "      <td>한게임</td>\n",
       "      <td>2013-08-29</td>\n",
       "      <td>12월</td>\n",
       "      <td>정우진</td>\n",
       "      <td>http://www.nhn.com</td>\n",
       "      <td>경기도</td>\n",
       "    </tr>\n",
       "    <tr>\n",
       "      <th>2037</th>\n",
       "      <td>251270</td>\n",
       "      <td>KOSPI</td>\n",
       "      <td>넷마블</td>\n",
       "      <td>소프트웨어 개발 및 공급업</td>\n",
       "      <td>온라인·모바일 게임 소프트웨어 개발 및 공급</td>\n",
       "      <td>2017-05-12</td>\n",
       "      <td>12월</td>\n",
       "      <td>권영식, 이승원(각자 대표집행임원)</td>\n",
       "      <td>http://company.netmarble.com</td>\n",
       "      <td>서울특별시</td>\n",
       "    </tr>\n",
       "    <tr>\n",
       "      <th>2191</th>\n",
       "      <td>192080</td>\n",
       "      <td>KOSPI</td>\n",
       "      <td>더블유게임즈</td>\n",
       "      <td>소프트웨어 개발 및 공급업</td>\n",
       "      <td>온라인 게임</td>\n",
       "      <td>2019-03-12</td>\n",
       "      <td>12월</td>\n",
       "      <td>김가람</td>\n",
       "      <td>NaN</td>\n",
       "      <td>서울특별시</td>\n",
       "    </tr>\n",
       "    <tr>\n",
       "      <th>4463</th>\n",
       "      <td>036570</td>\n",
       "      <td>KOSPI</td>\n",
       "      <td>엔씨소프트</td>\n",
       "      <td>소프트웨어 개발 및 공급업</td>\n",
       "      <td>인터넷머그게임(리니지),그룹웨어,인터넷커뮤니티 개발,유지,공급</td>\n",
       "      <td>2003-05-22</td>\n",
       "      <td>12월</td>\n",
       "      <td>김택진</td>\n",
       "      <td>http://www.ncsoft.net</td>\n",
       "      <td>서울특별시</td>\n",
       "    </tr>\n",
       "    <tr>\n",
       "      <th>5137</th>\n",
       "      <td>259960</td>\n",
       "      <td>KOSPI</td>\n",
       "      <td>크래프톤</td>\n",
       "      <td>소프트웨어 개발 및 공급업</td>\n",
       "      <td>등 게임 소프트웨어</td>\n",
       "      <td>2021-08-10</td>\n",
       "      <td>12월</td>\n",
       "      <td>김창한</td>\n",
       "      <td>http://www.krafton.com</td>\n",
       "      <td>서울특별시</td>\n",
       "    </tr>\n",
       "    <tr>\n",
       "      <th>6784</th>\n",
       "      <td>307950</td>\n",
       "      <td>KOSPI</td>\n",
       "      <td>현대오토에버</td>\n",
       "      <td>소프트웨어 개발 및 공급업</td>\n",
       "      <td>전산실운영, 시스템구축, 전산장비 납품, SOC/건축 사업</td>\n",
       "      <td>2019-03-28</td>\n",
       "      <td>12월</td>\n",
       "      <td>서정식</td>\n",
       "      <td>http://www.hyundai-autoever.com</td>\n",
       "      <td>서울특별시</td>\n",
       "    </tr>\n",
       "  </tbody>\n",
       "</table>\n",
       "</div>"
      ],
      "text/plain": [
       "      Symbol Market    Name          Sector  \\\n",
       "1575  181710  KOSPI     NHN  소프트웨어 개발 및 공급업   \n",
       "2037  251270  KOSPI     넷마블  소프트웨어 개발 및 공급업   \n",
       "2191  192080  KOSPI  더블유게임즈  소프트웨어 개발 및 공급업   \n",
       "4463  036570  KOSPI   엔씨소프트  소프트웨어 개발 및 공급업   \n",
       "5137  259960  KOSPI    크래프톤  소프트웨어 개발 및 공급업   \n",
       "6784  307950  KOSPI  현대오토에버  소프트웨어 개발 및 공급업   \n",
       "\n",
       "                                Industry ListingDate SettleMonth  \\\n",
       "1575                                 한게임  2013-08-29         12월   \n",
       "2037            온라인·모바일 게임 소프트웨어 개발 및 공급  2017-05-12         12월   \n",
       "2191                              온라인 게임  2019-03-12         12월   \n",
       "4463  인터넷머그게임(리니지),그룹웨어,인터넷커뮤니티 개발,유지,공급  2003-05-22         12월   \n",
       "5137                          등 게임 소프트웨어  2021-08-10         12월   \n",
       "6784    전산실운영, 시스템구축, 전산장비 납품, SOC/건축 사업  2019-03-28         12월   \n",
       "\n",
       "           Representative                         HomePage Region  \n",
       "1575                  정우진               http://www.nhn.com    경기도  \n",
       "2037  권영식, 이승원(각자 대표집행임원)     http://company.netmarble.com  서울특별시  \n",
       "2191                  김가람                              NaN  서울특별시  \n",
       "4463                  김택진            http://www.ncsoft.net  서울특별시  \n",
       "5137                  김창한           http://www.krafton.com  서울특별시  \n",
       "6784                  서정식  http://www.hyundai-autoever.com  서울특별시  "
      ]
     },
     "execution_count": 25,
     "metadata": {},
     "output_type": "execute_result"
    }
   ],
   "source": [
    "df_kospi[df_kospi['Sector'].str.contains('소프트웨어')==True]"
   ]
  },
  {
   "cell_type": "markdown",
   "id": "c784579f",
   "metadata": {},
   "source": [
    "#### 실제 주식 데이타 => 데이타프레임 \n",
    "- fdr.DataReader(종목코드, 년도)\n",
    "- fdr.DataReader(종목코드, start, end)"
   ]
  },
  {
   "cell_type": "markdown",
   "id": "8bf11e93",
   "metadata": {},
   "source": [
    "##### 삼성전자 005930 , 삼성전기 009150"
   ]
  },
  {
   "cell_type": "code",
   "execution_count": 26,
   "id": "1da4baf9",
   "metadata": {},
   "outputs": [
    {
     "data": {
      "text/plain": [
       "((219, 6), (219, 6))"
      ]
     },
     "execution_count": 26,
     "metadata": {},
     "output_type": "execute_result"
    }
   ],
   "source": [
    "df_samsung1 = fdr.DataReader(\"005930\", '2021')\n",
    "df_samsung2 = fdr.DataReader(\"009150\", '2021')\n",
    "df_samsung1.shape, df_samsung2.shape"
   ]
  },
  {
   "cell_type": "code",
   "execution_count": 27,
   "id": "e3b21358",
   "metadata": {},
   "outputs": [
    {
     "data": {
      "text/html": [
       "<div>\n",
       "<style scoped>\n",
       "    .dataframe tbody tr th:only-of-type {\n",
       "        vertical-align: middle;\n",
       "    }\n",
       "\n",
       "    .dataframe tbody tr th {\n",
       "        vertical-align: top;\n",
       "    }\n",
       "\n",
       "    .dataframe thead th {\n",
       "        text-align: right;\n",
       "    }\n",
       "</style>\n",
       "<table border=\"1\" class=\"dataframe\">\n",
       "  <thead>\n",
       "    <tr style=\"text-align: right;\">\n",
       "      <th></th>\n",
       "      <th>Open</th>\n",
       "      <th>High</th>\n",
       "      <th>Low</th>\n",
       "      <th>Close</th>\n",
       "      <th>Volume</th>\n",
       "      <th>Change</th>\n",
       "    </tr>\n",
       "    <tr>\n",
       "      <th>Date</th>\n",
       "      <th></th>\n",
       "      <th></th>\n",
       "      <th></th>\n",
       "      <th></th>\n",
       "      <th></th>\n",
       "      <th></th>\n",
       "    </tr>\n",
       "  </thead>\n",
       "  <tbody>\n",
       "    <tr>\n",
       "      <th>2021-01-04</th>\n",
       "      <td>81000</td>\n",
       "      <td>84400</td>\n",
       "      <td>80200</td>\n",
       "      <td>83000</td>\n",
       "      <td>38655276</td>\n",
       "      <td>0.024691</td>\n",
       "    </tr>\n",
       "    <tr>\n",
       "      <th>2021-01-05</th>\n",
       "      <td>81600</td>\n",
       "      <td>83900</td>\n",
       "      <td>81600</td>\n",
       "      <td>83900</td>\n",
       "      <td>35335669</td>\n",
       "      <td>0.010843</td>\n",
       "    </tr>\n",
       "  </tbody>\n",
       "</table>\n",
       "</div>"
      ],
      "text/plain": [
       "             Open   High    Low  Close    Volume    Change\n",
       "Date                                                      \n",
       "2021-01-04  81000  84400  80200  83000  38655276  0.024691\n",
       "2021-01-05  81600  83900  81600  83900  35335669  0.010843"
      ]
     },
     "execution_count": 27,
     "metadata": {},
     "output_type": "execute_result"
    }
   ],
   "source": [
    "df_samsung1.head(2)"
   ]
  },
  {
   "cell_type": "code",
   "execution_count": 28,
   "id": "17edfc57",
   "metadata": {},
   "outputs": [
    {
     "data": {
      "text/html": [
       "<div>\n",
       "<style scoped>\n",
       "    .dataframe tbody tr th:only-of-type {\n",
       "        vertical-align: middle;\n",
       "    }\n",
       "\n",
       "    .dataframe tbody tr th {\n",
       "        vertical-align: top;\n",
       "    }\n",
       "\n",
       "    .dataframe thead th {\n",
       "        text-align: right;\n",
       "    }\n",
       "</style>\n",
       "<table border=\"1\" class=\"dataframe\">\n",
       "  <thead>\n",
       "    <tr style=\"text-align: right;\">\n",
       "      <th></th>\n",
       "      <th>Open</th>\n",
       "      <th>High</th>\n",
       "      <th>Low</th>\n",
       "      <th>Close</th>\n",
       "      <th>Volume</th>\n",
       "      <th>Change</th>\n",
       "    </tr>\n",
       "    <tr>\n",
       "      <th>Date</th>\n",
       "      <th></th>\n",
       "      <th></th>\n",
       "      <th></th>\n",
       "      <th></th>\n",
       "      <th></th>\n",
       "      <th></th>\n",
       "    </tr>\n",
       "  </thead>\n",
       "  <tbody>\n",
       "    <tr>\n",
       "      <th>2021-11-18</th>\n",
       "      <td>70700</td>\n",
       "      <td>71000</td>\n",
       "      <td>70200</td>\n",
       "      <td>70200</td>\n",
       "      <td>10144957</td>\n",
       "      <td>-0.007072</td>\n",
       "    </tr>\n",
       "    <tr>\n",
       "      <th>2021-11-19</th>\n",
       "      <td>70400</td>\n",
       "      <td>71400</td>\n",
       "      <td>70100</td>\n",
       "      <td>71200</td>\n",
       "      <td>11909349</td>\n",
       "      <td>0.014245</td>\n",
       "    </tr>\n",
       "  </tbody>\n",
       "</table>\n",
       "</div>"
      ],
      "text/plain": [
       "             Open   High    Low  Close    Volume    Change\n",
       "Date                                                      \n",
       "2021-11-18  70700  71000  70200  70200  10144957 -0.007072\n",
       "2021-11-19  70400  71400  70100  71200  11909349  0.014245"
      ]
     },
     "execution_count": 28,
     "metadata": {},
     "output_type": "execute_result"
    }
   ],
   "source": [
    "df_samsung1.tail(2)"
   ]
  },
  {
   "cell_type": "code",
   "execution_count": 29,
   "id": "09adfdf1",
   "metadata": {},
   "outputs": [
    {
     "name": "stdout",
     "output_type": "stream",
     "text": [
      "<class 'pandas.core.frame.DataFrame'>\n",
      "DatetimeIndex: 219 entries, 2021-01-04 to 2021-11-19\n",
      "Data columns (total 6 columns):\n",
      " #   Column  Non-Null Count  Dtype  \n",
      "---  ------  --------------  -----  \n",
      " 0   Open    219 non-null    int64  \n",
      " 1   High    219 non-null    int64  \n",
      " 2   Low     219 non-null    int64  \n",
      " 3   Close   219 non-null    int64  \n",
      " 4   Volume  219 non-null    int64  \n",
      " 5   Change  219 non-null    float64\n",
      "dtypes: float64(1), int64(5)\n",
      "memory usage: 12.0 KB\n"
     ]
    }
   ],
   "source": [
    "df_samsung1.info()"
   ]
  },
  {
   "cell_type": "code",
   "execution_count": 31,
   "id": "b02b5215",
   "metadata": {},
   "outputs": [
    {
     "data": {
      "text/html": [
       "<div>\n",
       "<style scoped>\n",
       "    .dataframe tbody tr th:only-of-type {\n",
       "        vertical-align: middle;\n",
       "    }\n",
       "\n",
       "    .dataframe tbody tr th {\n",
       "        vertical-align: top;\n",
       "    }\n",
       "\n",
       "    .dataframe thead th {\n",
       "        text-align: right;\n",
       "    }\n",
       "</style>\n",
       "<table border=\"1\" class=\"dataframe\">\n",
       "  <thead>\n",
       "    <tr style=\"text-align: right;\">\n",
       "      <th></th>\n",
       "      <th>Open</th>\n",
       "      <th>High</th>\n",
       "      <th>Low</th>\n",
       "      <th>Close</th>\n",
       "      <th>Volume</th>\n",
       "      <th>Change</th>\n",
       "    </tr>\n",
       "    <tr>\n",
       "      <th>Date</th>\n",
       "      <th></th>\n",
       "      <th></th>\n",
       "      <th></th>\n",
       "      <th></th>\n",
       "      <th></th>\n",
       "      <th></th>\n",
       "    </tr>\n",
       "  </thead>\n",
       "  <tbody>\n",
       "    <tr>\n",
       "      <th>2021-11-01</th>\n",
       "      <td>70200</td>\n",
       "      <td>70600</td>\n",
       "      <td>69900</td>\n",
       "      <td>69900</td>\n",
       "      <td>11503729</td>\n",
       "      <td>0.001433</td>\n",
       "    </tr>\n",
       "    <tr>\n",
       "      <th>2021-11-02</th>\n",
       "      <td>70800</td>\n",
       "      <td>72200</td>\n",
       "      <td>70700</td>\n",
       "      <td>71500</td>\n",
       "      <td>16812570</td>\n",
       "      <td>0.022890</td>\n",
       "    </tr>\n",
       "    <tr>\n",
       "      <th>2021-11-03</th>\n",
       "      <td>71700</td>\n",
       "      <td>71700</td>\n",
       "      <td>70100</td>\n",
       "      <td>70400</td>\n",
       "      <td>12770428</td>\n",
       "      <td>-0.015385</td>\n",
       "    </tr>\n",
       "    <tr>\n",
       "      <th>2021-11-04</th>\n",
       "      <td>71200</td>\n",
       "      <td>71600</td>\n",
       "      <td>70500</td>\n",
       "      <td>70600</td>\n",
       "      <td>11818987</td>\n",
       "      <td>0.002841</td>\n",
       "    </tr>\n",
       "    <tr>\n",
       "      <th>2021-11-05</th>\n",
       "      <td>71600</td>\n",
       "      <td>71600</td>\n",
       "      <td>70200</td>\n",
       "      <td>70200</td>\n",
       "      <td>12667743</td>\n",
       "      <td>-0.005666</td>\n",
       "    </tr>\n",
       "    <tr>\n",
       "      <th>2021-11-08</th>\n",
       "      <td>70400</td>\n",
       "      <td>70600</td>\n",
       "      <td>69800</td>\n",
       "      <td>70600</td>\n",
       "      <td>11121981</td>\n",
       "      <td>0.005698</td>\n",
       "    </tr>\n",
       "    <tr>\n",
       "      <th>2021-11-09</th>\n",
       "      <td>70300</td>\n",
       "      <td>71000</td>\n",
       "      <td>70100</td>\n",
       "      <td>70500</td>\n",
       "      <td>11159589</td>\n",
       "      <td>-0.001416</td>\n",
       "    </tr>\n",
       "    <tr>\n",
       "      <th>2021-11-10</th>\n",
       "      <td>70300</td>\n",
       "      <td>70900</td>\n",
       "      <td>70200</td>\n",
       "      <td>70200</td>\n",
       "      <td>9422009</td>\n",
       "      <td>-0.004255</td>\n",
       "    </tr>\n",
       "    <tr>\n",
       "      <th>2021-11-11</th>\n",
       "      <td>69900</td>\n",
       "      <td>70000</td>\n",
       "      <td>69600</td>\n",
       "      <td>69900</td>\n",
       "      <td>11489122</td>\n",
       "      <td>-0.004274</td>\n",
       "    </tr>\n",
       "    <tr>\n",
       "      <th>2021-11-12</th>\n",
       "      <td>70200</td>\n",
       "      <td>70900</td>\n",
       "      <td>69900</td>\n",
       "      <td>70600</td>\n",
       "      <td>10087450</td>\n",
       "      <td>0.010014</td>\n",
       "    </tr>\n",
       "    <tr>\n",
       "      <th>2021-11-15</th>\n",
       "      <td>71700</td>\n",
       "      <td>71900</td>\n",
       "      <td>70900</td>\n",
       "      <td>71400</td>\n",
       "      <td>12420710</td>\n",
       "      <td>0.011331</td>\n",
       "    </tr>\n",
       "    <tr>\n",
       "      <th>2021-11-16</th>\n",
       "      <td>71500</td>\n",
       "      <td>72000</td>\n",
       "      <td>71300</td>\n",
       "      <td>71300</td>\n",
       "      <td>10919239</td>\n",
       "      <td>-0.001401</td>\n",
       "    </tr>\n",
       "    <tr>\n",
       "      <th>2021-11-17</th>\n",
       "      <td>71300</td>\n",
       "      <td>71600</td>\n",
       "      <td>70600</td>\n",
       "      <td>70700</td>\n",
       "      <td>11027606</td>\n",
       "      <td>-0.008415</td>\n",
       "    </tr>\n",
       "    <tr>\n",
       "      <th>2021-11-18</th>\n",
       "      <td>70700</td>\n",
       "      <td>71000</td>\n",
       "      <td>70200</td>\n",
       "      <td>70200</td>\n",
       "      <td>10144957</td>\n",
       "      <td>-0.007072</td>\n",
       "    </tr>\n",
       "    <tr>\n",
       "      <th>2021-11-19</th>\n",
       "      <td>70400</td>\n",
       "      <td>71400</td>\n",
       "      <td>70100</td>\n",
       "      <td>71200</td>\n",
       "      <td>11909349</td>\n",
       "      <td>0.014245</td>\n",
       "    </tr>\n",
       "  </tbody>\n",
       "</table>\n",
       "</div>"
      ],
      "text/plain": [
       "             Open   High    Low  Close    Volume    Change\n",
       "Date                                                      \n",
       "2021-11-01  70200  70600  69900  69900  11503729  0.001433\n",
       "2021-11-02  70800  72200  70700  71500  16812570  0.022890\n",
       "2021-11-03  71700  71700  70100  70400  12770428 -0.015385\n",
       "2021-11-04  71200  71600  70500  70600  11818987  0.002841\n",
       "2021-11-05  71600  71600  70200  70200  12667743 -0.005666\n",
       "2021-11-08  70400  70600  69800  70600  11121981  0.005698\n",
       "2021-11-09  70300  71000  70100  70500  11159589 -0.001416\n",
       "2021-11-10  70300  70900  70200  70200   9422009 -0.004255\n",
       "2021-11-11  69900  70000  69600  69900  11489122 -0.004274\n",
       "2021-11-12  70200  70900  69900  70600  10087450  0.010014\n",
       "2021-11-15  71700  71900  70900  71400  12420710  0.011331\n",
       "2021-11-16  71500  72000  71300  71300  10919239 -0.001401\n",
       "2021-11-17  71300  71600  70600  70700  11027606 -0.008415\n",
       "2021-11-18  70700  71000  70200  70200  10144957 -0.007072\n",
       "2021-11-19  70400  71400  70100  71200  11909349  0.014245"
      ]
     },
     "execution_count": 31,
     "metadata": {},
     "output_type": "execute_result"
    }
   ],
   "source": [
    "# 2021년 11월 만 \n",
    "df_samsung1['2021-11']"
   ]
  },
  {
   "cell_type": "code",
   "execution_count": 32,
   "id": "04c906ad",
   "metadata": {},
   "outputs": [
    {
     "data": {
      "text/plain": [
       "Date\n",
       "2021-11-01    11503729\n",
       "2021-11-02    16812570\n",
       "2021-11-03    12770428\n",
       "2021-11-04    11818987\n",
       "2021-11-05    12667743\n",
       "2021-11-08    11121981\n",
       "2021-11-09    11159589\n",
       "2021-11-10     9422009\n",
       "2021-11-11    11489122\n",
       "2021-11-12    10087450\n",
       "2021-11-15    12420710\n",
       "2021-11-16    10919239\n",
       "2021-11-17    11027606\n",
       "2021-11-18    10144957\n",
       "2021-11-19    11909349\n",
       "Name: Volume, dtype: int64"
      ]
     },
     "execution_count": 32,
     "metadata": {},
     "output_type": "execute_result"
    }
   ],
   "source": [
    "df_samsung1['2021-11']['Volume']"
   ]
  },
  {
   "cell_type": "code",
   "execution_count": null,
   "id": "aa83d425",
   "metadata": {},
   "outputs": [],
   "source": []
  },
  {
   "cell_type": "code",
   "execution_count": 33,
   "id": "e4b33329",
   "metadata": {},
   "outputs": [
    {
     "data": {
      "image/png": "[encoded data removed]",
      "text/plain": [
       "<Figure size 1440x360 with 1 Axes>"
      ]
     },
     "metadata": {
      "needs_background": "light"
     },
     "output_type": "display_data"
    }
   ],
   "source": [
    "# 그래프 크기 비율 \n",
    "plt.figure(figsize=(20,5))\n",
    "plt.xticks(rotation=45) # 라벨 글자 회전 \n",
    "# sns.lineplot(x=데이타프레임명.index, y=\"컬럼명\", data=데이타프레임명, label='범례글');\n",
    "sns.lineplot(x=df_samsung1.index, y=\"Close\", data=df_samsung1, label='삼성전자');\n",
    "sns.lineplot(x=df_samsung2.index, y=\"Close\", data=df_samsung2, label='삼성전기');\n",
    "# 그래프를 이미지로 저장 \n",
    "plt.savefig('output/graph.png')"
   ]
  },
  {
   "cell_type": "code",
   "execution_count": 34,
   "id": "51711f28",
   "metadata": {},
   "outputs": [
    {
     "name": "stdout",
     "output_type": "stream",
     "text": [
      " C 드라이브의 볼륨에는 이름이 없습니다.\n",
      " 볼륨 일련 번호: 2819-FF50\n",
      "\n",
      " C:\\workspace211115\\output 디렉터리\n",
      "\n",
      "2021-11-20  오전 09:49    <DIR>          .\n",
      "2021-11-20  오전 09:49    <DIR>          ..\n",
      "2021-11-15  오후 01:30               738 city10A.csv\n",
      "2021-11-15  오후 01:30               360 city10B.csv\n",
      "2021-11-15  오전 11:19               109 data2.csv\n",
      "2021-11-20  오전 09:49            41,321 graph.png\n",
      "2021-11-20  오전 09:23           326,654 kospi2.csv\n",
      "2021-11-20  오전 09:23           563,537 KRX.csv\n",
      "2021-11-15  오전 11:19               237 population2.csv\n",
      "2021-11-16  오전 02:04             5,632 traffic.xls\n",
      "               8개 파일             938,588 바이트\n",
      "               2개 디렉터리  72,905,814,016 바이트 남음\n"
     ]
    }
   ],
   "source": [
    "ls output"
   ]
  },
  {
   "cell_type": "markdown",
   "id": "449875f0",
   "metadata": {},
   "source": [
    "### 환율 데이타\n",
    "\n",
    "```\n",
    "USD/KRW   달러당 원화 환율\n",
    "USD/EUR   달러당 유로화 환율\n",
    "USD/JPY   달러당 엔화 환율\n",
    "CNY/KRW   위엔화 원화 환율\n",
    "EUR/USD   유로화 달러 환율\n",
    "USD/JPY   달러 엔화 환율\n",
    "JPY/KRW   엔화 원화 환율\n",
    "AUD/USD   오스트레일리아 달러 환율\n",
    "EUR/JPY   유로화 엔화 환율\n",
    "USD/RUB   달러 루블화\n",
    "```\n",
    "\n",
    "- 데이타프레임명 = fdr.DataReader(환율코드, 년도 )"
   ]
  },
  {
   "cell_type": "code",
   "execution_count": 35,
   "id": "277ec2a6",
   "metadata": {},
   "outputs": [
    {
     "data": {
      "text/plain": [
       "(231, 5)"
      ]
     },
     "execution_count": 35,
     "metadata": {},
     "output_type": "execute_result"
    }
   ],
   "source": [
    "df_usd_krw = fdr.DataReader('USD/KRW', '2021')\n",
    "df_usd_krw.shape"
   ]
  },
  {
   "cell_type": "code",
   "execution_count": 37,
   "id": "1842dd71",
   "metadata": {},
   "outputs": [
    {
     "data": {
      "text/html": [
       "<div>\n",
       "<style scoped>\n",
       "    .dataframe tbody tr th:only-of-type {\n",
       "        vertical-align: middle;\n",
       "    }\n",
       "\n",
       "    .dataframe tbody tr th {\n",
       "        vertical-align: top;\n",
       "    }\n",
       "\n",
       "    .dataframe thead th {\n",
       "        text-align: right;\n",
       "    }\n",
       "</style>\n",
       "<table border=\"1\" class=\"dataframe\">\n",
       "  <thead>\n",
       "    <tr style=\"text-align: right;\">\n",
       "      <th></th>\n",
       "      <th>Close</th>\n",
       "      <th>Open</th>\n",
       "      <th>High</th>\n",
       "      <th>Low</th>\n",
       "      <th>Change</th>\n",
       "    </tr>\n",
       "    <tr>\n",
       "      <th>Date</th>\n",
       "      <th></th>\n",
       "      <th></th>\n",
       "      <th></th>\n",
       "      <th></th>\n",
       "      <th></th>\n",
       "    </tr>\n",
       "  </thead>\n",
       "  <tbody>\n",
       "    <tr>\n",
       "      <th>2021-11-17</th>\n",
       "      <td>1180.46</td>\n",
       "      <td>1183.99</td>\n",
       "      <td>1186.96</td>\n",
       "      <td>1179.58</td>\n",
       "      <td>-0.0029</td>\n",
       "    </tr>\n",
       "    <tr>\n",
       "      <th>2021-11-18</th>\n",
       "      <td>1182.99</td>\n",
       "      <td>1180.08</td>\n",
       "      <td>1187.72</td>\n",
       "      <td>1178.21</td>\n",
       "      <td>0.0021</td>\n",
       "    </tr>\n",
       "    <tr>\n",
       "      <th>2021-11-19</th>\n",
       "      <td>1187.28</td>\n",
       "      <td>1183.00</td>\n",
       "      <td>1194.47</td>\n",
       "      <td>1181.35</td>\n",
       "      <td>0.0036</td>\n",
       "    </tr>\n",
       "  </tbody>\n",
       "</table>\n",
       "</div>"
      ],
      "text/plain": [
       "              Close     Open     High      Low  Change\n",
       "Date                                                  \n",
       "2021-11-17  1180.46  1183.99  1186.96  1179.58 -0.0029\n",
       "2021-11-18  1182.99  1180.08  1187.72  1178.21  0.0021\n",
       "2021-11-19  1187.28  1183.00  1194.47  1181.35  0.0036"
      ]
     },
     "execution_count": 37,
     "metadata": {},
     "output_type": "execute_result"
    }
   ],
   "source": [
    "df_usd_krw.tail(3)"
   ]
  },
  {
   "cell_type": "code",
   "execution_count": 39,
   "id": "7715ddae",
   "metadata": {},
   "outputs": [
    {
     "data": {
      "image/png": "[encoded data removed]",
      "text/plain": [
       "<Figure size 1440x360 with 1 Axes>"
      ]
     },
     "metadata": {
      "needs_background": "light"
     },
     "output_type": "display_data"
    }
   ],
   "source": [
    "# 그래프화\n",
    "# 데이타프레임명[필드명].plot()\n",
    "plt.figure(figsize=(20,5))\n",
    "df_usd_krw['Close'].plot();"
   ]
  },
  {
   "cell_type": "markdown",
   "id": "80887faf",
   "metadata": {},
   "source": [
    "# 비트코인\n",
    "```\n",
    "심볼\t설명\n",
    "BTC/KRW\t비트코인 원화 가격\n",
    "ETH/KRW\t이더리움 원화 가격\n",
    "XRP/KRW\t리플 원화 가격\n",
    "BCH/KRW\t비트코인 캐시 원화 가격\n",
    "EOS/KRW\t이오스 원화 가격\n",
    "LTC/KRW\t라이트 코인 원화 가격\n",
    "XLM/KRW\t스텔라 원화 가격\n",
    "```"
   ]
  },
  {
   "cell_type": "code",
   "execution_count": 40,
   "id": "faf685ad",
   "metadata": {},
   "outputs": [
    {
     "data": {
      "text/html": [
       "<div>\n",
       "<style scoped>\n",
       "    .dataframe tbody tr th:only-of-type {\n",
       "        vertical-align: middle;\n",
       "    }\n",
       "\n",
       "    .dataframe tbody tr th {\n",
       "        vertical-align: top;\n",
       "    }\n",
       "\n",
       "    .dataframe thead th {\n",
       "        text-align: right;\n",
       "    }\n",
       "</style>\n",
       "<table border=\"1\" class=\"dataframe\">\n",
       "  <thead>\n",
       "    <tr style=\"text-align: right;\">\n",
       "      <th></th>\n",
       "      <th>Close</th>\n",
       "      <th>Open</th>\n",
       "      <th>High</th>\n",
       "      <th>Low</th>\n",
       "      <th>Volume</th>\n",
       "      <th>Change</th>\n",
       "    </tr>\n",
       "    <tr>\n",
       "      <th>Date</th>\n",
       "      <th></th>\n",
       "      <th></th>\n",
       "      <th></th>\n",
       "      <th></th>\n",
       "      <th></th>\n",
       "      <th></th>\n",
       "    </tr>\n",
       "  </thead>\n",
       "  <tbody>\n",
       "    <tr>\n",
       "      <th>2021-01-01</th>\n",
       "      <td>32312000</td>\n",
       "      <td>32023000</td>\n",
       "      <td>32414000</td>\n",
       "      <td>32023000</td>\n",
       "      <td>1360.0</td>\n",
       "      <td>0.0089</td>\n",
       "    </tr>\n",
       "    <tr>\n",
       "      <th>2021-01-02</th>\n",
       "      <td>35705000</td>\n",
       "      <td>32314000</td>\n",
       "      <td>36184000</td>\n",
       "      <td>32314000</td>\n",
       "      <td>6980.0</td>\n",
       "      <td>0.1050</td>\n",
       "    </tr>\n",
       "    <tr>\n",
       "      <th>2021-01-03</th>\n",
       "      <td>37586000</td>\n",
       "      <td>35705000</td>\n",
       "      <td>37586000</td>\n",
       "      <td>35705000</td>\n",
       "      <td>5430.0</td>\n",
       "      <td>0.0527</td>\n",
       "    </tr>\n",
       "    <tr>\n",
       "      <th>2021-01-04</th>\n",
       "      <td>36499000</td>\n",
       "      <td>37553000</td>\n",
       "      <td>38113000</td>\n",
       "      <td>36499000</td>\n",
       "      <td>2920.0</td>\n",
       "      <td>-0.0289</td>\n",
       "    </tr>\n",
       "    <tr>\n",
       "      <th>2021-01-05</th>\n",
       "      <td>37962000</td>\n",
       "      <td>36475000</td>\n",
       "      <td>37962000</td>\n",
       "      <td>35190000</td>\n",
       "      <td>4170.0</td>\n",
       "      <td>0.0401</td>\n",
       "    </tr>\n",
       "    <tr>\n",
       "      <th>...</th>\n",
       "      <td>...</td>\n",
       "      <td>...</td>\n",
       "      <td>...</td>\n",
       "      <td>...</td>\n",
       "      <td>...</td>\n",
       "      <td>...</td>\n",
       "    </tr>\n",
       "    <tr>\n",
       "      <th>2021-11-16</th>\n",
       "      <td>73884000</td>\n",
       "      <td>77530000</td>\n",
       "      <td>77558000</td>\n",
       "      <td>73126000</td>\n",
       "      <td>1100.0</td>\n",
       "      <td>-0.0474</td>\n",
       "    </tr>\n",
       "    <tr>\n",
       "      <th>2021-11-17</th>\n",
       "      <td>73962000</td>\n",
       "      <td>73882000</td>\n",
       "      <td>74581000</td>\n",
       "      <td>71822000</td>\n",
       "      <td>1100.0</td>\n",
       "      <td>0.0011</td>\n",
       "    </tr>\n",
       "    <tr>\n",
       "      <th>2021-11-18</th>\n",
       "      <td>70388000</td>\n",
       "      <td>73952000</td>\n",
       "      <td>74396000</td>\n",
       "      <td>69846000</td>\n",
       "      <td>1780.0</td>\n",
       "      <td>-0.0483</td>\n",
       "    </tr>\n",
       "    <tr>\n",
       "      <th>2021-11-19</th>\n",
       "      <td>71782000</td>\n",
       "      <td>70388000</td>\n",
       "      <td>72218000</td>\n",
       "      <td>69032000</td>\n",
       "      <td>840.0</td>\n",
       "      <td>0.0198</td>\n",
       "    </tr>\n",
       "    <tr>\n",
       "      <th>2021-11-20</th>\n",
       "      <td>72051000</td>\n",
       "      <td>71786000</td>\n",
       "      <td>72332000</td>\n",
       "      <td>71586000</td>\n",
       "      <td>1030.0</td>\n",
       "      <td>0.0037</td>\n",
       "    </tr>\n",
       "  </tbody>\n",
       "</table>\n",
       "<p>324 rows × 6 columns</p>\n",
       "</div>"
      ],
      "text/plain": [
       "               Close      Open      High       Low  Volume  Change\n",
       "Date                                                              \n",
       "2021-01-01  32312000  32023000  32414000  32023000  1360.0  0.0089\n",
       "2021-01-02  35705000  32314000  36184000  32314000  6980.0  0.1050\n",
       "2021-01-03  37586000  35705000  37586000  35705000  5430.0  0.0527\n",
       "2021-01-04  36499000  37553000  38113000  36499000  2920.0 -0.0289\n",
       "2021-01-05  37962000  36475000  37962000  35190000  4170.0  0.0401\n",
       "...              ...       ...       ...       ...     ...     ...\n",
       "2021-11-16  73884000  77530000  77558000  73126000  1100.0 -0.0474\n",
       "2021-11-17  73962000  73882000  74581000  71822000  1100.0  0.0011\n",
       "2021-11-18  70388000  73952000  74396000  69846000  1780.0 -0.0483\n",
       "2021-11-19  71782000  70388000  72218000  69032000   840.0  0.0198\n",
       "2021-11-20  72051000  71786000  72332000  71586000  1030.0  0.0037\n",
       "\n",
       "[324 rows x 6 columns]"
      ]
     },
     "execution_count": 40,
     "metadata": {},
     "output_type": "execute_result"
    }
   ],
   "source": [
    "df_btc_krw = fdr.DataReader('BTC/KRW', '2021')\n",
    "df_btc_krw"
   ]
  },
  {
   "cell_type": "code",
   "execution_count": 41,
   "id": "87616883",
   "metadata": {},
   "outputs": [
    {
     "data": {
      "image/png": "[encoded data removed]",
      "text/plain": [
       "<Figure size 1440x360 with 1 Axes>"
      ]
     },
     "metadata": {
      "needs_background": "light"
     },
     "output_type": "display_data"
    }
   ],
   "source": [
    "plt.figure(figsize=(20,5))\n",
    "df_btc_krw['Close'].plot();"
   ]
  },
  {
   "cell_type": "code",
   "execution_count": null,
   "id": "86c2f684",
   "metadata": {},
   "outputs": [],
   "source": []
  },
  {
   "cell_type": "code",
   "execution_count": null,
   "id": "66a0a231",
   "metadata": {},
   "outputs": [],
   "source": []
  },
  {
   "cell_type": "code",
   "execution_count": null,
   "id": "547248b1",
   "metadata": {},
   "outputs": [],
   "source": []
  },
  {
   "cell_type": "code",
   "execution_count": null,
   "id": "b6630123",
   "metadata": {},
   "outputs": [],
   "source": []
  },
  {
   "cell_type": "code",
   "execution_count": null,
   "id": "18e74eff",
   "metadata": {},
   "outputs": [],
   "source": []
  },
  {
   "cell_type": "code",
   "execution_count": null,
   "id": "d848cfe6",
   "metadata": {},
   "outputs": [],
   "source": []
  }
 ],
 "metadata": {
  "kernelspec": {
   "display_name": "Python 3",
   "language": "python",
   "name": "python3"
  },
  "language_info": {
   "codemirror_mode": {
    "name": "ipython",
    "version": 3
   },
   "file_extension": ".py",
   "mimetype": "text/x-python",
   "name": "python",
   "nbconvert_exporter": "python",
   "pygments_lexer": "ipython3",
   "version": "3.8.8"
  }
 },
 "nbformat": 4,
 "nbformat_minor": 5
}
