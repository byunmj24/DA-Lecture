{
 "cells": [
  {
   "cell_type": "markdown",
   "id": "85570ea5",
   "metadata": {},
   "source": [
    "## 8.12"
   ]
  },
  {
   "cell_type": "code",
   "execution_count": 2,
   "id": "9a5e6c45",
   "metadata": {},
   "outputs": [
    {
     "name": "stdout",
     "output_type": "stream",
     "text": [
      "Got 0\n",
      "Got 1\n",
      "Got 2\n",
      "Got 3\n",
      "Got 4\n",
      "Got 5\n",
      "Got 6\n",
      "Got 7\n",
      "Got 8\n",
      "Got 9\n"
     ]
    }
   ],
   "source": [
    "for x in range(10):\n",
    "    print('Got', x)"
   ]
  },
  {
   "cell_type": "markdown",
   "id": "f37b14de",
   "metadata": {},
   "source": [
    "## 8.13"
   ]
  },
  {
   "cell_type": "code",
   "execution_count": 13,
   "id": "0778907a",
   "metadata": {},
   "outputs": [],
   "source": [
    "zipKey = ('optimist', 'pessimist', 'roll')\n",
    "zipValue = ('The glass is half full', \n",
    "            'The glass is half empty', \n",
    "            'How did you get a glass?')"
   ]
  },
  {
   "cell_type": "code",
   "execution_count": 25,
   "id": "7b25000c",
   "metadata": {},
   "outputs": [],
   "source": [
    "list_dict = []\n",
    "for key, value in zip(zipKey, zipValue):\n",
    "    list_dict += ([[key, value]])"
   ]
  },
  {
   "cell_type": "code",
   "execution_count": 26,
   "id": "b9e86e27",
   "metadata": {},
   "outputs": [
    {
     "data": {
      "text/plain": [
       "[['optimist', 'The glass is half full'],\n",
       " ['pessimist', 'The glass is half empty'],\n",
       " ['roll', 'How did you get a glass?']]"
      ]
     },
     "execution_count": 26,
     "metadata": {},
     "output_type": "execute_result"
    }
   ],
   "source": [
    "list_dict"
   ]
  },
  {
   "cell_type": "code",
   "execution_count": 27,
   "id": "85179b82",
   "metadata": {},
   "outputs": [
    {
     "data": {
      "text/plain": [
       "{'optimist': 'The glass is half full',\n",
       " 'pessimist': 'The glass is half empty',\n",
       " 'roll': 'How did you get a glass?'}"
      ]
     },
     "execution_count": 27,
     "metadata": {},
     "output_type": "execute_result"
    }
   ],
   "source": [
    "dict(list_dict)"
   ]
  },
  {
   "cell_type": "code",
   "execution_count": 28,
   "id": "e83c4857",
   "metadata": {},
   "outputs": [
    {
     "data": {
      "text/plain": [
       "{'optimist': 'The glass is half full',\n",
       " 'pessimist': 'The glass is half empty',\n",
       " 'roll': 'How did you get a glass?'}"
      ]
     },
     "execution_count": 28,
     "metadata": {},
     "output_type": "execute_result"
    }
   ],
   "source": [
    "dict(zip(zipKey, zipValue))"
   ]
  },
  {
   "cell_type": "markdown",
   "id": "3eb0e94e",
   "metadata": {},
   "source": [
    "## 8.14"
   ]
  },
  {
   "cell_type": "code",
   "execution_count": 32,
   "id": "84684f22",
   "metadata": {},
   "outputs": [],
   "source": [
    "title = ['Creature of Habit', 'Crewel Fate']\n",
    "plots = ['A nun turns into a mon ster', 'A haunted yarn shop']"
   ]
  },
  {
   "cell_type": "code",
   "execution_count": 33,
   "id": "681eb0a8",
   "metadata": {},
   "outputs": [],
   "source": [
    "movies = dict(zip(title, plots))"
   ]
  },
  {
   "cell_type": "code",
   "execution_count": 34,
   "id": "744e6659",
   "metadata": {},
   "outputs": [
    {
     "data": {
      "text/plain": [
       "{'Creature of Habit': 'A nun turns into a mon ster',\n",
       " 'Crewel Fate': 'A haunted yarn shop'}"
      ]
     },
     "execution_count": 34,
     "metadata": {},
     "output_type": "execute_result"
    }
   ],
   "source": [
    "movies"
   ]
  },
  {
   "cell_type": "markdown",
   "id": "bc02806d",
   "metadata": {},
   "source": [
    "# 9.16 연습문제"
   ]
  },
  {
   "cell_type": "markdown",
   "id": "0b5f247b",
   "metadata": {},
   "source": [
    "## 9.1"
   ]
  },
  {
   "cell_type": "code",
   "execution_count": 37,
   "id": "f2d9e464",
   "metadata": {},
   "outputs": [
    {
     "data": {
      "text/plain": [
       "['Harry', 'Ron', 'Hermione']"
      ]
     },
     "execution_count": 37,
     "metadata": {},
     "output_type": "execute_result"
    }
   ],
   "source": [
    "def good():\n",
    "    return ['Harry', 'Ron', 'Hermione']\n",
    "\n",
    "good()"
   ]
  },
  {
   "cell_type": "markdown",
   "id": "ae6f5a56",
   "metadata": {},
   "source": [
    "## 9.2"
   ]
  },
  {
   "cell_type": "code",
   "execution_count": 41,
   "id": "08329fd2",
   "metadata": {},
   "outputs": [],
   "source": [
    "def get_odds():\n",
    "    for number in range(1,10,2):\n",
    "        yield number"
   ]
  },
  {
   "cell_type": "code",
   "execution_count": 42,
   "id": "27be6e13",
   "metadata": {},
   "outputs": [
    {
     "name": "stdout",
     "output_type": "stream",
     "text": [
      "Third Number : 5\n"
     ]
    }
   ],
   "source": [
    "cnt = 1\n",
    "for number in get_odds():\n",
    "    if cnt == 3:\n",
    "        print(\"Third Number :\", number)\n",
    "        break\n",
    "    cnt += 1"
   ]
  },
  {
   "cell_type": "markdown",
   "id": "71fab083",
   "metadata": {},
   "source": [
    "## 9.3"
   ]
  },
  {
   "cell_type": "code",
   "execution_count": 56,
   "id": "ce03166b",
   "metadata": {},
   "outputs": [],
   "source": [
    "def test(func):\n",
    "    def new_function(*args, **kwargs):\n",
    "        print('Start')\n",
    "        result = func(*args, **kwargs)\n",
    "        print('End')\n",
    "        return result\n",
    "    return new_function"
   ]
  },
  {
   "cell_type": "code",
   "execution_count": 59,
   "id": "0683b9f7",
   "metadata": {},
   "outputs": [],
   "source": [
    "@test\n",
    "def add_ints(a, b):\n",
    "    print(a + b)"
   ]
  },
  {
   "cell_type": "code",
   "execution_count": 60,
   "id": "d7f57462",
   "metadata": {},
   "outputs": [
    {
     "name": "stdout",
     "output_type": "stream",
     "text": [
      "Start\n",
      "7\n",
      "End\n"
     ]
    }
   ],
   "source": [
    "add_ints(2, 5)"
   ]
  },
  {
   "cell_type": "markdown",
   "id": "cd3928bd",
   "metadata": {},
   "source": [
    "# 추가 연습문제"
   ]
  },
  {
   "cell_type": "markdown",
   "id": "36f27cdd",
   "metadata": {},
   "source": [
    "## calcsum"
   ]
  },
  {
   "cell_type": "code",
   "execution_count": 61,
   "id": "83bcb32b",
   "metadata": {},
   "outputs": [],
   "source": [
    "def calcsum(n):\n",
    "    sum = 0\n",
    "    for num in range(n + 1):\n",
    "        sum += num\n",
    "    return sum"
   ]
  },
  {
   "cell_type": "code",
   "execution_count": 62,
   "id": "798a5c68",
   "metadata": {},
   "outputs": [
    {
     "name": "stdout",
     "output_type": "stream",
     "text": [
      "~ 4 = 10\n"
     ]
    }
   ],
   "source": [
    "print(\"~ 4 =\", calcsum(4))"
   ]
  },
  {
   "cell_type": "markdown",
   "id": "28d6152c",
   "metadata": {},
   "source": [
    "## calcrange"
   ]
  },
  {
   "cell_type": "code",
   "execution_count": 63,
   "id": "9c0a6191",
   "metadata": {},
   "outputs": [],
   "source": [
    "def calcrange(begin, end):\n",
    "    sum = 0\n",
    "    for num in range(begin, end + 1):\n",
    "        sum += num\n",
    "    return sum"
   ]
  },
  {
   "cell_type": "code",
   "execution_count": 64,
   "id": "06fdb64a",
   "metadata": {},
   "outputs": [
    {
     "name": "stdout",
     "output_type": "stream",
     "text": [
      "3 ~ 7 = 25\n"
     ]
    }
   ],
   "source": [
    "print(\"3 ~ 7 =\", calcrange(3, 7))"
   ]
  },
  {
   "cell_type": "markdown",
   "id": "9a0b20a8",
   "metadata": {},
   "source": [
    "## printsum"
   ]
  },
  {
   "cell_type": "code",
   "execution_count": 67,
   "id": "468a85be",
   "metadata": {},
   "outputs": [],
   "source": [
    "def printsum(n):\n",
    "    sum = 0\n",
    "    for num in range(n + 1):\n",
    "        sum += num\n",
    "    print(\"~\", n, \"=\", sum)"
   ]
  },
  {
   "cell_type": "code",
   "execution_count": 68,
   "id": "52f07c65",
   "metadata": {},
   "outputs": [
    {
     "name": "stdout",
     "output_type": "stream",
     "text": [
      "~ 4 = 10\n"
     ]
    }
   ],
   "source": [
    "printsum(4)"
   ]
  },
  {
   "cell_type": "markdown",
   "id": "6438eeb6",
   "metadata": {},
   "source": [
    "## vararg"
   ]
  },
  {
   "cell_type": "code",
   "execution_count": 70,
   "id": "92a19a83",
   "metadata": {},
   "outputs": [],
   "source": [
    "def intsum(*ints):\n",
    "    sum = 0\n",
    "    for num in ints:\n",
    "        sum += num\n",
    "    return sum"
   ]
  },
  {
   "cell_type": "code",
   "execution_count": 71,
   "id": "740644c8",
   "metadata": {},
   "outputs": [
    {
     "name": "stdout",
     "output_type": "stream",
     "text": [
      "6\n"
     ]
    }
   ],
   "source": [
    "print(intsum(1,2,3))"
   ]
  },
  {
   "cell_type": "markdown",
   "id": "43d2a94e",
   "metadata": {},
   "source": [
    "## defaultarg"
   ]
  },
  {
   "cell_type": "code",
   "execution_count": 72,
   "id": "cd5a8162",
   "metadata": {},
   "outputs": [],
   "source": [
    "def calcstep(begin, end, step):\n",
    "    sum = 0\n",
    "    for num in range(begin, end + 1, step):\n",
    "        sum += num\n",
    "    return sum"
   ]
  },
  {
   "cell_type": "code",
   "execution_count": 73,
   "id": "c116e0c5",
   "metadata": {},
   "outputs": [
    {
     "name": "stdout",
     "output_type": "stream",
     "text": [
      "1 ~ 10 = 25\n"
     ]
    }
   ],
   "source": [
    "print(\"1 ~ 10 =\", calcstep(1, 10, 2))"
   ]
  },
  {
   "cell_type": "markdown",
   "id": "f12f5c3d",
   "metadata": {},
   "source": [
    "## calcstep"
   ]
  },
  {
   "cell_type": "code",
   "execution_count": 74,
   "id": "9537cc2a",
   "metadata": {},
   "outputs": [],
   "source": [
    "def calcstep(begin, end, step = 1):\n",
    "    sum = 0\n",
    "    for num in range(begin, end + 1, step):\n",
    "        sum += num\n",
    "    return sum"
   ]
  },
  {
   "cell_type": "code",
   "execution_count": 75,
   "id": "c8e3790e",
   "metadata": {},
   "outputs": [
    {
     "name": "stdout",
     "output_type": "stream",
     "text": [
      "1 ~ 10 = 25\n"
     ]
    }
   ],
   "source": [
    "print(\"1 ~ 10 =\", calcstep(1, 10, 2))"
   ]
  },
  {
   "cell_type": "markdown",
   "id": "396fbd32",
   "metadata": {},
   "source": [
    "## keywordarg"
   ]
  },
  {
   "cell_type": "code",
   "execution_count": 76,
   "id": "9835a5ae",
   "metadata": {},
   "outputs": [],
   "source": [
    "def calcstep(begin, end, step):\n",
    "    sum = 0\n",
    "    for num in range(begin, end + 1, step):\n",
    "        sum += num\n",
    "    return sum"
   ]
  },
  {
   "cell_type": "markdown",
   "id": "d239fbc3",
   "metadata": {},
   "source": [
    "## keywordvararg"
   ]
  },
  {
   "cell_type": "code",
   "execution_count": 78,
   "id": "9ff63e2a",
   "metadata": {},
   "outputs": [],
   "source": [
    "def calcstep(**args):\n",
    "    begin = args['begin']\n",
    "    end = args['end']\n",
    "    step = args['step']\n",
    "    \n",
    "    sum = 0\n",
    "    for num in range(begin, end + 1, step):\n",
    "        sum += num\n",
    "    return sum"
   ]
  },
  {
   "cell_type": "code",
   "execution_count": 80,
   "id": "326107bd",
   "metadata": {},
   "outputs": [
    {
     "name": "stdout",
     "output_type": "stream",
     "text": [
      "3 ~ 5 = 12\n"
     ]
    }
   ],
   "source": [
    "print(\"3 ~ 5 =\", calcstep(begin = 3, end = 5, step = 1))"
   ]
  },
  {
   "cell_type": "markdown",
   "id": "379ddee0",
   "metadata": {},
   "source": [
    "## calcscore"
   ]
  },
  {
   "cell_type": "code",
   "execution_count": 81,
   "id": "355a8977",
   "metadata": {},
   "outputs": [],
   "source": [
    "def calcscore(name, *score, **option):\n",
    "    print(name)\n",
    "    sum = 0\n",
    "    for s in score:\n",
    "        sum += s\n",
    "    print(\"총점 :\", sum)\n",
    "    if (option['avg'] == True):\n",
    "        print(\"평균 :\", sum/len(score))"
   ]
  },
  {
   "cell_type": "code",
   "execution_count": 82,
   "id": "f42745c6",
   "metadata": {},
   "outputs": [
    {
     "name": "stdout",
     "output_type": "stream",
     "text": [
      "김상형\n",
      "총점 : 264\n",
      "평균 : 88.0\n"
     ]
    }
   ],
   "source": [
    "calcscore(\"김상형\", 88, 99, 77, avg = True)"
   ]
  },
  {
   "cell_type": "code",
   "execution_count": 85,
   "id": "930cc89b",
   "metadata": {},
   "outputs": [
    {
     "name": "stdout",
     "output_type": "stream",
     "text": [
      "김한슬\n",
      "총점 : 381\n"
     ]
    }
   ],
   "source": [
    "calcscore(\"김한슬\", 99, 98, 95, 89, avg = False)"
   ]
  },
  {
   "cell_type": "markdown",
   "id": "858e2c26",
   "metadata": {},
   "source": [
    "## local"
   ]
  },
  {
   "cell_type": "code",
   "execution_count": 89,
   "id": "7f88f0a7",
   "metadata": {},
   "outputs": [],
   "source": [
    "def kim():\n",
    "    temp = \"김과장의 함수\"\n",
    "    print(temp)"
   ]
  },
  {
   "cell_type": "code",
   "execution_count": 90,
   "id": "483479b6",
   "metadata": {},
   "outputs": [
    {
     "name": "stdout",
     "output_type": "stream",
     "text": [
      "김과장의 함수\n"
     ]
    }
   ],
   "source": [
    "kim()"
   ]
  },
  {
   "cell_type": "code",
   "execution_count": 91,
   "id": "f35ea845",
   "metadata": {},
   "outputs": [
    {
     "ename": "NameError",
     "evalue": "name 'temp' is not defined",
     "output_type": "error",
     "traceback": [
      "\u001b[1;31m---------------------------------------------------------------------------\u001b[0m",
      "\u001b[1;31mNameError\u001b[0m                                 Traceback (most recent call last)",
      "\u001b[1;32m<ipython-input-91-4ceff462710b>\u001b[0m in \u001b[0;36m<module>\u001b[1;34m\u001b[0m\n\u001b[1;32m----> 1\u001b[1;33m \u001b[0mprint\u001b[0m\u001b[1;33m(\u001b[0m\u001b[0mtemp\u001b[0m\u001b[1;33m)\u001b[0m\u001b[1;33m\u001b[0m\u001b[1;33m\u001b[0m\u001b[0m\n\u001b[0m",
      "\u001b[1;31mNameError\u001b[0m: name 'temp' is not defined"
     ]
    }
   ],
   "source": [
    "print(temp)"
   ]
  },
  {
   "cell_type": "markdown",
   "id": "7e21a30d",
   "metadata": {},
   "source": [
    "## local2"
   ]
  },
  {
   "cell_type": "code",
   "execution_count": 92,
   "id": "3e963433",
   "metadata": {},
   "outputs": [],
   "source": [
    "def kim():\n",
    "    temp = \"김과장의 함수\"\n",
    "    print(temp)"
   ]
  },
  {
   "cell_type": "code",
   "execution_count": 93,
   "id": "fe1f3333",
   "metadata": {},
   "outputs": [],
   "source": [
    "def lee():\n",
    "    temp = 2 ** 10\n",
    "    return temp"
   ]
  },
  {
   "cell_type": "code",
   "execution_count": 94,
   "id": "d23cb6b1",
   "metadata": {},
   "outputs": [],
   "source": [
    "def park(a):\n",
    "    temp = a * 2\n",
    "    print(temp)"
   ]
  },
  {
   "cell_type": "code",
   "execution_count": 95,
   "id": "699fce67",
   "metadata": {},
   "outputs": [
    {
     "name": "stdout",
     "output_type": "stream",
     "text": [
      "김과장의 함수\n"
     ]
    }
   ],
   "source": [
    "kim()"
   ]
  },
  {
   "cell_type": "code",
   "execution_count": 96,
   "id": "8b86e3c1",
   "metadata": {},
   "outputs": [
    {
     "name": "stdout",
     "output_type": "stream",
     "text": [
      "1024\n"
     ]
    }
   ],
   "source": [
    "print(lee())"
   ]
  },
  {
   "cell_type": "code",
   "execution_count": 97,
   "id": "9ef69656",
   "metadata": {},
   "outputs": [
    {
     "name": "stdout",
     "output_type": "stream",
     "text": [
      "12\n"
     ]
    }
   ],
   "source": [
    "park(6)"
   ]
  },
  {
   "cell_type": "markdown",
   "id": "91eeb5b8",
   "metadata": {},
   "source": [
    "## global"
   ]
  },
  {
   "cell_type": "code",
   "execution_count": 98,
   "id": "eedc8640",
   "metadata": {},
   "outputs": [],
   "source": [
    "salerate = 0.9"
   ]
  },
  {
   "cell_type": "code",
   "execution_count": 99,
   "id": "79adb4b0",
   "metadata": {},
   "outputs": [],
   "source": [
    "def kim():\n",
    "    print(\"오늘의 할인율 :\", salerate)"
   ]
  },
  {
   "cell_type": "code",
   "execution_count": 100,
   "id": "74b13db7",
   "metadata": {},
   "outputs": [],
   "source": [
    "def lee():\n",
    "    price = 1000\n",
    "    print(\"가격 :\", price * salerate)"
   ]
  },
  {
   "cell_type": "code",
   "execution_count": 101,
   "id": "0cb2a639",
   "metadata": {},
   "outputs": [
    {
     "name": "stdout",
     "output_type": "stream",
     "text": [
      "오늘의 할인율 : 0.9\n"
     ]
    }
   ],
   "source": [
    "kim()"
   ]
  },
  {
   "cell_type": "code",
   "execution_count": 102,
   "id": "a057afd9",
   "metadata": {},
   "outputs": [],
   "source": [
    "salerate = 1.1"
   ]
  },
  {
   "cell_type": "code",
   "execution_count": 103,
   "id": "5c126553",
   "metadata": {},
   "outputs": [
    {
     "name": "stdout",
     "output_type": "stream",
     "text": [
      "가격 : 1100.0\n"
     ]
    }
   ],
   "source": [
    "lee()"
   ]
  },
  {
   "cell_type": "markdown",
   "id": "613c7946",
   "metadata": {},
   "source": [
    "## global2"
   ]
  },
  {
   "cell_type": "code",
   "execution_count": 104,
   "id": "4f9daeda",
   "metadata": {},
   "outputs": [],
   "source": [
    "price = 1000"
   ]
  },
  {
   "cell_type": "code",
   "execution_count": 105,
   "id": "5a337200",
   "metadata": {},
   "outputs": [],
   "source": [
    "def sale():\n",
    "    price = 500"
   ]
  },
  {
   "cell_type": "code",
   "execution_count": 106,
   "id": "5a705561",
   "metadata": {},
   "outputs": [],
   "source": [
    "sale()"
   ]
  },
  {
   "cell_type": "code",
   "execution_count": 107,
   "id": "97a36e8c",
   "metadata": {},
   "outputs": [
    {
     "name": "stdout",
     "output_type": "stream",
     "text": [
      "1000\n"
     ]
    }
   ],
   "source": [
    "print(price)"
   ]
  },
  {
   "cell_type": "markdown",
   "id": "739b1d3f",
   "metadata": {},
   "source": [
    "## id"
   ]
  },
  {
   "cell_type": "code",
   "execution_count": 108,
   "id": "2dd72a01",
   "metadata": {},
   "outputs": [],
   "source": [
    "price = 1000"
   ]
  },
  {
   "cell_type": "code",
   "execution_count": 109,
   "id": "3041a698",
   "metadata": {},
   "outputs": [],
   "source": [
    "def sale():\n",
    "    price = 500\n",
    "    print(\"sale\", id(price))    "
   ]
  },
  {
   "cell_type": "code",
   "execution_count": 110,
   "id": "79198c05",
   "metadata": {},
   "outputs": [
    {
     "name": "stdout",
     "output_type": "stream",
     "text": [
      "sale 2134421298736\n"
     ]
    }
   ],
   "source": [
    "sale()"
   ]
  },
  {
   "cell_type": "code",
   "execution_count": 111,
   "id": "17099dd7",
   "metadata": {},
   "outputs": [
    {
     "name": "stdout",
     "output_type": "stream",
     "text": [
      "global 2134421296240\n"
     ]
    }
   ],
   "source": [
    "print(\"global\", id(price))"
   ]
  },
  {
   "cell_type": "markdown",
   "id": "cb682b52",
   "metadata": {},
   "source": [
    "## global3"
   ]
  },
  {
   "cell_type": "code",
   "execution_count": 112,
   "id": "18c60ddf",
   "metadata": {},
   "outputs": [],
   "source": [
    "price = 1000"
   ]
  },
  {
   "cell_type": "code",
   "execution_count": 114,
   "id": "fbbb8dce",
   "metadata": {},
   "outputs": [],
   "source": [
    "def sale():\n",
    "    global price\n",
    "    price = 500"
   ]
  },
  {
   "cell_type": "code",
   "execution_count": 115,
   "id": "be0af2e8",
   "metadata": {},
   "outputs": [],
   "source": [
    "sale()"
   ]
  },
  {
   "cell_type": "code",
   "execution_count": 116,
   "id": "cf97cf24",
   "metadata": {},
   "outputs": [
    {
     "name": "stdout",
     "output_type": "stream",
     "text": [
      "500\n"
     ]
    }
   ],
   "source": [
    "print(price)"
   ]
  },
  {
   "cell_type": "markdown",
   "id": "17b7eb5c",
   "metadata": {},
   "source": [
    "## docstring"
   ]
  },
  {
   "cell_type": "code",
   "execution_count": 125,
   "id": "d848941e",
   "metadata": {},
   "outputs": [],
   "source": [
    "def calcsum(n):\n",
    "    \"\"\"1 ~ n까지의 합계를 구해 리턴한다.\"\"\"\n",
    "    sum = 0\n",
    "    for i in range(n + 1):\n",
    "        sum += i\n",
    "    return sum"
   ]
  },
  {
   "cell_type": "code",
   "execution_count": 126,
   "id": "f64f65b3",
   "metadata": {},
   "outputs": [
    {
     "name": "stdout",
     "output_type": "stream",
     "text": [
      "Help on function calcsum in module __main__:\n",
      "\n",
      "calcsum(n)\n",
      "    1 ~ n까지의 합계를 구해 리턴한다.\n",
      "\n"
     ]
    }
   ],
   "source": [
    "help(calcsum)"
   ]
  },
  {
   "cell_type": "markdown",
   "id": "2920dac4",
   "metadata": {},
   "source": [
    "## buitin"
   ]
  },
  {
   "cell_type": "code",
   "execution_count": 127,
   "id": "2fa53cea",
   "metadata": {},
   "outputs": [
    {
     "name": "stdout",
     "output_type": "stream",
     "text": [
      "5\n"
     ]
    }
   ],
   "source": [
    "print(abs(-5))"
   ]
  },
  {
   "cell_type": "code",
   "execution_count": 128,
   "id": "80a653b6",
   "metadata": {},
   "outputs": [
    {
     "name": "stdout",
     "output_type": "stream",
     "text": [
      "7\n"
     ]
    }
   ],
   "source": [
    "print(max(3, 7))"
   ]
  },
  {
   "cell_type": "code",
   "execution_count": 129,
   "id": "9ec4e749",
   "metadata": {},
   "outputs": [
    {
     "name": "stdout",
     "output_type": "stream",
     "text": [
      "1\n"
     ]
    }
   ],
   "source": [
    "print(min([8,9,1,6,2]))"
   ]
  }
 ],
 "metadata": {
  "kernelspec": {
   "display_name": "Python 3",
   "language": "python",
   "name": "python3"
  },
  "language_info": {
   "codemirror_mode": {
    "name": "ipython",
    "version": 3
   },
   "file_extension": ".py",
   "mimetype": "text/x-python",
   "name": "python",
   "nbconvert_exporter": "python",
   "pygments_lexer": "ipython3",
   "version": "3.8.8"
  }
 },
 "nbformat": 4,
 "nbformat_minor": 5
}
