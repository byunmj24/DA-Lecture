{
 "cells": [
  {
   "cell_type": "code",
   "execution_count": 1,
   "id": "bc1d5b5e",
   "metadata": {},
   "outputs": [],
   "source": [
    "def do_nothing():\n",
    "    pass"
   ]
  },
  {
   "cell_type": "code",
   "execution_count": 2,
   "id": "69bc4376",
   "metadata": {},
   "outputs": [],
   "source": [
    "do_nothing()"
   ]
  },
  {
   "cell_type": "code",
   "execution_count": 4,
   "id": "b075f1d7",
   "metadata": {},
   "outputs": [],
   "source": [
    "def make_a_sound():\n",
    "    print('quack')"
   ]
  },
  {
   "cell_type": "code",
   "execution_count": 5,
   "id": "81dfdfe6",
   "metadata": {},
   "outputs": [
    {
     "name": "stdout",
     "output_type": "stream",
     "text": [
      "quack\n"
     ]
    }
   ],
   "source": [
    "make_a_sound()"
   ]
  },
  {
   "cell_type": "code",
   "execution_count": 6,
   "id": "dbdb1fd8",
   "metadata": {},
   "outputs": [],
   "source": [
    "def agree():\n",
    "    return True"
   ]
  },
  {
   "cell_type": "code",
   "execution_count": 8,
   "id": "113a7d8c",
   "metadata": {},
   "outputs": [
    {
     "name": "stdout",
     "output_type": "stream",
     "text": [
      "Splendid!\n"
     ]
    }
   ],
   "source": [
    "if agree():\n",
    "    print('Splendid!')\n",
    "else:\n",
    "    print('That was unexpected.')"
   ]
  },
  {
   "cell_type": "code",
   "execution_count": 9,
   "id": "a083e01b",
   "metadata": {},
   "outputs": [],
   "source": [
    "def echo(anything):\n",
    "    return anything + ' ' + anything"
   ]
  },
  {
   "cell_type": "code",
   "execution_count": 10,
   "id": "0b08f667",
   "metadata": {},
   "outputs": [
    {
     "data": {
      "text/plain": [
       "'Rumplestiltskin Rumplestiltskin'"
      ]
     },
     "execution_count": 10,
     "metadata": {},
     "output_type": "execute_result"
    }
   ],
   "source": [
    "echo('Rumplestiltskin')"
   ]
  },
  {
   "cell_type": "code",
   "execution_count": 16,
   "id": "e8bc1c41",
   "metadata": {},
   "outputs": [],
   "source": [
    "def commentary(color):\n",
    "    if color == 'red':\n",
    "        return \"It's a tomato.\"\n",
    "    elif color == \"green\":\n",
    "        return \"It's a green pepper.\"\n",
    "    elif color == \"bee purple\":\n",
    "        return \"I don't know what it is, but only bees can see it.\"\n",
    "    else:\n",
    "        return \"I've never heard of the color \" + color + \".\""
   ]
  },
  {
   "cell_type": "code",
   "execution_count": 17,
   "id": "fb46ee0d",
   "metadata": {},
   "outputs": [],
   "source": [
    "comment = commentary('blue')"
   ]
  },
  {
   "cell_type": "code",
   "execution_count": 18,
   "id": "7b75248c",
   "metadata": {},
   "outputs": [
    {
     "name": "stdout",
     "output_type": "stream",
     "text": [
      "I've never heard of the color blue.\n"
     ]
    }
   ],
   "source": [
    "print(comment)"
   ]
  },
  {
   "cell_type": "code",
   "execution_count": 19,
   "id": "2fce9c4d",
   "metadata": {},
   "outputs": [
    {
     "name": "stdout",
     "output_type": "stream",
     "text": [
      "None\n"
     ]
    }
   ],
   "source": [
    "print(do_nothing())"
   ]
  },
  {
   "cell_type": "code",
   "execution_count": 21,
   "id": "8111219c",
   "metadata": {},
   "outputs": [
    {
     "name": "stdout",
     "output_type": "stream",
     "text": [
      "It's no thing\n"
     ]
    }
   ],
   "source": [
    "thing = None\n",
    "if thing:\n",
    "    print(\"It's some thing\")\n",
    "else:\n",
    "    print(\"It's no thing\")"
   ]
  },
  {
   "cell_type": "code",
   "execution_count": 22,
   "id": "55be7ee9",
   "metadata": {},
   "outputs": [
    {
     "name": "stdout",
     "output_type": "stream",
     "text": [
      "It's nothing\n"
     ]
    }
   ],
   "source": [
    "thing = None\n",
    "if thing is None:\n",
    "    print(\"It's nothing\")\n",
    "else:\n",
    "    print(\"It's something\")"
   ]
  },
  {
   "cell_type": "code",
   "execution_count": 30,
   "id": "a87ecb07",
   "metadata": {},
   "outputs": [],
   "source": [
    "def whatis(thing):\n",
    "    if thing is None:\n",
    "        print(thing, \"is None\")\n",
    "    elif thing:\n",
    "        print(thing, \"is True\")\n",
    "    else:\n",
    "        print(thing, \"is False\")"
   ]
  },
  {
   "cell_type": "code",
   "execution_count": 31,
   "id": "857d7955",
   "metadata": {},
   "outputs": [
    {
     "name": "stdout",
     "output_type": "stream",
     "text": [
      "None is None\n"
     ]
    }
   ],
   "source": [
    "whatis(None)"
   ]
  },
  {
   "cell_type": "code",
   "execution_count": 32,
   "id": "a4905808",
   "metadata": {},
   "outputs": [
    {
     "name": "stdout",
     "output_type": "stream",
     "text": [
      "True is True\n"
     ]
    }
   ],
   "source": [
    "whatis(True)"
   ]
  },
  {
   "cell_type": "code",
   "execution_count": 33,
   "id": "8ac3ee12",
   "metadata": {},
   "outputs": [
    {
     "name": "stdout",
     "output_type": "stream",
     "text": [
      "False is False\n"
     ]
    }
   ],
   "source": [
    "whatis(False)"
   ]
  },
  {
   "cell_type": "code",
   "execution_count": 34,
   "id": "2206e778",
   "metadata": {},
   "outputs": [],
   "source": [
    "def menu(wine, entree, dessert):\n",
    "    return {'wine':wine, 'entree':entree, 'dessert':dessert}"
   ]
  },
  {
   "cell_type": "code",
   "execution_count": 35,
   "id": "b727e714",
   "metadata": {},
   "outputs": [
    {
     "data": {
      "text/plain": [
       "{'wine': 'chardonnay', 'entree': 'chicken', 'dessert': 'cake'}"
      ]
     },
     "execution_count": 35,
     "metadata": {},
     "output_type": "execute_result"
    }
   ],
   "source": [
    "menu('chardonnay', 'chicken', 'cake')"
   ]
  },
  {
   "cell_type": "code",
   "execution_count": 37,
   "id": "edb4eb6d",
   "metadata": {},
   "outputs": [
    {
     "data": {
      "text/plain": [
       "{'wine': 'beef', 'entree': 'bagel', 'dessert': 'bordeaux'}"
      ]
     },
     "execution_count": 37,
     "metadata": {},
     "output_type": "execute_result"
    }
   ],
   "source": [
    "menu('beef', 'bagel', 'bordeaux')"
   ]
  },
  {
   "cell_type": "code",
   "execution_count": 38,
   "id": "ce58a545",
   "metadata": {},
   "outputs": [
    {
     "data": {
      "text/plain": [
       "{'wine': 'bordeaux', 'entree': 'beef', 'dessert': 'bagel'}"
      ]
     },
     "execution_count": 38,
     "metadata": {},
     "output_type": "execute_result"
    }
   ],
   "source": [
    "menu(entree = 'beef', dessert = 'bagel', wine = 'bordeaux')"
   ]
  },
  {
   "cell_type": "code",
   "execution_count": 39,
   "id": "c856e8c1",
   "metadata": {},
   "outputs": [
    {
     "data": {
      "text/plain": [
       "{'wine': 'frontenac', 'entree': 'fish', 'dessert': 'flan'}"
      ]
     },
     "execution_count": 39,
     "metadata": {},
     "output_type": "execute_result"
    }
   ],
   "source": [
    "menu('frontenac', dessert='flan', entree='fish')"
   ]
  },
  {
   "cell_type": "code",
   "execution_count": 40,
   "id": "2b18c1c4",
   "metadata": {},
   "outputs": [],
   "source": [
    "def menu(wine, entree, dessert='pudding'):\n",
    "    return {'wine':wine, 'entree':entree, 'dessert':dessert}"
   ]
  },
  {
   "cell_type": "code",
   "execution_count": 41,
   "id": "bc418b92",
   "metadata": {},
   "outputs": [
    {
     "data": {
      "text/plain": [
       "{'wine': 'chardonnay', 'entree': 'chicken', 'dessert': 'pudding'}"
      ]
     },
     "execution_count": 41,
     "metadata": {},
     "output_type": "execute_result"
    }
   ],
   "source": [
    "menu('chardonnay', 'chicken')"
   ]
  },
  {
   "cell_type": "code",
   "execution_count": 42,
   "id": "060c6344",
   "metadata": {},
   "outputs": [
    {
     "data": {
      "text/plain": [
       "{'wine': 'dunkelfelder', 'entree': 'duck', 'dessert': 'doughnut'}"
      ]
     },
     "execution_count": 42,
     "metadata": {},
     "output_type": "execute_result"
    }
   ],
   "source": [
    "menu('dunkelfelder', 'duck', 'doughnut')"
   ]
  },
  {
   "cell_type": "code",
   "execution_count": 43,
   "id": "86a42822",
   "metadata": {},
   "outputs": [],
   "source": [
    "def buggy(arg, result=[]):\n",
    "    result.append(arg)\n",
    "    print(result)"
   ]
  },
  {
   "cell_type": "code",
   "execution_count": 44,
   "id": "b245d89b",
   "metadata": {},
   "outputs": [
    {
     "name": "stdout",
     "output_type": "stream",
     "text": [
      "['a']\n"
     ]
    }
   ],
   "source": [
    "buggy('a')"
   ]
  },
  {
   "cell_type": "code",
   "execution_count": 45,
   "id": "38f25f2f",
   "metadata": {},
   "outputs": [
    {
     "name": "stdout",
     "output_type": "stream",
     "text": [
      "['a', 'b']\n"
     ]
    }
   ],
   "source": [
    "buggy('b')   # expect['b']"
   ]
  },
  {
   "cell_type": "code",
   "execution_count": 46,
   "id": "e3577b60",
   "metadata": {},
   "outputs": [],
   "source": [
    "def works(arg):\n",
    "    result = []\n",
    "    result.append(arg)\n",
    "    return result"
   ]
  },
  {
   "cell_type": "code",
   "execution_count": 48,
   "id": "9823cb97",
   "metadata": {},
   "outputs": [
    {
     "data": {
      "text/plain": [
       "['a']"
      ]
     },
     "execution_count": 48,
     "metadata": {},
     "output_type": "execute_result"
    }
   ],
   "source": [
    "works('a')"
   ]
  },
  {
   "cell_type": "code",
   "execution_count": 50,
   "id": "f99da5c7",
   "metadata": {},
   "outputs": [
    {
     "data": {
      "text/plain": [
       "['b']"
      ]
     },
     "execution_count": 50,
     "metadata": {},
     "output_type": "execute_result"
    }
   ],
   "source": [
    "works('b')"
   ]
  },
  {
   "cell_type": "code",
   "execution_count": 71,
   "id": "f5fae7bd",
   "metadata": {},
   "outputs": [],
   "source": [
    "def nonbuggy(arg, result = None):\n",
    "    if result is None:\n",
    "        result = []\n",
    "    result.append(arg)\n",
    "    return result"
   ]
  },
  {
   "cell_type": "code",
   "execution_count": 72,
   "id": "4257ec7c",
   "metadata": {},
   "outputs": [],
   "source": [
    "listResult = nonbuggy('a')"
   ]
  },
  {
   "cell_type": "code",
   "execution_count": 73,
   "id": "264b4c50",
   "metadata": {},
   "outputs": [
    {
     "data": {
      "text/plain": [
       "['a', 'b']"
      ]
     },
     "execution_count": 73,
     "metadata": {},
     "output_type": "execute_result"
    }
   ],
   "source": [
    "nonbuggy('b', listResult)"
   ]
  },
  {
   "cell_type": "code",
   "execution_count": 74,
   "id": "ad2bbed8",
   "metadata": {},
   "outputs": [
    {
     "data": {
      "text/plain": [
       "['c']"
      ]
     },
     "execution_count": 74,
     "metadata": {},
     "output_type": "execute_result"
    }
   ],
   "source": [
    "nonbuggy('c')"
   ]
  },
  {
   "cell_type": "code",
   "execution_count": 75,
   "id": "2fec04ee",
   "metadata": {},
   "outputs": [],
   "source": [
    "def print_args(*args):\n",
    "    print('Positional tuple:', args)"
   ]
  },
  {
   "cell_type": "code",
   "execution_count": 76,
   "id": "b6fb4e64",
   "metadata": {},
   "outputs": [
    {
     "name": "stdout",
     "output_type": "stream",
     "text": [
      "Positional tuple: ()\n"
     ]
    }
   ],
   "source": [
    "print_args()"
   ]
  },
  {
   "cell_type": "code",
   "execution_count": 77,
   "id": "d109452d",
   "metadata": {},
   "outputs": [
    {
     "name": "stdout",
     "output_type": "stream",
     "text": [
      "Positional tuple: (3, 2, 1, 'wait!', 'uh...')\n"
     ]
    }
   ],
   "source": [
    "print_args(3, 2, 1, 'wait!', 'uh...')"
   ]
  },
  {
   "cell_type": "code",
   "execution_count": 82,
   "id": "2728443b",
   "metadata": {},
   "outputs": [],
   "source": [
    "def print_kwargs(**parameters):\n",
    "    print(\"keyword arguments : \", parameters)"
   ]
  },
  {
   "cell_type": "code",
   "execution_count": 84,
   "id": "d70c2e6b",
   "metadata": {},
   "outputs": [
    {
     "name": "stdout",
     "output_type": "stream",
     "text": [
      "keyword arguments :  {'name': 'kim', 'phone': '1234', 'addr': 'dong'}\n"
     ]
    }
   ],
   "source": [
    "print_kwargs(name='kim', phone='1234', addr='dong')"
   ]
  },
  {
   "cell_type": "code",
   "execution_count": 85,
   "id": "95403e0b",
   "metadata": {},
   "outputs": [],
   "source": [
    "def print_more(required1, required2, *args):\n",
    "    print('Need this one: ', required1)\n",
    "    print('Need this one. too: ', required2)\n",
    "    print('All the rest: ', args)"
   ]
  },
  {
   "cell_type": "code",
   "execution_count": 86,
   "id": "3423652b",
   "metadata": {},
   "outputs": [
    {
     "name": "stdout",
     "output_type": "stream",
     "text": [
      "Need this one:  cap\n",
      "Need this one. too:  gloves\n",
      "All the rest:  ('scarf', 'monocle', 'mustache wax')\n"
     ]
    }
   ],
   "source": [
    "print_more('cap', 'gloves', 'scarf', 'monocle', 'mustache wax')"
   ]
  },
  {
   "cell_type": "code",
   "execution_count": 87,
   "id": "bbcebe4d",
   "metadata": {},
   "outputs": [
    {
     "name": "stdout",
     "output_type": "stream",
     "text": [
      "Positional tuple: (2, 5, 7, 'x')\n"
     ]
    }
   ],
   "source": [
    "print_args(2, 5, 7, 'x')"
   ]
  },
  {
   "cell_type": "code",
   "execution_count": 88,
   "id": "76acac4d",
   "metadata": {},
   "outputs": [],
   "source": [
    "args = (2,5,6,'x')"
   ]
  },
  {
   "cell_type": "code",
   "execution_count": 89,
   "id": "7ee79486",
   "metadata": {},
   "outputs": [
    {
     "name": "stdout",
     "output_type": "stream",
     "text": [
      "Positional tuple: ((2, 5, 6, 'x'),)\n"
     ]
    }
   ],
   "source": [
    "print_args(args)"
   ]
  },
  {
   "cell_type": "code",
   "execution_count": 90,
   "id": "ee842987",
   "metadata": {},
   "outputs": [
    {
     "name": "stdout",
     "output_type": "stream",
     "text": [
      "Positional tuple: (2, 5, 6, 'x')\n"
     ]
    }
   ],
   "source": [
    "print_args(*args)"
   ]
  },
  {
   "cell_type": "code",
   "execution_count": 91,
   "id": "62ca6b86",
   "metadata": {},
   "outputs": [
    {
     "ename": "SyntaxError",
     "evalue": "can't use starred expression here (<ipython-input-91-040fcb6bb52c>, line 1)",
     "output_type": "error",
     "traceback": [
      "\u001b[1;36m  File \u001b[1;32m\"<ipython-input-91-040fcb6bb52c>\"\u001b[1;36m, line \u001b[1;32m1\u001b[0m\n\u001b[1;33m    *args\u001b[0m\n\u001b[1;37m    ^\u001b[0m\n\u001b[1;31mSyntaxError\u001b[0m\u001b[1;31m:\u001b[0m can't use starred expression here\n"
     ]
    }
   ],
   "source": [
    "*args"
   ]
  },
  {
   "cell_type": "markdown",
   "id": "7cdede24",
   "metadata": {},
   "source": [
    "## 9.3.6 키워드 인수 분해하기/모으기 **"
   ]
  },
  {
   "cell_type": "code",
   "execution_count": 99,
   "id": "5c479aa2",
   "metadata": {},
   "outputs": [],
   "source": [
    "def print_kwargs(**kwargs):\n",
    "    print('Keyword arguments: ', kwargs)"
   ]
  },
  {
   "cell_type": "code",
   "execution_count": 100,
   "id": "a3aaedb1",
   "metadata": {},
   "outputs": [
    {
     "name": "stdout",
     "output_type": "stream",
     "text": [
      "Keyword arguments:  {}\n"
     ]
    }
   ],
   "source": [
    "print_kwargs()"
   ]
  },
  {
   "cell_type": "code",
   "execution_count": 101,
   "id": "9f87b026",
   "metadata": {},
   "outputs": [
    {
     "name": "stdout",
     "output_type": "stream",
     "text": [
      "Keyword arguments:  {'wine': 'merlot', 'entree': 'mutton', 'dessert': 'macaroon'}\n"
     ]
    }
   ],
   "source": [
    "print_kwargs(wine='merlot', entree='mutton', dessert='macaroon')"
   ]
  },
  {
   "cell_type": "markdown",
   "id": "3dcc9b80",
   "metadata": {},
   "source": [
    "## 9.3.7 키워드 전용 인수"
   ]
  },
  {
   "cell_type": "code",
   "execution_count": 105,
   "id": "181a1462",
   "metadata": {},
   "outputs": [],
   "source": [
    "def print_data(data, *, start=0, end=100):\n",
    "    for value in (data[start:end]):\n",
    "        print(value)"
   ]
  },
  {
   "cell_type": "code",
   "execution_count": 106,
   "id": "aaad4833",
   "metadata": {},
   "outputs": [],
   "source": [
    "data = ['a', 'b', 'c', 'd', 'e', 'f']"
   ]
  },
  {
   "cell_type": "code",
   "execution_count": 107,
   "id": "07939e95",
   "metadata": {},
   "outputs": [
    {
     "name": "stdout",
     "output_type": "stream",
     "text": [
      "a\n",
      "b\n",
      "c\n",
      "d\n",
      "e\n",
      "f\n"
     ]
    }
   ],
   "source": [
    "print_data(data)"
   ]
  },
  {
   "cell_type": "code",
   "execution_count": 108,
   "id": "8fcafdce",
   "metadata": {},
   "outputs": [
    {
     "name": "stdout",
     "output_type": "stream",
     "text": [
      "e\n",
      "f\n"
     ]
    }
   ],
   "source": [
    "print_data(data, start=4)"
   ]
  },
  {
   "cell_type": "code",
   "execution_count": 109,
   "id": "0a04b7a7",
   "metadata": {},
   "outputs": [
    {
     "name": "stdout",
     "output_type": "stream",
     "text": [
      "a\n",
      "b\n"
     ]
    }
   ],
   "source": [
    "print_data(data, end=2)"
   ]
  },
  {
   "cell_type": "markdown",
   "id": "cfb513ad",
   "metadata": {},
   "source": [
    "## 9.3.8 가변/불변 인수"
   ]
  },
  {
   "cell_type": "code",
   "execution_count": 110,
   "id": "b78895a3",
   "metadata": {},
   "outputs": [],
   "source": [
    "outside = ['one', 'fine', 'day']"
   ]
  },
  {
   "cell_type": "code",
   "execution_count": 111,
   "id": "efef2725",
   "metadata": {},
   "outputs": [],
   "source": [
    "def mangle(arg):\n",
    "    arg[1] = 'terrible!'"
   ]
  },
  {
   "cell_type": "code",
   "execution_count": 112,
   "id": "b7204341",
   "metadata": {},
   "outputs": [
    {
     "data": {
      "text/plain": [
       "['one', 'fine', 'day']"
      ]
     },
     "execution_count": 112,
     "metadata": {},
     "output_type": "execute_result"
    }
   ],
   "source": [
    "outside"
   ]
  },
  {
   "cell_type": "code",
   "execution_count": 113,
   "id": "887d05f7",
   "metadata": {},
   "outputs": [],
   "source": [
    "mangle(outside)"
   ]
  },
  {
   "cell_type": "code",
   "execution_count": 114,
   "id": "b1a656a0",
   "metadata": {},
   "outputs": [
    {
     "data": {
      "text/plain": [
       "['one', 'terrible!', 'day']"
      ]
     },
     "execution_count": 114,
     "metadata": {},
     "output_type": "execute_result"
    }
   ],
   "source": [
    "outside"
   ]
  },
  {
   "cell_type": "markdown",
   "id": "1742a8dd",
   "metadata": {},
   "source": [
    "# 9.4 독스트링"
   ]
  },
  {
   "cell_type": "code",
   "execution_count": 93,
   "id": "32f2d4b9",
   "metadata": {},
   "outputs": [],
   "source": [
    "def echo(anything):\n",
    "    'echo returns its input argument'\n",
    "    return anything"
   ]
  },
  {
   "cell_type": "code",
   "execution_count": 94,
   "id": "56b202aa",
   "metadata": {},
   "outputs": [],
   "source": [
    "def print_if_true(thing, check):\n",
    "    '''\n",
    "    prints the first argument if a second argument is true.\n",
    "    The operation is:\n",
    "        1. Check whether the *second* argument is true.\n",
    "        2. If it is, print the *first* argument.\n",
    "    '''\n",
    "    if check:\n",
    "        print(thing)"
   ]
  },
  {
   "cell_type": "code",
   "execution_count": 97,
   "id": "8ddd7104",
   "metadata": {},
   "outputs": [
    {
     "name": "stdout",
     "output_type": "stream",
     "text": [
      "Help on function echo in module __main__:\n",
      "\n",
      "echo(anything)\n",
      "    echo returns its input argument\n",
      "\n"
     ]
    }
   ],
   "source": [
    "help(echo)"
   ]
  },
  {
   "cell_type": "code",
   "execution_count": 98,
   "id": "e22871e1",
   "metadata": {},
   "outputs": [
    {
     "name": "stdout",
     "output_type": "stream",
     "text": [
      "echo returns its input argument\n"
     ]
    }
   ],
   "source": [
    "print(echo.__doc__)"
   ]
  },
  {
   "cell_type": "markdown",
   "id": "d8eca0ea",
   "metadata": {},
   "source": [
    "# 9.7 익명 함수: lambda"
   ]
  },
  {
   "cell_type": "code",
   "execution_count": 115,
   "id": "97bad27d",
   "metadata": {},
   "outputs": [],
   "source": [
    "def edit_story(words, func):\n",
    "    for word in words:\n",
    "        print(func(word))"
   ]
  },
  {
   "cell_type": "code",
   "execution_count": 116,
   "id": "f7fe95be",
   "metadata": {},
   "outputs": [],
   "source": [
    "stairs = ['thud', 'meow', 'thud', 'hiss']"
   ]
  },
  {
   "cell_type": "code",
   "execution_count": 118,
   "id": "183f7537",
   "metadata": {},
   "outputs": [],
   "source": [
    "def enliven(word):   # 첫 글자를 대문자로 만들고 느낌표 붙이기\n",
    "\n",
    "    return word.capitalize() + '!'"
   ]
  },
  {
   "cell_type": "code",
   "execution_count": 119,
   "id": "2bf17c93",
   "metadata": {},
   "outputs": [
    {
     "name": "stdout",
     "output_type": "stream",
     "text": [
      "Thud!\n",
      "Meow!\n",
      "Thud!\n",
      "Hiss!\n"
     ]
    }
   ],
   "source": [
    "edit_story(stairs, enliven)"
   ]
  },
  {
   "cell_type": "code",
   "execution_count": 122,
   "id": "7677a492",
   "metadata": {},
   "outputs": [
    {
     "name": "stdout",
     "output_type": "stream",
     "text": [
      "Thud!\n",
      "Meow!\n",
      "Thud!\n",
      "Hiss!\n"
     ]
    }
   ],
   "source": [
    "edit_story(stairs, lambda word: word.capitalize() + '!')"
   ]
  },
  {
   "cell_type": "markdown",
   "id": "df7fda0c",
   "metadata": {},
   "source": [
    "# 9.8 제너레이터"
   ]
  },
  {
   "cell_type": "code",
   "execution_count": 129,
   "id": "fdc87375",
   "metadata": {},
   "outputs": [
    {
     "data": {
      "text/plain": [
       "5050"
      ]
     },
     "execution_count": 129,
     "metadata": {},
     "output_type": "execute_result"
    }
   ],
   "source": [
    "sum(range(1, 101))"
   ]
  },
  {
   "cell_type": "markdown",
   "id": "fccbd345",
   "metadata": {},
   "source": [
    "## 9.8.1 제너레이터 함수"
   ]
  },
  {
   "cell_type": "code",
   "execution_count": 141,
   "id": "89592aaa",
   "metadata": {},
   "outputs": [],
   "source": [
    "def my_range(first=0, last=10, step=1):\n",
    "    number = first\n",
    "    while number < last:\n",
    "        yield number\n",
    "        number += step"
   ]
  },
  {
   "cell_type": "code",
   "execution_count": 142,
   "id": "65b3687a",
   "metadata": {},
   "outputs": [
    {
     "data": {
      "text/plain": [
       "<function __main__.my_range(first=0, last=10, step=1)>"
      ]
     },
     "execution_count": 142,
     "metadata": {},
     "output_type": "execute_result"
    }
   ],
   "source": [
    "my_range"
   ]
  },
  {
   "cell_type": "code",
   "execution_count": 143,
   "id": "3ade3c01",
   "metadata": {},
   "outputs": [
    {
     "data": {
      "text/plain": [
       "<generator object my_range at 0x0000023761433580>"
      ]
     },
     "execution_count": 143,
     "metadata": {},
     "output_type": "execute_result"
    }
   ],
   "source": [
    "ranger = my_range(1,5)\n",
    "ranger"
   ]
  },
  {
   "cell_type": "code",
   "execution_count": 144,
   "id": "90463a14",
   "metadata": {},
   "outputs": [
    {
     "name": "stdout",
     "output_type": "stream",
     "text": [
      "1\n",
      "2\n",
      "3\n",
      "4\n"
     ]
    }
   ],
   "source": [
    "for x in ranger:\n",
    "    print(x)"
   ]
  },
  {
   "cell_type": "code",
   "execution_count": 146,
   "id": "17c1f6bf",
   "metadata": {},
   "outputs": [],
   "source": [
    "for try_again in ranger:\n",
    "    print(try_again)"
   ]
  },
  {
   "cell_type": "markdown",
   "id": "067582c0",
   "metadata": {},
   "source": [
    "## 9.8.2 제너레이터 컴프리헨션"
   ]
  },
  {
   "cell_type": "code",
   "execution_count": 147,
   "id": "2f5a1871",
   "metadata": {},
   "outputs": [
    {
     "data": {
      "text/plain": [
       "<generator object <genexpr> at 0x0000023761433B30>"
      ]
     },
     "execution_count": 147,
     "metadata": {},
     "output_type": "execute_result"
    }
   ],
   "source": [
    "genobj = (pair for pair in zip(['a','b'],['1','2']))\n",
    "genobj"
   ]
  },
  {
   "cell_type": "code",
   "execution_count": 148,
   "id": "5ea6d581",
   "metadata": {},
   "outputs": [
    {
     "name": "stdout",
     "output_type": "stream",
     "text": [
      "('a', '1')\n",
      "('b', '2')\n"
     ]
    }
   ],
   "source": [
    "for thing in genobj:\n",
    "    print(thing)"
   ]
  },
  {
   "cell_type": "markdown",
   "id": "48c4f1f8",
   "metadata": {},
   "source": [
    "# 9.9 데커레이터"
   ]
  },
  {
   "cell_type": "code",
   "execution_count": 150,
   "id": "e07fee3e",
   "metadata": {},
   "outputs": [],
   "source": [
    "def document_it(func):\n",
    "    def new_function(*args, **kwargs):\n",
    "        print('Running function: ', func.__name__)\n",
    "        print('Positional arguments: ', args)\n",
    "        print('Keyword arguments: ', kwargs)\n",
    "        result = func(*args, **kwargs)\n",
    "        print('Result: ', result)\n",
    "        return result\n",
    "    return new_function"
   ]
  },
  {
   "cell_type": "code",
   "execution_count": 162,
   "id": "c0a9ac7e",
   "metadata": {},
   "outputs": [],
   "source": [
    "def add_ints(a, b):\n",
    "    return a + b"
   ]
  },
  {
   "cell_type": "code",
   "execution_count": 163,
   "id": "5439ba82",
   "metadata": {},
   "outputs": [
    {
     "data": {
      "text/plain": [
       "8"
      ]
     },
     "execution_count": 163,
     "metadata": {},
     "output_type": "execute_result"
    }
   ],
   "source": [
    "add_ints(3, 5)"
   ]
  },
  {
   "cell_type": "code",
   "execution_count": 164,
   "id": "de35de75",
   "metadata": {},
   "outputs": [],
   "source": [
    "cooler_add_ints = document_it(add_ints)   # 데커레이터 수동 할당"
   ]
  },
  {
   "cell_type": "code",
   "execution_count": 165,
   "id": "7034b1c1",
   "metadata": {},
   "outputs": [
    {
     "name": "stdout",
     "output_type": "stream",
     "text": [
      "Running function:  add_ints\n",
      "Positional arguments:  (3, 5)\n",
      "Keyword arguments:  {}\n",
      "Result:  8\n"
     ]
    },
    {
     "data": {
      "text/plain": [
       "8"
      ]
     },
     "execution_count": 165,
     "metadata": {},
     "output_type": "execute_result"
    }
   ],
   "source": [
    "cooler_add_ints(3, 5)"
   ]
  },
  {
   "cell_type": "code",
   "execution_count": 166,
   "id": "45bd5acf",
   "metadata": {},
   "outputs": [],
   "source": [
    "@document_it\n",
    "def add_ints(a, b):\n",
    "    return a + b"
   ]
  },
  {
   "cell_type": "code",
   "execution_count": 167,
   "id": "1504a0ea",
   "metadata": {},
   "outputs": [
    {
     "name": "stdout",
     "output_type": "stream",
     "text": [
      "Running function:  add_ints\n",
      "Positional arguments:  (3, 5)\n",
      "Keyword arguments:  {}\n",
      "Result:  8\n"
     ]
    },
    {
     "data": {
      "text/plain": [
       "8"
      ]
     },
     "execution_count": 167,
     "metadata": {},
     "output_type": "execute_result"
    }
   ],
   "source": [
    "add_ints(3, 5)"
   ]
  },
  {
   "cell_type": "code",
   "execution_count": 168,
   "id": "6363d9ba",
   "metadata": {},
   "outputs": [],
   "source": [
    "def square_it(func):\n",
    "    def new_function(*args, **kwargs):\n",
    "        result = func(*args, **kwargs)\n",
    "        return result * result\n",
    "    return new_function"
   ]
  },
  {
   "cell_type": "code",
   "execution_count": 169,
   "id": "239fc293",
   "metadata": {},
   "outputs": [],
   "source": [
    "@document_it\n",
    "@square_it\n",
    "def add_ints(a, b):\n",
    "    return a + b"
   ]
  },
  {
   "cell_type": "code",
   "execution_count": 170,
   "id": "0f40892b",
   "metadata": {},
   "outputs": [
    {
     "name": "stdout",
     "output_type": "stream",
     "text": [
      "Running function:  new_function\n",
      "Positional arguments:  (3, 5)\n",
      "Keyword arguments:  {}\n",
      "Result:  64\n"
     ]
    },
    {
     "data": {
      "text/plain": [
       "64"
      ]
     },
     "execution_count": 170,
     "metadata": {},
     "output_type": "execute_result"
    }
   ],
   "source": [
    "add_ints(3, 5)"
   ]
  },
  {
   "cell_type": "code",
   "execution_count": 171,
   "id": "1d5021d1",
   "metadata": {},
   "outputs": [],
   "source": [
    "@square_it\n",
    "@document_it\n",
    "def add_ints(a, b):\n",
    "    return a + b"
   ]
  },
  {
   "cell_type": "code",
   "execution_count": 172,
   "id": "b0c26c83",
   "metadata": {},
   "outputs": [
    {
     "name": "stdout",
     "output_type": "stream",
     "text": [
      "Running function:  add_ints\n",
      "Positional arguments:  (3, 5)\n",
      "Keyword arguments:  {}\n",
      "Result:  8\n"
     ]
    },
    {
     "data": {
      "text/plain": [
       "64"
      ]
     },
     "execution_count": 172,
     "metadata": {},
     "output_type": "execute_result"
    }
   ],
   "source": [
    "add_ints(3, 5)"
   ]
  },
  {
   "cell_type": "markdown",
   "id": "7065377c",
   "metadata": {},
   "source": [
    "# 9.10 네임스페이스와 스코프"
   ]
  },
  {
   "cell_type": "code",
   "execution_count": 179,
   "id": "303fb69b",
   "metadata": {},
   "outputs": [],
   "source": [
    "animal = 'fruitbat'"
   ]
  },
  {
   "cell_type": "code",
   "execution_count": 180,
   "id": "d52fcb4b",
   "metadata": {},
   "outputs": [],
   "source": [
    "def print_global():\n",
    "    print('inside print_global:', animal)"
   ]
  },
  {
   "cell_type": "code",
   "execution_count": 181,
   "id": "14cbf695",
   "metadata": {},
   "outputs": [
    {
     "name": "stdout",
     "output_type": "stream",
     "text": [
      "at the top level: fruitbat\n"
     ]
    }
   ],
   "source": [
    "print('at the top level:', animal)"
   ]
  },
  {
   "cell_type": "code",
   "execution_count": 182,
   "id": "99847cee",
   "metadata": {},
   "outputs": [
    {
     "name": "stdout",
     "output_type": "stream",
     "text": [
      "inside print_global: fruitbat\n"
     ]
    }
   ],
   "source": [
    "print_global()"
   ]
  },
  {
   "cell_type": "code",
   "execution_count": 197,
   "id": "7f5123c9",
   "metadata": {},
   "outputs": [],
   "source": [
    "def change_and_print_global():\n",
    "    print('insidechange_and_print_global:', animal)\n",
    "    animal = 'wombat'\n",
    "    print('after the change:', animal)"
   ]
  },
  {
   "cell_type": "code",
   "execution_count": 198,
   "id": "18cd1e98",
   "metadata": {},
   "outputs": [
    {
     "ename": "UnboundLocalError",
     "evalue": "local variable 'animal' referenced before assignment",
     "output_type": "error",
     "traceback": [
      "\u001b[1;31m---------------------------------------------------------------------------\u001b[0m",
      "\u001b[1;31mUnboundLocalError\u001b[0m                         Traceback (most recent call last)",
      "\u001b[1;32m<ipython-input-198-f8c8058a7439>\u001b[0m in \u001b[0;36m<module>\u001b[1;34m\u001b[0m\n\u001b[1;32m----> 1\u001b[1;33m \u001b[0mchange_and_print_global\u001b[0m\u001b[1;33m(\u001b[0m\u001b[1;33m)\u001b[0m\u001b[1;33m\u001b[0m\u001b[1;33m\u001b[0m\u001b[0m\n\u001b[0m",
      "\u001b[1;32m<ipython-input-197-38809aeabdac>\u001b[0m in \u001b[0;36mchange_and_print_global\u001b[1;34m()\u001b[0m\n\u001b[0;32m      1\u001b[0m \u001b[1;32mdef\u001b[0m \u001b[0mchange_and_print_global\u001b[0m\u001b[1;33m(\u001b[0m\u001b[1;33m)\u001b[0m\u001b[1;33m:\u001b[0m\u001b[1;33m\u001b[0m\u001b[1;33m\u001b[0m\u001b[0m\n\u001b[1;32m----> 2\u001b[1;33m     \u001b[0mprint\u001b[0m\u001b[1;33m(\u001b[0m\u001b[1;34m'insidechange_and_print_global:'\u001b[0m\u001b[1;33m,\u001b[0m \u001b[0manimal\u001b[0m\u001b[1;33m)\u001b[0m\u001b[1;33m\u001b[0m\u001b[1;33m\u001b[0m\u001b[0m\n\u001b[0m\u001b[0;32m      3\u001b[0m     \u001b[0manimal\u001b[0m \u001b[1;33m=\u001b[0m \u001b[1;34m'wombat'\u001b[0m\u001b[1;33m\u001b[0m\u001b[1;33m\u001b[0m\u001b[0m\n\u001b[0;32m      4\u001b[0m     \u001b[0mprint\u001b[0m\u001b[1;33m(\u001b[0m\u001b[1;34m'after the change:'\u001b[0m\u001b[1;33m,\u001b[0m \u001b[0manimal\u001b[0m\u001b[1;33m)\u001b[0m\u001b[1;33m\u001b[0m\u001b[1;33m\u001b[0m\u001b[0m\n",
      "\u001b[1;31mUnboundLocalError\u001b[0m: local variable 'animal' referenced before assignment"
     ]
    }
   ],
   "source": [
    "change_and_print_global()"
   ]
  },
  {
   "cell_type": "code",
   "execution_count": 212,
   "id": "5b6b27bf",
   "metadata": {},
   "outputs": [],
   "source": [
    "def change_local():\n",
    "    animal = 'wombat'\n",
    "    print('inside change_local:', animal, id(animal))"
   ]
  },
  {
   "cell_type": "code",
   "execution_count": 213,
   "id": "08816b00",
   "metadata": {},
   "outputs": [
    {
     "name": "stdout",
     "output_type": "stream",
     "text": [
      "inside change_local: wombat 2436879266608\n"
     ]
    }
   ],
   "source": [
    "change_local()"
   ]
  },
  {
   "cell_type": "code",
   "execution_count": 214,
   "id": "3f1287af",
   "metadata": {},
   "outputs": [
    {
     "data": {
      "text/plain": [
       "'fruitbat'"
      ]
     },
     "execution_count": 214,
     "metadata": {},
     "output_type": "execute_result"
    }
   ],
   "source": [
    "animal"
   ]
  },
  {
   "cell_type": "code",
   "execution_count": 215,
   "id": "0f8e6c79",
   "metadata": {},
   "outputs": [
    {
     "data": {
      "text/plain": [
       "2436890542896"
      ]
     },
     "execution_count": 215,
     "metadata": {},
     "output_type": "execute_result"
    }
   ],
   "source": [
    "id(animal)"
   ]
  },
  {
   "cell_type": "code",
   "execution_count": 222,
   "id": "6d0fd20a",
   "metadata": {},
   "outputs": [],
   "source": [
    "animal = 'fruitbat'\n",
    "def change_and_print_global():\n",
    "    global animal \n",
    "    animal = 'wombat'\n",
    "    print('after the change:',animal)"
   ]
  },
  {
   "cell_type": "code",
   "execution_count": 223,
   "id": "76ff9ebe",
   "metadata": {},
   "outputs": [
    {
     "data": {
      "text/plain": [
       "'fruitbat'"
      ]
     },
     "execution_count": 223,
     "metadata": {},
     "output_type": "execute_result"
    }
   ],
   "source": [
    "animal"
   ]
  },
  {
   "cell_type": "code",
   "execution_count": 224,
   "id": "b92e2cbf",
   "metadata": {},
   "outputs": [
    {
     "name": "stdout",
     "output_type": "stream",
     "text": [
      "after the change: wombat\n"
     ]
    }
   ],
   "source": [
    "change_and_print_global()"
   ]
  },
  {
   "cell_type": "code",
   "execution_count": 225,
   "id": "85add105",
   "metadata": {},
   "outputs": [
    {
     "data": {
      "text/plain": [
       "'wombat'"
      ]
     },
     "execution_count": 225,
     "metadata": {},
     "output_type": "execute_result"
    }
   ],
   "source": [
    "animal"
   ]
  },
  {
   "cell_type": "code",
   "execution_count": 232,
   "id": "a923a45d",
   "metadata": {},
   "outputs": [],
   "source": [
    "animal = 'fruitbat'  # 전역 변수"
   ]
  },
  {
   "cell_type": "code",
   "execution_count": 233,
   "id": "d1cbe088",
   "metadata": {},
   "outputs": [],
   "source": [
    "def change_local():\n",
    "    animal = 'wombat'  # 지역 변수\n",
    "    print('locals:', locals())"
   ]
  },
  {
   "cell_type": "code",
   "execution_count": 234,
   "id": "fd0d2082",
   "metadata": {},
   "outputs": [
    {
     "data": {
      "text/plain": [
       "'fruitbat'"
      ]
     },
     "execution_count": 234,
     "metadata": {},
     "output_type": "execute_result"
    }
   ],
   "source": [
    "animal"
   ]
  },
  {
   "cell_type": "code",
   "execution_count": 235,
   "id": "ceb4390e",
   "metadata": {},
   "outputs": [
    {
     "name": "stdout",
     "output_type": "stream",
     "text": [
      "locals: {'animal': 'wombat'}\n"
     ]
    }
   ],
   "source": [
    "change_local()"
   ]
  },
  {
   "cell_type": "code",
   "execution_count": 237,
   "id": "9f1e2aa5",
   "metadata": {},
   "outputs": [
    {
     "name": "stdout",
     "output_type": "stream",
     "text": [
      "globals: {'__name__': '__main__', '__doc__': 'Automatically created module for IPython interactive environment', '__package__': None, '__loader__': None, '__spec__': None, '__builtin__': <module 'builtins' (built-in)>, '__builtins__': <module 'builtins' (built-in)>, '_ih': ['', 'def do_nothing():\\n    pass', 'do_nothing()', 'def make_a_sound():', \"def make_a_sound():\\n    print('quack')\", 'make_a_sound()', 'def agree():\\n    return True', 'agree()', \"if agree():\\n    print('Splendid!')\\nelse:\\n    print('That was unexpected.')\", \"def echo(anything):\\n    return anything + ' ' + anything\", \"echo('Rumplestiltskin')\", 'echo(123)', 'def commentary(color):\\n    if color == \\'red\\':\\n        return \"It\\'s a tomato.\"\\n    elif color == \"green\":\\n        return \"It\\'s a green pepper.\"\\n    elif color == \"bee purple\":\\n        return \"I don\\'t know what it is, but only bees can see it.\"\\n    else:\\n        return \"I\\'ve never heard of the color \" + color + \".\"', 'commentary(blue)', \"commentary('blue')\", 'print(comment)', 'def commentary(color):\\n    if color == \\'red\\':\\n        return \"It\\'s a tomato.\"\\n    elif color == \"green\":\\n        return \"It\\'s a green pepper.\"\\n    elif color == \"bee purple\":\\n        return \"I don\\'t know what it is, but only bees can see it.\"\\n    else:\\n        return \"I\\'ve never heard of the color \" + color + \".\"', \"comment = commentary('blue')\", 'print(comment)', 'print(do_nothing())', 'thing = None\\nif thing:\\n    print(\"It\\'s some thing\")', 'thing = None\\nif thing:\\n    print(\"It\\'s some thing\")\\nelse:\\n    print(\"It\\'s no thing\")', 'thing = None\\nif thing is None:\\n    print(\"It\\'s nothing\")\\nelse:\\n    print(\"It\\'s something\")', 'type(thing)', 'def whatis(thing):\\n    if thing is None:\\n        print(thing, \"is None\")\\n    elif thing:', 'def whatis(thing):\\n    if thing is None:\\n        print(thing, \"is None\")\\n    elif thing:\\n        print(thing, \"is True\")\\n    else:\\n        print(thing, \"is False\")', 'whtis(None)', 'whatis(None)', 'whatis(True)', 'whatis(False)', 'def whatis(thing):\\n    if thing is None:\\n        print(thing, \"is None\")\\n    elif thing:\\n        print(thing, \"is True\")\\n    else:\\n        print(thing, \"is False\")', 'whatis(None)', 'whatis(True)', 'whatis(False)', \"def menu(wine, entree, dessert):\\n    return {'wine':wine, 'entree':entree, 'dessert':dessert}\", \"menu('chardonnay', 'chicken', 'cake')\", \"menue('beef', 'bagel', 'bordeaux')\", \"menu('beef', 'bagel', 'bordeaux')\", \"menu(entree = 'beef', dessert = 'bagel', wine = 'bordeaux')\", \"menu('frontenac', dessert='flan', entree='fish')\", \"def menu(wine, entree, dessert='pudding'):\\n    return {'wine':wine, 'entree':entree, 'dessert':dessert}\", \"menu('chardonnay', 'chicken')\", \"menu('dunkelfelder', 'duck', 'doughnut')\", 'def buggy(arg, result=[]):\\n    result.append(arg)\\n    print(result)', \"buggy('a')\", \"buggy('b')   # expect['b']\", 'def works(arg):\\n    result = []\\n    result.append(arg)\\n    return result', \"orks('a')\", \"works('a')\", \"works('b)')\", \"works('b')\", 'def nonbuggy(arg, result = None):\\n    if result is None:\\n        result = []\\n    result.append(arg)\\n    print(result)', \"nonbuggy('a)')\", \"nonbuggy('a')\", \"nonbuggy['b']\", \"nonbuggy('b')\", \"nonbuggy('c', nonbuggy)\", \"nonbuggy('c', result)\", 'def nonbuggy(arg, result = None):\\n    if result is None:\\n        result = []\\n    result.append(arg)\\n    print(result)', \"nonbuggy('a')\", \"nonbuggy('b')\", \"nonbuggy('c', result)\", \"nonbuggy('c', listResult)\", \"nonbuggy('b')\", \"nonbuggy('c')\", 'def nonbuggy(arg, result = None):\\n    if result is None:\\n        result = []\\n    result.append(arg)\\n    print(result)', \"nonbuggy('a')\", \"nonbuggy('b', None)\", \"listResult = nonbuggy('a')\", \"nonbuggy('b', listResult)\", \"listResult = nonbuggy('a')\", 'def nonbuggy(arg, result = None):\\n    if result is None:\\n        result = []\\n    result.append(arg)\\n    return result', \"listResult = nonbuggy('a')\", \"nonbuggy('b', listResult)\", \"nonbuggy('c')\", \"def print_args(*args):\\n    print('Positional tuple:', args)\", 'print_args()', \"print_args(3, 2, 1, 'wait!', 'uh...')\", 'def print_kwargs(**parameters):\\n    print(\"keyword arguments : \", parameters)', \"print_kwargs(name='kim', phone='1234', addr='dong')\", 'def print_kwargs(*parameters):\\n    print(\"keyword arguments : \", parameters)', \"print_kwargs(name='kim', phone='1234', addr='dong')\", 'def print_kwargs(**parameters):\\n    print(\"keyword arguments : \", parameters)', \"print_kwargs(name='kim', phone='1234', addr='dong')\", \"print_kwargs(name='kim', phone='1234', addr='dong')\", \"def print_more(required1, required2, *args):\\n    print('Need this one: ', required1)\\n    print('Need this one. too: ', required2)\\n    print('All the rest: ', args)\", \"print_more('cap', 'gloves', 'scarf', 'monocle', 'mustache wax')\", \"print_args(2, 5, 7, 'x')\", \"args = (2,5,6,'x')\", 'print_args(args)', 'print_args(*args)', '*args', \"def echo(anything):\\n    'echo returns its input argument'\\n    return anything\", \"def echo(anything):\\n    'echo returns its input argument'\\n    return anything\", \"def print_if_true(thing, check):\\n    '''\\n    prints the first argument if a second argument is true.\\n    The operation is:\\n        1. Check whether the *second* argument is true.\\n        2. If it is, print the *first* argument.\\n    '''\\n    if check:\\n        print(thing)\", \"echo('red')\", 'echo.__doc__', 'help(echo)', 'print(echo.__doc__)', \"def print_kwargs(**kwargs):\\n    print('Keyword arguments: ', kwargs)\", 'print_kwargs()', \"print_kwargs(wine='merlot', entree='mutton', dessert='macaroon')\", 'def print_data(data, *, start=0, end=100):\\n    for value in (data[start:ent]):\\n        print(value)', \"data = ['a', 'b', 'c', 'd', 'e', 'f']\", 'print_data(data)', 'def print_data(data, *, start=0, end=100):\\n    for value in (data[start:end]):\\n        print(value)', \"data = ['a', 'b', 'c', 'd', 'e', 'f']\", 'print_data(data)', 'print_data(data, start=4)', 'print_data(data, end=2)', \"outside = ['one', 'fine', 'day']\", \"def mangle(arg):\\n    arg[1] = 'terrible!'\", 'outside', 'mangle(outside)', 'outside', 'def edit_story(words, func):\\n    for word in words:\\n        print(func(word))', \"stairs = ['thud', 'meow', 'thud', 'hiss']\", 'def enliven(word):   # 첫 글자를 대문자로 만들고 느낌표 붙이기\\n    return word.capitalize() + \\'!\"\"\\'', \"def enliven(word):   # 첫 글자를 대문자로 만들고 느낌표 붙이기\\n\\n    return word.capitalize() + '!'\", 'edit_story(stairs, enliven)', \"edit_story(stairs, lambda word: word.capitalize() + '!'())\", \"edit_story(stairs, lambda word: word.capitalize() + '!'\", \"edit_story(stairs, lambda word: word.capitalize() + '!')\", 'len', 'mylen = len', \"mylen('abc')\", 'type(len)', 'type(len())', 'len.__doc__', 'sum(range(1, 101))', 'def my_range(first=0, last=10, step=1):\\n    number = first\\n    while number < last:\\n        yiel number\\n        number += step', 'def my_range(first=0, last=10, step=1):\\n    number = first\\n    while number < last:\\n        yield number\\n        number += step', 'my_range', 'ranger = my_range(1,5)\\nranger', 'for x in ranger:\\n    print(x)', 'for try_again in ranger:\\n    print(try_again)', 'def my_range(first=0, last=10, step=1):\\n    number = first\\n    while number < last:\\n        yield number\\n        number += step', 'my_range', 'ranger = my_range(1,5)\\nranger', 'for x in ranger:\\n    print(x)', 'for x in ranger:\\n    print(x)', 'def my_range(first=0, last=10, step=1):\\n    number = first\\n    while number < last:\\n        yield number\\n        number += step', 'my_range', 'ranger = my_range(1,5)\\nranger', 'for x in ranger:\\n    print(x)', 'for try_again in ranger:\\n    print(try_again)', 'for try_again in ranger:\\n    print(try_again)', \"genobj = (pair for pair in zip(['a','b'],['1','2']))\\ngenobj\", 'for thing in genobj:\\n    print(thing)', \"def document_it(func):\\n    def new_function(*args, **kwargs):\\n        print('Running function: ', func.__name__)\\n        print('Positional arguments: ', args)\\n        print('Keyword arguments: ', kwargs)\\n        result = func(*args, **kwargs)\", \"def document_it(func):\\n    def new_function(*args, **kwargs):\\n        print('Running function: ', func.__name__)\\n        print('Positional arguments: ', args)\\n        print('Keyword arguments: ', kwargs)\\n        result = func(*args, **kwargs)\\n        print('Result: ', result)\\n        return result\\n    return new_function\", 'document_it(len)', 'document_it(len())', 'document_it(sum', 'document_it(sum)', 'new_function(sum)', 'document_it(sum)', 'new_function(sum)', 'document_it(sum())', 'document_it()', \"document_it('aaa')\", 'document_it()', 'def add_ints(a, b):\\n    return a + b', 'add_ints(3, 5)', 'cooler_add_ints = document_it(add_ints)   # 데커레이터 수동 할당', 'cooler_add_ints(3, 5)', '@document_it\\ndef add_ints(a, b):\\n    return a + b', 'add_ints(3, 5)', 'def square_it(func):\\n    def new_function(*args, **kwargs):\\n        result = func(*args, **kwargs)\\n        return result * result\\n    return new_function', '@document_it\\n@square_it\\ndef add_ints(a, b):\\n    return a + b', 'add_ints(3, 5)', '@square_it\\n@document_it\\ndef add_ints(a, b):\\n    return a + b', 'add_ints(3, 5)', \"animal = 'fruitbat'\", \"def print_global():\\n    print('inside print_global: ', animal)\", \"print('at the top level: ', animal)\", 'print_global()', \"animal = 'fruitbat'\", \"animal = 'fruitbat'\", \"animal = 'fruitbat'\", \"def print_global():\\n    print('inside print_global:', animal)\", \"print('at the top level:', animal)\", 'print_global()', \"def change_and_print_global():\\n    print('insidechange_and_print_global:', animal).\\n    animal = 'wombat'\\n    print('after the change:', animal)\", \"def change_and_print_global():\\n    print('insidechange_and_print_global:', animal)\\n    animal = 'wombat'\\n    print('after the change:', animal)\", 'change_and_print_global().', 'change_and_print_global()', \"def change_and_print_global(animal):\\n    print('insidechange_and_print_global:', animal)\\n    animal = 'wombat'\\n    print('after the change:', animal)\", 'change_and_print_global()', \"def change_and_print_global():\\n    print('insidechange_and_print_global:', animal)\\n    animal = 'wombat'\\n    print('after the change:', animal)\", 'change_and_print_global()', \"def change_and_print_global():\\n    print('insidechange_and_print_global:', animal)\", 'change_and_print_global()', \"def change_and_print_global():\\n    print('insidechange_and_print_global:', animal)\\n    print('after the change:', animal)\", 'change_and_print_global()', \"def change_and_print_global():\\n    print('insidechange_and_print_global:', animal)\\n    animal = 'wombat'\\n    print('after the change:', animal)\", 'change_and_print_global()', \"def change_and_print_global():\\n    print('insidechange_and_print_global:', animal)\\n    animal = 'wombat'\\n    print('after the change:', animal)\", 'change_and_print_global()', \"def change_local():\\n    animal = 'wombat'\\n    print('inside change_local:', anmimal, id(animal))\", 'change_local', 'change_local()', \"def change_local():\\n    animal = 'wombat'\\n    print('inside change_local:', animal, id(animal))\", 'change_local()', 'animal', 'id(animal)', \"def change_local():\\n    print('inside change_local:', animal, id(animal))\", 'change_local()', \"def change_local():\\n    animal = 'wombat'\\n    print('inside change_local:', animal, id(animal))\", 'change_local()', 'animal', 'id(animal)', \"def change_local():\\n    animal = 'wombat'\\n    print('inside change_local:', animal, id(animal))\", 'change_local()', 'animal', 'id(animal)', \"animal = 'fruitbat'\\ndef change_and_print_global():\\n    global animal\\n    animal = 'wombat'\\n    print('after the change:',animal)\", 'animal', 'change_and_print_global()', 'animal', \"animal = 'fruitbat'\\ndef change_and_print_global():\\n    global animal = 'wombat'\\n    print('after the change:',animal)\", \"animal = 'fruitbat'\\ndef change_and_print_global():\\n    global animal = 'wombat'\\n    print('after the change:',animal)\", \"animal = 'fruitbat'\\ndef change_and_print_global():\\n    global animal \\n    animal = 'wombat'\\n    print('after the change:',animal)\", 'animal', 'change_and_print_global()', 'animal', \"animal = 'fruitbat'  # 전역 변수\", \"def change_local():\\n    animal = 'wombat'  # 지역 변수\\n    print('locals:', locals())\", 'animal', 'change_local()', \"print('globals:', globals())\", 'animal', \"animal = 'fruitbat'  # 전역 변수\", \"def change_local():\\n    animal = 'wombat'  # 지역 변수\\n    print('locals:', locals())\", 'animal', 'change_local()', 'animal', \"print('globals:', globals())\"], '_oh': {7: True, 10: 'Rumplestiltskin Rumplestiltskin', 14: \"I've never heard of the color blue.\", 23: <class 'NoneType'>, 35: {'wine': 'chardonnay', 'entree': 'chicken', 'dessert': 'cake'}, 37: {'wine': 'beef', 'entree': 'bagel', 'dessert': 'bordeaux'}, 38: {'wine': 'bordeaux', 'entree': 'beef', 'dessert': 'bagel'}, 39: {'wine': 'frontenac', 'entree': 'fish', 'dessert': 'flan'}, 41: {'wine': 'chardonnay', 'entree': 'chicken', 'dessert': 'pudding'}, 42: {'wine': 'dunkelfelder', 'entree': 'duck', 'dessert': 'doughnut'}, 48: ['a'], 49: ['b)'], 50: ['b'], 73: ['a', 'b'], 74: ['c'], 95: 'red', 96: 'echo returns its input argument', 112: ['one', 'terrible!', 'day'], 114: ['one', 'terrible!', 'day'], 123: <built-in function len>, 125: 3, 126: <class 'builtin_function_or_method'>, 128: 'Return the number of items in a container.', 129: 5050, 132: <function my_range at 0x0000023761BA7DC0>, 133: <generator object my_range at 0x000002376132D970>, 137: <function my_range at 0x00000237613958B0>, 138: <generator object my_range at 0x000002376132DF90>, 142: <function my_range at 0x0000023761395E50>, 143: <generator object my_range at 0x0000023761433580>, 147: <generator object <genexpr> at 0x0000023761433B30>, 151: <function document_it.<locals>.new_function at 0x0000023761395820>, 154: <function document_it.<locals>.new_function at 0x0000023761395B80>, 156: <function document_it.<locals>.new_function at 0x0000023761395F70>, 160: <function document_it.<locals>.new_function at 0x0000023761395C10>, 163: 8, 165: 8, 167: 8, 170: 64, 172: 64, 200: <function change_local at 0x00000237613ED280>, 204: 'fruitbat', 205: 2436890542896, 210: 'fruitbat', 211: 2436890542896, 214: 'fruitbat', 215: 2436890542896, 217: 'fruitbat', 219: 'wombat', 223: 'fruitbat', 225: 'wombat', 228: 'fruitbat', 231: 'fruitbat', 234: 'fruitbat', 236: 'fruitbat'}, '_dh': ['C:\\\\Users\\\\User\\\\Desktop\\\\빅데이터 분석\\\\Python\\\\Code\\\\20211110 Python 3일차'], 'In': ['', 'def do_nothing():\\n    pass', 'do_nothing()', 'def make_a_sound():', \"def make_a_sound():\\n    print('quack')\", 'make_a_sound()', 'def agree():\\n    return True', 'agree()', \"if agree():\\n    print('Splendid!')\\nelse:\\n    print('That was unexpected.')\", \"def echo(anything):\\n    return anything + ' ' + anything\", \"echo('Rumplestiltskin')\", 'echo(123)', 'def commentary(color):\\n    if color == \\'red\\':\\n        return \"It\\'s a tomato.\"\\n    elif color == \"green\":\\n        return \"It\\'s a green pepper.\"\\n    elif color == \"bee purple\":\\n        return \"I don\\'t know what it is, but only bees can see it.\"\\n    else:\\n        return \"I\\'ve never heard of the color \" + color + \".\"', 'commentary(blue)', \"commentary('blue')\", 'print(comment)', 'def commentary(color):\\n    if color == \\'red\\':\\n        return \"It\\'s a tomato.\"\\n    elif color == \"green\":\\n        return \"It\\'s a green pepper.\"\\n    elif color == \"bee purple\":\\n        return \"I don\\'t know what it is, but only bees can see it.\"\\n    else:\\n        return \"I\\'ve never heard of the color \" + color + \".\"', \"comment = commentary('blue')\", 'print(comment)', 'print(do_nothing())', 'thing = None\\nif thing:\\n    print(\"It\\'s some thing\")', 'thing = None\\nif thing:\\n    print(\"It\\'s some thing\")\\nelse:\\n    print(\"It\\'s no thing\")', 'thing = None\\nif thing is None:\\n    print(\"It\\'s nothing\")\\nelse:\\n    print(\"It\\'s something\")', 'type(thing)', 'def whatis(thing):\\n    if thing is None:\\n        print(thing, \"is None\")\\n    elif thing:', 'def whatis(thing):\\n    if thing is None:\\n        print(thing, \"is None\")\\n    elif thing:\\n        print(thing, \"is True\")\\n    else:\\n        print(thing, \"is False\")', 'whtis(None)', 'whatis(None)', 'whatis(True)', 'whatis(False)', 'def whatis(thing):\\n    if thing is None:\\n        print(thing, \"is None\")\\n    elif thing:\\n        print(thing, \"is True\")\\n    else:\\n        print(thing, \"is False\")', 'whatis(None)', 'whatis(True)', 'whatis(False)', \"def menu(wine, entree, dessert):\\n    return {'wine':wine, 'entree':entree, 'dessert':dessert}\", \"menu('chardonnay', 'chicken', 'cake')\", \"menue('beef', 'bagel', 'bordeaux')\", \"menu('beef', 'bagel', 'bordeaux')\", \"menu(entree = 'beef', dessert = 'bagel', wine = 'bordeaux')\", \"menu('frontenac', dessert='flan', entree='fish')\", \"def menu(wine, entree, dessert='pudding'):\\n    return {'wine':wine, 'entree':entree, 'dessert':dessert}\", \"menu('chardonnay', 'chicken')\", \"menu('dunkelfelder', 'duck', 'doughnut')\", 'def buggy(arg, result=[]):\\n    result.append(arg)\\n    print(result)', \"buggy('a')\", \"buggy('b')   # expect['b']\", 'def works(arg):\\n    result = []\\n    result.append(arg)\\n    return result', \"orks('a')\", \"works('a')\", \"works('b)')\", \"works('b')\", 'def nonbuggy(arg, result = None):\\n    if result is None:\\n        result = []\\n    result.append(arg)\\n    print(result)', \"nonbuggy('a)')\", \"nonbuggy('a')\", \"nonbuggy['b']\", \"nonbuggy('b')\", \"nonbuggy('c', nonbuggy)\", \"nonbuggy('c', result)\", 'def nonbuggy(arg, result = None):\\n    if result is None:\\n        result = []\\n    result.append(arg)\\n    print(result)', \"nonbuggy('a')\", \"nonbuggy('b')\", \"nonbuggy('c', result)\", \"nonbuggy('c', listResult)\", \"nonbuggy('b')\", \"nonbuggy('c')\", 'def nonbuggy(arg, result = None):\\n    if result is None:\\n        result = []\\n    result.append(arg)\\n    print(result)', \"nonbuggy('a')\", \"nonbuggy('b', None)\", \"listResult = nonbuggy('a')\", \"nonbuggy('b', listResult)\", \"listResult = nonbuggy('a')\", 'def nonbuggy(arg, result = None):\\n    if result is None:\\n        result = []\\n    result.append(arg)\\n    return result', \"listResult = nonbuggy('a')\", \"nonbuggy('b', listResult)\", \"nonbuggy('c')\", \"def print_args(*args):\\n    print('Positional tuple:', args)\", 'print_args()', \"print_args(3, 2, 1, 'wait!', 'uh...')\", 'def print_kwargs(**parameters):\\n    print(\"keyword arguments : \", parameters)', \"print_kwargs(name='kim', phone='1234', addr='dong')\", 'def print_kwargs(*parameters):\\n    print(\"keyword arguments : \", parameters)', \"print_kwargs(name='kim', phone='1234', addr='dong')\", 'def print_kwargs(**parameters):\\n    print(\"keyword arguments : \", parameters)', \"print_kwargs(name='kim', phone='1234', addr='dong')\", \"print_kwargs(name='kim', phone='1234', addr='dong')\", \"def print_more(required1, required2, *args):\\n    print('Need this one: ', required1)\\n    print('Need this one. too: ', required2)\\n    print('All the rest: ', args)\", \"print_more('cap', 'gloves', 'scarf', 'monocle', 'mustache wax')\", \"print_args(2, 5, 7, 'x')\", \"args = (2,5,6,'x')\", 'print_args(args)', 'print_args(*args)', '*args', \"def echo(anything):\\n    'echo returns its input argument'\\n    return anything\", \"def echo(anything):\\n    'echo returns its input argument'\\n    return anything\", \"def print_if_true(thing, check):\\n    '''\\n    prints the first argument if a second argument is true.\\n    The operation is:\\n        1. Check whether the *second* argument is true.\\n        2. If it is, print the *first* argument.\\n    '''\\n    if check:\\n        print(thing)\", \"echo('red')\", 'echo.__doc__', 'help(echo)', 'print(echo.__doc__)', \"def print_kwargs(**kwargs):\\n    print('Keyword arguments: ', kwargs)\", 'print_kwargs()', \"print_kwargs(wine='merlot', entree='mutton', dessert='macaroon')\", 'def print_data(data, *, start=0, end=100):\\n    for value in (data[start:ent]):\\n        print(value)', \"data = ['a', 'b', 'c', 'd', 'e', 'f']\", 'print_data(data)', 'def print_data(data, *, start=0, end=100):\\n    for value in (data[start:end]):\\n        print(value)', \"data = ['a', 'b', 'c', 'd', 'e', 'f']\", 'print_data(data)', 'print_data(data, start=4)', 'print_data(data, end=2)', \"outside = ['one', 'fine', 'day']\", \"def mangle(arg):\\n    arg[1] = 'terrible!'\", 'outside', 'mangle(outside)', 'outside', 'def edit_story(words, func):\\n    for word in words:\\n        print(func(word))', \"stairs = ['thud', 'meow', 'thud', 'hiss']\", 'def enliven(word):   # 첫 글자를 대문자로 만들고 느낌표 붙이기\\n    return word.capitalize() + \\'!\"\"\\'', \"def enliven(word):   # 첫 글자를 대문자로 만들고 느낌표 붙이기\\n\\n    return word.capitalize() + '!'\", 'edit_story(stairs, enliven)', \"edit_story(stairs, lambda word: word.capitalize() + '!'())\", \"edit_story(stairs, lambda word: word.capitalize() + '!'\", \"edit_story(stairs, lambda word: word.capitalize() + '!')\", 'len', 'mylen = len', \"mylen('abc')\", 'type(len)', 'type(len())', 'len.__doc__', 'sum(range(1, 101))', 'def my_range(first=0, last=10, step=1):\\n    number = first\\n    while number < last:\\n        yiel number\\n        number += step', 'def my_range(first=0, last=10, step=1):\\n    number = first\\n    while number < last:\\n        yield number\\n        number += step', 'my_range', 'ranger = my_range(1,5)\\nranger', 'for x in ranger:\\n    print(x)', 'for try_again in ranger:\\n    print(try_again)', 'def my_range(first=0, last=10, step=1):\\n    number = first\\n    while number < last:\\n        yield number\\n        number += step', 'my_range', 'ranger = my_range(1,5)\\nranger', 'for x in ranger:\\n    print(x)', 'for x in ranger:\\n    print(x)', 'def my_range(first=0, last=10, step=1):\\n    number = first\\n    while number < last:\\n        yield number\\n        number += step', 'my_range', 'ranger = my_range(1,5)\\nranger', 'for x in ranger:\\n    print(x)', 'for try_again in ranger:\\n    print(try_again)', 'for try_again in ranger:\\n    print(try_again)', \"genobj = (pair for pair in zip(['a','b'],['1','2']))\\ngenobj\", 'for thing in genobj:\\n    print(thing)', \"def document_it(func):\\n    def new_function(*args, **kwargs):\\n        print('Running function: ', func.__name__)\\n        print('Positional arguments: ', args)\\n        print('Keyword arguments: ', kwargs)\\n        result = func(*args, **kwargs)\", \"def document_it(func):\\n    def new_function(*args, **kwargs):\\n        print('Running function: ', func.__name__)\\n        print('Positional arguments: ', args)\\n        print('Keyword arguments: ', kwargs)\\n        result = func(*args, **kwargs)\\n        print('Result: ', result)\\n        return result\\n    return new_function\", 'document_it(len)', 'document_it(len())', 'document_it(sum', 'document_it(sum)', 'new_function(sum)', 'document_it(sum)', 'new_function(sum)', 'document_it(sum())', 'document_it()', \"document_it('aaa')\", 'document_it()', 'def add_ints(a, b):\\n    return a + b', 'add_ints(3, 5)', 'cooler_add_ints = document_it(add_ints)   # 데커레이터 수동 할당', 'cooler_add_ints(3, 5)', '@document_it\\ndef add_ints(a, b):\\n    return a + b', 'add_ints(3, 5)', 'def square_it(func):\\n    def new_function(*args, **kwargs):\\n        result = func(*args, **kwargs)\\n        return result * result\\n    return new_function', '@document_it\\n@square_it\\ndef add_ints(a, b):\\n    return a + b', 'add_ints(3, 5)', '@square_it\\n@document_it\\ndef add_ints(a, b):\\n    return a + b', 'add_ints(3, 5)', \"animal = 'fruitbat'\", \"def print_global():\\n    print('inside print_global: ', animal)\", \"print('at the top level: ', animal)\", 'print_global()', \"animal = 'fruitbat'\", \"animal = 'fruitbat'\", \"animal = 'fruitbat'\", \"def print_global():\\n    print('inside print_global:', animal)\", \"print('at the top level:', animal)\", 'print_global()', \"def change_and_print_global():\\n    print('insidechange_and_print_global:', animal).\\n    animal = 'wombat'\\n    print('after the change:', animal)\", \"def change_and_print_global():\\n    print('insidechange_and_print_global:', animal)\\n    animal = 'wombat'\\n    print('after the change:', animal)\", 'change_and_print_global().', 'change_and_print_global()', \"def change_and_print_global(animal):\\n    print('insidechange_and_print_global:', animal)\\n    animal = 'wombat'\\n    print('after the change:', animal)\", 'change_and_print_global()', \"def change_and_print_global():\\n    print('insidechange_and_print_global:', animal)\\n    animal = 'wombat'\\n    print('after the change:', animal)\", 'change_and_print_global()', \"def change_and_print_global():\\n    print('insidechange_and_print_global:', animal)\", 'change_and_print_global()', \"def change_and_print_global():\\n    print('insidechange_and_print_global:', animal)\\n    print('after the change:', animal)\", 'change_and_print_global()', \"def change_and_print_global():\\n    print('insidechange_and_print_global:', animal)\\n    animal = 'wombat'\\n    print('after the change:', animal)\", 'change_and_print_global()', \"def change_and_print_global():\\n    print('insidechange_and_print_global:', animal)\\n    animal = 'wombat'\\n    print('after the change:', animal)\", 'change_and_print_global()', \"def change_local():\\n    animal = 'wombat'\\n    print('inside change_local:', anmimal, id(animal))\", 'change_local', 'change_local()', \"def change_local():\\n    animal = 'wombat'\\n    print('inside change_local:', animal, id(animal))\", 'change_local()', 'animal', 'id(animal)', \"def change_local():\\n    print('inside change_local:', animal, id(animal))\", 'change_local()', \"def change_local():\\n    animal = 'wombat'\\n    print('inside change_local:', animal, id(animal))\", 'change_local()', 'animal', 'id(animal)', \"def change_local():\\n    animal = 'wombat'\\n    print('inside change_local:', animal, id(animal))\", 'change_local()', 'animal', 'id(animal)', \"animal = 'fruitbat'\\ndef change_and_print_global():\\n    global animal\\n    animal = 'wombat'\\n    print('after the change:',animal)\", 'animal', 'change_and_print_global()', 'animal', \"animal = 'fruitbat'\\ndef change_and_print_global():\\n    global animal = 'wombat'\\n    print('after the change:',animal)\", \"animal = 'fruitbat'\\ndef change_and_print_global():\\n    global animal = 'wombat'\\n    print('after the change:',animal)\", \"animal = 'fruitbat'\\ndef change_and_print_global():\\n    global animal \\n    animal = 'wombat'\\n    print('after the change:',animal)\", 'animal', 'change_and_print_global()', 'animal', \"animal = 'fruitbat'  # 전역 변수\", \"def change_local():\\n    animal = 'wombat'  # 지역 변수\\n    print('locals:', locals())\", 'animal', 'change_local()', \"print('globals:', globals())\", 'animal', \"animal = 'fruitbat'  # 전역 변수\", \"def change_local():\\n    animal = 'wombat'  # 지역 변수\\n    print('locals:', locals())\", 'animal', 'change_local()', 'animal', \"print('globals:', globals())\"], 'Out': {7: True, 10: 'Rumplestiltskin Rumplestiltskin', 14: \"I've never heard of the color blue.\", 23: <class 'NoneType'>, 35: {'wine': 'chardonnay', 'entree': 'chicken', 'dessert': 'cake'}, 37: {'wine': 'beef', 'entree': 'bagel', 'dessert': 'bordeaux'}, 38: {'wine': 'bordeaux', 'entree': 'beef', 'dessert': 'bagel'}, 39: {'wine': 'frontenac', 'entree': 'fish', 'dessert': 'flan'}, 41: {'wine': 'chardonnay', 'entree': 'chicken', 'dessert': 'pudding'}, 42: {'wine': 'dunkelfelder', 'entree': 'duck', 'dessert': 'doughnut'}, 48: ['a'], 49: ['b)'], 50: ['b'], 73: ['a', 'b'], 74: ['c'], 95: 'red', 96: 'echo returns its input argument', 112: ['one', 'terrible!', 'day'], 114: ['one', 'terrible!', 'day'], 123: <built-in function len>, 125: 3, 126: <class 'builtin_function_or_method'>, 128: 'Return the number of items in a container.', 129: 5050, 132: <function my_range at 0x0000023761BA7DC0>, 133: <generator object my_range at 0x000002376132D970>, 137: <function my_range at 0x00000237613958B0>, 138: <generator object my_range at 0x000002376132DF90>, 142: <function my_range at 0x0000023761395E50>, 143: <generator object my_range at 0x0000023761433580>, 147: <generator object <genexpr> at 0x0000023761433B30>, 151: <function document_it.<locals>.new_function at 0x0000023761395820>, 154: <function document_it.<locals>.new_function at 0x0000023761395B80>, 156: <function document_it.<locals>.new_function at 0x0000023761395F70>, 160: <function document_it.<locals>.new_function at 0x0000023761395C10>, 163: 8, 165: 8, 167: 8, 170: 64, 172: 64, 200: <function change_local at 0x00000237613ED280>, 204: 'fruitbat', 205: 2436890542896, 210: 'fruitbat', 211: 2436890542896, 214: 'fruitbat', 215: 2436890542896, 217: 'fruitbat', 219: 'wombat', 223: 'fruitbat', 225: 'wombat', 228: 'fruitbat', 231: 'fruitbat', 234: 'fruitbat', 236: 'fruitbat'}, 'get_ipython': <bound method InteractiveShell.get_ipython of <ipykernel.zmqshell.ZMQInteractiveShell object at 0x00000237601B0850>>, 'exit': <IPython.core.autocall.ZMQExitAutocall object at 0x0000023760221580>, 'quit': <IPython.core.autocall.ZMQExitAutocall object at 0x0000023760221580>, '_': 'fruitbat', '__': 'fruitbat', '___': 'fruitbat', '_i': 'animal', '_ii': 'change_local()', '_iii': 'animal', '_i1': 'def do_nothing():\\n    pass', 'do_nothing': <function do_nothing at 0x000002376024CF70>, '_i2': 'do_nothing()', '_i3': 'def make_a_sound():', '_i4': \"def make_a_sound():\\n    print('quack')\", 'make_a_sound': <function make_a_sound at 0x000002376024CEE0>, '_i5': 'make_a_sound()', '_i6': 'def agree():\\n    return True', 'agree': <function agree at 0x0000023760291160>, '_i7': 'agree()', '_7': True, '_i8': \"if agree():\\n    print('Splendid!')\\nelse:\\n    print('That was unexpected.')\", '_i9': \"def echo(anything):\\n    return anything + ' ' + anything\", 'echo': <function echo at 0x0000023761BA7160>, '_i10': \"echo('Rumplestiltskin')\", '_10': 'Rumplestiltskin Rumplestiltskin', '_i11': 'echo(123)', '_i12': 'def commentary(color):\\n    if color == \\'red\\':\\n        return \"It\\'s a tomato.\"\\n    elif color == \"green\":\\n        return \"It\\'s a green pepper.\"\\n    elif color == \"bee purple\":\\n        return \"I don\\'t know what it is, but only bees can see it.\"\\n    else:\\n        return \"I\\'ve never heard of the color \" + color + \".\"', 'commentary': <function commentary at 0x0000023760333790>, '_i13': 'commentary(blue)', '_i14': \"commentary('blue')\", '_14': \"I've never heard of the color blue.\", '_i15': 'print(comment)', '_i16': 'def commentary(color):\\n    if color == \\'red\\':\\n        return \"It\\'s a tomato.\"\\n    elif color == \"green\":\\n        return \"It\\'s a green pepper.\"\\n    elif color == \"bee purple\":\\n        return \"I don\\'t know what it is, but only bees can see it.\"\\n    else:\\n        return \"I\\'ve never heard of the color \" + color + \".\"', '_i17': \"comment = commentary('blue')\", 'comment': \"I've never heard of the color blue.\", '_i18': 'print(comment)', '_i19': 'print(do_nothing())', '_i20': 'thing = None\\nif thing:\\n    print(\"It\\'s some thing\")', 'thing': ('b', '2'), '_i21': 'thing = None\\nif thing:\\n    print(\"It\\'s some thing\")\\nelse:\\n    print(\"It\\'s no thing\")', '_i22': 'thing = None\\nif thing is None:\\n    print(\"It\\'s nothing\")\\nelse:\\n    print(\"It\\'s something\")', '_i23': 'type(thing)', '_23': <class 'NoneType'>, '_i24': 'def whatis(thing):\\n    if thing is None:\\n        print(thing, \"is None\")\\n    elif thing:', '_i25': 'def whatis(thing):\\n    if thing is None:\\n        print(thing, \"is None\")\\n    elif thing:\\n        print(thing, \"is True\")\\n    else:\\n        print(thing, \"is False\")', 'whatis': <function whatis at 0x0000023760333C10>, '_i26': 'whtis(None)', '_i27': 'whatis(None)', '_i28': 'whatis(True)', '_i29': 'whatis(False)', '_i30': 'def whatis(thing):\\n    if thing is None:\\n        print(thing, \"is None\")\\n    elif thing:\\n        print(thing, \"is True\")\\n    else:\\n        print(thing, \"is False\")', '_i31': 'whatis(None)', '_i32': 'whatis(True)', '_i33': 'whatis(False)', '_i34': \"def menu(wine, entree, dessert):\\n    return {'wine':wine, 'entree':entree, 'dessert':dessert}\", 'menu': <function menu at 0x0000023760333CA0>, '_i35': \"menu('chardonnay', 'chicken', 'cake')\", '_35': {'wine': 'chardonnay', 'entree': 'chicken', 'dessert': 'cake'}, '_i36': \"menue('beef', 'bagel', 'bordeaux')\", '_i37': \"menu('beef', 'bagel', 'bordeaux')\", '_37': {'wine': 'beef', 'entree': 'bagel', 'dessert': 'bordeaux'}, '_i38': \"menu(entree = 'beef', dessert = 'bagel', wine = 'bordeaux')\", '_38': {'wine': 'bordeaux', 'entree': 'beef', 'dessert': 'bagel'}, '_i39': \"menu('frontenac', dessert='flan', entree='fish')\", '_39': {'wine': 'frontenac', 'entree': 'fish', 'dessert': 'flan'}, '_i40': \"def menu(wine, entree, dessert='pudding'):\\n    return {'wine':wine, 'entree':entree, 'dessert':dessert}\", '_i41': \"menu('chardonnay', 'chicken')\", '_41': {'wine': 'chardonnay', 'entree': 'chicken', 'dessert': 'pudding'}, '_i42': \"menu('dunkelfelder', 'duck', 'doughnut')\", '_42': {'wine': 'dunkelfelder', 'entree': 'duck', 'dessert': 'doughnut'}, '_i43': 'def buggy(arg, result=[]):\\n    result.append(arg)\\n    print(result)', 'buggy': <function buggy at 0x0000023760333E50>, '_i44': \"buggy('a')\", '_i45': \"buggy('b')   # expect['b']\", '_i46': 'def works(arg):\\n    result = []\\n    result.append(arg)\\n    return result', 'works': <function works at 0x0000023760333D30>, '_i47': \"orks('a')\", '_i48': \"works('a')\", '_48': ['a'], '_i49': \"works('b)')\", '_49': ['b)'], '_i50': \"works('b')\", '_50': ['b'], '_i51': 'def nonbuggy(arg, result = None):\\n    if result is None:\\n        result = []\\n    result.append(arg)\\n    print(result)', 'nonbuggy': <function nonbuggy at 0x0000023762019C10>, '_i52': \"nonbuggy('a)')\", '_i53': \"nonbuggy('a')\", '_i54': \"nonbuggy['b']\", '_i55': \"nonbuggy('b')\", '_i56': \"nonbuggy('c', nonbuggy)\", '_i57': \"nonbuggy('c', result)\", '_i58': 'def nonbuggy(arg, result = None):\\n    if result is None:\\n        result = []\\n    result.append(arg)\\n    print(result)', '_i59': \"nonbuggy('a')\", '_i60': \"nonbuggy('b')\", '_i61': \"nonbuggy('c', result)\", '_i62': \"nonbuggy('c', listResult)\", '_i63': \"nonbuggy('b')\", '_i64': \"nonbuggy('c')\", '_i65': 'def nonbuggy(arg, result = None):\\n    if result is None:\\n        result = []\\n    result.append(arg)\\n    print(result)', '_i66': \"nonbuggy('a')\", '_i67': \"nonbuggy('b', None)\", '_i68': \"listResult = nonbuggy('a')\", 'listResult': ['a', 'b'], '_i69': \"nonbuggy('b', listResult)\", '_i70': \"listResult = nonbuggy('a')\", '_i71': 'def nonbuggy(arg, result = None):\\n    if result is None:\\n        result = []\\n    result.append(arg)\\n    return result', '_i72': \"listResult = nonbuggy('a')\", '_i73': \"nonbuggy('b', listResult)\", '_73': ['a', 'b'], '_i74': \"nonbuggy('c')\", '_74': ['c'], '_i75': \"def print_args(*args):\\n    print('Positional tuple:', args)\", 'print_args': <function print_args at 0x0000023762019DC0>, '_i76': 'print_args()', '_i77': \"print_args(3, 2, 1, 'wait!', 'uh...')\", '_i78': 'def print_kwargs(**parameters):\\n    print(\"keyword arguments : \", parameters)', 'print_kwargs': <function print_kwargs at 0x0000023761BA7310>, '_i79': \"print_kwargs(name='kim', phone='1234', addr='dong')\", '_i80': 'def print_kwargs(*parameters):\\n    print(\"keyword arguments : \", parameters)', '_i81': \"print_kwargs(name='kim', phone='1234', addr='dong')\", '_i82': 'def print_kwargs(**parameters):\\n    print(\"keyword arguments : \", parameters)', '_i83': \"print_kwargs(name='kim', phone='1234', addr='dong')\", '_i84': \"print_kwargs(name='kim', phone='1234', addr='dong')\", '_i85': \"def print_more(required1, required2, *args):\\n    print('Need this one: ', required1)\\n    print('Need this one. too: ', required2)\\n    print('All the rest: ', args)\", 'print_more': <function print_more at 0x000002376024CDC0>, '_i86': \"print_more('cap', 'gloves', 'scarf', 'monocle', 'mustache wax')\", '_i87': \"print_args(2, 5, 7, 'x')\", '_i88': \"args = (2,5,6,'x')\", 'args': (2, 5, 6, 'x'), '_i89': 'print_args(args)', '_i90': 'print_args(*args)', '_i91': '*args', '_i92': \"def echo(anything):\\n    'echo returns its input argument'\\n    return anything\", '_i93': \"def echo(anything):\\n    'echo returns its input argument'\\n    return anything\", '_i94': \"def print_if_true(thing, check):\\n    '''\\n    prints the first argument if a second argument is true.\\n    The operation is:\\n        1. Check whether the *second* argument is true.\\n        2. If it is, print the *first* argument.\\n    '''\\n    if check:\\n        print(thing)\", 'print_if_true': <function print_if_true at 0x0000023761BA7040>, '_i95': \"echo('red')\", '_95': 'red', '_i96': 'echo.__doc__', '_96': 'echo returns its input argument', '_i97': 'help(echo)', '_i98': 'print(echo.__doc__)', '_i99': \"def print_kwargs(**kwargs):\\n    print('Keyword arguments: ', kwargs)\", '_i100': 'print_kwargs()', '_i101': \"print_kwargs(wine='merlot', entree='mutton', dessert='macaroon')\", '_i102': 'def print_data(data, *, start=0, end=100):\\n    for value in (data[start:ent]):\\n        print(value)', 'print_data': <function print_data at 0x0000023762019D30>, '_i103': \"data = ['a', 'b', 'c', 'd', 'e', 'f']\", 'data': ['a', 'b', 'c', 'd', 'e', 'f'], '_i104': 'print_data(data)', '_i105': 'def print_data(data, *, start=0, end=100):\\n    for value in (data[start:end]):\\n        print(value)', '_i106': \"data = ['a', 'b', 'c', 'd', 'e', 'f']\", '_i107': 'print_data(data)', '_i108': 'print_data(data, start=4)', '_i109': 'print_data(data, end=2)', '_i110': \"outside = ['one', 'fine', 'day']\", 'outside': ['one', 'terrible!', 'day'], '_i111': \"def mangle(arg):\\n    arg[1] = 'terrible!'\", 'mangle': <function mangle at 0x00000237601CD280>, '_i112': 'outside', '_112': ['one', 'terrible!', 'day'], '_i113': 'mangle(outside)', '_i114': 'outside', '_114': ['one', 'terrible!', 'day'], '_i115': 'def edit_story(words, func):\\n    for word in words:\\n        print(func(word))', 'edit_story': <function edit_story at 0x0000023761BA78B0>, '_i116': \"stairs = ['thud', 'meow', 'thud', 'hiss']\", 'stairs': ['thud', 'meow', 'thud', 'hiss'], '_i117': 'def enliven(word):   # 첫 글자를 대문자로 만들고 느낌표 붙이기\\n    return word.capitalize() + \\'!\"\"\\'', 'enliven': <function enliven at 0x0000023761BA7790>, '_i118': \"def enliven(word):   # 첫 글자를 대문자로 만들고 느낌표 붙이기\\n\\n    return word.capitalize() + '!'\", '_i119': 'edit_story(stairs, enliven)', '_i120': \"edit_story(stairs, lambda word: word.capitalize() + '!'())\", '_i121': \"edit_story(stairs, lambda word: word.capitalize() + '!'\", '_i122': \"edit_story(stairs, lambda word: word.capitalize() + '!')\", '_i123': 'len', '_123': <built-in function len>, '_i124': 'mylen = len', 'mylen': <built-in function len>, '_i125': \"mylen('abc')\", '_125': 3, '_i126': 'type(len)', '_126': <class 'builtin_function_or_method'>, '_i127': 'type(len())', '_i128': 'len.__doc__', '_128': 'Return the number of items in a container.', '_i129': 'sum(range(1, 101))', '_129': 5050, '_i130': 'def my_range(first=0, last=10, step=1):\\n    number = first\\n    while number < last:\\n        yiel number\\n        number += step', '_i131': 'def my_range(first=0, last=10, step=1):\\n    number = first\\n    while number < last:\\n        yield number\\n        number += step', 'my_range': <function my_range at 0x0000023761395E50>, '_i132': 'my_range', '_132': <function my_range at 0x0000023761BA7DC0>, '_i133': 'ranger = my_range(1,5)\\nranger', 'ranger': <generator object my_range at 0x0000023761433580>, '_133': <generator object my_range at 0x000002376132D970>, '_i134': 'for x in ranger:\\n    print(x)', 'x': 4, '_i135': 'for try_again in ranger:\\n    print(try_again)', '_i136': 'def my_range(first=0, last=10, step=1):\\n    number = first\\n    while number < last:\\n        yield number\\n        number += step', '_i137': 'my_range', '_137': <function my_range at 0x00000237613958B0>, '_i138': 'ranger = my_range(1,5)\\nranger', '_138': <generator object my_range at 0x000002376132DF90>, '_i139': 'for x in ranger:\\n    print(x)', '_i140': 'for x in ranger:\\n    print(x)', '_i141': 'def my_range(first=0, last=10, step=1):\\n    number = first\\n    while number < last:\\n        yield number\\n        number += step', '_i142': 'my_range', '_142': <function my_range at 0x0000023761395E50>, '_i143': 'ranger = my_range(1,5)\\nranger', '_143': <generator object my_range at 0x0000023761433580>, '_i144': 'for x in ranger:\\n    print(x)', '_i145': 'for try_again in ranger:\\n    print(try_again)', '_i146': 'for try_again in ranger:\\n    print(try_again)', '_i147': \"genobj = (pair for pair in zip(['a','b'],['1','2']))\\ngenobj\", 'genobj': <generator object <genexpr> at 0x0000023761433B30>, '_147': <generator object <genexpr> at 0x0000023761433B30>, '_i148': 'for thing in genobj:\\n    print(thing)', '_i149': \"def document_it(func):\\n    def new_function(*args, **kwargs):\\n        print('Running function: ', func.__name__)\\n        print('Positional arguments: ', args)\\n        print('Keyword arguments: ', kwargs)\\n        result = func(*args, **kwargs)\", 'document_it': <function document_it at 0x0000023761395940>, '_i150': \"def document_it(func):\\n    def new_function(*args, **kwargs):\\n        print('Running function: ', func.__name__)\\n        print('Positional arguments: ', args)\\n        print('Keyword arguments: ', kwargs)\\n        result = func(*args, **kwargs)\\n        print('Result: ', result)\\n        return result\\n    return new_function\", '_i151': 'document_it(len)', '_151': <function document_it.<locals>.new_function at 0x0000023761395820>, '_i152': 'document_it(len())', '_i153': 'document_it(sum', '_i154': 'document_it(sum)', '_154': <function document_it.<locals>.new_function at 0x0000023761395B80>, '_i155': 'new_function(sum)', '_i156': 'document_it(sum)', '_156': <function document_it.<locals>.new_function at 0x0000023761395F70>, '_i157': 'new_function(sum)', '_i158': 'document_it(sum())', '_i159': 'document_it()', '_i160': \"document_it('aaa')\", '_160': <function document_it.<locals>.new_function at 0x0000023761395C10>, '_i161': 'document_it()', '_i162': 'def add_ints(a, b):\\n    return a + b', 'add_ints': <function square_it.<locals>.new_function at 0x00000237613ED0D0>, '_i163': 'add_ints(3, 5)', '_163': 8, '_i164': 'cooler_add_ints = document_it(add_ints)   # 데커레이터 수동 할당', 'cooler_add_ints': <function document_it.<locals>.new_function at 0x0000023762019CA0>, '_i165': 'cooler_add_ints(3, 5)', '_165': 8, '_i166': '@document_it\\ndef add_ints(a, b):\\n    return a + b', '_i167': 'add_ints(3, 5)', '_167': 8, '_i168': 'def square_it(func):\\n    def new_function(*args, **kwargs):\\n        result = func(*args, **kwargs)\\n        return result * result\\n    return new_function', 'square_it': <function square_it at 0x00000237613ED9D0>, '_i169': '@document_it\\n@square_it\\ndef add_ints(a, b):\\n    return a + b', '_i170': 'add_ints(3, 5)', '_170': 64, '_i171': '@square_it\\n@document_it\\ndef add_ints(a, b):\\n    return a + b', '_i172': 'add_ints(3, 5)', '_172': 64, '_i173': \"animal = 'fruitbat'\", 'animal': 'fruitbat', '_i174': \"def print_global():\\n    print('inside print_global: ', animal)\", 'print_global': <function print_global at 0x00000237613ED550>, '_i175': \"print('at the top level: ', animal)\", '_i176': 'print_global()', '_i177': \"animal = 'fruitbat'\", '_i178': \"animal = 'fruitbat'\", '_i179': \"animal = 'fruitbat'\", '_i180': \"def print_global():\\n    print('inside print_global:', animal)\", '_i181': \"print('at the top level:', animal)\", '_i182': 'print_global()', '_i183': \"def change_and_print_global():\\n    print('insidechange_and_print_global:', animal).\\n    animal = 'wombat'\\n    print('after the change:', animal)\", '_i184': \"def change_and_print_global():\\n    print('insidechange_and_print_global:', animal)\\n    animal = 'wombat'\\n    print('after the change:', animal)\", 'change_and_print_global': <function change_and_print_global at 0x00000237611ED1F0>, '_i185': 'change_and_print_global().', '_i186': 'change_and_print_global()', '_i187': \"def change_and_print_global(animal):\\n    print('insidechange_and_print_global:', animal)\\n    animal = 'wombat'\\n    print('after the change:', animal)\", '_i188': 'change_and_print_global()', '_i189': \"def change_and_print_global():\\n    print('insidechange_and_print_global:', animal)\\n    animal = 'wombat'\\n    print('after the change:', animal)\", '_i190': 'change_and_print_global()', '_i191': \"def change_and_print_global():\\n    print('insidechange_and_print_global:', animal)\", '_i192': 'change_and_print_global()', '_i193': \"def change_and_print_global():\\n    print('insidechange_and_print_global:', animal)\\n    print('after the change:', animal)\", '_i194': 'change_and_print_global()', '_i195': \"def change_and_print_global():\\n    print('insidechange_and_print_global:', animal)\\n    animal = 'wombat'\\n    print('after the change:', animal)\", '_i196': 'change_and_print_global()', '_i197': \"def change_and_print_global():\\n    print('insidechange_and_print_global:', animal)\\n    animal = 'wombat'\\n    print('after the change:', animal)\", '_i198': 'change_and_print_global()', '_i199': \"def change_local():\\n    animal = 'wombat'\\n    print('inside change_local:', anmimal, id(animal))\", 'change_local': <function change_local at 0x00000237613EDC10>, '_i200': 'change_local', '_200': <function change_local at 0x00000237613ED280>, '_i201': 'change_local()', '_i202': \"def change_local():\\n    animal = 'wombat'\\n    print('inside change_local:', animal, id(animal))\", '_i203': 'change_local()', '_i204': 'animal', '_204': 'fruitbat', '_i205': 'id(animal)', '_205': 2436890542896, '_i206': \"def change_local():\\n    print('inside change_local:', animal, id(animal))\", '_i207': 'change_local()', '_i208': \"def change_local():\\n    animal = 'wombat'\\n    print('inside change_local:', animal, id(animal))\", '_i209': 'change_local()', '_i210': 'animal', '_210': 'fruitbat', '_i211': 'id(animal)', '_211': 2436890542896, '_i212': \"def change_local():\\n    animal = 'wombat'\\n    print('inside change_local:', animal, id(animal))\", '_i213': 'change_local()', '_i214': 'animal', '_214': 'fruitbat', '_i215': 'id(animal)', '_215': 2436890542896, '_i216': \"animal = 'fruitbat'\\ndef change_and_print_global():\\n    global animal\\n    animal = 'wombat'\\n    print('after the change:',animal)\", '_i217': 'animal', '_217': 'fruitbat', '_i218': 'change_and_print_global()', '_i219': 'animal', '_219': 'wombat', '_i220': \"animal = 'fruitbat'\\ndef change_and_print_global():\\n    global animal = 'wombat'\\n    print('after the change:',animal)\", '_i221': \"animal = 'fruitbat'\\ndef change_and_print_global():\\n    global animal = 'wombat'\\n    print('after the change:',animal)\", '_i222': \"animal = 'fruitbat'\\ndef change_and_print_global():\\n    global animal \\n    animal = 'wombat'\\n    print('after the change:',animal)\", '_i223': 'animal', '_223': 'fruitbat', '_i224': 'change_and_print_global()', '_i225': 'animal', '_225': 'wombat', '_i226': \"animal = 'fruitbat'  # 전역 변수\", '_i227': \"def change_local():\\n    animal = 'wombat'  # 지역 변수\\n    print('locals:', locals())\", '_i228': 'animal', '_228': 'fruitbat', '_i229': 'change_local()', '_i230': \"print('globals:', globals())\", '_i231': 'animal', '_231': 'fruitbat', '_i232': \"animal = 'fruitbat'  # 전역 변수\", '_i233': \"def change_local():\\n    animal = 'wombat'  # 지역 변수\\n    print('locals:', locals())\", '_i234': 'animal', '_234': 'fruitbat', '_i235': 'change_local()', '_i236': 'animal', '_236': 'fruitbat', '_i237': \"print('globals:', globals())\"}\n"
     ]
    }
   ],
   "source": [
    "print('globals:', globals())"
   ]
  },
  {
   "cell_type": "code",
   "execution_count": 236,
   "id": "a575723e",
   "metadata": {},
   "outputs": [
    {
     "data": {
      "text/plain": [
       "'fruitbat'"
      ]
     },
     "execution_count": 236,
     "metadata": {},
     "output_type": "execute_result"
    }
   ],
   "source": [
    "animal"
   ]
  },
  {
   "cell_type": "code",
   "execution_count": null,
   "id": "f8fa9a4f",
   "metadata": {},
   "outputs": [],
   "source": []
  }
 ],
 "metadata": {
  "kernelspec": {
   "display_name": "Python 3",
   "language": "python",
   "name": "python3"
  },
  "language_info": {
   "codemirror_mode": {
    "name": "ipython",
    "version": 3
   },
   "file_extension": ".py",
   "mimetype": "text/x-python",
   "name": "python",
   "nbconvert_exporter": "python",
   "pygments_lexer": "ipython3",
   "version": "3.8.8"
  }
 },
 "nbformat": 4,
 "nbformat_minor": 5
}
