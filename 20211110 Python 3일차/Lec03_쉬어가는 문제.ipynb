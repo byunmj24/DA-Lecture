{
 "cells": [
  {
   "cell_type": "code",
   "execution_count": 43,
   "id": "20fef2b9",
   "metadata": {},
   "outputs": [],
   "source": [
    "mystr = 'daerim dong 1234 hello'\n",
    "mystr2 = '안녕하세요, MM hello 010-1234-5678'"
   ]
  },
  {
   "cell_type": "code",
   "execution_count": 80,
   "id": "0feadc16",
   "metadata": {},
   "outputs": [],
   "source": [
    "def del_num(str):\n",
    "    newStr = ''\n",
    "    for n in str:\n",
    "        if n.isdigit() == False:\n",
    "            # print(n)\n",
    "            newStr += n\n",
    "    print(newStr)"
   ]
  },
  {
   "cell_type": "code",
   "execution_count": 83,
   "id": "b7e6e343",
   "metadata": {},
   "outputs": [
    {
     "name": "stdout",
     "output_type": "stream",
     "text": [
      "daerim dong  hello\n"
     ]
    }
   ],
   "source": [
    "del_num(mystr)"
   ]
  },
  {
   "cell_type": "code",
   "execution_count": 95,
   "id": "e48e4081",
   "metadata": {},
   "outputs": [],
   "source": [
    "def type_str(str):\n",
    "    typeUpper = []\n",
    "    typeLower = []\n",
    "    typeNum = []\n",
    "    typeKor = []\n",
    "    typeEtc = []\n",
    "    for ele in str:\n",
    "        if(ord(ele) >= ord('A') and ord(ele) <= ord('Z')):\n",
    "            typeUpper.append(ele)\n",
    "        elif(ord(ele) >= ord('a') and ord(ele) <= ord('z')):\n",
    "            typeLower.append(ele)\n",
    "        elif(ord(ele) >= ord('0') and ord(ele) <= ord('9')):\n",
    "            typeNum.append(ele)\n",
    "        elif(ord(ele) >= ord('가') and ord(ele) <= ord('힣')):\n",
    "            typeKor.append(ele)\n",
    "        else:\n",
    "            typeEtc.append(ele)\n",
    "            \n",
    "    print(\"숫자의 개수 : \", len(typeNum))\n",
    "    print(\"소문자 개수 : \", len(typeLower))\n",
    "    print(\"대문자 개수 : \", len(typeUpper))\n",
    "    print(\"한글의 개수 : \", len(typeKor))"
   ]
  },
  {
   "cell_type": "code",
   "execution_count": 97,
   "id": "154b3e79",
   "metadata": {},
   "outputs": [
    {
     "name": "stdout",
     "output_type": "stream",
     "text": [
      "숫자의 개수 :  11\n",
      "소문자 개수 :  5\n",
      "대문자 개수 :  2\n",
      "한글의 개수 :  5\n"
     ]
    }
   ],
   "source": [
    "type_str(mystr2)"
   ]
  },
  {
   "cell_type": "code",
   "execution_count": 101,
   "id": "21627110",
   "metadata": {},
   "outputs": [
    {
     "data": {
      "text/plain": [
       "[0, 0, 0, 0, 0]"
      ]
     },
     "execution_count": 101,
     "metadata": {},
     "output_type": "execute_result"
    }
   ],
   "source": [
    "[0] * 5"
   ]
  },
  {
   "cell_type": "code",
   "execution_count": 100,
   "id": "7933ead7",
   "metadata": {},
   "outputs": [
    {
     "data": {
      "text/plain": [
       "(5, 2, 5, 11)"
      ]
     },
     "execution_count": 100,
     "metadata": {},
     "output_type": "execute_result"
    }
   ],
   "source": [
    "hanCnt, upperCnt, lowerCnt, numCnt, etcCnt = [0] * 5\n",
    "for ele in mystr2:\n",
    "    if (ord(ele) >= ord('A') and ord(ele) <= ord('Z')):\n",
    "        upperCnt += 1\n",
    "        upperCnt = upperCnt + 1\n",
    "    elif (ord(ele) >= ord('a') and ord(ele) <= ord('z')):\n",
    "        lowerCnt += 1\n",
    "    elif (ord(ele) >= ord('0') and ord(ele) <= ord('9')):\n",
    "        numCnt += 1\n",
    "    elif (ord(ele) >= ord('가') and ord(ele) <= ord('힣')):\n",
    "        hanCnt += 1\n",
    "    else:\n",
    "        etcCnt += 1\n",
    "hanCnt, upperCnt, lowerCnt, numCnt"
   ]
  },
  {
   "cell_type": "code",
   "execution_count": null,
   "id": "38081199",
   "metadata": {},
   "outputs": [],
   "source": []
  }
 ],
 "metadata": {
  "kernelspec": {
   "display_name": "Python 3",
   "language": "python",
   "name": "python3"
  },
  "language_info": {
   "codemirror_mode": {
    "name": "ipython",
    "version": 3
   },
   "file_extension": ".py",
   "mimetype": "text/x-python",
   "name": "python",
   "nbconvert_exporter": "python",
   "pygments_lexer": "ipython3",
   "version": "3.8.8"
  }
 },
 "nbformat": 4,
 "nbformat_minor": 5
}
