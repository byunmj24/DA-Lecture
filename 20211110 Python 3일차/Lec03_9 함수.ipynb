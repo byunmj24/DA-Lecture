{
 "cells": [
  {
   "cell_type": "markdown",
   "id": "fca350cd",
   "metadata": {},
   "source": [
    "sum() len()ord()chr()id()list()set()dict()min()max()pow()"
   ]
  },
  {
   "cell_type": "code",
   "execution_count": 2,
   "id": "ef064f3f",
   "metadata": {},
   "outputs": [],
   "source": [
    "def function_name():\n",
    "    return"
   ]
  },
  {
   "cell_type": "code",
   "execution_count": 3,
   "id": "994926e6",
   "metadata": {},
   "outputs": [],
   "source": [
    "def do_nothing():\n",
    "    pass"
   ]
  },
  {
   "cell_type": "code",
   "execution_count": 4,
   "id": "18ad61c1",
   "metadata": {},
   "outputs": [],
   "source": [
    "do_nothing()"
   ]
  },
  {
   "cell_type": "code",
   "execution_count": 6,
   "id": "fcff5358",
   "metadata": {},
   "outputs": [],
   "source": [
    "def make_a_sound():\n",
    "    print(\"quack\")"
   ]
  },
  {
   "cell_type": "code",
   "execution_count": 9,
   "id": "cd7ce8e3",
   "metadata": {},
   "outputs": [],
   "source": [
    "def agree():\n",
    "    return True"
   ]
  },
  {
   "cell_type": "code",
   "execution_count": 12,
   "id": "a01ffc96",
   "metadata": {},
   "outputs": [
    {
     "name": "stdout",
     "output_type": "stream",
     "text": [
      "quack\n"
     ]
    },
    {
     "data": {
      "text/plain": [
       "(NoneType, bool)"
      ]
     },
     "execution_count": 12,
     "metadata": {},
     "output_type": "execute_result"
    }
   ],
   "source": [
    "type(make_a_sound() ) ,type(agree())"
   ]
  },
  {
   "cell_type": "code",
   "execution_count": 13,
   "id": "601055d7",
   "metadata": {},
   "outputs": [],
   "source": [
    "def echo(anything):\n",
    "    return anything + ' ' + anything"
   ]
  },
  {
   "cell_type": "code",
   "execution_count": 16,
   "id": "270b3487",
   "metadata": {},
   "outputs": [
    {
     "data": {
      "text/plain": [
       "('yahoo yahoo', 'yahoo yahoo yahoo yahoo')"
      ]
     },
     "execution_count": 16,
     "metadata": {},
     "output_type": "execute_result"
    }
   ],
   "source": [
    "echo('yahoo'), echo(echo('yahoo'))"
   ]
  },
  {
   "cell_type": "code",
   "execution_count": 22,
   "id": "4345591a",
   "metadata": {},
   "outputs": [
    {
     "name": "stdout",
     "output_type": "stream",
     "text": [
      "It's no thing\n"
     ]
    }
   ],
   "source": [
    "thing = None\n",
    "if thing:\n",
    "    print(\"It's some thing\")\n",
    "else :\n",
    "    print(\"It's no thing\")\n"
   ]
  },
  {
   "cell_type": "code",
   "execution_count": 21,
   "id": "1b677417",
   "metadata": {},
   "outputs": [
    {
     "data": {
      "text/plain": [
       "(False, False, False)"
      ]
     },
     "execution_count": 21,
     "metadata": {},
     "output_type": "execute_result"
    }
   ],
   "source": [
    "None == True, 0 == True , 10==True"
   ]
  },
  {
   "cell_type": "code",
   "execution_count": 23,
   "id": "63a909d1",
   "metadata": {},
   "outputs": [],
   "source": [
    "def whatis(thing):\n",
    "    if thing:\n",
    "        print(\"It's some thing\")\n",
    "    else :\n",
    "        print(\"It's no thing\")\n"
   ]
  },
  {
   "cell_type": "code",
   "execution_count": 27,
   "id": "17b2d975",
   "metadata": {},
   "outputs": [
    {
     "name": "stdout",
     "output_type": "stream",
     "text": [
      "It's no thing\n",
      "It's some thing\n",
      "It's some thing\n",
      "It's no thing\n"
     ]
    },
    {
     "data": {
      "text/plain": [
       "(None, None, None, None)"
      ]
     },
     "execution_count": 27,
     "metadata": {},
     "output_type": "execute_result"
    }
   ],
   "source": [
    "whatis(thing), whatis(True), whatis(100), whatis([])"
   ]
  },
  {
   "cell_type": "code",
   "execution_count": 28,
   "id": "2ecb6921",
   "metadata": {},
   "outputs": [],
   "source": [
    "def buggy(arg,result=[]):\n",
    "    result.append(arg)\n",
    "    print(result)"
   ]
  },
  {
   "cell_type": "code",
   "execution_count": 29,
   "id": "51ca0f5f",
   "metadata": {},
   "outputs": [
    {
     "name": "stdout",
     "output_type": "stream",
     "text": [
      "['a']\n"
     ]
    }
   ],
   "source": [
    "buggy('a')"
   ]
  },
  {
   "cell_type": "code",
   "execution_count": 30,
   "id": "13e8440f",
   "metadata": {},
   "outputs": [
    {
     "name": "stdout",
     "output_type": "stream",
     "text": [
      "['a', 'b']\n"
     ]
    }
   ],
   "source": [
    "buggy('b')"
   ]
  },
  {
   "cell_type": "code",
   "execution_count": 33,
   "id": "bd9ed76d",
   "metadata": {},
   "outputs": [],
   "source": [
    "def works(arg):\n",
    "    result=[]\n",
    "    result.append(arg)\n",
    "    print(result)"
   ]
  },
  {
   "cell_type": "code",
   "execution_count": 34,
   "id": "7d51d44d",
   "metadata": {},
   "outputs": [
    {
     "name": "stdout",
     "output_type": "stream",
     "text": [
      "['a']\n",
      "['b']\n"
     ]
    }
   ],
   "source": [
    "works('a') \n",
    "works('b')"
   ]
  },
  {
   "cell_type": "code",
   "execution_count": 43,
   "id": "0feffcde",
   "metadata": {},
   "outputs": [],
   "source": [
    "def nobuggy(arg, result=None):\n",
    "    if result is None:\n",
    "        result=[]\n",
    "    result.append(arg)\n",
    "    return result"
   ]
  },
  {
   "cell_type": "code",
   "execution_count": 44,
   "id": "7f0ed5e3",
   "metadata": {},
   "outputs": [
    {
     "data": {
      "text/plain": [
       "['a']"
      ]
     },
     "execution_count": 44,
     "metadata": {},
     "output_type": "execute_result"
    }
   ],
   "source": [
    "nobuggy('a')"
   ]
  },
  {
   "cell_type": "code",
   "execution_count": 45,
   "id": "363a59f5",
   "metadata": {},
   "outputs": [
    {
     "data": {
      "text/plain": [
       "['b']"
      ]
     },
     "execution_count": 45,
     "metadata": {},
     "output_type": "execute_result"
    }
   ],
   "source": [
    "nobuggy('b')"
   ]
  },
  {
   "cell_type": "code",
   "execution_count": 40,
   "id": "d7c95975",
   "metadata": {},
   "outputs": [],
   "source": [
    "listResult = ['a','b']"
   ]
  },
  {
   "cell_type": "code",
   "execution_count": 41,
   "id": "de4f0d3a",
   "metadata": {},
   "outputs": [
    {
     "name": "stdout",
     "output_type": "stream",
     "text": [
      "['a', 'b', 'd']\n"
     ]
    }
   ],
   "source": [
    "nobuggy('d', listResult)"
   ]
  },
  {
   "cell_type": "code",
   "execution_count": 46,
   "id": "1aaa2f61",
   "metadata": {},
   "outputs": [
    {
     "data": {
      "text/plain": [
       "['a', 'b', 'd']"
      ]
     },
     "execution_count": 46,
     "metadata": {},
     "output_type": "execute_result"
    }
   ],
   "source": [
    "listResult"
   ]
  },
  {
   "cell_type": "code",
   "execution_count": 48,
   "id": "d4afee11",
   "metadata": {},
   "outputs": [
    {
     "data": {
      "text/plain": [
       "['a', 'b', 'd', 'a']"
      ]
     },
     "execution_count": 48,
     "metadata": {},
     "output_type": "execute_result"
    }
   ],
   "source": [
    "nobuggy('a', listResult)"
   ]
  },
  {
   "cell_type": "code",
   "execution_count": 49,
   "id": "11f009bf",
   "metadata": {},
   "outputs": [],
   "source": [
    "def print_args(*parameters):\n",
    "    print('위치 튜플 : ', parameters)"
   ]
  },
  {
   "cell_type": "code",
   "execution_count": 52,
   "id": "a7b68537",
   "metadata": {},
   "outputs": [
    {
     "name": "stdout",
     "output_type": "stream",
     "text": [
      "위치 튜플 :  (1, 2, 'adbd')\n"
     ]
    }
   ],
   "source": [
    "print_args(1,2, 'adbd')"
   ]
  },
  {
   "cell_type": "code",
   "execution_count": 53,
   "id": "fe1bd1e7",
   "metadata": {},
   "outputs": [],
   "source": [
    "def print_kwargs(**parameters):\n",
    "    print(\"keyword arguments : \", parameters)"
   ]
  },
  {
   "cell_type": "code",
   "execution_count": 55,
   "id": "836fb368",
   "metadata": {},
   "outputs": [
    {
     "name": "stdout",
     "output_type": "stream",
     "text": [
      "keyword arguments :  {'name': 'kim', 'phone': '1234', 'addr': 'dong'}\n"
     ]
    }
   ],
   "source": [
    "print_kwargs(name='kim', phone='1234', addr='dong')"
   ]
  },
  {
   "cell_type": "markdown",
   "id": "ac46ee9d",
   "metadata": {},
   "source": [
    "#### 독스트링"
   ]
  },
  {
   "cell_type": "code",
   "execution_count": 57,
   "id": "45725468",
   "metadata": {},
   "outputs": [],
   "source": [
    "def echo(anything):\n",
    "    '에코는 입력값을 리턴값으로 보낸다.'\n",
    "    return anything"
   ]
  },
  {
   "cell_type": "code",
   "execution_count": 58,
   "id": "e30c9ede",
   "metadata": {},
   "outputs": [
    {
     "name": "stdout",
     "output_type": "stream",
     "text": [
      "Help on function echo in module __main__:\n",
      "\n",
      "echo(anything)\n",
      "    에코는 입력값을 리턴값으로 보낸다.\n",
      "\n"
     ]
    }
   ],
   "source": [
    "help(echo)"
   ]
  },
  {
   "cell_type": "code",
   "execution_count": 63,
   "id": "20977b53",
   "metadata": {},
   "outputs": [
    {
     "name": "stdout",
     "output_type": "stream",
     "text": [
      "에코는 입력값을 리턴값으로 보낸다.\n"
     ]
    }
   ],
   "source": [
    "print(echo.__doc__)"
   ]
  },
  {
   "cell_type": "code",
   "execution_count": 62,
   "id": "e00e2eb4",
   "metadata": {},
   "outputs": [
    {
     "data": {
      "text/plain": [
       "'Equivalent to base**exp with 2 arguments or base**exp % mod with 3 arguments\\n\\nSome types, such as ints, are able to use a more efficient algorithm when\\ninvoked using the three argument form.'"
      ]
     },
     "execution_count": 62,
     "metadata": {},
     "output_type": "execute_result"
    }
   ],
   "source": [
    "pow.__doc__"
   ]
  },
  {
   "cell_type": "code",
   "execution_count": 64,
   "id": "427d561d",
   "metadata": {},
   "outputs": [
    {
     "data": {
      "text/plain": [
       "function"
      ]
     },
     "execution_count": 64,
     "metadata": {},
     "output_type": "execute_result"
    }
   ],
   "source": [
    "type(echo)"
   ]
  },
  {
   "cell_type": "code",
   "execution_count": 66,
   "id": "b6066e1e",
   "metadata": {},
   "outputs": [],
   "source": [
    "# add(x,y) = x + y\n"
   ]
  },
  {
   "cell_type": "code",
   "execution_count": 67,
   "id": "06a5edc2",
   "metadata": {},
   "outputs": [],
   "source": [
    "def enliven(word):\n",
    "    return word.capitalize() +'!'"
   ]
  },
  {
   "cell_type": "code",
   "execution_count": 68,
   "id": "65aed5f3",
   "metadata": {},
   "outputs": [],
   "source": [
    "def edit_story(words, func):\n",
    "    for word in words:\n",
    "        print(func(word))"
   ]
  },
  {
   "cell_type": "code",
   "execution_count": 72,
   "id": "d0cc0935",
   "metadata": {},
   "outputs": [],
   "source": [
    "mylen = len"
   ]
  },
  {
   "cell_type": "code",
   "execution_count": 73,
   "id": "2db4ec2c",
   "metadata": {},
   "outputs": [
    {
     "data": {
      "text/plain": [
       "3"
      ]
     },
     "execution_count": 73,
     "metadata": {},
     "output_type": "execute_result"
    }
   ],
   "source": [
    "mylen('abc') "
   ]
  },
  {
   "cell_type": "code",
   "execution_count": 74,
   "id": "c613c8c3",
   "metadata": {},
   "outputs": [
    {
     "data": {
      "text/plain": [
       "'Return the number of items in a container.'"
      ]
     },
     "execution_count": 74,
     "metadata": {},
     "output_type": "execute_result"
    }
   ],
   "source": [
    "len.__doc__"
   ]
  },
  {
   "cell_type": "code",
   "execution_count": 75,
   "id": "9d141ab1",
   "metadata": {},
   "outputs": [],
   "source": [
    "a = 100"
   ]
  },
  {
   "cell_type": "code",
   "execution_count": 81,
   "id": "b2f418e6",
   "metadata": {},
   "outputs": [],
   "source": [
    "stairs = ['thuds', 'meow','thud', 'hiss']"
   ]
  },
  {
   "cell_type": "code",
   "execution_count": 86,
   "id": "d6de40e9",
   "metadata": {},
   "outputs": [
    {
     "name": "stdout",
     "output_type": "stream",
     "text": [
      "thuds!!!\n",
      "meow!!!\n",
      "thud!!!\n",
      "hiss!!!\n"
     ]
    }
   ],
   "source": [
    "edit_story(stairs, lambda x:x.lower()+'!!!')"
   ]
  },
  {
   "cell_type": "code",
   "execution_count": 87,
   "id": "8592861c",
   "metadata": {},
   "outputs": [
    {
     "data": {
      "text/plain": [
       "11"
      ]
     },
     "execution_count": 87,
     "metadata": {},
     "output_type": "execute_result"
    }
   ],
   "source": [
    "(lambda x: x+1)(10)"
   ]
  },
  {
   "cell_type": "code",
   "execution_count": 91,
   "id": "036b9814",
   "metadata": {},
   "outputs": [
    {
     "data": {
      "text/plain": [
       "<function __main__.<lambda>(x, y)>"
      ]
     },
     "execution_count": 91,
     "metadata": {},
     "output_type": "execute_result"
    }
   ],
   "source": [
    "lambda x,y: 2*x+3*y"
   ]
  },
  {
   "cell_type": "code",
   "execution_count": 92,
   "id": "05a559f7",
   "metadata": {},
   "outputs": [
    {
     "data": {
      "text/plain": [
       "13"
      ]
     },
     "execution_count": 92,
     "metadata": {},
     "output_type": "execute_result"
    }
   ],
   "source": [
    "_(2,3)"
   ]
  },
  {
   "cell_type": "code",
   "execution_count": 93,
   "id": "969c880a",
   "metadata": {},
   "outputs": [],
   "source": [
    "mysum = sum"
   ]
  },
  {
   "cell_type": "code",
   "execution_count": 95,
   "id": "f50aaa67",
   "metadata": {},
   "outputs": [
    {
     "data": {
      "text/plain": [
       "5050"
      ]
     },
     "execution_count": 95,
     "metadata": {},
     "output_type": "execute_result"
    }
   ],
   "source": [
    "mysum(range(1,101))"
   ]
  },
  {
   "cell_type": "code",
   "execution_count": 96,
   "id": "6fd4382d",
   "metadata": {},
   "outputs": [
    {
     "data": {
      "text/plain": [
       "'map(func, *iterables) --> map object\\n\\nMake an iterator that computes the function using arguments from\\neach of the iterables.  Stops when the shortest iterable is exhausted.'"
      ]
     },
     "execution_count": 96,
     "metadata": {},
     "output_type": "execute_result"
    }
   ],
   "source": [
    "map.__doc__"
   ]
  },
  {
   "cell_type": "code",
   "execution_count": 99,
   "id": "11e4b860",
   "metadata": {},
   "outputs": [],
   "source": [
    "#print(list(range(1,101)))"
   ]
  },
  {
   "cell_type": "code",
   "execution_count": 102,
   "id": "625e4244",
   "metadata": {},
   "outputs": [
    {
     "name": "stdout",
     "output_type": "stream",
     "text": [
      "[1, 4, 9, 16, 25, 36, 49, 64, 81, 100, 121, 144, 169, 196, 225, 256, 289, 324, 361, 400, 441, 484, 529, 576, 625, 676, 729, 784, 841, 900, 961, 1024, 1089, 1156, 1225, 1296, 1369, 1444, 1521, 1600, 1681, 1764, 1849, 1936, 2025, 2116, 2209, 2304, 2401, 2500, 2601, 2704, 2809, 2916, 3025, 3136, 3249, 3364, 3481, 3600, 3721, 3844, 3969, 4096, 4225, 4356, 4489, 4624, 4761, 4900, 5041, 5184, 5329, 5476, 5625, 5776, 5929, 6084, 6241, 6400, 6561, 6724, 6889, 7056, 7225, 7396, 7569, 7744, 7921, 8100, 8281, 8464, 8649, 8836, 9025, 9216, 9409, 9604, 9801, 10000]\n"
     ]
    }
   ],
   "source": [
    "print(list(map(lambda x: pow(x,2), range(1,101))))"
   ]
  },
  {
   "cell_type": "code",
   "execution_count": 103,
   "id": "ae39998a",
   "metadata": {},
   "outputs": [],
   "source": [
    "import seaborn as sns\n",
    "import pandas as pd"
   ]
  },
  {
   "cell_type": "code",
   "execution_count": 104,
   "id": "f0ab2502",
   "metadata": {},
   "outputs": [],
   "source": [
    "iris = sns.load_dataset('iris')"
   ]
  },
  {
   "cell_type": "code",
   "execution_count": 109,
   "id": "f029cad1",
   "metadata": {},
   "outputs": [
    {
     "data": {
      "text/plain": [
       "Index(['sepal_length', 'sepal_width', 'petal_length', 'petal_width',\n",
       "       'species'],\n",
       "      dtype='object')"
      ]
     },
     "execution_count": 109,
     "metadata": {},
     "output_type": "execute_result"
    }
   ],
   "source": [
    "iris.columns"
   ]
  },
  {
   "cell_type": "code",
   "execution_count": 110,
   "id": "2dfc01fd",
   "metadata": {},
   "outputs": [],
   "source": [
    "data = iris[['sepal_length','sepal_width']]"
   ]
  },
  {
   "cell_type": "code",
   "execution_count": 112,
   "id": "c0943de8",
   "metadata": {},
   "outputs": [
    {
     "data": {
      "text/html": [
       "<div>\n",
       "<style scoped>\n",
       "    .dataframe tbody tr th:only-of-type {\n",
       "        vertical-align: middle;\n",
       "    }\n",
       "\n",
       "    .dataframe tbody tr th {\n",
       "        vertical-align: top;\n",
       "    }\n",
       "\n",
       "    .dataframe thead th {\n",
       "        text-align: right;\n",
       "    }\n",
       "</style>\n",
       "<table border=\"1\" class=\"dataframe\">\n",
       "  <thead>\n",
       "    <tr style=\"text-align: right;\">\n",
       "      <th></th>\n",
       "      <th>sepal_length</th>\n",
       "      <th>sepal_width</th>\n",
       "    </tr>\n",
       "  </thead>\n",
       "  <tbody>\n",
       "    <tr>\n",
       "      <th>0</th>\n",
       "      <td>26.01</td>\n",
       "      <td>12.25</td>\n",
       "    </tr>\n",
       "    <tr>\n",
       "      <th>1</th>\n",
       "      <td>24.01</td>\n",
       "      <td>9.00</td>\n",
       "    </tr>\n",
       "    <tr>\n",
       "      <th>2</th>\n",
       "      <td>22.09</td>\n",
       "      <td>10.24</td>\n",
       "    </tr>\n",
       "    <tr>\n",
       "      <th>3</th>\n",
       "      <td>21.16</td>\n",
       "      <td>9.61</td>\n",
       "    </tr>\n",
       "    <tr>\n",
       "      <th>4</th>\n",
       "      <td>25.00</td>\n",
       "      <td>12.96</td>\n",
       "    </tr>\n",
       "  </tbody>\n",
       "</table>\n",
       "</div>"
      ],
      "text/plain": [
       "   sepal_length  sepal_width\n",
       "0         26.01        12.25\n",
       "1         24.01         9.00\n",
       "2         22.09        10.24\n",
       "3         21.16         9.61\n",
       "4         25.00        12.96"
      ]
     },
     "execution_count": 112,
     "metadata": {},
     "output_type": "execute_result"
    }
   ],
   "source": [
    "data.applymap(lambda x: pow(x,2)).head()"
   ]
  },
  {
   "cell_type": "code",
   "execution_count": 115,
   "id": "c7c7ac58",
   "metadata": {},
   "outputs": [
    {
     "data": {
      "text/plain": [
       "0    103.5\n",
       "1    103.0\n",
       "Name: sepal_width, dtype: float64"
      ]
     },
     "execution_count": 115,
     "metadata": {},
     "output_type": "execute_result"
    }
   ],
   "source": [
    "iris.sepal_width.map(lambda y: y+100).head(2)"
   ]
  },
  {
   "cell_type": "code",
   "execution_count": 117,
   "id": "c07bca3d",
   "metadata": {},
   "outputs": [],
   "source": [
    "def make_level(x):\n",
    "    if x > 4.0 :\n",
    "        return 'high'\n",
    "    elif x > 3.0 :\n",
    "        return 'mid'\n",
    "    else :\n",
    "        return 'low'"
   ]
  },
  {
   "cell_type": "code",
   "execution_count": 119,
   "id": "c33a9efc",
   "metadata": {},
   "outputs": [
    {
     "data": {
      "text/plain": [
       "0    mid\n",
       "1    low\n",
       "Name: sepal_width, dtype: object"
      ]
     },
     "execution_count": 119,
     "metadata": {},
     "output_type": "execute_result"
    }
   ],
   "source": [
    "iris.sepal_width.map(make_level).head(2)"
   ]
  },
  {
   "cell_type": "code",
   "execution_count": null,
   "id": "46451496",
   "metadata": {},
   "outputs": [],
   "source": []
  },
  {
   "cell_type": "code",
   "execution_count": null,
   "id": "3628cba3",
   "metadata": {},
   "outputs": [],
   "source": []
  }
 ],
 "metadata": {
  "kernelspec": {
   "display_name": "Python 3",
   "language": "python",
   "name": "python3"
  },
  "language_info": {
   "codemirror_mode": {
    "name": "ipython",
    "version": 3
   },
   "file_extension": ".py",
   "mimetype": "text/x-python",
   "name": "python",
   "nbconvert_exporter": "python",
   "pygments_lexer": "ipython3",
   "version": "3.8.8"
  }
 },
 "nbformat": 4,
 "nbformat_minor": 5
}
