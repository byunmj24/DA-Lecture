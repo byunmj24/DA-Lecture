{
 "cells": [
  {
   "cell_type": "markdown",
   "id": "1bb2503a",
   "metadata": {},
   "source": [
    "list , tuple, dict , set, str collection"
   ]
  },
  {
   "cell_type": "code",
   "execution_count": 18,
   "id": "e8078c66",
   "metadata": {},
   "outputs": [],
   "source": [
    "a = 'abc123'\n",
    "b = [1,2,10,20]\n",
    "c = (1,2,10, 20)\n",
    "d = {2:10,3.6:6,'name':10, 5:10.2}\n",
    "s = {2,3,10,20, 'address'}"
   ]
  },
  {
   "cell_type": "code",
   "execution_count": 19,
   "id": "aa1f0869",
   "metadata": {},
   "outputs": [
    {
     "data": {
      "text/plain": [
       "('a', 1, 1, 10)"
      ]
     },
     "execution_count": 19,
     "metadata": {},
     "output_type": "execute_result"
    }
   ],
   "source": [
    "a[0],  b[0], c[0], d[2]"
   ]
  },
  {
   "cell_type": "code",
   "execution_count": 17,
   "id": "8f5ea573",
   "metadata": {},
   "outputs": [],
   "source": [
    "d[3.6] = 'b'"
   ]
  },
  {
   "cell_type": "code",
   "execution_count": 25,
   "id": "aec4d0ab",
   "metadata": {},
   "outputs": [],
   "source": [
    "empty_set = set()\n",
    "empty_dic = {}"
   ]
  },
  {
   "cell_type": "code",
   "execution_count": 26,
   "id": "ce34e7a2",
   "metadata": {},
   "outputs": [
    {
     "data": {
      "text/plain": [
       "(set, dict)"
      ]
     },
     "execution_count": 26,
     "metadata": {},
     "output_type": "execute_result"
    }
   ],
   "source": [
    "type(empty_set), type(empty_dic)"
   ]
  },
  {
   "cell_type": "code",
   "execution_count": 27,
   "id": "0901849c",
   "metadata": {},
   "outputs": [],
   "source": [
    "even_numbers = {0,2,4,6,8}"
   ]
  },
  {
   "cell_type": "code",
   "execution_count": 28,
   "id": "0fcab51d",
   "metadata": {},
   "outputs": [
    {
     "data": {
      "text/plain": [
       "{0, 2, 4, 6, 8}"
      ]
     },
     "execution_count": 28,
     "metadata": {},
     "output_type": "execute_result"
    }
   ],
   "source": [
    "even_numbers "
   ]
  },
  {
   "cell_type": "code",
   "execution_count": 31,
   "id": "208120fc",
   "metadata": {},
   "outputs": [],
   "source": [
    "odd_numbers =set(range(1,100,2))"
   ]
  },
  {
   "cell_type": "code",
   "execution_count": 33,
   "id": "d0e2dbcf",
   "metadata": {},
   "outputs": [
    {
     "name": "stdout",
     "output_type": "stream",
     "text": [
      "{1, 3, 5, 7, 9, 11, 13, 15, 17, 19, 21, 23, 25, 27, 29, 31, 33, 35, 37, 39, 41, 43, 45, 47, 49, 51, 53, 55, 57, 59, 61, 63, 65, 67, 69, 71, 73, 75, 77, 79, 81, 83, 85, 87, 89, 91, 93, 95, 97, 99}\n"
     ]
    }
   ],
   "source": [
    "print(odd_numbers)"
   ]
  },
  {
   "cell_type": "code",
   "execution_count": 34,
   "id": "bd9ee67a",
   "metadata": {},
   "outputs": [
    {
     "data": {
      "text/plain": [
       "({'e', 'l', 'r', 's', 't'}, ['l', 'e', 't', 't', 'e', 'r', 's'])"
      ]
     },
     "execution_count": 34,
     "metadata": {},
     "output_type": "execute_result"
    }
   ],
   "source": [
    "set('letters'), list('letters')"
   ]
  },
  {
   "cell_type": "code",
   "execution_count": 35,
   "id": "356e9517",
   "metadata": {},
   "outputs": [
    {
     "data": {
      "text/plain": [
       "{'apple', 'cherry', 'orange'}"
      ]
     },
     "execution_count": 35,
     "metadata": {},
     "output_type": "execute_result"
    }
   ],
   "source": [
    "set({'apple':'red', 'orange':'orange', 'cherry':'red'})"
   ]
  },
  {
   "cell_type": "code",
   "execution_count": 36,
   "id": "b42a2214",
   "metadata": {},
   "outputs": [
    {
     "data": {
      "text/plain": [
       "['apple', 'orange', 'cherry']"
      ]
     },
     "execution_count": 36,
     "metadata": {},
     "output_type": "execute_result"
    }
   ],
   "source": [
    "list({'apple':'red', 'orange':'orange', 'cherry':'red'})"
   ]
  },
  {
   "cell_type": "code",
   "execution_count": 37,
   "id": "6e0e66fa",
   "metadata": {},
   "outputs": [],
   "source": [
    "s = set((1,2,3))"
   ]
  },
  {
   "cell_type": "code",
   "execution_count": 38,
   "id": "a137e05c",
   "metadata": {},
   "outputs": [
    {
     "data": {
      "text/plain": [
       "{1, 2, 3}"
      ]
     },
     "execution_count": 38,
     "metadata": {},
     "output_type": "execute_result"
    }
   ],
   "source": [
    "s"
   ]
  },
  {
   "cell_type": "code",
   "execution_count": 39,
   "id": "be9da628",
   "metadata": {},
   "outputs": [],
   "source": [
    "s.add('four')"
   ]
  },
  {
   "cell_type": "code",
   "execution_count": 40,
   "id": "891da91e",
   "metadata": {},
   "outputs": [
    {
     "data": {
      "text/plain": [
       "{1, 2, 3, 'four'}"
      ]
     },
     "execution_count": 40,
     "metadata": {},
     "output_type": "execute_result"
    }
   ],
   "source": [
    "s"
   ]
  },
  {
   "cell_type": "code",
   "execution_count": 41,
   "id": "3e0d769c",
   "metadata": {},
   "outputs": [],
   "source": [
    "s.remove(2)"
   ]
  },
  {
   "cell_type": "code",
   "execution_count": 42,
   "id": "1807645d",
   "metadata": {},
   "outputs": [
    {
     "data": {
      "text/plain": [
       "{1, 3, 'four'}"
      ]
     },
     "execution_count": 42,
     "metadata": {},
     "output_type": "execute_result"
    }
   ],
   "source": [
    "s"
   ]
  },
  {
   "cell_type": "code",
   "execution_count": 43,
   "id": "9fcff64c",
   "metadata": {},
   "outputs": [],
   "source": [
    "furniture = set(('sofa', 'ottoman', 'table'))"
   ]
  },
  {
   "cell_type": "code",
   "execution_count": 44,
   "id": "af8a14a9",
   "metadata": {},
   "outputs": [
    {
     "data": {
      "text/plain": [
       "{'ottoman', 'sofa', 'table'}"
      ]
     },
     "execution_count": 44,
     "metadata": {},
     "output_type": "execute_result"
    }
   ],
   "source": [
    "furniture"
   ]
  },
  {
   "cell_type": "code",
   "execution_count": 45,
   "id": "8f04bbd9",
   "metadata": {},
   "outputs": [
    {
     "name": "stdout",
     "output_type": "stream",
     "text": [
      "ottoman\n",
      "table\n",
      "sofa\n"
     ]
    }
   ],
   "source": [
    "for piece in furniture:\n",
    "    print(piece)"
   ]
  },
  {
   "cell_type": "code",
   "execution_count": 46,
   "id": "f27abd85",
   "metadata": {},
   "outputs": [
    {
     "data": {
      "text/plain": [
       "True"
      ]
     },
     "execution_count": 46,
     "metadata": {},
     "output_type": "execute_result"
    }
   ],
   "source": [
    "'table' in furniture"
   ]
  },
  {
   "cell_type": "code",
   "execution_count": 47,
   "id": "18109724",
   "metadata": {},
   "outputs": [],
   "source": [
    "drinks = { 'martini': {'vodka', 'vermouth'},\n",
    " 'black russian': {'vodka', 'kahlua'},\n",
    " 'white russian': {'cream', 'kahlua', 'vodka'},\n",
    " 'manhattan': {'rye', 'vermouth', 'bitters'},\n",
    " 'screwdriver': {'orange juice', 'vodka'}\n",
    " }"
   ]
  },
  {
   "cell_type": "code",
   "execution_count": 48,
   "id": "4ec8a993",
   "metadata": {},
   "outputs": [],
   "source": [
    "a , b, c = ['name'] * 3"
   ]
  },
  {
   "cell_type": "code",
   "execution_count": 52,
   "id": "e75977bd",
   "metadata": {},
   "outputs": [],
   "source": [
    "a, b  = list(drinks.items())[0]"
   ]
  },
  {
   "cell_type": "code",
   "execution_count": 53,
   "id": "4f48c35b",
   "metadata": {},
   "outputs": [
    {
     "data": {
      "text/plain": [
       "'martini'"
      ]
     },
     "execution_count": 53,
     "metadata": {},
     "output_type": "execute_result"
    }
   ],
   "source": [
    "a"
   ]
  },
  {
   "cell_type": "code",
   "execution_count": 54,
   "id": "1f90e740",
   "metadata": {},
   "outputs": [
    {
     "data": {
      "text/plain": [
       "{'vermouth', 'vodka'}"
      ]
     },
     "execution_count": 54,
     "metadata": {},
     "output_type": "execute_result"
    }
   ],
   "source": [
    "b"
   ]
  },
  {
   "cell_type": "code",
   "execution_count": 55,
   "id": "1bc5b21b",
   "metadata": {},
   "outputs": [
    {
     "data": {
      "text/plain": [
       "('martini', False)"
      ]
     },
     "execution_count": 55,
     "metadata": {},
     "output_type": "execute_result"
    }
   ],
   "source": [
    "a, b in list(drinks.items())"
   ]
  },
  {
   "cell_type": "code",
   "execution_count": 56,
   "id": "bc53d19d",
   "metadata": {},
   "outputs": [
    {
     "name": "stdout",
     "output_type": "stream",
     "text": [
      "martini {'vodka', 'vermouth'}\n",
      "black russian {'vodka', 'kahlua'}\n",
      "white russian {'vodka', 'kahlua', 'cream'}\n",
      "manhattan {'vermouth', 'bitters', 'rye'}\n",
      "screwdriver {'orange juice', 'vodka'}\n"
     ]
    }
   ],
   "source": [
    "for name , contents in drinks.items():\n",
    "    print(name, contents)    "
   ]
  },
  {
   "cell_type": "code",
   "execution_count": 57,
   "id": "ece68dfa",
   "metadata": {},
   "outputs": [],
   "source": [
    "a, b = list(drinks.items())[0]"
   ]
  },
  {
   "cell_type": "code",
   "execution_count": 61,
   "id": "a78445ad",
   "metadata": {},
   "outputs": [
    {
     "data": {
      "text/plain": [
       "True"
      ]
     },
     "execution_count": 61,
     "metadata": {},
     "output_type": "execute_result"
    }
   ],
   "source": [
    "'vodka' in {'orange juice', 'vodka'}"
   ]
  },
  {
   "cell_type": "code",
   "execution_count": 63,
   "id": "f496f64d",
   "metadata": {},
   "outputs": [],
   "source": [
    "voidkas =[]\n",
    "for name , contents in drinks.items():\n",
    "    if 'vodka' in contents:\n",
    "        #voidkas += name\n",
    "        voidkas.append(name)"
   ]
  },
  {
   "cell_type": "code",
   "execution_count": 64,
   "id": "c64b2a96",
   "metadata": {},
   "outputs": [
    {
     "data": {
      "text/plain": [
       "['martini', 'black russian', 'white russian', 'screwdriver']"
      ]
     },
     "execution_count": 64,
     "metadata": {},
     "output_type": "execute_result"
    }
   ],
   "source": [
    "voidkas"
   ]
  },
  {
   "cell_type": "code",
   "execution_count": null,
   "id": "5f4287e9",
   "metadata": {},
   "outputs": [],
   "source": []
  }
 ],
 "metadata": {
  "kernelspec": {
   "display_name": "Python 3",
   "language": "python",
   "name": "python3"
  },
  "language_info": {
   "codemirror_mode": {
    "name": "ipython",
    "version": 3
   },
   "file_extension": ".py",
   "mimetype": "text/x-python",
   "name": "python",
   "nbconvert_exporter": "python",
   "pygments_lexer": "ipython3",
   "version": "3.8.8"
  }
 },
 "nbformat": 4,
 "nbformat_minor": 5
}
