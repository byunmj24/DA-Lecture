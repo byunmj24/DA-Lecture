{
  "nbformat": 4,
  "nbformat_minor": 0,
  "metadata": {
    "colab": {
      "name": "numpy_for_deep_note.ipynb",
      "provenance": [],
      "collapsed_sections": []
    },
    "kernelspec": {
      "name": "python3",
      "display_name": "Python 3"
    },
    "language_info": {
      "name": "python"
    }
  },
  "cells": [
    {
      "cell_type": "markdown",
      "metadata": {
        "id": "6Noknb5CCm6k"
      },
      "source": [
        "!pip 는 리눅스 명령어 "
      ]
    },
    {
      "cell_type": "code",
      "metadata": {
        "colab": {
          "base_uri": "https://localhost:8080/"
        },
        "id": "LCQc8gngBpqw",
        "outputId": "4ec4cb73-60be-43b4-fe2c-63c30f865d28"
      },
      "source": [
        "!pip install numpy"
      ],
      "execution_count": 1,
      "outputs": [
        {
          "output_type": "stream",
          "name": "stdout",
          "text": [
            "Requirement already satisfied: numpy in /usr/local/lib/python3.7/dist-packages (1.19.5)\n"
          ]
        }
      ]
    },
    {
      "cell_type": "code",
      "metadata": {
        "id": "LCKUjnW1CJEE"
      },
      "source": [
        "import numpy as np"
      ],
      "execution_count": 2,
      "outputs": []
    },
    {
      "cell_type": "code",
      "metadata": {
        "colab": {
          "base_uri": "https://localhost:8080/"
        },
        "id": "Yg_9M3klCKiE",
        "outputId": "02bb6c25-bba1-44d7-c2d0-f3b469156469"
      },
      "source": [
        "print(\"hello\")"
      ],
      "execution_count": 3,
      "outputs": [
        {
          "output_type": "stream",
          "name": "stdout",
          "text": [
            "hello\n"
          ]
        }
      ]
    },
    {
      "cell_type": "code",
      "metadata": {
        "colab": {
          "base_uri": "https://localhost:8080/"
        },
        "id": "HuWe7OcqCcor",
        "outputId": "45fa9906-bfd9-43c1-b67c-1d74e7f2d531"
      },
      "source": [
        "ls -al"
      ],
      "execution_count": 4,
      "outputs": [
        {
          "output_type": "stream",
          "name": "stdout",
          "text": [
            "total 16\n",
            "drwxr-xr-x 1 root root 4096 Nov 18 14:36 \u001b[0m\u001b[01;34m.\u001b[0m/\n",
            "drwxr-xr-x 1 root root 4096 Nov 22 05:03 \u001b[01;34m..\u001b[0m/\n",
            "drwxr-xr-x 4 root root 4096 Nov 18 14:35 \u001b[01;34m.config\u001b[0m/\n",
            "drwxr-xr-x 1 root root 4096 Nov 18 14:36 \u001b[01;34msample_data\u001b[0m/\n"
          ]
        }
      ]
    },
    {
      "cell_type": "code",
      "metadata": {
        "colab": {
          "base_uri": "https://localhost:8080/"
        },
        "id": "-oDctLkgCrCL",
        "outputId": "efd92535-2cc1-467f-be9e-d85bc979c2bb"
      },
      "source": [
        "!pip install pandas"
      ],
      "execution_count": 6,
      "outputs": [
        {
          "output_type": "stream",
          "name": "stdout",
          "text": [
            "Requirement already satisfied: pandas in /usr/local/lib/python3.7/dist-packages (1.1.5)\n",
            "Requirement already satisfied: python-dateutil>=2.7.3 in /usr/local/lib/python3.7/dist-packages (from pandas) (2.8.2)\n",
            "Requirement already satisfied: numpy>=1.15.4 in /usr/local/lib/python3.7/dist-packages (from pandas) (1.19.5)\n",
            "Requirement already satisfied: pytz>=2017.2 in /usr/local/lib/python3.7/dist-packages (from pandas) (2018.9)\n",
            "Requirement already satisfied: six>=1.5 in /usr/local/lib/python3.7/dist-packages (from python-dateutil>=2.7.3->pandas) (1.15.0)\n"
          ]
        }
      ]
    },
    {
      "cell_type": "code",
      "metadata": {
        "colab": {
          "base_uri": "https://localhost:8080/"
        },
        "id": "Rx10Ti-rDSPs",
        "outputId": "33597884-0b56-447f-f6b3-dd007002f742"
      },
      "source": [
        "# 리스트 생성\n",
        "l = [1, 2, 3, 4, 5]\n",
        "print(l)"
      ],
      "execution_count": 7,
      "outputs": [
        {
          "output_type": "stream",
          "name": "stdout",
          "text": [
            "[1, 2, 3, 4, 5]\n"
          ]
        }
      ]
    },
    {
      "cell_type": "code",
      "metadata": {
        "colab": {
          "base_uri": "https://localhost:8080/"
        },
        "id": "7hJ0Skn5DuCj",
        "outputId": "c9eee34b-1e35-4a03-a808-fb54c1b3a86e"
      },
      "source": [
        "# 리스트의 요소 갯수 출력\n",
        "print(len(l))"
      ],
      "execution_count": 9,
      "outputs": [
        {
          "output_type": "stream",
          "name": "stdout",
          "text": [
            "5\n"
          ]
        }
      ]
    },
    {
      "cell_type": "code",
      "metadata": {
        "colab": {
          "base_uri": "https://localhost:8080/"
        },
        "id": "1h-sSz0iD1OT",
        "outputId": "2c7e5494-586e-4ba3-ff00-492d97fa7f76"
      },
      "source": [
        "# 리스트의 세번째 요소 출력\n",
        "print(l[2])"
      ],
      "execution_count": 10,
      "outputs": [
        {
          "output_type": "stream",
          "name": "stdout",
          "text": [
            "3\n"
          ]
        }
      ]
    },
    {
      "cell_type": "code",
      "metadata": {
        "id": "Cn8vqD8NECYL"
      },
      "source": [
        "l2 = [[0, 1], \n",
        "      [2, 3], \n",
        "      [4, 5]]"
      ],
      "execution_count": 16,
      "outputs": []
    },
    {
      "cell_type": "code",
      "metadata": {
        "colab": {
          "base_uri": "https://localhost:8080/"
        },
        "id": "PGORBxjnEPbM",
        "outputId": "d996507c-e130-4758-bb76-9df18ae1e1a3"
      },
      "source": [
        "# l2 리스트에서 2, 3 출력\n",
        "print(l2[1])"
      ],
      "execution_count": 18,
      "outputs": [
        {
          "output_type": "stream",
          "name": "stdout",
          "text": [
            "[2, 3]\n"
          ]
        }
      ]
    },
    {
      "cell_type": "code",
      "metadata": {
        "colab": {
          "base_uri": "https://localhost:8080/"
        },
        "id": "6Y8n66SzEc6j",
        "outputId": "2a1a9876-31a6-484a-ff35-f9b9047b75f0"
      },
      "source": [
        "# 2차원 array 접근, 3을 출력\n",
        "print(l2[1][1])"
      ],
      "execution_count": 19,
      "outputs": [
        {
          "output_type": "stream",
          "name": "stdout",
          "text": [
            "3\n"
          ]
        }
      ]
    },
    {
      "cell_type": "code",
      "metadata": {
        "colab": {
          "base_uri": "https://localhost:8080/",
          "height": 208
        },
        "id": "UruuJlu7E6bK",
        "outputId": "5dfe1e0f-8e36-4363-80fb-caacace49fd7"
      },
      "source": [
        "# 리스트 접근은 파이썬 자체 데이터이므로 접근할 때 느리다.\n",
        "# l2[1, 1] 같이 , 로는 접근이 불가능 함\n",
        "print(l2[1][1][3][4][5])"
      ],
      "execution_count": 37,
      "outputs": [
        {
          "output_type": "error",
          "ename": "TypeError",
          "evalue": "ignored",
          "traceback": [
            "\u001b[0;31m---------------------------------------------------------------------------\u001b[0m",
            "\u001b[0;31mTypeError\u001b[0m                                 Traceback (most recent call last)",
            "\u001b[0;32m<ipython-input-37-2c7d9e31a7ef>\u001b[0m in \u001b[0;36m<module>\u001b[0;34m()\u001b[0m\n\u001b[1;32m      1\u001b[0m \u001b[0;31m# 리스트 접근은 파이썬 자체 데이터이므로 접근할 때 느리다.\u001b[0m\u001b[0;34m\u001b[0m\u001b[0;34m\u001b[0m\u001b[0;34m\u001b[0m\u001b[0m\n\u001b[1;32m      2\u001b[0m \u001b[0;31m# l2[1, 1] 같이 , 로는 접근이 불가능 함\u001b[0m\u001b[0;34m\u001b[0m\u001b[0;34m\u001b[0m\u001b[0;34m\u001b[0m\u001b[0m\n\u001b[0;32m----> 3\u001b[0;31m \u001b[0mprint\u001b[0m\u001b[0;34m(\u001b[0m\u001b[0ml2\u001b[0m\u001b[0;34m[\u001b[0m\u001b[0;36m1\u001b[0m\u001b[0;34m]\u001b[0m\u001b[0;34m[\u001b[0m\u001b[0;36m1\u001b[0m\u001b[0;34m]\u001b[0m\u001b[0;34m[\u001b[0m\u001b[0;36m3\u001b[0m\u001b[0;34m]\u001b[0m\u001b[0;34m[\u001b[0m\u001b[0;36m4\u001b[0m\u001b[0;34m]\u001b[0m\u001b[0;34m[\u001b[0m\u001b[0;36m5\u001b[0m\u001b[0;34m]\u001b[0m\u001b[0;34m)\u001b[0m\u001b[0;34m\u001b[0m\u001b[0;34m\u001b[0m\u001b[0m\n\u001b[0m",
            "\u001b[0;31mTypeError\u001b[0m: 'int' object is not subscriptable"
          ]
        }
      ]
    },
    {
      "cell_type": "markdown",
      "metadata": {
        "id": "6AmnBXCnFqvA"
      },
      "source": [
        "## Numpy 활용\n",
        "다차원 표현, 속도 등 리스트 구조의 한계를 극복하기 위해 Numpy를 사용"
      ]
    },
    {
      "cell_type": "code",
      "metadata": {
        "colab": {
          "base_uri": "https://localhost:8080/"
        },
        "id": "5SAsrM9VFsBY",
        "outputId": "c0ffcd4c-7065-466f-9645-5ddc637e7464"
      },
      "source": [
        "# l 리스트를 n 이라는 Numpy array로 변환\n",
        "n = np.array(l)\n",
        "print(n)"
      ],
      "execution_count": 28,
      "outputs": [
        {
          "output_type": "stream",
          "name": "stdout",
          "text": [
            "[1 2 3 4 5]\n"
          ]
        }
      ]
    },
    {
      "cell_type": "code",
      "metadata": {
        "colab": {
          "base_uri": "https://localhost:8080/"
        },
        "id": "kJ6QjrTuFotz",
        "outputId": "d9804aa3-6db2-4752-e7b1-dd74bf942012"
      },
      "source": [
        "n = np.array([1,2,3,4,5])\n",
        "print(n)"
      ],
      "execution_count": 29,
      "outputs": [
        {
          "output_type": "stream",
          "name": "stdout",
          "text": [
            "[1 2 3 4 5]\n"
          ]
        }
      ]
    },
    {
      "cell_type": "code",
      "metadata": {
        "colab": {
          "base_uri": "https://localhost:8080/"
        },
        "id": "DQ7L-Js-FUKj",
        "outputId": "d10ef4bc-e5a0-47f9-a803-01c2123bea83"
      },
      "source": [
        "# 넘파이 array에서 3을 출력\n",
        "print(n[2])"
      ],
      "execution_count": 33,
      "outputs": [
        {
          "output_type": "stream",
          "name": "stdout",
          "text": [
            "3\n"
          ]
        }
      ]
    },
    {
      "cell_type": "code",
      "metadata": {
        "colab": {
          "base_uri": "https://localhost:8080/"
        },
        "id": "s1eiMqrLF1mD",
        "outputId": "494d6630-8468-4e5c-d307-fc304658b61c"
      },
      "source": [
        "# l2 리스트를 n2라는 Numpy array로 변환\n",
        "n2 = np.array(l2)\n",
        "print(n2[1])\n",
        "print(n2[1][1])"
      ],
      "execution_count": 34,
      "outputs": [
        {
          "output_type": "stream",
          "name": "stdout",
          "text": [
            "[2 3]\n",
            "3\n"
          ]
        }
      ]
    },
    {
      "cell_type": "code",
      "metadata": {
        "colab": {
          "base_uri": "https://localhost:8080/"
        },
        "id": "CYXpJrY1GENj",
        "outputId": "85e0c36e-49c8-4ec8-e35d-11b914b54945"
      },
      "source": [
        "type(n2)"
      ],
      "execution_count": 35,
      "outputs": [
        {
          "output_type": "execute_result",
          "data": {
            "text/plain": [
              "numpy.ndarray"
            ]
          },
          "metadata": {},
          "execution_count": 35
        }
      ]
    },
    {
      "cell_type": "code",
      "metadata": {
        "colab": {
          "base_uri": "https://localhost:8080/"
        },
        "id": "oLuWJOBfGE1a",
        "outputId": "0d8b3c25-9773-4984-a4eb-0700291d9c07"
      },
      "source": [
        "# 넘파이에서는 컴마로도 접근 가능해짐\n",
        "print(n2[1,1])   # = n2[1][1]"
      ],
      "execution_count": 36,
      "outputs": [
        {
          "output_type": "stream",
          "name": "stdout",
          "text": [
            "3\n"
          ]
        }
      ]
    },
    {
      "cell_type": "code",
      "metadata": {
        "colab": {
          "base_uri": "https://localhost:8080/"
        },
        "id": "pXr5EbZSGczP",
        "outputId": "57ef6b9a-7cc1-40a4-d318-d3662199fbe3"
      },
      "source": [
        "a = np.arange(12)\n",
        "print(a)"
      ],
      "execution_count": 38,
      "outputs": [
        {
          "output_type": "stream",
          "name": "stdout",
          "text": [
            "[ 0  1  2  3  4  5  6  7  8  9 10 11]\n"
          ]
        }
      ]
    },
    {
      "cell_type": "code",
      "metadata": {
        "colab": {
          "base_uri": "https://localhost:8080/"
        },
        "id": "Tu2m448XGpNb",
        "outputId": "dd9d82d2-4312-47db-cc25-e43dd1efb2d1"
      },
      "source": [
        "# 인덱스로 숫자 출력\n",
        "print(a[5])"
      ],
      "execution_count": 44,
      "outputs": [
        {
          "output_type": "stream",
          "name": "stdout",
          "text": [
            "5\n"
          ]
        }
      ]
    },
    {
      "cell_type": "markdown",
      "metadata": {
        "id": "T4u7E_U7IIuS"
      },
      "source": [
        "### a[start:end:step]"
      ]
    },
    {
      "cell_type": "code",
      "metadata": {
        "colab": {
          "base_uri": "https://localhost:8080/"
        },
        "id": "UMFrbZMXG9la",
        "outputId": "827c3306-1437-4fab-f6c4-90082dd3fbf7"
      },
      "source": [
        "# numpy로 Slicing 3부터 7전까지 (7은 포함 X)\n",
        "print(a[3:7])"
      ],
      "execution_count": 43,
      "outputs": [
        {
          "output_type": "stream",
          "name": "stdout",
          "text": [
            "[3 4 5 6]\n"
          ]
        }
      ]
    },
    {
      "cell_type": "code",
      "metadata": {
        "colab": {
          "base_uri": "https://localhost:8080/"
        },
        "id": "jikM4d9uHLxq",
        "outputId": "4d9c6ca3-e631-4f5d-c85c-19462fedb00a"
      },
      "source": [
        "# Slicing - 처음부터\n",
        "print(a[:7])"
      ],
      "execution_count": 45,
      "outputs": [
        {
          "output_type": "stream",
          "name": "stdout",
          "text": [
            "[0 1 2 3 4 5 6]\n"
          ]
        }
      ]
    },
    {
      "cell_type": "code",
      "metadata": {
        "colab": {
          "base_uri": "https://localhost:8080/"
        },
        "id": "sj8IHU6fH6M6",
        "outputId": "5d542d6a-b87e-4053-8ba1-7ada2faee38c"
      },
      "source": [
        "# Slicing - 끝까지\n",
        "print(a[3:])"
      ],
      "execution_count": 47,
      "outputs": [
        {
          "output_type": "stream",
          "name": "stdout",
          "text": [
            "[ 3  4  5  6  7  8  9 10 11]\n"
          ]
        }
      ]
    },
    {
      "cell_type": "code",
      "metadata": {
        "colab": {
          "base_uri": "https://localhost:8080/"
        },
        "id": "zjL9UzPBIBda",
        "outputId": "eaac80c2-cfd9-43ad-e4f6-593efbd650ae"
      },
      "source": [
        "# 처음부터 끝까지\n",
        "print(a[:])"
      ],
      "execution_count": 49,
      "outputs": [
        {
          "output_type": "stream",
          "name": "stdout",
          "text": [
            "[ 0  1  2  3  4  5  6  7  8  9 10 11]\n"
          ]
        }
      ]
    },
    {
      "cell_type": "code",
      "metadata": {
        "colab": {
          "base_uri": "https://localhost:8080/"
        },
        "id": "HNOlb3K7ITLi",
        "outputId": "f79f0634-a233-4fb2-85b0-dd88fec11793"
      },
      "source": [
        "# a[start:end:step]\n",
        "print(a[3:9:2])"
      ],
      "execution_count": 52,
      "outputs": [
        {
          "output_type": "stream",
          "name": "stdout",
          "text": [
            "[3 5 7]\n"
          ]
        }
      ]
    },
    {
      "cell_type": "code",
      "metadata": {
        "colab": {
          "base_uri": "https://localhost:8080/"
        },
        "id": "l8tN_219Igkx",
        "outputId": "55bfbff6-bc4f-40a2-c19a-b9b3b5bd8dc8"
      },
      "source": [
        "print(a[3:8:3])"
      ],
      "execution_count": 53,
      "outputs": [
        {
          "output_type": "stream",
          "name": "stdout",
          "text": [
            "[3 6]\n"
          ]
        }
      ]
    },
    {
      "cell_type": "code",
      "metadata": {
        "colab": {
          "base_uri": "https://localhost:8080/"
        },
        "id": "JmaeT4raI-sL",
        "outputId": "90f1396f-564b-456e-829c-b27ebd443de8"
      },
      "source": [
        "print(a[3:8])"
      ],
      "execution_count": 61,
      "outputs": [
        {
          "output_type": "stream",
          "name": "stdout",
          "text": [
            "[3 4 5 6 7]\n"
          ]
        }
      ]
    },
    {
      "cell_type": "code",
      "metadata": {
        "colab": {
          "base_uri": "https://localhost:8080/"
        },
        "id": "Obh1CF67IiPb",
        "outputId": "a1e523c4-2dfb-4a23-aa65-f4c607a4ae3d"
      },
      "source": [
        "# [7, 6, 5, 4, 3] 출력\n",
        "print(a[7:2:-1])"
      ],
      "execution_count": 63,
      "outputs": [
        {
          "output_type": "stream",
          "name": "stdout",
          "text": [
            "[7 6 5 4 3]\n"
          ]
        }
      ]
    },
    {
      "cell_type": "code",
      "metadata": {
        "colab": {
          "base_uri": "https://localhost:8080/"
        },
        "id": "HdXBWfirIqrb",
        "outputId": "297b3d48-2c99-46e0-80f0-77db860fed29"
      },
      "source": [
        "# array reverse\n",
        "print(a[::-1])"
      ],
      "execution_count": 65,
      "outputs": [
        {
          "output_type": "stream",
          "name": "stdout",
          "text": [
            "[11 10  9  8  7  6  5  4  3  2  1  0]\n"
          ]
        }
      ]
    },
    {
      "cell_type": "code",
      "metadata": {
        "colab": {
          "base_uri": "https://localhost:8080/"
        },
        "id": "CnavNk7AJM46",
        "outputId": "42d51a94-1234-4b34-f7fc-20ecaee29b7f"
      },
      "source": [
        "# [0, 2, 4, 6, 8, 10]\n",
        "print(a[::2])\n",
        "# [11, 9, 7, 5, 3, 1]\n",
        "print(a[11:0:-2])\n",
        "# [1, 3, 5, 7, 9, 11]\n",
        "print(a[1::2])\n",
        "# [10. 8, 6, 4, 2, 0]\n",
        "print(a[10::-2])"
      ],
      "execution_count": 70,
      "outputs": [
        {
          "output_type": "stream",
          "name": "stdout",
          "text": [
            "[ 0  2  4  6  8 10]\n",
            "[11  9  7  5  3  1]\n",
            "[ 1  3  5  7  9 11]\n",
            "[10  8  6  4  2  0]\n"
          ]
        }
      ]
    },
    {
      "cell_type": "code",
      "metadata": {
        "colab": {
          "base_uri": "https://localhost:8080/"
        },
        "id": "_lPRK-P_KB1q",
        "outputId": "1c27ec65-87eb-41c0-c61e-9034b25aa84a"
      },
      "source": [
        "a = np.arange(12).reshape((3, 4))  # reshape의 arg는 tuple\n",
        "print(a)"
      ],
      "execution_count": 83,
      "outputs": [
        {
          "output_type": "stream",
          "name": "stdout",
          "text": [
            "[[ 0  1  2  3]\n",
            " [ 4  5  6  7]\n",
            " [ 8  9 10 11]]\n"
          ]
        }
      ]
    },
    {
      "cell_type": "code",
      "metadata": {
        "colab": {
          "base_uri": "https://localhost:8080/"
        },
        "id": "jQoC4Db2KtrS",
        "outputId": "7a82ad7b-cd0d-4dac-b9f0-06e0dd1b11b4"
      },
      "source": [
        "# 넘파이 array의 shape를 확인\n",
        "print(a.shape)"
      ],
      "execution_count": 75,
      "outputs": [
        {
          "output_type": "stream",
          "name": "stdout",
          "text": [
            "(3, 4)\n"
          ]
        }
      ]
    },
    {
      "cell_type": "markdown",
      "metadata": {
        "id": "dumg-VRWK7_a"
      },
      "source": [
        "맨 앞에 나오는 숫자는 데이터의 갯수\n",
        "5,3 : 데이터는 5개있고, 하나의 데이터는 3개의 숫자로 이루어져있다."
      ]
    },
    {
      "cell_type": "code",
      "metadata": {
        "colab": {
          "base_uri": "https://localhost:8080/"
        },
        "id": "35KkrY6QLw4C",
        "outputId": "480e4c59-5a5e-4848-b03c-3ec1d8465a98"
      },
      "source": [
        "# 3차원\n",
        "(5000, 28, 28)"
      ],
      "execution_count": 76,
      "outputs": [
        {
          "output_type": "execute_result",
          "data": {
            "text/plain": [
              "(5000, 28, 28)"
            ]
          },
          "metadata": {},
          "execution_count": 76
        }
      ]
    },
    {
      "cell_type": "markdown",
      "metadata": {
        "id": "e8KlyRJCO7-P"
      },
      "source": [
        "### Reshape"
      ]
    },
    {
      "cell_type": "code",
      "metadata": {
        "colab": {
          "base_uri": "https://localhost:8080/"
        },
        "id": "nmR12DJ-PGOy",
        "outputId": "ba2c4d9c-b390-470a-e97e-368ab6294ae5"
      },
      "source": [
        "print(type(a.shape))"
      ],
      "execution_count": 77,
      "outputs": [
        {
          "output_type": "stream",
          "name": "stdout",
          "text": [
            "<class 'tuple'>\n"
          ]
        }
      ]
    },
    {
      "cell_type": "code",
      "metadata": {
        "colab": {
          "base_uri": "https://localhost:8080/"
        },
        "id": "gLRxUn2TPRtZ",
        "outputId": "a7a9619d-d6c6-41f5-c567-b2367b4b3f39"
      },
      "source": [
        "t = (0, 1, 2, 3)\n",
        "print(len(t))\n",
        "print(t[2])"
      ],
      "execution_count": 80,
      "outputs": [
        {
          "output_type": "stream",
          "name": "stdout",
          "text": [
            "4\n",
            "2\n"
          ]
        }
      ]
    },
    {
      "cell_type": "code",
      "metadata": {
        "colab": {
          "base_uri": "https://localhost:8080/"
        },
        "id": "nd85S1RmPT3q",
        "outputId": "a76a92e0-d935-4017-f967-6dc5c8a784a9"
      },
      "source": [
        "a = np.arange(12)\n",
        "print(a.shape)"
      ],
      "execution_count": 84,
      "outputs": [
        {
          "output_type": "stream",
          "name": "stdout",
          "text": [
            "(12,)\n"
          ]
        }
      ]
    },
    {
      "cell_type": "markdown",
      "metadata": {
        "id": "JLDOQXZWQKkQ"
      },
      "source": [
        "tuple 임을 보여주는 표기법\n",
        "(5, 4, 3)\n",
        "(5, 4)\n",
        "(5, )  으로 표시됨"
      ]
    },
    {
      "cell_type": "code",
      "metadata": {
        "colab": {
          "base_uri": "https://localhost:8080/"
        },
        "id": "Id9HTbwOPZg6",
        "outputId": "89350c63-6f91-4f14-e9be-938b4982d49a"
      },
      "source": [
        "print(  (5)*3  )"
      ],
      "execution_count": 85,
      "outputs": [
        {
          "output_type": "stream",
          "name": "stdout",
          "text": [
            "15\n"
          ]
        }
      ]
    },
    {
      "cell_type": "code",
      "metadata": {
        "colab": {
          "base_uri": "https://localhost:8080/"
        },
        "id": "2tSryKoxQGFI",
        "outputId": "4564a0d6-5ac8-41d6-ab65-cfa92472ce3f"
      },
      "source": [
        "# 3차원 데이터 생성\n",
        "a = np.arange(24).reshape((2,3,4))\n",
        "print(a.shape)"
      ],
      "execution_count": 89,
      "outputs": [
        {
          "output_type": "stream",
          "name": "stdout",
          "text": [
            "(2, 3, 4)\n"
          ]
        }
      ]
    },
    {
      "cell_type": "code",
      "metadata": {
        "colab": {
          "base_uri": "https://localhost:8080/"
        },
        "id": "zzOD1AtPQqSS",
        "outputId": "f71a0ccc-6cc5-4bcc-d564-c40253a2214f"
      },
      "source": [
        "print(a)"
      ],
      "execution_count": 90,
      "outputs": [
        {
          "output_type": "stream",
          "name": "stdout",
          "text": [
            "[[[ 0  1  2  3]\n",
            "  [ 4  5  6  7]\n",
            "  [ 8  9 10 11]]\n",
            "\n",
            " [[12 13 14 15]\n",
            "  [16 17 18 19]\n",
            "  [20 21 22 23]]]\n"
          ]
        }
      ]
    },
    {
      "cell_type": "code",
      "metadata": {
        "colab": {
          "base_uri": "https://localhost:8080/"
        },
        "id": "XOUGKJg-QsAq",
        "outputId": "10eec6a3-2c68-446a-bbe0-aa027922a546"
      },
      "source": [
        "# 한개의 데이터는 (2, 4), 데이터가 총 3개\n",
        "a = np.arange(24).reshape((3, 2, 4))\n",
        "print(a.shape)\n",
        "print(a)"
      ],
      "execution_count": 96,
      "outputs": [
        {
          "output_type": "stream",
          "name": "stdout",
          "text": [
            "(3, 2, 4)\n",
            "[[[ 0  1  2  3]\n",
            "  [ 4  5  6  7]]\n",
            "\n",
            " [[ 8  9 10 11]\n",
            "  [12 13 14 15]]\n",
            "\n",
            " [[16 17 18 19]\n",
            "  [20 21 22 23]]]\n"
          ]
        }
      ]
    },
    {
      "cell_type": "markdown",
      "metadata": {
        "id": "CBfVBLrMRAkq"
      },
      "source": [
        "### 딥러닝에서 numpy의 reshape를 굉장히 많이 쓴다.\n",
        "파이썬의 List 에는 reshape 가 없다.."
      ]
    },
    {
      "cell_type": "code",
      "metadata": {
        "colab": {
          "base_uri": "https://localhost:8080/"
        },
        "id": "mXPRxUMwRbRz",
        "outputId": "d0f06ee5-214a-4387-cc07-a163e2ecae37"
      },
      "source": [
        "# reshape에서의 유틸성\n",
        "a = np.arange(96).reshape((3,4,-1))  # '-1' 을 넣으면 나머지 숫자들에 의해 값이 결정된다.\n",
        "print(a.shape)\n",
        "print(a)"
      ],
      "execution_count": 100,
      "outputs": [
        {
          "output_type": "stream",
          "name": "stdout",
          "text": [
            "(3, 4, 8)\n",
            "[[[ 0  1  2  3  4  5  6  7]\n",
            "  [ 8  9 10 11 12 13 14 15]\n",
            "  [16 17 18 19 20 21 22 23]\n",
            "  [24 25 26 27 28 29 30 31]]\n",
            "\n",
            " [[32 33 34 35 36 37 38 39]\n",
            "  [40 41 42 43 44 45 46 47]\n",
            "  [48 49 50 51 52 53 54 55]\n",
            "  [56 57 58 59 60 61 62 63]]\n",
            "\n",
            " [[64 65 66 67 68 69 70 71]\n",
            "  [72 73 74 75 76 77 78 79]\n",
            "  [80 81 82 83 84 85 86 87]\n",
            "  [88 89 90 91 92 93 94 95]]]\n"
          ]
        }
      ]
    },
    {
      "cell_type": "code",
      "metadata": {
        "colab": {
          "base_uri": "https://localhost:8080/"
        },
        "id": "W-PDRABTR0Mh",
        "outputId": "c8f7210e-6fa5-409d-9e5d-4afaa022ca53"
      },
      "source": [
        "# 0으로 채워진 array\n",
        "a = np.zeros((3, 4))\n",
        "print(a)"
      ],
      "execution_count": 101,
      "outputs": [
        {
          "output_type": "stream",
          "name": "stdout",
          "text": [
            "[[0. 0. 0. 0.]\n",
            " [0. 0. 0. 0.]\n",
            " [0. 0. 0. 0.]]\n"
          ]
        }
      ]
    },
    {
      "cell_type": "code",
      "metadata": {
        "colab": {
          "base_uri": "https://localhost:8080/"
        },
        "id": "La0A4fiySY8i",
        "outputId": "90c83620-120d-487f-b1e1-33f9abab9ed9"
      },
      "source": [
        "# 1로 채워진 array\n",
        "a = np.ones((3,4))\n",
        "print(a)"
      ],
      "execution_count": 105,
      "outputs": [
        {
          "output_type": "stream",
          "name": "stdout",
          "text": [
            "[[1. 1. 1. 1.]\n",
            " [1. 1. 1. 1.]\n",
            " [1. 1. 1. 1.]]\n"
          ]
        }
      ]
    },
    {
      "cell_type": "code",
      "metadata": {
        "colab": {
          "base_uri": "https://localhost:8080/"
        },
        "id": "ARdSZmrgScjJ",
        "outputId": "8448eacb-cb6e-445b-959b-e5815c1f6ff7"
      },
      "source": [
        "a = np.arange(12).reshape((3,4))\n",
        "\n",
        "# a 와 shape 이 같은 array 만들기\n",
        "b = np.ones_like(a)\n",
        "print(b)"
      ],
      "execution_count": 107,
      "outputs": [
        {
          "output_type": "stream",
          "name": "stdout",
          "text": [
            "[[1 1 1 1]\n",
            " [1 1 1 1]\n",
            " [1 1 1 1]]\n"
          ]
        }
      ]
    },
    {
      "cell_type": "code",
      "metadata": {
        "colab": {
          "base_uri": "https://localhost:8080/"
        },
        "id": "TnXKdPIhSymC",
        "outputId": "8c5dd335-5a48-40e8-a6e2-7515f826d8f5"
      },
      "source": [
        "c = np.zeros_like(a)\n",
        "print(c)"
      ],
      "execution_count": 111,
      "outputs": [
        {
          "output_type": "stream",
          "name": "stdout",
          "text": [
            "[[0. 0. 0. 0.]\n",
            " [0. 0. 0. 0.]\n",
            " [0. 0. 0. 0.]]\n"
          ]
        }
      ]
    },
    {
      "cell_type": "code",
      "metadata": {
        "colab": {
          "base_uri": "https://localhost:8080/"
        },
        "id": "P2CJO815TAXa",
        "outputId": "df752aea-29fe-453f-cfa4-ffbfa047ab7c"
      },
      "source": [
        "a = np.ones((3, 4))\n",
        "# array 전체에 같은 값 곱하기 (List는 반복이 적용됨)\n",
        "a = a*2\n",
        "\n",
        "print(a)"
      ],
      "execution_count": 113,
      "outputs": [
        {
          "output_type": "stream",
          "name": "stdout",
          "text": [
            "[[2. 2. 2. 2.]\n",
            " [2. 2. 2. 2.]\n",
            " [2. 2. 2. 2.]]\n"
          ]
        }
      ]
    },
    {
      "cell_type": "code",
      "metadata": {
        "colab": {
          "base_uri": "https://localhost:8080/"
        },
        "id": "NfObYc2RTRVZ",
        "outputId": "e80b8a61-9281-4025-eeeb-b268d6f42a1f"
      },
      "source": [
        "a = np.arange(12)\n",
        "print(a)\n",
        "\n",
        "m = np.mean(a)\n",
        "print(m)\n",
        "\n",
        "sd = np.std(a)\n",
        "print(sd)"
      ],
      "execution_count": 124,
      "outputs": [
        {
          "output_type": "stream",
          "name": "stdout",
          "text": [
            "[ 0  1  2  3  4  5  6  7  8  9 10 11]\n",
            "5.5\n",
            "3.452052529534663\n"
          ]
        }
      ]
    },
    {
      "cell_type": "markdown",
      "metadata": {
        "id": "Y7YQpSDrUFza"
      },
      "source": [
        "### normalization\n",
        "데이터값의 평균을 0으로 만들고싶어 -> 데이터 값에서 각각 평균을 빼준다. (x - m)\n",
        "\n",
        "데이터값의 표준편차를 1로 만들려면 -> 데이터에서 평균을 빼주고 다시 표준편차로 나눈다. (x - m)/std"
      ]
    },
    {
      "cell_type": "code",
      "metadata": {
        "colab": {
          "base_uri": "https://localhost:8080/"
        },
        "id": "1F1BiI6zUx6K",
        "outputId": "067a4fa4-b2a6-4bea-b412-041446c00535"
      },
      "source": [
        "# normalization\n",
        "nm = (a - m) / sd\n",
        "print(nm)"
      ],
      "execution_count": 129,
      "outputs": [
        {
          "output_type": "stream",
          "name": "stdout",
          "text": [
            "[-1.59325501 -1.30357228 -1.01388955 -0.72420682 -0.43452409 -0.14484136\n",
            "  0.14484136  0.43452409  0.72420682  1.01388955  1.30357228  1.59325501]\n"
          ]
        }
      ]
    },
    {
      "cell_type": "code",
      "metadata": {
        "colab": {
          "base_uri": "https://localhost:8080/"
        },
        "id": "tpgCiqELU-Vx",
        "outputId": "444d2888-0a65-40a8-84e9-305f045fe57f"
      },
      "source": [
        "a = np.arange(4)\n",
        "print(a)"
      ],
      "execution_count": 137,
      "outputs": [
        {
          "output_type": "stream",
          "name": "stdout",
          "text": [
            "[0 1 2 3]\n"
          ]
        }
      ]
    },
    {
      "cell_type": "code",
      "metadata": {
        "colab": {
          "base_uri": "https://localhost:8080/"
        },
        "id": "gnQ0o988VOt6",
        "outputId": "f70821f9-b110-4acf-c0b3-4cead192b6df"
      },
      "source": [
        "# 최대값은 1, 최소값은 0이 되도록 normalization\n",
        "m = np.min(a)\n",
        "M = np.max(a)\n",
        "\n",
        "b = (a - m) / (M - m)\n",
        "print(b)"
      ],
      "execution_count": 139,
      "outputs": [
        {
          "output_type": "stream",
          "name": "stdout",
          "text": [
            "[0.         0.33333333 0.66666667 1.        ]\n"
          ]
        }
      ]
    },
    {
      "cell_type": "code",
      "metadata": {
        "colab": {
          "base_uri": "https://localhost:8080/"
        },
        "id": "BQIniJwhVyXP",
        "outputId": "12858539-ddfb-4331-c750-566b26243de9"
      },
      "source": [
        "a = np.arange(4) + 2\n",
        "\n",
        "print(a)\n",
        "\n",
        "# normalization\n",
        "m = np.min(a)\n",
        "M = np.max(a)\n",
        "\n",
        "nm = (a - m) / (M - m)\n",
        "print(nm)"
      ],
      "execution_count": 142,
      "outputs": [
        {
          "output_type": "stream",
          "name": "stdout",
          "text": [
            "[2 3 4 5]\n",
            "[0.         0.33333333 0.66666667 1.        ]\n"
          ]
        }
      ]
    },
    {
      "cell_type": "code",
      "metadata": {
        "colab": {
          "base_uri": "https://localhost:8080/"
        },
        "id": "POrWuhW4WzcR",
        "outputId": "b16b9839-2026-4962-9d76-c8505c258aa5"
      },
      "source": [
        "a = np.eye(5)\n",
        "print(a)"
      ],
      "execution_count": 144,
      "outputs": [
        {
          "output_type": "stream",
          "name": "stdout",
          "text": [
            "[[1. 0. 0. 0. 0.]\n",
            " [0. 1. 0. 0. 0.]\n",
            " [0. 0. 1. 0. 0.]\n",
            " [0. 0. 0. 1. 0.]\n",
            " [0. 0. 0. 0. 1.]]\n"
          ]
        }
      ]
    },
    {
      "cell_type": "code",
      "metadata": {
        "colab": {
          "base_uri": "https://localhost:8080/"
        },
        "id": "rofOPZGzYHEh",
        "outputId": "5d851a1c-ff5e-460f-8cd5-042c553ca113"
      },
      "source": [
        "# 난수 생성\n",
        "a = np.random.rand(10)\n",
        "\n",
        "print(a)"
      ],
      "execution_count": 164,
      "outputs": [
        {
          "output_type": "stream",
          "name": "stdout",
          "text": [
            "[0.02252403 0.37972402 0.61793364 0.58168497 0.2891034  0.64234733\n",
            " 0.66056583 0.30701872 0.95269461 0.19207536]\n"
          ]
        }
      ]
    },
    {
      "cell_type": "code",
      "metadata": {
        "colab": {
          "base_uri": "https://localhost:8080/"
        },
        "id": "I3zhHzUwYUeB",
        "outputId": "a8256f79-afc2-4cbc-a1fc-9364bd2cf1e2"
      },
      "source": [
        "# 난수 범위 지정하여 정수 난수 생성, size 는 갯수\n",
        "a = np.random.randint(1, 7, size = 10)\n",
        "print(a)"
      ],
      "execution_count": 165,
      "outputs": [
        {
          "output_type": "stream",
          "name": "stdout",
          "text": [
            "[2 4 5 6 4 6 2 1 6 2]\n"
          ]
        }
      ]
    },
    {
      "cell_type": "code",
      "metadata": {
        "colab": {
          "base_uri": "https://localhost:8080/"
        },
        "id": "6MiwFmewYdfY",
        "outputId": "eb963683-b169-4a57-afd9-eeb1ccc8ffdc"
      },
      "source": [
        "a = np.random.randint(7, size = 10)\n",
        "print(a)"
      ],
      "execution_count": 166,
      "outputs": [
        {
          "output_type": "stream",
          "name": "stdout",
          "text": [
            "[6 1 5 4 3 5 1 5 1 0]\n"
          ]
        }
      ]
    },
    {
      "cell_type": "code",
      "metadata": {
        "colab": {
          "base_uri": "https://localhost:8080/",
          "height": 265
        },
        "id": "DscnSfabYn_B",
        "outputId": "b4c2b364-9622-41e1-8f07-65694220e272"
      },
      "source": [
        "a = np.random.rand(10000)\n",
        "\n",
        "import matplotlib.pyplot as plt\n",
        "plt.hist(a, bins=1000)\n",
        "plt.show()"
      ],
      "execution_count": 170,
      "outputs": [
        {
          "output_type": "display_data",
          "data": {
            "image/png": "[encoded data removed]",
            "text/plain": [
              "<Figure size 432x288 with 1 Axes>"
            ]
          },
          "metadata": {
            "needs_background": "light"
          }
        }
      ]
    },
    {
      "cell_type": "code",
      "metadata": {
        "id": "M2Acr8GGYyVZ"
      },
      "source": [
        "# 히스토그램 생성 함수\n",
        "def hist(array, n):\n",
        "  plt.hist(array, bins = n)\n",
        "  plt.show()"
      ],
      "execution_count": 180,
      "outputs": []
    },
    {
      "cell_type": "code",
      "metadata": {
        "colab": {
          "base_uri": "https://localhost:8080/",
          "height": 265
        },
        "id": "PvWG92rRZGwh",
        "outputId": "900f703c-2c5f-41e6-80f0-8a2577602188"
      },
      "source": [
        "# randn : 정규분포 난수 생성\n",
        "a = np.random.randn(10000)\n",
        "hist(a, 1000)"
      ],
      "execution_count": 181,
      "outputs": [
        {
          "output_type": "display_data",
          "data": {
            "image/png": "[encoded data removed]",
            "text/plain": [
              "<Figure size 432x288 with 1 Axes>"
            ]
          },
          "metadata": {
            "needs_background": "light"
          }
        }
      ]
    },
    {
      "cell_type": "code",
      "metadata": {
        "id": "NXR9EdkPZMlK"
      },
      "source": [
        "# max, min, mean, std 출력하는 함수\n",
        "def desc(array):\n",
        "  m = np.min(array)\n",
        "  M = np.max(array)\n",
        "  mean = np.mean(array)\n",
        "  std = np.std(array)\n",
        "  print('min :',m)\n",
        "  print('max :',M)\n",
        "  print('mean :',mean)\n",
        "  print('std :',std)\n"
      ],
      "execution_count": 182,
      "outputs": []
    },
    {
      "cell_type": "code",
      "metadata": {
        "colab": {
          "base_uri": "https://localhost:8080/"
        },
        "id": "5T0cRAjMaJ8R",
        "outputId": "89af8cda-d9f1-4bd5-c6fd-29d15f0fa061"
      },
      "source": [
        "desc(a)"
      ],
      "execution_count": 183,
      "outputs": [
        {
          "output_type": "stream",
          "name": "stdout",
          "text": [
            "min : -3.600455072644908\n",
            "max : 4.057341794500747\n",
            "mean : -0.005272832392301465\n",
            "std : 1.0062023111987872\n"
          ]
        }
      ]
    },
    {
      "cell_type": "code",
      "metadata": {
        "colab": {
          "base_uri": "https://localhost:8080/"
        },
        "id": "Pf2mWdbfaMFB",
        "outputId": "2fd7ee19-ef91-47cf-b818-afc2aac22ee2"
      },
      "source": [
        "a = np.arange(12)\n",
        "print(a)\n",
        "\n",
        "# 홀수번째를 -1로 변경\n",
        "a[::2] = -1\n",
        "print(a)\n",
        "\n",
        "# 짝수번째를 -2로 변경\n",
        "a[1::2] = -2\n",
        "print(a)"
      ],
      "execution_count": 191,
      "outputs": [
        {
          "output_type": "stream",
          "name": "stdout",
          "text": [
            "[ 0  1  2  3  4  5  6  7  8  9 10 11]\n",
            "[-1  1 -1  3 -1  5 -1  7 -1  9 -1 11]\n",
            "[-1 -2 -1 -2 -1 -2 -1 -2 -1 -2 -1 -2]\n"
          ]
        }
      ]
    },
    {
      "cell_type": "code",
      "metadata": {
        "colab": {
          "base_uri": "https://localhost:8080/"
        },
        "id": "wi7gBPGGiVJB",
        "outputId": "43475109-aaae-4ab8-ba91-508e42890c87"
      },
      "source": [
        "# 범위 Slicing\n",
        "a = np.arange(24).reshape((4,6))\n",
        "print(a)\n",
        "# 줄은 처음부터 끝까지, 내용은 1~3전까지 출력\n",
        "print(a[:,1:3])"
      ],
      "execution_count": 193,
      "outputs": [
        {
          "output_type": "stream",
          "name": "stdout",
          "text": [
            "[[ 0  1  2  3  4  5]\n",
            " [ 6  7  8  9 10 11]\n",
            " [12 13 14 15 16 17]\n",
            " [18 19 20 21 22 23]]\n",
            "[[ 1  2]\n",
            " [ 7  8]\n",
            " [13 14]\n",
            " [19 20]]\n"
          ]
        }
      ]
    },
    {
      "cell_type": "markdown",
      "metadata": {
        "id": "sc3ntBpfkv9C"
      },
      "source": [
        " ```\n",
        " 7  8  9 10 11\n",
        "13 14 15 16 17 \n",
        " ```"
      ]
    },
    {
      "cell_type": "code",
      "metadata": {
        "colab": {
          "base_uri": "https://localhost:8080/"
        },
        "id": "02cQnZxjjcLY",
        "outputId": "d4b983db-2b80-4a0e-fa4b-f2ff0e12f0e3"
      },
      "source": [
        "# [ 7,  8,  9, 10, 11]\n",
        "# [13, 14, 15, 16, 17] 출력\n",
        "print(a[1:3,1:])"
      ],
      "execution_count": 194,
      "outputs": [
        {
          "output_type": "stream",
          "name": "stdout",
          "text": [
            "[[ 7  8  9 10 11]\n",
            " [13 14 15 16 17]]\n"
          ]
        }
      ]
    },
    {
      "cell_type": "markdown",
      "metadata": {
        "id": "fgtYmQ63louB"
      },
      "source": [
        "```\n",
        " 7  8  9 10\n",
        "13 14 15 16\n",
        "```"
      ]
    },
    {
      "cell_type": "code",
      "metadata": {
        "colab": {
          "base_uri": "https://localhost:8080/"
        },
        "id": "1rJTvd-qkMhJ",
        "outputId": "0bb07405-d111-4787-aa9d-a20868365836"
      },
      "source": [
        "# [ 7,  8,  9, 10]\n",
        "# [13, 14, 15, 16] 출력\n",
        "print(a[1:3,1:5])"
      ],
      "execution_count": 200,
      "outputs": [
        {
          "output_type": "stream",
          "name": "stdout",
          "text": [
            "[[0. 0. 0. 1.]\n",
            " [0. 0. 0. 1.]]\n"
          ]
        }
      ]
    },
    {
      "cell_type": "markdown",
      "metadata": {
        "id": "p0C_zkr5lJXZ"
      },
      "source": [
        "```\n",
        "1 1 1 1 1\n",
        "1 0 0 0 1\n",
        "1 0 0 0 1\n",
        "1 1 1 1 1\n",
        "```"
      ]
    },
    {
      "cell_type": "code",
      "metadata": {
        "colab": {
          "base_uri": "https://localhost:8080/"
        },
        "id": "fuTugJI5k8ww",
        "outputId": "d8b6aa43-a993-43a4-9955-67e01f346e69"
      },
      "source": [
        "# 위 모양 만들기\n",
        "# a = np.ones(20).reshape((4, 5))\n",
        "a = np.ones((4, 5))\n",
        "a[1:3, 1:4] = 0\n",
        "\n",
        "print(a)"
      ],
      "execution_count": 204,
      "outputs": [
        {
          "output_type": "stream",
          "name": "stdout",
          "text": [
            "[[1. 1. 1. 1. 1.]\n",
            " [1. 0. 0. 0. 1.]\n",
            " [1. 0. 0. 0. 1.]\n",
            " [1. 1. 1. 1. 1.]]\n"
          ]
        }
      ]
    },
    {
      "cell_type": "markdown",
      "metadata": {
        "id": "wjRgW4r5m2lm"
      },
      "source": [
        "```\n",
        "1 1 1 1 1 1 1\n",
        "1 0 1 0 1 0 1\n",
        "1 0 1 0 1 0 1\n",
        "1 1 1 1 1 1 1\n",
        "```"
      ]
    },
    {
      "cell_type": "code",
      "metadata": {
        "colab": {
          "base_uri": "https://localhost:8080/"
        },
        "id": "0OEJ9Pislcfo",
        "outputId": "3502055c-f1c3-4b9e-cda3-1cb047b994a8"
      },
      "source": [
        "a = np.ones((4, 7))\n",
        "a[1:3, 1::2] = 0\n",
        "print(a)"
      ],
      "execution_count": 205,
      "outputs": [
        {
          "output_type": "stream",
          "name": "stdout",
          "text": [
            "[[1. 1. 1. 1. 1. 1. 1.]\n",
            " [1. 0. 1. 0. 1. 0. 1.]\n",
            " [1. 0. 1. 0. 1. 0. 1.]\n",
            " [1. 1. 1. 1. 1. 1. 1.]]\n"
          ]
        }
      ]
    },
    {
      "cell_type": "code",
      "metadata": {
        "colab": {
          "base_uri": "https://localhost:8080/"
        },
        "id": "_vnTRmxNnAzI",
        "outputId": "3abc343e-a1f3-4404-a62a-5b616af1f4ee"
      },
      "source": [
        "# shape이 같은 행렬 연산\n",
        "a = np.arange(12).reshape((3, 4))\n",
        "b = np.arange(12).reshape((3, 4)) * 2\n",
        "\n",
        "print(a)\n",
        "print(b)\n",
        "\n",
        "print(a + b)\n",
        "print(a - b)\n",
        "print(a * b)\n",
        "print(a / b)"
      ],
      "execution_count": 212,
      "outputs": [
        {
          "output_type": "stream",
          "name": "stdout",
          "text": [
            "[[ 0  1  2  3]\n",
            " [ 4  5  6  7]\n",
            " [ 8  9 10 11]]\n",
            "[[ 0  2  4  6]\n",
            " [ 8 10 12 14]\n",
            " [16 18 20 22]]\n",
            "[[ 0  3  6  9]\n",
            " [12 15 18 21]\n",
            " [24 27 30 33]]\n",
            "[[  0  -1  -2  -3]\n",
            " [ -4  -5  -6  -7]\n",
            " [ -8  -9 -10 -11]]\n",
            "[[  0   2   8  18]\n",
            " [ 32  50  72  98]\n",
            " [128 162 200 242]]\n",
            "[[nan 0.5 0.5 0.5]\n",
            " [0.5 0.5 0.5 0.5]\n",
            " [0.5 0.5 0.5 0.5]]\n"
          ]
        },
        {
          "output_type": "stream",
          "name": "stderr",
          "text": [
            "/usr/local/lib/python3.7/dist-packages/ipykernel_launcher.py:11: RuntimeWarning: invalid value encountered in true_divide\n",
            "  # This is added back by InteractiveShellApp.init_path()\n"
          ]
        }
      ]
    },
    {
      "cell_type": "markdown",
      "metadata": {
        "id": "OI9BUJKNsaGm"
      },
      "source": [
        "### Numpy 브로드캐스팅"
      ]
    },
    {
      "cell_type": "code",
      "metadata": {
        "colab": {
          "base_uri": "https://localhost:8080/"
        },
        "id": "jN8GQSiVrU_w",
        "outputId": "cbff6c7e-1faa-4995-e7a0-9cd409a2aca6"
      },
      "source": [
        "# shape이 다른 행렬 연산(행 수 동일)\n",
        "a = np.arange(12).reshape((3, 4))\n",
        "b = np.arange(3).reshape((3, 1)) * 2 + 1\n",
        "\n",
        "print(a)\n",
        "print(b)\n",
        "\n",
        "print(a + b)\n",
        "print(a - b)\n",
        "print(a * b)\n",
        "print(a / b)"
      ],
      "execution_count": 214,
      "outputs": [
        {
          "output_type": "stream",
          "name": "stdout",
          "text": [
            "[[ 0  1  2  3]\n",
            " [ 4  5  6  7]\n",
            " [ 8  9 10 11]]\n",
            "[[1]\n",
            " [3]\n",
            " [5]]\n",
            "[[ 1  2  3  4]\n",
            " [ 7  8  9 10]\n",
            " [13 14 15 16]]\n",
            "[[-1  0  1  2]\n",
            " [ 1  2  3  4]\n",
            " [ 3  4  5  6]]\n",
            "[[ 0  1  2  3]\n",
            " [12 15 18 21]\n",
            " [40 45 50 55]]\n",
            "[[0.         1.         2.         3.        ]\n",
            " [1.33333333 1.66666667 2.         2.33333333]\n",
            " [1.6        1.8        2.         2.2       ]]\n"
          ]
        }
      ]
    },
    {
      "cell_type": "code",
      "metadata": {
        "colab": {
          "base_uri": "https://localhost:8080/"
        },
        "id": "wRafFtg4r2dI",
        "outputId": "10eb8ad1-b33b-4b8d-e02f-597c9de8dc4b"
      },
      "source": [
        "# shape이 다른 행렬 연산(열 수 동일)\n",
        "a = np.arange(12).reshape((3, 4))\n",
        "b = np.arange(4).reshape((1, 4)) * 2 + 1\n",
        "\n",
        "print(a)\n",
        "print(b)\n",
        "\n",
        "print(a + b)\n",
        "print(a - b)\n",
        "print(a * b)\n",
        "print(a / b)"
      ],
      "execution_count": 215,
      "outputs": [
        {
          "output_type": "stream",
          "name": "stdout",
          "text": [
            "[[ 0  1  2  3]\n",
            " [ 4  5  6  7]\n",
            " [ 8  9 10 11]]\n",
            "[[1 3 5 7]]\n",
            "[[ 1  4  7 10]\n",
            " [ 5  8 11 14]\n",
            " [ 9 12 15 18]]\n",
            "[[-1 -2 -3 -4]\n",
            " [ 3  2  1  0]\n",
            " [ 7  6  5  4]]\n",
            "[[ 0  3 10 21]\n",
            " [ 4 15 30 49]\n",
            " [ 8 27 50 77]]\n",
            "[[0.         0.33333333 0.4        0.42857143]\n",
            " [4.         1.66666667 1.2        1.        ]\n",
            " [8.         3.         2.         1.57142857]]\n"
          ]
        }
      ]
    },
    {
      "cell_type": "code",
      "metadata": {
        "colab": {
          "base_uri": "https://localhost:8080/"
        },
        "id": "O7D4hWVtspfI",
        "outputId": "1b98bf93-5fb5-47a7-fb21-9ff343be1c01"
      },
      "source": [
        "# 행렬곱연산\n",
        "a = np.arange(6).reshape((2, 3))\n",
        "b = np.arange(12).reshape((3, 4))\n",
        "print(a)\n",
        "print(b)\n",
        "print(np.matmul(a, b))\n",
        "a##print(np.dot(a, b))"
      ],
      "execution_count": 223,
      "outputs": [
        {
          "output_type": "stream",
          "name": "stdout",
          "text": [
            "[[0 1 2]\n",
            " [3 4 5]]\n",
            "[[ 0  1  2  3]\n",
            " [ 4  5  6  7]\n",
            " [ 8  9 10 11]]\n",
            "[[20 23 26 29]\n",
            " [56 68 80 92]]\n"
          ]
        }
      ]
    },
    {
      "cell_type": "code",
      "metadata": {
        "colab": {
          "base_uri": "https://localhost:8080/"
        },
        "id": "bCvaJVAAuNqp",
        "outputId": "06e504e3-fdeb-4ecd-89f4-f0b43c8d8c1e"
      },
      "source": [
        "a = np.arange(12).reshape((3, 4))\n",
        "print(a)\n",
        "print(a%2)\n",
        "print(a%2 == 0)"
      ],
      "execution_count": 228,
      "outputs": [
        {
          "output_type": "stream",
          "name": "stdout",
          "text": [
            "[[ 0  1  2  3]\n",
            " [ 4  5  6  7]\n",
            " [ 8  9 10 11]]\n",
            "[[0 1 0 1]\n",
            " [0 1 0 1]\n",
            " [0 1 0 1]]\n",
            "[[ True False  True False]\n",
            " [ True False  True False]\n",
            " [ True False  True False]]\n"
          ]
        }
      ]
    },
    {
      "cell_type": "code",
      "metadata": {
        "colab": {
          "base_uri": "https://localhost:8080/"
        },
        "id": "HVFWvn-eu7tf",
        "outputId": "3a0788c6-529e-4ef0-b3ad-4a6d6976865c"
      },
      "source": [
        "# 조건 인덱싱 - 필터링\n",
        "# 인덱스 자체를 array로 줄 수 있다.\n",
        "a[a%2 == 0] = 0\n",
        "print(a)"
      ],
      "execution_count": 231,
      "outputs": [
        {
          "output_type": "stream",
          "name": "stdout",
          "text": [
            "[[ 0  1  0  3]\n",
            " [ 0  5  0  7]\n",
            " [ 0  9  0 11]]\n"
          ]
        }
      ]
    },
    {
      "cell_type": "code",
      "metadata": {
        "colab": {
          "base_uri": "https://localhost:8080/"
        },
        "id": "hK-zcH4OuEUY",
        "outputId": "9582e10e-47fb-4bcd-de38-a625fc9be45a"
      },
      "source": [
        "for i in range(10):\n",
        "  print(i, i%4)"
      ],
      "execution_count": 229,
      "outputs": [
        {
          "output_type": "stream",
          "name": "stdout",
          "text": [
            "0 0\n",
            "1 1\n",
            "2 2\n",
            "3 3\n",
            "4 0\n",
            "5 1\n",
            "6 2\n",
            "7 3\n",
            "8 0\n",
            "9 1\n"
          ]
        }
      ]
    },
    {
      "cell_type": "code",
      "metadata": {
        "colab": {
          "base_uri": "https://localhost:8080/"
        },
        "id": "yPbhixR_vASf",
        "outputId": "06b18b68-6a63-412c-f6a0-8c4d32940e5e"
      },
      "source": [
        "a = np.arange(12).reshape((3, 4))\n",
        "print(a)\n",
        "print(np.sum(a))"
      ],
      "execution_count": 233,
      "outputs": [
        {
          "output_type": "stream",
          "name": "stdout",
          "text": [
            "[[ 0  1  2  3]\n",
            " [ 4  5  6  7]\n",
            " [ 8  9 10 11]]\n",
            "66\n"
          ]
        }
      ]
    },
    {
      "cell_type": "code",
      "metadata": {
        "colab": {
          "base_uri": "https://localhost:8080/"
        },
        "id": "GAZcs4E_vkp4",
        "outputId": "02f1fc58-1cb0-4250-d1b0-555e284fa716"
      },
      "source": [
        "# 홀수값들만 찾아서 sum 을 해보자 내 풀이.\n",
        "a = np.arange(12).reshape((3, 4))\n",
        "print(np.sum(a[a%2 == 1]))"
      ],
      "execution_count": 240,
      "outputs": [
        {
          "output_type": "stream",
          "name": "stdout",
          "text": [
            "36\n"
          ]
        }
      ]
    },
    {
      "cell_type": "code",
      "metadata": {
        "colab": {
          "base_uri": "https://localhost:8080/"
        },
        "id": "RzIf8Ewevyo_",
        "outputId": "327feb26-835c-442c-8974-c9b0698a811f"
      },
      "source": [
        "# 홀수값들만 찾아서 sum 을 해보자 풀이. \n",
        "# 짝수를 전부 0으로 만들기\n",
        "a = np.arange(12).reshape((3, 4))\n",
        "a[a%2 == 0] = 0\n",
        "print(a)\n",
        "print(np.sum(a))"
      ],
      "execution_count": 241,
      "outputs": [
        {
          "output_type": "stream",
          "name": "stdout",
          "text": [
            "[[ 0  1  0  3]\n",
            " [ 0  5  0  7]\n",
            " [ 0  9  0 11]]\n",
            "36\n"
          ]
        }
      ]
    },
    {
      "cell_type": "code",
      "metadata": {
        "colab": {
          "base_uri": "https://localhost:8080/"
        },
        "id": "1k_0h6zzwNct",
        "outputId": "b000704a-05d3-439f-c411-f5c3d46db61e"
      },
      "source": [
        "# 짝수들의 합 구하기 내 풀이.\n",
        "a = np.arange(12).reshape((3, 4))\n",
        "print(np.sum(a[a%2 == 0]))"
      ],
      "execution_count": 246,
      "outputs": [
        {
          "output_type": "stream",
          "name": "stdout",
          "text": [
            "30\n"
          ]
        }
      ]
    },
    {
      "cell_type": "code",
      "metadata": {
        "colab": {
          "base_uri": "https://localhost:8080/"
        },
        "id": "Se940jJtwzsI",
        "outputId": "f493864a-9ce3-4122-9310-c2d03be18b62"
      },
      "source": [
        "# 짝수들의 합 구하기 풀이.\n",
        "a = np.arange(12).reshape((3, 4))\n",
        "a[a%2 != 0] = 0\n",
        "print(a)\n",
        "print(np.sum(a))"
      ],
      "execution_count": 247,
      "outputs": [
        {
          "output_type": "stream",
          "name": "stdout",
          "text": [
            "[[ 0  0  2  0]\n",
            " [ 4  0  6  0]\n",
            " [ 8  0 10  0]]\n",
            "30\n"
          ]
        }
      ]
    },
    {
      "cell_type": "code",
      "metadata": {
        "colab": {
          "base_uri": "https://localhost:8080/"
        },
        "id": "w4D-coomwP8G",
        "outputId": "8737810f-9e59-4ae6-9898-b9b9a373446e"
      },
      "source": [
        "# 10보다 작은 수들의 합 내 풀이.\n",
        "a = np.arange(12).reshape((3, 4))\n",
        "print(np.sum(a[a < 10]))"
      ],
      "execution_count": 248,
      "outputs": [
        {
          "output_type": "stream",
          "name": "stdout",
          "text": [
            "45\n"
          ]
        }
      ]
    },
    {
      "cell_type": "code",
      "metadata": {
        "colab": {
          "base_uri": "https://localhost:8080/"
        },
        "id": "JfXMHFBBwp-Q",
        "outputId": "073d398e-bbbd-4b00-eda5-d292d2b919b7"
      },
      "source": [
        "# 10보다 작은 수들의 합 풀이.\n",
        "a = np.arange(12).reshape((3, 4))\n",
        "a[a >= 10] = 0\n",
        "print(a)\n",
        "print(np.sum(a))"
      ],
      "execution_count": 249,
      "outputs": [
        {
          "output_type": "stream",
          "name": "stdout",
          "text": [
            "[[0 1 2 3]\n",
            " [4 5 6 7]\n",
            " [8 9 0 0]]\n",
            "45\n"
          ]
        }
      ]
    },
    {
      "cell_type": "code",
      "metadata": {
        "colab": {
          "base_uri": "https://localhost:8080/"
        },
        "id": "OMOjGIH1xkoA",
        "outputId": "d1c6f376-3703-46b6-edef-f12d47491b6f"
      },
      "source": [
        "# 짝수의 합 구하기\n",
        "a = np.arange(12).reshape((3, 4))\n",
        "print(a)\n",
        "mask = a%2 == 0\n",
        "# 숫자 * bool 연산이 가능?!\n",
        "print(mask)\n",
        "print(a*mask)\n",
        "print(np.sum(a*mask))"
      ],
      "execution_count": 253,
      "outputs": [
        {
          "output_type": "stream",
          "name": "stdout",
          "text": [
            "[[ 0  1  2  3]\n",
            " [ 4  5  6  7]\n",
            " [ 8  9 10 11]]\n",
            "[[ True False  True False]\n",
            " [ True False  True False]\n",
            " [ True False  True False]]\n",
            "[[ 0  0  2  0]\n",
            " [ 4  0  6  0]\n",
            " [ 8  0 10  0]]\n",
            "30\n"
          ]
        }
      ]
    },
    {
      "cell_type": "code",
      "metadata": {
        "colab": {
          "base_uri": "https://localhost:8080/"
        },
        "id": "bvUyJhUvyxg-",
        "outputId": "d8afa8dc-593e-43e8-f336-496b20ee2417"
      },
      "source": [
        "# 짝수의 합 구하기\n",
        "a = np.arange(12).reshape((3, 4))\n",
        "print(a)\n",
        "mask = a%2 != 0\n",
        "# 숫자 * bool 연산이 가능?!\n",
        "print(mask)\n",
        "print(a*mask)\n",
        "print(np.sum(a*mask))"
      ],
      "execution_count": 255,
      "outputs": [
        {
          "output_type": "stream",
          "name": "stdout",
          "text": [
            "[[ 0  1  2  3]\n",
            " [ 4  5  6  7]\n",
            " [ 8  9 10 11]]\n",
            "[[False  True False  True]\n",
            " [False  True False  True]\n",
            " [False  True False  True]]\n",
            "[[ 0  1  0  3]\n",
            " [ 0  5  0  7]\n",
            " [ 0  9  0 11]]\n",
            "36\n"
          ]
        }
      ]
    },
    {
      "cell_type": "code",
      "metadata": {
        "colab": {
          "base_uri": "https://localhost:8080/"
        },
        "id": "YWq648nPxPCs",
        "outputId": "a7d5aa87-b71c-4485-8633-2c9eaf6d22e7"
      },
      "source": [
        "# 딥러닝에서는 for 문 절대 금기시!! 가능하면 안쓰는게 좋다.\n",
        "\n",
        "l = [0, 1, 2, 3, 4, 5, 6]\n",
        "\n",
        "sum = 0\n",
        "for i in l:\n",
        "    if i%2 == 0:\n",
        "      sum += i\n",
        "print(sum)"
      ],
      "execution_count": 254,
      "outputs": [
        {
          "output_type": "stream",
          "name": "stdout",
          "text": [
            "12\n"
          ]
        }
      ]
    },
    {
      "cell_type": "code",
      "metadata": {
        "colab": {
          "base_uri": "https://localhost:8080/"
        },
        "id": "WeEruABbymso",
        "outputId": "f64d319f-7381-4e81-d06f-f3995a4582e2"
      },
      "source": [
        "# 넘파이를 활용하는 방식으로 \n",
        "l = [0, 1, 2, 3, 4, 5, 6]\n",
        "arr = np.array(l)\n",
        "print(np.sum(arr[arr%2 == 0]))"
      ],
      "execution_count": 258,
      "outputs": [
        {
          "output_type": "stream",
          "name": "stdout",
          "text": [
            "12\n"
          ]
        }
      ]
    },
    {
      "cell_type": "code",
      "metadata": {
        "colab": {
          "base_uri": "https://localhost:8080/"
        },
        "id": "flc20rEh002H",
        "outputId": "81d578fd-3a35-47ad-c203-faa0a0990b6b"
      },
      "source": [
        "# 5보다 큰 짝수의 합 구하기 내 풀이.\n",
        "a = np.arange(12).reshape((3, 4))\n",
        "print(np.sum(a[(a > 5) & (a%2 == 0)]))"
      ],
      "execution_count": 261,
      "outputs": [
        {
          "output_type": "stream",
          "name": "stdout",
          "text": [
            "24\n"
          ]
        }
      ]
    },
    {
      "cell_type": "code",
      "metadata": {
        "colab": {
          "base_uri": "https://localhost:8080/"
        },
        "id": "0rBQraLQy7nY",
        "outputId": "61912cd1-c324-4db9-8b19-932983d49326"
      },
      "source": [
        "# 5보다 큰 짝수의 합 구하기 풀이.\n",
        "a = np.arange(12).reshape((3, 4))\n",
        "print(a)\n",
        "mask = (a > 5) & (a%2 == 0)\n",
        "# 숫자 * bool 연산이 가능?!\n",
        "print(mask)\n",
        "print(a*mask)\n",
        "print(np.sum(a*mask))"
      ],
      "execution_count": 262,
      "outputs": [
        {
          "output_type": "stream",
          "name": "stdout",
          "text": [
            "[[ 0  1  2  3]\n",
            " [ 4  5  6  7]\n",
            " [ 8  9 10 11]]\n",
            "[[False False False False]\n",
            " [False False  True False]\n",
            " [ True False  True False]]\n",
            "[[ 0  0  0  0]\n",
            " [ 0  0  6  0]\n",
            " [ 8  0 10  0]]\n",
            "24\n"
          ]
        }
      ]
    },
    {
      "cell_type": "code",
      "metadata": {
        "id": "Sv0r_tb10--n"
      },
      "source": [
        ""
      ],
      "execution_count": null,
      "outputs": []
    }
  ]
}