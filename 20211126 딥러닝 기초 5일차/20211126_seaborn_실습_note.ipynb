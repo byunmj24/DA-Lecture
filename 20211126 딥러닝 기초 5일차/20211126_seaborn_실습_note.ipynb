{
  "nbformat": 4,
  "nbformat_minor": 0,
  "metadata": {
    "colab": {
      "name": "20211126_seaborn_실습_note.ipynb",
      "private_outputs": true,
      "provenance": [],
      "collapsed_sections": []
    },
    "kernelspec": {
      "name": "python3",
      "display_name": "Python 3"
    },
    "language_info": {
      "name": "python"
    }
  },
  "cells": [
    {
      "cell_type": "markdown",
      "metadata": {
        "id": "JUgV6ldqkMRO"
      },
      "source": [
        "# 실습\n",
        "titanic 데이터를 seaborn에서 로딩\n",
        "```\n",
        "- age 컬럼에 대한 histogram 그리기\n",
        "- age 컬럼에 대한 survivied를 histo gram으로 그리기. 하나의 나이에 대해 2개의 bar가 있도록\n",
        "- age 컬럼에 대한 생존율을 비교하도록 multiple 옵션을 fill로 해서 그리기\n",
        "- age 컬럼을 x로 fare 컬럼을 y로 해서 scatter 그림 그리기\n",
        "- 위의 4개의 그림을 각각 파일로 저장\n",
        "- 파일로 저장한 4개의 그림을 읽어서 다음과 같이 배치하여 1장으로 보이기\n",
        "   1   2\n",
        "   3   4\n",
        "```"
      ]
    },
    {
      "cell_type": "code",
      "metadata": {
        "id": "ptTdAHCIj0ae"
      },
      "source": [
        "import pandas as pd\n",
        "import numpy as np\n",
        "import seaborn as sns\n",
        "import matplotlib.pyplot as plt"
      ],
      "execution_count": null,
      "outputs": []
    },
    {
      "cell_type": "code",
      "metadata": {
        "id": "bq7YwF7TkEDN"
      },
      "source": [
        "titanic = sns.load_dataset('titanic')"
      ],
      "execution_count": null,
      "outputs": []
    },
    {
      "cell_type": "code",
      "metadata": {
        "id": "WjjDzhtCkJpV"
      },
      "source": [
        "titanic"
      ],
      "execution_count": null,
      "outputs": []
    },
    {
      "cell_type": "markdown",
      "metadata": {
        "id": "XULZC0-lkKoE"
      },
      "source": [
        "### age 컬럼에 대한 histogram 그리기"
      ]
    },
    {
      "cell_type": "code",
      "metadata": {
        "id": "hjV5UGMdkV29"
      },
      "source": [
        "sns.histplot(data = titanic, x = 'age')\n",
        "plt.show()"
      ],
      "execution_count": null,
      "outputs": []
    },
    {
      "cell_type": "markdown",
      "metadata": {
        "id": "KkEfdRzXkcJt"
      },
      "source": [
        "### age 컬럼에 대한 survivied를 histo gram으로 그리기. 하나의 나이에 대해 2개의 bar가 있도록"
      ]
    },
    {
      "cell_type": "code",
      "metadata": {
        "id": "PELMnp0tkgj8"
      },
      "source": [
        "sns.histplot(data = titanic, x = 'age', hue = 'survived', multiple= 'dodge', shrink= 0.8)\n",
        "plt.show()"
      ],
      "execution_count": null,
      "outputs": []
    },
    {
      "cell_type": "markdown",
      "metadata": {
        "id": "SozyemDAkoxl"
      },
      "source": [
        "### age 컬럼에 대한 생존율을 비교하도록 multiple 옵션을 fill로 해서 그리기"
      ]
    },
    {
      "cell_type": "code",
      "metadata": {
        "id": "BrXwz0mvkxOM"
      },
      "source": [
        "sns.histplot(data = titanic, x = 'age', hue = 'survived', multiple= 'fill', shrink= 0.8)\n",
        "plt.show()"
      ],
      "execution_count": null,
      "outputs": []
    },
    {
      "cell_type": "markdown",
      "metadata": {
        "id": "ykAXjziWk45s"
      },
      "source": [
        "### age 컬럼을 x로 fare 컬럼을 y로 해서 scatter 그림 그리기"
      ]
    },
    {
      "cell_type": "code",
      "metadata": {
        "id": "UUcr7ok2k8pU"
      },
      "source": [
        "sns.scatterplot(data = titanic, x = 'age', y = 'fare')\n",
        "plt.show()"
      ],
      "execution_count": null,
      "outputs": []
    },
    {
      "cell_type": "markdown",
      "metadata": {
        "id": "2bG1pPf-lCdF"
      },
      "source": [
        "### 위의 4개의 그림을 각각 파일로 저장"
      ]
    },
    {
      "cell_type": "code",
      "metadata": {
        "id": "xZJhjqijlHL7"
      },
      "source": [
        "sns.histplot(data = titanic, x = 'age')\n",
        "plt.savefig('fig1.jpg')\n",
        "plt.show()\n",
        "\n",
        "sns.histplot(data = titanic, x = 'age', hue = 'survived', multiple= 'dodge', shrink= 0.8)\n",
        "plt.savefig('fig2.jpg')\n",
        "plt.show()\n",
        "\n",
        "sns.histplot(data = titanic, x = 'age', hue = 'survived', multiple= 'fill', shrink= 0.8)\n",
        "plt.savefig('fig3.jpg')\n",
        "plt.show()\n",
        "\n",
        "sns.scatterplot(data = titanic, x = 'age', y = 'fare')\n",
        "plt.savefig('fig4.jpg')\n",
        "plt.show()"
      ],
      "execution_count": null,
      "outputs": []
    },
    {
      "cell_type": "markdown",
      "metadata": {
        "id": "Z9qIn_Uequq9"
      },
      "source": [
        "### 파일로 저장한 4개의 그림을 읽어서 다음과 같이 배치하여 1장으로 보이기"
      ]
    },
    {
      "cell_type": "code",
      "metadata": {
        "id": "Q7a0BeGdnBt0"
      },
      "source": [
        "import cv2\n",
        "\n",
        "plt.figure(figsize=(10, 6))\n",
        "\n",
        "for i in range(1,5):\n",
        "    img_data = cv2.imread(f'fig{i}.jpg')\n",
        "    RGB_img = cv2.cvtColor(img_data, cv2.COLOR_BGR2RGB)\n",
        "    plt.subplot(2, 2, i)\n",
        "    # plt.imshow(img_data)\n",
        "    plt.imshow(RGB_img)\n",
        "    plt.axis('off')\n",
        "    \n",
        "plt.show()"
      ],
      "execution_count": null,
      "outputs": []
    },
    {
      "cell_type": "markdown",
      "metadata": {
        "id": "AFQbCFR2oRdi"
      },
      "source": [
        "## 실습 풀이"
      ]
    },
    {
      "cell_type": "markdown",
      "metadata": {
        "id": "vN4h57Xmsjir"
      },
      "source": [
        "### age 컬럼에 대한 histogram 그리기"
      ]
    },
    {
      "cell_type": "code",
      "metadata": {
        "id": "mj0y4xDesLNx"
      },
      "source": [
        "sns.histplot(data = titanic, x = 'age', bins = 100)\n",
        "plt.savefig('plot1.jpg')\n",
        "plt.show()"
      ],
      "execution_count": null,
      "outputs": []
    },
    {
      "cell_type": "markdown",
      "metadata": {
        "id": "_ANLbHkPsU-_"
      },
      "source": [
        "### age 컬럼에 대한 survivied를 histo gram으로 그리기. 하나의 나이에 대해 2개의 bar가 있도록"
      ]
    },
    {
      "cell_type": "code",
      "metadata": {
        "id": "swfAnZX8snT7"
      },
      "source": [
        "sns.histplot(data = titanic, x = 'age', multiple = 'dodge', hue = 'survived', shrink = 0.7)\n",
        "plt.savefig('plot2.jpg')\n",
        "plt.show()"
      ],
      "execution_count": null,
      "outputs": []
    },
    {
      "cell_type": "markdown",
      "metadata": {
        "id": "M3mGTHk3s956"
      },
      "source": [
        "### age 컬럼에 대한 생존율을 비교하도록 multiple 옵션을 fill로 해서 그리기"
      ]
    },
    {
      "cell_type": "code",
      "metadata": {
        "id": "9Cki4NHvsxGC"
      },
      "source": [
        "sns.histplot(data = titanic, x = 'age', multiple = 'fill', hue = 'survived', shrink = 0.7)\n",
        "plt.savefig('plot3.jpg')\n",
        "plt.show()"
      ],
      "execution_count": null,
      "outputs": []
    },
    {
      "cell_type": "markdown",
      "metadata": {
        "id": "nWoIE74ltMn5"
      },
      "source": [
        "### age 컬럼을 x로 fare 컬럼을 y로 해서 scatter 그림 그리기"
      ]
    },
    {
      "cell_type": "code",
      "metadata": {
        "id": "O5lFYgxTtKhJ"
      },
      "source": [
        "sns.scatterplot(data = titanic, x = 'age', y = 'fare')\n",
        "plt.savefig('plot4.jpg')\n",
        "plt.show()"
      ],
      "execution_count": null,
      "outputs": []
    },
    {
      "cell_type": "markdown",
      "metadata": {
        "id": "QMnsS-DFtkEa"
      },
      "source": [
        "### 위의 4개의 그림을 각각 파일로 저장"
      ]
    },
    {
      "cell_type": "code",
      "metadata": {
        "id": "os6eHmeltkJT"
      },
      "source": [
        "plt.savefig('plot.jpg')"
      ],
      "execution_count": null,
      "outputs": []
    },
    {
      "cell_type": "markdown",
      "metadata": {
        "id": "swd7Hg4GtThE"
      },
      "source": [
        "### 파일로 저장한 4개의 그림을 읽어서 다음과 같이 배치하여 1장으로 보이기\n",
        "   ```\n",
        "   1   2\n",
        "   3   4\n",
        "   ```"
      ]
    },
    {
      "cell_type": "code",
      "metadata": {
        "id": "YOHgyOaOzVdU"
      },
      "source": [
        "import cv2\n",
        "\n",
        "plot1 = cv2.imread(\"plot1.jpg\")\n",
        "plot2 = cv2.imread(\"plot2.jpg\")\n",
        "plot3 = cv2.imread(\"plot3.jpg\")\n",
        "plot4 = cv2.imread(\"plot4.jpg\")\n",
        "\n",
        "plot1 = cv2.cvtColor(plot1, cv2.COLOR_BGR2RGB)\n",
        "plot2 = cv2.cvtColor(plot2, cv2.COLOR_BGR2RGB)\n",
        "plot3 = cv2.cvtColor(plot3, cv2.COLOR_BGR2RGB)\n",
        "plot4 = cv2.cvtColor(plot4, cv2.COLOR_BGR2RGB)\n",
        "\n",
        "plt.subplot(221)\n",
        "plt.imshow(plot1)\n",
        "\n",
        "plt.subplot(222)\n",
        "plt.imshow(plot2)\n",
        "\n",
        "plt.subplot(223)\n",
        "plt.imshow(plot3)\n",
        "\n",
        "plt.subplot(224)\n",
        "plt.imshow(plot4)\n",
        "\n",
        "plt.show()"
      ],
      "execution_count": null,
      "outputs": []
    },
    {
      "cell_type": "markdown",
      "metadata": {
        "id": "LXbTwu5izA9k"
      },
      "source": [
        "# Violinplot()"
      ]
    },
    {
      "cell_type": "code",
      "metadata": {
        "id": "UUIxgF5mzC-T"
      },
      "source": [
        "sns.set_theme(style='whitegrid')"
      ],
      "execution_count": null,
      "outputs": []
    },
    {
      "cell_type": "code",
      "metadata": {
        "id": "kkB1majVzKY0"
      },
      "source": [
        "tips = sns.load_dataset('tips')\n",
        "tips"
      ],
      "execution_count": null,
      "outputs": []
    },
    {
      "cell_type": "code",
      "metadata": {
        "id": "RspHOTUjzQY7"
      },
      "source": [
        "sns.boxplot(y = tips.tip)\n",
        "plt.show()"
      ],
      "execution_count": null,
      "outputs": []
    },
    {
      "cell_type": "markdown",
      "metadata": {
        "id": "chJ3PXmD3ZbD"
      },
      "source": [
        "### violinplot 만들기"
      ]
    },
    {
      "cell_type": "code",
      "metadata": {
        "id": "QckKkInPzTK7"
      },
      "source": [
        "sns.violinplot(y = tips.tip)\n",
        "plt.show()"
      ],
      "execution_count": null,
      "outputs": []
    },
    {
      "cell_type": "markdown",
      "metadata": {
        "id": "CNlf7YAz3XjD"
      },
      "source": [
        "### subplot"
      ]
    },
    {
      "cell_type": "code",
      "metadata": {
        "id": "-4MOYICDzcfS"
      },
      "source": [
        "plt.subplot(121)\n",
        "sns.boxplot(y = tips.tip)\n",
        "\n",
        "plt.subplot(122)\n",
        "sns.violinplot(y = tips.tip)\n",
        "\n",
        "plt.tight_layout()\n",
        "plt.show()"
      ],
      "execution_count": null,
      "outputs": []
    },
    {
      "cell_type": "markdown",
      "metadata": {
        "id": "nla6jrR93T3S"
      },
      "source": [
        "### x 축 입력 추가"
      ]
    },
    {
      "cell_type": "code",
      "metadata": {
        "id": "sjTHETmFznVi"
      },
      "source": [
        "plt.subplot(121)\n",
        "sns.boxplot(data = tips, x = 'day', y = 'total_bill')\n",
        "\n",
        "plt.subplot(122)\n",
        "sns.violinplot(data = tips, x = 'day', y = 'total_bill')\n",
        "\n",
        "plt.tight_layout()\n",
        "plt.show()"
      ],
      "execution_count": null,
      "outputs": []
    },
    {
      "cell_type": "code",
      "metadata": {
        "id": "imUpaV460t3c"
      },
      "source": [
        "tips"
      ],
      "execution_count": null,
      "outputs": []
    },
    {
      "cell_type": "markdown",
      "metadata": {
        "id": "kRs2Q7Zb3M9S"
      },
      "source": [
        "### order"
      ]
    },
    {
      "cell_type": "code",
      "metadata": {
        "id": "C6be_WaW1bMb"
      },
      "source": [
        "plt.subplot(121)\n",
        "sns.boxplot(data = tips, x = 'time', y = 'total_bill', order = ['Dinner', 'Lunch'])\n",
        "\n",
        "plt.subplot(122)\n",
        "sns.violinplot(data = tips, x = 'time', y = 'total_bill', order = ['Dinner', 'Lunch'])\n",
        "\n",
        "plt.tight_layout()\n",
        "plt.show()"
      ],
      "execution_count": null,
      "outputs": []
    },
    {
      "cell_type": "markdown",
      "metadata": {
        "id": "ZebSkX823Osx"
      },
      "source": [
        "### 가로 세로 변환"
      ]
    },
    {
      "cell_type": "code",
      "metadata": {
        "id": "0vHyymj11e2a"
      },
      "source": [
        "plt.subplot(121)\n",
        "sns.violinplot(data = tips, y = 'time', x = 'total_bill', order = ['Dinner', 'Lunch'])\n",
        "\n",
        "plt.subplot(122)\n",
        "sns.violinplot(data = tips, x = 'time', y = 'total_bill', order = ['Dinner', 'Lunch'])\n",
        "\n",
        "plt.tight_layout()\n",
        "plt.show()"
      ],
      "execution_count": null,
      "outputs": []
    },
    {
      "cell_type": "markdown",
      "metadata": {
        "id": "fI6p4yKQ3FvD"
      },
      "source": [
        "### Hue, Split"
      ]
    },
    {
      "cell_type": "code",
      "metadata": {
        "id": "hioRrNsy2R_f"
      },
      "source": [
        "plt.figure(figsize=(10,4))\n",
        "plt.subplot(121)\n",
        "sns.violinplot(data = tips, x = 'day', y = 'total_bill', hue = 'smoker')\n",
        "\n",
        "plt.subplot(122)\n",
        "sns.violinplot(data = tips, x = 'day', y = 'total_bill', hue = 'smoker', split=True)\n",
        "\n",
        "plt.tight_layout()\n",
        "plt.show()"
      ],
      "execution_count": null,
      "outputs": []
    },
    {
      "cell_type": "markdown",
      "metadata": {
        "id": "KySzXy8B3zCa"
      },
      "source": [
        "### 내부 Boxplot 변경\n",
        "- none, box, quartile, point, stick"
      ]
    },
    {
      "cell_type": "code",
      "metadata": {
        "id": "3dnp9N4Y2lvn"
      },
      "source": [
        "plt.figure(figsize=(10,4))\n",
        "plt.subplot(121)\n",
        "sns.violinplot(data = tips, x = 'day', y = 'total_bill')\n",
        "\n",
        "plt.subplot(122)\n",
        "sns.violinplot(data = tips, x = 'day', y = 'total_bill', inner=\"point\")\n",
        "\n",
        "plt.tight_layout()\n",
        "plt.show()"
      ],
      "execution_count": null,
      "outputs": []
    },
    {
      "cell_type": "markdown",
      "metadata": {
        "id": "XJfNFmEz8JcT"
      },
      "source": [
        "# Stripplot()"
      ]
    },
    {
      "cell_type": "code",
      "metadata": {
        "id": "zpvFWwDT3rqs"
      },
      "source": [
        "plt.figure(figsize=(10,4))\n",
        "plt.subplot(121)\n",
        "sns.violinplot(data = tips, x = 'day', y = 'total_bill')\n",
        "\n",
        "plt.subplot(122)\n",
        "sns.stripplot(data = tips, x = 'day', y = 'total_bill')\n",
        "\n",
        "plt.tight_layout()\n",
        "plt.show()"
      ],
      "execution_count": null,
      "outputs": []
    },
    {
      "cell_type": "markdown",
      "metadata": {
        "id": "WpZMyGAd8mKs"
      },
      "source": [
        "## jitter"
      ]
    },
    {
      "cell_type": "code",
      "metadata": {
        "id": "KQ2NX6A_8ALs"
      },
      "source": [
        "plt.figure(figsize=(10,4))\n",
        "plt.subplot(121)\n",
        "sns.stripplot(data = tips, x = 'day', y = 'total_bill')\n",
        "\n",
        "plt.subplot(122)\n",
        "sns.stripplot(data = tips, x = 'day', y = 'total_bill', jitter=1)\n",
        "\n",
        "plt.tight_layout()\n",
        "plt.show()"
      ],
      "execution_count": null,
      "outputs": []
    },
    {
      "cell_type": "markdown",
      "metadata": {
        "id": "7ZLUEmax84zt"
      },
      "source": [
        "## color"
      ]
    },
    {
      "cell_type": "code",
      "metadata": {
        "id": "xSIXH0dO8Oyj"
      },
      "source": [
        "plt.figure(figsize=(10,4))\n",
        "plt.subplot(121)\n",
        "sns.swarmplot(data = tips, x = 'day', y = 'total_bill')\n",
        "# sns.violinplot(data = tips, x = 'day', y = 'total_bill')\n",
        "# sns.stripplot(data = tips, x = 'day', y = 'total_bill', color = '0.4')\n",
        "\n",
        "plt.subplot(122)\n",
        "sns.stripplot(data = tips, x = 'day', y = 'total_bill', jitter = 1)\n",
        "\n",
        "plt.tight_layout()\n",
        "plt.show()"
      ],
      "execution_count": null,
      "outputs": []
    },
    {
      "cell_type": "markdown",
      "metadata": {
        "id": "zTqputh68t2s"
      },
      "source": [
        "# heatmap()"
      ]
    },
    {
      "cell_type": "code",
      "metadata": {
        "id": "BVNOs7sv9f2o"
      },
      "source": [
        "a = np.random.rand(10, 8)\n",
        "# print(a)\n",
        "sns.heatmap(a)\n",
        "plt.show()\n",
        "\n",
        "sns.histplot(a.flatten())\n",
        "plt.show()"
      ],
      "execution_count": null,
      "outputs": []
    },
    {
      "cell_type": "markdown",
      "metadata": {
        "id": "OWgJ7G5b_2FM"
      },
      "source": [
        "## 2차원 array 히스토그램 그리기\n",
        "- 1차원 array 로 변환"
      ]
    },
    {
      "cell_type": "markdown",
      "metadata": {
        "id": "7GbsEvLm_9qr"
      },
      "source": [
        "### flatten"
      ]
    },
    {
      "cell_type": "code",
      "metadata": {
        "id": "lxCWK2Hk9iNa"
      },
      "source": [
        "t = np.random.rand(3, 60)\n",
        "\n",
        "# sns.histplot(t.reshape(180,), bins = 30)\n",
        "sns.histplot(t.flatten(), bins = 30)\n",
        "plt.show()"
      ],
      "execution_count": null,
      "outputs": []
    },
    {
      "cell_type": "markdown",
      "metadata": {
        "id": "o-UzRvEYBESM"
      },
      "source": [
        "### random seed 고정하기"
      ]
    },
    {
      "cell_type": "code",
      "metadata": {
        "id": "YYRtxQMY-0ti"
      },
      "source": [
        "np.random.seed(42)\n",
        "a = np.random.rand(10, 8)\n",
        "# print(a[0,0])\n",
        "\n",
        "plt.figure(figsize=(10, 4))\n",
        "plt.subplot(121)\n",
        "sns.heatmap(a)\n",
        "\n",
        "plt.subplot(122)\n",
        "sns.heatmap(a, vmin=0.2, vmax=0.8)\n",
        "\n",
        "plt.show()"
      ],
      "execution_count": null,
      "outputs": []
    },
    {
      "cell_type": "markdown",
      "metadata": {
        "id": "_rNPhMa3CQDM"
      },
      "source": [
        "### annot 값 출력"
      ]
    },
    {
      "cell_type": "code",
      "metadata": {
        "id": "n05qyLkQAfKK"
      },
      "source": [
        "plt.figure(figsize=(10, 4))\n",
        "plt.subplot(121)\n",
        "sns.heatmap(a)\n",
        "\n",
        "plt.subplot(122)\n",
        "sns.heatmap(a, annot=True, )\n",
        "\n",
        "plt.show()"
      ],
      "execution_count": null,
      "outputs": []
    },
    {
      "cell_type": "markdown",
      "metadata": {
        "id": "JLWqDm3TCne8"
      },
      "source": [
        "### linewidth"
      ]
    },
    {
      "cell_type": "code",
      "metadata": {
        "id": "FQqWeLxICOPi"
      },
      "source": [
        "plt.figure(figsize=(10, 4))\n",
        "plt.subplot(121)\n",
        "sns.heatmap(a)\n",
        "\n",
        "plt.subplot(122)\n",
        "sns.heatmap(a, linewidth=0.5)\n",
        "\n",
        "plt.show()"
      ],
      "execution_count": null,
      "outputs": []
    },
    {
      "cell_type": "markdown",
      "metadata": {
        "id": "uf0G1-dhCusL"
      },
      "source": [
        "### cmap"
      ]
    },
    {
      "cell_type": "code",
      "metadata": {
        "id": "M2pDx-eDCnBz"
      },
      "source": [
        "plt.figure(figsize=(10, 4))\n",
        "plt.subplot(121)\n",
        "sns.heatmap(a)\n",
        "\n",
        "plt.subplot(122)\n",
        "sns.heatmap(a, linewidth=0.5, cmap='Blues')\n",
        "# sns.heatmap(a, linewidth=0.5, cmap='Blues_r')\n",
        "\n",
        "plt.show()"
      ],
      "execution_count": null,
      "outputs": []
    },
    {
      "cell_type": "markdown",
      "metadata": {
        "id": "xXRDrjdCDmG_"
      },
      "source": [
        "### cbar"
      ]
    },
    {
      "cell_type": "code",
      "metadata": {
        "id": "u8cDCJ-6CyID"
      },
      "source": [
        "plt.figure(figsize=(10, 4))\n",
        "plt.subplot(121)\n",
        "sns.heatmap(a)\n",
        "\n",
        "plt.subplot(122)\n",
        "sns.heatmap(a, linewidth=0.5, cmap='Blues', cbar = False)\n",
        "\n",
        "plt.show()"
      ],
      "execution_count": null,
      "outputs": []
    },
    {
      "cell_type": "code",
      "metadata": {
        "id": "Xi7gGWthDltf"
      },
      "source": [
        ""
      ],
      "execution_count": null,
      "outputs": []
    }
  ]
}