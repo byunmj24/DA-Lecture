{
  "nbformat": 4,
  "nbformat_minor": 0,
  "metadata": {
    "colab": {
      "name": "iris_dnn_with_category_index_note_dropna.ipynb",
      "provenance": [],
      "collapsed_sections": []
    },
    "kernelspec": {
      "name": "python3",
      "display_name": "Python 3"
    }
  },
  "cells": [
    {
      "cell_type": "markdown",
      "metadata": {
        "id": "_gNpH7C6sv7Z"
      },
      "source": [
        "# loss categorical_crossentropy\n",
        "\n",
        "2가지 crossentropy 사용 방법\n",
        "- categorical_crossentropy\n",
        "- sparse_categorical_crossentropy\n",
        "\n",
        "## categorical_crossentropy\n",
        "y의 값이 one hot encoding인 경우\n",
        "```\n",
        "1,0,0\n",
        "0,1,0\n",
        "0,0,1\n",
        "```\n",
        "\n",
        "출력 레이어 설정\n",
        "```\n",
        "model.add(Dense(3, activation=\"softmax\")) # 출력 레이어\n",
        "```\n",
        "\n",
        "loss 설정\n",
        "```\n",
        "model.compile(..., loss='categorical_crossentropy')\n",
        "```\n",
        "\n",
        "\n",
        "## sparse_categorical_crossentropy\n",
        "y의 값이 one hot encoding인 경우\n",
        "```\n",
        "0\n",
        "1\n",
        "2\n",
        "```\n",
        "\n",
        "출력 레이어 설정\n",
        "```\n",
        "model.add(Dense(3, activation=\"softmax\")) # 출력 레이어. 1이 아니라 클래스 수 3\n",
        "```\n",
        "\n",
        "loss 설정\n",
        "```\n",
        "model.compile(..., loss='sparse_categorical_crossentropy')\n",
        "```\n",
        "\n",
        "\n",
        "\n"
      ]
    },
    {
      "cell_type": "markdown",
      "metadata": {
        "id": "5TzdGBkEtoXy"
      },
      "source": [
        "# iris_dnn with category index\n",
        "\n",
        "아래의 코드는 dnn_iris_and_optimizer.ipynb의 코드를 기반으로 한다.\n"
      ]
    },
    {
      "cell_type": "code",
      "metadata": {
        "id": "8QWhBiz9rICw"
      },
      "source": [
        "import numpy as np\n",
        "import pandas as pd\n",
        "import matplotlib.pyplot as plt\n",
        "\n",
        "import tensorflow as tf\n",
        "\n",
        "from tensorflow import keras\n",
        "from tensorflow.keras import optimizers\n",
        "from tensorflow.keras.layers import Dense"
      ],
      "execution_count": 1,
      "outputs": []
    },
    {
      "cell_type": "code",
      "metadata": {
        "id": "jowO-zmzrObJ",
        "colab": {
          "base_uri": "https://localhost:8080/"
        },
        "outputId": "ac17ca2e-3542-4b5b-c137-63794e048c04"
      },
      "source": [
        "# !wget https://raw.githubusercontent.com/dhrim/MDC_2021/master/material/deep_learning/iris_with_category_index.csv\n",
        "  "
      ],
      "execution_count": 2,
      "outputs": [
        {
          "output_type": "stream",
          "name": "stdout",
          "text": [
            "--2021-11-26 06:32:44--  https://raw.githubusercontent.com/dhrim/MDC_2021/master/material/deep_learning/iris_with_category_index.csv\n",
            "Resolving raw.githubusercontent.com (raw.githubusercontent.com)... 185.199.109.133, 185.199.108.133, 185.199.110.133, ...\n",
            "Connecting to raw.githubusercontent.com (raw.githubusercontent.com)|185.199.109.133|:443... connected.\n",
            "HTTP request sent, awaiting response... 200 OK\n",
            "Length: 2218 (2.2K) [text/plain]\n",
            "Saving to: ‘iris_with_category_index.csv’\n",
            "\n",
            "\r          iris_with   0%[                    ]       0  --.-KB/s               \riris_with_category_ 100%[===================>]   2.17K  --.-KB/s    in 0s      \n",
            "\n",
            "2021-11-26 06:32:44 (34.8 MB/s) - ‘iris_with_category_index.csv’ saved [2218/2218]\n",
            "\n"
          ]
        }
      ]
    },
    {
      "cell_type": "markdown",
      "metadata": {
        "id": "T0_ZXwzm9kUo"
      },
      "source": [
        "### 실습용 데이터 받기"
      ]
    },
    {
      "cell_type": "code",
      "metadata": {
        "colab": {
          "base_uri": "https://localhost:8080/"
        },
        "id": "fgpY6ZYg9Z5i",
        "outputId": "0cdacd58-e19c-447a-9f7d-99587d40a69f"
      },
      "source": [
        "!wget https://raw.githubusercontent.com/dhrim/MDC_2021/master/material/library/flawed_iris.csv"
      ],
      "execution_count": 5,
      "outputs": [
        {
          "output_type": "stream",
          "name": "stdout",
          "text": [
            "--2021-11-26 06:39:31--  https://raw.githubusercontent.com/dhrim/MDC_2021/master/material/library/flawed_iris.csv\n",
            "Resolving raw.githubusercontent.com (raw.githubusercontent.com)... 185.199.108.133, 185.199.109.133, 185.199.110.133, ...\n",
            "Connecting to raw.githubusercontent.com (raw.githubusercontent.com)|185.199.108.133|:443... connected.\n",
            "HTTP request sent, awaiting response... 200 OK\n",
            "Length: 2782 (2.7K) [text/plain]\n",
            "Saving to: ‘flawed_iris.csv’\n",
            "\n",
            "\rflawed_iris.csv       0%[                    ]       0  --.-KB/s               \rflawed_iris.csv     100%[===================>]   2.72K  --.-KB/s    in 0s      \n",
            "\n",
            "2021-11-26 06:39:32 (48.0 MB/s) - ‘flawed_iris.csv’ saved [2782/2782]\n",
            "\n"
          ]
        }
      ]
    },
    {
      "cell_type": "markdown",
      "metadata": {
        "id": "kGw4Zmn-9on8"
      },
      "source": [
        "```\n",
        "추가된 컬럼 삭제 or 카테고리성 데이터 처리\n",
        "결측치, 이상치 제거\n",
        "```"
      ]
    },
    {
      "cell_type": "code",
      "metadata": {
        "id": "95dRpZwmrirs",
        "colab": {
          "base_uri": "https://localhost:8080/",
          "height": 206
        },
        "outputId": "e0f1fcb9-c188-4235-a769-3ec7c1cbde63"
      },
      "source": [
        "flawed_iris = pd.read_csv(\"flawed_iris.csv\")\n",
        "flawed_iris.head()"
      ],
      "execution_count": 39,
      "outputs": [
        {
          "output_type": "execute_result",
          "data": {
            "text/html": [
              "<div>\n",
              "<style scoped>\n",
              "    .dataframe tbody tr th:only-of-type {\n",
              "        vertical-align: middle;\n",
              "    }\n",
              "\n",
              "    .dataframe tbody tr th {\n",
              "        vertical-align: top;\n",
              "    }\n",
              "\n",
              "    .dataframe thead th {\n",
              "        text-align: right;\n",
              "    }\n",
              "</style>\n",
              "<table border=\"1\" class=\"dataframe\">\n",
              "  <thead>\n",
              "    <tr style=\"text-align: right;\">\n",
              "      <th></th>\n",
              "      <th>septal_length</th>\n",
              "      <th>septal_width</th>\n",
              "      <th>petal_length</th>\n",
              "      <th>petal_width</th>\n",
              "      <th>color</th>\n",
              "      <th>class</th>\n",
              "    </tr>\n",
              "  </thead>\n",
              "  <tbody>\n",
              "    <tr>\n",
              "      <th>0</th>\n",
              "      <td>6.4</td>\n",
              "      <td>2.8</td>\n",
              "      <td>5.6</td>\n",
              "      <td>2.2</td>\n",
              "      <td>light</td>\n",
              "      <td>2.0</td>\n",
              "    </tr>\n",
              "    <tr>\n",
              "      <th>1</th>\n",
              "      <td>5.0</td>\n",
              "      <td>2.3</td>\n",
              "      <td>3.3</td>\n",
              "      <td>1.0</td>\n",
              "      <td>medium</td>\n",
              "      <td>1.0</td>\n",
              "    </tr>\n",
              "    <tr>\n",
              "      <th>2</th>\n",
              "      <td>4.9</td>\n",
              "      <td>2.5</td>\n",
              "      <td>4.5</td>\n",
              "      <td>1.7</td>\n",
              "      <td>medium</td>\n",
              "      <td>2.0</td>\n",
              "    </tr>\n",
              "    <tr>\n",
              "      <th>3</th>\n",
              "      <td>4.9</td>\n",
              "      <td>3.1</td>\n",
              "      <td>1.5</td>\n",
              "      <td>0.1</td>\n",
              "      <td>dark</td>\n",
              "      <td>0.0</td>\n",
              "    </tr>\n",
              "    <tr>\n",
              "      <th>4</th>\n",
              "      <td>5.7</td>\n",
              "      <td>3.8</td>\n",
              "      <td>1.7</td>\n",
              "      <td>0.3</td>\n",
              "      <td>dark</td>\n",
              "      <td>0.0</td>\n",
              "    </tr>\n",
              "  </tbody>\n",
              "</table>\n",
              "</div>"
            ],
            "text/plain": [
              "   septal_length septal_width  petal_length  petal_width   color  class\n",
              "0            6.4          2.8           5.6          2.2   light    2.0\n",
              "1            5.0          2.3           3.3          1.0  medium    1.0\n",
              "2            4.9          2.5           4.5          1.7  medium    2.0\n",
              "3            4.9          3.1           1.5          0.1    dark    0.0\n",
              "4            5.7          3.8           1.7          0.3    dark    0.0"
            ]
          },
          "metadata": {},
          "execution_count": 39
        }
      ]
    },
    {
      "cell_type": "code",
      "metadata": {
        "colab": {
          "base_uri": "https://localhost:8080/"
        },
        "id": "nY-Oss_G-WYE",
        "outputId": "3185109c-d6cf-473b-d8d6-f7bd9137e8da"
      },
      "source": [
        "flawed_iris.info()"
      ],
      "execution_count": 40,
      "outputs": [
        {
          "output_type": "stream",
          "name": "stdout",
          "text": [
            "<class 'pandas.core.frame.DataFrame'>\n",
            "RangeIndex: 120 entries, 0 to 119\n",
            "Data columns (total 6 columns):\n",
            " #   Column         Non-Null Count  Dtype  \n",
            "---  ------         --------------  -----  \n",
            " 0   septal_length  117 non-null    float64\n",
            " 1   septal_width   118 non-null    object \n",
            " 2   petal_length   117 non-null    float64\n",
            " 3   petal_width    118 non-null    float64\n",
            " 4   color          117 non-null    object \n",
            " 5   class          119 non-null    float64\n",
            "dtypes: float64(4), object(2)\n",
            "memory usage: 5.8+ KB\n"
          ]
        }
      ]
    },
    {
      "cell_type": "code",
      "metadata": {
        "colab": {
          "base_uri": "https://localhost:8080/",
          "height": 300
        },
        "id": "amJqQTFl-ZWo",
        "outputId": "25af6435-c58d-40fd-ab78-43cb9f2ef5a5"
      },
      "source": [
        "flawed_iris.describe()"
      ],
      "execution_count": 41,
      "outputs": [
        {
          "output_type": "execute_result",
          "data": {
            "text/html": [
              "<div>\n",
              "<style scoped>\n",
              "    .dataframe tbody tr th:only-of-type {\n",
              "        vertical-align: middle;\n",
              "    }\n",
              "\n",
              "    .dataframe tbody tr th {\n",
              "        vertical-align: top;\n",
              "    }\n",
              "\n",
              "    .dataframe thead th {\n",
              "        text-align: right;\n",
              "    }\n",
              "</style>\n",
              "<table border=\"1\" class=\"dataframe\">\n",
              "  <thead>\n",
              "    <tr style=\"text-align: right;\">\n",
              "      <th></th>\n",
              "      <th>septal_length</th>\n",
              "      <th>petal_length</th>\n",
              "      <th>petal_width</th>\n",
              "      <th>class</th>\n",
              "    </tr>\n",
              "  </thead>\n",
              "  <tbody>\n",
              "    <tr>\n",
              "      <th>count</th>\n",
              "      <td>117.000000</td>\n",
              "      <td>117.000000</td>\n",
              "      <td>118.000000</td>\n",
              "      <td>119.000000</td>\n",
              "    </tr>\n",
              "    <tr>\n",
              "      <th>mean</th>\n",
              "      <td>5.809402</td>\n",
              "      <td>3.523077</td>\n",
              "      <td>1.683051</td>\n",
              "      <td>0.957983</td>\n",
              "    </tr>\n",
              "    <tr>\n",
              "      <th>std</th>\n",
              "      <td>1.597735</td>\n",
              "      <td>2.102682</td>\n",
              "      <td>3.172567</td>\n",
              "      <td>0.817136</td>\n",
              "    </tr>\n",
              "    <tr>\n",
              "      <th>min</th>\n",
              "      <td>-5.800000</td>\n",
              "      <td>-6.100000</td>\n",
              "      <td>-1.000000</td>\n",
              "      <td>0.000000</td>\n",
              "    </tr>\n",
              "    <tr>\n",
              "      <th>25%</th>\n",
              "      <td>5.000000</td>\n",
              "      <td>1.500000</td>\n",
              "      <td>0.300000</td>\n",
              "      <td>0.000000</td>\n",
              "    </tr>\n",
              "    <tr>\n",
              "      <th>50%</th>\n",
              "      <td>5.800000</td>\n",
              "      <td>4.200000</td>\n",
              "      <td>1.350000</td>\n",
              "      <td>1.000000</td>\n",
              "    </tr>\n",
              "    <tr>\n",
              "      <th>75%</th>\n",
              "      <td>6.400000</td>\n",
              "      <td>5.100000</td>\n",
              "      <td>1.900000</td>\n",
              "      <td>2.000000</td>\n",
              "    </tr>\n",
              "    <tr>\n",
              "      <th>max</th>\n",
              "      <td>14.500000</td>\n",
              "      <td>6.900000</td>\n",
              "      <td>23.300000</td>\n",
              "      <td>2.000000</td>\n",
              "    </tr>\n",
              "  </tbody>\n",
              "</table>\n",
              "</div>"
            ],
            "text/plain": [
              "       septal_length  petal_length  petal_width       class\n",
              "count     117.000000    117.000000   118.000000  119.000000\n",
              "mean        5.809402      3.523077     1.683051    0.957983\n",
              "std         1.597735      2.102682     3.172567    0.817136\n",
              "min        -5.800000     -6.100000    -1.000000    0.000000\n",
              "25%         5.000000      1.500000     0.300000    0.000000\n",
              "50%         5.800000      4.200000     1.350000    1.000000\n",
              "75%         6.400000      5.100000     1.900000    2.000000\n",
              "max        14.500000      6.900000    23.300000    2.000000"
            ]
          },
          "metadata": {},
          "execution_count": 41
        }
      ]
    },
    {
      "cell_type": "code",
      "metadata": {
        "colab": {
          "base_uri": "https://localhost:8080/"
        },
        "id": "afvrrty_-vbA",
        "outputId": "71dd61ba-75c9-4ffa-dee1-1c6867fef091"
      },
      "source": [
        "flawed_iris.isnull().any()"
      ],
      "execution_count": 42,
      "outputs": [
        {
          "output_type": "execute_result",
          "data": {
            "text/plain": [
              "septal_length    True\n",
              "septal_width     True\n",
              "petal_length     True\n",
              "petal_width      True\n",
              "color            True\n",
              "class            True\n",
              "dtype: bool"
            ]
          },
          "metadata": {},
          "execution_count": 42
        }
      ]
    },
    {
      "cell_type": "code",
      "metadata": {
        "colab": {
          "base_uri": "https://localhost:8080/"
        },
        "id": "W84qOuQK-eLv",
        "outputId": "329eb168-08cc-418d-9784-aa548cad3d39"
      },
      "source": [
        "flawed_iris.isnull().sum()"
      ],
      "execution_count": 43,
      "outputs": [
        {
          "output_type": "execute_result",
          "data": {
            "text/plain": [
              "septal_length    3\n",
              "septal_width     2\n",
              "petal_length     3\n",
              "petal_width      2\n",
              "color            3\n",
              "class            1\n",
              "dtype: int64"
            ]
          },
          "metadata": {},
          "execution_count": 43
        }
      ]
    },
    {
      "cell_type": "code",
      "metadata": {
        "colab": {
          "base_uri": "https://localhost:8080/"
        },
        "id": "ud7uSjiV_IcH",
        "outputId": "f889c1b6-7b2e-4c8d-f840-d5ee7994d6eb"
      },
      "source": [
        "# color 카테고리 컬럼 삭제\n",
        "flawed_iris.drop(columns='color', inplace=True)\n",
        "flawed_iris.info()"
      ],
      "execution_count": 44,
      "outputs": [
        {
          "output_type": "stream",
          "name": "stdout",
          "text": [
            "<class 'pandas.core.frame.DataFrame'>\n",
            "RangeIndex: 120 entries, 0 to 119\n",
            "Data columns (total 5 columns):\n",
            " #   Column         Non-Null Count  Dtype  \n",
            "---  ------         --------------  -----  \n",
            " 0   septal_length  117 non-null    float64\n",
            " 1   septal_width   118 non-null    object \n",
            " 2   petal_length   117 non-null    float64\n",
            " 3   petal_width    118 non-null    float64\n",
            " 4   class          119 non-null    float64\n",
            "dtypes: float64(4), object(1)\n",
            "memory usage: 4.8+ KB\n"
          ]
        }
      ]
    },
    {
      "cell_type": "code",
      "metadata": {
        "colab": {
          "base_uri": "https://localhost:8080/"
        },
        "id": "wmXsRI9E_dc8",
        "outputId": "7c492503-425b-4e5e-c412-1bf5691a46c4"
      },
      "source": [
        "# null 데이터 전체 삭제\n",
        "flawed_iris.dropna(inplace=True)\n",
        "flawed_iris.isnull().any()"
      ],
      "execution_count": 45,
      "outputs": [
        {
          "output_type": "execute_result",
          "data": {
            "text/plain": [
              "septal_length    False\n",
              "septal_width     False\n",
              "petal_length     False\n",
              "petal_width      False\n",
              "class            False\n",
              "dtype: bool"
            ]
          },
          "metadata": {},
          "execution_count": 45
        }
      ]
    },
    {
      "cell_type": "code",
      "metadata": {
        "colab": {
          "base_uri": "https://localhost:8080/"
        },
        "id": "UNskmGFXAcqc",
        "outputId": "609c62e2-e8de-436c-96f6-8a3becaa746e"
      },
      "source": [
        "flawed_iris.info()"
      ],
      "execution_count": 46,
      "outputs": [
        {
          "output_type": "stream",
          "name": "stdout",
          "text": [
            "<class 'pandas.core.frame.DataFrame'>\n",
            "Int64Index: 109 entries, 0 to 119\n",
            "Data columns (total 5 columns):\n",
            " #   Column         Non-Null Count  Dtype  \n",
            "---  ------         --------------  -----  \n",
            " 0   septal_length  109 non-null    float64\n",
            " 1   septal_width   109 non-null    object \n",
            " 2   petal_length   109 non-null    float64\n",
            " 3   petal_width    109 non-null    float64\n",
            " 4   class          109 non-null    float64\n",
            "dtypes: float64(4), object(1)\n",
            "memory usage: 5.1+ KB\n"
          ]
        }
      ]
    },
    {
      "cell_type": "code",
      "metadata": {
        "colab": {
          "base_uri": "https://localhost:8080/"
        },
        "id": "vafEoWxaBCCu",
        "outputId": "b972c901-3352-441a-d51c-b1e62bbd83c1"
      },
      "source": [
        "flawed_iris.septal_width = flawed_iris.septal_width.astype(float)\n",
        "flawed_iris.info()"
      ],
      "execution_count": 49,
      "outputs": [
        {
          "output_type": "stream",
          "name": "stdout",
          "text": [
            "<class 'pandas.core.frame.DataFrame'>\n",
            "Int64Index: 109 entries, 0 to 119\n",
            "Data columns (total 5 columns):\n",
            " #   Column         Non-Null Count  Dtype  \n",
            "---  ------         --------------  -----  \n",
            " 0   septal_length  109 non-null    float64\n",
            " 1   septal_width   109 non-null    float64\n",
            " 2   petal_length   109 non-null    float64\n",
            " 3   petal_width    109 non-null    float64\n",
            " 4   class          109 non-null    float64\n",
            "dtypes: float64(5)\n",
            "memory usage: 5.1 KB\n"
          ]
        }
      ]
    },
    {
      "cell_type": "code",
      "metadata": {
        "colab": {
          "base_uri": "https://localhost:8080/"
        },
        "id": "3ITtY5SoBBtH",
        "outputId": "f2525703-dfc0-4e2e-d07b-1caacad14039"
      },
      "source": [
        "flawed_iris['class'] = flawed_iris['class'].astype(int)\n",
        "flawed_iris.info()"
      ],
      "execution_count": 50,
      "outputs": [
        {
          "output_type": "stream",
          "name": "stdout",
          "text": [
            "<class 'pandas.core.frame.DataFrame'>\n",
            "Int64Index: 109 entries, 0 to 119\n",
            "Data columns (total 5 columns):\n",
            " #   Column         Non-Null Count  Dtype  \n",
            "---  ------         --------------  -----  \n",
            " 0   septal_length  109 non-null    float64\n",
            " 1   septal_width   109 non-null    float64\n",
            " 2   petal_length   109 non-null    float64\n",
            " 3   petal_width    109 non-null    float64\n",
            " 4   class          109 non-null    int64  \n",
            "dtypes: float64(4), int64(1)\n",
            "memory usage: 5.1 KB\n"
          ]
        }
      ]
    },
    {
      "cell_type": "markdown",
      "metadata": {
        "id": "agXmEr5B_I7u"
      },
      "source": [
        "### ML\n"
      ]
    },
    {
      "cell_type": "code",
      "metadata": {
        "id": "P5OBkri2ssI2",
        "colab": {
          "base_uri": "https://localhost:8080/"
        },
        "outputId": "2641cd3f-7bad-4f1f-e7b4-32de06ab0248"
      },
      "source": [
        "data = flawed_iris.to_numpy()\n",
        "print(data.shape)\n",
        "print(data[:5])"
      ],
      "execution_count": 51,
      "outputs": [
        {
          "output_type": "stream",
          "name": "stdout",
          "text": [
            "(109, 5)\n",
            "[[6.4 2.8 5.6 2.2 2. ]\n",
            " [5.  2.3 3.3 1.  1. ]\n",
            " [4.9 2.5 4.5 1.7 2. ]\n",
            " [4.9 3.1 1.5 0.1 0. ]\n",
            " [5.7 3.8 1.7 0.3 0. ]]\n"
          ]
        }
      ]
    },
    {
      "cell_type": "code",
      "metadata": {
        "id": "64VZ6W65sg5H",
        "colab": {
          "base_uri": "https://localhost:8080/"
        },
        "outputId": "d5d42582-6d19-468c-a127-69e63eedf033"
      },
      "source": [
        "x = data[:,:4]\n",
        "y = data[:,4:]\n",
        "\n",
        "split_index = 100\n",
        "\n",
        "train_x, test_x = x[:split_index], x[split_index:]\n",
        "train_y, test_y = y[:split_index], y[split_index:]\n",
        "\n",
        "print(train_x.shape)\n",
        "print(train_y.shape)\n",
        "print(test_x.shape)\n",
        "print(test_y.shape)"
      ],
      "execution_count": 52,
      "outputs": [
        {
          "output_type": "stream",
          "name": "stdout",
          "text": [
            "(100, 4)\n",
            "(100, 1)\n",
            "(9, 4)\n",
            "(9, 1)\n"
          ]
        }
      ]
    },
    {
      "cell_type": "code",
      "metadata": {
        "id": "0SwCtBLbtCgt",
        "colab": {
          "base_uri": "https://localhost:8080/"
        },
        "outputId": "c4fc2632-9dd8-402a-82e4-43aeb371ed24"
      },
      "source": [
        "model = keras.Sequential()\n",
        "model.add(Dense(10, activation='relu', input_shape=(4,)))\n",
        "model.add(Dense(10, activation='relu'))\n",
        "model.add(Dense(3, activation=\"softmax\")) # 1이 아니고 클래스 수 3이다\n",
        "\n",
        "# model.compile(optimizer=\"SGD\", loss=\"categorical_crossentropy\", metrics=[\"accuracy\"])\n",
        "model.compile(optimizer=\"SGD\", loss=\"sparse_categorical_crossentropy\", metrics=[\"accuracy\"])\n",
        "model.summary()\n",
        "\n",
        "model.fit(train_x, train_y, epochs=1000, verbose=0, batch_size=20)\n",
        "\n",
        "loss, acc = model.evaluate(test_x, test_y)\n",
        "print(\"loss=\", loss)\n",
        "print(\"acc=\", acc)\n",
        "              \n"
      ],
      "execution_count": 57,
      "outputs": [
        {
          "output_type": "stream",
          "name": "stdout",
          "text": [
            "Model: \"sequential_6\"\n",
            "_________________________________________________________________\n",
            " Layer (type)                Output Shape              Param #   \n",
            "=================================================================\n",
            " dense_18 (Dense)            (None, 10)                50        \n",
            "                                                                 \n",
            " dense_19 (Dense)            (None, 10)                110       \n",
            "                                                                 \n",
            " dense_20 (Dense)            (None, 3)                 33        \n",
            "                                                                 \n",
            "=================================================================\n",
            "Total params: 193\n",
            "Trainable params: 193\n",
            "Non-trainable params: 0\n",
            "_________________________________________________________________\n",
            "1/1 [==============================] - 0s 104ms/step - loss: 0.1366 - accuracy: 0.8889\n",
            "loss= 0.13655050098896027\n",
            "acc= 0.8888888955116272\n"
          ]
        }
      ]
    },
    {
      "cell_type": "code",
      "metadata": {
        "id": "UbanwtJYuU3z",
        "colab": {
          "base_uri": "https://localhost:8080/"
        },
        "outputId": "210aec4c-0e2b-49b2-cf82-6c85dfe588da"
      },
      "source": [
        "y_ = model.predict(test_x)\n",
        "print(y_)\n",
        "print(np.argmax(y_, axis=1))"
      ],
      "execution_count": 55,
      "outputs": [
        {
          "output_type": "stream",
          "name": "stdout",
          "text": [
            "[[2.0619889e-06 3.7133968e-01 6.2865829e-01]\n",
            " [6.2921448e-05 9.6769321e-01 3.2243997e-02]\n",
            " [9.9377257e-01 1.5139990e-03 4.7134534e-03]\n",
            " [5.1070299e-09 1.4416112e-02 9.8558390e-01]\n",
            " [9.9822420e-01 4.8085640e-04 1.2949773e-03]\n",
            " [1.6331625e-05 8.1785947e-01 1.8212414e-01]\n",
            " [9.9514019e-01 1.3507839e-03 3.5089601e-03]\n",
            " [9.9605042e-01 9.4928429e-04 3.0002440e-03]\n",
            " [1.0254380e-02 7.2422260e-01 2.6552305e-01]]\n",
            "[2 1 0 2 0 1 0 0 1]\n"
          ]
        }
      ]
    },
    {
      "cell_type": "code",
      "metadata": {
        "id": "5CyFXhlrubUQ"
      },
      "source": [
        ""
      ],
      "execution_count": null,
      "outputs": []
    }
  ]
}